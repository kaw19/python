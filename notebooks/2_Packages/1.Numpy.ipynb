{
 "cells": [
  {
   "cell_type": "markdown",
   "metadata": {
    "slideshow": {
     "slide_type": "slide"
    },
    "tags": [
     "0."
    ]
   },
   "source": [
    "# Módulos Científicos"
   ]
  },
  {
   "cell_type": "markdown",
   "metadata": {
    "slideshow": {
     "slide_type": "slide"
    },
    "tags": [
     "2."
    ]
   },
   "source": [
    "## Numpy\n",
    "<img src=\"img/numpy.png\" alt=\"Logo do pacote NumPy\" style=\"width:300px;height:150px;\">"
   ]
  },
  {
   "cell_type": "markdown",
   "metadata": {},
   "source": [
    "A linguagem Python armazena dados de várias maneiras diferentes, mas o jeito mais comum é o uso de **listas** e **dicionários**. O objeto **list** do Python pode armazenar praticamente qualquer tipo de objeto como elemento. Mas uma operação nos elementos de uma lista só pode ser feita através de laços iterativos, que são computacionalmente ineficientes no Python. O pacote **NumPy** permite que os usuários superem as deficiências das listas, provendo um objeto de armazenamento de dados chamado **ndarray**, que armazena uma matriz N-dimensional (_ndarray_) de tamanho fixo e com itens do mesmo tipo e tamanho.\n",
    "\n",
    "O **NumPy** é um pacote fundamental para se fazer computação científica na linguagem Python, e sua documentação oficial pode ser consultada [aqui](https://numpy.org/doc/stable/reference/arrays.ndarray.html).\n",
    "\n",
    "Algumas características importantes do **Numpy**: \n",
    "<ul><li>Facilidades para manipulação de matrizes <b>N</b>-dimensionais</li>\n",
    "    <li>Funções com operações do tipo elemento-a-elemento (<i>broadcasting</i>)</li>\n",
    "<li>Possui ferramentas para encapsular códigos C/C++ e Fortran</li>\n",
    "<li>Possui submódulos de funções específicas para Álgebra Linear (alglin), para Transformada de Fourier (fourier) e para Números Aleatórios (random).</li></ul>\n",
    "\n",
    "Além do uso científico, o **NumPy** também pode ser usado como um contêiner multidimensional eficiente para dados genéricos. Tipos de dados arbitrários (estruturas de dados - registros) podem ser definidos. Isso permite ao **NumPy** fácil e rápida integração a uma ampla variedade de bancos de dados. A seguir veremos como usar o pacote **NumPy** na manipulação de arranjos matriciais (*ndarray*).\n",
    "\n",
    "Antes de mais nada, precisamos importar o pacote **NumPy** para só então usarmos suas classes, funções e demais recursos. Vamos aproveitar para saber a versão instalada desse pacote"
   ]
  },
  {
   "cell_type": "code",
   "execution_count": 2,
   "metadata": {
    "scrolled": true
   },
   "outputs": [
    {
     "data": {
      "text/plain": [
       "'1.21.2'"
      ]
     },
     "execution_count": 2,
     "metadata": {},
     "output_type": "execute_result"
    }
   ],
   "source": [
    "import numpy as np\n",
    "np.__version__"
   ]
  },
  {
   "cell_type": "markdown",
   "metadata": {},
   "source": [
    "Criando um arranjo unidimensional (vetor) a partir de uma lista de elementos inteiros, usando a função **`array()`**:"
   ]
  },
  {
   "cell_type": "code",
   "execution_count": 3,
   "metadata": {},
   "outputs": [
    {
     "data": {
      "text/plain": [
       "array([4, 5, 6, 7])"
      ]
     },
     "execution_count": 3,
     "metadata": {},
     "output_type": "execute_result"
    }
   ],
   "source": [
    "np.array([4,5,6,7])  # converte uma lista com valores inteiros num vetor (array) de valores inteiros"
   ]
  },
  {
   "cell_type": "markdown",
   "metadata": {},
   "source": [
    "Criando um arranjo bidimensional (matriz) com elementos do tipo real a partir de uma lista de elementos inteiros:"
   ]
  },
  {
   "cell_type": "code",
   "execution_count": 4,
   "metadata": {
    "scrolled": true
   },
   "outputs": [
    {
     "data": {
      "text/plain": [
       "array([[ 4.,  5.,  6.],\n",
       "       [ 7.,  8.,  9.],\n",
       "       [10., 11., 12.]])"
      ]
     },
     "execution_count": 4,
     "metadata": {},
     "output_type": "execute_result"
    }
   ],
   "source": [
    "np.array([[4,5,6],[7,8,9],[10,11,12]], dtype = float)"
   ]
  },
  {
   "cell_type": "markdown",
   "metadata": {},
   "source": [
    "Verificando a forma de um arranjo (quantidade de linhas e de colunas da matriz), usando a propriedade **`shape`**:"
   ]
  },
  {
   "cell_type": "code",
   "execution_count": 8,
   "metadata": {},
   "outputs": [
    {
     "name": "stdout",
     "output_type": "stream",
     "text": [
      "[[ 4.  5.  6.]\n",
      " [ 7.  8.  9.]\n",
      " [10. 11. 12.]\n",
      " [13. 14. 15.]]\n"
     ]
    },
    {
     "data": {
      "text/plain": [
       "(4, 3)"
      ]
     },
     "execution_count": 8,
     "metadata": {},
     "output_type": "execute_result"
    }
   ],
   "source": [
    "mat = np.array([[4,5,6],[7,8,9],[10,11,12],[13,14,15]], dtype = float)\n",
    "print(mat)\n",
    "mat.shape"
   ]
  },
  {
   "cell_type": "markdown",
   "metadata": {},
   "source": [
    "Criando um vetor com valores de 1 a 59, uniformemente espaçados de 2 em 2, usando a função **`arange()`**:"
   ]
  },
  {
   "cell_type": "code",
   "execution_count": 5,
   "metadata": {},
   "outputs": [
    {
     "name": "stdout",
     "output_type": "stream",
     "text": [
      "[ 1  3  5  7  9 11 13 15 17 19 21 23 25 27 29 31 33 35 37 39 41 43 45 47\n",
      " 49 51 53 55 57 59]\n",
      "(30,)\n"
     ]
    }
   ],
   "source": [
    "faixa = np.arange(1,60,2)\n",
    "print(faixa)\n",
    "print(faixa.shape)"
   ]
  },
  {
   "cell_type": "markdown",
   "metadata": {},
   "source": [
    "Mudando a **forma de apresentação** de um arranjo (não há mudança na memória), por exemplo, de vetor para matriz:"
   ]
  },
  {
   "cell_type": "code",
   "execution_count": 7,
   "metadata": {},
   "outputs": [
    {
     "name": "stdout",
     "output_type": "stream",
     "text": [
      "[[ 1  3  5  7  9 11 13 15 17 19 21 23 25 27 29]\n",
      " [31 33 35 37 39 41 43 45 47 49 51 53 55 57 59]]\n"
     ]
    },
    {
     "data": {
      "text/plain": [
       "(30,)"
      ]
     },
     "execution_count": 7,
     "metadata": {},
     "output_type": "execute_result"
    }
   ],
   "source": [
    "print(faixa.reshape(2,15))\n",
    "faixa.shape"
   ]
  },
  {
   "cell_type": "markdown",
   "metadata": {},
   "source": [
    "Gerando um vetor com 15 valores uniformemente espaçados de 1 a 8 (limites inclusivos), usando a função **`linspace()`**:"
   ]
  },
  {
   "cell_type": "code",
   "execution_count": 9,
   "metadata": {},
   "outputs": [
    {
     "name": "stdout",
     "output_type": "stream",
     "text": [
      "[1.  1.5 2.  2.5 3.  3.5 4.  4.5 5.  5.5 6.  6.5 7.  7.5 8. ]\n",
      "1.0 1.5 2.0 2.5 3.0 3.5 4.0 4.5 5.0 5.5 6.0 6.5 7.0 7.5 8.0 "
     ]
    },
    {
     "data": {
      "text/plain": [
       "(15,)"
      ]
     },
     "execution_count": 9,
     "metadata": {},
     "output_type": "execute_result"
    }
   ],
   "source": [
    "x = np.linspace(1,8,15)\n",
    "print(x)\n",
    "for i in x:\n",
    "    print(f\"{i:3.1f}\", end=', ')\n",
    "x.shape"
   ]
  },
  {
   "cell_type": "markdown",
   "metadata": {},
   "source": [
    "Agora, vamos alterar a forma do vetor na memória (a função **`resize()`** altera a forma da matriz na memória, ao contrário da função **`reshape()`** que só muda a forma na apresentação da informação)."
   ]
  },
  {
   "cell_type": "code",
   "execution_count": 14,
   "metadata": {},
   "outputs": [
    {
     "name": "stdout",
     "output_type": "stream",
     "text": [
      "(15,)\n",
      "[[1.  1.5 2. ]\n",
      " [2.5 3.  3.5]\n",
      " [4.  4.5 5. ]\n",
      " [5.5 6.  6.5]\n",
      " [7.  7.5 8. ]]\n"
     ]
    },
    {
     "data": {
      "text/plain": [
       "(5, 3)"
      ]
     },
     "execution_count": 14,
     "metadata": {},
     "output_type": "execute_result"
    }
   ],
   "source": [
    "print(x.shape)\n",
    "x.resize(5,3)\n",
    "print(x)\n",
    "x.shape"
   ]
  },
  {
   "cell_type": "markdown",
   "metadata": {},
   "source": [
    "Criando um arranjo com todos os elementos iguais a um, usando a função **`ones()`**, e outro vetor com elementos iguais a zero, usando a função **`zeros()`**:"
   ]
  },
  {
   "cell_type": "code",
   "execution_count": 11,
   "metadata": {},
   "outputs": [
    {
     "data": {
      "text/plain": [
       "array([[[10., 10., 10.],\n",
       "        [10., 10., 10.],\n",
       "        [10., 10., 10.]],\n",
       "\n",
       "       [[10., 10., 10.],\n",
       "        [10., 10., 10.],\n",
       "        [10., 10., 10.]],\n",
       "\n",
       "       [[10., 10., 10.],\n",
       "        [10., 10., 10.],\n",
       "        [10., 10., 10.]]])"
      ]
     },
     "execution_count": 11,
     "metadata": {},
     "output_type": "execute_result"
    }
   ],
   "source": [
    "y = np.ones((3,3,3)) * 10\n",
    "y"
   ]
  },
  {
   "cell_type": "code",
   "execution_count": 17,
   "metadata": {},
   "outputs": [
    {
     "data": {
      "text/plain": [
       "array([[0., 0., 0., 0., 0.],\n",
       "       [0., 0., 0., 0., 0.]])"
      ]
     },
     "execution_count": 17,
     "metadata": {},
     "output_type": "execute_result"
    }
   ],
   "source": [
    "z = np.zeros((2,5))\n",
    "z"
   ]
  },
  {
   "cell_type": "markdown",
   "metadata": {},
   "source": [
    "Criando uma matriz diagonal unitária (matriz identidade), usando a função **`eye()`**:"
   ]
  },
  {
   "cell_type": "code",
   "execution_count": 12,
   "metadata": {},
   "outputs": [
    {
     "data": {
      "text/plain": [
       "array([[1., 0., 0., 0., 0.],\n",
       "       [0., 1., 0., 0., 0.],\n",
       "       [0., 0., 1., 0., 0.],\n",
       "       [0., 0., 0., 1., 0.],\n",
       "       [0., 0., 0., 0., 1.]])"
      ]
     },
     "execution_count": 12,
     "metadata": {},
     "output_type": "execute_result"
    }
   ],
   "source": [
    "diag = np.eye(5)\n",
    "diag"
   ]
  },
  {
   "cell_type": "code",
   "execution_count": 12,
   "metadata": {},
   "outputs": [
    {
     "name": "stdout",
     "output_type": "stream",
     "text": [
      "[[1. 0. 0. 0.]\n",
      " [0. 1. 0. 0.]\n",
      " [0. 0. 1. 0.]\n",
      " [0. 0. 0. 1.]]\n"
     ]
    }
   ],
   "source": [
    "print(diag)"
   ]
  },
  {
   "cell_type": "markdown",
   "metadata": {},
   "source": [
    "Criando *arrays*: a partir da **repetição de uma lista**, usando o operador de repetição de lista, '*':"
   ]
  },
  {
   "cell_type": "code",
   "execution_count": 19,
   "metadata": {},
   "outputs": [
    {
     "data": {
      "text/plain": [
       "array([1, 2, 3, 1, 2, 3, 1, 2, 3, 1, 2, 3, 1, 2, 3])"
      ]
     },
     "execution_count": 19,
     "metadata": {},
     "output_type": "execute_result"
    }
   ],
   "source": [
    "r1 = np.array([1,2,3]*5)\n",
    "r1"
   ]
  },
  {
   "cell_type": "code",
   "execution_count": 13,
   "metadata": {},
   "outputs": [
    {
     "data": {
      "text/plain": [
       "array([1, 1, 1, 1, 2, 2, 2, 2, 3, 3, 3, 3])"
      ]
     },
     "execution_count": 13,
     "metadata": {},
     "output_type": "execute_result"
    }
   ],
   "source": [
    "r2 = np.repeat([1,2,3],4)\n",
    "r2"
   ]
  },
  {
   "cell_type": "markdown",
   "metadata": {},
   "source": [
    "Gerando dois *arrays* de dimensão 2x3, preenchidos com **valores aleatórios** entre 0 e 1, usando a função **`rand()`**:"
   ]
  },
  {
   "cell_type": "code",
   "execution_count": 19,
   "metadata": {},
   "outputs": [
    {
     "data": {
      "text/plain": [
       "(array([[0.44504115, 0.14762223, 0.13906056],\n",
       "        [0.48900803, 0.4027502 , 0.66197262]]),\n",
       " array([[0.3255595 , 0.03986782, 0.61125389],\n",
       "        [0.39912265, 0.60099673, 0.69557068]]))"
      ]
     },
     "execution_count": 19,
     "metadata": {},
     "output_type": "execute_result"
    }
   ],
   "source": [
    "a = np.random.rand(2,3)\n",
    "b = np.random.rand(2,3)\n",
    "a, b"
   ]
  },
  {
   "cell_type": "markdown",
   "metadata": {},
   "source": [
    "**Exercício**: Gerar seis números aleatórios de 1 a 60 para apostar na MegaSena."
   ]
  },
  {
   "cell_type": "code",
   "execution_count": 23,
   "metadata": {
    "scrolled": true
   },
   "outputs": [
    {
     "name": "stdout",
     "output_type": "stream",
     "text": [
      "[[20, 34, 50, 25, 12, 16]]\n"
     ]
    }
   ],
   "source": [
    "b = sorted(np.ndarray.tolist(np.int8(np.random.rand(1,6)*60) + 1))\n",
    "print(b)"
   ]
  },
  {
   "cell_type": "code",
   "execution_count": 66,
   "metadata": {},
   "outputs": [
    {
     "data": {
      "text/plain": [
       "4"
      ]
     },
     "execution_count": 66,
     "metadata": {},
     "output_type": "execute_result"
    }
   ],
   "source": [
    "np.random.randint(1,61)"
   ]
  },
  {
   "cell_type": "markdown",
   "metadata": {},
   "source": [
    "**Empilhando verticalmente** as duas matrizes criadas anteriormente, <b>a</b> e <b>b</b>, usando a função **`vpstack()`**:"
   ]
  },
  {
   "cell_type": "code",
   "execution_count": 68,
   "metadata": {
    "scrolled": true
   },
   "outputs": [
    {
     "data": {
      "text/plain": [
       "array([[0.49835818, 0.49188842],\n",
       "       [0.41224853, 0.52418799],\n",
       "       [0.98561481, 0.42530165],\n",
       "       [0.21603821, 0.15127303]])"
      ]
     },
     "execution_count": 68,
     "metadata": {},
     "output_type": "execute_result"
    }
   ],
   "source": [
    "a = np.random.rand(4,2)\n",
    "a"
   ]
  },
  {
   "cell_type": "code",
   "execution_count": 69,
   "metadata": {},
   "outputs": [
    {
     "data": {
      "text/plain": [
       "array([[0.18487387, 0.16820225],\n",
       "       [0.09368543, 0.33614999],\n",
       "       [0.26338709, 0.14140121],\n",
       "       [0.82113257, 0.45048114]])"
      ]
     },
     "execution_count": 69,
     "metadata": {},
     "output_type": "execute_result"
    }
   ],
   "source": [
    "b = np.random.rand(4,2)\n",
    "b"
   ]
  },
  {
   "cell_type": "code",
   "execution_count": 71,
   "metadata": {},
   "outputs": [
    {
     "name": "stdout",
     "output_type": "stream",
     "text": [
      "[[0.49835818 0.49188842]\n",
      " [0.41224853 0.52418799]\n",
      " [0.98561481 0.42530165]\n",
      " [0.21603821 0.15127303]\n",
      " [0.18487387 0.16820225]\n",
      " [0.09368543 0.33614999]\n",
      " [0.26338709 0.14140121]\n",
      " [0.82113257 0.45048114]] (8, 2)\n",
      "[[0.18487387 0.16820225]\n",
      " [0.09368543 0.33614999]\n",
      " [0.26338709 0.14140121]\n",
      " [0.82113257 0.45048114]\n",
      " [0.49835818 0.49188842]\n",
      " [0.41224853 0.52418799]\n",
      " [0.98561481 0.42530165]\n",
      " [0.21603821 0.15127303]]\n"
     ]
    }
   ],
   "source": [
    "vert = np.vstack([a,b])\n",
    "print(vert,vert.shape)\n",
    "print(np.vstack([b,a]))"
   ]
  },
  {
   "cell_type": "markdown",
   "metadata": {},
   "source": [
    "Agora, horizontalmente, usando a função **`hstack()`**:"
   ]
  },
  {
   "cell_type": "code",
   "execution_count": 72,
   "metadata": {
    "scrolled": true
   },
   "outputs": [
    {
     "name": "stdout",
     "output_type": "stream",
     "text": [
      "[[0.49835818 0.49188842 0.18487387 0.16820225]\n",
      " [0.41224853 0.52418799 0.09368543 0.33614999]\n",
      " [0.98561481 0.42530165 0.26338709 0.14140121]\n",
      " [0.21603821 0.15127303 0.82113257 0.45048114]]\n"
     ]
    },
    {
     "data": {
      "text/plain": [
       "array([[0.18487387, 0.16820225, 0.49835818, 0.49188842],\n",
       "       [0.09368543, 0.33614999, 0.41224853, 0.52418799],\n",
       "       [0.26338709, 0.14140121, 0.98561481, 0.42530165],\n",
       "       [0.82113257, 0.45048114, 0.21603821, 0.15127303]])"
      ]
     },
     "execution_count": 72,
     "metadata": {},
     "output_type": "execute_result"
    }
   ],
   "source": [
    "hor = np.hstack((a,b))\n",
    "print(hor)\n",
    "np.hstack((b,a))"
   ]
  },
  {
   "cell_type": "markdown",
   "metadata": {},
   "source": [
    "Vamos fazer algumas operações **elemento a elemento** (*element-wise*) ou **difusão** (*broadcast*) em arranjos de mesmas dimensões:"
   ]
  },
  {
   "cell_type": "code",
   "execution_count": 74,
   "metadata": {},
   "outputs": [
    {
     "data": {
      "text/plain": [
       "array([[1, 2],\n",
       "       [3, 4]])"
      ]
     },
     "execution_count": 74,
     "metadata": {},
     "output_type": "execute_result"
    }
   ],
   "source": [
    "A = np.array([[1, 2],[3, 4]])\n",
    "A"
   ]
  },
  {
   "cell_type": "code",
   "execution_count": 76,
   "metadata": {},
   "outputs": [
    {
     "data": {
      "text/plain": [
       "array([[-1, -2],\n",
       "       [-3, -4]])"
      ]
     },
     "execution_count": 76,
     "metadata": {},
     "output_type": "execute_result"
    }
   ],
   "source": [
    "B = -A                   # B é a matriz oposta a matriz A\n",
    "B"
   ]
  },
  {
   "cell_type": "code",
   "execution_count": 29,
   "metadata": {},
   "outputs": [
    {
     "data": {
      "text/plain": [
       "array([[0, 0],\n",
       "       [0, 0]])"
      ]
     },
     "execution_count": 29,
     "metadata": {},
     "output_type": "execute_result"
    }
   ],
   "source": [
    "A + B                    # soma elemento a elemento"
   ]
  },
  {
   "cell_type": "code",
   "execution_count": 31,
   "metadata": {},
   "outputs": [
    {
     "data": {
      "text/plain": [
       "array([[ -1,  -4],\n",
       "       [ -9, -16]])"
      ]
     },
     "execution_count": 31,
     "metadata": {},
     "output_type": "execute_result"
    }
   ],
   "source": [
    "A * B                    # multiplicação elemento a elemento --> não é multiplicação matricial!!"
   ]
  },
  {
   "cell_type": "code",
   "execution_count": 32,
   "metadata": {},
   "outputs": [
    {
     "data": {
      "text/plain": [
       "array([[ 1,  8],\n",
       "       [27, 64]], dtype=int32)"
      ]
     },
     "execution_count": 32,
     "metadata": {},
     "output_type": "execute_result"
    }
   ],
   "source": [
    "A**3                     # equivalente a A * A * A"
   ]
  },
  {
   "cell_type": "code",
   "execution_count": 75,
   "metadata": {
    "scrolled": true
   },
   "outputs": [
    {
     "data": {
      "text/plain": [
       "array([[ 1,  8],\n",
       "       [27, 64]])"
      ]
     },
     "execution_count": 75,
     "metadata": {},
     "output_type": "execute_result"
    }
   ],
   "source": [
    "A * A * A"
   ]
  },
  {
   "cell_type": "code",
   "execution_count": 77,
   "metadata": {},
   "outputs": [
    {
     "data": {
      "text/plain": [
       "array([[-1., -1.],\n",
       "       [-1., -1.]])"
      ]
     },
     "execution_count": 77,
     "metadata": {},
     "output_type": "execute_result"
    }
   ],
   "source": [
    "A / B"
   ]
  },
  {
   "cell_type": "markdown",
   "metadata": {},
   "source": [
    "**Multiplicação Matricial**:"
   ]
  },
  {
   "cell_type": "code",
   "execution_count": 36,
   "metadata": {},
   "outputs": [
    {
     "name": "stdout",
     "output_type": "stream",
     "text": [
      "A =\n",
      " [[1 2]\n",
      " [3 4]] \n",
      "B =\n",
      " [[-1 -2]\n",
      " [-3 -4]]\n",
      "A x B =\n",
      " [[ -7 -10]\n",
      " [-15 -22]]\n"
     ]
    }
   ],
   "source": [
    "print('A =\\n',A,\"\\nB =\\n\",B)\n",
    "print('A x B =\\n',A.dot(B))"
   ]
  },
  {
   "cell_type": "markdown",
   "metadata": {},
   "source": [
    "**Transposição matricial**:"
   ]
  },
  {
   "cell_type": "code",
   "execution_count": 78,
   "metadata": {},
   "outputs": [
    {
     "name": "stdout",
     "output_type": "stream",
     "text": [
      "[[1 2]\n",
      " [3 4]]\n",
      "[[1 3]\n",
      " [2 4]]\n",
      "[[1 3]\n",
      " [2 4]]\n",
      "[[1 3]\n",
      " [2 4]]\n"
     ]
    }
   ],
   "source": [
    "print(A)\n",
    "print(A.transpose())\n",
    "print(A.T)\n",
    "print(A.T.dot(np.eye(2,dtype=int)))   # [[1,3],[2,4]] x [[1,0],[0,1]]"
   ]
  },
  {
   "cell_type": "markdown",
   "metadata": {},
   "source": [
    "Agora, vamos verificar o tipo de dados dos elementos na matriz:"
   ]
  },
  {
   "cell_type": "code",
   "execution_count": 80,
   "metadata": {
    "scrolled": true
   },
   "outputs": [
    {
     "name": "stdout",
     "output_type": "stream",
     "text": [
      "[[1 2]\n",
      " [3 4]]\n",
      "[[0.49835818 0.49188842]\n",
      " [0.41224853 0.52418799]\n",
      " [0.98561481 0.42530165]\n",
      " [0.21603821 0.15127303]]\n",
      "int32 float64\n"
     ]
    }
   ],
   "source": [
    "print(A)\n",
    "print(a)\n",
    "print(A.dtype,a.dtype)"
   ]
  },
  {
   "cell_type": "markdown",
   "metadata": {},
   "source": [
    "Mudando o tipo de dados da matriz, de inteiro para ponto flutuante (*float*):"
   ]
  },
  {
   "cell_type": "code",
   "execution_count": 43,
   "metadata": {},
   "outputs": [
    {
     "data": {
      "text/plain": [
       "array([[1., 2.],\n",
       "       [3., 4.]], dtype=float32)"
      ]
     },
     "execution_count": 43,
     "metadata": {},
     "output_type": "execute_result"
    }
   ],
   "source": [
    "C = A.astype('f')\n",
    "C"
   ]
  },
  {
   "cell_type": "code",
   "execution_count": 28,
   "metadata": {},
   "outputs": [
    {
     "name": "stdout",
     "output_type": "stream",
     "text": [
      "[[1. 2.]\n",
      " [3. 4.]]\n"
     ]
    }
   ],
   "source": [
    "print(C)"
   ]
  },
  {
   "cell_type": "markdown",
   "metadata": {},
   "source": [
    "Agora, vamos ver algumas funções matemáticas aplicadas aos elementos de uma matriz, começando pela soma, depois valores máximo e mínimo, e por fim a média:"
   ]
  },
  {
   "cell_type": "code",
   "execution_count": 84,
   "metadata": {},
   "outputs": [
    {
     "name": "stdout",
     "output_type": "stream",
     "text": [
      "Soma dos elementos de A: 10\n",
      "Maior valor dos elementos de A: 4\n",
      "Menor valor dos elementos de A: 1\n",
      "Valor médio dos elementos de A: 2.5\n",
      "Desvio-padrão dos elementos de A: 1.118033988749895\n",
      "Variância dos elementos de A: 1.25\n"
     ]
    }
   ],
   "source": [
    "print(\"Soma dos elementos de A:\", A.sum())\n",
    "print(\"Maior valor dos elementos de A:\", A.max())\n",
    "print(\"Menor valor dos elementos de A:\", A.min())\n",
    "print(\"Valor médio dos elementos de A:\", A.mean())\n",
    "print(\"Desvio-padrão dos elementos de A:\", A.std())\n",
    "print(\"Variância dos elementos de A:\", A.var())"
   ]
  },
  {
   "cell_type": "markdown",
   "metadata": {},
   "source": [
    "Tabuada de 5, indexação e fatiamento:"
   ]
  },
  {
   "cell_type": "code",
   "execution_count": 38,
   "metadata": {},
   "outputs": [
    {
     "data": {
      "text/plain": [
       "array([ 0,  5, 10, 15, 20, 25, 30, 35, 40, 45, 50])"
      ]
     },
     "execution_count": 38,
     "metadata": {},
     "output_type": "execute_result"
    }
   ],
   "source": [
    "tab5 = np.arange(0,11)*5                          # ou: np.arange(0,51,5)\n",
    "tab5"
   ]
  },
  {
   "cell_type": "code",
   "execution_count": 40,
   "metadata": {},
   "outputs": [
    {
     "name": "stdout",
     "output_type": "stream",
     "text": [
      "[10 15 20]\n",
      "50\n",
      "[50 45 40 35 30 25 20 15 10  5  0]\n"
     ]
    }
   ],
   "source": [
    "print(tab5[2:5])\n",
    "print(tab5[-1])\n",
    "print(tab5[::-1])"
   ]
  },
  {
   "cell_type": "markdown",
   "metadata": {},
   "source": [
    "Criando um arranjo bidimensional a partir de um vetor:"
   ]
  },
  {
   "cell_type": "code",
   "execution_count": 32,
   "metadata": {},
   "outputs": [
    {
     "name": "stdout",
     "output_type": "stream",
     "text": [
      "[ 0  1  2  3  4  5  6  7  8  9 10 11 12 13 14 15 16 17 18 19 20]\n"
     ]
    },
    {
     "data": {
      "text/plain": [
       "array([[ 0,  1,  2,  3,  4,  5,  6],\n",
       "       [ 7,  8,  9, 10, 11, 12, 13],\n",
       "       [14, 15, 16, 17, 18, 19, 20]])"
      ]
     },
     "execution_count": 32,
     "metadata": {},
     "output_type": "execute_result"
    }
   ],
   "source": [
    "d = np.arange(21)\n",
    "print(d)\n",
    "d.reshape(3,7)"
   ]
  },
  {
   "cell_type": "code",
   "execution_count": 33,
   "metadata": {},
   "outputs": [
    {
     "data": {
      "text/plain": [
       "(21,)"
      ]
     },
     "execution_count": 33,
     "metadata": {},
     "output_type": "execute_result"
    }
   ],
   "source": [
    "d.shape"
   ]
  },
  {
   "cell_type": "code",
   "execution_count": 33,
   "metadata": {},
   "outputs": [
    {
     "name": "stdout",
     "output_type": "stream",
     "text": [
      "[ 0  1  2  3  4  5  6  7  8  9 10 11 12 13 14 15 16 17 18 19 20 21 22 23\n",
      " 24 25 26 27 28 29]\n",
      "[[ 0  1  2  3  4]\n",
      " [ 5  6  7  8  9]\n",
      " [10 11 12 13 14]\n",
      " [15 16 17 18 19]\n",
      " [20 21 22 23 24]\n",
      " [25 26 27 28 29]]\n"
     ]
    }
   ],
   "source": [
    "d = np.arange(30)\n",
    "print(d)\n",
    "d.resize(6,5)\n",
    "print(d)"
   ]
  },
  {
   "cell_type": "markdown",
   "metadata": {},
   "source": [
    "Acessando a quarta e quinta colunas da quarta linha da matriz **d**. Observe que a numeração das linhas e colunas começam em 0 (zero):"
   ]
  },
  {
   "cell_type": "code",
   "execution_count": 48,
   "metadata": {},
   "outputs": [
    {
     "name": "stdout",
     "output_type": "stream",
     "text": [
      "[18 19]\n"
     ]
    },
    {
     "data": {
      "text/plain": [
       "(6, 5)"
      ]
     },
     "execution_count": 48,
     "metadata": {},
     "output_type": "execute_result"
    }
   ],
   "source": [
    "print(d[3,3:5])\n",
    "d.shape"
   ]
  },
  {
   "cell_type": "markdown",
   "metadata": {},
   "source": [
    "Selecionando os valores maiores que 15 da matriz **d**, e atribuindo valor zero:"
   ]
  },
  {
   "cell_type": "code",
   "execution_count": 85,
   "metadata": {},
   "outputs": [
    {
     "name": "stdout",
     "output_type": "stream",
     "text": [
      "[16 17 18 19 20 21 22 23 24 25 26 27 28 29]\n",
      "16 17 18 19 20 21 22 23 24 25 26 27 28 29 "
     ]
    }
   ],
   "source": [
    "d = np.arange(30)\n",
    "print( d[d>15] )\n",
    "\n",
    "for i in d:\n",
    "    if i > 15:\n",
    "        print(i, end=' ')"
   ]
  },
  {
   "cell_type": "code",
   "execution_count": 86,
   "metadata": {},
   "outputs": [
    {
     "name": "stdout",
     "output_type": "stream",
     "text": [
      "[ 0  1  2  3  4  5  6  7  8  9 10 11 12 13 14 15 16 17 18 19 20 21 22 23\n",
      " 24 25 26 27 28 29]\n",
      "[ 0  1  2  3  4  5  6  7  8  9 10 11 12 13 14 15  0  0  0  0  0  0  0  0\n",
      "  0  0  0  0  0  0]\n"
     ]
    }
   ],
   "source": [
    "print(d)\n",
    "d[d>15] = 0\n",
    "print(d)"
   ]
  },
  {
   "cell_type": "markdown",
   "metadata": {},
   "source": [
    "Criando uma matriz 3x3 preenchida com números inteiros aleatórios entre 5 e 20:"
   ]
  },
  {
   "cell_type": "code",
   "execution_count": 37,
   "metadata": {},
   "outputs": [
    {
     "data": {
      "text/plain": [
       "array([[10, 14, 18],\n",
       "       [ 5, 10, 16],\n",
       "       [ 6, 18, 17]])"
      ]
     },
     "execution_count": 37,
     "metadata": {},
     "output_type": "execute_result"
    }
   ],
   "source": [
    "e = np.random.randint(5,20,(3,3))\n",
    "e"
   ]
  },
  {
   "cell_type": "markdown",
   "metadata": {},
   "source": [
    "### Construção Rápida de Arranjos\n",
    "\n",
    "Existem algumas instâncias de classe que fazem uso especial da funcionalidade do fatiamento (_slicing_) para fornecer meios eficientes na construção de arranjos (vetores, matrizes). Vamos ver a operação das funções **mgrid(), ogrid()** e dos comandos **r_ e c_** na construção rápida de arranjos. \n",
    "\n",
    "Por exemplo, ao invés de escrevermos:"
   ]
  },
  {
   "cell_type": "code",
   "execution_count": 38,
   "metadata": {},
   "outputs": [
    {
     "data": {
      "text/plain": [
       "array([ 3.        ,  0.        ,  0.        ,  0.        ,  0.        ,\n",
       "        0.        , -1.        , -0.77777778, -0.55555556, -0.33333333,\n",
       "       -0.11111111,  0.11111111,  0.33333333,  0.55555556,  0.77777778,\n",
       "        1.        ])"
      ]
     },
     "execution_count": 38,
     "metadata": {},
     "output_type": "execute_result"
    }
   ],
   "source": [
    "a = np.concatenate(([3], [0]*5, np.arange(-1, 1.002, 2/9.0)))\n",
    "a"
   ]
  },
  {
   "cell_type": "markdown",
   "metadata": {},
   "source": [
    "Usando o comando **r_** podemos fazer a concatenação ou mesclagem de linhas (*row-wise merging*) escrevendo apenas:"
   ]
  },
  {
   "cell_type": "code",
   "execution_count": 3,
   "metadata": {},
   "outputs": [
    {
     "data": {
      "text/plain": [
       "array([ 3.        ,  0.        ,  0.        ,  0.        ,  0.        ,\n",
       "        0.        , -1.        , -0.77777778, -0.55555556, -0.33333333,\n",
       "       -0.11111111,  0.11111111,  0.33333333,  0.55555556,  0.77777778,\n",
       "        1.        ])"
      ]
     },
     "execution_count": 3,
     "metadata": {},
     "output_type": "execute_result"
    }
   ],
   "source": [
    "# o resultado é o mesmo obtido na concatenação anterior!\n",
    "b = np.r_[3,[0]*5,-1:1:10j]   \n",
    "# o terceiro valor no slicing, 10j, indica a qtde de pontos a serem produzidos entre -1 e 1 (linspace)\n",
    "b"
   ]
  },
  {
   "cell_type": "markdown",
   "metadata": {},
   "source": [
    "Essa forma facilita a digitação e torna o código mais legível. Observe como os objetos são concatenados e a sintaxe de fatiamento foi usada para construir intervalos. Outro termo que merece explicação é o número complexo **10j** que seria usado como o tamanho do passo na sintaxe do fatiamento. Esse uso não padrão permite que o número seja interpretado como a **quantidade de pontos** a serem produzidos no intervalo, ao invés de um **tamanho de passo**. \n",
    "\n",
    "Esse uso não padrão pode ser desagradável para alguns, mas dá ao usuário a capacidade de construir rapidamente vetores complicados de forma simples. Quando o número de pontos é especificado dessa maneira, o ponto final do intervalo é inclusivo.\n",
    "\n",
    "A letra \"**r**\" significa **mesclagem de linha** (*row*), porque se os objetos entre vírgulas forem matrizes bidimensionais, eles seriam empilhados em linhas (e, portanto, devem ter colunas proporcionais). Existe um comando equivalente **c_** que empilha *arrays* bidimensionais em colunas, **mesclagem em coluna** (*column*), com funcionamento idêntico ao **r_** para arranjos unidimensionais.\n",
    "\n",
    "### Geraçao de Malhas (grades)\n",
    "\n",
    "Uma instância da classe <tt>nd_grid</tt>, **mgrid[ ]**, no seu formato mais simples, é usada para construir intervalos de faixas unidimensionais como substituta conveniente à função **arange()**. Também usa números complexos na indicação do **tamanho do passo** para indicar o número de pontos a serem colocados entre os pontos inicial e final (inclusivos). O propósito real dessa função, entretanto, é o de produzir grades N-dimensionais que forneçam matrizes de coordenadas para um volume N-dimensional. A maneira mais fácil de entender isso é com um exemplo de uso da função:"
   ]
  },
  {
   "cell_type": "code",
   "execution_count": 88,
   "metadata": {},
   "outputs": [
    {
     "name": "stdout",
     "output_type": "stream",
     "text": [
      "(2, 5, 5)\n"
     ]
    },
    {
     "data": {
      "image/png": "[encoded data removed]",
      "text/plain": [
       "<Figure size 432x288 with 2 Axes>"
      ]
     },
     "metadata": {
      "needs_background": "light"
     },
     "output_type": "display_data"
    }
   ],
   "source": [
    "from pylab import plot, axes\n",
    "\n",
    "grade = np.mgrid[0:5,0:5]\n",
    "print(grade.shape)\n",
    "\n",
    "plot(grade[0,:,:],grade[1,:,:],'*');\n",
    "axes().set_aspect('equal')"
   ]
  },
  {
   "cell_type": "code",
   "execution_count": 41,
   "metadata": {},
   "outputs": [
    {
     "data": {
      "text/plain": [
       "array([[[0.        , 0.        , 0.        , 0.        ],\n",
       "        [1.66666667, 1.66666667, 1.66666667, 1.66666667],\n",
       "        [3.33333333, 3.33333333, 3.33333333, 3.33333333],\n",
       "        [5.        , 5.        , 5.        , 5.        ]],\n",
       "\n",
       "       [[0.        , 1.66666667, 3.33333333, 5.        ],\n",
       "        [0.        , 1.66666667, 3.33333333, 5.        ],\n",
       "        [0.        , 1.66666667, 3.33333333, 5.        ],\n",
       "        [0.        , 1.66666667, 3.33333333, 5.        ]]])"
      ]
     },
     "execution_count": 41,
     "metadata": {},
     "output_type": "execute_result"
    }
   ],
   "source": [
    "np.mgrid[0:5:4j,0:5:4j]"
   ]
  },
  {
   "cell_type": "markdown",
   "metadata": {},
   "source": [
    "Ter matrizes de malha como esta é, por vezes, muito útil. No entanto, nem sempre é necessário avaliar algumas funções N-dimensionais numa grade, devido às regras de transmissão de arranjos do **Numpy** e do **SciPy**. Se este for o único propósito da geração de uma grade de malha, então você deve usar a outra instância da classe <tt>nd_grid</tt>, **ogrid[ ]** que gera uma grade “aberta” (esparsa) usando **newaxis** para criar ***N*** matrizes N-dimensionais, onde somente uma dimensão em cada arranjo tem comprimento maior que 1. Isso economiza memória e produz o mesmo resultado se a única finalidade da grade de malha for gerar pontos de amostra para avaliação de uma função N-dimensional.\n",
    "\n",
    "### Polinômios \n",
    "\n",
    "Existem duas maneiras (intercambiáveis) de lidar com polinômios unidimensionais no Python. A primeira é usando a classe polinomial unidimensional, **poly1d** do **Numpy** (forma mais antiga).  A classe **poly1d** aceita coeficientes ou raízes polinomiais para inicializar um polinômio. O objeto polinomial pode então ser: manipulado em expressões algébricas, integrado, diferenciado, avaliado e até mostrado como um polinômio."
   ]
  },
  {
   "cell_type": "code",
   "execution_count": 52,
   "metadata": {},
   "outputs": [
    {
     "name": "stdout",
     "output_type": "stream",
     "text": [
      "Polinômio:\n",
      "    2\n",
      "3 x + 4 x + 5 \n",
      "Raízes: [-0.66666667+1.1055416j -0.66666667-1.1055416j] \n",
      "Ordem: 2 \n",
      "p(0) = 5\n",
      "p(x)^2:\n",
      "    4      3      2\n",
      "9 x + 24 x + 46 x + 40 x + 25\n"
     ]
    },
    {
     "data": {
      "text/plain": [
       "(6+8j)"
      ]
     },
     "execution_count": 52,
     "metadata": {},
     "output_type": "execute_result"
    }
   ],
   "source": [
    "from numpy import poly1d\n",
    "p = poly1d([3,4,5])\n",
    "print('Polinômio:\\n',p, '\\nRaízes:',p.roots, '\\nOrdem:',p.order,'\\np(0) =',p(0))\n",
    "print('p(x)^2:\\n',p*p)\n",
    "p(-2-1j)"
   ]
  },
  {
   "cell_type": "code",
   "execution_count": 43,
   "metadata": {
    "scrolled": true
   },
   "outputs": [
    {
     "name": "stdout",
     "output_type": "stream",
     "text": [
      "   3     2\n",
      "1 x + 2 x + 5 x\n",
      "   3     2\n",
      "1 x + 2 x + 5 x + 6\n"
     ]
    }
   ],
   "source": [
    "print(p.integ())              # integração de p(x)\n",
    "print(p.integ(k=6))           # cte de integração"
   ]
  },
  {
   "cell_type": "code",
   "execution_count": 56,
   "metadata": {},
   "outputs": [
    {
     "name": "stdout",
     "output_type": "stream",
     "text": [
      "   3       2\n",
      "1 x + 3.5 x - 4 x + 7.1\n"
     ]
    }
   ],
   "source": [
    "h = poly1d((1,3.5,-4,7.1))\n",
    "print(h)"
   ]
  },
  {
   "cell_type": "code",
   "execution_count": 44,
   "metadata": {},
   "outputs": [
    {
     "name": "stdout",
     "output_type": "stream",
     "text": [
      "   2\n",
      "3 x + 4 x + 5\n",
      " \n",
      "6 x + 4\n"
     ]
    }
   ],
   "source": [
    "print(p)\n",
    "print(p.deriv())              # derivação de p(x)"
   ]
  },
  {
   "cell_type": "code",
   "execution_count": 9,
   "metadata": {},
   "outputs": [
    {
     "data": {
      "text/plain": [
       "array([ 46.23,  69.  , 100.  ])"
      ]
     },
     "execution_count": 9,
     "metadata": {},
     "output_type": "execute_result"
    }
   ],
   "source": [
    "p([3.1, 4, 5])             # avaliação do polinômio em x = 3.1, x = 4 e x = 5"
   ]
  },
  {
   "cell_type": "markdown",
   "metadata": {},
   "source": [
    "A outra maneira de lidar com polinômios é usando um vetor de coeficientes, com o primeiro elemento da matriz fornecendo o coeficiente de maior potência, usando o submódulo **Polynomial** do **Numpy** (forma mais recente). Existem funções explícitas para adicionar, subtrair, multiplicar, dividir, integrar, diferenciar e avaliar polinômios representados como sequências de coeficientes.\n",
    "\n",
    "\n",
    "### Funções de Vetorização \n",
    "\n",
    "O **NumPy** fornece uma classe vetorizada para converter uma função **Python** comum, que aceita escalares e retorna escalares, em uma **`função vetorizada`** com as mesmas regras de transmissão das  funções **Numpy** (funções Universais ou ufuncs). Por exemplo, suponha uma função Python chamada **somasubtrai()**, assim definida:"
   ]
  },
  {
   "cell_type": "code",
   "execution_count": 39,
   "metadata": {},
   "outputs": [
    {
     "name": "stdout",
     "output_type": "stream",
     "text": [
      "10\n",
      "20\n"
     ]
    }
   ],
   "source": [
    "def somasubtrai(a,b):    # subtrai se a > b, e soma se a <= b\n",
    "    if a > b:\n",
    "        return a - b\n",
    "    else:\n",
    "        return a + b\n",
    "    \n",
    "print(somasubtrai(15,5))\n",
    "print(somasubtrai(5,15))"
   ]
  },
  {
   "cell_type": "markdown",
   "metadata": {},
   "source": [
    "A função **somasubtrai()** atua em duas variáveis escalares e retorna um resultado escalar. A classe **vectorize** pode ser usada para transformar esta função, de modo que possamos usar arranjos (vetores, matrizes) como argumentos e retorno da função:"
   ]
  },
  {
   "cell_type": "code",
   "execution_count": 40,
   "metadata": {},
   "outputs": [],
   "source": [
    "vet_somasubtrai = np.vectorize(somasubtrai)"
   ]
  },
  {
   "cell_type": "markdown",
   "metadata": {},
   "source": [
    "A função escalar **somasubtrai()** foi transformada na função **vec_somasubtrai()**, a qual recebe argumentos matriciais e retorna um resultado matricial:"
   ]
  },
  {
   "cell_type": "code",
   "execution_count": 41,
   "metadata": {},
   "outputs": [
    {
     "data": {
      "text/plain": [
       "array([1, 6, 1, 2])"
      ]
     },
     "execution_count": 41,
     "metadata": {},
     "output_type": "execute_result"
    }
   ],
   "source": [
    "vet_somasubtrai([0,3,6,9],[1,3,5,7])"
   ]
  },
  {
   "cell_type": "markdown",
   "metadata": {},
   "source": [
    "Esta particular função poderia ter sido escrita em forma vetorial sem o uso de *vectorize*. No entanto, funções que empregam rotinas de otimização ou integração provavelmente só podem ser vetorizadas usando *vectorize*."
   ]
  },
  {
   "cell_type": "markdown",
   "metadata": {},
   "source": [
    "### Manipulação de Tipos\n",
    "\n",
    "Observe a diferença entre **np.iscomplex/np.isreal** e **np.iscomplexobj/np.isrealobj**. As funções **np.iscomplex/np.isreal** são baseadas em matrizes e retornam matrizes de uns e zeros fornecendo o resultado do teste elementar. As funções **np.iscomplexobj/np.isrealobj** são baseadas em objetos e retornam um escalar descrevendo o resultado do teste em todo o objeto.\n",
    "\n",
    "Frequentemente, é necessário obter apenas a parte real ou a imaginária de um número complexo. Enquanto números complexos e matrizes têm atributos (métodos) que retornam esses valores, se não tiver certeza se o objeto será ou não de valor complexo, é melhor usar as funções **np.real** e **np.imag**. Essas funções funcionam para qualquer coisa que possa ser transformada em um arranjo **Numpy**. Considere também a função **np.real_if_close** que transforma um valor complexo com pequena parte imaginária em um número real.\n",
    "\n",
    "Para verificar se um número é ou não escalar **((long) int, float, complex** ou matriz de *rank*-0) use a função **np.isscalar()** que retorna 1 ou 0. <font size=\"+1\" color=\"brown\">Rank ou Posto ou Característica de uma matriz: número de linhas ou colunas linearmente independentes da matriz.</font>\n",
    "\n",
    "Para garantir que objetos sejam do tipo **Numpy** existe um dicionário predefinido de funções no **SciPy** específicas para isto: **np.cast**. As chaves do dicionário são os tipos de dados para os quais se deseja a conversão e os valores do dicionário armazenam funções para executar as conversões."
   ]
  },
  {
   "cell_type": "code",
   "execution_count": 49,
   "metadata": {},
   "outputs": [
    {
     "data": {
      "text/plain": [
       "3.141592653589793"
      ]
     },
     "execution_count": 49,
     "metadata": {},
     "output_type": "execute_result"
    }
   ],
   "source": [
    "np.pi"
   ]
  },
  {
   "cell_type": "code",
   "execution_count": 50,
   "metadata": {},
   "outputs": [
    {
     "data": {
      "text/plain": [
       "float"
      ]
     },
     "execution_count": 50,
     "metadata": {},
     "output_type": "execute_result"
    }
   ],
   "source": [
    "type(np.pi)"
   ]
  },
  {
   "cell_type": "code",
   "execution_count": 51,
   "metadata": {},
   "outputs": [
    {
     "data": {
      "text/plain": [
       "array(3.1415927, dtype=float32)"
      ]
     },
     "execution_count": 51,
     "metadata": {},
     "output_type": "execute_result"
    }
   ],
   "source": [
    "np.cast['f'](np.pi)"
   ]
  },
  {
   "cell_type": "code",
   "execution_count": 52,
   "metadata": {},
   "outputs": [
    {
     "data": {
      "text/plain": [
       "array(3, dtype=int32)"
      ]
     },
     "execution_count": 52,
     "metadata": {},
     "output_type": "execute_result"
    }
   ],
   "source": [
    "np.cast['i'](np.pi)"
   ]
  },
  {
   "cell_type": "code",
   "execution_count": 53,
   "metadata": {},
   "outputs": [
    {
     "data": {
      "text/plain": [
       "array(3)"
      ]
     },
     "execution_count": 53,
     "metadata": {},
     "output_type": "execute_result"
    }
   ],
   "source": [
    "np.cast['l'](np.pi)"
   ]
  },
  {
   "cell_type": "markdown",
   "metadata": {},
   "source": [
    "Todos os tipos de dados armazenados no referido dicionário:"
   ]
  },
  {
   "cell_type": "code",
   "execution_count": 12,
   "metadata": {},
   "outputs": [
    {
     "name": "stdout",
     "output_type": "stream",
     "text": [
      "dict_keys([<class 'numpy.uint32'>, <class 'numpy.int16'>, <class 'numpy.uint64'>, <class 'numpy.intc'>, <class 'numpy.int8'>, <class 'numpy.object_'>, <class 'numpy.float64'>, <class 'numpy.bool_'>, <class 'numpy.float32'>, <class 'numpy.datetime64'>, <class 'numpy.str_'>, <class 'numpy.complex64'>, <class 'numpy.uint16'>, <class 'numpy.bytes_'>, <class 'numpy.float16'>, <class 'numpy.clongdouble'>, <class 'numpy.int32'>, <class 'numpy.timedelta64'>, <class 'numpy.complex128'>, <class 'numpy.uintc'>, <class 'numpy.int64'>, <class 'numpy.void'>, <class 'numpy.longdouble'>, <class 'numpy.uint8'>])\n"
     ]
    }
   ],
   "source": [
    "print(np.cast.keys())"
   ]
  },
  {
   "cell_type": "markdown",
   "metadata": {},
   "source": [
    "#### Exercícios:  \n",
    "\n",
    "1. Criar uma matriz 4x4 e rotacioná-la para direita e para baixo, uma posição em cada dimensão."
   ]
  },
  {
   "cell_type": "code",
   "execution_count": 17,
   "metadata": {},
   "outputs": [
    {
     "name": "stdout",
     "output_type": "stream",
     "text": [
      "Matriz Original: A = \n",
      " [[ 1  2  3  4]\n",
      " [ 5  6  7  8]\n",
      " [ 9 10 11 12]\n",
      " [13 14 15 16]]\n",
      "Matriz A Rotacionada uma linha para baixo:\n",
      " [[13 14 15 16]\n",
      " [ 1  2  3  4]\n",
      " [ 5  6  7  8]\n",
      " [ 9 10 11 12]]\n",
      "Matriz A Rotacionada mais uma linha para baixo:\n",
      " [[ 9 10 11 12]\n",
      " [13 14 15 16]\n",
      " [ 1  2  3  4]\n",
      " [ 5  6  7  8]]\n",
      "- - - - - - - - - - - - - - - - - - - - - - - - - - - - - - - - - - - \n",
      "Matriz Original: B = \n",
      " [[ 1  2  3  4]\n",
      " [ 5  6  7  8]\n",
      " [ 9 10 11 12]\n",
      " [13 14 15 16]]\n",
      "Matriz B Rotacionada uma coluna para direita:\n",
      " [[ 4  1  2  3]\n",
      " [ 8  5  6  7]\n",
      " [12  9 10 11]\n",
      " [16 13 14 15]]\n",
      "Matriz B Rotacionada mais uma coluna para direita:\n",
      " [[ 3  4  1  2]\n",
      " [ 7  8  5  6]\n",
      " [11 12  9 10]\n",
      " [15 16 13 14]]\n",
      "- - - - - - - - - - - - - - - - - - - - - - - - - - - - - - - - - - - \n"
     ]
    }
   ],
   "source": [
    "from numpy import arange, roll, copy\n",
    "# Solução Perigosa: desenvolver código para a tarefa\n",
    "\n",
    "def rotacDir(A):\n",
    "    ult = A.shape[1]-1        # qtde de colunas\n",
    "    vc = copy(A[:,ult])       # preserva a última coluna\n",
    "    for i in range(ult,0,-1):\n",
    "        A[:,i] = A[:,i-1]     # coluna à direita recebe coluna à esquerda\n",
    "    A[:,0] = vc               # primeira coluna recebe últ. coluna preservada\n",
    "    return A\n",
    "\n",
    "def rotacAbaixo(A):\n",
    "    ult = A.shape[0]-1        # qtde de linhas\n",
    "    vl = copy(A[ult,:])       # preserva a última linha\n",
    "    for i in range(ult,0,-1):\n",
    "        A[i,:] = A[i-1,:]     # linha debaixo recebe linha acima\n",
    "    A[0,:] = copy(vl)         # primeira linha recebe última linha preservada\n",
    "    return A\n",
    "\n",
    "A = arange(1,17).reshape(4,4)\n",
    "B = copy(A)\n",
    "print(\"Matriz Original: A = \\n\", A)\n",
    "print(\"Matriz A Rotacionada uma linha para baixo:\\n\", rotacAbaixo(A))\n",
    "print(\"Matriz A Rotacionada mais uma linha para baixo:\\n\", rotacAbaixo(A))\n",
    "print('- '*35)\n",
    "print(\"Matriz Original: B = \\n\", B)\n",
    "print(\"Matriz B Rotacionada uma coluna para direita:\\n\", rotacDir(B))\n",
    "print(\"Matriz B Rotacionada mais uma coluna para direita:\\n\", rotacDir(B))\n",
    "print('- '*35)"
   ]
  },
  {
   "cell_type": "markdown",
   "metadata": {},
   "source": [
    "Outra solução (mais indicada):"
   ]
  },
  {
   "cell_type": "code",
   "execution_count": 66,
   "metadata": {},
   "outputs": [
    {
     "name": "stdout",
     "output_type": "stream",
     "text": [
      "Matriz Original:\n",
      " [[ 1  2  3  4]\n",
      " [ 5  6  7  8]\n",
      " [ 9 10 11 12]\n",
      " [13 14 15 16]]\n",
      "Matriz A Rotacionada uma linha para baixo:\n",
      " [[13 14 15 16]\n",
      " [ 1  2  3  4]\n",
      " [ 5  6  7  8]\n",
      " [ 9 10 11 12]]\n",
      "Matriz A Rotacionada mais uma linha para baixo:\n",
      " [[ 9 10 11 12]\n",
      " [13 14 15 16]\n",
      " [ 1  2  3  4]\n",
      " [ 5  6  7  8]]\n",
      "Matriz Original:\n",
      " [[ 1  2  3  4]\n",
      " [ 5  6  7  8]\n",
      " [ 9 10 11 12]\n",
      " [13 14 15 16]]\n",
      "Matriz A Rotacionada uma coluna para direita:\n",
      " [[ 4  1  2  3]\n",
      " [ 8  5  6  7]\n",
      " [12  9 10 11]\n",
      " [16 13 14 15]]\n",
      "Matriz A Rotacionada mais uma coluna para direita:\n",
      " [[ 3  4  1  2]\n",
      " [ 7  8  5  6]\n",
      " [11 12  9 10]\n",
      " [15 16 13 14]]\n"
     ]
    }
   ],
   "source": [
    "# Solução Indicada: reutilizar código existente\n",
    "A = arange(1,17).reshape(4,4)\n",
    "print(\"Matriz Original:\\n\", A)\n",
    "print(\"Matriz A Rotacionada uma linha para baixo:\\n\", roll(A,1,0))\n",
    "print(\"Matriz A Rotacionada mais uma linha para baixo:\\n\", roll(A,2,0))\n",
    "print(\"Matriz Original:\\n\", A)\n",
    "print(\"Matriz A Rotacionada uma coluna para direita:\\n\", roll(A,1,1))\n",
    "print(\"Matriz A Rotacionada mais uma coluna para direita:\\n\", roll(A,2,1))"
   ]
  },
  {
   "cell_type": "markdown",
   "metadata": {},
   "source": [
    "2. Retornar os N maiores (ou menores) valores de um vetor de comprimento maior que N."
   ]
  },
  {
   "cell_type": "code",
   "execution_count": 3,
   "metadata": {},
   "outputs": [
    {
     "name": "stdout",
     "output_type": "stream",
     "text": [
      "2\n"
     ]
    }
   ],
   "source": [
    "# Solução 1 - retorna apenas o índice do menor valor\n",
    "import numpy as np\n",
    "valores = np.array([3,6,1,5,13,8,4])\n",
    "ind_min = np.argmin(valores)\n",
    "print(ind_min)"
   ]
  },
  {
   "cell_type": "code",
   "execution_count": 13,
   "metadata": {},
   "outputs": [
    {
     "name": "stdout",
     "output_type": "stream",
     "text": [
      "[4 5 1 3] [13  8  6  5]\n"
     ]
    }
   ],
   "source": [
    "# Solução 2 - usando argpartition()\n",
    "N = 4\n",
    "valores = np.array([3,6,1,5,13,8,4])\n",
    "idx = np. argpartition(valores, -N)[-N:]\n",
    "ind_max = idx[np.argsort((-valores)[idx])]\n",
    "print(ind_max, valores[ind_max])"
   ]
  },
  {
   "cell_type": "code",
   "execution_count": 14,
   "metadata": {},
   "outputs": [
    {
     "name": "stdout",
     "output_type": "stream",
     "text": [
      "[4 5 1 3] [13  8  6  5]\n"
     ]
    }
   ],
   "source": [
    "# Solução 3 - usando argsort()\n",
    "N = 4\n",
    "valores = np.array([3,6,1,5,13,8,4])\n",
    "ind_max = valores.argsort()[-N:][::-1]\n",
    "print(ind_max, valores[ind_max])"
   ]
  },
  {
   "cell_type": "markdown",
   "metadata": {},
   "source": [
    "Ao contrário de `argsort()`, a função `argpartition()` é executada em tempo linear no pior caso, mas os índices retornados não são classificados.  \n",
    "Para arrays multidimensionais será preciso nivelar (*flatten*) e desnivelar (*unreval*) os índices:"
   ]
  },
  {
   "cell_type": "code",
   "execution_count": 20,
   "metadata": {},
   "outputs": [
    {
     "name": "stdout",
     "output_type": "stream",
     "text": [
      "[[ 0.          0.84147098  0.90929743]\n",
      " [ 0.14112001 -0.7568025  -0.95892427]\n",
      " [-0.2794155   0.6569866   0.98935825]] \n",
      "3 máximos: [0.98935825 0.90929743 0.84147098]\n"
     ]
    }
   ],
   "source": [
    "def indicesMax(ary, n):\n",
    "    \"\"\"Retorna os índices dos 'n' maiores valores de um array numpy 'ary'.\"\"\"\n",
    "    flat = ary.flatten()\n",
    "    indices = np.argpartition(flat, -n)[-n:]\n",
    "    indices = indices[np.argsort(-flat[indices])]\n",
    "    return np.unravel_index(indices, ary.shape)\n",
    "\n",
    "xs = np.sin(np.arange(9)).reshape((3, 3))\n",
    "print(xs,'\\n3 máximos:', xs[indicesMax(xs, 3)])"
   ]
  },
  {
   "cell_type": "markdown",
   "metadata": {},
   "source": [
    "### Aplicação em PDS\n",
    "\n",
    "#### Sinal Discreto\n",
    "\n",
    "Uso de vetor para armazenamento das abscissas e das ordenadas para traçado de gráficos de linha, por exemplo:"
   ]
  },
  {
   "cell_type": "code",
   "execution_count": 87,
   "metadata": {},
   "outputs": [
    {
     "data": {
      "image/png": "[encoded data removed]",
      "text/plain": [
       "<Figure size 432x288 with 1 Axes>"
      ]
     },
     "metadata": {
      "needs_background": "light"
     },
     "output_type": "display_data"
    }
   ],
   "source": [
    "from matplotlib.pylab import stem, grid\n",
    "n = np.arange(-16,17)\n",
    "x = np.cos(np.pi*n/8)\n",
    "stem(n,x);                 # ,use_line_collection=True\n",
    "grid(True)"
   ]
  },
  {
   "cell_type": "markdown",
   "metadata": {},
   "source": [
    "#### Sinal Contínuo"
   ]
  },
  {
   "cell_type": "code",
   "execution_count": 61,
   "metadata": {},
   "outputs": [
    {
     "data": {
      "image/png": "[encoded data removed]",
      "text/plain": [
       "<Figure size 460.8x345.6 with 1 Axes>"
      ]
     },
     "metadata": {
      "needs_background": "light"
     },
     "output_type": "display_data"
    }
   ],
   "source": [
    "import numpy as np\n",
    "from pylab import plot, figure, grid\n",
    "figure(figsize=(6.4, 4.8))     # medidas em polegadas (larg x Alt)\n",
    "t = np.arange(-16,17,0.3)\n",
    "x = np.cos(np.pi*t/8)\n",
    "plot(t,x);\n",
    "grid(True)"
   ]
  },
  {
   "cell_type": "markdown",
   "metadata": {},
   "source": [
    "### Elementos NumPy abordados:\n",
    "\n",
    "**Funções**:\n",
    "- array()\n",
    "- arange(), linspace()\n",
    "- zeros(), ones(), eye()\n",
    "- repeat()\n",
    "- roll()\n",
    "- poly1d()\n",
    "- concatenate()\n",
    "\n",
    "**Atributos**:\n",
    "- shape\n",
    "- dtype\n",
    "- T\n",
    "\n",
    "**Métodos**:\n",
    "- reshape()\n",
    "- resize()\n",
    "- dot()\n",
    "- astype()\n",
    "- sum(), min(), max(), mean(), std(), var()\n",
    "- transpose()\n",
    "- vstack(), hstack()\n",
    "- r_, c_\n",
    "\n",
    "**Subpacote: random**\n",
    "Funções:\n",
    "- random.rand()\n",
    "- random.randint()\n",
    "\n",
    "**Funcionalidades**:\n",
    "- *broadcast* (elemento a elemento): + - * / **\n",
    "- fatiamento para vetores/matrizes\n",
    "- programação funcional"
   ]
  },
  {
   "cell_type": "markdown",
   "metadata": {},
   "source": [
    "Até agora vimos como criar, como acessar e como manipular arranjos numéricos (vetores e matrizes) em **Numpy**. Na sequencia, veremos os pacotes `SCIPY, MATPLOTLIB` e `PANDAS`, todos eles construídos a partir do pacote **Numpy**. \n",
    "\n",
    "O pacote **SciPy** possui funções úteis à manipulação de sinais na análise de sistemas de Engenharia, em geral.\n",
    "\n",
    "O pacote **Matplotlib** permite a apresentação de dados na forma gráfica. Possui extensa variedade de tipos de gráficos, muito usados também na exibição de sinais contínuos e discretos.\n",
    "\n",
    "O pacote **Pandas** é direcionado à manipulação e análise de dados em Python, além de oferecer estruturas de dados e operações para tabelas numéricas e séries temporais.\n"
   ]
  },
  {
   "cell_type": "markdown",
   "metadata": {},
   "source": [
    "## Exercícios\n",
    "1. Dada a matriz A, gere a matriz **sub_A** e a inversa de A ($A^{-1}$):\n",
    "<img src='img\\sub_A.png'>\n",
    "1. Crie uma matriz 3 × 3 com todos as posições com `True`. Dica: use o método `full()`.\n",
    "1. Dado o vetor A = np.array([0, 1, 2, 3, 4, 5, 6, 7, 8, 9]), mostre apenas os valores ímpares do vetor. \n",
    "1. No mesmo vetor A, do exercício anterior, substitua todos os valores pares por -5.\n",
    "1. Como substituir itens que satisfaçam uma condição sem afetar o arranjo original?\n",
    "Por exemplo, como trocar todos os valores ímpares do vetor A por 1000 sem alterar o vetor A?\n",
    "```python\n",
    "A = np.arange(10)\n",
    "B = np.where(A % 2 == 1, 1000, A)\n",
    "print(A,B)\n",
    "```\n",
    "1. Empilhe verticalmente os seguintes arranjos, usando os métodos `vstack()` e `concatenate()`:\n",
    "`A = np.arange(10).reshape(2,-1)` e `B = np.repeat(1, 10).reshape(2,-1)`\n",
    "1. Crie o seguinte padrão sem transcrição literal. Use apenas funções do pacote `numpy` e o vetor `A = np.array([1,2,3])`  \n",
    "Saída Desejada:  `array([1, 1, 1, 2, 2, 2, 3, 3, 3, 1, 2, 3, 1, 2, 3, 1, 2, 3])`  \n",
    "_Dica_: métodos `repeat()` e `tile()`.\n",
    "1. Obtenha os itens comuns entre os vetores A e B.\n",
    "Entrada:\n",
    "``` python\n",
    "A = np.array([1,2,3,2,3,4,3,4,5,6])\n",
    "B = np.array([7,2,10,2,7,4,9,4,9,8])\n",
    "```\n",
    "Saída Desejada:\n",
    "``` python\n",
    "array([2, 4])\n",
    "```\n",
    "_Dica_: método `intersect1d()`\n",
    "1. Remova do arranjo A todos os itens presentes no arranjo B.\n",
    "Entrada:\n",
    "``` python\n",
    "A = np.array([1,2,3,4,5])\n",
    "B = np.array([5,6,7,8,9])\n",
    "```\n",
    "Saída Desejada:\n",
    "``` python\n",
    "array([1,2,3,4])\n",
    "```  \n",
    "_Dica_: método `setdiff1d()`\n",
    "1. Obtenha as posições nas quais os elementos de A e B se correspondem.\n",
    "Entrada:\n",
    "``` python\n",
    "A = np.array([1,2,3,2,3,4,3,4,5,6])\n",
    "B = np.array([7,2,10,2,7,4,9,4,9,8])\n",
    "```  \n",
    "Saída Desejada:   \n",
    "``` python\n",
    "array([1, 3, 5, 7])\n",
    "```\n",
    "_Dica_: método `where()`  \n",
    "1. Obtenha todos os itens entre 5 e 10 (limites inclusos) do vetor A.\n",
    "Entrada:\n",
    "``` python\n",
    "A = np.array([2, 6, 1, 9, 10, 3, 27])\n",
    "```  \n",
    "Saída Desejada:  \n",
    "``` python \n",
    "(array([6, 9, 10]),)\n",
    "```\n",
    "_Solução_:\n",
    "``` python \n",
    "# Método 1\n",
    "indices = np.where((a >= 5) & (a <= 10))\n",
    "a[indices]\n",
    "# Método 2:\n",
    "indices = np.where(np.logical_and(a>=5, a<=10))\n",
    "a[indices]\n",
    "# Método 3:\n",
    "a[(a >= 5) & (a <= 10)]\n",
    "```\n",
    "1. Troque as primeira coluna com a segunda coluna da matriz A.\n",
    "``` python \n",
    "A = np.arange(9).reshape(3,3)\n",
    "A\n",
    "array([[0, 1, 2],\n",
    "       [3, 4, 5],\n",
    "       [6, 7, 8]])\n",
    "```\n",
    "_Dica_: `A[:, [1,0,2]]`\n",
    "1. Crie uma matriz 5x3 para conter números decimais aleatórios entre 5.0 e 10.0 (limite inferior incluso).  \n",
    "_Solução_:\n",
    "``` python\n",
    "# Método 1:\n",
    "A = np.random.randint(low=5, high=10, size=(5,3)) + np.random.random((5,3))\n",
    "print(A)\n",
    "# Método 2:\n",
    "B = np.random.uniform(5, 10, size=(5,3))\n",
    "print(B)\n",
    "```\n",
    "1. Descarte todos os valores <b>nan</b> (<i>not a number</i>) de um vetor `numpy`.\n",
    "Entrada:\n",
    "``` python\n",
    "np.array([1,2,3,np.nan,5,6,7,np.nan])\n",
    "```\n",
    "Saída Desejada:\n",
    "``` python\n",
    "array([ 1., 2., 3., 5., 6., 7.])\n",
    "```\n",
    "_Dica_: método `isnan()`  \n",
    "_Solução_: `a[~np.isnan(a)]`\n",
    "\n",
    "1. **Acidez de uma mistura diluída** - Suponha que um processo de manufatura de fundição em uma certa planta inclui resfriar cada peça fundida num banho em água, seguida por limpeza com imersão num banho ácido. Quando a peça é transferida do banho em água para o banho ácido, uma certa quantidade de água acompanha a peça, portanto diluindo o ácido. Quando a peça é removida do banho ácido, a mesma quantidade desta mistura diluída é também removida; portanto o volume de líquido no banho ácido permanece constante, mas a acidez decai cada vez uma peça resfriada é imersa no banho ácido. Faça um programa para determinar a acidez do líquido no banho ácido após um dado número de peças serem mergulhadas e determine quando a acidez cai abaixo de algum limite inferior na qual a mistura torna-se muito diluída para limpar as peças fundidas.  \n",
    "<img src=\"img/fundicao(casting).png\" alt=\"imagem de planta industrial de fundição de peças\">   \n",
    "\n",
    "    _Entradas_: volume do banho ácido (A), a quantidade de água que é misturada com o ácido quando uma peça é transferida do banho em água (W), a quantidade de peças mergulhadas (N) e o limite inferior da acidez (L).  \n",
    "    _Saídas_: medida da acidez (C) após o número especificado de peças fundidas ter sido imersa, e o número de peças (P) que podem ser mergulhadas antes da acidez cair abaixo do limite inferior especificado (L).   \n",
    "\n",
    "<span style=\"color:blue;font-size:12px;\">Fonte: <b>Nyhoff, L.; Leestma, S.</b>; \"FORTRAN 77 and Numerical Methods for Engineers and Scientists\"; p.95; 1995.</span>\n",
    "\n",
    "16. Método da Eliminação de Gauss "
   ]
  },
  {
   "cell_type": "code",
   "execution_count": 12,
   "metadata": {},
   "outputs": [
    {
     "name": "stdout",
     "output_type": "stream",
     "text": [
      "A =\n",
      " [[ 1.  1.  1.]\n",
      " [ 1. -2. -2.]\n",
      " [ 1. -3.  5.]]\n",
      "x =\n",
      " [ 1.   1.2 -1.2]\n",
      "\n",
      "Verifica resultado: [a]{x} - b = [2.22044605e-16 0.00000000e+00 0.00000000e+00]\n"
     ]
    }
   ],
   "source": [
    "import numpy as np\n",
    "def gaussElim(a,b):\n",
    "    n = len(b)\n",
    "    # fase da eliminação\n",
    "    for k in range(0,n-1):\n",
    "        for i in range(k+1,n):\n",
    "            if a[i,k] != 0.0:\n",
    "                # se não nulo, define λ\n",
    "                lam = a [i,k]/a[k,k]\n",
    "                # calculamos a nova linha da matriz\n",
    "                a[i,k+1:n] = a[i,k+1:n] - lam*a[k,k+1:n]\n",
    "                # atualizamos o vetor b\n",
    "                b[i] = b[i] - lam*b[k]\n",
    "                # retro-substituição\n",
    "    for k in range(n-1,-1,-1):\n",
    "        b[k] = (b[k] - np.dot(a[k,k+1:n],b[k+1:n]))/a[k,k]\n",
    "    return b\n",
    "\n",
    "# coeficientes iniciais\n",
    "a = np.array([ [1.0, 1.0, 1.0], \n",
    "               [1.0, -1.0, -1.0], \n",
    "               [1.0, -2.0, 3.0] \n",
    "             ])\n",
    "b = np.array([1.0, 1.0, -5.0])\n",
    "aOrig = a.copy()                 # salva a matriz A original \n",
    "bOrig = b.copy()                 # salva o vetor b original\n",
    "x = gaussElim(a,b)\n",
    "# mostra a matriz A transformada (para verificação)\n",
    "print(\"A =\\n\",a)\n",
    "print(\"x =\\n\",x)\n",
    "# det = np.prod(np.diagonal(a))  # determinante\n",
    "# print(\"\\ndet =\",det)\n",
    "# verifica resultado e precisão numérica\n",
    "print(\"\\nVerifica resultado: [a]{x} - b =\", np.dot(aOrig,x) - bOrig)"
   ]
  },
  {
   "cell_type": "code",
   "execution_count": 13,
   "metadata": {},
   "outputs": [
    {
     "name": "stdout",
     "output_type": "stream",
     "text": [
      "x =\n",
      " [ 1.   1.2 -1.2]\n"
     ]
    }
   ],
   "source": [
    "X = np.linalg.solve(aOrig,bOrig)\n",
    "print('x =\\n',X)"
   ]
  },
  {
   "cell_type": "markdown",
   "metadata": {},
   "source": [
    "# Anexos\n",
    "### Outras Funções Úteis"
   ]
  },
  {
   "cell_type": "markdown",
   "metadata": {},
   "source": [
    "Para processar a fase de um número complexo use as funções ***angle()*** e ***unwrap()***. Além disso, as funções ***linspace()*** e ***logspace()*** retornam amostras igualmente espaçadas numa escala linear ou logarítmica. "
   ]
  },
  {
   "cell_type": "markdown",
   "metadata": {},
   "source": [
    "Por fim, é útil estar ciente dos recursos de indexação do **Numpy**. Deve-se mencionar a função ***select()*** que estende a funcionalidade do ***where*** para incluir várias condições e várias opções. "
   ]
  },
  {
   "cell_type": "markdown",
   "metadata": {},
   "source": [
    "<tt>select(listacond, listaescolha, default = 0)</tt>"
   ]
  },
  {
   "cell_type": "markdown",
   "metadata": {},
   "source": [
    "A função ***select()*** é uma forma vetorizada da declaração **if** múltipla. Permite a construção rápida de uma função que retorna uma matriz de resultados com base em uma lista de condições. Cada elemento da matriz de retorno é retirado da matriz numa lista de opções correspondente à primeira condição na *listacond* que é verdadeira. Por exemplo:"
   ]
  },
  {
   "cell_type": "code",
   "execution_count": 59,
   "metadata": {},
   "outputs": [
    {
     "data": {
      "text/plain": [
       "array([-2, -1,  0,  1,  2])"
      ]
     },
     "execution_count": 59,
     "metadata": {},
     "output_type": "execute_result"
    }
   ],
   "source": [
    "x = np.r_[-2:3]\n",
    "x"
   ]
  },
  {
   "cell_type": "code",
   "execution_count": 60,
   "metadata": {},
   "outputs": [
    {
     "data": {
      "text/plain": [
       "array([0, 0, 2, 3, 4])"
      ]
     },
     "execution_count": 60,
     "metadata": {},
     "output_type": "execute_result"
    }
   ],
   "source": [
    "np.select([x > 3, x >= 0], [0, x+2])"
   ]
  },
  {
   "cell_type": "code",
   "execution_count": 61,
   "metadata": {},
   "outputs": [
    {
     "data": {
      "text/plain": [
       "array([-2, -1,  0,  1,  2,  3,  4])"
      ]
     },
     "execution_count": 61,
     "metadata": {},
     "output_type": "execute_result"
    }
   ],
   "source": [
    "y = np.r_[-2:5]\n",
    "y"
   ]
  },
  {
   "cell_type": "code",
   "execution_count": 62,
   "metadata": {
    "scrolled": true
   },
   "outputs": [
    {
     "data": {
      "text/plain": [
       "array([ 0,  0,  2,  3,  4,  5, -3])"
      ]
     },
     "execution_count": 62,
     "metadata": {},
     "output_type": "execute_result"
    }
   ],
   "source": [
    "np.select([y > 3, y >= 0], [-3, y+2])"
   ]
  },
  {
   "cell_type": "code",
   "execution_count": 97,
   "metadata": {},
   "outputs": [
    {
     "name": "stdout",
     "output_type": "stream",
     "text": [
      "O valor de A é 7 e o de B é 14\n",
      "O valor de A é 7 e o de B é 14\n",
      "O valor de A é 7 e o de B é 14\n"
     ]
    }
   ],
   "source": [
    "A = 5 * 2 - 3\n",
    "B = 2*A\n",
    "print(f'O valor de A é {A} e o de B é {B}')\n",
    "print('O valor de A é {0:} e o de B é {1:}'.format(A,B))\n",
    "print('O valor de A é %d e o de B é %d' % (A,B))"
   ]
  },
  {
   "cell_type": "markdown",
   "metadata": {},
   "source": [
    "<!--- Inserção de Imagem:\n",
    "  * Markdown ![texto alternativo](image.png \"Mouseover text (optional)\") \n",
    "    Ex.: ![text alt >](/image-right.jpg) ou ![text alt <](/image-left.jpg)\n",
    "    - O Markdown também suporta sintaxe HTML crua, portanto, se você precisar adornar sua imagem       com tags ou estilos adicionais, também poderá fazer isso...\n",
    "      <img src=\"pasta/imagem.png\" alt=\"texto alt.\" style=\"float: left; margin-right: 10px;\" />\n",
    "\n",
    "  * HTML syntax: <img src=\"\">\n",
    "  --->\n",
    "<img src=\"img/splat.png\" width=200 alt=\"figura com respingo de tinta verde e uma cobra albina, cobra python\" align=\"right\">\n",
    "    \n",
    "**Operador _splat_ (respingo)** ou **asterisco**, `*`, é usado como descompactador de objetos iteráveis (introduzido na versão 3.5) ou como descompactador de argumentos nas definições e chamadas.\n",
    "\n",
    "Ele faz a descompactação de um `range()` (objeto iterável), por exemplo, na criação de elementos em uma lista individual.  "
   ]
  },
  {
   "cell_type": "code",
   "execution_count": 9,
   "metadata": {},
   "outputs": [
    {
     "data": {
      "text/plain": [
       "(0, 1, 2, 3, 4, 5)"
      ]
     },
     "execution_count": 9,
     "metadata": {},
     "output_type": "execute_result"
    }
   ],
   "source": [
    "*range(5),5"
   ]
  },
  {
   "cell_type": "code",
   "execution_count": 8,
   "metadata": {
    "scrolled": false
   },
   "outputs": [
    {
     "data": {
      "text/plain": [
       "[0, 0, -1, -2]"
      ]
     },
     "execution_count": 8,
     "metadata": {},
     "output_type": "execute_result"
    }
   ],
   "source": [
    "[0, *range(0, -N, -1)]"
   ]
  },
  {
   "cell_type": "code",
   "execution_count": 16,
   "metadata": {},
   "outputs": [
    {
     "name": "stdout",
     "output_type": "stream",
     "text": [
      "5 6 7 {0, 1, 2, 3, 4, 5, 6, 7} {0, 1, 2, 3, 4, (5, 6, 7)}\n"
     ]
    }
   ],
   "source": [
    "print(*(5, 6, 7), {*range(4), 4, *(5, 6, 7)}, {*range(4), 4, (5, 6, 7)}) "
   ]
  },
  {
   "cell_type": "code",
   "execution_count": 4,
   "metadata": {
    "scrolled": true
   },
   "outputs": [
    {
     "name": "stdout",
     "output_type": "stream",
     "text": [
      "[[ 0]\n",
      " [ 0]\n",
      " [-1]\n",
      " [-2]]\n",
      "[[ 0  0  0]\n",
      " [ 0  0  0]\n",
      " [-1  1 -1]\n",
      " [-2  2 -2]]\n"
     ]
    }
   ],
   "source": [
    "N = 3\n",
    "A = np.array([[0, *range(0, -N, -1)]])\n",
    "print(A.T)\n",
    "B = np.tile(A.T, (1, N))\n",
    "B[:,1] = -B[:,1]\n",
    "print(B)"
   ]
  },
  {
   "cell_type": "code",
   "execution_count": 24,
   "metadata": {},
   "outputs": [
    {
     "data": {
      "text/plain": [
       "[0, 1, 2, 3, 4, 5, 6, 7, 8, 9]"
      ]
     },
     "execution_count": 24,
     "metadata": {},
     "output_type": "execute_result"
    }
   ],
   "source": [
    "gerador = (x for x in range(10))\n",
    "list(gerador)"
   ]
  },
  {
   "cell_type": "markdown",
   "metadata": {},
   "source": [
    "**Operador de descompactação de dicionário** permite o uso de um número arbitrário de argumentos em chamadas de função:"
   ]
  },
  {
   "cell_type": "code",
   "execution_count": 13,
   "metadata": {},
   "outputs": [
    {
     "name": "stdout",
     "output_type": "stream",
     "text": [
      "1 2 4 3\n"
     ]
    }
   ],
   "source": [
    "def funcao(a, b, c, d):     # sub-rotina para impressão dos parâmetros\n",
    "    print(a, b, c, d)\n",
    "\n",
    "funcao(**{'a': 1, 'd': 3}, **{'b': 2, 'c': 4})"
   ]
  },
  {
   "cell_type": "code",
   "execution_count": 7,
   "metadata": {},
   "outputs": [
    {
     "ename": "KeyboardInterrupt",
     "evalue": "Interrupted by user",
     "output_type": "error",
     "traceback": [
      "\u001b[1;31m---------------------------------------------------------------------------\u001b[0m",
      "\u001b[1;31mKeyboardInterrupt\u001b[0m                         Traceback (most recent call last)",
      "\u001b[1;32m~\\AppData\\Local\\Temp/ipykernel_3172/1002553485.py\u001b[0m in \u001b[0;36m<module>\u001b[1;34m\u001b[0m\n\u001b[0;32m     13\u001b[0m \u001b[1;32mfrom\u001b[0m \u001b[0mmath\u001b[0m \u001b[1;32mimport\u001b[0m \u001b[0mlog10\u001b[0m\u001b[1;33m,\u001b[0m \u001b[0mceil\u001b[0m\u001b[1;33m\u001b[0m\u001b[1;33m\u001b[0m\u001b[0m\n\u001b[0;32m     14\u001b[0m \u001b[1;33m\u001b[0m\u001b[0m\n\u001b[1;32m---> 15\u001b[1;33m \u001b[0macido\u001b[0m \u001b[1;33m=\u001b[0m \u001b[0mfloat\u001b[0m\u001b[1;33m(\u001b[0m\u001b[0minput\u001b[0m\u001b[1;33m(\u001b[0m\u001b[1;34m\"Volume de Ácido (l)  : \"\u001b[0m\u001b[1;33m)\u001b[0m\u001b[1;33m)\u001b[0m\u001b[1;33m\u001b[0m\u001b[1;33m\u001b[0m\u001b[0m\n\u001b[0m\u001b[0;32m     16\u001b[0m \u001b[0magua\u001b[0m  \u001b[1;33m=\u001b[0m \u001b[0mfloat\u001b[0m\u001b[1;33m(\u001b[0m\u001b[0minput\u001b[0m\u001b[1;33m(\u001b[0m\u001b[1;34m\"Volume de Água (l)   : \"\u001b[0m\u001b[1;33m)\u001b[0m\u001b[1;33m)\u001b[0m\u001b[1;33m\u001b[0m\u001b[1;33m\u001b[0m\u001b[0m\n\u001b[0;32m     17\u001b[0m \u001b[0mfunds\u001b[0m \u001b[1;33m=\u001b[0m \u001b[0mfloat\u001b[0m\u001b[1;33m(\u001b[0m\u001b[0minput\u001b[0m\u001b[1;33m(\u001b[0m\u001b[1;34m\"Qtde de fundições    : \"\u001b[0m\u001b[1;33m)\u001b[0m\u001b[1;33m)\u001b[0m\u001b[1;33m\u001b[0m\u001b[1;33m\u001b[0m\u001b[0m\n",
      "\u001b[1;32md:\\python\\python 3.9.6\\lib\\site-packages\\ipykernel\\kernelbase.py\u001b[0m in \u001b[0;36mraw_input\u001b[1;34m(self, prompt)\u001b[0m\n\u001b[0;32m   1004\u001b[0m                 \u001b[1;34m\"raw_input was called, but this frontend does not support input requests.\"\u001b[0m\u001b[1;33m\u001b[0m\u001b[1;33m\u001b[0m\u001b[0m\n\u001b[0;32m   1005\u001b[0m             )\n\u001b[1;32m-> 1006\u001b[1;33m         return self._input_request(\n\u001b[0m\u001b[0;32m   1007\u001b[0m             \u001b[0mstr\u001b[0m\u001b[1;33m(\u001b[0m\u001b[0mprompt\u001b[0m\u001b[1;33m)\u001b[0m\u001b[1;33m,\u001b[0m\u001b[1;33m\u001b[0m\u001b[1;33m\u001b[0m\u001b[0m\n\u001b[0;32m   1008\u001b[0m             \u001b[0mself\u001b[0m\u001b[1;33m.\u001b[0m\u001b[0m_parent_ident\u001b[0m\u001b[1;33m[\u001b[0m\u001b[1;34m\"shell\"\u001b[0m\u001b[1;33m]\u001b[0m\u001b[1;33m,\u001b[0m\u001b[1;33m\u001b[0m\u001b[1;33m\u001b[0m\u001b[0m\n",
      "\u001b[1;32md:\\python\\python 3.9.6\\lib\\site-packages\\ipykernel\\kernelbase.py\u001b[0m in \u001b[0;36m_input_request\u001b[1;34m(self, prompt, ident, parent, password)\u001b[0m\n\u001b[0;32m   1049\u001b[0m             \u001b[1;32mexcept\u001b[0m \u001b[0mKeyboardInterrupt\u001b[0m\u001b[1;33m:\u001b[0m\u001b[1;33m\u001b[0m\u001b[1;33m\u001b[0m\u001b[0m\n\u001b[0;32m   1050\u001b[0m                 \u001b[1;31m# re-raise KeyboardInterrupt, to truncate traceback\u001b[0m\u001b[1;33m\u001b[0m\u001b[1;33m\u001b[0m\u001b[1;33m\u001b[0m\u001b[0m\n\u001b[1;32m-> 1051\u001b[1;33m                 \u001b[1;32mraise\u001b[0m \u001b[0mKeyboardInterrupt\u001b[0m\u001b[1;33m(\u001b[0m\u001b[1;34m\"Interrupted by user\"\u001b[0m\u001b[1;33m)\u001b[0m \u001b[1;32mfrom\u001b[0m \u001b[1;32mNone\u001b[0m\u001b[1;33m\u001b[0m\u001b[1;33m\u001b[0m\u001b[0m\n\u001b[0m\u001b[0;32m   1052\u001b[0m             \u001b[1;32mexcept\u001b[0m \u001b[0mException\u001b[0m\u001b[1;33m:\u001b[0m\u001b[1;33m\u001b[0m\u001b[1;33m\u001b[0m\u001b[0m\n\u001b[0;32m   1053\u001b[0m                 \u001b[0mself\u001b[0m\u001b[1;33m.\u001b[0m\u001b[0mlog\u001b[0m\u001b[1;33m.\u001b[0m\u001b[0mwarning\u001b[0m\u001b[1;33m(\u001b[0m\u001b[1;34m\"Invalid Message:\"\u001b[0m\u001b[1;33m,\u001b[0m \u001b[0mexc_info\u001b[0m\u001b[1;33m=\u001b[0m\u001b[1;32mTrue\u001b[0m\u001b[1;33m)\u001b[0m\u001b[1;33m\u001b[0m\u001b[1;33m\u001b[0m\u001b[0m\n",
      "\u001b[1;31mKeyboardInterrupt\u001b[0m: Interrupted by user"
     ]
    }
   ],
   "source": [
    "''' 15. Se A é a qtde original de ácido e W é a qtde de água que é misturada em cada estágio,\n",
    "        a proporção de ácido na mistura quando a primeira peça é mergulhada é: A/(A+W)\n",
    "        Qdo esta peça é removida do banho ácido, a qtde de ácido na mistura diluída é: (A/(A+W)).A\n",
    "        Qdo a segunda peça é mergulhado no banho ácido, a proporção de ácido na mistura torna-se:\n",
    "        (A/(A+W)).A/(A+W) = (A/(A+W))^2\n",
    "        De uma forma geral, a proporção de ácido na mistura diluída depois de n fundições terem sido\n",
    "        mergulhadas é dada por: (A/(A+W))^n\n",
    "        Para a segunda parte do problema, se L é o limite inferior de acidez, devemos determinar o \n",
    "        valor de n para o qual:  (A/(A+W))^n < L\n",
    "        Tomando logarítmos em ambos lados da inequação: n > log(L)/(log(A) - log(A+W))\n",
    "        e o valor desejado de n é portanto o menor inteiro maior que a expressão do lado direito.\n",
    "'''\n",
    "from math import log10, ceil\n",
    "\n",
    "acido = float(input(\"Volume de Ácido (l)  : \"))\n",
    "agua  = float(input(\"Volume de Água (l)   : \"))\n",
    "funds = float(input(\"Qtde de fundições    : \"))\n",
    "concentracao = (acido/(acido+agua))**funds\n",
    "print(f\"Concentração de ácido depois de {funds} peças: {concentracao}\\n\")\n",
    "limit = float(input(\"Limite inferior de acidez: \"))\n",
    "qtd_fundicoes =  ceil(log10(limit)/(log10(acido) - log10(acido+agua)))\n",
    "print(f\"Qtde máxima de peças fundidas: {qtd_fundicoes}\\n\")"
   ]
  }
 ],
 "metadata": {
  "kernelspec": {
   "display_name": "Python 3 (ipykernel)",
   "language": "python",
   "name": "python3"
  },
  "language_info": {
   "codemirror_mode": {
    "name": "ipython",
    "version": 3
   },
   "file_extension": ".py",
   "mimetype": "text/x-python",
   "name": "python",
   "nbconvert_exporter": "python",
   "pygments_lexer": "ipython3",
   "version": "3.9.6"
  }
 },
 "nbformat": 4,
 "nbformat_minor": 2
}
