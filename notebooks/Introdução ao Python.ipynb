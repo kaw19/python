{
 "cells": [
  {
   "cell_type": "markdown",
   "id": "4959e7a0",
   "metadata": {},
   "source": [
    "# Introdução ao Python para Estudantes de Engenharia\n",
    "\n",
    "Aprender Python é uma ótima ideia para qualquer um interessado em Engenharia. \n",
    "A seguir estão algumas etapas que você pode seguir para começar:\n",
    "\n",
    "1. **Instale o ambiente Python**: O primeiro passo é baixar e instalar o interpretador Python no seu computador. Você pode baixar a versão mais recente do Python no site oficial (https://www.python.org/downloads/). Certifique-se de escolher a versão compatível com seu sistema operacional.\n",
    "\n",
    "1. **Aprenda o básico**: comece aprendendo o básico da liinguagem Python, como variáveis, tipos de dados, loops e funções. Existem muitos recursos online disponíveis para aprender Python, incluindo tutoriais e cursos gratuitos em *sites* como **Codecademy**, **Coursera** e **edX**.\n",
    "\n",
    "1. **Pratique a codificação**: pratique a codificação regularmente para reforçar seu aprendizado e desenvolver suas habilidades. Você pode começar com exercícios simples e passar gradualmente para projetos mais complexos.\n",
    "\n",
    "1. **Explore as bibliotecas (pacotes) Python**: a linguagem Python tem uma vasta coleção de bibliotecas que podem ser usadas em vários aplicativos de Engenharia, como **NumPy** para computação numérica, **Pandas** para análise de dados, **Scipy** para computação científica e análise estatística e **Matplotlib** para visualização de dados em formato gráfico. Explore essas bibliotecas para ver como elas podem ser usadas em seus projetos de Engenharia.\n",
    "\n",
    "1. **Participe de uma comunidade**: participe de comunidades *on-line* de desenvolvedores e engenheiros Python para obter suporte, compartilhar conhecimento e aprender com outras pessoas. *Sites* como **Stack Overflow** e **GitHub** são ótimos lugares para fazer perguntas, colaborar em projetos e encontrar recursos.\n",
    "\n",
    "Aprender Python exige tempo e esforço, mas pode ser uma experiência gratificante que pode aprimorar suas habilidades como engenheiro. Boa sorte com seu aprendizado sobre Python!"
   ]
  },
  {
   "cell_type": "markdown",
   "id": "4ee61177",
   "metadata": {},
   "source": [
    "# Instalação do Interpretador Python\n",
    "## Windows\n",
    "Acesso a página seguinte para seguir a instalação do site oficial da Linguagem Python:\n",
    "https://python.org.br/instalacao-windows/.\n",
    "\n",
    "## Linux\n",
    "Idem para o Linux: https://python.org.br/instalacao-linux/\n",
    "\n",
    "## OS-X\n",
    "Idem para o Mac: https://python.org.br/instalacao-mac/\n"
   ]
  }
 ],
 "metadata": {
  "kernelspec": {
   "display_name": "Python 3 (ipykernel)",
   "language": "python",
   "name": "python3"
  },
  "language_info": {
   "codemirror_mode": {
    "name": "ipython",
    "version": 3
   },
   "file_extension": ".py",
   "mimetype": "text/x-python",
   "name": "python",
   "nbconvert_exporter": "python",
   "pygments_lexer": "ipython3",
   "version": "3.9.6"
  }
 },
 "nbformat": 4,
 "nbformat_minor": 5
}
