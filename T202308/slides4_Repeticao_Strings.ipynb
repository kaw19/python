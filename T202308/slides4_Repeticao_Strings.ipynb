{
 "cells": [
  {
   "cell_type": "markdown",
   "metadata": {
    "slideshow": {
     "slide_type": "slide"
    }
   },
   "source": [
    "# <font color = \"blue\" style=\"background-color: #E9F7E1;\"> Execução Repetida e Strings</font>\n",
    "\n",
    "<ul><li><b>Declaração while</b></li>\n",
    "    <li><b>Declaração for</b></li>\n",
    "    <li><b>Laços Usuais</b></li>\n",
    "    <li><b>Strings</b></li>    "
   ]
  },
  {
   "cell_type": "markdown",
   "metadata": {
    "slideshow": {
     "slide_type": "slide"
    }
   },
   "source": [
    "## 1. Declaração `while`\n",
    "Repetir tarefas sem cometer erros, é algo que os computadores fazem bem melhor que os seres humanos. Python disponibiliza diversos recursos para que a repetição de tarefas possa ser realizada sem muitos esforços.\n",
    "\n",
    "Sintaxe:  \n",
    "``` python\n",
    "while condicao:\n",
    "    comando (ou bloco de comandos)\n",
    "```\n",
    "Enquanto a `condicao` (uma expressão relacional/lógica) for verdadeira, o comando (ou bloco) indentado será repetido.\n",
    "\n",
    "**Exemplo**:"
   ]
  },
  {
   "cell_type": "code",
   "execution_count": 3,
   "metadata": {
    "scrolled": true,
    "slideshow": {
     "slide_type": "subslide"
    }
   },
   "outputs": [
    {
     "name": "stdout",
     "output_type": "stream",
     "text": [
      "1 2 3 4 5 6 7 8 9 10 11 12 13 14 15 16 17 18 19 20 21 22 23 24 25 26 27 28 29 30 "
     ]
    }
   ],
   "source": [
    "# Números naturais de 1 a 30\n",
    "contador = 1\n",
    "while contador <= 30:\n",
    "    print(contador, end=' ')\n",
    "    contador = contador + 1      # ou, de forma mais resumida:  contador += 1"
   ]
  },
  {
   "cell_type": "markdown",
   "metadata": {
    "slideshow": {
     "slide_type": "subslide"
    }
   },
   "source": [
    "O bloco de instruções, formado pelas linhas 3 a 5 do trecho de *script* anterior, também é conhecido por laço de repetição (*loop*), pois terminada a execução do último comando do bloco (linha 5) a execução retorna à linha 3 para reavaliar a condição `contador <= 30`. Chamamos de **iteração** cada execução dos comandos do laço. No *script* anterior o laço de repetição terá trinta iterações, ou seja, o corpo do laço será executado trinta vezes.  \n",
    "\n",
    "O corpo do laço deve alterar o valor de uma (ou mais) variável, de modo que a condição de repetição se torne **falsa** e o laço se encerre. A variável que tem seu valor alterado em cada execução do laço e que controla o término do laço é chamada de **variável de iteração**.\n",
    "\n",
    "**Exemplo**:"
   ]
  },
  {
   "cell_type": "code",
   "execution_count": 5,
   "metadata": {
    "slideshow": {
     "slide_type": "subslide"
    }
   },
   "outputs": [
    {
     "name": "stdout",
     "output_type": "stream",
     "text": [
      "10 9 8 7 6 5 4 3 2 1 \n",
      "Ignição!\n"
     ]
    }
   ],
   "source": [
    "# Contagem regressiva para lançamento de veículo espacial\n",
    "contador = 10\n",
    "while contador > 0:\n",
    "    print(contador, end = ' ')    # end é o parâmetro de finalização do print()\n",
    "    contador -= 1                 # forma resumida de operação de decremento\n",
    "print(\"\\nIgnição!\")"
   ]
  },
  {
   "cell_type": "markdown",
   "metadata": {
    "slideshow": {
     "slide_type": "slide"
    }
   },
   "source": [
    "### 1.1 Interrupção Forçada do Laço com `break`\n",
    "Em algumas situações a execução do laço deve ser interrompida antes mesmo da **variável de iteração** chegar ao valor da `condicao` do comando `while`. Nessas situações, usamos a declaração **`break`** para interromper a execução do laço.\n",
    "\n",
    "Sintaxe:  \n",
    "``` python\n",
    "while condicao1:\n",
    "    comando1 \n",
    "    if condicao2:\n",
    "        break\n",
    "    comando2\n",
    "    ...\n",
    "    comandoN\n",
    "```\n",
    "\n",
    "**Exemplo**:"
   ]
  },
  {
   "cell_type": "code",
   "execution_count": 15,
   "metadata": {
    "slideshow": {
     "slide_type": "subslide"
    }
   },
   "outputs": [
    {
     "name": "stdout",
     "output_type": "stream",
     "text": [
      "Duas raízes reais distintas: 5.0 1.0\n",
      "Fim\n"
     ]
    }
   ],
   "source": [
    "# Interrupção do laço com 'break'\n",
    "from \n",
    "print('-- Obs.: digite \"fim\" para encerrar --')\n",
    "while True:\n",
    "    cor = input('Entre sua cor favorita:')\n",
    "    if cor.lower() == 'fim':\n",
    "        break\n",
    "    HTML\n"
   ]
  },
  {
   "cell_type": "markdown",
   "metadata": {
    "slideshow": {
     "slide_type": "subslide"
    }
   },
   "source": [
    "Essa forma de escrever laços `while`, com declaração `break` é bem comum, pois pode-se verificar a condição de abandono do laço em qualquer lugar do bloco (não apenas no topo) e você pode expressar a condição de parada afirmativamente (\"pare quando isso acontecer\") melhor do que negativamente (\"continue até que aquilo aconteça\")."
   ]
  },
  {
   "cell_type": "code",
   "execution_count": 126,
   "metadata": {
    "slideshow": {
     "slide_type": "subslide"
    }
   },
   "outputs": [
    {
     "name": "stdout",
     "output_type": "stream",
     "text": [
      "848 601 572 "
     ]
    }
   ],
   "source": [
    "# while com break - números aleatórios não múltiplos de 3\n",
    "import random\n",
    "while True:\n",
    "    x = random.randint(0,999)\n",
    "    if(x % 3 == 0): \n",
    "        break\n",
    "    print(x, end = ' ')"
   ]
  },
  {
   "cell_type": "markdown",
   "metadata": {
    "slideshow": {
     "slide_type": "slide"
    }
   },
   "source": [
    "### 1.2 Interrupção Forçada do Laço com `continue`\n",
    "Às vezes, você está em uma iteração de um laço e deseja finalizar essa iteração atual e pular imediatamente para a próxima. Nesse caso, você pode usar o comando **`continue`** para avançar para a próxima iteração sem executar as instruções restantes do laço na iteração atual.  \n",
    "\n",
    "Veja um exemplo de laço que mostra as entradas do usuário até ele digitar \"fim\", e desconsidera as linhas que começam com o caracter cerquilha (#). "
   ]
  },
  {
   "cell_type": "code",
   "execution_count": 23,
   "metadata": {
    "slideshow": {
     "slide_type": "subslide"
    }
   },
   "outputs": [
    {
     "name": "stdout",
     "output_type": "stream",
     "text": [
      "entrada> fajkshdf akj\n",
      "fajkshdf akj\n",
      "entrada> sssds\n",
      "sssds\n",
      "entrada> #dfasfads\n",
      "entrada> 432423\n",
      "432423\n",
      "entrada> #333\n",
      "entrada> fim\n",
      "Fim.\n"
     ]
    }
   ],
   "source": [
    "# mostra as entradas do usuário até ele digite 'fim', desconsiderando entradas com # no início\n",
    "while True:\n",
    "    entrada = input('entrada> ')\n",
    "    if entrada[0] == '#':\n",
    "        continue\n",
    "    if entrada == 'fim':\n",
    "        break\n",
    "    print(entrada)\n",
    "print('Fim.')"
   ]
  },
  {
   "cell_type": "markdown",
   "metadata": {
    "slideshow": {
     "slide_type": "slide"
    }
   },
   "source": [
    "## 2. Declaração `for`\n",
    "Quando se tem uma lista de coisas para processar, item por item, iterando sobre todos os elementos da lista, pode-se construir um laço com uma quantidade definida de iterações usando uma declaração **`for`**.  \n",
    "\n",
    "O laço realizado com uma declaração **`while`** é chamada de laço com **quantidade indefinida de iterações**, porque ele simplesmente permanece iterando até que alguma condição se torne falsa.  \n",
    "\n",
    "O laço **`for`** itera sobre um conjunto de itens conhecidos até que sejam executadas tantas **iterações (definidas)** quanto o número de itens nesse conjunto. \n",
    "\n",
    "Sintaxe:  \n",
    "``` python\n",
    "    for var_iteracao in sequencia:\n",
    "        comando (ou bloco de comandos)\n",
    "```\n",
    "A `var_iteracao` assume, a cada iteração, um dos elementos da `sequencia`, a qual é usado/manipulada pelo comando (ou bloco de comando)."
   ]
  },
  {
   "cell_type": "code",
   "execution_count": 2,
   "metadata": {
    "slideshow": {
     "slide_type": "subslide"
    }
   },
   "outputs": [
    {
     "name": "stdout",
     "output_type": "stream",
     "text": [
      "maçã\n",
      "banana\n",
      "morango\n",
      "44\n",
      "abacaxi\n",
      "True\n"
     ]
    }
   ],
   "source": [
    "frutas = [\"maçã\", \"banana\", \"morango\",44, \"abacaxi\"]\n",
    "for fruta in frutas:\n",
    "    print(fruta) "
   ]
  },
  {
   "cell_type": "markdown",
   "metadata": {
    "slideshow": {
     "slide_type": "subslide"
    }
   },
   "source": [
    "A variável `fruta` é a variável de iteração do laço `for`. A variável `fruta` muda a cada iteração do laço e controla quando o laço será concluído. A variável de iteração percorre sucessivamente as quatro palavras armazenadas na variável `frutas` (variável coleção do tipo **Lista**, que será abordada mais adiante)."
   ]
  },
  {
   "cell_type": "markdown",
   "metadata": {
    "slideshow": {
     "slide_type": "slide"
    }
   },
   "source": [
    "## 3. Laços Usuais\n",
    "\n",
    "### 3.1 Contagem Explícita\n",
    "Para contar o número de itens em uma sequência, escreveríamos o seguinte laço `for`:"
   ]
  },
  {
   "cell_type": "code",
   "execution_count": 3,
   "metadata": {
    "slideshow": {
     "slide_type": "subslide"
    }
   },
   "outputs": [
    {
     "name": "stdout",
     "output_type": "stream",
     "text": [
      "22 7 13 Ok 1 5 True 55 34.331 19 \n",
      "Elementos na lista: 10\n"
     ]
    }
   ],
   "source": [
    "# contador = 0                          # inicialização do contador\n",
    "lista = [22, 7, 13, \"Ok\", 1, 5, True, 55, 34.331, 19]\n",
    "for item in lista:\n",
    "    print(item, end=' ')              # mostra cada item da lista\n",
    "    # contador = contador + 1           # incrementação da contagem\n",
    "print('\\nElementos na lista:', len(lista))"
   ]
  },
  {
   "cell_type": "markdown",
   "metadata": {},
   "source": [
    "### 3.2 Contagem Implícita\n",
    "\n",
    "Usando a função nativa `enumerate()` algumas tarefas das contagem, tais como inicialização e incrementação, são economizadas."
   ]
  },
  {
   "cell_type": "code",
   "execution_count": 9,
   "metadata": {},
   "outputs": [
    {
     "name": "stdout",
     "output_type": "stream",
     "text": [
      "22 7 13 Ok 1 5 True 55 34.331 19 \n",
      "Elementos na lista: 10\n"
     ]
    }
   ],
   "source": [
    "for contador, item in enumerate([22, 7, 13, \"Ok\", 1, 5, True, 55, 34.331, 19], start=1):\n",
    "    print(item, end=' ')              # mostra cada item da lista\n",
    "print('\\nElementos na lista:', contador)"
   ]
  },
  {
   "cell_type": "markdown",
   "metadata": {
    "slideshow": {
     "slide_type": "slide"
    }
   },
   "source": [
    "### 3.3 Acumulação\n",
    "Outro laço semelhante que calcula a soma dos valores de um conjunto (sequência) é o seguinte:"
   ]
  },
  {
   "cell_type": "code",
   "execution_count": 32,
   "metadata": {
    "slideshow": {
     "slide_type": "subslide"
    }
   },
   "outputs": [
    {
     "name": "stdout",
     "output_type": "stream",
     "text": [
      "Soma dos elementos da lista: 148\n"
     ]
    }
   ],
   "source": [
    "soma = 0\n",
    "for var_iter in [15, 1, 52, 9, 43, 3, 25]:\n",
    "    soma += var_iter\n",
    "print('Soma dos elementos da lista:', soma)"
   ]
  },
  {
   "cell_type": "markdown",
   "metadata": {
    "slideshow": {
     "slide_type": "slide"
    }
   },
   "source": [
    "### Exercícios\n",
    "1. Escreva um programa para ler números até que o usuário digite \"fim\". Após o término da entrada de dados, mostre a soma, a quantidade e a média dos números digitados. Se o usuário digitar qualquer coisa que não seja um número e nem \"fim\", detecte o erro usando `try/except` e mostre na tela uma mensagem de erro e volte a ler o próximo número.\n",
    "2. Escreva um programa para ler números até que o usuário digite \"fim\". Após o término da entrada de dados, mostre o número máximo e o número mínimo da lista de números lidos."
   ]
  },
  {
   "cell_type": "markdown",
   "metadata": {
    "slideshow": {
     "slide_type": "slide"
    }
   },
   "source": [
    "## 4. Strings\n",
    "String é definida em Python como sendo uma cadeia (sequência) de caracteres delimitados por apóstrofes,`''`, aspas duplas, `\"\"` ou aspas triplas, `''''''` (strings com várias linhas de caracteres).  \n",
    "Exemplos: \n",
    "```python\n",
    "'Fica sempre'\n",
    "\"Fica sempre\"\n",
    "'''Fica\n",
    "sempre'''\n",
    "```\n",
    "\n",
    "Pode-se acessar cada um dos caracteres da string com o operador colchetes, ou seja, usando um índice (valor inteiro) que indica a posição do caracter dentro da string, considerando o primeiro índice como sendo o valor zero:"
   ]
  },
  {
   "cell_type": "code",
   "execution_count": 33,
   "metadata": {
    "slideshow": {
     "slide_type": "subslide"
    }
   },
   "outputs": [
    {
     "name": "stdout",
     "output_type": "stream",
     "text": [
      "F i s\n"
     ]
    }
   ],
   "source": [
    "musica = \"Fica sempre\"\n",
    "print(musica[0], musica[1], musica[5])"
   ]
  },
  {
   "cell_type": "markdown",
   "metadata": {
    "slideshow": {
     "slide_type": "subslide"
    }
   },
   "source": [
    "<img alt=\"Indexação de Strings\" src=\"img/ind_string.png\" width=500>"
   ]
  },
  {
   "cell_type": "markdown",
   "metadata": {
    "slideshow": {
     "slide_type": "subslide"
    }
   },
   "source": [
    "A indexação pode ser feita com valores inteiros positivos, no qual o primeiro elemento da string terá o índice 0 e os elementos subsequentes terão índices sucessivos; ou com valores inteiros negativos, no qual o último elemento da string sempre terá o índice -1."
   ]
  },
  {
   "cell_type": "code",
   "execution_count": 36,
   "metadata": {
    "slideshow": {
     "slide_type": "subslide"
    }
   },
   "outputs": [
    {
     "name": "stdout",
     "output_type": "stream",
     "text": [
      "F e\n"
     ]
    }
   ],
   "source": [
    "print(musica[0], musica[-1])"
   ]
  },
  {
   "cell_type": "markdown",
   "metadata": {
    "slideshow": {
     "slide_type": "slide"
    }
   },
   "source": [
    "### 4.1 Comprimento\n",
    "Usa-se a função nativa (embarcada) do Python para calcular comprimento de sequências: `len()`."
   ]
  },
  {
   "cell_type": "code",
   "execution_count": 34,
   "metadata": {
    "slideshow": {
     "slide_type": "subslide"
    }
   },
   "outputs": [
    {
     "name": "stdout",
     "output_type": "stream",
     "text": [
      "11\n"
     ]
    }
   ],
   "source": [
    "print(len(musica))"
   ]
  },
  {
   "cell_type": "markdown",
   "metadata": {
    "slideshow": {
     "slide_type": "slide"
    }
   },
   "source": [
    "### 4.2 Travessia de Strings \n",
    "É muito comum percorrer todos os caracteres de uma string, começando pelo primeiro, seleciona-se um por vez, aplica-se alguma operação e o processo é repetido até o último caracter da string. Esse modelo de processamento é chamado de travessia (*traversal*). Vamos fazer a travessia de uma string usando um laço `while`."
   ]
  },
  {
   "cell_type": "code",
   "execution_count": 38,
   "metadata": {
    "slideshow": {
     "slide_type": "subslide"
    }
   },
   "outputs": [
    {
     "name": "stdout",
     "output_type": "stream",
     "text": [
      "Fica sempre"
     ]
    }
   ],
   "source": [
    "# acessando as letras do nome da música via laço 'while'\n",
    "ind = 0\n",
    "while ind < len(musica):\n",
    "    letra = musica[ind]\n",
    "    print(letra, end='')\n",
    "    ind += 1"
   ]
  },
  {
   "cell_type": "code",
   "execution_count": 39,
   "metadata": {
    "slideshow": {
     "slide_type": "subslide"
    }
   },
   "outputs": [
    {
     "name": "stdout",
     "output_type": "stream",
     "text": [
      "Fica sempre"
     ]
    }
   ],
   "source": [
    "# acessando as letras do nome da música via laço 'for'\n",
    "for letra in musica:\n",
    "    print(letra, end='')"
   ]
  },
  {
   "cell_type": "markdown",
   "metadata": {
    "slideshow": {
     "slide_type": "slide"
    }
   },
   "source": [
    "#### Exercício:\n",
    "Escreva um loop `while` que inicia no último caractere da string e caminha em direção ao primeiro caractere, imprimindo uma letra por vez."
   ]
  },
  {
   "cell_type": "markdown",
   "metadata": {
    "slideshow": {
     "slide_type": "slide"
    }
   },
   "source": [
    "### 4.3 Segmentos de Strings \n",
    "Um segmento de uma string é uma parte da string, também chamado de fatia (*slice*) da string. A seleção de um *slice* é similar a seleção de um caracter:"
   ]
  },
  {
   "cell_type": "code",
   "execution_count": 40,
   "metadata": {
    "scrolled": true,
    "slideshow": {
     "slide_type": "subslide"
    }
   },
   "outputs": [
    {
     "name": "stdout",
     "output_type": "stream",
     "text": [
      "Monty\n"
     ]
    }
   ],
   "source": [
    "s = 'Monty Python'\n",
    "print(s[0:5])        # mostra as letras do índice 0 a 4"
   ]
  },
  {
   "cell_type": "markdown",
   "metadata": {
    "slideshow": {
     "slide_type": "subslide"
    }
   },
   "source": [
    "O operador retorna a parte da string que está entre os dois valores separados por dois pontos `:`, incluindo o primeiro número e excluindo o último.  \n",
    "Ao se omitir o primeiro índice, o *slice* irá começar do início da string. Ao se omitir o segundo índice, o *slice* irá terminar no último caractere da string:"
   ]
  },
  {
   "cell_type": "code",
   "execution_count": 42,
   "metadata": {
    "slideshow": {
     "slide_type": "subslide"
    }
   },
   "outputs": [
    {
     "name": "stdout",
     "output_type": "stream",
     "text": [
      "ban ana\n"
     ]
    }
   ],
   "source": [
    "fruta = 'banana'\n",
    "print(fruta[:3], fruta[3:])"
   ]
  },
  {
   "cell_type": "markdown",
   "metadata": {
    "slideshow": {
     "slide_type": "subslide"
    }
   },
   "source": [
    "Se o primeiro índice foi maior ou igual ao segundo índice, o resultado será uma\n",
    "string vazia, representada por duas aspas: `''` ou `\"\"`. Uma string vazia não contém nenhum caractere e possui comprimento 0.  Se ambos valores são omitidos no *slice*, então a string toda será acessada:"
   ]
  },
  {
   "cell_type": "code",
   "execution_count": 43,
   "metadata": {
    "slideshow": {
     "slide_type": "subslide"
    }
   },
   "outputs": [
    {
     "data": {
      "text/plain": [
       "'banana'"
      ]
     },
     "execution_count": 43,
     "metadata": {},
     "output_type": "execute_result"
    }
   ],
   "source": [
    "fruta[:]"
   ]
  },
  {
   "cell_type": "markdown",
   "metadata": {
    "slideshow": {
     "slide_type": "subslide"
    }
   },
   "source": [
    "As strings são sequências imutáveis, ou seja, depois de criadas não podem ser alteradas e no caso de uma tentativa, o interpretador emitirá uma mensagem de erro do tipo: objeto 'str' não permite atribuição de item.  \n",
    "Exemplo:"
   ]
  },
  {
   "cell_type": "code",
   "execution_count": 44,
   "metadata": {
    "slideshow": {
     "slide_type": "subslide"
    }
   },
   "outputs": [
    {
     "ename": "TypeError",
     "evalue": "'str' object does not support item assignment",
     "output_type": "error",
     "traceback": [
      "\u001b[1;31m---------------------------------------------------------------------------\u001b[0m",
      "\u001b[1;31mTypeError\u001b[0m                                 Traceback (most recent call last)",
      "\u001b[1;32m<ipython-input-44-ba3ecc811ddc>\u001b[0m in \u001b[0;36m<module>\u001b[1;34m\u001b[0m\n\u001b[0;32m      1\u001b[0m \u001b[0mnome\u001b[0m \u001b[1;33m=\u001b[0m \u001b[1;34m\"Francisco\"\u001b[0m\u001b[1;33m\u001b[0m\u001b[1;33m\u001b[0m\u001b[0m\n\u001b[1;32m----> 2\u001b[1;33m \u001b[0mnome\u001b[0m\u001b[1;33m[\u001b[0m\u001b[1;33m-\u001b[0m\u001b[1;36m1\u001b[0m\u001b[1;33m]\u001b[0m \u001b[1;33m=\u001b[0m \u001b[1;34m'a'\u001b[0m\u001b[1;33m\u001b[0m\u001b[1;33m\u001b[0m\u001b[0m\n\u001b[0m",
      "\u001b[1;31mTypeError\u001b[0m: 'str' object does not support item assignment"
     ]
    }
   ],
   "source": [
    "nome = \"Francisco\"\n",
    "nome[-1] = 'a'"
   ]
  },
  {
   "cell_type": "markdown",
   "metadata": {
    "slideshow": {
     "slide_type": "slide"
    }
   },
   "source": [
    "### 4.4 Manipulações de Strings\n",
    "\n",
    "#### a) Contagem de letras"
   ]
  },
  {
   "cell_type": "code",
   "execution_count": 56,
   "metadata": {
    "slideshow": {
     "slide_type": "subslide"
    }
   },
   "outputs": [
    {
     "name": "stdout",
     "output_type": "stream",
     "text": [
      "Qtde de letras 'a': 3\n"
     ]
    }
   ],
   "source": [
    "fruta = 'laranja'\n",
    "contador = 0\n",
    "for letra in fruta:\n",
    "    if letra == 'a':\n",
    "        contador += 1\n",
    "print(\"Qtde de letras 'a':\", contador)"
   ]
  },
  {
   "cell_type": "markdown",
   "metadata": {
    "slideshow": {
     "slide_type": "slide"
    }
   },
   "source": [
    "#### b) Operador de Pertencimento: in"
   ]
  },
  {
   "cell_type": "code",
   "execution_count": 58,
   "metadata": {
    "slideshow": {
     "slide_type": "subslide"
    }
   },
   "outputs": [
    {
     "name": "stdout",
     "output_type": "stream",
     "text": [
      "True True False\n"
     ]
    }
   ],
   "source": [
    "print('a' in fruta, 'anja' in fruta, 'maria' in fruta)"
   ]
  },
  {
   "cell_type": "markdown",
   "metadata": {
    "slideshow": {
     "slide_type": "slide"
    }
   },
   "source": [
    "#### c) Comparação de Strings"
   ]
  },
  {
   "cell_type": "code",
   "execution_count": 60,
   "metadata": {
    "slideshow": {
     "slide_type": "subslide"
    }
   },
   "outputs": [
    {
     "name": "stdout",
     "output_type": "stream",
     "text": [
      "Habemos laranjas\n"
     ]
    }
   ],
   "source": [
    "if fruta == 'laranja':\n",
    "    print('Habemos laranjas')"
   ]
  },
  {
   "cell_type": "markdown",
   "metadata": {
    "slideshow": {
     "slide_type": "slide"
    }
   },
   "source": [
    "#### d) Métodos (funções de Strings)\n",
    "Strings são exemplos de objetos no Python. Um objeto contém tanto a informação\n",
    "(os caracteres que compõe a string), como os métodos (funções que manipulam as strings).\n",
    "Python possui uma função chamada `dir` que lista os métodos disponíveis num\n",
    "objeto, enquanto que a função `type` mostra o tipo do objeto."
   ]
  },
  {
   "cell_type": "code",
   "execution_count": 53,
   "metadata": {
    "slideshow": {
     "slide_type": "subslide"
    }
   },
   "outputs": [
    {
     "name": "stdout",
     "output_type": "stream",
     "text": [
      "<class 'str'>\n",
      "['__add__', '__class__', '__contains__', '__delattr__', '__dir__', '__doc__', '__eq__', '__format__', '__ge__', '__getattribute__', '__getitem__', '__getnewargs__', '__gt__', '__hash__', '__init__', '__init_subclass__', '__iter__', '__le__', '__len__', '__lt__', '__mod__', '__mul__', '__ne__', '__new__', '__reduce__', '__reduce_ex__', '__repr__', '__rmod__', '__rmul__', '__setattr__', '__sizeof__', '__str__', '__subclasshook__', 'capitalize', 'casefold', 'center', 'count', 'encode', 'endswith', 'expandtabs', 'find', 'format', 'format_map', 'index', 'isalnum', 'isalpha', 'isascii', 'isdecimal', 'isdigit', 'isidentifier', 'islower', 'isnumeric', 'isprintable', 'isspace', 'istitle', 'isupper', 'join', 'ljust', 'lower', 'lstrip', 'maketrans', 'partition', 'replace', 'rfind', 'rindex', 'rjust', 'rpartition', 'rsplit', 'rstrip', 'split', 'splitlines', 'startswith', 'strip', 'swapcase', 'title', 'translate', 'upper', 'zfill']\n",
      "Help on method_descriptor:\n",
      "\n",
      "rindex(...)\n",
      "    S.rindex(sub[, start[, end]]) -> int\n",
      "    \n",
      "    Return the highest index in S where substring sub is found,\n",
      "    such that sub is contained within S[start:end].  Optional\n",
      "    arguments start and end are interpreted as in slice notation.\n",
      "    \n",
      "    Raises ValueError when the substring is not found.\n",
      "\n"
     ]
    }
   ],
   "source": [
    "saudacao = 'Olá pessoal!'\n",
    "print(type(saudacao))\n",
    "print(dir(saudacao))\n",
    "help(str.rindex)"
   ]
  },
  {
   "cell_type": "markdown",
   "metadata": {
    "slideshow": {
     "slide_type": "subslide"
    }
   },
   "source": [
    "Chamar um método é similar a chamar uma função que recebe argumentos e retorna\n",
    "um valor, mas a sintaxe é um pouco diferente. Chamamos um método anexando o nome\n",
    "dele ao nome da variável usando um ponto como separador."
   ]
  },
  {
   "cell_type": "code",
   "execution_count": 67,
   "metadata": {
    "slideshow": {
     "slide_type": "slide"
    }
   },
   "outputs": [
    {
     "name": "stdout",
     "output_type": "stream",
     "text": [
      "LARANJA Laranja laranja\n"
     ]
    }
   ],
   "source": [
    "maiuscula = fruta.upper()\n",
    "print(maiuscula, fruta.capitalize(), fruta.lower())"
   ]
  },
  {
   "cell_type": "code",
   "execution_count": 70,
   "metadata": {
    "slideshow": {
     "slide_type": "subslide"
    }
   },
   "outputs": [
    {
     "name": "stdout",
     "output_type": "stream",
     "text": [
      "'Aqui começa o parágrafo... e termina aqui.' 54 44\n",
      "Letras \"e\": 3\n"
     ]
    }
   ],
   "source": [
    "texto = \"   'Aqui começa o parágrafo... e termina aqui.'       \"\n",
    "enxuto = texto.strip()\n",
    "print(enxuto, len(texto), len(enxuto))\n",
    "print('Letras \"e\":', texto.count('e'))"
   ]
  },
  {
   "cell_type": "markdown",
   "metadata": {
    "slideshow": {
     "slide_type": "slide"
    }
   },
   "source": [
    "#### e) Particionando Strings (desmembrando)\n",
    "Frequentemente precisa-se analisar o conteúdo de uma string para encontrar\n",
    "uma substring. Por exemplo: dada uma sequência de linhas formatadas da seguinte forma:  \n",
    "\n",
    "`From stephen.marquard@ifg.edu.za Sat Jan 5 09:14:16 2008`\n",
    "\n",
    "pede-se separar somente o nome do hospedeiro (*host*), ou seja, a segunda metade do endereço de cada linha, nesse exemplo `ifg.edu.za`. Vamos usar o método `find` e o fatiamento de strings.  \n",
    "\n",
    "Primeiramente, achamos a posição do caracter arroba `@` na string. Depois, achamos a posição do primeiro espaço após o arroba, e então usamos o fatiamento para extrair a parte da string de interesse."
   ]
  },
  {
   "cell_type": "code",
   "execution_count": 73,
   "metadata": {
    "slideshow": {
     "slide_type": "subslide"
    }
   },
   "outputs": [
    {
     "name": "stdout",
     "output_type": "stream",
     "text": [
      "12\n",
      "23\n",
      "Hospedeiro: ifg.edu.br\n"
     ]
    }
   ],
   "source": [
    "cabec = 'From claudio@ifg.edu.br Sun Dec 15 19:40:55 2020'\n",
    "posic = cabec.find('@')\n",
    "print(posic)\n",
    "pos_esp = cabec.find(' ', posic)\n",
    "print(pos_esp)\n",
    "host = cabec[posic+1:pos_esp]\n",
    "print(\"Hospedeiro:\",host)"
   ]
  },
  {
   "cell_type": "markdown",
   "metadata": {
    "slideshow": {
     "slide_type": "slide"
    }
   },
   "source": [
    "#### f) Formatação (<span style=\"color:blue\">estilo antigo</span>)\n",
    "A linguagem Python usa formatação de string no estilo da **linguagem C** para criar strings novas formatadas. O operador `%` é usado para formatar um conjunto de variáveis dentro de uma tupla (uma lista fixa de itens), junto com uma string de formato, que contém texto normal e **especificadores de formato**, símbolos especiais como `%s`, `% d`, `%f`, `%g` etc.  \n",
    "\n",
    "O operador de formatação `%` constroi strings a partir da combinação de strings (constantes) e de  variáveis de qualquer tipo.  \n",
    "\n",
    "Sintaxe:  \n",
    "`\"%operando1\" % operando2`\n",
    "\n",
    "O primeiro operando é a string de formatação que contém uma ou mais especificadores de formatação que determinam como o segundo operando é formatado. O resultado do operador `%` é uma string.  \n",
    "\n",
    "Por exemplo, o especificador `\"%d\"` formata o segundo operando como um número inteiro (decimal)."
   ]
  },
  {
   "cell_type": "code",
   "execution_count": 77,
   "metadata": {
    "slideshow": {
     "slide_type": "subslide"
    }
   },
   "outputs": [
    {
     "name": "stdout",
     "output_type": "stream",
     "text": [
      "Volume = 50 litros.\n",
      "Volume =   50 litros..\n",
      "Volume = 0050 litros.\n"
     ]
    }
   ],
   "source": [
    "volume = 50\n",
    "msg = \"Volume = %d litros.\" % volume\n",
    "print(msg)\n",
    "msg = \"Volume = %4d litros.\" % volume\n",
    "print(msg)\n",
    "msg = \"Volume = %04d litros.\" % volume\n",
    "print(msg)"
   ]
  },
  {
   "cell_type": "markdown",
   "metadata": {
    "slideshow": {
     "slide_type": "subslide"
    }
   },
   "source": [
    "Se existir mais de um **especificador de formatação** em uma string, o segundo argumento tem que ser uma tupla ( sequência de valores separados por vírgulas dentro de um par de parênteses). Cada uma das sequências é combinada com um elemento da tupla, em ordem."
   ]
  },
  {
   "cell_type": "code",
   "execution_count": 86,
   "metadata": {
    "slideshow": {
     "slide_type": "subslide"
    }
   },
   "outputs": [
    {
     "name": "stdout",
     "output_type": "stream",
     "text": [
      "Volume = 50 litros, Massa = 23 kg, Densidade = 0.000468 kg/m3.\n",
      "Volume = 50 litros, Massa = 23.380000 kg, Densidade = 0.0005 kg/m3.\n",
      "Volume = 50 litros, Massa = 23.4 kg, Densidade = 4.676000e-04 kg/m3.\n",
      "Volume = 50 litros, Massa = 23.38 kg, Densidade = 4.68e-04 kg/m3.\n"
     ]
    }
   ],
   "source": [
    "massa = 23.38\n",
    "msg = \"Volume = %d litros, Massa = %d kg, Densidade = %f kg/m3.\" % (volume, massa, massa/volume/1000)\n",
    "print(msg)\n",
    "msg = \"Volume = %d litros, Massa = %f kg, Densidade = %6.4f kg/m3.\" % (volume, massa, massa/volume/1000)\n",
    "print(msg)\n",
    "msg = \"Volume = %d litros, Massa = %4.1f kg, Densidade = %e kg/m3.\" % (volume, massa, massa/volume/1000)\n",
    "print(msg)\n",
    "msg = \"Volume = %d litros, Massa = %4.2f kg, Densidade = %6.2e kg/m3.\" % (volume, massa, massa/volume/1000)\n",
    "print(msg)"
   ]
  },
  {
   "cell_type": "markdown",
   "metadata": {
    "slideshow": {
     "slide_type": "slide"
    }
   },
   "source": [
    "| Especificador | Descrição |\n",
    "| :-----------: | :-------- |\n",
    "| %s | string |\n",
    "| %d | números inteiros |\n",
    "| %f | números reais |\n",
    "| %m.nf | números reais com 'm' posições e 'n' casas decimais |\n",
    "| %e ou %E | números reais em notação científica |\n",
    "| %x ou %X | números inteiros em hexadecimal |"
   ]
  },
  {
   "cell_type": "markdown",
   "metadata": {
    "slideshow": {
     "slide_type": "slide"
    }
   },
   "source": [
    "#### g) Formatação (<span style=\"color:blue\">estilo novo</span>)\n",
    "O Python-3 trouxe uma nova maneira de fazer a formatação de strings que também foi posteriormente transportada para o Python 2.7. Este **\"novo estilo\"** não usa a sintaxe de especificadores de formatação `%`, facilitando a formatação de strings. A formatação agora é feita com o método `.format()` da classe string."
   ]
  },
  {
   "cell_type": "code",
   "execution_count": 92,
   "metadata": {
    "slideshow": {
     "slide_type": "subslide"
    }
   },
   "outputs": [
    {
     "name": "stdout",
     "output_type": "stream",
     "text": [
      "Olá, Francisco de Assis!\n"
     ]
    }
   ],
   "source": [
    "nome = \"Francisco de Assis\"\n",
    "print('Olá, {}!'.format(nome))"
   ]
  },
  {
   "cell_type": "markdown",
   "metadata": {
    "slideshow": {
     "slide_type": "subslide"
    }
   },
   "source": [
    "Ou você pode se referir às substituições de variáveis por nome e usá-las na ordem que desejar. Este é um recurso bastante interessante, pois permite reorganizar a ordem de exibição sem alterar os argumentos passados ao método `format()`:"
   ]
  },
  {
   "cell_type": "code",
   "execution_count": 95,
   "metadata": {
    "scrolled": false,
    "slideshow": {
     "slide_type": "subslide"
    }
   },
   "outputs": [
    {
     "name": "stdout",
     "output_type": "stream",
     "text": [
      "Ei Francisco de Assis, vc tem 0x8B9D4EB2 seguidores!\n"
     ]
    }
   ],
   "source": [
    "seguidores = 2342342322\n",
    "print('Ei {inf}, vc tem 0x{seg:X} seguidores!'.format(inf=nome, seg=seguidores))"
   ]
  },
  {
   "cell_type": "markdown",
   "metadata": {
    "slideshow": {
     "slide_type": "slide"
    }
   },
   "source": [
    "#### h) Formatação (<span style=\"color:blue\">interpolação de strings</span>)\n",
    "Python 3.6 adicionou uma nova forma de formatação de string chamada de **\"f-strings\"**. Ela permite o uso de expressões Python embutidas nas constantes string. \n",
    "Exemplo:"
   ]
  },
  {
   "cell_type": "code",
   "execution_count": 129,
   "metadata": {
    "slideshow": {
     "slide_type": "subslide"
    }
   },
   "outputs": [
    {
     "name": "stdout",
     "output_type": "stream",
     "text": [
      "Olá, Francisco de Assis!\n"
     ]
    }
   ],
   "source": [
    "print(f'Olá, {nome}!')"
   ]
  },
  {
   "cell_type": "markdown",
   "metadata": {
    "slideshow": {
     "slide_type": "subslide"
    }
   },
   "source": [
    "Repare no uso do prefixo 'f' (pode ser letra maiúscula, 'F') antes da constante string - daí o nome **'f-strings'**. Nessa nova sintaxe de formatação podemos incorporar expressões Python arbitrárias. As **f-strings** são mais rápidas do que as formatações com especificadores `%` e o método `str.format()`, pois elas são expressões avaliadas em tempo de execução, em vez de valores constantes.  \n",
    "Exemplo:"
   ]
  },
  {
   "cell_type": "code",
   "execution_count": 145,
   "metadata": {
    "slideshow": {
     "slide_type": "subslide"
    }
   },
   "outputs": [
    {
     "name": "stdout",
     "output_type": "stream",
     "text": [
      "Volume = 50 litros, Massa = 23.38 kg.\n",
      "Volume = 50 litros, Massa = 23.38 kg, Densidade =    0.0005 kg/m3.\n",
      "Volume = 50 litros, Massa = 23.38 kg, Densidade = 4.676e-04 kg/m3.\n"
     ]
    }
   ],
   "source": [
    "print(f\"Volume = {volume} litros, Massa = {massa} kg.\")\n",
    "print(f\"Volume = {volume} litros, Massa = {massa} kg, \" \\\n",
    "      f\"Densidade = {massa/volume/1000:9.4f} kg/m3.\")\n",
    "print(f\"Volume = {volume} litros, Massa = {massa} kg, \" \\\n",
    "      f\"Densidade = {massa/volume/1000:8.3e} kg/m3.\")"
   ]
  },
  {
   "cell_type": "code",
   "execution_count": 147,
   "metadata": {},
   "outputs": [
    {
     "name": "stdout",
     "output_type": "stream",
     "text": [
      "Digite o CPF (só algarismos): 33344999944\n",
      "333.449.999-44\n"
     ]
    }
   ],
   "source": [
    "# Exemplo de formatação com f-string para número de CPF\n",
    "cpf = input('Digite o CPF (só algarismos): ')\n",
    "if len(cpf) < 11:\n",
    "    cpf = cpf.zfill(11)\n",
    "print(f'{cpf[:3]}.{cpf[3:6]}.{cpf[6:9]}-{cpf[9:]}')"
   ]
  },
  {
   "cell_type": "code",
   "execution_count": 152,
   "metadata": {},
   "outputs": [
    {
     "name": "stdout",
     "output_type": "stream",
     "text": [
      "Digite o CPF (só algarismos): 123456789\n"
     ]
    },
    {
     "data": {
      "text/plain": [
       "'001.234.567-89'"
      ]
     },
     "execution_count": 152,
     "metadata": {},
     "output_type": "execute_result"
    }
   ],
   "source": [
    "# Exemplo de formatação com f-string para número de CPF usando Expressões Regulares\n",
    "import re\n",
    "def format_cpf(cpf):\n",
    "    cpf = \"{:0>11}\".format(int(cpf))\n",
    "    return re.sub(\"(\\d{3})(\\d{3})(\\d{3})(\\d{2})\", \"\\\\1.\\\\2.\\\\3-\\\\4\", cpf)\n",
    "\n",
    "cpf = input('Digite o CPF (só algarismos): ')\n",
    "format_cpf(cpf)"
   ]
  },
  {
   "cell_type": "markdown",
   "metadata": {
    "slideshow": {
     "slide_type": "slide"
    }
   },
   "source": [
    "### Exercícios\n",
    "1. Dado uma string:  `res = 'score-de-confianca:0.8475'`. Armazene a parte numérica da string (depois do sinal de dois pontos), armazene numa variável do tipo float e mostre seu valor com a função `print()`. *Dica*: método `find()` da classe string, função `float()` e fatiamento de strings.  \n",
    "\n",
    "2. Usando a string do exercício anterior, substitua a parte numérica por 0.9332 e mostre o resultado com a função `print()`. *Dica*: método `replace()` da classe string. \n",
    "\n",
    "A documentação oficial do Python utiliza uma sintaxe que pode ser um pouco confusa. Por exemplo, em `find(sub[, start[, end]])`, os colchetes indicam argumentos opcionais, ou seja, o parâmetro `sub` é obrigatório, mas `start` é opcional, e se você incluir `start`, `end`ainda pode ser opcional."
   ]
  },
  {
   "cell_type": "markdown",
   "metadata": {
    "slideshow": {
     "slide_type": "slide"
    }
   },
   "source": [
    "## Fim.\n",
    "<p style=\"text-align:right;\"><a href='../Índice.ipynb' target=\"_self\">Volta ao Índice</a></p>"
   ]
  }
 ],
 "metadata": {
  "kernelspec": {
   "display_name": "Python 3 (ipykernel)",
   "language": "python",
   "name": "python3"
  },
  "language_info": {
   "codemirror_mode": {
    "name": "ipython",
    "version": 3
   },
   "file_extension": ".py",
   "mimetype": "text/x-python",
   "name": "python",
   "nbconvert_exporter": "python",
   "pygments_lexer": "ipython3",
   "version": "3.9.6"
  }
 },
 "nbformat": 4,
 "nbformat_minor": 4
}
