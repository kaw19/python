{
 "cells": [
  {
   "cell_type": "markdown",
   "metadata": {
    "slideshow": {
     "slide_type": "slide"
    },
    "tags": [
     "0."
    ]
   },
   "source": [
    "<figure>\n",
    "  <img src='img/pandas.png' alt='logomarca do pandas' width=\"250px\">\n",
    "    <figcaption style=\"text-align:center;font-family:'Times New Roman';color:blue\">Por: <b>Cláudio Fleury</b>, Mar/23</figcaption>\n",
    "</figure>\n",
    "\n",
    "\n",
    "<h2 style=\"color:blue; background-color:#F3F2F9;\">Apresentação</h2>\n",
    "\n",
    "O **Pandas** é um pacote da linguagem Python, usado de forma rápida, flexível e fácil na análise de dados. Ele foi construído a partir do pacote **NumPy**, ampliando seus recursos na análise de dados **relacionais** ou **rotulados**. \n",
    "\n",
    "**Pandas** significa *Python Data Analysis Library*. De acordo com a página da Wikipedia sobre Pandas, o nome é derivado do termo \"dados de painel\" (em inglês, _**pan**el **da**ta_), um termo econométrico para conjuntos de dados estruturados multidimensionais. Ele visa ser o bloco de construção fundamental de alto nível nas análises práticas de dados do mundo real em Python.\n",
    "\n",
    "O **Pandas** adota o estilo idiomático de computação baseada em arranjos **NumPy**. A maior diferença entre o **Pandas** e o **Numpy** é que o primeiro foi projetado para trabalhar com dados tabulares e heterogêneos, enquanto o segundo trabalha com dados numéricos matriciais e homogêneos, ou seja, dados do mundo real.\n",
    "\n",
    "O Pandas é um dos pacotes da linguagem Python mais utilizado em **Machine Learning** e **Inteligência Artificial**. Ele fornece ferramentas para manipulação e análise de dados, de maneira simples e eficiente, conferindo alta performance aos códigos.\n",
    "\n",
    "O pacote **Pandas** é adequado à análise de muitos tipos diferentes de dados: \n",
    "- Dados tabulares com colunas de tipos heterogêneos, como numa tabela SQL ou planilha do Excel.   \n",
    "- Dados de séries temporais ordenados e não ordenados (não necessariamente de frequência fixa).  \n",
    "- Dados de matriz arbitrária (homogêneos ou heterogêneos) com rótulos de linha e coluna.  \n",
    "- Qualquer outra forma de conjuntos de dados observacionais/estatísticos. Os dados realmente não precisam ser rotulados para serem colocados numa estrutura de dados **Pandas**.  \n",
    "\n",
    "Tarefas fácilmente realizadas com o **Pandas**:\n",
    "- Cálculos estatísticas e responda a perguntas sobre os dados, tais como:\n",
    " - Qual é a média, mediana, máximo ou mínimo de cada coluna?\n",
    " - A coluna 'A' está correlacionada com a coluna 'B'?\n",
    " - Como é a distribuição de frequência dos dados na coluna 'C'?\n",
    "- Limpeza dos dados: remoção de valores ausentes e filtragem de linhas ou colunas por alguns critérios\n",
    "- Visualização dos dados com a ajuda do Matplotlib: barras, linhas, histogramas, bolhas e ...\n",
    "- Armazenamento dos dados limpos e transformados de volta em um CSV, arquivo ou banco de dados.\n",
    "\n",
    "<figure>\n",
    "<figcaption style=\"text-align:center;font-family:'Times New Roman';color:blue\">Principais conceitos do <b>Pandas</b>.</figcaption>\n",
    "<img src='img/pandas_keys.png' alt='logomarca do pandas' width=\"450px\">\n",
    "</figure>\n",
    "\n",
    "<h2 style=\"color:blue; background-color:#F3F2F9\">Objetivos</h2>\n",
    " \n",
    "- Apresentar as estruturas de dados mais usadas do **Pandas**: <font style=\"background-color:yellow;\"> _DataFrame_  e *Series*</font>. \n",
    "- Manipular dados usando as estruturas de dados _DataFrame_ e _Series_. \n",
    "- Importar/exportar dados CSV (*Common Separated Values*) para/de um _DataFrame_. \n",
    "- Reindexar um _DataFrame_ para misturar dados.\n",
    "\n",
    "(Documentação Oficial do [Pandas](https://pandas.pydata.org/pandas-docs/stable/))."
   ]
  },
  {
   "cell_type": "markdown",
   "metadata": {},
   "source": [
    "<h2 style=\"color:blue; background-color:#F3F2F9\">Instalação do Pandas</h2>\n",
    "\n",
    "O pacote **Pandas** faz parte da distribuição Anaconda e pode ser instalado com o Anaconda ou com o Miniconda:   \n",
    "\n",
    "```conda install pandas```\n",
    "\n",
    "O pacote **Pandas** também pode ser instalado via **pip** do [PyPI](https://pypi.org) (_Python Package Index_ - é um repositório de softwares para a linguagem de programação Python).\n",
    "\n",
    "```pip install pandas```\n",
    "\n",
    "<h2 style=\"color:blue; background-color:#F3F2F9\">Importando o Pacote Pandas</h2>\n",
    "\n",
    "Geralmente, a biblioteca **Pandas** é importada com apelido **pd**, permitindo o acesso às funções, classes e subpacotes na biblioteca **Pandas** usando `pd.namespace`.\n",
    "Exemplo: `pd.Series(), pd.DataFrame(), pd.DataFrame.index`."
   ]
  },
  {
   "cell_type": "code",
   "execution_count": 3,
   "metadata": {
    "slideshow": {
     "slide_type": "slide"
    },
    "tags": [
     "0."
    ]
   },
   "outputs": [
    {
     "name": "stdout",
     "output_type": "stream",
     "text": [
      "Versões: Pandas - 1.3.2, NumPy - 1.21.2\n"
     ]
    }
   ],
   "source": [
    "import pandas as pd\n",
    "import numpy  as np\n",
    "print(f\"Versões: Pandas - {pd.__version__}, NumPy - {np.__version__}\")"
   ]
  },
  {
   "cell_type": "markdown",
   "metadata": {},
   "source": [
    "<h1 style=\"color:blue; background-color:#E0DBF9; text-align:center\">1. Introdução</h1>\n",
    "<h2 style=\"color:blue; background-color:#F3F2F9\">1.1 Objetos do Pandas</h2>  \n",
    "\n",
    "Existem três estruturas de dados principais em **Pandas**:\n",
    "* **Series** (1D): objeto projetado para representar estruturas de dados unidimensionais, semelhantes a um vetor, mas com alguns recursos adicionais. Componentes de uma série (dois vetores): valores e índice.\n",
    "* **DataFrame** (2D): são estruturas de dados bidimensionais (tabelas), potencialmente heterogêneas e de tamanho variável com eixos rotulados (linhas e colunas).\n",
    "* **Panel** (3D): Um painel geralmente será mais eficiente em termos de memória/computacionalmente - uma série de *dataframes* não é muito diferente de uma série de objetos Python arbitrários.\n",
    "\n",
    "<img src=\"img/dataframe_series.png\" width=\"400px\"/>\n",
    "\n",
    "Uma **Serie** é um arranjo rotulado unidimensional capaz de armazenar dados de qualquer tipo (*integer, string, float, objetos python,* etc.). Os rótulos de eixo são chamados coletivamente de índice. Em termos de estrutura de dados **Pandas**, as **Series** representam uma única coluna na memória, que é independente ou pertencente a um **DataFrame Pandas**.\n",
    "\n",
    "Um **DataFrame** é uma estrutura de dados que organiza os dados em uma tabela bidimensional (linhas e colunas), como uma planilha. Os dataframes são as estruturas de dados mais comumente usadas na análise de dados moderna porque são uma maneira flexível e intuitiva de se armazenar e trabalhar com dados.\n",
    "\n",
    "As estruturas de dados de pandas mais usadas são as **Series** e o **DataFrame**. Resumindo, uma série é semelhante a uma única coluna de dados, um *dataframe* é semelhante a uma planilha com linhas e colunas, enquanto um **Panel** pode ter muitos *dataframes*.\n",
    "<figure>\n",
    "  <img src='img/objetos_pandas.png' alt='logomarca do pandas' width=\"550px\">\n",
    "    <figcaption style=\"text-align:center;font-family:'Times New Roman';color:blue\">Figura 1 - <b>Objetos Pandas</b></figcaption>\n",
    "</figure>"
   ]
  },
  {
   "cell_type": "markdown",
   "metadata": {},
   "source": [
    "<h2 style=\"color:blue; background-color:#F3F2F9\">1.2 Criando Objetos</h2>\n",
    "\n",
    "## 1.2.1 Series\n",
    "Comando para criar uma estrutura de dados do tipo unidimensional, **Series**:\n",
    "```python\n",
    "pd.Series(data=..., index=..., dytpe=..., name=...)\n",
    "```\n",
    "Para criar uma série, chamamos o construtor da classe `Series()` e passamos um argumento com os dados a serem incluídos, podendo ser uma das opções: um `ndarray` unidimensional, uma lista, um dicionário ou um valor escalar. \n",
    "\n",
    "Se um índice (*index*) não for especificado, o índice padrão `[0,1,2,…,n-1]` será criado, onde `n` representa a quantidade de dados (*data*). Uma série pode ser criada a partir de uma variedade de fontes, conforme mostrado a seguir.\n",
    "\n",
    "### <i>Series</i> a partir de Lista\n",
    "Criando uma Série (***Series***) a partir de uma <font style=\"background:yellow\">lista de valores</font>, com os **Pandas** criando um índice com valores inteiro (padrão):"
   ]
  },
  {
   "cell_type": "code",
   "execution_count": 4,
   "metadata": {},
   "outputs": [
    {
     "data": {
      "text/plain": [
       "0    1.0\n",
       "1    3.0\n",
       "2    5.0\n",
       "3    NaN\n",
       "4    6.0\n",
       "5    8.0\n",
       "6   -inf\n",
       "dtype: float64"
      ]
     },
     "execution_count": 4,
     "metadata": {},
     "output_type": "execute_result"
    }
   ],
   "source": [
    "s1 = pd.Series([1, 3, 5, np.nan, 6, 8, -np.inf])\n",
    "s1"
   ]
  },
  {
   "cell_type": "markdown",
   "metadata": {},
   "source": [
    "Vamos criar uma **Series** temporal utilizando dados de temperatura, de hora em hora, de um dia.\n",
    "\n",
    "Vamos começar criando uma lista (ou tuple, arranjo **NumPy** ou outro tipo de dados) com os valores das temperaturas de hora em hora, medidas em graus Celsius:"
   ]
  },
  {
   "cell_type": "code",
   "execution_count": 11,
   "metadata": {},
   "outputs": [
    {
     "data": {
      "text/plain": [
       "19    14.4\n",
       "20    11.9\n",
       "21    11.0\n",
       "22    10.2\n",
       "23     9.1\n",
       "dtype: float64"
      ]
     },
     "execution_count": 11,
     "metadata": {},
     "output_type": "execute_result"
    }
   ],
   "source": [
    "temp_c = [ 8.0,  7.1,  6.8,  6.4,  6.0,  5.4,  4.8,  5.0,\n",
    "           9.1, 12.8, 15.3, 19.1, 21.2, 22.1, 22.4, 23.1,\n",
    "           21.0, 17.9, 15.5, 14.4, 11.9, 11.0, 10.2,  9.1]\n",
    "\n",
    "s2 = pd.Series(temp_c)\n",
    "s2.tail()"
   ]
  },
  {
   "cell_type": "markdown",
   "metadata": {},
   "source": [
    "## 1.2.2 DataFrame\n",
    "Esta estrutura de dados também contém eixos rotulados (linhas e colunas). As operações aritméticas se aplicam tanto aos rótulos de linha como aos de coluna. Pode ser pensada como um contêiner do tipo dicionário para objetos **Series** (a estrutura de dados primária do **Pandas**).  \n",
    "\n",
    "<img src=\"img/dataframe_structure.png\" width=\"300px\"/>\n",
    "\n",
    "Comando para criar uma estrutura de dados do tipo bidimensional, **DataFrame**:\n",
    "```python\n",
    "pd.DataFrame(data=None, index=None, columns=None, dtype=None, copy=None)\n",
    "```\n",
    "Para criar uma tabela (*dataframe*), chamamos o construtor da classe `DataFrame()` e passamos o argumento *data* com os dados a serem incluídos. Os dados podem conter séries, matrizes, constantes ou lista de objetos semelhantes. Se o dado for m dicionário, a ordem de inserção será por colunas. Se um dicionário contiver séries com índice definido, então a inserção ser por ordem do índice."
   ]
  },
  {
   "cell_type": "markdown",
   "metadata": {},
   "source": [
    "### <i>Dataframe</i> a partir de Matriz (ndarray)\n",
    "\n",
    "Criando uma Tabela (***DataFrame***) a partir de um <font style=\"background:red\">_array_ NumPy</font> (ndarray):"
   ]
  },
  {
   "cell_type": "code",
   "execution_count": 32,
   "metadata": {},
   "outputs": [
    {
     "data": {
      "text/html": [
       "<div>\n",
       "<style scoped>\n",
       "    .dataframe tbody tr th:only-of-type {\n",
       "        vertical-align: middle;\n",
       "    }\n",
       "\n",
       "    .dataframe tbody tr th {\n",
       "        vertical-align: top;\n",
       "    }\n",
       "\n",
       "    .dataframe thead th {\n",
       "        text-align: right;\n",
       "    }\n",
       "</style>\n",
       "<table border=\"1\" class=\"dataframe\">\n",
       "  <thead>\n",
       "    <tr style=\"text-align: right;\">\n",
       "      <th></th>\n",
       "      <th>a</th>\n",
       "      <th>bb</th>\n",
       "      <th>c</th>\n",
       "    </tr>\n",
       "  </thead>\n",
       "  <tbody>\n",
       "    <tr>\n",
       "      <th>0</th>\n",
       "      <td>1</td>\n",
       "      <td>2</td>\n",
       "      <td>3</td>\n",
       "    </tr>\n",
       "    <tr>\n",
       "      <th>1</th>\n",
       "      <td>4</td>\n",
       "      <td>5</td>\n",
       "      <td>6</td>\n",
       "    </tr>\n",
       "    <tr>\n",
       "      <th>2</th>\n",
       "      <td>7</td>\n",
       "      <td>8</td>\n",
       "      <td>9</td>\n",
       "    </tr>\n",
       "  </tbody>\n",
       "</table>\n",
       "</div>"
      ],
      "text/plain": [
       "   a  bb  c\n",
       "0  1   2  3\n",
       "1  4   5  6\n",
       "2  7   8  9"
      ]
     },
     "execution_count": 32,
     "metadata": {},
     "output_type": "execute_result"
    }
   ],
   "source": [
    "df0 = pd.DataFrame(np.array([[1, 2, 3], [4, 5, 6], [7, 8, 9]]), \n",
    "                   columns=['a', 'bb', 'c'])\n",
    "df0"
   ]
  },
  {
   "cell_type": "markdown",
   "metadata": {},
   "source": [
    "Construindo uma Tabela (*DataFrame*) a partir de um **ndarray** Numpy com colunas rotuladas:"
   ]
  },
  {
   "cell_type": "code",
   "execution_count": 16,
   "metadata": {},
   "outputs": [
    {
     "name": "stdout",
     "output_type": "stream",
     "text": [
      "[(1, 2, 3) (4, 5, 6) (7, 8, 9)]\n"
     ]
    },
    {
     "data": {
      "text/html": [
       "<div>\n",
       "<style scoped>\n",
       "    .dataframe tbody tr th:only-of-type {\n",
       "        vertical-align: middle;\n",
       "    }\n",
       "\n",
       "    .dataframe tbody tr th {\n",
       "        vertical-align: top;\n",
       "    }\n",
       "\n",
       "    .dataframe thead th {\n",
       "        text-align: right;\n",
       "    }\n",
       "</style>\n",
       "<table border=\"1\" class=\"dataframe\">\n",
       "  <thead>\n",
       "    <tr style=\"text-align: right;\">\n",
       "      <th></th>\n",
       "      <th>c</th>\n",
       "      <th>a</th>\n",
       "    </tr>\n",
       "  </thead>\n",
       "  <tbody>\n",
       "    <tr>\n",
       "      <th>0</th>\n",
       "      <td>3</td>\n",
       "      <td>1</td>\n",
       "    </tr>\n",
       "    <tr>\n",
       "      <th>1</th>\n",
       "      <td>6</td>\n",
       "      <td>4</td>\n",
       "    </tr>\n",
       "    <tr>\n",
       "      <th>2</th>\n",
       "      <td>9</td>\n",
       "      <td>7</td>\n",
       "    </tr>\n",
       "  </tbody>\n",
       "</table>\n",
       "</div>"
      ],
      "text/plain": [
       "   c  a\n",
       "0  3  1\n",
       "1  6  4\n",
       "2  9  7"
      ]
     },
     "execution_count": 16,
     "metadata": {},
     "output_type": "execute_result"
    }
   ],
   "source": [
    "dados = np.array([(1, 2, 3), (4, 5, 6), (7, 8, 9)],\n",
    "                 dtype=[(\"a\", \"i4\"), (\"b\", \"i4\"), (\"c\", \"i4\")])\n",
    "print(dados)\n",
    "df0 = pd.DataFrame(dados, columns=['c', 'a'])\n",
    "df0"
   ]
  },
  {
   "cell_type": "markdown",
   "metadata": {},
   "source": [
    "Criando uma Tabela (***DataFrame***) a partir de um <font style=\"background:yellow\">_array_ NumPy</font>, com um índice temporal (datas) e colunas rotuladas:"
   ]
  },
  {
   "cell_type": "code",
   "execution_count": 33,
   "metadata": {},
   "outputs": [
    {
     "name": "stdout",
     "output_type": "stream",
     "text": [
      "DatetimeIndex(['2022-05-19', '2022-05-20', '2022-05-21', '2022-05-22',\n",
      "               '2022-05-23', '2022-05-24'],\n",
      "              dtype='datetime64[ns]', freq='D')\n",
      "\n",
      "                    A         B         C         D\n",
      "2022-05-19 -0.750571 -0.570202 -1.149557  0.570683\n",
      "2022-05-20  1.147829  0.982218 -1.042258  1.211182\n",
      "2022-05-21 -2.026904  0.410322 -0.136161  0.068688\n",
      "2022-05-22 -0.313486 -0.643227  0.199329  0.796231\n",
      "2022-05-23 -0.484372  0.235639 -0.058553  0.283507\n",
      "2022-05-24 -0.266641 -2.240931  0.060571 -0.819573\n"
     ]
    },
    {
     "data": {
      "text/html": [
       "<div>\n",
       "<style scoped>\n",
       "    .dataframe tbody tr th:only-of-type {\n",
       "        vertical-align: middle;\n",
       "    }\n",
       "\n",
       "    .dataframe tbody tr th {\n",
       "        vertical-align: top;\n",
       "    }\n",
       "\n",
       "    .dataframe thead th {\n",
       "        text-align: right;\n",
       "    }\n",
       "</style>\n",
       "<table border=\"1\" class=\"dataframe\">\n",
       "  <thead>\n",
       "    <tr style=\"text-align: right;\">\n",
       "      <th></th>\n",
       "      <th>A</th>\n",
       "      <th>B</th>\n",
       "      <th>C</th>\n",
       "      <th>D</th>\n",
       "    </tr>\n",
       "  </thead>\n",
       "  <tbody>\n",
       "    <tr>\n",
       "      <th>2022-05-19</th>\n",
       "      <td>-0.750571</td>\n",
       "      <td>-0.570202</td>\n",
       "      <td>-1.149557</td>\n",
       "      <td>0.570683</td>\n",
       "    </tr>\n",
       "    <tr>\n",
       "      <th>2022-05-20</th>\n",
       "      <td>1.147829</td>\n",
       "      <td>0.982218</td>\n",
       "      <td>-1.042258</td>\n",
       "      <td>1.211182</td>\n",
       "    </tr>\n",
       "    <tr>\n",
       "      <th>2022-05-21</th>\n",
       "      <td>-2.026904</td>\n",
       "      <td>0.410322</td>\n",
       "      <td>-0.136161</td>\n",
       "      <td>0.068688</td>\n",
       "    </tr>\n",
       "    <tr>\n",
       "      <th>2022-05-22</th>\n",
       "      <td>-0.313486</td>\n",
       "      <td>-0.643227</td>\n",
       "      <td>0.199329</td>\n",
       "      <td>0.796231</td>\n",
       "    </tr>\n",
       "    <tr>\n",
       "      <th>2022-05-23</th>\n",
       "      <td>-0.484372</td>\n",
       "      <td>0.235639</td>\n",
       "      <td>-0.058553</td>\n",
       "      <td>0.283507</td>\n",
       "    </tr>\n",
       "    <tr>\n",
       "      <th>2022-05-24</th>\n",
       "      <td>-0.266641</td>\n",
       "      <td>-2.240931</td>\n",
       "      <td>0.060571</td>\n",
       "      <td>-0.819573</td>\n",
       "    </tr>\n",
       "  </tbody>\n",
       "</table>\n",
       "</div>"
      ],
      "text/plain": [
       "                   A         B         C         D\n",
       "2022-05-19 -0.750571 -0.570202 -1.149557  0.570683\n",
       "2022-05-20  1.147829  0.982218 -1.042258  1.211182\n",
       "2022-05-21 -2.026904  0.410322 -0.136161  0.068688\n",
       "2022-05-22 -0.313486 -0.643227  0.199329  0.796231\n",
       "2022-05-23 -0.484372  0.235639 -0.058553  0.283507\n",
       "2022-05-24 -0.266641 -2.240931  0.060571 -0.819573"
      ]
     },
     "execution_count": 33,
     "metadata": {},
     "output_type": "execute_result"
    }
   ],
   "source": [
    "N = 6                                          # quantidade de linhas no dataframe\n",
    "datas = pd.date_range(\"20220519\", periods=N)   # faixa de datas (6 dias) como índice para o dataframe\n",
    "print(datas)\n",
    "df1 = pd.DataFrame(np.random.randn(N, 4), index=datas, columns=list(\"ABCD\"))  # criação do dataframe\n",
    "print('\\n',df1)\n",
    "df1                                            # mostra o dataframe em forma de tabela formatada"
   ]
  },
  {
   "cell_type": "markdown",
   "metadata": {},
   "source": [
    "### <i>Dataframe</i> a partir de Dicionário\n",
    "\n",
    "Um dicionário simples:"
   ]
  },
  {
   "cell_type": "code",
   "execution_count": 6,
   "metadata": {},
   "outputs": [
    {
     "data": {
      "text/html": [
       "<div>\n",
       "<style scoped>\n",
       "    .dataframe tbody tr th:only-of-type {\n",
       "        vertical-align: middle;\n",
       "    }\n",
       "\n",
       "    .dataframe tbody tr th {\n",
       "        vertical-align: top;\n",
       "    }\n",
       "\n",
       "    .dataframe thead th {\n",
       "        text-align: right;\n",
       "    }\n",
       "</style>\n",
       "<table border=\"1\" class=\"dataframe\">\n",
       "  <thead>\n",
       "    <tr style=\"text-align: right;\">\n",
       "      <th></th>\n",
       "      <th>col1</th>\n",
       "      <th>col2</th>\n",
       "    </tr>\n",
       "  </thead>\n",
       "  <tbody>\n",
       "    <tr>\n",
       "      <th>0</th>\n",
       "      <td>1</td>\n",
       "      <td>3</td>\n",
       "    </tr>\n",
       "    <tr>\n",
       "      <th>1</th>\n",
       "      <td>2</td>\n",
       "      <td>4</td>\n",
       "    </tr>\n",
       "  </tbody>\n",
       "</table>\n",
       "</div>"
      ],
      "text/plain": [
       "   col1  col2\n",
       "0     1     3\n",
       "1     2     4"
      ]
     },
     "execution_count": 6,
     "metadata": {},
     "output_type": "execute_result"
    }
   ],
   "source": [
    "d = {'col1': [1, 2], 'col2': [3, 4]}\n",
    "df3 = pd.DataFrame(data=d)\n",
    "df3"
   ]
  },
  {
   "cell_type": "markdown",
   "metadata": {},
   "source": [
    "Observe que o tipo de dado inferido pelo Python foi **int64**:"
   ]
  },
  {
   "cell_type": "code",
   "execution_count": 7,
   "metadata": {},
   "outputs": [
    {
     "data": {
      "text/plain": [
       "col1    int64\n",
       "col2    int64\n",
       "dtype: object"
      ]
     },
     "execution_count": 7,
     "metadata": {},
     "output_type": "execute_result"
    }
   ],
   "source": [
    "df3.dtypes"
   ]
  },
  {
   "cell_type": "markdown",
   "metadata": {},
   "source": [
    "Forçando um tipo de dado mais simples:"
   ]
  },
  {
   "cell_type": "code",
   "execution_count": 9,
   "metadata": {},
   "outputs": [
    {
     "data": {
      "text/plain": [
       "col1    int8\n",
       "col2    int8\n",
       "dtype: object"
      ]
     },
     "execution_count": 9,
     "metadata": {},
     "output_type": "execute_result"
    }
   ],
   "source": [
    "df3 = pd.DataFrame(data=d, dtype=np.int8)\n",
    "df3.dtypes"
   ]
  },
  {
   "cell_type": "markdown",
   "metadata": {},
   "source": [
    "Criando uma Tabela (***DataFrame***) a partir de um <font style=\"background:yellow\">dicionário</font>, os quais podem ser convertidos numa estrutura do tipo série (índice e valor):"
   ]
  },
  {
   "cell_type": "code",
   "execution_count": 27,
   "metadata": {
    "scrolled": true
   },
   "outputs": [
    {
     "data": {
      "text/html": [
       "<div>\n",
       "<style scoped>\n",
       "    .dataframe tbody tr th:only-of-type {\n",
       "        vertical-align: middle;\n",
       "    }\n",
       "\n",
       "    .dataframe tbody tr th {\n",
       "        vertical-align: top;\n",
       "    }\n",
       "\n",
       "    .dataframe thead th {\n",
       "        text-align: right;\n",
       "    }\n",
       "</style>\n",
       "<table border=\"1\" class=\"dataframe\">\n",
       "  <thead>\n",
       "    <tr style=\"text-align: right;\">\n",
       "      <th></th>\n",
       "      <th>A</th>\n",
       "      <th>B</th>\n",
       "      <th>C</th>\n",
       "      <th>D</th>\n",
       "      <th>E</th>\n",
       "      <th>F</th>\n",
       "    </tr>\n",
       "  </thead>\n",
       "  <tbody>\n",
       "    <tr>\n",
       "      <th>0</th>\n",
       "      <td>1.0</td>\n",
       "      <td>2022-05-19</td>\n",
       "      <td>10.0</td>\n",
       "      <td>3</td>\n",
       "      <td>teste</td>\n",
       "      <td>qq. coisa</td>\n",
       "    </tr>\n",
       "    <tr>\n",
       "      <th>1</th>\n",
       "      <td>1.0</td>\n",
       "      <td>2022-05-19</td>\n",
       "      <td>200.0</td>\n",
       "      <td>3</td>\n",
       "      <td>treino</td>\n",
       "      <td>qq. coisa</td>\n",
       "    </tr>\n",
       "    <tr>\n",
       "      <th>2</th>\n",
       "      <td>1.0</td>\n",
       "      <td>2022-05-19</td>\n",
       "      <td>3000.0</td>\n",
       "      <td>3</td>\n",
       "      <td>desenv</td>\n",
       "      <td>qq. coisa</td>\n",
       "    </tr>\n",
       "    <tr>\n",
       "      <th>3</th>\n",
       "      <td>1.0</td>\n",
       "      <td>2022-05-19</td>\n",
       "      <td>40000.0</td>\n",
       "      <td>3</td>\n",
       "      <td>exec</td>\n",
       "      <td>qq. coisa</td>\n",
       "    </tr>\n",
       "  </tbody>\n",
       "</table>\n",
       "</div>"
      ],
      "text/plain": [
       "     A          B        C  D       E          F\n",
       "0  1.0 2022-05-19     10.0  3   teste  qq. coisa\n",
       "1  1.0 2022-05-19    200.0  3  treino  qq. coisa\n",
       "2  1.0 2022-05-19   3000.0  3  desenv  qq. coisa\n",
       "3  1.0 2022-05-19  40000.0  3    exec  qq. coisa"
      ]
     },
     "execution_count": 27,
     "metadata": {},
     "output_type": "execute_result"
    }
   ],
   "source": [
    "dic1 = { \"A\": 1.0,\n",
    "         \"B\": pd.Timestamp(\"20220519\"),\n",
    "         \"C\": pd.Series([10,200,3000,40000], index=list(range(4)), dtype=\"float32\"),\n",
    "         \"D\": np.array([3] * 4, dtype=\"int32\"),\n",
    "         \"E\": pd.Categorical([\"teste\", \"treino\", \"desenv\", \"exec\"]),\n",
    "         \"F\": \"qq. coisa\", }\n",
    "df2 = pd.DataFrame(dic1)                            # criação do dataframe a partir do dicionário\n",
    "df2"
   ]
  },
  {
   "cell_type": "code",
   "execution_count": 10,
   "metadata": {
    "scrolled": true
   },
   "outputs": [
    {
     "data": {
      "text/plain": [
       "A           float64\n",
       "B    datetime64[ns]\n",
       "C           float32\n",
       "D             int32\n",
       "E          category\n",
       "F            object\n",
       "dtype: object"
      ]
     },
     "execution_count": 10,
     "metadata": {},
     "output_type": "execute_result"
    }
   ],
   "source": [
    "df2.dtypes"
   ]
  },
  {
   "cell_type": "markdown",
   "metadata": {},
   "source": [
    "Digamos que temos uma banca de frutas que vende maçãs e laranjas. Queremos ter uma coluna para cada fruta e uma linha para cada compra de cliente. Para organizar isso como um dicionário para o **Pandas**, poderíamos fazer algo como:"
   ]
  },
  {
   "cell_type": "code",
   "execution_count": 5,
   "metadata": {},
   "outputs": [
    {
     "name": "stdout",
     "output_type": "stream",
     "text": [
      "{'maçã': [3, 2, 0, 1], 'laranja': [0, 3, 7, 2]}\n"
     ]
    },
    {
     "data": {
      "text/html": [
       "<div>\n",
       "<style scoped>\n",
       "    .dataframe tbody tr th:only-of-type {\n",
       "        vertical-align: middle;\n",
       "    }\n",
       "\n",
       "    .dataframe tbody tr th {\n",
       "        vertical-align: top;\n",
       "    }\n",
       "\n",
       "    .dataframe thead th {\n",
       "        text-align: right;\n",
       "    }\n",
       "</style>\n",
       "<table border=\"1\" class=\"dataframe\">\n",
       "  <thead>\n",
       "    <tr style=\"text-align: right;\">\n",
       "      <th></th>\n",
       "      <th>maçã</th>\n",
       "      <th>laranja</th>\n",
       "    </tr>\n",
       "  </thead>\n",
       "  <tbody>\n",
       "    <tr>\n",
       "      <th>0</th>\n",
       "      <td>3</td>\n",
       "      <td>0</td>\n",
       "    </tr>\n",
       "    <tr>\n",
       "      <th>1</th>\n",
       "      <td>2</td>\n",
       "      <td>3</td>\n",
       "    </tr>\n",
       "    <tr>\n",
       "      <th>2</th>\n",
       "      <td>0</td>\n",
       "      <td>7</td>\n",
       "    </tr>\n",
       "    <tr>\n",
       "      <th>3</th>\n",
       "      <td>1</td>\n",
       "      <td>2</td>\n",
       "    </tr>\n",
       "  </tbody>\n",
       "</table>\n",
       "</div>"
      ],
      "text/plain": [
       "   maçã  laranja\n",
       "0     3        0\n",
       "1     2        3\n",
       "2     0        7\n",
       "3     1        2"
      ]
     },
     "execution_count": 5,
     "metadata": {},
     "output_type": "execute_result"
    }
   ],
   "source": [
    "import pandas as pd\n",
    "\n",
    "banca = {\n",
    "    'maçã': [3, 2, 0, 1], \n",
    "    'laranja': [0, 3, 7, 2]\n",
    "}\n",
    "print(banca)\n",
    "compras = pd.DataFrame(banca)\n",
    "compras"
   ]
  },
  {
   "cell_type": "markdown",
   "metadata": {},
   "source": [
    "Cada item (chave, valor) do dicionário 'banca' tem dados que corresponde a uma coluna no *DataFrame* resultante.\n",
    "\n",
    "O índice deste *DataFrame* foram criados como valores de 0-3, mas também podemos criar um índice próprio quando inicializamos o *DataFrame*, por exemplo, com os nomes dos clientes."
   ]
  },
  {
   "cell_type": "code",
   "execution_count": 6,
   "metadata": {},
   "outputs": [
    {
     "data": {
      "text/html": [
       "<div>\n",
       "<style scoped>\n",
       "    .dataframe tbody tr th:only-of-type {\n",
       "        vertical-align: middle;\n",
       "    }\n",
       "\n",
       "    .dataframe tbody tr th {\n",
       "        vertical-align: top;\n",
       "    }\n",
       "\n",
       "    .dataframe thead th {\n",
       "        text-align: right;\n",
       "    }\n",
       "</style>\n",
       "<table border=\"1\" class=\"dataframe\">\n",
       "  <thead>\n",
       "    <tr style=\"text-align: right;\">\n",
       "      <th></th>\n",
       "      <th>maçã</th>\n",
       "      <th>laranja</th>\n",
       "    </tr>\n",
       "  </thead>\n",
       "  <tbody>\n",
       "    <tr>\n",
       "      <th>João</th>\n",
       "      <td>3</td>\n",
       "      <td>0</td>\n",
       "    </tr>\n",
       "    <tr>\n",
       "      <th>Maria</th>\n",
       "      <td>2</td>\n",
       "      <td>3</td>\n",
       "    </tr>\n",
       "    <tr>\n",
       "      <th>José</th>\n",
       "      <td>0</td>\n",
       "      <td>7</td>\n",
       "    </tr>\n",
       "    <tr>\n",
       "      <th>Lucas</th>\n",
       "      <td>1</td>\n",
       "      <td>2</td>\n",
       "    </tr>\n",
       "  </tbody>\n",
       "</table>\n",
       "</div>"
      ],
      "text/plain": [
       "       maçã  laranja\n",
       "João      3        0\n",
       "Maria     2        3\n",
       "José      0        7\n",
       "Lucas     1        2"
      ]
     },
     "execution_count": 6,
     "metadata": {},
     "output_type": "execute_result"
    }
   ],
   "source": [
    "compras = pd.DataFrame(banca, index=['João','Maria','José','Lucas'])\n",
    "compras"
   ]
  },
  {
   "cell_type": "markdown",
   "metadata": {},
   "source": [
    "Agora podemos localizar o pedido de um cliente usando o nome dele:"
   ]
  },
  {
   "cell_type": "code",
   "execution_count": 8,
   "metadata": {},
   "outputs": [
    {
     "data": {
      "text/plain": [
       "maçã       0\n",
       "laranja    7\n",
       "Name: José, dtype: int64"
      ]
     },
     "execution_count": 8,
     "metadata": {},
     "output_type": "execute_result"
    }
   ],
   "source": [
    "compras.loc['José']"
   ]
  },
  {
   "attachments": {
    "image.png": {
     "image/png": "[encoded data removed]"
    }
   },
   "cell_type": "markdown",
   "metadata": {},
   "source": [
    "### <i>Dataframe</i> a partir de Arquivo CSV\n",
    "Os arquivos **CSV** são conjuntos de dados com \"valores separados por vírgulas\" (*comma separated values*), e podem ser usados/visualizados em  planilhas Excel.  \n",
    "\n",
    "Na Ciência de Dados, geralmente precisamos lidar com enormes conjuntos de dados enquanto se analisa tais dados, os quais normalmente podem ser convertidos para o formato **CSV**. \n",
    "\n",
    "![image.png](attachment:image.png)\n",
    "\n",
    "A criação de um *dataframe* do **Pandas** usando arquivos **CSV** pode ser realizada de várias maneiras: `read_csv()`, `read_table()` e `from_csv()`, enquanto `read_excel()` usa o pacote **xlrd** para ler arquivos 'xls' e 'xlsx' em um _DataFrame_ (não lê arquivos 'csv').\n",
    "\n",
    "O método `read_table()` é o mesmo que `read_csv()` com o argumento `sep='` substituído por `sep='\\t'`, ou seja, eles são invólucros finos em torno da mesma função. O método `from_csv()` chama o método `read_table()`."
   ]
  },
  {
   "cell_type": "markdown",
   "metadata": {},
   "source": [
    "**Dataset 1**: Gorjetas para garçons de restaurantes podem ser influenciadas por muitos\n",
    "fatores, incluindo a natureza do restaurante, tamanho da festa, e a localização da mesa no restaurante. Gerentes de restaurante precisam saber quais são os fatores importantes quando se atribui mesas aos garçons. Para o bem dos garçons, o gerente procura evitar a substituição ou atribuições injustas em termos de gorjetas, pois pelo menos em restaurantes nos Estados Unidos da América, elas são um importante componente da remuneração.  \n",
    "Em um dado restaurante foram registrados os seguintes dados para todos os clientes servidos durante um intervalo de dois meses e meio, no início da década de 1990.  \n",
    "O restaurante, localizado em um shopping, faz parte de uma rede nacional que serve um menu variado. Em observância à lei local, o restaurante oferecia locais separados para não fumadores, quando solicitado. Cada registro inclui o dia e a hora, e tomados conjuntamente, eles mostram a agenda de trabalho dos garçons.\n",
    "\n",
    "Fonte: https://www.kaggle.com/datasets/ranjeetjain3/seaborn-tips-dataset\n",
    "\n",
    "*Descrição dos dados*  \n",
    "Nosso conjunto de dados \"tips\" tem colunas como 'total_conta', 'gorjeta', 'sexo', 'fumante', 'dia_sem', 'horario' e 'tamanho'.\n",
    "\n",
    "'Total_conta' é a conta paga por um determinado cliente e a 'gorjeta' é o valor que ele ofereceu ao garçom e a coluna 'sexo' no dataset descreve se o cliente é homem ou mulher, e a coluna 'fumante' define se o cliente fuma ou não.\n",
    "\n",
    "Os campos 'dia_sem' e 'horario' no conjunto de dados informam em que dia e em que horário o cliente visitou o restaurante e o 'tamanho', incluindo o cliente, diz quantas pessoas compareceram."
   ]
  },
  {
   "cell_type": "code",
   "execution_count": 1,
   "metadata": {},
   "outputs": [
    {
     "ename": "NameError",
     "evalue": "name 'pd' is not defined",
     "output_type": "error",
     "traceback": [
      "\u001b[1;31m---------------------------------------------------------------------------\u001b[0m",
      "\u001b[1;31mNameError\u001b[0m                                 Traceback (most recent call last)",
      "\u001b[1;32m~\\AppData\\Local\\Temp/ipykernel_14292/4292589382.py\u001b[0m in \u001b[0;36m<module>\u001b[1;34m\u001b[0m\n\u001b[0;32m      1\u001b[0m \u001b[1;31m# Carrega o dataset após download manual do site kaggle\u001b[0m\u001b[1;33m\u001b[0m\u001b[1;33m\u001b[0m\u001b[1;33m\u001b[0m\u001b[0m\n\u001b[1;32m----> 2\u001b[1;33m \u001b[0mdf3\u001b[0m \u001b[1;33m=\u001b[0m \u001b[0mpd\u001b[0m\u001b[1;33m.\u001b[0m\u001b[0mread_csv\u001b[0m\u001b[1;33m(\u001b[0m\u001b[1;34m\"dat/tips.csv\"\u001b[0m\u001b[1;33m)\u001b[0m\u001b[1;33m\u001b[0m\u001b[1;33m\u001b[0m\u001b[0m\n\u001b[0m\u001b[0;32m      3\u001b[0m \u001b[1;33m\u001b[0m\u001b[0m\n\u001b[0;32m      4\u001b[0m \u001b[1;31m# Mostra 10 linhas aleatórias do dataset\u001b[0m\u001b[1;33m\u001b[0m\u001b[1;33m\u001b[0m\u001b[1;33m\u001b[0m\u001b[0m\n\u001b[0;32m      5\u001b[0m \u001b[0mprint\u001b[0m\u001b[1;33m(\u001b[0m\u001b[0mdf3\u001b[0m\u001b[1;33m.\u001b[0m\u001b[0msample\u001b[0m\u001b[1;33m(\u001b[0m\u001b[1;36m6\u001b[0m\u001b[1;33m)\u001b[0m\u001b[1;33m)\u001b[0m\u001b[1;33m\u001b[0m\u001b[1;33m\u001b[0m\u001b[0m\n",
      "\u001b[1;31mNameError\u001b[0m: name 'pd' is not defined"
     ]
    }
   ],
   "source": [
    "# Carrega o dataset após download manual do site kaggle\n",
    "df3 = pd.read_csv(\"dat/tips.csv\")\n",
    "\n",
    "# Mostra 10 linhas aleatórias do dataset\n",
    "print(df3.sample(6))"
   ]
  },
  {
   "cell_type": "markdown",
   "metadata": {},
   "source": [
    "<img src=\"img/view_X_copy.png\" width=\"400px\"/>\n",
    "\n",
    "Copiando somente as colunas de interesse para uma determinada análise:"
   ]
  },
  {
   "cell_type": "code",
   "execution_count": 21,
   "metadata": {},
   "outputs": [
    {
     "name": "stdout",
     "output_type": "stream",
     "text": [
      "     total_bill     sex    time\n",
      "125       29.80  Female   Lunch\n",
      "179       34.63    Male  Dinner\n",
      "77        27.20    Male   Lunch\n",
      "86        13.03    Male   Lunch\n",
      "210       30.06    Male  Dinner\n"
     ]
    }
   ],
   "source": [
    "# Criando um dataframe somente com as colunas de interesse \n",
    "df4 = df3[[\"total_bill\",\"sex\",\"time\"]].copy()\n",
    "\n",
    "# Mostrando 5 linhas aleatórias\n",
    "print(df4.sample(5))"
   ]
  },
  {
   "cell_type": "markdown",
   "metadata": {},
   "source": [
    "**Dataset 2**: O conjunto de dados (*dataset*) usado no exemplos seguintes contém 25 itens de auto-relato de personalidade retirados do *International Personality Item Pool* (ipip.ori.org) e que foram incluídos como parte do projeto de avaliação de personalidade baseado na web do *Synthetic Aperture Personality Assessment* (SAPA). Os dados de 2.800 indivíduos foram incluídos como um conjunto de demonstração para construção de escala, análise fatorial e análise da Teoria de Resposta ao Item. Três variáveis demográficas adicionais (sexo: 1 = Homens e 2 = Mulheres, educação: 1 = Fundamental, 2 = Fundamental Completo, 3 = Ens. Médio, 4 = Ens. Médio Completo, 5 = Superior Completo; e idade) também foram incluídas."
   ]
  },
  {
   "cell_type": "code",
   "execution_count": 22,
   "metadata": {},
   "outputs": [
    {
     "data": {
      "text/html": [
       "<div>\n",
       "<style scoped>\n",
       "    .dataframe tbody tr th:only-of-type {\n",
       "        vertical-align: middle;\n",
       "    }\n",
       "\n",
       "    .dataframe tbody tr th {\n",
       "        vertical-align: top;\n",
       "    }\n",
       "\n",
       "    .dataframe thead th {\n",
       "        text-align: right;\n",
       "    }\n",
       "</style>\n",
       "<table border=\"1\" class=\"dataframe\">\n",
       "  <thead>\n",
       "    <tr style=\"text-align: right;\">\n",
       "      <th></th>\n",
       "      <th>Unnamed: 0</th>\n",
       "      <th>A1</th>\n",
       "      <th>A2</th>\n",
       "      <th>A3</th>\n",
       "      <th>A4</th>\n",
       "      <th>A5</th>\n",
       "      <th>C1</th>\n",
       "      <th>C2</th>\n",
       "      <th>C3</th>\n",
       "      <th>C4</th>\n",
       "      <th>...</th>\n",
       "      <th>N4</th>\n",
       "      <th>N5</th>\n",
       "      <th>O1</th>\n",
       "      <th>O2</th>\n",
       "      <th>O3</th>\n",
       "      <th>O4</th>\n",
       "      <th>O5</th>\n",
       "      <th>gender</th>\n",
       "      <th>education</th>\n",
       "      <th>age</th>\n",
       "    </tr>\n",
       "  </thead>\n",
       "  <tbody>\n",
       "    <tr>\n",
       "      <th>0</th>\n",
       "      <td>61617</td>\n",
       "      <td>2.0</td>\n",
       "      <td>4.0</td>\n",
       "      <td>3.0</td>\n",
       "      <td>4.0</td>\n",
       "      <td>4.0</td>\n",
       "      <td>2.0</td>\n",
       "      <td>3.0</td>\n",
       "      <td>3.0</td>\n",
       "      <td>4.0</td>\n",
       "      <td>...</td>\n",
       "      <td>2.0</td>\n",
       "      <td>3.0</td>\n",
       "      <td>3.0</td>\n",
       "      <td>6</td>\n",
       "      <td>3.0</td>\n",
       "      <td>4.0</td>\n",
       "      <td>3.0</td>\n",
       "      <td>1</td>\n",
       "      <td>NaN</td>\n",
       "      <td>16</td>\n",
       "    </tr>\n",
       "    <tr>\n",
       "      <th>1</th>\n",
       "      <td>61618</td>\n",
       "      <td>2.0</td>\n",
       "      <td>4.0</td>\n",
       "      <td>5.0</td>\n",
       "      <td>2.0</td>\n",
       "      <td>5.0</td>\n",
       "      <td>5.0</td>\n",
       "      <td>4.0</td>\n",
       "      <td>4.0</td>\n",
       "      <td>3.0</td>\n",
       "      <td>...</td>\n",
       "      <td>5.0</td>\n",
       "      <td>5.0</td>\n",
       "      <td>4.0</td>\n",
       "      <td>2</td>\n",
       "      <td>4.0</td>\n",
       "      <td>3.0</td>\n",
       "      <td>3.0</td>\n",
       "      <td>2</td>\n",
       "      <td>NaN</td>\n",
       "      <td>18</td>\n",
       "    </tr>\n",
       "    <tr>\n",
       "      <th>2</th>\n",
       "      <td>61620</td>\n",
       "      <td>5.0</td>\n",
       "      <td>4.0</td>\n",
       "      <td>5.0</td>\n",
       "      <td>4.0</td>\n",
       "      <td>4.0</td>\n",
       "      <td>4.0</td>\n",
       "      <td>5.0</td>\n",
       "      <td>4.0</td>\n",
       "      <td>2.0</td>\n",
       "      <td>...</td>\n",
       "      <td>2.0</td>\n",
       "      <td>3.0</td>\n",
       "      <td>4.0</td>\n",
       "      <td>2</td>\n",
       "      <td>5.0</td>\n",
       "      <td>5.0</td>\n",
       "      <td>2.0</td>\n",
       "      <td>2</td>\n",
       "      <td>NaN</td>\n",
       "      <td>17</td>\n",
       "    </tr>\n",
       "    <tr>\n",
       "      <th>3</th>\n",
       "      <td>61621</td>\n",
       "      <td>4.0</td>\n",
       "      <td>4.0</td>\n",
       "      <td>6.0</td>\n",
       "      <td>5.0</td>\n",
       "      <td>5.0</td>\n",
       "      <td>4.0</td>\n",
       "      <td>4.0</td>\n",
       "      <td>3.0</td>\n",
       "      <td>5.0</td>\n",
       "      <td>...</td>\n",
       "      <td>4.0</td>\n",
       "      <td>1.0</td>\n",
       "      <td>3.0</td>\n",
       "      <td>3</td>\n",
       "      <td>4.0</td>\n",
       "      <td>3.0</td>\n",
       "      <td>5.0</td>\n",
       "      <td>2</td>\n",
       "      <td>NaN</td>\n",
       "      <td>17</td>\n",
       "    </tr>\n",
       "    <tr>\n",
       "      <th>4</th>\n",
       "      <td>61622</td>\n",
       "      <td>2.0</td>\n",
       "      <td>3.0</td>\n",
       "      <td>3.0</td>\n",
       "      <td>4.0</td>\n",
       "      <td>5.0</td>\n",
       "      <td>4.0</td>\n",
       "      <td>4.0</td>\n",
       "      <td>5.0</td>\n",
       "      <td>3.0</td>\n",
       "      <td>...</td>\n",
       "      <td>4.0</td>\n",
       "      <td>3.0</td>\n",
       "      <td>3.0</td>\n",
       "      <td>3</td>\n",
       "      <td>4.0</td>\n",
       "      <td>3.0</td>\n",
       "      <td>3.0</td>\n",
       "      <td>1</td>\n",
       "      <td>NaN</td>\n",
       "      <td>17</td>\n",
       "    </tr>\n",
       "  </tbody>\n",
       "</table>\n",
       "<p>5 rows × 29 columns</p>\n",
       "</div>"
      ],
      "text/plain": [
       "   Unnamed: 0   A1   A2   A3   A4   A5   C1   C2   C3   C4  ...   N4   N5  \\\n",
       "0       61617  2.0  4.0  3.0  4.0  4.0  2.0  3.0  3.0  4.0  ...  2.0  3.0   \n",
       "1       61618  2.0  4.0  5.0  2.0  5.0  5.0  4.0  4.0  3.0  ...  5.0  5.0   \n",
       "2       61620  5.0  4.0  5.0  4.0  4.0  4.0  5.0  4.0  2.0  ...  2.0  3.0   \n",
       "3       61621  4.0  4.0  6.0  5.0  5.0  4.0  4.0  3.0  5.0  ...  4.0  1.0   \n",
       "4       61622  2.0  3.0  3.0  4.0  5.0  4.0  4.0  5.0  3.0  ...  4.0  3.0   \n",
       "\n",
       "    O1  O2   O3   O4   O5  gender  education  age  \n",
       "0  3.0   6  3.0  4.0  3.0       1        NaN   16  \n",
       "1  4.0   2  4.0  3.0  3.0       2        NaN   18  \n",
       "2  4.0   2  5.0  5.0  2.0       2        NaN   17  \n",
       "3  3.0   3  4.0  3.0  5.0       2        NaN   17  \n",
       "4  3.0   3  4.0  3.0  3.0       1        NaN   17  \n",
       "\n",
       "[5 rows x 29 columns]"
      ]
     },
     "execution_count": 22,
     "metadata": {},
     "output_type": "execute_result"
    }
   ],
   "source": [
    "''' Primeira forma: lendo o arquivo .CSV diretamente do site de origem'''\n",
    "bfi ='https://vincentarelbundock.github.io/Rdatasets/csv/psych/bfi.csv'\n",
    "df5 = pd.read_csv(bfi)\n",
    "# head() exibe apenas as 5 primeiras linhas do dataframe...\n",
    "df5.head()"
   ]
  },
  {
   "cell_type": "code",
   "execution_count": 24,
   "metadata": {
    "scrolled": true
   },
   "outputs": [
    {
     "data": {
      "text/html": [
       "<div>\n",
       "<style scoped>\n",
       "    .dataframe tbody tr th:only-of-type {\n",
       "        vertical-align: middle;\n",
       "    }\n",
       "\n",
       "    .dataframe tbody tr th {\n",
       "        vertical-align: top;\n",
       "    }\n",
       "\n",
       "    .dataframe thead th {\n",
       "        text-align: right;\n",
       "    }\n",
       "</style>\n",
       "<table border=\"1\" class=\"dataframe\">\n",
       "  <thead>\n",
       "    <tr style=\"text-align: right;\">\n",
       "      <th></th>\n",
       "      <th>\"\",\"A1\",\"A2\",\"A3\",\"A4\",\"A5\",\"C1\",\"C2\",\"C3\",\"C4\",\"C5\",\"E1\",\"E2\",\"E3\",\"E4\",\"E5\",\"N1\",\"N2\",\"N3\",\"N4\",\"N5\",\"O1\",\"O2\",\"O3\",\"O4\",\"O5\",\"gender\",\"education\",\"age\"</th>\n",
       "    </tr>\n",
       "  </thead>\n",
       "  <tbody>\n",
       "    <tr>\n",
       "      <th>0</th>\n",
       "      <td>\"61617\",2,4,3,4,4,2,3,3,4,4,3,3,3,4,4,3,4,2,2,...</td>\n",
       "    </tr>\n",
       "    <tr>\n",
       "      <th>1</th>\n",
       "      <td>\"61618\",2,4,5,2,5,5,4,4,3,4,1,1,6,4,3,3,3,3,5,...</td>\n",
       "    </tr>\n",
       "    <tr>\n",
       "      <th>2</th>\n",
       "      <td>\"61620\",5,4,5,4,4,4,5,4,2,5,2,4,4,4,5,4,5,4,2,...</td>\n",
       "    </tr>\n",
       "    <tr>\n",
       "      <th>3</th>\n",
       "      <td>\"61621\",4,4,6,5,5,4,4,3,5,5,5,3,4,4,4,2,5,2,4,...</td>\n",
       "    </tr>\n",
       "    <tr>\n",
       "      <th>4</th>\n",
       "      <td>\"61622\",2,3,3,4,5,4,4,5,3,2,2,2,5,4,5,2,3,4,4,...</td>\n",
       "    </tr>\n",
       "  </tbody>\n",
       "</table>\n",
       "</div>"
      ],
      "text/plain": [
       "  \"\",\"A1\",\"A2\",\"A3\",\"A4\",\"A5\",\"C1\",\"C2\",\"C3\",\"C4\",\"C5\",\"E1\",\"E2\",\"E3\",\"E4\",\"E5\",\"N1\",\"N2\",\"N3\",\"N4\",\"N5\",\"O1\",\"O2\",\"O3\",\"O4\",\"O5\",\"gender\",\"education\",\"age\"\n",
       "0  \"61617\",2,4,3,4,4,2,3,3,4,4,3,3,3,4,4,3,4,2,2,...                                                                                                        \n",
       "1  \"61618\",2,4,5,2,5,5,4,4,3,4,1,1,6,4,3,3,3,3,5,...                                                                                                        \n",
       "2  \"61620\",5,4,5,4,4,4,5,4,2,5,2,4,4,4,5,4,5,4,2,...                                                                                                        \n",
       "3  \"61621\",4,4,6,5,5,4,4,3,5,5,5,3,4,4,4,2,5,2,4,...                                                                                                        \n",
       "4  \"61622\",2,3,3,4,5,4,4,5,3,2,2,2,5,4,5,2,3,4,4,...                                                                                                        "
      ]
     },
     "execution_count": 24,
     "metadata": {},
     "output_type": "execute_result"
    }
   ],
   "source": [
    "''' Segunda forma: lendo o arquivo .xls diretamente do site de origem'''\n",
    "df6 = pd.read_table(bfi, delimiter =\", \", engine='python')  # importador genérico p/ outros formatos\n",
    "df6.head()"
   ]
  },
  {
   "cell_type": "markdown",
   "metadata": {},
   "source": [
    "Para gravar seus *DataFrames* em arquivos de texto delimitados por tabulações, use:\n",
    "\n",
    "`df.to_csv('pesquisa1.txt', sep='\\t', index=False)`\n",
    "\n",
    "Se o nome do arquivo tiver extensão '.gz' o método anterior irá compactar o *DataFrame* automaticamente usando o `gzip`."
   ]
  },
  {
   "cell_type": "markdown",
   "metadata": {},
   "source": [
    "### <i>Dataframe</i> a partir de Séries Temporais\n",
    "\n",
    "Vamos criar uma sequência de datas e horas com a função `date_range()` do **Pandas** que usa os  argumentos de início e/ou fim do intervalo, número de períodos, frequência, fuso horário etc. e que retorna um `DatetimeIndex` de frequência fixa.\n",
    "\n",
    "Sintaxe:  \n",
    "`pandas.date_range(start=None, end=None, periods=None, freq=None, tz=None, \n",
    "                   normalize=False, name=None, closed=None, **kwargs)`\n",
    "                   \n",
    "Obs.: \\*\\*kwargs é usado por compatibilidade, mas não tem efeito no resultado."
   ]
  },
  {
   "cell_type": "code",
   "execution_count": 9,
   "metadata": {
    "scrolled": true
   },
   "outputs": [
    {
     "data": {
      "text/plain": [
       "DatetimeIndex(['2023-04-04 00:00:00', '2023-04-04 01:00:00',\n",
       "               '2023-04-04 02:00:00', '2023-04-04 03:00:00',\n",
       "               '2023-04-04 04:00:00', '2023-04-04 05:00:00',\n",
       "               '2023-04-04 06:00:00', '2023-04-04 07:00:00',\n",
       "               '2023-04-04 08:00:00', '2023-04-04 09:00:00',\n",
       "               '2023-04-04 10:00:00', '2023-04-04 11:00:00',\n",
       "               '2023-04-04 12:00:00', '2023-04-04 13:00:00',\n",
       "               '2023-04-04 14:00:00', '2023-04-04 15:00:00',\n",
       "               '2023-04-04 16:00:00', '2023-04-04 17:00:00',\n",
       "               '2023-04-04 18:00:00', '2023-04-04 19:00:00',\n",
       "               '2023-04-04 20:00:00', '2023-04-04 21:00:00',\n",
       "               '2023-04-04 22:00:00', '2023-04-04 23:00:00'],\n",
       "              dtype='datetime64[ns]', freq='H')"
      ]
     },
     "execution_count": 9,
     "metadata": {},
     "output_type": "execute_result"
    }
   ],
   "source": [
    "dti = pd.date_range(start='2023-04-04 00:00:00.0', periods=24, freq='H')\n",
    "dti"
   ]
  },
  {
   "cell_type": "markdown",
   "metadata": {},
   "source": [
    "Agora vamos reunir os valores de temperatura (ver item 1.1.1) e as datas e horas correspondentes, para criar um *DataFrame*. Em muitos casos, é conveniente usar valores de data e hora como rótulos de linha:"
   ]
  },
  {
   "cell_type": "code",
   "execution_count": 11,
   "metadata": {},
   "outputs": [
    {
     "data": {
      "text/html": [
       "<div>\n",
       "<style scoped>\n",
       "    .dataframe tbody tr th:only-of-type {\n",
       "        vertical-align: middle;\n",
       "    }\n",
       "\n",
       "    .dataframe tbody tr th {\n",
       "        vertical-align: top;\n",
       "    }\n",
       "\n",
       "    .dataframe thead th {\n",
       "        text-align: right;\n",
       "    }\n",
       "</style>\n",
       "<table border=\"1\" class=\"dataframe\">\n",
       "  <thead>\n",
       "    <tr style=\"text-align: right;\">\n",
       "      <th></th>\n",
       "      <th>temp_c</th>\n",
       "    </tr>\n",
       "  </thead>\n",
       "  <tbody>\n",
       "    <tr>\n",
       "      <th>2023-04-04 00:00:00</th>\n",
       "      <td>8.0</td>\n",
       "    </tr>\n",
       "    <tr>\n",
       "      <th>2023-04-04 01:00:00</th>\n",
       "      <td>7.1</td>\n",
       "    </tr>\n",
       "    <tr>\n",
       "      <th>2023-04-04 02:00:00</th>\n",
       "      <td>6.8</td>\n",
       "    </tr>\n",
       "    <tr>\n",
       "      <th>2023-04-04 03:00:00</th>\n",
       "      <td>6.4</td>\n",
       "    </tr>\n",
       "    <tr>\n",
       "      <th>2023-04-04 04:00:00</th>\n",
       "      <td>6.0</td>\n",
       "    </tr>\n",
       "  </tbody>\n",
       "</table>\n",
       "</div>"
      ],
      "text/plain": [
       "                     temp_c\n",
       "2023-04-04 00:00:00     8.0\n",
       "2023-04-04 01:00:00     7.1\n",
       "2023-04-04 02:00:00     6.8\n",
       "2023-04-04 03:00:00     6.4\n",
       "2023-04-04 04:00:00     6.0"
      ]
     },
     "execution_count": 11,
     "metadata": {},
     "output_type": "execute_result"
    }
   ],
   "source": [
    "temper = pd.DataFrame(data={'temp_c': temp_c}, index=dti)\n",
    "temper.head(5)"
   ]
  },
  {
   "cell_type": "markdown",
   "metadata": {},
   "source": [
    "### <i>Dataframe</i> a partir Arquivo JSON\n",
    "\n",
    "Se tivermos um arquivo **JSON** - que é essencialmente um dicionário Python - o **Pandas** pode lê-lo com a mesma facilidade que lê um arquivo CSV:"
   ]
  },
  {
   "cell_type": "code",
   "execution_count": 9,
   "metadata": {},
   "outputs": [
    {
     "data": {
      "text/html": [
       "<div>\n",
       "<style scoped>\n",
       "    .dataframe tbody tr th:only-of-type {\n",
       "        vertical-align: middle;\n",
       "    }\n",
       "\n",
       "    .dataframe tbody tr th {\n",
       "        vertical-align: top;\n",
       "    }\n",
       "\n",
       "    .dataframe thead th {\n",
       "        text-align: right;\n",
       "    }\n",
       "</style>\n",
       "<table border=\"1\" class=\"dataframe\">\n",
       "  <thead>\n",
       "    <tr style=\"text-align: right;\">\n",
       "      <th></th>\n",
       "      <th>field1</th>\n",
       "      <th>ma��</th>\n",
       "      <th>laranja</th>\n",
       "    </tr>\n",
       "  </thead>\n",
       "  <tbody>\n",
       "    <tr>\n",
       "      <th>0</th>\n",
       "      <td>Jo�o</td>\n",
       "      <td>3</td>\n",
       "      <td>0</td>\n",
       "    </tr>\n",
       "    <tr>\n",
       "      <th>1</th>\n",
       "      <td>Maria</td>\n",
       "      <td>2</td>\n",
       "      <td>3</td>\n",
       "    </tr>\n",
       "    <tr>\n",
       "      <th>2</th>\n",
       "      <td>Jos�</td>\n",
       "      <td>0</td>\n",
       "      <td>7</td>\n",
       "    </tr>\n",
       "    <tr>\n",
       "      <th>3</th>\n",
       "      <td>Lucas</td>\n",
       "      <td>1</td>\n",
       "      <td>2</td>\n",
       "    </tr>\n",
       "  </tbody>\n",
       "</table>\n",
       "</div>"
      ],
      "text/plain": [
       "  field1  ma��  laranja\n",
       "0   Jo�o     3        0\n",
       "1  Maria     2        3\n",
       "2   Jos�     0        7\n",
       "3  Lucas     1        2"
      ]
     },
     "execution_count": 9,
     "metadata": {},
     "output_type": "execute_result"
    }
   ],
   "source": [
    "df = pd.read_json('dat/frutas.json')\n",
    "df"
   ]
  },
  {
   "cell_type": "markdown",
   "metadata": {},
   "source": [
    "<h2 style=\"color:blue; background-color:#F3F2F9\">1.3 Visualizando Dados</h2>\n",
    "\n",
    "<h3>1.3.1 Visualizando Tabelas</h3>\n",
    "\n",
    "Podemos visualizar as linhas de dados iniciais e finais de um *DataFrame* usando `df.head()` e `df.tail()`, respectivamente:"
   ]
  },
  {
   "cell_type": "code",
   "execution_count": 2,
   "metadata": {},
   "outputs": [
    {
     "ename": "NameError",
     "evalue": "name 'df1' is not defined",
     "output_type": "error",
     "traceback": [
      "\u001b[1;31m---------------------------------------------------------------------------\u001b[0m",
      "\u001b[1;31mNameError\u001b[0m                                 Traceback (most recent call last)",
      "\u001b[1;32m~\\AppData\\Local\\Temp/ipykernel_14292/1355257083.py\u001b[0m in \u001b[0;36m<module>\u001b[1;34m\u001b[0m\n\u001b[1;32m----> 1\u001b[1;33m \u001b[0mdf1\u001b[0m\u001b[1;33m.\u001b[0m\u001b[0mhead\u001b[0m\u001b[1;33m(\u001b[0m\u001b[1;33m)\u001b[0m          \u001b[1;31m# mostra as cinco primeiras linhas do dataframe (sem parâmetro)\u001b[0m\u001b[1;33m\u001b[0m\u001b[1;33m\u001b[0m\u001b[0m\n\u001b[0m",
      "\u001b[1;31mNameError\u001b[0m: name 'df1' is not defined"
     ]
    }
   ],
   "source": [
    "df1.head()          # mostra as cinco primeiras linhas do dataframe (sem parâmetro)"
   ]
  },
  {
   "cell_type": "code",
   "execution_count": 35,
   "metadata": {},
   "outputs": [
    {
     "data": {
      "text/html": [
       "<div>\n",
       "<style scoped>\n",
       "    .dataframe tbody tr th:only-of-type {\n",
       "        vertical-align: middle;\n",
       "    }\n",
       "\n",
       "    .dataframe tbody tr th {\n",
       "        vertical-align: top;\n",
       "    }\n",
       "\n",
       "    .dataframe thead th {\n",
       "        text-align: right;\n",
       "    }\n",
       "</style>\n",
       "<table border=\"1\" class=\"dataframe\">\n",
       "  <thead>\n",
       "    <tr style=\"text-align: right;\">\n",
       "      <th></th>\n",
       "      <th>A</th>\n",
       "      <th>B</th>\n",
       "      <th>C</th>\n",
       "      <th>D</th>\n",
       "    </tr>\n",
       "  </thead>\n",
       "  <tbody>\n",
       "    <tr>\n",
       "      <th>2022-05-22</th>\n",
       "      <td>-0.313486</td>\n",
       "      <td>-0.643227</td>\n",
       "      <td>0.199329</td>\n",
       "      <td>0.796231</td>\n",
       "    </tr>\n",
       "    <tr>\n",
       "      <th>2022-05-23</th>\n",
       "      <td>-0.484372</td>\n",
       "      <td>0.235639</td>\n",
       "      <td>-0.058553</td>\n",
       "      <td>0.283507</td>\n",
       "    </tr>\n",
       "    <tr>\n",
       "      <th>2022-05-24</th>\n",
       "      <td>-0.266641</td>\n",
       "      <td>-2.240931</td>\n",
       "      <td>0.060571</td>\n",
       "      <td>-0.819573</td>\n",
       "    </tr>\n",
       "  </tbody>\n",
       "</table>\n",
       "</div>"
      ],
      "text/plain": [
       "                   A         B         C         D\n",
       "2022-05-22 -0.313486 -0.643227  0.199329  0.796231\n",
       "2022-05-23 -0.484372  0.235639 -0.058553  0.283507\n",
       "2022-05-24 -0.266641 -2.240931  0.060571 -0.819573"
      ]
     },
     "execution_count": 35,
     "metadata": {},
     "output_type": "execute_result"
    }
   ],
   "source": [
    "df1.tail(3)         # mostra as três últimas linhas do dataframe (parâmetro 3)"
   ]
  },
  {
   "cell_type": "markdown",
   "metadata": {},
   "source": [
    "Mostrando os índices e os rótulos das colunas da tabela:"
   ]
  },
  {
   "cell_type": "code",
   "execution_count": 36,
   "metadata": {},
   "outputs": [
    {
     "data": {
      "text/plain": [
       "DatetimeIndex(['2022-05-19', '2022-05-20', '2022-05-21', '2022-05-22',\n",
       "               '2022-05-23', '2022-05-24'],\n",
       "              dtype='datetime64[ns]', freq='D')"
      ]
     },
     "execution_count": 36,
     "metadata": {},
     "output_type": "execute_result"
    }
   ],
   "source": [
    "df1.index"
   ]
  },
  {
   "cell_type": "code",
   "execution_count": 37,
   "metadata": {},
   "outputs": [
    {
     "data": {
      "text/plain": [
       "Index(['A', 'B', 'C', 'D'], dtype='object')"
      ]
     },
     "execution_count": 37,
     "metadata": {},
     "output_type": "execute_result"
    }
   ],
   "source": [
    "df1.columns"
   ]
  },
  {
   "cell_type": "markdown",
   "metadata": {},
   "source": [
    "<h3>1.3.2 Plotando Dados</h3>\n",
    "\n",
    "O **Pandas** permite visualizar dados de forma gráfica baseado em *DataFrames*. Ele usa o **Matplotlib** em segundo plano, portanto, explorar os recursos de plotagem do **Pandas** é semelhante a trabalhar com o **Matplotlib**.\n",
    "\n",
    "Vamos usar o método `pandas.DataFrame.plot()` para criar o gráfico da série temporal de temperaturas:"
   ]
  },
  {
   "cell_type": "code",
   "execution_count": 15,
   "metadata": {},
   "outputs": [
    {
     "data": {
      "text/plain": [
       "<AxesSubplot:>"
      ]
     },
     "execution_count": 15,
     "metadata": {},
     "output_type": "execute_result"
    },
    {
     "data": {
      "image/png": "[encoded data removed]",
      "text/plain": [
       "<Figure size 432x288 with 1 Axes>"
      ]
     },
     "metadata": {
      "needs_background": "light"
     },
     "output_type": "display_data"
    }
   ],
   "source": [
    "temper.plot()"
   ]
  },
  {
   "cell_type": "markdown",
   "metadata": {},
   "source": [
    "Podemos aplicar `pandas.plot.line()` e obter o mesmo resultado. Ambos métodos, `pandas.plot()` e `pandas.plot.line()` possuem muitos parâmetros opcionais para especificar a aparência do gráfico. Alguns deles são passados diretamente aos métodos do **Matplotlib**.\n",
    "\n",
    "Para salvar o gráfico produzido como uma figura podemos encadear os métodos `pandas.get_figure()` e `pandas.savefig()`:"
   ]
  },
  {
   "cell_type": "code",
   "execution_count": 17,
   "metadata": {},
   "outputs": [
    {
     "data": {
      "image/png": "[encoded data removed]",
      "text/plain": [
       "<Figure size 432x288 with 1 Axes>"
      ]
     },
     "metadata": {
      "needs_background": "light"
     },
     "output_type": "display_data"
    }
   ],
   "source": [
    "temper.plot().get_figure().savefig('img\\\\temperaturas.png')"
   ]
  },
  {
   "cell_type": "code",
   "execution_count": 26,
   "metadata": {},
   "outputs": [
    {
     "name": "stdout",
     "output_type": "stream",
     "text": [
      "['temperaturas.png']\n"
     ]
    }
   ],
   "source": [
    "# Verificando a existência do arquivo da figura (figura foi gerada?)\n",
    "from os import listdir\n",
    "from os.path import isfile, join\n",
    "caminho = 'img\\\\.'\n",
    "arq = [f for f in listdir(caminho) if isfile(join(caminho, f)) and f[:6]=='temper']\n",
    "print(arq)"
   ]
  },
  {
   "cell_type": "markdown",
   "metadata": {},
   "source": [
    "<h2 style=\"color:blue; background-color:#F3F2F9\">1.4 Salvando os Dados em Arquivo</h2>\n",
    "\n",
    "Semelhante às formas como lemos os dados, o **Pandas** fornece comandos intuitivos para salvá-los:\n",
    "```python\n",
    "df.to_csv('novas_compras.csv')\n",
    "df.to_json('novas_compras.json')\n",
    "df.to_sql('novas_compras', con)\n",
    "```\n",
    "\n",
    "Quando salvamos arquivos 'JSON' e 'CSV', bastar inserir nas funções o nome de arquivo desejado, com a extensão de arquivo apropriada. Com o 'SQL', não criamos um novo arquivo, mas inserimos uma nova tabela no banco de dados, usando a variável 'con' de antes."
   ]
  },
  {
   "cell_type": "markdown",
   "metadata": {},
   "source": [
    "<h1 style=\"color:blue; background-color:#E0DBF9; text-align:center\">2. Fundamentos</h1>\n",
    "\n",
    "Existem dois tipos principais de estruturas de dados no **pandas**:\n",
    " 1. ***Series***: são matrizes unidimensionais rotuladas, capazes de armazenar dados de qualquer tipo (inteiro, string, float, objetos python etc.). Os rótulos dos eixos são chamados de índices. Fazendo uma analogia com uma planilha de dados (tipo EXCEL, ou CALC), uma **série** representa uma coluna na planilha, e seus índices seriam a identificação das linhas (numeração) e colunas (letras).  \n",
    " \n",
    "   \n",
    " 2. ***DataFrames***: são estruturas de dados bidimensional (tabelas) potencialmente heterogêneas e de tamanho variável com eixos rotulados (linhas e colunas). São semelhantes a matrizes, com colunas nominadas e contendo dados de tipos diferentes. Um _dataframe_ pode ser visto como uma tabela de um banco de dados, em que cada linha corresponde a um registo (linha) da tabela.\n",
    " \n",
    "<h2 style=\"color:blue; background-color:#F3F2F9\">2.1 Série</h2>\n",
    "\n",
    "* Criando uma __Série de Dados__ a partir de uma lista de valores, fazendo com que o **pandas** crie um índice inteiro padrão:"
   ]
  },
  {
   "cell_type": "code",
   "execution_count": 67,
   "metadata": {},
   "outputs": [
    {
     "data": {
      "text/plain": [
       "0    7.88\n",
       "1    5.21\n",
       "2    6.85\n",
       "3    5.90\n",
       "4    6.28\n",
       "5    8.46\n",
       "6    7.08\n",
       "7    3.41\n",
       "8    5.11\n",
       "9    8.11\n",
       "dtype: float64"
      ]
     },
     "execution_count": 67,
     "metadata": {},
     "output_type": "execute_result"
    }
   ],
   "source": [
    "s2 = pd.Series([7.88, 5.21, 6.85, 5.90,  6.28, 8.46, 7.08, 3.41, 5.11, 8.11])\n",
    "s2"
   ]
  },
  {
   "cell_type": "markdown",
   "metadata": {},
   "source": [
    "<h2 style=\"color:blue; background-color:#F3F2F9\">2.2 Estruturas de Dados</h2>  \n",
    "\n",
    "O __Dataframe__ é uma estrutura de dados com representação tabular bidimensional de dados (dados alinhados em linhas e colunas), potencialmente heterogênea, e de tamanho mutável (ao contrário da __série de dados__ que não permite operações que alterem seu tamanho). Você pode imaginá-lo como uma tabela em um banco de dados ou uma planilha. \n",
    "\n",
    "<img src=\"img/dataframe.png\" width=500px>  \n",
    "Os dados estão disponíveis em várias formas e tipos, como arquivos CSV ou JSON, tabelas SQL ou estruturas Python como **list**, **dict**, **array** etc. Precisamos converter todos esses formatos de dados diferentes em um **DataFrame** para que possamos usar a biblioteca **pandas** na análise eficiente desses dados.\n",
    "\n",
    "<h3 style=\"color:blue; background-color:#F3F2F9\">2.2.1 Construtor da Classe DataFrame</h3>\n",
    "\n",
    "`pd.DataFrame(data=None, index=None, columns=None, dtype=None, copy=False)`\n",
    "\n",
    "* Criando um __DataFrame__ a partir de uma matriz NumPy, com índice `datetime` e colunas rotuladas:"
   ]
  },
  {
   "cell_type": "code",
   "execution_count": 68,
   "metadata": {},
   "outputs": [
    {
     "data": {
      "text/plain": [
       "['S1', 'S2', 'S3', 'S4', 'S5', 'S6', 'S7']"
      ]
     },
     "execution_count": 68,
     "metadata": {},
     "output_type": "execute_result"
    }
   ],
   "source": [
    "semana = [\"S1\",\"S2\",\"S3\",\"S4\",\"S5\",\"S6\",\"S7\"]\n",
    "semana"
   ]
  },
  {
   "cell_type": "code",
   "execution_count": 74,
   "metadata": {},
   "outputs": [
    {
     "data": {
      "text/html": [
       "<div>\n",
       "<style scoped>\n",
       "    .dataframe tbody tr th:only-of-type {\n",
       "        vertical-align: middle;\n",
       "    }\n",
       "\n",
       "    .dataframe tbody tr th {\n",
       "        vertical-align: top;\n",
       "    }\n",
       "\n",
       "    .dataframe thead th {\n",
       "        text-align: right;\n",
       "    }\n",
       "</style>\n",
       "<table border=\"1\" class=\"dataframe\">\n",
       "  <thead>\n",
       "    <tr style=\"text-align: right;\">\n",
       "      <th></th>\n",
       "      <th>Nome</th>\n",
       "      <th>Idade</th>\n",
       "      <th>Naturalidade</th>\n",
       "      <th>Peso</th>\n",
       "    </tr>\n",
       "  </thead>\n",
       "  <tbody>\n",
       "    <tr>\n",
       "      <th>S1</th>\n",
       "      <td>João</td>\n",
       "      <td>20</td>\n",
       "      <td>Goiânia</td>\n",
       "      <td>67</td>\n",
       "    </tr>\n",
       "    <tr>\n",
       "      <th>S2</th>\n",
       "      <td>Maria</td>\n",
       "      <td>21</td>\n",
       "      <td>Anápolis</td>\n",
       "      <td>72</td>\n",
       "    </tr>\n",
       "    <tr>\n",
       "      <th>S3</th>\n",
       "      <td>Samuel</td>\n",
       "      <td>19</td>\n",
       "      <td>Rio Verde</td>\n",
       "      <td>58</td>\n",
       "    </tr>\n",
       "    <tr>\n",
       "      <th>S4</th>\n",
       "      <td>José</td>\n",
       "      <td>20</td>\n",
       "      <td>Goiânia</td>\n",
       "      <td>93</td>\n",
       "    </tr>\n",
       "    <tr>\n",
       "      <th>S5</th>\n",
       "      <td>Mônica</td>\n",
       "      <td>22</td>\n",
       "      <td>Jataí</td>\n",
       "      <td>55</td>\n",
       "    </tr>\n",
       "    <tr>\n",
       "      <th>S6</th>\n",
       "      <td>Manoel</td>\n",
       "      <td>14</td>\n",
       "      <td></td>\n",
       "      <td>42</td>\n",
       "    </tr>\n",
       "    <tr>\n",
       "      <th>S7</th>\n",
       "      <td>Jussara</td>\n",
       "      <td>16</td>\n",
       "      <td></td>\n",
       "      <td>44</td>\n",
       "    </tr>\n",
       "  </tbody>\n",
       "</table>\n",
       "</div>"
      ],
      "text/plain": [
       "       Nome  Idade Naturalidade  Peso\n",
       "S1     João     20      Goiânia    67\n",
       "S2    Maria     21     Anápolis    72\n",
       "S3   Samuel     19    Rio Verde    58\n",
       "S4     José     20      Goiânia    93\n",
       "S5   Mônica     22        Jataí    55\n",
       "S6   Manoel     14                 42\n",
       "S7  Jussara     16                 44"
      ]
     },
     "execution_count": 74,
     "metadata": {},
     "output_type": "execute_result"
    }
   ],
   "source": [
    "dados = {\"Nome\":[\"João\",\"Maria\",\"Samuel\",\"José\",\"Mônica\",\"Manoel\",\"Jussara\"],\n",
    "         \"Idade\":[20,21,19,20,22,14,16],\n",
    "         \"Naturalidade\":[\"Goiânia\",\"Anápolis\",\"Rio Verde\",\"Goiânia\",\"Jataí\",\"\",\"\"],\n",
    "         \"Peso\":[67,72,58,93,55,42,44]                                                                                                                                                                                                                                                                                                                                                                                                                                                                                                                                                                                                                                                                                                                                                                                                                                                                                                                                                                                                                                                                                                                                                                                                                                                                                                                                                                                                                                                                                                                                                                                                                                                                                                                                                                                                                                                                                                                                                                                                                                                                                                                                                                                                                                                                                                                                                                                                                                                                                                                                                                                                                                                                                                                                                                                                                                                                                                                                                                                                                                                                                                                                                                                                                                                                                                                                                                                         \n",
    "        }\n",
    "df_exemplo = pd.DataFrame(dados, index=semana) #, columns=list(\"ABCD\"))\n",
    "df_exemplo"
   ]
  },
  {
   "cell_type": "markdown",
   "metadata": {},
   "source": [
    "Mais um exemplo de criação de __Dataframe__ a partir de um dicionário:"
   ]
  },
  {
   "cell_type": "code",
   "execution_count": 10,
   "metadata": {},
   "outputs": [
    {
     "name": "stdout",
     "output_type": "stream",
     "text": [
      "{'Nome': ['José', 'Maria'], 'Idade': [20, 21], 'Notas': [85.1, 77.8]}\n",
      "\n",
      "     Nome  Idade  Notas\n",
      "0   José     20   85.1\n",
      "1  Maria     21   77.8\n"
     ]
    }
   ],
   "source": [
    "# Objeto dicionário Python\n",
    "alunos_dic = {'Nome': ['José', 'Maria'], 'Idade': [20, 21], 'Notas': [85.10, 77.80]}\n",
    "print(alunos_dic)\n",
    "\n",
    "# Criação do DataFrame a partir do dicionário\n",
    "alunos_df = pd.DataFrame(alunos_dic)\n",
    "print(\"\\n\", alunos_df)"
   ]
  },
  {
   "cell_type": "markdown",
   "metadata": {},
   "source": [
    "As strings 'Nome', 'Idade' e 'Notas' são chaves no dicionário e tornam-se rótulos das colunas no __DataFrame__.  \n",
    "\n",
    "* Criando um *DataFrame* a partir de valores aleatórios e denominações de colunas."
   ]
  },
  {
   "cell_type": "code",
   "execution_count": 38,
   "metadata": {
    "scrolled": true
   },
   "outputs": [
    {
     "data": {
      "text/html": [
       "<div>\n",
       "<style scoped>\n",
       "    .dataframe tbody tr th:only-of-type {\n",
       "        vertical-align: middle;\n",
       "    }\n",
       "\n",
       "    .dataframe tbody tr th {\n",
       "        vertical-align: top;\n",
       "    }\n",
       "\n",
       "    .dataframe thead th {\n",
       "        text-align: right;\n",
       "    }\n",
       "</style>\n",
       "<table border=\"1\" class=\"dataframe\">\n",
       "  <thead>\n",
       "    <tr style=\"text-align: right;\">\n",
       "      <th></th>\n",
       "      <th>P1</th>\n",
       "      <th>P2</th>\n",
       "      <th>P3</th>\n",
       "      <th>P4</th>\n",
       "    </tr>\n",
       "  </thead>\n",
       "  <tbody>\n",
       "    <tr>\n",
       "      <th>0</th>\n",
       "      <td>0.837642</td>\n",
       "      <td>0.220146</td>\n",
       "      <td>1.904104</td>\n",
       "      <td>0.523128</td>\n",
       "    </tr>\n",
       "    <tr>\n",
       "      <th>1</th>\n",
       "      <td>1.416785</td>\n",
       "      <td>-0.754708</td>\n",
       "      <td>1.246087</td>\n",
       "      <td>0.168689</td>\n",
       "    </tr>\n",
       "    <tr>\n",
       "      <th>2</th>\n",
       "      <td>1.474307</td>\n",
       "      <td>-1.287456</td>\n",
       "      <td>1.266722</td>\n",
       "      <td>-1.006524</td>\n",
       "    </tr>\n",
       "    <tr>\n",
       "      <th>3</th>\n",
       "      <td>1.432191</td>\n",
       "      <td>1.511203</td>\n",
       "      <td>1.187074</td>\n",
       "      <td>-0.920203</td>\n",
       "    </tr>\n",
       "    <tr>\n",
       "      <th>4</th>\n",
       "      <td>0.125282</td>\n",
       "      <td>-1.644047</td>\n",
       "      <td>1.488061</td>\n",
       "      <td>-2.621411</td>\n",
       "    </tr>\n",
       "    <tr>\n",
       "      <th>5</th>\n",
       "      <td>-1.833994</td>\n",
       "      <td>-0.837596</td>\n",
       "      <td>-0.799832</td>\n",
       "      <td>-0.823618</td>\n",
       "    </tr>\n",
       "  </tbody>\n",
       "</table>\n",
       "</div>"
      ],
      "text/plain": [
       "         P1        P2        P3        P4\n",
       "0  0.837642  0.220146  1.904104  0.523128\n",
       "1  1.416785 -0.754708  1.246087  0.168689\n",
       "2  1.474307 -1.287456  1.266722 -1.006524\n",
       "3  1.432191  1.511203  1.187074 -0.920203\n",
       "4  0.125282 -1.644047  1.488061 -2.621411\n",
       "5 -1.833994 -0.837596 -0.799832 -0.823618"
      ]
     },
     "execution_count": 38,
     "metadata": {},
     "output_type": "execute_result"
    }
   ],
   "source": [
    "df7 = pd.DataFrame(np.random.randn(6,4), columns=['P1','P2','P3','P4'])\n",
    "df7"
   ]
  },
  {
   "cell_type": "code",
   "execution_count": 39,
   "metadata": {},
   "outputs": [
    {
     "data": {
      "text/html": [
       "<div>\n",
       "<style scoped>\n",
       "    .dataframe tbody tr th:only-of-type {\n",
       "        vertical-align: middle;\n",
       "    }\n",
       "\n",
       "    .dataframe tbody tr th {\n",
       "        vertical-align: top;\n",
       "    }\n",
       "\n",
       "    .dataframe thead th {\n",
       "        text-align: right;\n",
       "    }\n",
       "</style>\n",
       "<table border=\"1\" class=\"dataframe\">\n",
       "  <thead>\n",
       "    <tr style=\"text-align: right;\">\n",
       "      <th></th>\n",
       "      <th>P1</th>\n",
       "      <th>P2</th>\n",
       "      <th>P3</th>\n",
       "      <th>P4</th>\n",
       "    </tr>\n",
       "  </thead>\n",
       "  <tbody>\n",
       "    <tr>\n",
       "      <th>0</th>\n",
       "      <td>0.837642</td>\n",
       "      <td>0.220146</td>\n",
       "      <td>1.904104</td>\n",
       "      <td>0.523128</td>\n",
       "    </tr>\n",
       "    <tr>\n",
       "      <th>3</th>\n",
       "      <td>1.432191</td>\n",
       "      <td>1.511203</td>\n",
       "      <td>1.187074</td>\n",
       "      <td>-0.920203</td>\n",
       "    </tr>\n",
       "  </tbody>\n",
       "</table>\n",
       "</div>"
      ],
      "text/plain": [
       "         P1        P2        P3        P4\n",
       "0  0.837642  0.220146  1.904104  0.523128\n",
       "3  1.432191  1.511203  1.187074 -0.920203"
      ]
     },
     "execution_count": 39,
     "metadata": {},
     "output_type": "execute_result"
    }
   ],
   "source": [
    "df_filtrado = df7.query('P1 > 0').query('0 < P2 < 2')   # encadeamento de condições\n",
    "df_filtrado"
   ]
  },
  {
   "cell_type": "code",
   "execution_count": 40,
   "metadata": {
    "scrolled": true
   },
   "outputs": [
    {
     "data": {
      "text/html": [
       "<div>\n",
       "<style scoped>\n",
       "    .dataframe tbody tr th:only-of-type {\n",
       "        vertical-align: middle;\n",
       "    }\n",
       "\n",
       "    .dataframe tbody tr th {\n",
       "        vertical-align: top;\n",
       "    }\n",
       "\n",
       "    .dataframe thead th {\n",
       "        text-align: right;\n",
       "    }\n",
       "</style>\n",
       "<table border=\"1\" class=\"dataframe\">\n",
       "  <thead>\n",
       "    <tr style=\"text-align: right;\">\n",
       "      <th></th>\n",
       "      <th>P1</th>\n",
       "      <th>P2</th>\n",
       "      <th>P3</th>\n",
       "      <th>P4</th>\n",
       "    </tr>\n",
       "  </thead>\n",
       "  <tbody>\n",
       "    <tr>\n",
       "      <th>0</th>\n",
       "      <td>0.837642</td>\n",
       "      <td>0.220146</td>\n",
       "      <td>1.904104</td>\n",
       "      <td>0.523128</td>\n",
       "    </tr>\n",
       "    <tr>\n",
       "      <th>3</th>\n",
       "      <td>1.432191</td>\n",
       "      <td>1.511203</td>\n",
       "      <td>1.187074</td>\n",
       "      <td>-0.920203</td>\n",
       "    </tr>\n",
       "  </tbody>\n",
       "</table>\n",
       "</div>"
      ],
      "text/plain": [
       "         P1        P2        P3        P4\n",
       "0  0.837642  0.220146  1.904104  0.523128\n",
       "3  1.432191  1.511203  1.187074 -0.920203"
      ]
     },
     "execution_count": 40,
     "metadata": {},
     "output_type": "execute_result"
    }
   ],
   "source": [
    "df_filtrado2 = df7.query('P1 > 0 & 0 < P2 < 2')         # expressão booleana\n",
    "df_filtrado2"
   ]
  },
  {
   "cell_type": "markdown",
   "metadata": {},
   "source": [
    "* Criando um *DataFrame* a partir de um arquivo CSV.\n",
    "\n",
    "Vamos usar o arquivo `carros.csv` com dados de 60 carros, disponível na pasta `dat` desse \"Jupyter Notebook\":\n",
    "\n",
    "<img src=\"img/carros.png\" width=400>"
   ]
  },
  {
   "cell_type": "code",
   "execution_count": 2,
   "metadata": {},
   "outputs": [
    {
     "name": "stdout",
     "output_type": "stream",
     "text": [
      "        fábrica       estilo  compr_in motor  milhagem\n",
      "0   alfa-romero  conversível     168.8  dohc        21\n",
      "1   alfa-romero    hatchback     171.2  ohcv        19\n",
      "2          audi        sedan     176.6   ohc        24\n",
      "3          audi        sedan     176.6   ohc        18\n",
      "4          audi        sedan     177.3   ohc        19\n",
      "..          ...          ...       ...   ...       ...\n",
      "55   volkswagen        sedan     171.7   ohc        27\n",
      "56   volkswagen        sedan     171.7   ohc        37\n",
      "57   volkswagen        sedan     171.7   ohc        26\n",
      "58        volvo        sedan     188.8   ohc        23\n",
      "59        volvo        perua     188.8   ohc        23\n",
      "\n",
      "[60 rows x 5 columns]\n"
     ]
    }
   ],
   "source": [
    "# import pandas as pd\n",
    "carros = pd.read_csv(\"dat/carros.csv\")\n",
    "pd.options.display.max_rows = 12            # ajustando a qtde. máx. de linhas a serem mostradas\n",
    "# ou pd.set_option(\"display.min_rows\", 10)\n",
    "print(carros)"
   ]
  },
  {
   "cell_type": "markdown",
   "metadata": {},
   "source": [
    "<h3 style=\"color:blue; background-color:#F3F2F9\">2.2.2 Informações de Metadados do <b>DataFrame</b></h3>  \n",
    "\n",
    "A função `DataFrame.info()` fornece os metadados do __DataFrame__, o qual em geral inclui: \n",
    "* Número de linhas e intervalo de índices\n",
    "* Número total de colunas\n",
    "* Lista de colunas\n",
    "* Número total de valores não nulos na coluna\n",
    "* Tipo de dados da coluna\n",
    "* Número de colunas em cada tipo de dados\n",
    "* Memória usada pelo DataFrame"
   ]
  },
  {
   "cell_type": "code",
   "execution_count": 30,
   "metadata": {
    "scrolled": true
   },
   "outputs": [
    {
     "name": "stdout",
     "output_type": "stream",
     "text": [
      "<class 'pandas.core.frame.DataFrame'>\n",
      "RangeIndex: 60 entries, 0 to 59\n",
      "Data columns (total 5 columns):\n",
      " #   Column    Non-Null Count  Dtype  \n",
      "---  ------    --------------  -----  \n",
      " 0   fábrica   60 non-null     object \n",
      " 1   estilo    60 non-null     object \n",
      " 2   compr_in  60 non-null     float64\n",
      " 3   motor     59 non-null     object \n",
      " 4   milhagem  60 non-null     int64  \n",
      "dtypes: float64(1), int64(1), object(3)\n",
      "memory usage: 2.5+ KB\n"
     ]
    }
   ],
   "source": [
    "carros.info()"
   ]
  },
  {
   "cell_type": "markdown",
   "metadata": {},
   "source": [
    "<h3 style=\"color:blue; background-color:#F3F2F9\">2.2.3 Informações Estatísticas do DataFrame</h3>  \n",
    "\n",
    "A função `DataFrame.describe()` fornece estatísticas dos dados no __DataFrame__. Só aplica-se às colunas que contêm valores numéricos."
   ]
  },
  {
   "cell_type": "code",
   "execution_count": 17,
   "metadata": {},
   "outputs": [
    {
     "data": {
      "text/html": [
       "<div>\n",
       "<style scoped>\n",
       "    .dataframe tbody tr th:only-of-type {\n",
       "        vertical-align: middle;\n",
       "    }\n",
       "\n",
       "    .dataframe tbody tr th {\n",
       "        vertical-align: top;\n",
       "    }\n",
       "\n",
       "    .dataframe thead th {\n",
       "        text-align: right;\n",
       "    }\n",
       "</style>\n",
       "<table border=\"1\" class=\"dataframe\">\n",
       "  <thead>\n",
       "    <tr style=\"text-align: right;\">\n",
       "      <th></th>\n",
       "      <th>compr_in</th>\n",
       "      <th>milhagem</th>\n",
       "    </tr>\n",
       "  </thead>\n",
       "  <tbody>\n",
       "    <tr>\n",
       "      <th>count</th>\n",
       "      <td>60.000000</td>\n",
       "      <td>60.000000</td>\n",
       "    </tr>\n",
       "    <tr>\n",
       "      <th>mean</th>\n",
       "      <td>173.170000</td>\n",
       "      <td>25.883333</td>\n",
       "    </tr>\n",
       "    <tr>\n",
       "      <th>std</th>\n",
       "      <td>14.128914</td>\n",
       "      <td>8.174146</td>\n",
       "    </tr>\n",
       "    <tr>\n",
       "      <th>min</th>\n",
       "      <td>141.100000</td>\n",
       "      <td>13.000000</td>\n",
       "    </tr>\n",
       "    <tr>\n",
       "      <th>25%</th>\n",
       "      <td>159.100000</td>\n",
       "      <td>19.000000</td>\n",
       "    </tr>\n",
       "    <tr>\n",
       "      <th>50%</th>\n",
       "      <td>171.450000</td>\n",
       "      <td>25.000000</td>\n",
       "    </tr>\n",
       "    <tr>\n",
       "      <th>75%</th>\n",
       "      <td>179.125000</td>\n",
       "      <td>31.000000</td>\n",
       "    </tr>\n",
       "    <tr>\n",
       "      <th>max</th>\n",
       "      <td>208.100000</td>\n",
       "      <td>47.000000</td>\n",
       "    </tr>\n",
       "  </tbody>\n",
       "</table>\n",
       "</div>"
      ],
      "text/plain": [
       "         compr_in   milhagem\n",
       "count   60.000000  60.000000\n",
       "mean   173.170000  25.883333\n",
       "std     14.128914   8.174146\n",
       "min    141.100000  13.000000\n",
       "25%    159.100000  19.000000\n",
       "50%    171.450000  25.000000\n",
       "75%    179.125000  31.000000\n",
       "max    208.100000  47.000000"
      ]
     },
     "execution_count": 17,
     "metadata": {},
     "output_type": "execute_result"
    }
   ],
   "source": [
    "carros.describe()"
   ]
  },
  {
   "cell_type": "markdown",
   "metadata": {},
   "source": [
    "<h3 style=\"color:blue; background-color:#F3F2F9\">2.2.4 Acessando Alguns Dados</h3>\n",
    "\n",
    "* Visualizando as `n` (cinco se o parâmetro `n` não for informado) primeiras ou últimas linhas de um *dataframe*: `dataframe.head()` e `dataframe.tail()`"
   ]
  },
  {
   "cell_type": "code",
   "execution_count": 85,
   "metadata": {
    "scrolled": true
   },
   "outputs": [
    {
     "data": {
      "text/html": [
       "<div>\n",
       "<style scoped>\n",
       "    .dataframe tbody tr th:only-of-type {\n",
       "        vertical-align: middle;\n",
       "    }\n",
       "\n",
       "    .dataframe tbody tr th {\n",
       "        vertical-align: top;\n",
       "    }\n",
       "\n",
       "    .dataframe thead th {\n",
       "        text-align: right;\n",
       "    }\n",
       "</style>\n",
       "<table border=\"1\" class=\"dataframe\">\n",
       "  <thead>\n",
       "    <tr style=\"text-align: right;\">\n",
       "      <th></th>\n",
       "      <th>fábrica</th>\n",
       "      <th>estilo</th>\n",
       "      <th>compr_in</th>\n",
       "      <th>motor</th>\n",
       "      <th>milhagem</th>\n",
       "    </tr>\n",
       "  </thead>\n",
       "  <tbody>\n",
       "    <tr>\n",
       "      <th>0</th>\n",
       "      <td>alfa-romero</td>\n",
       "      <td>conversível</td>\n",
       "      <td>168.8</td>\n",
       "      <td>dohc</td>\n",
       "      <td>21</td>\n",
       "    </tr>\n",
       "    <tr>\n",
       "      <th>1</th>\n",
       "      <td>alfa-romero</td>\n",
       "      <td>hatchback</td>\n",
       "      <td>171.2</td>\n",
       "      <td>ohcv</td>\n",
       "      <td>19</td>\n",
       "    </tr>\n",
       "    <tr>\n",
       "      <th>2</th>\n",
       "      <td>audi</td>\n",
       "      <td>sedan</td>\n",
       "      <td>176.6</td>\n",
       "      <td>ohc</td>\n",
       "      <td>24</td>\n",
       "    </tr>\n",
       "    <tr>\n",
       "      <th>3</th>\n",
       "      <td>audi</td>\n",
       "      <td>sedan</td>\n",
       "      <td>176.6</td>\n",
       "      <td>ohc</td>\n",
       "      <td>18</td>\n",
       "    </tr>\n",
       "    <tr>\n",
       "      <th>4</th>\n",
       "      <td>audi</td>\n",
       "      <td>sedan</td>\n",
       "      <td>177.3</td>\n",
       "      <td>ohc</td>\n",
       "      <td>19</td>\n",
       "    </tr>\n",
       "  </tbody>\n",
       "</table>\n",
       "</div>"
      ],
      "text/plain": [
       "       fábrica       estilo  compr_in motor  milhagem\n",
       "0  alfa-romero  conversível     168.8  dohc        21\n",
       "1  alfa-romero    hatchback     171.2  ohcv        19\n",
       "2         audi        sedan     176.6   ohc        24\n",
       "3         audi        sedan     176.6   ohc        18\n",
       "4         audi        sedan     177.3   ohc        19"
      ]
     },
     "execution_count": 85,
     "metadata": {},
     "output_type": "execute_result"
    }
   ],
   "source": [
    "carros.head()             # mostra as cinco primeiras linhas do dataframe"
   ]
  },
  {
   "cell_type": "code",
   "execution_count": 6,
   "metadata": {},
   "outputs": [
    {
     "data": {
      "text/html": [
       "<div>\n",
       "<style scoped>\n",
       "    .dataframe tbody tr th:only-of-type {\n",
       "        vertical-align: middle;\n",
       "    }\n",
       "\n",
       "    .dataframe tbody tr th {\n",
       "        vertical-align: top;\n",
       "    }\n",
       "\n",
       "    .dataframe thead th {\n",
       "        text-align: right;\n",
       "    }\n",
       "</style>\n",
       "<table border=\"1\" class=\"dataframe\">\n",
       "  <thead>\n",
       "    <tr style=\"text-align: right;\">\n",
       "      <th></th>\n",
       "      <th>fábrica</th>\n",
       "      <th>estilo</th>\n",
       "      <th>compr_in</th>\n",
       "      <th>motor</th>\n",
       "      <th>milhagem</th>\n",
       "    </tr>\n",
       "  </thead>\n",
       "  <tbody>\n",
       "    <tr>\n",
       "      <th>0</th>\n",
       "      <td>alfa-romero</td>\n",
       "      <td>conversível</td>\n",
       "      <td>168.8</td>\n",
       "      <td>dohc</td>\n",
       "      <td>21</td>\n",
       "    </tr>\n",
       "    <tr>\n",
       "      <th>1</th>\n",
       "      <td>alfa-romero</td>\n",
       "      <td>hatchback</td>\n",
       "      <td>171.2</td>\n",
       "      <td>ohcv</td>\n",
       "      <td>19</td>\n",
       "    </tr>\n",
       "    <tr>\n",
       "      <th>2</th>\n",
       "      <td>audi</td>\n",
       "      <td>sedan</td>\n",
       "      <td>176.6</td>\n",
       "      <td>ohc</td>\n",
       "      <td>24</td>\n",
       "    </tr>\n",
       "  </tbody>\n",
       "</table>\n",
       "</div>"
      ],
      "text/plain": [
       "       fábrica       estilo  compr_in motor  milhagem\n",
       "0  alfa-romero  conversível     168.8  dohc        21\n",
       "1  alfa-romero    hatchback     171.2  ohcv        19\n",
       "2         audi        sedan     176.6   ohc        24"
      ]
     },
     "execution_count": 6,
     "metadata": {},
     "output_type": "execute_result"
    }
   ],
   "source": [
    "carros.head(n=3)          # mostra as três primeiras linhas do dataframe"
   ]
  },
  {
   "cell_type": "code",
   "execution_count": 5,
   "metadata": {},
   "outputs": [
    {
     "data": {
      "text/html": [
       "<div>\n",
       "<style scoped>\n",
       "    .dataframe tbody tr th:only-of-type {\n",
       "        vertical-align: middle;\n",
       "    }\n",
       "\n",
       "    .dataframe tbody tr th {\n",
       "        vertical-align: top;\n",
       "    }\n",
       "\n",
       "    .dataframe thead th {\n",
       "        text-align: right;\n",
       "    }\n",
       "</style>\n",
       "<table border=\"1\" class=\"dataframe\">\n",
       "  <thead>\n",
       "    <tr style=\"text-align: right;\">\n",
       "      <th></th>\n",
       "      <th>fábrica</th>\n",
       "      <th>estilo</th>\n",
       "      <th>compr_in</th>\n",
       "      <th>motor</th>\n",
       "      <th>milhagem</th>\n",
       "    </tr>\n",
       "  </thead>\n",
       "  <tbody>\n",
       "    <tr>\n",
       "      <th>58</th>\n",
       "      <td>volvo</td>\n",
       "      <td>sedan</td>\n",
       "      <td>188.8</td>\n",
       "      <td>ohc</td>\n",
       "      <td>23</td>\n",
       "    </tr>\n",
       "    <tr>\n",
       "      <th>59</th>\n",
       "      <td>volvo</td>\n",
       "      <td>perua</td>\n",
       "      <td>188.8</td>\n",
       "      <td>ohc</td>\n",
       "      <td>23</td>\n",
       "    </tr>\n",
       "  </tbody>\n",
       "</table>\n",
       "</div>"
      ],
      "text/plain": [
       "   fábrica estilo  compr_in motor  milhagem\n",
       "58   volvo  sedan     188.8   ohc        23\n",
       "59   volvo  perua     188.8   ohc        23"
      ]
     },
     "execution_count": 5,
     "metadata": {},
     "output_type": "execute_result"
    }
   ],
   "source": [
    "carros.tail(2)            # mostra as duas últimas linhas do dataframe"
   ]
  },
  {
   "cell_type": "markdown",
   "metadata": {},
   "source": [
    "* Mostrando os índices das linhas e colunas:"
   ]
  },
  {
   "cell_type": "code",
   "execution_count": 88,
   "metadata": {},
   "outputs": [
    {
     "data": {
      "text/plain": [
       "RangeIndex(start=0, stop=60, step=1)"
      ]
     },
     "execution_count": 88,
     "metadata": {},
     "output_type": "execute_result"
    }
   ],
   "source": [
    "carros.index"
   ]
  },
  {
   "cell_type": "code",
   "execution_count": 89,
   "metadata": {},
   "outputs": [
    {
     "data": {
      "text/plain": [
       "Index(['fábrica', 'estilo', 'compr_in', 'motor', 'milhagem'], dtype='object')"
      ]
     },
     "execution_count": 89,
     "metadata": {},
     "output_type": "execute_result"
    }
   ],
   "source": [
    "carros.columns"
   ]
  },
  {
   "cell_type": "markdown",
   "metadata": {},
   "source": [
    "* O método `DataFrame.to_numpy()` fornece uma representação **NumPy** dos dados do `DataFrame`. Observe que esta pode ser uma operação dispendiosa quando o `DataFrame` tiver colunas com diferentes tipos de dados.  \n",
    "\n",
    "**Obs.**: Diferença fundamental entre **Pandas** e **NumPy** - os arranjos **NumPy** têm valores de um único tipo de dados (homogêneos), enquanto as estruturas de dados do **Pandas** pode ter um tipo de dado para cada coluna (heterogêneos). \n",
    "\n",
    "Ao usar `DataFrame-ou-Series.to_numpy()`, o **Pandas** encontra o tipo de dados **NumPy** que pode conter todos os tipos de dados da estrutura de dados (índices não são convertidos), e que pode acabar sendo um objeto, requerendo a conversão de todos os valores para objeto Python.\n",
    "\n",
    "Para o nosso DataFrame `df1`, como todos os valores são do tipo _ponto flutuante_, a chamada `df1.to_numpy()` é rápida e não vai requerer cópia de dados."
   ]
  },
  {
   "cell_type": "code",
   "execution_count": 41,
   "metadata": {
    "scrolled": true
   },
   "outputs": [
    {
     "data": {
      "text/plain": [
       "array([[-0.75057078, -0.57020231, -1.14955658,  0.57068344],\n",
       "       [ 1.14782866,  0.98221817, -1.04225817,  1.21118245],\n",
       "       [-2.02690397,  0.4103218 , -0.13616126,  0.06868833],\n",
       "       [-0.31348621, -0.64322748,  0.19932925,  0.79623061],\n",
       "       [-0.48437242,  0.23563895, -0.05855317,  0.28350732],\n",
       "       [-0.26664122, -2.24093107,  0.06057145, -0.81957294]])"
      ]
     },
     "execution_count": 41,
     "metadata": {},
     "output_type": "execute_result"
    }
   ],
   "source": [
    "df1.to_numpy()"
   ]
  },
  {
   "cell_type": "markdown",
   "metadata": {},
   "source": [
    "Para `df2`, o DataFrame tem vários tipos de dados, assim, uma chamada à `DataFrame.to_numpy()` será relativamente dispendiosa."
   ]
  },
  {
   "cell_type": "code",
   "execution_count": 46,
   "metadata": {},
   "outputs": [
    {
     "data": {
      "text/plain": [
       "array([[1.0, Timestamp('2022-05-19 00:00:00'), 10.0, 3, 'teste',\n",
       "        'qq. coisa'],\n",
       "       [1.0, Timestamp('2022-05-19 00:00:00'), 200.0, 3, 'treino',\n",
       "        'qq. coisa'],\n",
       "       [1.0, Timestamp('2022-05-19 00:00:00'), 3000.0, 3, 'desenv',\n",
       "        'qq. coisa'],\n",
       "       [1.0, Timestamp('2022-05-19 00:00:00'), 40000.0, 3, 'exec',\n",
       "        'qq. coisa']], dtype=object)"
      ]
     },
     "execution_count": 46,
     "metadata": {},
     "output_type": "execute_result"
    }
   ],
   "source": [
    "df2.to_numpy()"
   ]
  },
  {
   "cell_type": "markdown",
   "metadata": {},
   "source": [
    "Esse método, `DataFrame.to_numpy()`, não inclui os índices de linha e de coluna na saída."
   ]
  },
  {
   "cell_type": "markdown",
   "metadata": {},
   "source": [
    "* Transposição dos dados (linhas da tabela se tornam colunas e as colunas se tornam linhas):"
   ]
  },
  {
   "cell_type": "code",
   "execution_count": 40,
   "metadata": {},
   "outputs": [
    {
     "data": {
      "text/html": [
       "<div>\n",
       "<style scoped>\n",
       "    .dataframe tbody tr th:only-of-type {\n",
       "        vertical-align: middle;\n",
       "    }\n",
       "\n",
       "    .dataframe tbody tr th {\n",
       "        vertical-align: top;\n",
       "    }\n",
       "\n",
       "    .dataframe thead th {\n",
       "        text-align: right;\n",
       "    }\n",
       "</style>\n",
       "<table border=\"1\" class=\"dataframe\">\n",
       "  <thead>\n",
       "    <tr style=\"text-align: right;\">\n",
       "      <th></th>\n",
       "      <th>2021-01-01</th>\n",
       "      <th>2021-01-02</th>\n",
       "      <th>2021-01-03</th>\n",
       "      <th>2021-01-04</th>\n",
       "      <th>2021-01-05</th>\n",
       "      <th>2021-01-06</th>\n",
       "      <th>2021-01-07</th>\n",
       "    </tr>\n",
       "  </thead>\n",
       "  <tbody>\n",
       "    <tr>\n",
       "      <th>A</th>\n",
       "      <td>0.073938</td>\n",
       "      <td>-0.304674</td>\n",
       "      <td>0.656176</td>\n",
       "      <td>-0.114384</td>\n",
       "      <td>-0.960309</td>\n",
       "      <td>1.606353</td>\n",
       "      <td>0.133055</td>\n",
       "    </tr>\n",
       "    <tr>\n",
       "      <th>B</th>\n",
       "      <td>0.490166</td>\n",
       "      <td>0.710033</td>\n",
       "      <td>-1.161330</td>\n",
       "      <td>-1.538639</td>\n",
       "      <td>0.776536</td>\n",
       "      <td>0.523092</td>\n",
       "      <td>-0.859184</td>\n",
       "    </tr>\n",
       "    <tr>\n",
       "      <th>C</th>\n",
       "      <td>2.113225</td>\n",
       "      <td>1.610730</td>\n",
       "      <td>1.180122</td>\n",
       "      <td>0.486135</td>\n",
       "      <td>-1.163182</td>\n",
       "      <td>0.496557</td>\n",
       "      <td>1.923470</td>\n",
       "    </tr>\n",
       "    <tr>\n",
       "      <th>D</th>\n",
       "      <td>0.822239</td>\n",
       "      <td>0.133252</td>\n",
       "      <td>2.272202</td>\n",
       "      <td>-1.224443</td>\n",
       "      <td>-0.862176</td>\n",
       "      <td>0.876357</td>\n",
       "      <td>0.027079</td>\n",
       "    </tr>\n",
       "  </tbody>\n",
       "</table>\n",
       "</div>"
      ],
      "text/plain": [
       "   2021-01-01  2021-01-02  2021-01-03  2021-01-04  2021-01-05  2021-01-06  \\\n",
       "A    0.073938   -0.304674    0.656176   -0.114384   -0.960309    1.606353   \n",
       "B    0.490166    0.710033   -1.161330   -1.538639    0.776536    0.523092   \n",
       "C    2.113225    1.610730    1.180122    0.486135   -1.163182    0.496557   \n",
       "D    0.822239    0.133252    2.272202   -1.224443   -0.862176    0.876357   \n",
       "\n",
       "   2021-01-07  \n",
       "A    0.133055  \n",
       "B   -0.859184  \n",
       "C    1.923470  \n",
       "D    0.027079  "
      ]
     },
     "execution_count": 40,
     "metadata": {},
     "output_type": "execute_result"
    }
   ],
   "source": [
    "df1.T"
   ]
  },
  {
   "cell_type": "markdown",
   "metadata": {},
   "source": [
    "* Classificação dos dados a partir de um índice:"
   ]
  },
  {
   "cell_type": "code",
   "execution_count": 95,
   "metadata": {},
   "outputs": [
    {
     "data": {
      "text/html": [
       "<div>\n",
       "<style scoped>\n",
       "    .dataframe tbody tr th:only-of-type {\n",
       "        vertical-align: middle;\n",
       "    }\n",
       "\n",
       "    .dataframe tbody tr th {\n",
       "        vertical-align: top;\n",
       "    }\n",
       "\n",
       "    .dataframe thead th {\n",
       "        text-align: right;\n",
       "    }\n",
       "</style>\n",
       "<table border=\"1\" class=\"dataframe\">\n",
       "  <thead>\n",
       "    <tr style=\"text-align: right;\">\n",
       "      <th></th>\n",
       "      <th>D</th>\n",
       "      <th>C</th>\n",
       "      <th>B</th>\n",
       "      <th>A</th>\n",
       "    </tr>\n",
       "  </thead>\n",
       "  <tbody>\n",
       "    <tr>\n",
       "      <th>2022-05-19</th>\n",
       "      <td>0.744150</td>\n",
       "      <td>-0.986804</td>\n",
       "      <td>1.340197</td>\n",
       "      <td>-0.771333</td>\n",
       "    </tr>\n",
       "    <tr>\n",
       "      <th>2022-05-20</th>\n",
       "      <td>0.792802</td>\n",
       "      <td>-1.125380</td>\n",
       "      <td>1.133589</td>\n",
       "      <td>-1.062793</td>\n",
       "    </tr>\n",
       "    <tr>\n",
       "      <th>2022-05-21</th>\n",
       "      <td>-0.025290</td>\n",
       "      <td>0.624719</td>\n",
       "      <td>0.249337</td>\n",
       "      <td>-0.183818</td>\n",
       "    </tr>\n",
       "    <tr>\n",
       "      <th>2022-05-22</th>\n",
       "      <td>0.522675</td>\n",
       "      <td>-1.118796</td>\n",
       "      <td>0.956873</td>\n",
       "      <td>0.120645</td>\n",
       "    </tr>\n",
       "    <tr>\n",
       "      <th>2022-05-23</th>\n",
       "      <td>-0.722973</td>\n",
       "      <td>0.487587</td>\n",
       "      <td>0.289821</td>\n",
       "      <td>0.133035</td>\n",
       "    </tr>\n",
       "    <tr>\n",
       "      <th>2022-05-24</th>\n",
       "      <td>0.256383</td>\n",
       "      <td>-1.202797</td>\n",
       "      <td>0.721735</td>\n",
       "      <td>-0.733022</td>\n",
       "    </tr>\n",
       "  </tbody>\n",
       "</table>\n",
       "</div>"
      ],
      "text/plain": [
       "                   D         C         B         A\n",
       "2022-05-19  0.744150 -0.986804  1.340197 -0.771333\n",
       "2022-05-20  0.792802 -1.125380  1.133589 -1.062793\n",
       "2022-05-21 -0.025290  0.624719  0.249337 -0.183818\n",
       "2022-05-22  0.522675 -1.118796  0.956873  0.120645\n",
       "2022-05-23 -0.722973  0.487587  0.289821  0.133035\n",
       "2022-05-24  0.256383 -1.202797  0.721735 -0.733022"
      ]
     },
     "execution_count": 95,
     "metadata": {},
     "output_type": "execute_result"
    }
   ],
   "source": [
    "df1.sort_index(axis=1, ascending=False)"
   ]
  },
  {
   "cell_type": "markdown",
   "metadata": {},
   "source": [
    "* Classificação dos dados a partir dos valores:"
   ]
  },
  {
   "cell_type": "code",
   "execution_count": 49,
   "metadata": {},
   "outputs": [
    {
     "data": {
      "text/html": [
       "<div>\n",
       "<style scoped>\n",
       "    .dataframe tbody tr th:only-of-type {\n",
       "        vertical-align: middle;\n",
       "    }\n",
       "\n",
       "    .dataframe tbody tr th {\n",
       "        vertical-align: top;\n",
       "    }\n",
       "\n",
       "    .dataframe thead th {\n",
       "        text-align: right;\n",
       "    }\n",
       "</style>\n",
       "<table border=\"1\" class=\"dataframe\">\n",
       "  <thead>\n",
       "    <tr style=\"text-align: right;\">\n",
       "      <th></th>\n",
       "      <th>A</th>\n",
       "      <th>B</th>\n",
       "      <th>C</th>\n",
       "      <th>D</th>\n",
       "    </tr>\n",
       "  </thead>\n",
       "  <tbody>\n",
       "    <tr>\n",
       "      <th>2021-01-05</th>\n",
       "      <td>-0.960309</td>\n",
       "      <td>0.776536</td>\n",
       "      <td>-1.163182</td>\n",
       "      <td>-0.862176</td>\n",
       "    </tr>\n",
       "    <tr>\n",
       "      <th>2021-01-04</th>\n",
       "      <td>-0.114384</td>\n",
       "      <td>-1.538639</td>\n",
       "      <td>0.486135</td>\n",
       "      <td>-1.224443</td>\n",
       "    </tr>\n",
       "    <tr>\n",
       "      <th>2021-01-06</th>\n",
       "      <td>1.606353</td>\n",
       "      <td>0.523092</td>\n",
       "      <td>0.496557</td>\n",
       "      <td>0.876357</td>\n",
       "    </tr>\n",
       "    <tr>\n",
       "      <th>2021-01-03</th>\n",
       "      <td>0.656176</td>\n",
       "      <td>-1.161330</td>\n",
       "      <td>1.180122</td>\n",
       "      <td>2.272202</td>\n",
       "    </tr>\n",
       "    <tr>\n",
       "      <th>2021-01-02</th>\n",
       "      <td>-0.304674</td>\n",
       "      <td>0.710033</td>\n",
       "      <td>1.610730</td>\n",
       "      <td>0.133252</td>\n",
       "    </tr>\n",
       "    <tr>\n",
       "      <th>2021-01-07</th>\n",
       "      <td>0.133055</td>\n",
       "      <td>-0.859184</td>\n",
       "      <td>1.923470</td>\n",
       "      <td>0.027079</td>\n",
       "    </tr>\n",
       "    <tr>\n",
       "      <th>2021-01-01</th>\n",
       "      <td>0.073938</td>\n",
       "      <td>0.490166</td>\n",
       "      <td>2.113225</td>\n",
       "      <td>0.822239</td>\n",
       "    </tr>\n",
       "  </tbody>\n",
       "</table>\n",
       "</div>"
      ],
      "text/plain": [
       "                   A         B         C         D\n",
       "2021-01-05 -0.960309  0.776536 -1.163182 -0.862176\n",
       "2021-01-04 -0.114384 -1.538639  0.486135 -1.224443\n",
       "2021-01-06  1.606353  0.523092  0.496557  0.876357\n",
       "2021-01-03  0.656176 -1.161330  1.180122  2.272202\n",
       "2021-01-02 -0.304674  0.710033  1.610730  0.133252\n",
       "2021-01-07  0.133055 -0.859184  1.923470  0.027079\n",
       "2021-01-01  0.073938  0.490166  2.113225  0.822239"
      ]
     },
     "execution_count": 49,
     "metadata": {},
     "output_type": "execute_result"
    }
   ],
   "source": [
    "df1.sort_values(by=\"C\")"
   ]
  },
  {
   "cell_type": "markdown",
   "metadata": {},
   "source": [
    "<h3 style=\"color:blue; background-color:#F3F2F9\">2.2.5 Seleção</h3>\n",
    "\n",
    "Embora as expressões padrões do **Python/Numpy** para seleção e atribuição sejam intuitivas e úteis no trabalho interativo, para um código de produção é recomendável o uso dos métodos de acesso de dados otimizados do **Pandas**: `.at, .iat, .loc` e `.iloc` (ver [documentação](https://pandas.pydata.org/docs/user_guide/indexing.html#indexing)).\n",
    "\n",
    "A Seleção de uma única coluna de uma estrutura de dados, produz uma série, equivalente à coluna selecionada, como por exemplo, `df1.A`:"
   ]
  },
  {
   "cell_type": "code",
   "execution_count": 100,
   "metadata": {},
   "outputs": [
    {
     "data": {
      "text/plain": [
       "2022-05-19   -0.771333\n",
       "2022-05-20   -1.062793\n",
       "2022-05-21   -0.183818\n",
       "2022-05-22    0.120645\n",
       "2022-05-23    0.133035\n",
       "2022-05-24   -0.733022\n",
       "Freq: D, Name: A, dtype: float64"
      ]
     },
     "execution_count": 100,
     "metadata": {},
     "output_type": "execute_result"
    }
   ],
   "source": [
    " df1[\"A\"]"
   ]
  },
  {
   "cell_type": "markdown",
   "metadata": {},
   "source": [
    "* A Seleção com colchetes, '[ ]', permite o fatiamento das linhas (*slice*)."
   ]
  },
  {
   "cell_type": "code",
   "execution_count": 97,
   "metadata": {},
   "outputs": [
    {
     "data": {
      "text/html": [
       "<div>\n",
       "<style scoped>\n",
       "    .dataframe tbody tr th:only-of-type {\n",
       "        vertical-align: middle;\n",
       "    }\n",
       "\n",
       "    .dataframe tbody tr th {\n",
       "        vertical-align: top;\n",
       "    }\n",
       "\n",
       "    .dataframe thead th {\n",
       "        text-align: right;\n",
       "    }\n",
       "</style>\n",
       "<table border=\"1\" class=\"dataframe\">\n",
       "  <thead>\n",
       "    <tr style=\"text-align: right;\">\n",
       "      <th></th>\n",
       "      <th>A</th>\n",
       "      <th>B</th>\n",
       "      <th>C</th>\n",
       "      <th>D</th>\n",
       "    </tr>\n",
       "  </thead>\n",
       "  <tbody>\n",
       "    <tr>\n",
       "      <th>2022-05-19</th>\n",
       "      <td>-0.771333</td>\n",
       "      <td>1.340197</td>\n",
       "      <td>-0.986804</td>\n",
       "      <td>0.744150</td>\n",
       "    </tr>\n",
       "    <tr>\n",
       "      <th>2022-05-20</th>\n",
       "      <td>-1.062793</td>\n",
       "      <td>1.133589</td>\n",
       "      <td>-1.125380</td>\n",
       "      <td>0.792802</td>\n",
       "    </tr>\n",
       "    <tr>\n",
       "      <th>2022-05-21</th>\n",
       "      <td>-0.183818</td>\n",
       "      <td>0.249337</td>\n",
       "      <td>0.624719</td>\n",
       "      <td>-0.025290</td>\n",
       "    </tr>\n",
       "  </tbody>\n",
       "</table>\n",
       "</div>"
      ],
      "text/plain": [
       "                   A         B         C         D\n",
       "2022-05-19 -0.771333  1.340197 -0.986804  0.744150\n",
       "2022-05-20 -1.062793  1.133589 -1.125380  0.792802\n",
       "2022-05-21 -0.183818  0.249337  0.624719 -0.025290"
      ]
     },
     "execution_count": 97,
     "metadata": {},
     "output_type": "execute_result"
    }
   ],
   "source": [
    "df1[0:3]     # seleciona as linhas 0, 1 e 2"
   ]
  },
  {
   "cell_type": "code",
   "execution_count": 102,
   "metadata": {},
   "outputs": [
    {
     "data": {
      "text/html": [
       "<div>\n",
       "<style scoped>\n",
       "    .dataframe tbody tr th:only-of-type {\n",
       "        vertical-align: middle;\n",
       "    }\n",
       "\n",
       "    .dataframe tbody tr th {\n",
       "        vertical-align: top;\n",
       "    }\n",
       "\n",
       "    .dataframe thead th {\n",
       "        text-align: right;\n",
       "    }\n",
       "</style>\n",
       "<table border=\"1\" class=\"dataframe\">\n",
       "  <thead>\n",
       "    <tr style=\"text-align: right;\">\n",
       "      <th></th>\n",
       "      <th>A</th>\n",
       "      <th>B</th>\n",
       "      <th>C</th>\n",
       "      <th>D</th>\n",
       "    </tr>\n",
       "  </thead>\n",
       "  <tbody>\n",
       "    <tr>\n",
       "      <th>2022-05-22</th>\n",
       "      <td>0.120645</td>\n",
       "      <td>0.956873</td>\n",
       "      <td>-1.118796</td>\n",
       "      <td>0.522675</td>\n",
       "    </tr>\n",
       "    <tr>\n",
       "      <th>2022-05-23</th>\n",
       "      <td>0.133035</td>\n",
       "      <td>0.289821</td>\n",
       "      <td>0.487587</td>\n",
       "      <td>-0.722973</td>\n",
       "    </tr>\n",
       "    <tr>\n",
       "      <th>2022-05-24</th>\n",
       "      <td>-0.733022</td>\n",
       "      <td>0.721735</td>\n",
       "      <td>-1.202797</td>\n",
       "      <td>0.256383</td>\n",
       "    </tr>\n",
       "  </tbody>\n",
       "</table>\n",
       "</div>"
      ],
      "text/plain": [
       "                   A         B         C         D\n",
       "2022-05-22  0.120645  0.956873 -1.118796  0.522675\n",
       "2022-05-23  0.133035  0.289821  0.487587 -0.722973\n",
       "2022-05-24 -0.733022  0.721735 -1.202797  0.256383"
      ]
     },
     "execution_count": 102,
     "metadata": {},
     "output_type": "execute_result"
    }
   ],
   "source": [
    "df1[\"20220522\":\"20220524\"]     # seleciona as linhas com as datas \"20210104\", \"20210105\" e \"20210106\""
   ]
  },
  {
   "cell_type": "markdown",
   "metadata": {},
   "source": [
    "* Para obter uma seção transversal (grupo de linhas e colunas) use a propriedade `DataFrame.loc` e rótulo(s) ou uma matriz booleana.\n",
    "\n",
    "    As entradas permitidas são:\n",
    "\n",
    "    * Um único rótulo, por exemplo 5 ou 'a' (observe que 5 é interpretado como rótulo do índice e nunca como posição inteira ao longo do índice).\n",
    "    * Uma lista ou matriz de rótulos, por exemplo ['a', 'b', 'c'].\n",
    "    * Um objeto de fatia com rótulos, por exemplo, 'a': 'f' (tanto o início quanto o final estão incluídos, diferentemente das fatias em Python).\n",
    "    * Uma matriz booleana do mesmo comprimento do eixo fatiado, por ex. [`True, False, True`].\n",
    "    * Uma série booleana alinhada. O índice da chave será alinhado antes do mascaramento.\n",
    "    * Um índice alinhado. O índice da seleção retornada será a entrada.\n",
    "    * Uma função chamável (`callable`) com um argumento (a Série ou o <i>DataFrame</i>) e que retorna uma saída válida para indexação (uma das opções acima).\n",
    "    \n",
    "    `df.loc[<linhas>, <colunas>]`"
   ]
  },
  {
   "cell_type": "code",
   "execution_count": 107,
   "metadata": {},
   "outputs": [
    {
     "data": {
      "text/plain": [
       "A    0.120645\n",
       "B    0.956873\n",
       "C   -1.118796\n",
       "D    0.522675\n",
       "Name: 2022-05-22 00:00:00, dtype: float64"
      ]
     },
     "execution_count": 107,
     "metadata": {},
     "output_type": "execute_result"
    }
   ],
   "source": [
    "df1.loc[\"20220522\"]"
   ]
  },
  {
   "cell_type": "markdown",
   "metadata": {},
   "source": [
    "* Selecionando multi-eixos por rótulos:"
   ]
  },
  {
   "cell_type": "code",
   "execution_count": 110,
   "metadata": {},
   "outputs": [
    {
     "data": {
      "text/html": [
       "<div>\n",
       "<style scoped>\n",
       "    .dataframe tbody tr th:only-of-type {\n",
       "        vertical-align: middle;\n",
       "    }\n",
       "\n",
       "    .dataframe tbody tr th {\n",
       "        vertical-align: top;\n",
       "    }\n",
       "\n",
       "    .dataframe thead th {\n",
       "        text-align: right;\n",
       "    }\n",
       "</style>\n",
       "<table border=\"1\" class=\"dataframe\">\n",
       "  <thead>\n",
       "    <tr style=\"text-align: right;\">\n",
       "      <th></th>\n",
       "      <th>A</th>\n",
       "      <th>C</th>\n",
       "    </tr>\n",
       "  </thead>\n",
       "  <tbody>\n",
       "    <tr>\n",
       "      <th>2022-05-19</th>\n",
       "      <td>-0.771333</td>\n",
       "      <td>-0.986804</td>\n",
       "    </tr>\n",
       "    <tr>\n",
       "      <th>2022-05-20</th>\n",
       "      <td>-1.062793</td>\n",
       "      <td>-1.125380</td>\n",
       "    </tr>\n",
       "    <tr>\n",
       "      <th>2022-05-21</th>\n",
       "      <td>-0.183818</td>\n",
       "      <td>0.624719</td>\n",
       "    </tr>\n",
       "    <tr>\n",
       "      <th>2022-05-22</th>\n",
       "      <td>0.120645</td>\n",
       "      <td>-1.118796</td>\n",
       "    </tr>\n",
       "    <tr>\n",
       "      <th>2022-05-23</th>\n",
       "      <td>0.133035</td>\n",
       "      <td>0.487587</td>\n",
       "    </tr>\n",
       "  </tbody>\n",
       "</table>\n",
       "</div>"
      ],
      "text/plain": [
       "                   A         C\n",
       "2022-05-19 -0.771333 -0.986804\n",
       "2022-05-20 -1.062793 -1.125380\n",
       "2022-05-21 -0.183818  0.624719\n",
       "2022-05-22  0.120645 -1.118796\n",
       "2022-05-23  0.133035  0.487587"
      ]
     },
     "execution_count": 110,
     "metadata": {},
     "output_type": "execute_result"
    }
   ],
   "source": [
    "df1.loc[:\"20220523\",(\"A\",\"C\")]"
   ]
  },
  {
   "cell_type": "markdown",
   "metadata": {},
   "source": [
    "* Acessando o valor de uma célula da tabela usando as propriedades `dataframe.loc[]` ou `dataframe.at[]`:"
   ]
  },
  {
   "cell_type": "code",
   "execution_count": 112,
   "metadata": {},
   "outputs": [
    {
     "data": {
      "text/plain": [
       "0.48758744199140436"
      ]
     },
     "execution_count": 112,
     "metadata": {},
     "output_type": "execute_result"
    }
   ],
   "source": [
    "# Método 1\n",
    "df1.loc[\"20220523\",\"C\"]"
   ]
  },
  {
   "cell_type": "code",
   "execution_count": 113,
   "metadata": {},
   "outputs": [
    {
     "data": {
      "text/plain": [
       "0.48758744199140436"
      ]
     },
     "execution_count": 113,
     "metadata": {},
     "output_type": "execute_result"
    }
   ],
   "source": [
    "# Método 2\n",
    "df1.at[\"20220523\",\"C\"]"
   ]
  },
  {
   "cell_type": "markdown",
   "metadata": {},
   "source": [
    "<h3 style=\"color:blue; background-color:#F3F2F9\">2.2.6 Seleção por Posição</h3>"
   ]
  },
  {
   "cell_type": "markdown",
   "metadata": {},
   "source": [
    "* O indexador `iloc` é de uso mais simples que o `loc`, pois podemos selecionar por números inteiros das linhas, por *arrays* ou por fatiamento. A propriedade `iloc[]` tem a sintaxe semelhante à da propriedade `loc[]`:  \n",
    "\n",
    "    `df.iloc[<linhas>, <colunas>]`"
   ]
  },
  {
   "cell_type": "code",
   "execution_count": 120,
   "metadata": {},
   "outputs": [
    {
     "data": {
      "text/html": [
       "<div>\n",
       "<style scoped>\n",
       "    .dataframe tbody tr th:only-of-type {\n",
       "        vertical-align: middle;\n",
       "    }\n",
       "\n",
       "    .dataframe tbody tr th {\n",
       "        vertical-align: top;\n",
       "    }\n",
       "\n",
       "    .dataframe thead th {\n",
       "        text-align: right;\n",
       "    }\n",
       "</style>\n",
       "<table border=\"1\" class=\"dataframe\">\n",
       "  <thead>\n",
       "    <tr style=\"text-align: right;\">\n",
       "      <th></th>\n",
       "      <th>A</th>\n",
       "      <th>B</th>\n",
       "      <th>C</th>\n",
       "      <th>D</th>\n",
       "    </tr>\n",
       "  </thead>\n",
       "  <tbody>\n",
       "    <tr>\n",
       "      <th>2022-05-19</th>\n",
       "      <td>-0.771333</td>\n",
       "      <td>1.340197</td>\n",
       "      <td>-0.986804</td>\n",
       "      <td>0.744150</td>\n",
       "    </tr>\n",
       "    <tr>\n",
       "      <th>2022-05-20</th>\n",
       "      <td>-1.062793</td>\n",
       "      <td>1.133589</td>\n",
       "      <td>-1.125380</td>\n",
       "      <td>0.792802</td>\n",
       "    </tr>\n",
       "    <tr>\n",
       "      <th>2022-05-21</th>\n",
       "      <td>-0.183818</td>\n",
       "      <td>0.249337</td>\n",
       "      <td>0.624719</td>\n",
       "      <td>-0.025290</td>\n",
       "    </tr>\n",
       "    <tr>\n",
       "      <th>2022-05-22</th>\n",
       "      <td>0.120645</td>\n",
       "      <td>0.956873</td>\n",
       "      <td>-1.118796</td>\n",
       "      <td>0.522675</td>\n",
       "    </tr>\n",
       "    <tr>\n",
       "      <th>2022-05-23</th>\n",
       "      <td>0.133035</td>\n",
       "      <td>0.289821</td>\n",
       "      <td>0.487587</td>\n",
       "      <td>-0.722973</td>\n",
       "    </tr>\n",
       "    <tr>\n",
       "      <th>2022-05-24</th>\n",
       "      <td>-0.733022</td>\n",
       "      <td>0.721735</td>\n",
       "      <td>-1.202797</td>\n",
       "      <td>0.256383</td>\n",
       "    </tr>\n",
       "  </tbody>\n",
       "</table>\n",
       "</div>"
      ],
      "text/plain": [
       "                   A         B         C         D\n",
       "2022-05-19 -0.771333  1.340197 -0.986804  0.744150\n",
       "2022-05-20 -1.062793  1.133589 -1.125380  0.792802\n",
       "2022-05-21 -0.183818  0.249337  0.624719 -0.025290\n",
       "2022-05-22  0.120645  0.956873 -1.118796  0.522675\n",
       "2022-05-23  0.133035  0.289821  0.487587 -0.722973\n",
       "2022-05-24 -0.733022  0.721735 -1.202797  0.256383"
      ]
     },
     "execution_count": 120,
     "metadata": {},
     "output_type": "execute_result"
    }
   ],
   "source": [
    "df1"
   ]
  },
  {
   "cell_type": "code",
   "execution_count": 115,
   "metadata": {},
   "outputs": [
    {
     "data": {
      "text/plain": [
       "A   -0.771333\n",
       "B    1.340197\n",
       "C   -0.986804\n",
       "D    0.744150\n",
       "Name: 2022-05-19 00:00:00, dtype: float64"
      ]
     },
     "execution_count": 115,
     "metadata": {},
     "output_type": "execute_result"
    }
   ],
   "source": [
    "df1.iloc[0]                       # Selecionado a primeira linha do dataset"
   ]
  },
  {
   "cell_type": "code",
   "execution_count": 116,
   "metadata": {},
   "outputs": [
    {
     "data": {
      "text/plain": [
       "A   -0.733022\n",
       "B    0.721735\n",
       "C   -1.202797\n",
       "D    0.256383\n",
       "Name: 2022-05-24 00:00:00, dtype: float64"
      ]
     },
     "execution_count": 116,
     "metadata": {},
     "output_type": "execute_result"
    }
   ],
   "source": [
    "df1.iloc[-1]                      # Selecionando a última linha"
   ]
  },
  {
   "cell_type": "code",
   "execution_count": 117,
   "metadata": {},
   "outputs": [
    {
     "data": {
      "text/plain": [
       "2022-05-19   -0.771333\n",
       "2022-05-20   -1.062793\n",
       "2022-05-21   -0.183818\n",
       "2022-05-22    0.120645\n",
       "2022-05-23    0.133035\n",
       "2022-05-24   -0.733022\n",
       "Freq: D, Name: A, dtype: float64"
      ]
     },
     "execution_count": 117,
     "metadata": {},
     "output_type": "execute_result"
    }
   ],
   "source": [
    "df1.iloc[:,0]                     # Todos os dados da primeira coluna do dataset"
   ]
  },
  {
   "cell_type": "code",
   "execution_count": 118,
   "metadata": {},
   "outputs": [
    {
     "data": {
      "text/plain": [
       "2022-05-19    0.744150\n",
       "2022-05-20    0.792802\n",
       "2022-05-21   -0.025290\n",
       "Freq: D, Name: D, dtype: float64"
      ]
     },
     "execution_count": 118,
     "metadata": {},
     "output_type": "execute_result"
    }
   ],
   "source": [
    "df1.iloc[0:3,-1]                  # Do primeiro ao terceiro dado da última coluna"
   ]
  },
  {
   "cell_type": "code",
   "execution_count": 119,
   "metadata": {},
   "outputs": [
    {
     "data": {
      "text/html": [
       "<div>\n",
       "<style scoped>\n",
       "    .dataframe tbody tr th:only-of-type {\n",
       "        vertical-align: middle;\n",
       "    }\n",
       "\n",
       "    .dataframe tbody tr th {\n",
       "        vertical-align: top;\n",
       "    }\n",
       "\n",
       "    .dataframe thead th {\n",
       "        text-align: right;\n",
       "    }\n",
       "</style>\n",
       "<table border=\"1\" class=\"dataframe\">\n",
       "  <thead>\n",
       "    <tr style=\"text-align: right;\">\n",
       "      <th></th>\n",
       "      <th>A</th>\n",
       "      <th>C</th>\n",
       "    </tr>\n",
       "  </thead>\n",
       "  <tbody>\n",
       "    <tr>\n",
       "      <th>2022-05-20</th>\n",
       "      <td>-1.062793</td>\n",
       "      <td>-1.125380</td>\n",
       "    </tr>\n",
       "    <tr>\n",
       "      <th>2022-05-21</th>\n",
       "      <td>-0.183818</td>\n",
       "      <td>0.624719</td>\n",
       "    </tr>\n",
       "    <tr>\n",
       "      <th>2022-05-23</th>\n",
       "      <td>0.133035</td>\n",
       "      <td>0.487587</td>\n",
       "    </tr>\n",
       "  </tbody>\n",
       "</table>\n",
       "</div>"
      ],
      "text/plain": [
       "                   A         C\n",
       "2022-05-20 -1.062793 -1.125380\n",
       "2022-05-21 -0.183818  0.624719\n",
       "2022-05-23  0.133035  0.487587"
      ]
     },
     "execution_count": 119,
     "metadata": {},
     "output_type": "execute_result"
    }
   ],
   "source": [
    "df1.iloc[[1, 2, 4], [0, 2]]       # segunda, terceira e quarta linhas; primeira e terceira colunas"
   ]
  },
  {
   "cell_type": "markdown",
   "metadata": {},
   "source": [
    "Obs.: Ao solicitar à propriedade `iloc` apenas uma linha, eae retornará um objeto `Series`, e no caso de múltiplas linhas então ela retornará um `DataFrame`."
   ]
  },
  {
   "cell_type": "markdown",
   "metadata": {},
   "source": [
    "* Acessando rapidamente um escalar:"
   ]
  },
  {
   "cell_type": "code",
   "execution_count": 121,
   "metadata": {},
   "outputs": [
    {
     "data": {
      "text/plain": [
       "1.1335892218975712"
      ]
     },
     "execution_count": 121,
     "metadata": {},
     "output_type": "execute_result"
    }
   ],
   "source": [
    "df1.iat[1,1]                       # valor da célula na (segunda linha; segunda coluna)"
   ]
  },
  {
   "cell_type": "code",
   "execution_count": 70,
   "metadata": {
    "scrolled": true
   },
   "outputs": [
    {
     "name": "stdout",
     "output_type": "stream",
     "text": [
      "<class 'pandas.core.series.Series'> <class 'pandas.core.frame.DataFrame'>\n"
     ]
    }
   ],
   "source": [
    "print(type(df1.iloc[-1]), type(df1.iloc[0:3,2:4]))"
   ]
  },
  {
   "cell_type": "markdown",
   "metadata": {},
   "source": [
    "**Resumo**: A utilização de ambas propriedades é útil, porem `loc[]` se mostra mais versátil, pois podemos selecionar colunas por seus rótulos, o que torna o trabalho mais fácil. Já a propriedade `iloc[]` depende dos números dos índices, o que torna mais rara sua utilização."
   ]
  },
  {
   "cell_type": "markdown",
   "metadata": {},
   "source": [
    "<h3 style=\"color:blue; background-color:#F3F2F9\">2.2.7 Indexação Booleana</h3>\n",
    "\n",
    "Usando os valores de uma única coluna para selecionar dados."
   ]
  },
  {
   "cell_type": "code",
   "execution_count": 122,
   "metadata": {},
   "outputs": [
    {
     "data": {
      "text/html": [
       "<div>\n",
       "<style scoped>\n",
       "    .dataframe tbody tr th:only-of-type {\n",
       "        vertical-align: middle;\n",
       "    }\n",
       "\n",
       "    .dataframe tbody tr th {\n",
       "        vertical-align: top;\n",
       "    }\n",
       "\n",
       "    .dataframe thead th {\n",
       "        text-align: right;\n",
       "    }\n",
       "</style>\n",
       "<table border=\"1\" class=\"dataframe\">\n",
       "  <thead>\n",
       "    <tr style=\"text-align: right;\">\n",
       "      <th></th>\n",
       "      <th>A</th>\n",
       "      <th>B</th>\n",
       "      <th>C</th>\n",
       "      <th>D</th>\n",
       "    </tr>\n",
       "  </thead>\n",
       "  <tbody>\n",
       "    <tr>\n",
       "      <th>2022-05-19</th>\n",
       "      <td>-0.771333</td>\n",
       "      <td>1.340197</td>\n",
       "      <td>-0.986804</td>\n",
       "      <td>0.744150</td>\n",
       "    </tr>\n",
       "    <tr>\n",
       "      <th>2022-05-20</th>\n",
       "      <td>-1.062793</td>\n",
       "      <td>1.133589</td>\n",
       "      <td>-1.125380</td>\n",
       "      <td>0.792802</td>\n",
       "    </tr>\n",
       "    <tr>\n",
       "      <th>2022-05-21</th>\n",
       "      <td>-0.183818</td>\n",
       "      <td>0.249337</td>\n",
       "      <td>0.624719</td>\n",
       "      <td>-0.025290</td>\n",
       "    </tr>\n",
       "    <tr>\n",
       "      <th>2022-05-22</th>\n",
       "      <td>0.120645</td>\n",
       "      <td>0.956873</td>\n",
       "      <td>-1.118796</td>\n",
       "      <td>0.522675</td>\n",
       "    </tr>\n",
       "    <tr>\n",
       "      <th>2022-05-23</th>\n",
       "      <td>0.133035</td>\n",
       "      <td>0.289821</td>\n",
       "      <td>0.487587</td>\n",
       "      <td>-0.722973</td>\n",
       "    </tr>\n",
       "    <tr>\n",
       "      <th>2022-05-24</th>\n",
       "      <td>-0.733022</td>\n",
       "      <td>0.721735</td>\n",
       "      <td>-1.202797</td>\n",
       "      <td>0.256383</td>\n",
       "    </tr>\n",
       "  </tbody>\n",
       "</table>\n",
       "</div>"
      ],
      "text/plain": [
       "                   A         B         C         D\n",
       "2022-05-19 -0.771333  1.340197 -0.986804  0.744150\n",
       "2022-05-20 -1.062793  1.133589 -1.125380  0.792802\n",
       "2022-05-21 -0.183818  0.249337  0.624719 -0.025290\n",
       "2022-05-22  0.120645  0.956873 -1.118796  0.522675\n",
       "2022-05-23  0.133035  0.289821  0.487587 -0.722973\n",
       "2022-05-24 -0.733022  0.721735 -1.202797  0.256383"
      ]
     },
     "execution_count": 122,
     "metadata": {},
     "output_type": "execute_result"
    }
   ],
   "source": [
    "df1"
   ]
  },
  {
   "cell_type": "code",
   "execution_count": 123,
   "metadata": {},
   "outputs": [
    {
     "data": {
      "text/html": [
       "<div>\n",
       "<style scoped>\n",
       "    .dataframe tbody tr th:only-of-type {\n",
       "        vertical-align: middle;\n",
       "    }\n",
       "\n",
       "    .dataframe tbody tr th {\n",
       "        vertical-align: top;\n",
       "    }\n",
       "\n",
       "    .dataframe thead th {\n",
       "        text-align: right;\n",
       "    }\n",
       "</style>\n",
       "<table border=\"1\" class=\"dataframe\">\n",
       "  <thead>\n",
       "    <tr style=\"text-align: right;\">\n",
       "      <th></th>\n",
       "      <th>A</th>\n",
       "      <th>B</th>\n",
       "      <th>C</th>\n",
       "      <th>D</th>\n",
       "    </tr>\n",
       "  </thead>\n",
       "  <tbody>\n",
       "    <tr>\n",
       "      <th>2022-05-22</th>\n",
       "      <td>0.120645</td>\n",
       "      <td>0.956873</td>\n",
       "      <td>-1.118796</td>\n",
       "      <td>0.522675</td>\n",
       "    </tr>\n",
       "    <tr>\n",
       "      <th>2022-05-23</th>\n",
       "      <td>0.133035</td>\n",
       "      <td>0.289821</td>\n",
       "      <td>0.487587</td>\n",
       "      <td>-0.722973</td>\n",
       "    </tr>\n",
       "  </tbody>\n",
       "</table>\n",
       "</div>"
      ],
      "text/plain": [
       "                   A         B         C         D\n",
       "2022-05-22  0.120645  0.956873 -1.118796  0.522675\n",
       "2022-05-23  0.133035  0.289821  0.487587 -0.722973"
      ]
     },
     "execution_count": 123,
     "metadata": {},
     "output_type": "execute_result"
    }
   ],
   "source": [
    "df1[df1[\"A\"] > 0]                 # somente linhas com valores positivos na coluna 'A'"
   ]
  },
  {
   "cell_type": "markdown",
   "metadata": {},
   "source": [
    "* Usando o método `isin()` ('*is in*', trad. do inglês: 'está dentro') para filtrar valores:"
   ]
  },
  {
   "cell_type": "code",
   "execution_count": 125,
   "metadata": {},
   "outputs": [
    {
     "data": {
      "text/html": [
       "<div>\n",
       "<style scoped>\n",
       "    .dataframe tbody tr th:only-of-type {\n",
       "        vertical-align: middle;\n",
       "    }\n",
       "\n",
       "    .dataframe tbody tr th {\n",
       "        vertical-align: top;\n",
       "    }\n",
       "\n",
       "    .dataframe thead th {\n",
       "        text-align: right;\n",
       "    }\n",
       "</style>\n",
       "<table border=\"1\" class=\"dataframe\">\n",
       "  <thead>\n",
       "    <tr style=\"text-align: right;\">\n",
       "      <th></th>\n",
       "      <th>A</th>\n",
       "      <th>B</th>\n",
       "      <th>C</th>\n",
       "      <th>D</th>\n",
       "      <th>E</th>\n",
       "    </tr>\n",
       "  </thead>\n",
       "  <tbody>\n",
       "    <tr>\n",
       "      <th>2022-05-19</th>\n",
       "      <td>-0.771333</td>\n",
       "      <td>1.340197</td>\n",
       "      <td>-0.986804</td>\n",
       "      <td>0.744150</td>\n",
       "      <td>um</td>\n",
       "    </tr>\n",
       "    <tr>\n",
       "      <th>2022-05-20</th>\n",
       "      <td>-1.062793</td>\n",
       "      <td>1.133589</td>\n",
       "      <td>-1.125380</td>\n",
       "      <td>0.792802</td>\n",
       "      <td>um</td>\n",
       "    </tr>\n",
       "    <tr>\n",
       "      <th>2022-05-21</th>\n",
       "      <td>-0.183818</td>\n",
       "      <td>0.249337</td>\n",
       "      <td>0.624719</td>\n",
       "      <td>-0.025290</td>\n",
       "      <td>dois</td>\n",
       "    </tr>\n",
       "    <tr>\n",
       "      <th>2022-05-22</th>\n",
       "      <td>0.120645</td>\n",
       "      <td>0.956873</td>\n",
       "      <td>-1.118796</td>\n",
       "      <td>0.522675</td>\n",
       "      <td>três</td>\n",
       "    </tr>\n",
       "    <tr>\n",
       "      <th>2022-05-23</th>\n",
       "      <td>0.133035</td>\n",
       "      <td>0.289821</td>\n",
       "      <td>0.487587</td>\n",
       "      <td>-0.722973</td>\n",
       "      <td>quatro</td>\n",
       "    </tr>\n",
       "    <tr>\n",
       "      <th>2022-05-24</th>\n",
       "      <td>-0.733022</td>\n",
       "      <td>0.721735</td>\n",
       "      <td>-1.202797</td>\n",
       "      <td>0.256383</td>\n",
       "      <td>três</td>\n",
       "    </tr>\n",
       "  </tbody>\n",
       "</table>\n",
       "</div>"
      ],
      "text/plain": [
       "                   A         B         C         D       E\n",
       "2022-05-19 -0.771333  1.340197 -0.986804  0.744150      um\n",
       "2022-05-20 -1.062793  1.133589 -1.125380  0.792802      um\n",
       "2022-05-21 -0.183818  0.249337  0.624719 -0.025290    dois\n",
       "2022-05-22  0.120645  0.956873 -1.118796  0.522675    três\n",
       "2022-05-23  0.133035  0.289821  0.487587 -0.722973  quatro\n",
       "2022-05-24 -0.733022  0.721735 -1.202797  0.256383    três"
      ]
     },
     "execution_count": 125,
     "metadata": {},
     "output_type": "execute_result"
    }
   ],
   "source": [
    "df3 = df1.copy()                  # cópia profunda do dataframe\n",
    "df3[\"E\"] = [\"um\", \"um\", \"dois\", \"três\", \"quatro\", \"três\"]   # acrescentando a coluna 'E' ao dataframe\n",
    "df3"
   ]
  },
  {
   "cell_type": "code",
   "execution_count": 126,
   "metadata": {},
   "outputs": [
    {
     "data": {
      "text/html": [
       "<div>\n",
       "<style scoped>\n",
       "    .dataframe tbody tr th:only-of-type {\n",
       "        vertical-align: middle;\n",
       "    }\n",
       "\n",
       "    .dataframe tbody tr th {\n",
       "        vertical-align: top;\n",
       "    }\n",
       "\n",
       "    .dataframe thead th {\n",
       "        text-align: right;\n",
       "    }\n",
       "</style>\n",
       "<table border=\"1\" class=\"dataframe\">\n",
       "  <thead>\n",
       "    <tr style=\"text-align: right;\">\n",
       "      <th></th>\n",
       "      <th>A</th>\n",
       "      <th>B</th>\n",
       "      <th>C</th>\n",
       "      <th>D</th>\n",
       "      <th>E</th>\n",
       "    </tr>\n",
       "  </thead>\n",
       "  <tbody>\n",
       "    <tr>\n",
       "      <th>2022-05-19</th>\n",
       "      <td>-0.771333</td>\n",
       "      <td>1.340197</td>\n",
       "      <td>-0.986804</td>\n",
       "      <td>0.744150</td>\n",
       "      <td>um</td>\n",
       "    </tr>\n",
       "    <tr>\n",
       "      <th>2022-05-20</th>\n",
       "      <td>-1.062793</td>\n",
       "      <td>1.133589</td>\n",
       "      <td>-1.125380</td>\n",
       "      <td>0.792802</td>\n",
       "      <td>um</td>\n",
       "    </tr>\n",
       "    <tr>\n",
       "      <th>2022-05-21</th>\n",
       "      <td>-0.183818</td>\n",
       "      <td>0.249337</td>\n",
       "      <td>0.624719</td>\n",
       "      <td>-0.025290</td>\n",
       "      <td>dois</td>\n",
       "    </tr>\n",
       "    <tr>\n",
       "      <th>2022-05-23</th>\n",
       "      <td>0.133035</td>\n",
       "      <td>0.289821</td>\n",
       "      <td>0.487587</td>\n",
       "      <td>-0.722973</td>\n",
       "      <td>quatro</td>\n",
       "    </tr>\n",
       "  </tbody>\n",
       "</table>\n",
       "</div>"
      ],
      "text/plain": [
       "                   A         B         C         D       E\n",
       "2022-05-19 -0.771333  1.340197 -0.986804  0.744150      um\n",
       "2022-05-20 -1.062793  1.133589 -1.125380  0.792802      um\n",
       "2022-05-21 -0.183818  0.249337  0.624719 -0.025290    dois\n",
       "2022-05-23  0.133035  0.289821  0.487587 -0.722973  quatro"
      ]
     },
     "execution_count": 126,
     "metadata": {},
     "output_type": "execute_result"
    }
   ],
   "source": [
    "df3[df3[\"E\"].isin([\"um\",\"dois\", \"quatro\"])]    # seleciona somente as linhas com valores \"dois\" ou \"quatro\" na coluna 'E'"
   ]
  },
  {
   "cell_type": "markdown",
   "metadata": {},
   "source": [
    "<h3 style=\"color:blue; background-color:#F3F2F9\">2.2.8 Definindo Valores</h3>  \n",
    "\n",
    "Ao definir uma nova coluna na estrutura de dados, o **Pandas** faz o alinhamento automático dos dados ao índice."
   ]
  },
  {
   "cell_type": "code",
   "execution_count": 127,
   "metadata": {},
   "outputs": [
    {
     "data": {
      "text/plain": [
       "2022-05-19    10\n",
       "2022-05-20    20\n",
       "2022-05-21   -30\n",
       "2022-05-22    40\n",
       "2022-05-23    50\n",
       "2022-05-24    60\n",
       "2022-05-25    70\n",
       "Freq: D, dtype: int64"
      ]
     },
     "execution_count": 127,
     "metadata": {},
     "output_type": "execute_result"
    }
   ],
   "source": [
    "serie1 = pd.Series([10, 20, -30, 40, 50, 60, 70], index=pd.date_range(\"20220519\", periods=7))\n",
    "serie1"
   ]
  },
  {
   "cell_type": "code",
   "execution_count": 128,
   "metadata": {},
   "outputs": [
    {
     "data": {
      "text/html": [
       "<div>\n",
       "<style scoped>\n",
       "    .dataframe tbody tr th:only-of-type {\n",
       "        vertical-align: middle;\n",
       "    }\n",
       "\n",
       "    .dataframe tbody tr th {\n",
       "        vertical-align: top;\n",
       "    }\n",
       "\n",
       "    .dataframe thead th {\n",
       "        text-align: right;\n",
       "    }\n",
       "</style>\n",
       "<table border=\"1\" class=\"dataframe\">\n",
       "  <thead>\n",
       "    <tr style=\"text-align: right;\">\n",
       "      <th></th>\n",
       "      <th>A</th>\n",
       "      <th>B</th>\n",
       "      <th>C</th>\n",
       "      <th>D</th>\n",
       "      <th>E</th>\n",
       "      <th>F</th>\n",
       "    </tr>\n",
       "  </thead>\n",
       "  <tbody>\n",
       "    <tr>\n",
       "      <th>2022-05-19</th>\n",
       "      <td>-0.771333</td>\n",
       "      <td>1.340197</td>\n",
       "      <td>-0.986804</td>\n",
       "      <td>0.744150</td>\n",
       "      <td>um</td>\n",
       "      <td>10</td>\n",
       "    </tr>\n",
       "    <tr>\n",
       "      <th>2022-05-20</th>\n",
       "      <td>-1.062793</td>\n",
       "      <td>1.133589</td>\n",
       "      <td>-1.125380</td>\n",
       "      <td>0.792802</td>\n",
       "      <td>um</td>\n",
       "      <td>20</td>\n",
       "    </tr>\n",
       "    <tr>\n",
       "      <th>2022-05-21</th>\n",
       "      <td>-0.183818</td>\n",
       "      <td>0.249337</td>\n",
       "      <td>0.624719</td>\n",
       "      <td>-0.025290</td>\n",
       "      <td>dois</td>\n",
       "      <td>-30</td>\n",
       "    </tr>\n",
       "    <tr>\n",
       "      <th>2022-05-22</th>\n",
       "      <td>0.120645</td>\n",
       "      <td>0.956873</td>\n",
       "      <td>-1.118796</td>\n",
       "      <td>0.522675</td>\n",
       "      <td>três</td>\n",
       "      <td>40</td>\n",
       "    </tr>\n",
       "    <tr>\n",
       "      <th>2022-05-23</th>\n",
       "      <td>0.133035</td>\n",
       "      <td>0.289821</td>\n",
       "      <td>0.487587</td>\n",
       "      <td>-0.722973</td>\n",
       "      <td>quatro</td>\n",
       "      <td>50</td>\n",
       "    </tr>\n",
       "    <tr>\n",
       "      <th>2022-05-24</th>\n",
       "      <td>-0.733022</td>\n",
       "      <td>0.721735</td>\n",
       "      <td>-1.202797</td>\n",
       "      <td>0.256383</td>\n",
       "      <td>três</td>\n",
       "      <td>60</td>\n",
       "    </tr>\n",
       "  </tbody>\n",
       "</table>\n",
       "</div>"
      ],
      "text/plain": [
       "                   A         B         C         D       E   F\n",
       "2022-05-19 -0.771333  1.340197 -0.986804  0.744150      um  10\n",
       "2022-05-20 -1.062793  1.133589 -1.125380  0.792802      um  20\n",
       "2022-05-21 -0.183818  0.249337  0.624719 -0.025290    dois -30\n",
       "2022-05-22  0.120645  0.956873 -1.118796  0.522675    três  40\n",
       "2022-05-23  0.133035  0.289821  0.487587 -0.722973  quatro  50\n",
       "2022-05-24 -0.733022  0.721735 -1.202797  0.256383    três  60"
      ]
     },
     "execution_count": 128,
     "metadata": {},
     "output_type": "execute_result"
    }
   ],
   "source": [
    "df3[\"F\"] = serie1\n",
    "df3"
   ]
  },
  {
   "cell_type": "markdown",
   "metadata": {},
   "source": [
    "* Definindo valores em uma coluna identificada por rótulo(s):"
   ]
  },
  {
   "cell_type": "code",
   "execution_count": 130,
   "metadata": {},
   "outputs": [
    {
     "data": {
      "text/html": [
       "<div>\n",
       "<style scoped>\n",
       "    .dataframe tbody tr th:only-of-type {\n",
       "        vertical-align: middle;\n",
       "    }\n",
       "\n",
       "    .dataframe tbody tr th {\n",
       "        vertical-align: top;\n",
       "    }\n",
       "\n",
       "    .dataframe thead th {\n",
       "        text-align: right;\n",
       "    }\n",
       "</style>\n",
       "<table border=\"1\" class=\"dataframe\">\n",
       "  <thead>\n",
       "    <tr style=\"text-align: right;\">\n",
       "      <th></th>\n",
       "      <th>A</th>\n",
       "      <th>B</th>\n",
       "      <th>C</th>\n",
       "      <th>D</th>\n",
       "      <th>E</th>\n",
       "      <th>F</th>\n",
       "    </tr>\n",
       "  </thead>\n",
       "  <tbody>\n",
       "    <tr>\n",
       "      <th>2022-05-19</th>\n",
       "      <td>-0.771333</td>\n",
       "      <td>1.340197</td>\n",
       "      <td>-0.986804</td>\n",
       "      <td>0.744150</td>\n",
       "      <td>um</td>\n",
       "      <td>10</td>\n",
       "    </tr>\n",
       "    <tr>\n",
       "      <th>2022-05-20</th>\n",
       "      <td>-1.062793</td>\n",
       "      <td>1.133589</td>\n",
       "      <td>-1.125380</td>\n",
       "      <td>0.792802</td>\n",
       "      <td>um</td>\n",
       "      <td>20</td>\n",
       "    </tr>\n",
       "    <tr>\n",
       "      <th>2022-05-21</th>\n",
       "      <td>0.000000</td>\n",
       "      <td>0.249337</td>\n",
       "      <td>0.624719</td>\n",
       "      <td>-0.025290</td>\n",
       "      <td>dois</td>\n",
       "      <td>-30</td>\n",
       "    </tr>\n",
       "    <tr>\n",
       "      <th>2022-05-22</th>\n",
       "      <td>0.000000</td>\n",
       "      <td>0.956873</td>\n",
       "      <td>-1.118796</td>\n",
       "      <td>0.522675</td>\n",
       "      <td>três</td>\n",
       "      <td>40</td>\n",
       "    </tr>\n",
       "    <tr>\n",
       "      <th>2022-05-23</th>\n",
       "      <td>0.133035</td>\n",
       "      <td>0.289821</td>\n",
       "      <td>0.487587</td>\n",
       "      <td>-0.722973</td>\n",
       "      <td>quatro</td>\n",
       "      <td>50</td>\n",
       "    </tr>\n",
       "    <tr>\n",
       "      <th>2022-05-24</th>\n",
       "      <td>-0.733022</td>\n",
       "      <td>0.721735</td>\n",
       "      <td>-1.202797</td>\n",
       "      <td>0.256383</td>\n",
       "      <td>três</td>\n",
       "      <td>60</td>\n",
       "    </tr>\n",
       "  </tbody>\n",
       "</table>\n",
       "</div>"
      ],
      "text/plain": [
       "                   A         B         C         D       E   F\n",
       "2022-05-19 -0.771333  1.340197 -0.986804  0.744150      um  10\n",
       "2022-05-20 -1.062793  1.133589 -1.125380  0.792802      um  20\n",
       "2022-05-21  0.000000  0.249337  0.624719 -0.025290    dois -30\n",
       "2022-05-22  0.000000  0.956873 -1.118796  0.522675    três  40\n",
       "2022-05-23  0.133035  0.289821  0.487587 -0.722973  quatro  50\n",
       "2022-05-24 -0.733022  0.721735 -1.202797  0.256383    três  60"
      ]
     },
     "execution_count": 130,
     "metadata": {},
     "output_type": "execute_result"
    }
   ],
   "source": [
    "semana = df3.index\n",
    "df3.at[semana[2:4], \"A\"] = 0\n",
    "df3"
   ]
  },
  {
   "cell_type": "markdown",
   "metadata": {},
   "source": [
    "* Definindo valores pela atribuição de um arranjo Numpy:"
   ]
  },
  {
   "cell_type": "code",
   "execution_count": 94,
   "metadata": {},
   "outputs": [
    {
     "data": {
      "text/html": [
       "<div>\n",
       "<style scoped>\n",
       "    .dataframe tbody tr th:only-of-type {\n",
       "        vertical-align: middle;\n",
       "    }\n",
       "\n",
       "    .dataframe tbody tr th {\n",
       "        vertical-align: top;\n",
       "    }\n",
       "\n",
       "    .dataframe thead th {\n",
       "        text-align: right;\n",
       "    }\n",
       "</style>\n",
       "<table border=\"1\" class=\"dataframe\">\n",
       "  <thead>\n",
       "    <tr style=\"text-align: right;\">\n",
       "      <th></th>\n",
       "      <th>A</th>\n",
       "      <th>B</th>\n",
       "      <th>C</th>\n",
       "      <th>D</th>\n",
       "      <th>E</th>\n",
       "      <th>F</th>\n",
       "    </tr>\n",
       "  </thead>\n",
       "  <tbody>\n",
       "    <tr>\n",
       "      <th>2021-01-01</th>\n",
       "      <td>0.000000</td>\n",
       "      <td>0.490166</td>\n",
       "      <td>2.113225</td>\n",
       "      <td>5</td>\n",
       "      <td>um</td>\n",
       "      <td>10</td>\n",
       "    </tr>\n",
       "    <tr>\n",
       "      <th>2021-01-02</th>\n",
       "      <td>-0.304674</td>\n",
       "      <td>0.710033</td>\n",
       "      <td>1.610730</td>\n",
       "      <td>5</td>\n",
       "      <td>um</td>\n",
       "      <td>20</td>\n",
       "    </tr>\n",
       "    <tr>\n",
       "      <th>2021-01-03</th>\n",
       "      <td>0.656176</td>\n",
       "      <td>-1.161330</td>\n",
       "      <td>1.180122</td>\n",
       "      <td>5</td>\n",
       "      <td>dois</td>\n",
       "      <td>30</td>\n",
       "    </tr>\n",
       "    <tr>\n",
       "      <th>2021-01-04</th>\n",
       "      <td>-0.114384</td>\n",
       "      <td>-1.538639</td>\n",
       "      <td>0.486135</td>\n",
       "      <td>5</td>\n",
       "      <td>três</td>\n",
       "      <td>40</td>\n",
       "    </tr>\n",
       "    <tr>\n",
       "      <th>2021-01-05</th>\n",
       "      <td>-0.960309</td>\n",
       "      <td>0.776536</td>\n",
       "      <td>-1.163182</td>\n",
       "      <td>5</td>\n",
       "      <td>quatro</td>\n",
       "      <td>50</td>\n",
       "    </tr>\n",
       "    <tr>\n",
       "      <th>2021-01-06</th>\n",
       "      <td>1.606353</td>\n",
       "      <td>0.523092</td>\n",
       "      <td>0.496557</td>\n",
       "      <td>5</td>\n",
       "      <td>três</td>\n",
       "      <td>60</td>\n",
       "    </tr>\n",
       "    <tr>\n",
       "      <th>2021-01-07</th>\n",
       "      <td>0.133055</td>\n",
       "      <td>-0.859184</td>\n",
       "      <td>1.923470</td>\n",
       "      <td>5</td>\n",
       "      <td>sete</td>\n",
       "      <td>70</td>\n",
       "    </tr>\n",
       "  </tbody>\n",
       "</table>\n",
       "</div>"
      ],
      "text/plain": [
       "                   A         B         C  D       E   F\n",
       "2021-01-01  0.000000  0.490166  2.113225  5      um  10\n",
       "2021-01-02 -0.304674  0.710033  1.610730  5      um  20\n",
       "2021-01-03  0.656176 -1.161330  1.180122  5    dois  30\n",
       "2021-01-04 -0.114384 -1.538639  0.486135  5    três  40\n",
       "2021-01-05 -0.960309  0.776536 -1.163182  5  quatro  50\n",
       "2021-01-06  1.606353  0.523092  0.496557  5    três  60\n",
       "2021-01-07  0.133055 -0.859184  1.923470  5    sete  70"
      ]
     },
     "execution_count": 94,
     "metadata": {},
     "output_type": "execute_result"
    }
   ],
   "source": [
    "df3.loc[:, \"D\"] = np.array([5] * len(df3))\n",
    "df3"
   ]
  },
  {
   "cell_type": "markdown",
   "metadata": {},
   "source": [
    "* Definição de valor com operação `where`"
   ]
  },
  {
   "cell_type": "code",
   "execution_count": 55,
   "metadata": {},
   "outputs": [
    {
     "name": "stdout",
     "output_type": "stream",
     "text": [
      "                   A         B         C         D\n",
      "2021-01-01  0.462003  1.495798  0.731406  0.565341\n",
      "2021-01-02  0.558418  0.285734  0.227411  0.980997\n",
      "2021-01-03  1.093154  1.128998  0.236704  0.422487\n",
      "2021-01-04  0.447639  0.496589  1.320449  0.498378\n",
      "2021-01-05  0.849536  0.084336  0.538466  0.244016\n",
      "2021-01-06  0.911066  0.260771  1.343545  0.211861\n",
      "2021-01-07  0.677328  0.686052  0.528031  1.675189\n"
     ]
    }
   ],
   "source": [
    "df1[df1 < 0] = -df1\n",
    "print(df1)"
   ]
  },
  {
   "cell_type": "markdown",
   "metadata": {},
   "source": [
    "<h2 style=\"color:blue; background-color:#F3F2F9\">2.3 Dados Ausentes</h2>\n",
    "\n",
    "O **Pandas** usa principalmente o valor `np.nan` (*not a number*, não é um número) para representar dados ausentes. Por padrão, ele não é incluído nos cálculos.\n",
    "\n",
    "A reindexação permite que você altere/adicione/exclua o índice em um eixo especificado. Isso retorna uma cópia dos dados."
   ]
  },
  {
   "cell_type": "code",
   "execution_count": 56,
   "metadata": {},
   "outputs": [
    {
     "data": {
      "text/html": [
       "<div>\n",
       "<style scoped>\n",
       "    .dataframe tbody tr th:only-of-type {\n",
       "        vertical-align: middle;\n",
       "    }\n",
       "\n",
       "    .dataframe tbody tr th {\n",
       "        vertical-align: top;\n",
       "    }\n",
       "\n",
       "    .dataframe thead th {\n",
       "        text-align: right;\n",
       "    }\n",
       "</style>\n",
       "<table border=\"1\" class=\"dataframe\">\n",
       "  <thead>\n",
       "    <tr style=\"text-align: right;\">\n",
       "      <th></th>\n",
       "      <th>A</th>\n",
       "      <th>B</th>\n",
       "      <th>C</th>\n",
       "      <th>D</th>\n",
       "      <th>E</th>\n",
       "    </tr>\n",
       "  </thead>\n",
       "  <tbody>\n",
       "    <tr>\n",
       "      <th>2021-01-01</th>\n",
       "      <td>0.462003</td>\n",
       "      <td>1.495798</td>\n",
       "      <td>0.731406</td>\n",
       "      <td>0.565341</td>\n",
       "      <td>1.0</td>\n",
       "    </tr>\n",
       "    <tr>\n",
       "      <th>2021-01-02</th>\n",
       "      <td>0.558418</td>\n",
       "      <td>0.285734</td>\n",
       "      <td>0.227411</td>\n",
       "      <td>0.980997</td>\n",
       "      <td>1.0</td>\n",
       "    </tr>\n",
       "    <tr>\n",
       "      <th>2021-01-03</th>\n",
       "      <td>1.093154</td>\n",
       "      <td>1.128998</td>\n",
       "      <td>0.236704</td>\n",
       "      <td>0.422487</td>\n",
       "      <td>NaN</td>\n",
       "    </tr>\n",
       "    <tr>\n",
       "      <th>2021-01-04</th>\n",
       "      <td>0.447639</td>\n",
       "      <td>0.496589</td>\n",
       "      <td>1.320449</td>\n",
       "      <td>0.498378</td>\n",
       "      <td>NaN</td>\n",
       "    </tr>\n",
       "  </tbody>\n",
       "</table>\n",
       "</div>"
      ],
      "text/plain": [
       "                   A         B         C         D    E\n",
       "2021-01-01  0.462003  1.495798  0.731406  0.565341  1.0\n",
       "2021-01-02  0.558418  0.285734  0.227411  0.980997  1.0\n",
       "2021-01-03  1.093154  1.128998  0.236704  0.422487  NaN\n",
       "2021-01-04  0.447639  0.496589  1.320449  0.498378  NaN"
      ]
     },
     "execution_count": 56,
     "metadata": {},
     "output_type": "execute_result"
    }
   ],
   "source": [
    "df4 = df1.reindex(index=semana[0:4], columns=list(df1.columns) + [\"E\"])\n",
    "df4.loc[semana[0]:semana[1], \"E\"] = 1\n",
    "df4"
   ]
  },
  {
   "cell_type": "markdown",
   "metadata": {},
   "source": [
    "* Preenchendo dados ausentes:"
   ]
  },
  {
   "cell_type": "code",
   "execution_count": 123,
   "metadata": {},
   "outputs": [
    {
     "name": "stdout",
     "output_type": "stream",
     "text": [
      "                   A         B         C         D   F    E\n",
      "2021-01-01  0.073938  0.490166  2.113225  0.822239  10  1.0\n",
      "2021-01-02  0.304674  0.710033  1.610730  0.133252  20  1.0\n",
      "2021-01-03  0.656176  1.161330  1.180122  2.272202  30  1.5\n",
      "2021-01-04  0.114384  1.538639  0.486135  1.224443  40  1.5\n"
     ]
    }
   ],
   "source": [
    "df5 = df4.fillna(value=1.5)\n",
    "print(df5)"
   ]
  },
  {
   "cell_type": "markdown",
   "metadata": {},
   "source": [
    "* Obtendo uma máscara booleana onde os valores são `nan`."
   ]
  },
  {
   "cell_type": "code",
   "execution_count": 124,
   "metadata": {},
   "outputs": [
    {
     "data": {
      "text/html": [
       "<div>\n",
       "<style scoped>\n",
       "    .dataframe tbody tr th:only-of-type {\n",
       "        vertical-align: middle;\n",
       "    }\n",
       "\n",
       "    .dataframe tbody tr th {\n",
       "        vertical-align: top;\n",
       "    }\n",
       "\n",
       "    .dataframe thead th {\n",
       "        text-align: right;\n",
       "    }\n",
       "</style>\n",
       "<table border=\"1\" class=\"dataframe\">\n",
       "  <thead>\n",
       "    <tr style=\"text-align: right;\">\n",
       "      <th></th>\n",
       "      <th>A</th>\n",
       "      <th>B</th>\n",
       "      <th>C</th>\n",
       "      <th>D</th>\n",
       "      <th>F</th>\n",
       "      <th>E</th>\n",
       "    </tr>\n",
       "  </thead>\n",
       "  <tbody>\n",
       "    <tr>\n",
       "      <th>2021-01-01</th>\n",
       "      <td>False</td>\n",
       "      <td>False</td>\n",
       "      <td>False</td>\n",
       "      <td>False</td>\n",
       "      <td>False</td>\n",
       "      <td>False</td>\n",
       "    </tr>\n",
       "    <tr>\n",
       "      <th>2021-01-02</th>\n",
       "      <td>False</td>\n",
       "      <td>False</td>\n",
       "      <td>False</td>\n",
       "      <td>False</td>\n",
       "      <td>False</td>\n",
       "      <td>False</td>\n",
       "    </tr>\n",
       "    <tr>\n",
       "      <th>2021-01-03</th>\n",
       "      <td>False</td>\n",
       "      <td>False</td>\n",
       "      <td>False</td>\n",
       "      <td>False</td>\n",
       "      <td>False</td>\n",
       "      <td>True</td>\n",
       "    </tr>\n",
       "    <tr>\n",
       "      <th>2021-01-04</th>\n",
       "      <td>False</td>\n",
       "      <td>False</td>\n",
       "      <td>False</td>\n",
       "      <td>False</td>\n",
       "      <td>False</td>\n",
       "      <td>True</td>\n",
       "    </tr>\n",
       "  </tbody>\n",
       "</table>\n",
       "</div>"
      ],
      "text/plain": [
       "                A      B      C      D      F      E\n",
       "2021-01-01  False  False  False  False  False  False\n",
       "2021-01-02  False  False  False  False  False  False\n",
       "2021-01-03  False  False  False  False  False   True\n",
       "2021-01-04  False  False  False  False  False   True"
      ]
     },
     "execution_count": 124,
     "metadata": {},
     "output_type": "execute_result"
    }
   ],
   "source": [
    " pd.isna(df4)"
   ]
  },
  {
   "cell_type": "markdown",
   "metadata": {},
   "source": [
    "<h1 style=\"color:blue; background-color:#E0DBF9; text-align:center\">3. Operações</h1>\n",
    "\n",
    "As operações com Dataframes e Séries, em geral, excluem os dados ausentes (`nan`).\n",
    "<h2 style=\"color:blue; background-color:#F3F2F9\">3.1 Estatísticas</h2>  \n",
    "\n",
    "**Média**: Executando uma estatística descritiva (1a. ordem):"
   ]
  },
  {
   "cell_type": "code",
   "execution_count": 125,
   "metadata": {},
   "outputs": [
    {
     "data": {
      "text/plain": [
       "A     0.549841\n",
       "B     0.865568\n",
       "C     1.281917\n",
       "D     0.888250\n",
       "F    40.000000\n",
       "dtype: float64"
      ]
     },
     "execution_count": 125,
     "metadata": {},
     "output_type": "execute_result"
    }
   ],
   "source": [
    "df1.mean()"
   ]
  },
  {
   "cell_type": "markdown",
   "metadata": {},
   "source": [
    "Faz operações com objetos que possuem dimensionalidade diferente e que precisam de alinhamento. Além disso, o **Pandas** propaga a operação automaticamente ao longo da dimensão especificada."
   ]
  },
  {
   "cell_type": "code",
   "execution_count": 13,
   "metadata": {},
   "outputs": [
    {
     "name": "stdout",
     "output_type": "stream",
     "text": [
      "2021-01-01     1.0\n",
      "2021-01-02     3.0\n",
      "2021-01-03     5.0\n",
      "2021-01-04     NaN\n",
      "2021-01-05     6.0\n",
      "2021-01-06     8.0\n",
      "2021-01-07    10.0\n",
      "Freq: D, dtype: float64\n",
      "2021-01-01    NaN\n",
      "2021-01-02    NaN\n",
      "2021-01-03    1.0\n",
      "2021-01-04    3.0\n",
      "2021-01-05    5.0\n",
      "2021-01-06    NaN\n",
      "2021-01-07    6.0\n",
      "Freq: D, dtype: float64\n"
     ]
    }
   ],
   "source": [
    "s = pd.Series([1, 3, 5, np.nan, 6, 8, 10], index=semana)\n",
    "print(s)\n",
    "print(s.shift(2))"
   ]
  },
  {
   "cell_type": "code",
   "execution_count": 20,
   "metadata": {},
   "outputs": [
    {
     "data": {
      "text/html": [
       "<div>\n",
       "<style scoped>\n",
       "    .dataframe tbody tr th:only-of-type {\n",
       "        vertical-align: middle;\n",
       "    }\n",
       "\n",
       "    .dataframe tbody tr th {\n",
       "        vertical-align: top;\n",
       "    }\n",
       "\n",
       "    .dataframe thead th {\n",
       "        text-align: right;\n",
       "    }\n",
       "</style>\n",
       "<table border=\"1\" class=\"dataframe\">\n",
       "  <thead>\n",
       "    <tr style=\"text-align: right;\">\n",
       "      <th></th>\n",
       "      <th>A</th>\n",
       "      <th>B</th>\n",
       "      <th>C</th>\n",
       "      <th>D</th>\n",
       "    </tr>\n",
       "  </thead>\n",
       "  <tbody>\n",
       "    <tr>\n",
       "      <th>2021-01-01</th>\n",
       "      <td>-0.068891</td>\n",
       "      <td>0.663990</td>\n",
       "      <td>-1.848441</td>\n",
       "      <td>-0.291594</td>\n",
       "    </tr>\n",
       "    <tr>\n",
       "      <th>2021-01-02</th>\n",
       "      <td>1.305472</td>\n",
       "      <td>1.673140</td>\n",
       "      <td>0.061790</td>\n",
       "      <td>1.568094</td>\n",
       "    </tr>\n",
       "    <tr>\n",
       "      <th>2021-01-03</th>\n",
       "      <td>0.006306</td>\n",
       "      <td>0.874881</td>\n",
       "      <td>-0.288944</td>\n",
       "      <td>0.881397</td>\n",
       "    </tr>\n",
       "    <tr>\n",
       "      <th>2021-01-04</th>\n",
       "      <td>-0.223969</td>\n",
       "      <td>0.377272</td>\n",
       "      <td>-1.154513</td>\n",
       "      <td>-1.710910</td>\n",
       "    </tr>\n",
       "    <tr>\n",
       "      <th>2021-01-05</th>\n",
       "      <td>0.407189</td>\n",
       "      <td>-0.045135</td>\n",
       "      <td>1.132219</td>\n",
       "      <td>-0.069634</td>\n",
       "    </tr>\n",
       "    <tr>\n",
       "      <th>2021-01-06</th>\n",
       "      <td>-0.119944</td>\n",
       "      <td>-2.112821</td>\n",
       "      <td>-0.313464</td>\n",
       "      <td>0.621340</td>\n",
       "    </tr>\n",
       "    <tr>\n",
       "      <th>2021-01-07</th>\n",
       "      <td>0.769480</td>\n",
       "      <td>-0.515911</td>\n",
       "      <td>-1.837282</td>\n",
       "      <td>0.390514</td>\n",
       "    </tr>\n",
       "  </tbody>\n",
       "</table>\n",
       "</div>"
      ],
      "text/plain": [
       "                   A         B         C         D\n",
       "2021-01-01 -0.068891  0.663990 -1.848441 -0.291594\n",
       "2021-01-02  1.305472  1.673140  0.061790  1.568094\n",
       "2021-01-03  0.006306  0.874881 -0.288944  0.881397\n",
       "2021-01-04 -0.223969  0.377272 -1.154513 -1.710910\n",
       "2021-01-05  0.407189 -0.045135  1.132219 -0.069634\n",
       "2021-01-06 -0.119944 -2.112821 -0.313464  0.621340\n",
       "2021-01-07  0.769480 -0.515911 -1.837282  0.390514"
      ]
     },
     "execution_count": 20,
     "metadata": {},
     "output_type": "execute_result"
    }
   ],
   "source": [
    "df1"
   ]
  },
  {
   "cell_type": "code",
   "execution_count": 22,
   "metadata": {},
   "outputs": [
    {
     "data": {
      "text/html": [
       "<div>\n",
       "<style scoped>\n",
       "    .dataframe tbody tr th:only-of-type {\n",
       "        vertical-align: middle;\n",
       "    }\n",
       "\n",
       "    .dataframe tbody tr th {\n",
       "        vertical-align: top;\n",
       "    }\n",
       "\n",
       "    .dataframe thead th {\n",
       "        text-align: right;\n",
       "    }\n",
       "</style>\n",
       "<table border=\"1\" class=\"dataframe\">\n",
       "  <thead>\n",
       "    <tr style=\"text-align: right;\">\n",
       "      <th></th>\n",
       "      <th>A</th>\n",
       "      <th>B</th>\n",
       "      <th>C</th>\n",
       "      <th>D</th>\n",
       "    </tr>\n",
       "  </thead>\n",
       "  <tbody>\n",
       "    <tr>\n",
       "      <th>2021-01-01</th>\n",
       "      <td>-1.068891</td>\n",
       "      <td>-0.336010</td>\n",
       "      <td>-2.848441</td>\n",
       "      <td>-1.291594</td>\n",
       "    </tr>\n",
       "    <tr>\n",
       "      <th>2021-01-02</th>\n",
       "      <td>-1.694528</td>\n",
       "      <td>-1.326860</td>\n",
       "      <td>-2.938210</td>\n",
       "      <td>-1.431906</td>\n",
       "    </tr>\n",
       "    <tr>\n",
       "      <th>2021-01-03</th>\n",
       "      <td>-4.993694</td>\n",
       "      <td>-4.125119</td>\n",
       "      <td>-5.288944</td>\n",
       "      <td>-4.118603</td>\n",
       "    </tr>\n",
       "    <tr>\n",
       "      <th>2021-01-04</th>\n",
       "      <td>NaN</td>\n",
       "      <td>NaN</td>\n",
       "      <td>NaN</td>\n",
       "      <td>NaN</td>\n",
       "    </tr>\n",
       "    <tr>\n",
       "      <th>2021-01-05</th>\n",
       "      <td>-5.592811</td>\n",
       "      <td>-6.045135</td>\n",
       "      <td>-4.867781</td>\n",
       "      <td>-6.069634</td>\n",
       "    </tr>\n",
       "    <tr>\n",
       "      <th>2021-01-06</th>\n",
       "      <td>-8.119944</td>\n",
       "      <td>-10.112821</td>\n",
       "      <td>-8.313464</td>\n",
       "      <td>-7.378660</td>\n",
       "    </tr>\n",
       "    <tr>\n",
       "      <th>2021-01-07</th>\n",
       "      <td>-9.230520</td>\n",
       "      <td>-10.515911</td>\n",
       "      <td>-11.837282</td>\n",
       "      <td>-9.609486</td>\n",
       "    </tr>\n",
       "  </tbody>\n",
       "</table>\n",
       "</div>"
      ],
      "text/plain": [
       "                   A          B          C         D\n",
       "2021-01-01 -1.068891  -0.336010  -2.848441 -1.291594\n",
       "2021-01-02 -1.694528  -1.326860  -2.938210 -1.431906\n",
       "2021-01-03 -4.993694  -4.125119  -5.288944 -4.118603\n",
       "2021-01-04       NaN        NaN        NaN       NaN\n",
       "2021-01-05 -5.592811  -6.045135  -4.867781 -6.069634\n",
       "2021-01-06 -8.119944 -10.112821  -8.313464 -7.378660\n",
       "2021-01-07 -9.230520 -10.515911 -11.837282 -9.609486"
      ]
     },
     "execution_count": 22,
     "metadata": {},
     "output_type": "execute_result"
    }
   ],
   "source": [
    "df1.sub(s, axis=\"index\")"
   ]
  },
  {
   "cell_type": "markdown",
   "metadata": {},
   "source": [
    "<h2 style=\"color:blue; background-color:#F3F2F9\">3.2 Aplicações</h2>\n",
    "Aplicando funções aos dados:"
   ]
  },
  {
   "cell_type": "code",
   "execution_count": 23,
   "metadata": {},
   "outputs": [
    {
     "data": {
      "text/html": [
       "<div>\n",
       "<style scoped>\n",
       "    .dataframe tbody tr th:only-of-type {\n",
       "        vertical-align: middle;\n",
       "    }\n",
       "\n",
       "    .dataframe tbody tr th {\n",
       "        vertical-align: top;\n",
       "    }\n",
       "\n",
       "    .dataframe thead th {\n",
       "        text-align: right;\n",
       "    }\n",
       "</style>\n",
       "<table border=\"1\" class=\"dataframe\">\n",
       "  <thead>\n",
       "    <tr style=\"text-align: right;\">\n",
       "      <th></th>\n",
       "      <th>A</th>\n",
       "      <th>B</th>\n",
       "      <th>C</th>\n",
       "      <th>D</th>\n",
       "    </tr>\n",
       "  </thead>\n",
       "  <tbody>\n",
       "    <tr>\n",
       "      <th>2021-01-01</th>\n",
       "      <td>-0.068891</td>\n",
       "      <td>0.663990</td>\n",
       "      <td>-1.848441</td>\n",
       "      <td>-0.291594</td>\n",
       "    </tr>\n",
       "    <tr>\n",
       "      <th>2021-01-02</th>\n",
       "      <td>1.236580</td>\n",
       "      <td>2.337129</td>\n",
       "      <td>-1.786652</td>\n",
       "      <td>1.276500</td>\n",
       "    </tr>\n",
       "    <tr>\n",
       "      <th>2021-01-03</th>\n",
       "      <td>1.242886</td>\n",
       "      <td>3.212010</td>\n",
       "      <td>-2.075596</td>\n",
       "      <td>2.157897</td>\n",
       "    </tr>\n",
       "    <tr>\n",
       "      <th>2021-01-04</th>\n",
       "      <td>1.018917</td>\n",
       "      <td>3.589282</td>\n",
       "      <td>-3.230109</td>\n",
       "      <td>0.446986</td>\n",
       "    </tr>\n",
       "    <tr>\n",
       "      <th>2021-01-05</th>\n",
       "      <td>1.426106</td>\n",
       "      <td>3.544147</td>\n",
       "      <td>-2.097891</td>\n",
       "      <td>0.377352</td>\n",
       "    </tr>\n",
       "    <tr>\n",
       "      <th>2021-01-06</th>\n",
       "      <td>1.306162</td>\n",
       "      <td>1.431326</td>\n",
       "      <td>-2.411354</td>\n",
       "      <td>0.998692</td>\n",
       "    </tr>\n",
       "    <tr>\n",
       "      <th>2021-01-07</th>\n",
       "      <td>2.075642</td>\n",
       "      <td>0.915414</td>\n",
       "      <td>-4.248636</td>\n",
       "      <td>1.389206</td>\n",
       "    </tr>\n",
       "  </tbody>\n",
       "</table>\n",
       "</div>"
      ],
      "text/plain": [
       "                   A         B         C         D\n",
       "2021-01-01 -0.068891  0.663990 -1.848441 -0.291594\n",
       "2021-01-02  1.236580  2.337129 -1.786652  1.276500\n",
       "2021-01-03  1.242886  3.212010 -2.075596  2.157897\n",
       "2021-01-04  1.018917  3.589282 -3.230109  0.446986\n",
       "2021-01-05  1.426106  3.544147 -2.097891  0.377352\n",
       "2021-01-06  1.306162  1.431326 -2.411354  0.998692\n",
       "2021-01-07  2.075642  0.915414 -4.248636  1.389206"
      ]
     },
     "execution_count": 23,
     "metadata": {},
     "output_type": "execute_result"
    }
   ],
   "source": [
    "df1.apply(np.cumsum)"
   ]
  },
  {
   "cell_type": "code",
   "execution_count": 26,
   "metadata": {},
   "outputs": [
    {
     "data": {
      "text/plain": [
       "A    1.529441\n",
       "B    3.785960\n",
       "C    2.980660\n",
       "D    3.279005\n",
       "dtype: float64"
      ]
     },
     "execution_count": 26,
     "metadata": {},
     "output_type": "execute_result"
    }
   ],
   "source": [
    "df1.apply(lambda x: x.max() - x.min())"
   ]
  },
  {
   "cell_type": "markdown",
   "metadata": {},
   "source": [
    "<h2 style=\"color:blue; background-color:#F3F2F9\">3.3 Histograma</h2>\n",
    "Frequência numérica num experimento, por exemplo, 10 lançamentos de um dado:"
   ]
  },
  {
   "cell_type": "code",
   "execution_count": 41,
   "metadata": {},
   "outputs": [
    {
     "name": "stdout",
     "output_type": "stream",
     "text": [
      "0    6\n",
      "1    4\n",
      "2    2\n",
      "3    3\n",
      "4    1\n",
      "5    4\n",
      "6    5\n",
      "7    3\n",
      "8    3\n",
      "9    2\n",
      "dtype: int32\n"
     ]
    },
    {
     "data": {
      "text/plain": [
       "3    3\n",
       "4    2\n",
       "2    2\n",
       "6    1\n",
       "5    1\n",
       "1    1\n",
       "dtype: int64"
      ]
     },
     "execution_count": 41,
     "metadata": {},
     "output_type": "execute_result"
    }
   ],
   "source": [
    "experim1 = pd.Series(np.random.randint(1,7,size=10))\n",
    "print(experim1)\n",
    "experim1.value_counts()"
   ]
  },
  {
   "cell_type": "code",
   "execution_count": 48,
   "metadata": {
    "scrolled": true
   },
   "outputs": [
    {
     "data": {
      "text/plain": [
       "<AxesSubplot:ylabel='Frequency'>"
      ]
     },
     "execution_count": 48,
     "metadata": {},
     "output_type": "execute_result"
    },
    {
     "data": {
      "image/png": "[encoded data removed]",
      "text/plain": [
       "<Figure size 432x288 with 1 Axes>"
      ]
     },
     "metadata": {
      "needs_background": "light"
     },
     "output_type": "display_data"
    }
   ],
   "source": [
    "experim1.plot.hist(alpha=0.5)"
   ]
  },
  {
   "cell_type": "markdown",
   "metadata": {},
   "source": [
    "<h2 style=\"color:blue; background-color:#F3F2F9\">3.4 Mesclagem (<i>Merge</i>)</h2>\n",
    "\n",
    "* Concatenação: O **Pandas** oferece vários recursos para combinar facilmente objetos (Séries e DataFrames) com vários tipos de lógica de conjunto para os índices e funcionalidade de álgebra relacional no caso de operações do tipo _join/merge_."
   ]
  },
  {
   "cell_type": "code",
   "execution_count": 50,
   "metadata": {},
   "outputs": [
    {
     "data": {
      "text/html": [
       "<div>\n",
       "<style scoped>\n",
       "    .dataframe tbody tr th:only-of-type {\n",
       "        vertical-align: middle;\n",
       "    }\n",
       "\n",
       "    .dataframe tbody tr th {\n",
       "        vertical-align: top;\n",
       "    }\n",
       "\n",
       "    .dataframe thead th {\n",
       "        text-align: right;\n",
       "    }\n",
       "</style>\n",
       "<table border=\"1\" class=\"dataframe\">\n",
       "  <thead>\n",
       "    <tr style=\"text-align: right;\">\n",
       "      <th></th>\n",
       "      <th>0</th>\n",
       "      <th>1</th>\n",
       "      <th>2</th>\n",
       "      <th>3</th>\n",
       "    </tr>\n",
       "  </thead>\n",
       "  <tbody>\n",
       "    <tr>\n",
       "      <th>0</th>\n",
       "      <td>0.896650</td>\n",
       "      <td>-0.522257</td>\n",
       "      <td>0.262716</td>\n",
       "      <td>-0.672647</td>\n",
       "    </tr>\n",
       "    <tr>\n",
       "      <th>1</th>\n",
       "      <td>1.392995</td>\n",
       "      <td>1.691071</td>\n",
       "      <td>0.060406</td>\n",
       "      <td>-0.284204</td>\n",
       "    </tr>\n",
       "    <tr>\n",
       "      <th>2</th>\n",
       "      <td>0.622053</td>\n",
       "      <td>1.272420</td>\n",
       "      <td>0.884139</td>\n",
       "      <td>0.847405</td>\n",
       "    </tr>\n",
       "    <tr>\n",
       "      <th>3</th>\n",
       "      <td>-1.252459</td>\n",
       "      <td>-0.960656</td>\n",
       "      <td>-1.172303</td>\n",
       "      <td>-0.494864</td>\n",
       "    </tr>\n",
       "    <tr>\n",
       "      <th>4</th>\n",
       "      <td>-0.813478</td>\n",
       "      <td>-0.049195</td>\n",
       "      <td>1.149324</td>\n",
       "      <td>-0.640582</td>\n",
       "    </tr>\n",
       "    <tr>\n",
       "      <th>5</th>\n",
       "      <td>-1.670434</td>\n",
       "      <td>-0.046646</td>\n",
       "      <td>2.447664</td>\n",
       "      <td>-1.641226</td>\n",
       "    </tr>\n",
       "    <tr>\n",
       "      <th>6</th>\n",
       "      <td>0.089902</td>\n",
       "      <td>-1.691609</td>\n",
       "      <td>-0.464067</td>\n",
       "      <td>-0.257993</td>\n",
       "    </tr>\n",
       "    <tr>\n",
       "      <th>7</th>\n",
       "      <td>0.208375</td>\n",
       "      <td>0.046142</td>\n",
       "      <td>-0.707078</td>\n",
       "      <td>-0.042070</td>\n",
       "    </tr>\n",
       "    <tr>\n",
       "      <th>8</th>\n",
       "      <td>-0.132306</td>\n",
       "      <td>-1.061486</td>\n",
       "      <td>-1.717351</td>\n",
       "      <td>0.905559</td>\n",
       "    </tr>\n",
       "    <tr>\n",
       "      <th>9</th>\n",
       "      <td>-0.865825</td>\n",
       "      <td>0.918368</td>\n",
       "      <td>0.736405</td>\n",
       "      <td>1.199637</td>\n",
       "    </tr>\n",
       "  </tbody>\n",
       "</table>\n",
       "</div>"
      ],
      "text/plain": [
       "          0         1         2         3\n",
       "0  0.896650 -0.522257  0.262716 -0.672647\n",
       "1  1.392995  1.691071  0.060406 -0.284204\n",
       "2  0.622053  1.272420  0.884139  0.847405\n",
       "3 -1.252459 -0.960656 -1.172303 -0.494864\n",
       "4 -0.813478 -0.049195  1.149324 -0.640582\n",
       "5 -1.670434 -0.046646  2.447664 -1.641226\n",
       "6  0.089902 -1.691609 -0.464067 -0.257993\n",
       "7  0.208375  0.046142 -0.707078 -0.042070\n",
       "8 -0.132306 -1.061486 -1.717351  0.905559\n",
       "9 -0.865825  0.918368  0.736405  1.199637"
      ]
     },
     "execution_count": 50,
     "metadata": {},
     "output_type": "execute_result"
    }
   ],
   "source": [
    "df5 = pd.DataFrame(np.random.randn(10, 4))       # valores aleatórios normalmente distribuídos em 10 linhas e 4 colunas\n",
    "df5"
   ]
  },
  {
   "cell_type": "markdown",
   "metadata": {},
   "source": [
    "Dividindo o dataframe `df5` em pedaços e reunindo os pedaços depois:"
   ]
  },
  {
   "cell_type": "code",
   "execution_count": 52,
   "metadata": {},
   "outputs": [
    {
     "data": {
      "text/plain": [
       "[          0         1         2         3\n",
       " 0  0.896650 -0.522257  0.262716 -0.672647\n",
       " 1  1.392995  1.691071  0.060406 -0.284204\n",
       " 2  0.622053  1.272420  0.884139  0.847405,\n",
       "           0         1         2         3\n",
       " 3 -1.252459 -0.960656 -1.172303 -0.494864\n",
       " 4 -0.813478 -0.049195  1.149324 -0.640582\n",
       " 5 -1.670434 -0.046646  2.447664 -1.641226\n",
       " 6  0.089902 -1.691609 -0.464067 -0.257993,\n",
       "           0         1         2         3\n",
       " 7  0.208375  0.046142 -0.707078 -0.042070\n",
       " 8 -0.132306 -1.061486 -1.717351  0.905559\n",
       " 9 -0.865825  0.918368  0.736405  1.199637]"
      ]
     },
     "execution_count": 52,
     "metadata": {},
     "output_type": "execute_result"
    }
   ],
   "source": [
    "pedacos = [df5[:3], df5[3:7], df5[7:]]\n",
    "pedacos"
   ]
  },
  {
   "cell_type": "code",
   "execution_count": 53,
   "metadata": {
    "scrolled": true
   },
   "outputs": [
    {
     "data": {
      "text/html": [
       "<div>\n",
       "<style scoped>\n",
       "    .dataframe tbody tr th:only-of-type {\n",
       "        vertical-align: middle;\n",
       "    }\n",
       "\n",
       "    .dataframe tbody tr th {\n",
       "        vertical-align: top;\n",
       "    }\n",
       "\n",
       "    .dataframe thead th {\n",
       "        text-align: right;\n",
       "    }\n",
       "</style>\n",
       "<table border=\"1\" class=\"dataframe\">\n",
       "  <thead>\n",
       "    <tr style=\"text-align: right;\">\n",
       "      <th></th>\n",
       "      <th>0</th>\n",
       "      <th>1</th>\n",
       "      <th>2</th>\n",
       "      <th>3</th>\n",
       "    </tr>\n",
       "  </thead>\n",
       "  <tbody>\n",
       "    <tr>\n",
       "      <th>0</th>\n",
       "      <td>0.896650</td>\n",
       "      <td>-0.522257</td>\n",
       "      <td>0.262716</td>\n",
       "      <td>-0.672647</td>\n",
       "    </tr>\n",
       "    <tr>\n",
       "      <th>1</th>\n",
       "      <td>1.392995</td>\n",
       "      <td>1.691071</td>\n",
       "      <td>0.060406</td>\n",
       "      <td>-0.284204</td>\n",
       "    </tr>\n",
       "    <tr>\n",
       "      <th>2</th>\n",
       "      <td>0.622053</td>\n",
       "      <td>1.272420</td>\n",
       "      <td>0.884139</td>\n",
       "      <td>0.847405</td>\n",
       "    </tr>\n",
       "    <tr>\n",
       "      <th>3</th>\n",
       "      <td>-1.252459</td>\n",
       "      <td>-0.960656</td>\n",
       "      <td>-1.172303</td>\n",
       "      <td>-0.494864</td>\n",
       "    </tr>\n",
       "    <tr>\n",
       "      <th>4</th>\n",
       "      <td>-0.813478</td>\n",
       "      <td>-0.049195</td>\n",
       "      <td>1.149324</td>\n",
       "      <td>-0.640582</td>\n",
       "    </tr>\n",
       "    <tr>\n",
       "      <th>5</th>\n",
       "      <td>-1.670434</td>\n",
       "      <td>-0.046646</td>\n",
       "      <td>2.447664</td>\n",
       "      <td>-1.641226</td>\n",
       "    </tr>\n",
       "    <tr>\n",
       "      <th>6</th>\n",
       "      <td>0.089902</td>\n",
       "      <td>-1.691609</td>\n",
       "      <td>-0.464067</td>\n",
       "      <td>-0.257993</td>\n",
       "    </tr>\n",
       "    <tr>\n",
       "      <th>7</th>\n",
       "      <td>0.208375</td>\n",
       "      <td>0.046142</td>\n",
       "      <td>-0.707078</td>\n",
       "      <td>-0.042070</td>\n",
       "    </tr>\n",
       "    <tr>\n",
       "      <th>8</th>\n",
       "      <td>-0.132306</td>\n",
       "      <td>-1.061486</td>\n",
       "      <td>-1.717351</td>\n",
       "      <td>0.905559</td>\n",
       "    </tr>\n",
       "    <tr>\n",
       "      <th>9</th>\n",
       "      <td>-0.865825</td>\n",
       "      <td>0.918368</td>\n",
       "      <td>0.736405</td>\n",
       "      <td>1.199637</td>\n",
       "    </tr>\n",
       "  </tbody>\n",
       "</table>\n",
       "</div>"
      ],
      "text/plain": [
       "          0         1         2         3\n",
       "0  0.896650 -0.522257  0.262716 -0.672647\n",
       "1  1.392995  1.691071  0.060406 -0.284204\n",
       "2  0.622053  1.272420  0.884139  0.847405\n",
       "3 -1.252459 -0.960656 -1.172303 -0.494864\n",
       "4 -0.813478 -0.049195  1.149324 -0.640582\n",
       "5 -1.670434 -0.046646  2.447664 -1.641226\n",
       "6  0.089902 -1.691609 -0.464067 -0.257993\n",
       "7  0.208375  0.046142 -0.707078 -0.042070\n",
       "8 -0.132306 -1.061486 -1.717351  0.905559\n",
       "9 -0.865825  0.918368  0.736405  1.199637"
      ]
     },
     "execution_count": 53,
     "metadata": {},
     "output_type": "execute_result"
    }
   ],
   "source": [
    "pd.concat(pedacos)"
   ]
  },
  {
   "cell_type": "markdown",
   "metadata": {},
   "source": [
    "**Obs.**: Adicionar uma coluna a um DataFrame é relativamente rápido. No entanto, adicionar uma linha requer uma cópia e dependendo do tamanho do DataFrame isso pode ser computacionalmente dispendioso. Recomenda-se passar uma lista pré-criada de registros para o construtor DataFrame ao invés de construir o DataFrame anexando registros iterativamente a ele. Para mais informações acesse [Mesclar, Ajuntar, Concatenar e Comparar](https://pandas.pydata.org/docs/user_guide/merging.html#merging-concatenation).\n",
    "\n",
    "<h3 style=\"color:red\"><b>Exercício</b></h3>Transforme o dataframe anterior, <b><tt>df5</tt></b>, de modo que as linhas 4, 5 e 6 passem a ocupar as últimas linhas."
   ]
  },
  {
   "cell_type": "markdown",
   "metadata": {},
   "source": [
    "<h2 style=\"color:blue; background-color:#F3F2F9\">3.5 União</h2>\n",
    "União de dados no estilo SQL."
   ]
  },
  {
   "cell_type": "code",
   "execution_count": 58,
   "metadata": {},
   "outputs": [
    {
     "name": "stdout",
     "output_type": "stream",
     "text": [
      "  chave  valorA\n",
      "0  item       1\n",
      "1  item       2\n",
      "  chave  valorB\n",
      "0  item       4\n",
      "1  item       5\n"
     ]
    }
   ],
   "source": [
    "a = pd.DataFrame({\"chave\":[\"item\", \"item\"], \"valorA\":[1, 2]})\n",
    "b = pd.DataFrame({\"chave\":[\"item\", \"item\"], \"valorB\":[4, 5]})\n",
    "print(a); print(b)"
   ]
  },
  {
   "cell_type": "code",
   "execution_count": 59,
   "metadata": {
    "scrolled": true
   },
   "outputs": [
    {
     "data": {
      "text/html": [
       "<div>\n",
       "<style scoped>\n",
       "    .dataframe tbody tr th:only-of-type {\n",
       "        vertical-align: middle;\n",
       "    }\n",
       "\n",
       "    .dataframe tbody tr th {\n",
       "        vertical-align: top;\n",
       "    }\n",
       "\n",
       "    .dataframe thead th {\n",
       "        text-align: right;\n",
       "    }\n",
       "</style>\n",
       "<table border=\"1\" class=\"dataframe\">\n",
       "  <thead>\n",
       "    <tr style=\"text-align: right;\">\n",
       "      <th></th>\n",
       "      <th>chave</th>\n",
       "      <th>valorA</th>\n",
       "      <th>valorB</th>\n",
       "    </tr>\n",
       "  </thead>\n",
       "  <tbody>\n",
       "    <tr>\n",
       "      <th>0</th>\n",
       "      <td>item</td>\n",
       "      <td>1</td>\n",
       "      <td>4</td>\n",
       "    </tr>\n",
       "    <tr>\n",
       "      <th>1</th>\n",
       "      <td>item</td>\n",
       "      <td>1</td>\n",
       "      <td>5</td>\n",
       "    </tr>\n",
       "    <tr>\n",
       "      <th>2</th>\n",
       "      <td>item</td>\n",
       "      <td>2</td>\n",
       "      <td>4</td>\n",
       "    </tr>\n",
       "    <tr>\n",
       "      <th>3</th>\n",
       "      <td>item</td>\n",
       "      <td>2</td>\n",
       "      <td>5</td>\n",
       "    </tr>\n",
       "  </tbody>\n",
       "</table>\n",
       "</div>"
      ],
      "text/plain": [
       "  chave  valorA  valorB\n",
       "0  item       1       4\n",
       "1  item       1       5\n",
       "2  item       2       4\n",
       "3  item       2       5"
      ]
     },
     "execution_count": 59,
     "metadata": {},
     "output_type": "execute_result"
    }
   ],
   "source": [
    "pd.merge(a, b, on=\"chave\")"
   ]
  },
  {
   "cell_type": "markdown",
   "metadata": {},
   "source": [
    "Outro exemplo:"
   ]
  },
  {
   "cell_type": "code",
   "execution_count": 60,
   "metadata": {},
   "outputs": [
    {
     "name": "stdout",
     "output_type": "stream",
     "text": [
      "  chave  valorA\n",
      "0  item       1\n",
      "1   val       2\n",
      "  chave  valorB\n",
      "0  item       4\n",
      "1   val       5\n"
     ]
    }
   ],
   "source": [
    "a = pd.DataFrame({\"chave\":[\"item\", \"val\"], \"valorA\":[1, 2]})\n",
    "b = pd.DataFrame({\"chave\":[\"item\", \"val\"], \"valorB\":[4, 5]})\n",
    "print(a); print(b)"
   ]
  },
  {
   "cell_type": "code",
   "execution_count": 61,
   "metadata": {
    "scrolled": false
   },
   "outputs": [
    {
     "data": {
      "text/html": [
       "<div>\n",
       "<style scoped>\n",
       "    .dataframe tbody tr th:only-of-type {\n",
       "        vertical-align: middle;\n",
       "    }\n",
       "\n",
       "    .dataframe tbody tr th {\n",
       "        vertical-align: top;\n",
       "    }\n",
       "\n",
       "    .dataframe thead th {\n",
       "        text-align: right;\n",
       "    }\n",
       "</style>\n",
       "<table border=\"1\" class=\"dataframe\">\n",
       "  <thead>\n",
       "    <tr style=\"text-align: right;\">\n",
       "      <th></th>\n",
       "      <th>chave</th>\n",
       "      <th>valorA</th>\n",
       "      <th>valorB</th>\n",
       "    </tr>\n",
       "  </thead>\n",
       "  <tbody>\n",
       "    <tr>\n",
       "      <th>0</th>\n",
       "      <td>item</td>\n",
       "      <td>1</td>\n",
       "      <td>4</td>\n",
       "    </tr>\n",
       "    <tr>\n",
       "      <th>1</th>\n",
       "      <td>val</td>\n",
       "      <td>2</td>\n",
       "      <td>5</td>\n",
       "    </tr>\n",
       "  </tbody>\n",
       "</table>\n",
       "</div>"
      ],
      "text/plain": [
       "  chave  valorA  valorB\n",
       "0  item       1       4\n",
       "1   val       2       5"
      ]
     },
     "execution_count": 61,
     "metadata": {},
     "output_type": "execute_result"
    }
   ],
   "source": [
    "pd.merge(a, b, on=\"chave\")"
   ]
  },
  {
   "cell_type": "markdown",
   "metadata": {},
   "source": [
    "<h2 style=\"color:blue; background-color:#F3F2F9\">3.7 Agrupamento</h2>\n",
    "\n",
    "O **Agrupamento** realizado pelo método `.groupby()`é um processo que envolve uma ou mais das seguintes etapas:\n",
    "\n",
    "1. Dividir os dados em grupos com base em alguns critérios.\n",
    "2. Aplicar uma função a cada grupo independentemente.\n",
    "3. Combinar os resultados em uma estrutura de dados."
   ]
  },
  {
   "cell_type": "code",
   "execution_count": 10,
   "metadata": {},
   "outputs": [
    {
     "data": {
      "text/html": [
       "<div>\n",
       "<style scoped>\n",
       "    .dataframe tbody tr th:only-of-type {\n",
       "        vertical-align: middle;\n",
       "    }\n",
       "\n",
       "    .dataframe tbody tr th {\n",
       "        vertical-align: top;\n",
       "    }\n",
       "\n",
       "    .dataframe thead th {\n",
       "        text-align: right;\n",
       "    }\n",
       "</style>\n",
       "<table border=\"1\" class=\"dataframe\">\n",
       "  <thead>\n",
       "    <tr style=\"text-align: right;\">\n",
       "      <th></th>\n",
       "      <th>A</th>\n",
       "      <th>B</th>\n",
       "      <th>C</th>\n",
       "      <th>D</th>\n",
       "    </tr>\n",
       "  </thead>\n",
       "  <tbody>\n",
       "    <tr>\n",
       "      <th>0</th>\n",
       "      <td>item</td>\n",
       "      <td>um</td>\n",
       "      <td>-0.612896</td>\n",
       "      <td>4</td>\n",
       "    </tr>\n",
       "    <tr>\n",
       "      <th>1</th>\n",
       "      <td>valor</td>\n",
       "      <td>um</td>\n",
       "      <td>-0.069950</td>\n",
       "      <td>-1</td>\n",
       "    </tr>\n",
       "    <tr>\n",
       "      <th>2</th>\n",
       "      <td>item</td>\n",
       "      <td>dois</td>\n",
       "      <td>-0.528221</td>\n",
       "      <td>2</td>\n",
       "    </tr>\n",
       "    <tr>\n",
       "      <th>3</th>\n",
       "      <td>valor</td>\n",
       "      <td>três</td>\n",
       "      <td>-0.998161</td>\n",
       "      <td>4</td>\n",
       "    </tr>\n",
       "    <tr>\n",
       "      <th>4</th>\n",
       "      <td>item</td>\n",
       "      <td>dois</td>\n",
       "      <td>1.171007</td>\n",
       "      <td>-2</td>\n",
       "    </tr>\n",
       "    <tr>\n",
       "      <th>5</th>\n",
       "      <td>valor</td>\n",
       "      <td>dois</td>\n",
       "      <td>0.063726</td>\n",
       "      <td>3</td>\n",
       "    </tr>\n",
       "    <tr>\n",
       "      <th>6</th>\n",
       "      <td>item</td>\n",
       "      <td>um</td>\n",
       "      <td>1.104290</td>\n",
       "      <td>4</td>\n",
       "    </tr>\n",
       "    <tr>\n",
       "      <th>7</th>\n",
       "      <td>item</td>\n",
       "      <td>três</td>\n",
       "      <td>0.419807</td>\n",
       "      <td>6</td>\n",
       "    </tr>\n",
       "  </tbody>\n",
       "</table>\n",
       "</div>"
      ],
      "text/plain": [
       "       A     B         C  D\n",
       "0   item    um -0.612896  4\n",
       "1  valor    um -0.069950 -1\n",
       "2   item  dois -0.528221  2\n",
       "3  valor  três -0.998161  4\n",
       "4   item  dois  1.171007 -2\n",
       "5  valor  dois  0.063726  3\n",
       "6   item    um  1.104290  4\n",
       "7   item  três  0.419807  6"
      ]
     },
     "execution_count": 10,
     "metadata": {},
     "output_type": "execute_result"
    }
   ],
   "source": [
    "df6 = pd.DataFrame( { \"A\": [\"item\", \"valor\", \"item\", \"valor\", \"item\", \"valor\", \"item\", \"item\"],\n",
    "                      \"B\": [\"um\", \"um\", \"dois\", \"três\", \"dois\", \"dois\", \"um\", \"três\"],\n",
    "                      \"C\": np.random.randn(8),\n",
    "                      \"D\": (2.5 * np.random.randn(8) + 4).astype(int), } )\n",
    "df6"
   ]
  },
  {
   "cell_type": "markdown",
   "metadata": {},
   "source": [
    "Agrupando e aplicando a função `sum()` aos grupos resultantes."
   ]
  },
  {
   "cell_type": "code",
   "execution_count": 11,
   "metadata": {},
   "outputs": [
    {
     "data": {
      "text/html": [
       "<div>\n",
       "<style scoped>\n",
       "    .dataframe tbody tr th:only-of-type {\n",
       "        vertical-align: middle;\n",
       "    }\n",
       "\n",
       "    .dataframe tbody tr th {\n",
       "        vertical-align: top;\n",
       "    }\n",
       "\n",
       "    .dataframe thead th {\n",
       "        text-align: right;\n",
       "    }\n",
       "</style>\n",
       "<table border=\"1\" class=\"dataframe\">\n",
       "  <thead>\n",
       "    <tr style=\"text-align: right;\">\n",
       "      <th></th>\n",
       "      <th></th>\n",
       "      <th>C</th>\n",
       "      <th>D</th>\n",
       "    </tr>\n",
       "    <tr>\n",
       "      <th>A</th>\n",
       "      <th>B</th>\n",
       "      <th></th>\n",
       "      <th></th>\n",
       "    </tr>\n",
       "  </thead>\n",
       "  <tbody>\n",
       "    <tr>\n",
       "      <th rowspan=\"3\" valign=\"top\">item</th>\n",
       "      <th>dois</th>\n",
       "      <td>0.642786</td>\n",
       "      <td>0</td>\n",
       "    </tr>\n",
       "    <tr>\n",
       "      <th>três</th>\n",
       "      <td>0.419807</td>\n",
       "      <td>6</td>\n",
       "    </tr>\n",
       "    <tr>\n",
       "      <th>um</th>\n",
       "      <td>0.491395</td>\n",
       "      <td>8</td>\n",
       "    </tr>\n",
       "    <tr>\n",
       "      <th rowspan=\"3\" valign=\"top\">valor</th>\n",
       "      <th>dois</th>\n",
       "      <td>0.063726</td>\n",
       "      <td>3</td>\n",
       "    </tr>\n",
       "    <tr>\n",
       "      <th>três</th>\n",
       "      <td>-0.998161</td>\n",
       "      <td>4</td>\n",
       "    </tr>\n",
       "    <tr>\n",
       "      <th>um</th>\n",
       "      <td>-0.069950</td>\n",
       "      <td>-1</td>\n",
       "    </tr>\n",
       "  </tbody>\n",
       "</table>\n",
       "</div>"
      ],
      "text/plain": [
       "                   C  D\n",
       "A     B                \n",
       "item  dois  0.642786  0\n",
       "      três  0.419807  6\n",
       "      um    0.491395  8\n",
       "valor dois  0.063726  3\n",
       "      três -0.998161  4\n",
       "      um   -0.069950 -1"
      ]
     },
     "execution_count": 11,
     "metadata": {},
     "output_type": "execute_result"
    }
   ],
   "source": [
    "df6.groupby([\"A\", \"B\"]).sum()"
   ]
  },
  {
   "cell_type": "markdown",
   "metadata": {},
   "source": [
    "Outro exemplo: produção média de CO<sub>2</sub> de veículos por marca (fabricante)."
   ]
  },
  {
   "cell_type": "code",
   "execution_count": 3,
   "metadata": {},
   "outputs": [
    {
     "name": "stdout",
     "output_type": "stream",
     "text": [
      "          CO2\n",
      "Marca        \n",
      "Ford    100.5\n",
      "Honda    92.5\n",
      "Toyota  104.0\n",
      "VW       99.0\n"
     ]
    }
   ],
   "source": [
    "import pandas as pd\n",
    "\n",
    "dic = {\n",
    "  'CO2': [95, 90, 99, 104, 105, 94, 99, 104],\n",
    "  'Modelo': ['City', 'SRV', 'Fiesta', 'Corolla', 'Focus', 'Mondeo', 'Nivus', 'Territory'],\n",
    "  'Marca': ['Honda', 'Honda', 'Ford', 'Toyota', 'Ford', 'Ford', 'VW', 'Ford']\n",
    "}\n",
    "df = pd.DataFrame(dic)\n",
    "print(df.groupby([\"Marca\"]).mean())"
   ]
  },
  {
   "cell_type": "markdown",
   "metadata": {},
   "source": [
    "<h2 style=\"color:blue; background-color:#F3F2F9\">3.8 Remodelagem</h2>\n",
    "<h3 style=\"color:blue; background-color:#F3F2F9\">3.8.1 Empilhamento</h3>"
   ]
  },
  {
   "cell_type": "code",
   "execution_count": 67,
   "metadata": {},
   "outputs": [
    {
     "data": {
      "text/html": [
       "<div>\n",
       "<style scoped>\n",
       "    .dataframe tbody tr th:only-of-type {\n",
       "        vertical-align: middle;\n",
       "    }\n",
       "\n",
       "    .dataframe tbody tr th {\n",
       "        vertical-align: top;\n",
       "    }\n",
       "\n",
       "    .dataframe thead th {\n",
       "        text-align: right;\n",
       "    }\n",
       "</style>\n",
       "<table border=\"1\" class=\"dataframe\">\n",
       "  <thead>\n",
       "    <tr style=\"text-align: right;\">\n",
       "      <th></th>\n",
       "      <th></th>\n",
       "      <th>A</th>\n",
       "      <th>B</th>\n",
       "    </tr>\n",
       "    <tr>\n",
       "      <th>primeiro</th>\n",
       "      <th>segundo</th>\n",
       "      <th></th>\n",
       "      <th></th>\n",
       "    </tr>\n",
       "  </thead>\n",
       "  <tbody>\n",
       "    <tr>\n",
       "      <th rowspan=\"2\" valign=\"top\">barra</th>\n",
       "      <th>um</th>\n",
       "      <td>-0.914160</td>\n",
       "      <td>-1.466732</td>\n",
       "    </tr>\n",
       "    <tr>\n",
       "      <th>dois</th>\n",
       "      <td>-0.255683</td>\n",
       "      <td>0.769011</td>\n",
       "    </tr>\n",
       "    <tr>\n",
       "      <th rowspan=\"2\" valign=\"top\">bazar</th>\n",
       "      <th>um</th>\n",
       "      <td>1.928723</td>\n",
       "      <td>-0.953505</td>\n",
       "    </tr>\n",
       "    <tr>\n",
       "      <th>dois</th>\n",
       "      <td>-1.744472</td>\n",
       "      <td>-1.726661</td>\n",
       "    </tr>\n",
       "  </tbody>\n",
       "</table>\n",
       "</div>"
      ],
      "text/plain": [
       "                         A         B\n",
       "primeiro segundo                    \n",
       "barra    um      -0.914160 -1.466732\n",
       "         dois    -0.255683  0.769011\n",
       "bazar    um       1.928723 -0.953505\n",
       "         dois    -1.744472 -1.726661"
      ]
     },
     "execution_count": 67,
     "metadata": {},
     "output_type": "execute_result"
    }
   ],
   "source": [
    "tuplas = list(zip( *[ [\"barra\", \"barra\", \"bazar\", \"bazar\", \"item\", \"item\", \"qui\", \"qui\"],\n",
    "                      [\"um\", \"dois\", \"um\",  \"dois\", \"um\", \"dois\", \"um\", \"dois\"], ] ))\n",
    "indice = pd.MultiIndex.from_tuples(tuplas, names=[\"primeiro\", \"segundo\"])\n",
    "df7 = pd.DataFrame(np.random.randn(8, 2), index=indice, columns=[\"A\", \"B\"])\n",
    "df8 = df7[:4]\n",
    "df8"
   ]
  },
  {
   "cell_type": "markdown",
   "metadata": {},
   "source": [
    "O método `stack()` \"compacta\" um nível nas colunas do DataFrame."
   ]
  },
  {
   "cell_type": "code",
   "execution_count": 68,
   "metadata": {},
   "outputs": [
    {
     "data": {
      "text/plain": [
       "primeiro  segundo   \n",
       "barra     um       A   -0.914160\n",
       "                   B   -1.466732\n",
       "          dois     A   -0.255683\n",
       "                   B    0.769011\n",
       "bazar     um       A    1.928723\n",
       "                   B   -0.953505\n",
       "          dois     A   -1.744472\n",
       "                   B   -1.726661\n",
       "dtype: float64"
      ]
     },
     "execution_count": 68,
     "metadata": {},
     "output_type": "execute_result"
    }
   ],
   "source": [
    "empilhado = df8.stack()\n",
    "empilhado"
   ]
  },
  {
   "cell_type": "markdown",
   "metadata": {},
   "source": [
    "Com uma estrutura de dados \"empilhada\" (DataFrame ou Série, tendo 'MultiIndex' como índice), a operação inversa de `stack()` é `unstack()`, que por padrão desempilha o último nível:"
   ]
  },
  {
   "cell_type": "code",
   "execution_count": 69,
   "metadata": {
    "scrolled": true
   },
   "outputs": [
    {
     "data": {
      "text/html": [
       "<div>\n",
       "<style scoped>\n",
       "    .dataframe tbody tr th:only-of-type {\n",
       "        vertical-align: middle;\n",
       "    }\n",
       "\n",
       "    .dataframe tbody tr th {\n",
       "        vertical-align: top;\n",
       "    }\n",
       "\n",
       "    .dataframe thead th {\n",
       "        text-align: right;\n",
       "    }\n",
       "</style>\n",
       "<table border=\"1\" class=\"dataframe\">\n",
       "  <thead>\n",
       "    <tr style=\"text-align: right;\">\n",
       "      <th></th>\n",
       "      <th></th>\n",
       "      <th>A</th>\n",
       "      <th>B</th>\n",
       "    </tr>\n",
       "    <tr>\n",
       "      <th>primeiro</th>\n",
       "      <th>segundo</th>\n",
       "      <th></th>\n",
       "      <th></th>\n",
       "    </tr>\n",
       "  </thead>\n",
       "  <tbody>\n",
       "    <tr>\n",
       "      <th rowspan=\"2\" valign=\"top\">barra</th>\n",
       "      <th>dois</th>\n",
       "      <td>-0.255683</td>\n",
       "      <td>0.769011</td>\n",
       "    </tr>\n",
       "    <tr>\n",
       "      <th>um</th>\n",
       "      <td>-0.914160</td>\n",
       "      <td>-1.466732</td>\n",
       "    </tr>\n",
       "    <tr>\n",
       "      <th rowspan=\"2\" valign=\"top\">bazar</th>\n",
       "      <th>dois</th>\n",
       "      <td>-1.744472</td>\n",
       "      <td>-1.726661</td>\n",
       "    </tr>\n",
       "    <tr>\n",
       "      <th>um</th>\n",
       "      <td>1.928723</td>\n",
       "      <td>-0.953505</td>\n",
       "    </tr>\n",
       "  </tbody>\n",
       "</table>\n",
       "</div>"
      ],
      "text/plain": [
       "                         A         B\n",
       "primeiro segundo                    \n",
       "barra    dois    -0.255683  0.769011\n",
       "         um      -0.914160 -1.466732\n",
       "bazar    dois    -1.744472 -1.726661\n",
       "         um       1.928723 -0.953505"
      ]
     },
     "execution_count": 69,
     "metadata": {},
     "output_type": "execute_result"
    }
   ],
   "source": [
    "empilhado.unstack()        # ou empilhado.unstack(0)"
   ]
  },
  {
   "cell_type": "code",
   "execution_count": 70,
   "metadata": {},
   "outputs": [
    {
     "data": {
      "text/html": [
       "<div>\n",
       "<style scoped>\n",
       "    .dataframe tbody tr th:only-of-type {\n",
       "        vertical-align: middle;\n",
       "    }\n",
       "\n",
       "    .dataframe tbody tr th {\n",
       "        vertical-align: top;\n",
       "    }\n",
       "\n",
       "    .dataframe thead th {\n",
       "        text-align: right;\n",
       "    }\n",
       "</style>\n",
       "<table border=\"1\" class=\"dataframe\">\n",
       "  <thead>\n",
       "    <tr style=\"text-align: right;\">\n",
       "      <th></th>\n",
       "      <th>segundo</th>\n",
       "      <th>dois</th>\n",
       "      <th>um</th>\n",
       "    </tr>\n",
       "    <tr>\n",
       "      <th>primeiro</th>\n",
       "      <th></th>\n",
       "      <th></th>\n",
       "      <th></th>\n",
       "    </tr>\n",
       "  </thead>\n",
       "  <tbody>\n",
       "    <tr>\n",
       "      <th rowspan=\"2\" valign=\"top\">barra</th>\n",
       "      <th>A</th>\n",
       "      <td>-0.255683</td>\n",
       "      <td>-0.914160</td>\n",
       "    </tr>\n",
       "    <tr>\n",
       "      <th>B</th>\n",
       "      <td>0.769011</td>\n",
       "      <td>-1.466732</td>\n",
       "    </tr>\n",
       "    <tr>\n",
       "      <th rowspan=\"2\" valign=\"top\">bazar</th>\n",
       "      <th>A</th>\n",
       "      <td>-1.744472</td>\n",
       "      <td>1.928723</td>\n",
       "    </tr>\n",
       "    <tr>\n",
       "      <th>B</th>\n",
       "      <td>-1.726661</td>\n",
       "      <td>-0.953505</td>\n",
       "    </tr>\n",
       "  </tbody>\n",
       "</table>\n",
       "</div>"
      ],
      "text/plain": [
       "segundo         dois        um\n",
       "primeiro                      \n",
       "barra    A -0.255683 -0.914160\n",
       "         B  0.769011 -1.466732\n",
       "bazar    A -1.744472  1.928723\n",
       "         B -1.726661 -0.953505"
      ]
     },
     "execution_count": 70,
     "metadata": {},
     "output_type": "execute_result"
    }
   ],
   "source": [
    "empilhado.unstack(1)"
   ]
  },
  {
   "cell_type": "markdown",
   "metadata": {},
   "source": [
    "<h3 style=\"color:blue; background-color:#F3F2F9\">3.8.2 Tabelas Dinâmicas</h3>"
   ]
  },
  {
   "cell_type": "code",
   "execution_count": 27,
   "metadata": {},
   "outputs": [
    {
     "data": {
      "text/html": [
       "<div>\n",
       "<style scoped>\n",
       "    .dataframe tbody tr th:only-of-type {\n",
       "        vertical-align: middle;\n",
       "    }\n",
       "\n",
       "    .dataframe tbody tr th {\n",
       "        vertical-align: top;\n",
       "    }\n",
       "\n",
       "    .dataframe thead th {\n",
       "        text-align: right;\n",
       "    }\n",
       "</style>\n",
       "<table border=\"1\" class=\"dataframe\">\n",
       "  <thead>\n",
       "    <tr style=\"text-align: right;\">\n",
       "      <th></th>\n",
       "      <th>A</th>\n",
       "      <th>B</th>\n",
       "      <th>C</th>\n",
       "      <th>D</th>\n",
       "      <th>E</th>\n",
       "    </tr>\n",
       "  </thead>\n",
       "  <tbody>\n",
       "    <tr>\n",
       "      <th>0</th>\n",
       "      <td>um</td>\n",
       "      <td>A</td>\n",
       "      <td>item</td>\n",
       "      <td>0.160037</td>\n",
       "      <td>0.198300</td>\n",
       "    </tr>\n",
       "    <tr>\n",
       "      <th>1</th>\n",
       "      <td>um</td>\n",
       "      <td>B</td>\n",
       "      <td>item</td>\n",
       "      <td>0.876169</td>\n",
       "      <td>0.119009</td>\n",
       "    </tr>\n",
       "    <tr>\n",
       "      <th>2</th>\n",
       "      <td>dois</td>\n",
       "      <td>C</td>\n",
       "      <td>item</td>\n",
       "      <td>0.315635</td>\n",
       "      <td>-0.670662</td>\n",
       "    </tr>\n",
       "    <tr>\n",
       "      <th>3</th>\n",
       "      <td>três</td>\n",
       "      <td>A</td>\n",
       "      <td>mar</td>\n",
       "      <td>-2.022201</td>\n",
       "      <td>0.377564</td>\n",
       "    </tr>\n",
       "    <tr>\n",
       "      <th>4</th>\n",
       "      <td>um</td>\n",
       "      <td>B</td>\n",
       "      <td>mar</td>\n",
       "      <td>-0.306204</td>\n",
       "      <td>0.121821</td>\n",
       "    </tr>\n",
       "    <tr>\n",
       "      <th>5</th>\n",
       "      <td>um</td>\n",
       "      <td>C</td>\n",
       "      <td>mar</td>\n",
       "      <td>0.827975</td>\n",
       "      <td>1.129484</td>\n",
       "    </tr>\n",
       "    <tr>\n",
       "      <th>6</th>\n",
       "      <td>dois</td>\n",
       "      <td>A</td>\n",
       "      <td>item</td>\n",
       "      <td>0.230095</td>\n",
       "      <td>1.198918</td>\n",
       "    </tr>\n",
       "    <tr>\n",
       "      <th>7</th>\n",
       "      <td>três</td>\n",
       "      <td>B</td>\n",
       "      <td>item</td>\n",
       "      <td>0.762011</td>\n",
       "      <td>0.185156</td>\n",
       "    </tr>\n",
       "    <tr>\n",
       "      <th>8</th>\n",
       "      <td>um</td>\n",
       "      <td>C</td>\n",
       "      <td>item</td>\n",
       "      <td>-0.222328</td>\n",
       "      <td>-0.375285</td>\n",
       "    </tr>\n",
       "    <tr>\n",
       "      <th>9</th>\n",
       "      <td>um</td>\n",
       "      <td>A</td>\n",
       "      <td>mar</td>\n",
       "      <td>-0.200758</td>\n",
       "      <td>-0.638730</td>\n",
       "    </tr>\n",
       "    <tr>\n",
       "      <th>10</th>\n",
       "      <td>dois</td>\n",
       "      <td>B</td>\n",
       "      <td>mar</td>\n",
       "      <td>0.186561</td>\n",
       "      <td>0.423494</td>\n",
       "    </tr>\n",
       "    <tr>\n",
       "      <th>11</th>\n",
       "      <td>três</td>\n",
       "      <td>C</td>\n",
       "      <td>mar</td>\n",
       "      <td>0.410052</td>\n",
       "      <td>0.077340</td>\n",
       "    </tr>\n",
       "  </tbody>\n",
       "</table>\n",
       "</div>"
      ],
      "text/plain": [
       "       A  B     C         D         E\n",
       "0     um  A  item  0.160037  0.198300\n",
       "1     um  B  item  0.876169  0.119009\n",
       "2   dois  C  item  0.315635 -0.670662\n",
       "3   três  A   mar -2.022201  0.377564\n",
       "4     um  B   mar -0.306204  0.121821\n",
       "5     um  C   mar  0.827975  1.129484\n",
       "6   dois  A  item  0.230095  1.198918\n",
       "7   três  B  item  0.762011  0.185156\n",
       "8     um  C  item -0.222328 -0.375285\n",
       "9     um  A   mar -0.200758 -0.638730\n",
       "10  dois  B   mar  0.186561  0.423494\n",
       "11  três  C   mar  0.410052  0.077340"
      ]
     },
     "execution_count": 27,
     "metadata": {},
     "output_type": "execute_result"
    }
   ],
   "source": [
    "df9 = pd.DataFrame( { \"A\": [\"um\", \"um\", \"dois\", \"três\"] * 3,\n",
    "                      \"B\": [\"A\", \"B\", \"C\"] * 4,\n",
    "                      \"C\": [\"item\", \"item\", \"item\", \"mar\", \"mar\", \"mar\"] * 2,\n",
    "                      \"D\": np.random.randn(12),\n",
    "                      \"E\": np.random.randn(12), } )\n",
    "df9"
   ]
  },
  {
   "cell_type": "markdown",
   "metadata": {},
   "source": [
    "Podemos produzir tabelas dinâmicas a partir desses dados com muita facilidade:"
   ]
  },
  {
   "cell_type": "code",
   "execution_count": 72,
   "metadata": {},
   "outputs": [
    {
     "data": {
      "text/html": [
       "<div>\n",
       "<style scoped>\n",
       "    .dataframe tbody tr th:only-of-type {\n",
       "        vertical-align: middle;\n",
       "    }\n",
       "\n",
       "    .dataframe tbody tr th {\n",
       "        vertical-align: top;\n",
       "    }\n",
       "\n",
       "    .dataframe thead th {\n",
       "        text-align: right;\n",
       "    }\n",
       "</style>\n",
       "<table border=\"1\" class=\"dataframe\">\n",
       "  <thead>\n",
       "    <tr style=\"text-align: right;\">\n",
       "      <th></th>\n",
       "      <th>C</th>\n",
       "      <th>item</th>\n",
       "      <th>mar</th>\n",
       "    </tr>\n",
       "    <tr>\n",
       "      <th>A</th>\n",
       "      <th>B</th>\n",
       "      <th></th>\n",
       "      <th></th>\n",
       "    </tr>\n",
       "  </thead>\n",
       "  <tbody>\n",
       "    <tr>\n",
       "      <th rowspan=\"3\" valign=\"top\">dois</th>\n",
       "      <th>A</th>\n",
       "      <td>-1.219121</td>\n",
       "      <td>NaN</td>\n",
       "    </tr>\n",
       "    <tr>\n",
       "      <th>B</th>\n",
       "      <td>NaN</td>\n",
       "      <td>-0.781614</td>\n",
       "    </tr>\n",
       "    <tr>\n",
       "      <th>C</th>\n",
       "      <td>0.194569</td>\n",
       "      <td>NaN</td>\n",
       "    </tr>\n",
       "    <tr>\n",
       "      <th rowspan=\"3\" valign=\"top\">três</th>\n",
       "      <th>A</th>\n",
       "      <td>NaN</td>\n",
       "      <td>0.985247</td>\n",
       "    </tr>\n",
       "    <tr>\n",
       "      <th>B</th>\n",
       "      <td>-2.320987</td>\n",
       "      <td>NaN</td>\n",
       "    </tr>\n",
       "    <tr>\n",
       "      <th>C</th>\n",
       "      <td>NaN</td>\n",
       "      <td>-0.564590</td>\n",
       "    </tr>\n",
       "    <tr>\n",
       "      <th rowspan=\"3\" valign=\"top\">um</th>\n",
       "      <th>A</th>\n",
       "      <td>0.180946</td>\n",
       "      <td>0.994189</td>\n",
       "    </tr>\n",
       "    <tr>\n",
       "      <th>B</th>\n",
       "      <td>0.086992</td>\n",
       "      <td>-1.711754</td>\n",
       "    </tr>\n",
       "    <tr>\n",
       "      <th>C</th>\n",
       "      <td>0.192274</td>\n",
       "      <td>-0.625247</td>\n",
       "    </tr>\n",
       "  </tbody>\n",
       "</table>\n",
       "</div>"
      ],
      "text/plain": [
       "C           item       mar\n",
       "A    B                    \n",
       "dois A -1.219121       NaN\n",
       "     B       NaN -0.781614\n",
       "     C  0.194569       NaN\n",
       "três A       NaN  0.985247\n",
       "     B -2.320987       NaN\n",
       "     C       NaN -0.564590\n",
       "um   A  0.180946  0.994189\n",
       "     B  0.086992 -1.711754\n",
       "     C  0.192274 -0.625247"
      ]
     },
     "execution_count": 72,
     "metadata": {},
     "output_type": "execute_result"
    }
   ],
   "source": [
    "pd.pivot_table(df9, values=\"D\", index=[\"A\", \"B\"], columns=[\"C\"])"
   ]
  },
  {
   "cell_type": "markdown",
   "metadata": {},
   "source": [
    "<h2 style=\"color:blue; background-color:#F9EDEF\">4. Usando <i>DataFrame</i></h2>"
   ]
  },
  {
   "cell_type": "markdown",
   "metadata": {},
   "source": [
    "<h3 style=\"color:blue; background-color:#F9EDEF\">4.1 Dados a partir de um Dicionário</h3>  "
   ]
  },
  {
   "cell_type": "code",
   "execution_count": 38,
   "metadata": {
    "scrolled": true
   },
   "outputs": [
    {
     "data": {
      "text/html": [
       "<div>\n",
       "<style scoped>\n",
       "    .dataframe tbody tr th:only-of-type {\n",
       "        vertical-align: middle;\n",
       "    }\n",
       "\n",
       "    .dataframe tbody tr th {\n",
       "        vertical-align: top;\n",
       "    }\n",
       "\n",
       "    .dataframe thead th {\n",
       "        text-align: right;\n",
       "    }\n",
       "</style>\n",
       "<table border=\"1\" class=\"dataframe\">\n",
       "  <thead>\n",
       "    <tr style=\"text-align: right;\">\n",
       "      <th></th>\n",
       "      <th>País</th>\n",
       "      <th>Capital</th>\n",
       "      <th>População</th>\n",
       "    </tr>\n",
       "  </thead>\n",
       "  <tbody>\n",
       "    <tr>\n",
       "      <th>0</th>\n",
       "      <td>Portugal</td>\n",
       "      <td>Lisboa</td>\n",
       "      <td>2900000</td>\n",
       "    </tr>\n",
       "    <tr>\n",
       "      <th>1</th>\n",
       "      <td>Peru</td>\n",
       "      <td>Lima</td>\n",
       "      <td>9200000</td>\n",
       "    </tr>\n",
       "    <tr>\n",
       "      <th>2</th>\n",
       "      <td>Chile</td>\n",
       "      <td>Santiago</td>\n",
       "      <td>6400000</td>\n",
       "    </tr>\n",
       "  </tbody>\n",
       "</table>\n",
       "</div>"
      ],
      "text/plain": [
       "       País   Capital  População\n",
       "0  Portugal    Lisboa    2900000\n",
       "1      Peru      Lima    9200000\n",
       "2     Chile  Santiago    6400000"
      ]
     },
     "execution_count": 38,
     "metadata": {},
     "output_type": "execute_result"
    }
   ],
   "source": [
    "import pandas as pd\n",
    "# criando um dataframe a partir de um dicionário\n",
    "dados = {'País':['Portugal', 'Peru', 'Chile'],\n",
    "         'Capital':['Lisboa', 'Lima', 'Santiago'],\n",
    "         'População':[int(pop) for pop in [2.9e6, 9.2e6, 6.4e6]]}         # dados de 2022\n",
    "df = pd.DataFrame(dados, columns=['País', 'Capital', 'População'])\n",
    "# ou: df = pd.DataFrame(dados, columns=dados.keys())\n",
    "df"
   ]
  },
  {
   "cell_type": "markdown",
   "metadata": {},
   "source": [
    "<h3 style=\"color:blue; background-color:#F9EDEF\">4.2 Dados a partir de sequência de valores numéricos e de caracteres</h3>  \n",
    "\n",
    "Vamos importar dois pacotes python populares para esta tarefa: **string** e **numpy**. O pacote **string** é usado para gerar séries de alfabetos, e o pacote **numpy** é usado para gerar sequência de números incrementados por um valor específico."
   ]
  },
  {
   "cell_type": "code",
   "execution_count": 18,
   "metadata": {},
   "outputs": [
    {
     "data": {
      "text/plain": [
       "(   A  B\n",
       " 0  1  a\n",
       " 1  3  b\n",
       " 2  5  c\n",
       " 3  7  d\n",
       " 4  9  e,\n",
       " A       25\n",
       " B    abcde\n",
       " dtype: object)"
      ]
     },
     "execution_count": 18,
     "metadata": {},
     "output_type": "execute_result"
    }
   ],
   "source": [
    "import pandas as pd\n",
    "import string\n",
    "import numpy as np\n",
    "\n",
    "df = pd.DataFrame({\"A\": np.arange(1,10,2),\n",
    "                   \"B\" : list(string.ascii_lowercase)[0:5],\n",
    "                  })\n",
    "df, df.sum()"
   ]
  },
  {
   "cell_type": "markdown",
   "metadata": {},
   "source": [
    "<h3 style=\"color:blue; background-color:#F9EDEF\">4.3 Criando Variáveis Categóricas</h3>\n",
    "\n",
    "Em estatística, uma **variável categórica** é uma variável que pode assumir apenas um número limitado (e geralmente fixo) de valores possíveis, atribuindo cada indivíduo a um determinado grupo ou categoria nominal, com base em alguma propriedade qualitativa.  \n",
    "\n",
    "Vamos criar dois tipos de variáveis categóricas:\n",
    "* Uma variável com categorias que variam de 1 a 4;\n",
    "* Uma variável binária (0/1)."
   ]
  },
  {
   "cell_type": "code",
   "execution_count": 45,
   "metadata": {},
   "outputs": [
    {
     "data": {
      "text/html": [
       "<div>\n",
       "<style scoped>\n",
       "    .dataframe tbody tr th:only-of-type {\n",
       "        vertical-align: middle;\n",
       "    }\n",
       "\n",
       "    .dataframe tbody tr th {\n",
       "        vertical-align: top;\n",
       "    }\n",
       "\n",
       "    .dataframe thead th {\n",
       "        text-align: right;\n",
       "    }\n",
       "</style>\n",
       "<table border=\"1\" class=\"dataframe\">\n",
       "  <thead>\n",
       "    <tr style=\"text-align: right;\">\n",
       "      <th></th>\n",
       "      <th>Observado</th>\n",
       "      <th>Conceito</th>\n",
       "    </tr>\n",
       "  </thead>\n",
       "  <tbody>\n",
       "    <tr>\n",
       "      <th>0</th>\n",
       "      <td>1</td>\n",
       "      <td>0</td>\n",
       "    </tr>\n",
       "    <tr>\n",
       "      <th>1</th>\n",
       "      <td>3</td>\n",
       "      <td>0</td>\n",
       "    </tr>\n",
       "    <tr>\n",
       "      <th>2</th>\n",
       "      <td>2</td>\n",
       "      <td>1</td>\n",
       "    </tr>\n",
       "    <tr>\n",
       "      <th>3</th>\n",
       "      <td>2</td>\n",
       "      <td>1</td>\n",
       "    </tr>\n",
       "    <tr>\n",
       "      <th>4</th>\n",
       "      <td>2</td>\n",
       "      <td>0</td>\n",
       "    </tr>\n",
       "    <tr>\n",
       "      <th>5</th>\n",
       "      <td>4</td>\n",
       "      <td>1</td>\n",
       "    </tr>\n",
       "    <tr>\n",
       "      <th>6</th>\n",
       "      <td>4</td>\n",
       "      <td>1</td>\n",
       "    </tr>\n",
       "    <tr>\n",
       "      <th>7</th>\n",
       "      <td>2</td>\n",
       "      <td>1</td>\n",
       "    </tr>\n",
       "    <tr>\n",
       "      <th>8</th>\n",
       "      <td>3</td>\n",
       "      <td>1</td>\n",
       "    </tr>\n",
       "    <tr>\n",
       "      <th>9</th>\n",
       "      <td>2</td>\n",
       "      <td>0</td>\n",
       "    </tr>\n",
       "  </tbody>\n",
       "</table>\n",
       "</div>"
      ],
      "text/plain": [
       "   Observado  Conceito\n",
       "0          1         0\n",
       "1          3         0\n",
       "2          2         1\n",
       "3          2         1\n",
       "4          2         0\n",
       "5          4         1\n",
       "6          4         1\n",
       "7          2         1\n",
       "8          3         1\n",
       "9          2         0"
      ]
     },
     "execution_count": 45,
     "metadata": {},
     "output_type": "execute_result"
    }
   ],
   "source": [
    "import pandas as pd\n",
    "import numpy as np\n",
    "# np.random.seed(1)   # descomente essa linha se quiser os mesmos dados a cada execução\n",
    "df = pd.DataFrame({\"Observado\"  : np.random.choice(range(1,5), 10, replace=True),\n",
    "                   \"Conceito\" : np.where(np.random.normal(0.0, 1.0, size=10)<=0,0,1)})\n",
    "df"
   ]
  },
  {
   "cell_type": "markdown",
   "metadata": {},
   "source": [
    "<h4>Explicação</h4>    \n",
    "\n",
    "`np.random.choice(range(1, 5), 10, replace=True)` gera 10 valores de 1 a 4 (excluindo 5) com substituição, ou seja, escolha aleatório com valores repetidos.  \n",
    "`np.where(np.random.normal(size=10)<=0, 0, 1)` verifica se o valor aleatório é zero ou negativo, então substitui por 0, e caso contrário, por 1. `np.where( )` é usado para construir declaraçõs IF-ELSE em Python."
   ]
  },
  {
   "cell_type": "markdown",
   "metadata": {},
   "source": [
    "<h3 style=\"color:blue; background-color:#F9EDEF\">4.4 Gerando Dados Aleatórios</h3>  \n",
    "\n",
    "No pacote **Numpy** existem muitas funções para gerar valores aleatórios. As duas funções aleatórias mais usuais são `random.randint()` e `random.normal()`."
   ]
  },
  {
   "cell_type": "code",
   "execution_count": 7,
   "metadata": {},
   "outputs": [
    {
     "data": {
      "text/html": [
       "<div>\n",
       "<style scoped>\n",
       "    .dataframe tbody tr th:only-of-type {\n",
       "        vertical-align: middle;\n",
       "    }\n",
       "\n",
       "    .dataframe tbody tr th {\n",
       "        vertical-align: top;\n",
       "    }\n",
       "\n",
       "    .dataframe thead th {\n",
       "        text-align: right;\n",
       "    }\n",
       "</style>\n",
       "<table border=\"1\" class=\"dataframe\">\n",
       "  <thead>\n",
       "    <tr style=\"text-align: right;\">\n",
       "      <th></th>\n",
       "      <th>Aluno</th>\n",
       "      <th>Prova</th>\n",
       "      <th>Interesse</th>\n",
       "    </tr>\n",
       "  </thead>\n",
       "  <tbody>\n",
       "    <tr>\n",
       "      <th>0</th>\n",
       "      <td>João</td>\n",
       "      <td>38</td>\n",
       "      <td>-0.528172</td>\n",
       "    </tr>\n",
       "    <tr>\n",
       "      <th>1</th>\n",
       "      <td>Maria</td>\n",
       "      <td>13</td>\n",
       "      <td>-1.072969</td>\n",
       "    </tr>\n",
       "    <tr>\n",
       "      <th>2</th>\n",
       "      <td>José</td>\n",
       "      <td>73</td>\n",
       "      <td>0.865408</td>\n",
       "    </tr>\n",
       "    <tr>\n",
       "      <th>3</th>\n",
       "      <td>Antônio</td>\n",
       "      <td>10</td>\n",
       "      <td>-2.301539</td>\n",
       "    </tr>\n",
       "    <tr>\n",
       "      <th>4</th>\n",
       "      <td>Marcos</td>\n",
       "      <td>76</td>\n",
       "      <td>1.744812</td>\n",
       "    </tr>\n",
       "    <tr>\n",
       "      <th>5</th>\n",
       "      <td>Lucas</td>\n",
       "      <td>6</td>\n",
       "      <td>-0.761207</td>\n",
       "    </tr>\n",
       "    <tr>\n",
       "      <th>6</th>\n",
       "      <td>Mateus</td>\n",
       "      <td>80</td>\n",
       "      <td>0.319039</td>\n",
       "    </tr>\n",
       "    <tr>\n",
       "      <th>7</th>\n",
       "      <td>Ester</td>\n",
       "      <td>65</td>\n",
       "      <td>-0.249370</td>\n",
       "    </tr>\n",
       "    <tr>\n",
       "      <th>8</th>\n",
       "      <td>Francisco</td>\n",
       "      <td>17</td>\n",
       "      <td>1.462108</td>\n",
       "    </tr>\n",
       "    <tr>\n",
       "      <th>9</th>\n",
       "      <td>Afonso</td>\n",
       "      <td>2</td>\n",
       "      <td>-2.060141</td>\n",
       "    </tr>\n",
       "  </tbody>\n",
       "</table>\n",
       "</div>"
      ],
      "text/plain": [
       "       Aluno  Prova  Interesse\n",
       "0       João     38  -0.528172\n",
       "1      Maria     13  -1.072969\n",
       "2       José     73   0.865408\n",
       "3    Antônio     10  -2.301539\n",
       "4     Marcos     76   1.744812\n",
       "5      Lucas      6  -0.761207\n",
       "6     Mateus     80   0.319039\n",
       "7      Ester     65  -0.249370\n",
       "8  Francisco     17   1.462108\n",
       "9     Afonso      2  -2.060141"
      ]
     },
     "execution_count": 7,
     "metadata": {},
     "output_type": "execute_result"
    }
   ],
   "source": [
    "import pandas as pd\n",
    "import numpy as np\n",
    "np.random.seed(1)\n",
    "df = pd.DataFrame({\"Aluno\" : ['João','Maria','José','Antônio','Marcos','Lucas','Mateus','Ester','Francisco','Afonso'],\n",
    "                   \"Prova\" : np.random.randint(low=1, high=100, size=10),\n",
    "                   \"Interesse\"  : np.random.normal(0.0, 1.0, size=10)\n",
    "                  })\n",
    "df"
   ]
  },
  {
   "cell_type": "markdown",
   "metadata": {},
   "source": [
    "<h4>Explicação</h4>    \n",
    "\n",
    "`np.random.seed(1)` gera os mesmos valores aleatórios com esta semente ao ser executado novamente.   `np.random.randint(low=1, high=100, size=10)` retorna 10 valores aleatórios entre 1 e 100.   \n",
    "`np.random.normal(0.0, 1.0, size=10)` retorna 10 valores aleatórios seguindo a distribuição normal padrão tendo média 0 e desvio padrão 1.\n",
    "\n",
    "Para gerar mais de uma variável aleatória pode-se usar, por exemplo: `np.random.randn(3, 5)` que  gera 15 valores aleatórios com 'distribuição normal padrão' dispostos em 3 linhas e 4 colunas."
   ]
  },
  {
   "cell_type": "code",
   "execution_count": 11,
   "metadata": {},
   "outputs": [
    {
     "data": {
      "text/html": [
       "<div>\n",
       "<style scoped>\n",
       "    .dataframe tbody tr th:only-of-type {\n",
       "        vertical-align: middle;\n",
       "    }\n",
       "\n",
       "    .dataframe tbody tr th {\n",
       "        vertical-align: top;\n",
       "    }\n",
       "\n",
       "    .dataframe thead th {\n",
       "        text-align: right;\n",
       "    }\n",
       "</style>\n",
       "<table border=\"1\" class=\"dataframe\">\n",
       "  <thead>\n",
       "    <tr style=\"text-align: right;\">\n",
       "      <th></th>\n",
       "      <th>V</th>\n",
       "      <th>W</th>\n",
       "      <th>X</th>\n",
       "      <th>Y</th>\n",
       "      <th>Z</th>\n",
       "    </tr>\n",
       "  </thead>\n",
       "  <tbody>\n",
       "    <tr>\n",
       "      <th>A</th>\n",
       "      <td>0.931102</td>\n",
       "      <td>0.285587</td>\n",
       "      <td>0.885141</td>\n",
       "      <td>-0.754398</td>\n",
       "      <td>1.252868</td>\n",
       "    </tr>\n",
       "    <tr>\n",
       "      <th>B</th>\n",
       "      <td>0.512930</td>\n",
       "      <td>-0.298093</td>\n",
       "      <td>0.488518</td>\n",
       "      <td>-0.075572</td>\n",
       "      <td>1.131629</td>\n",
       "    </tr>\n",
       "    <tr>\n",
       "      <th>C</th>\n",
       "      <td>1.519817</td>\n",
       "      <td>2.185575</td>\n",
       "      <td>-1.396496</td>\n",
       "      <td>-1.444114</td>\n",
       "      <td>-0.504466</td>\n",
       "    </tr>\n",
       "  </tbody>\n",
       "</table>\n",
       "</div>"
      ],
      "text/plain": [
       "          V         W         X         Y         Z\n",
       "A  0.931102  0.285587  0.885141 -0.754398  1.252868\n",
       "B  0.512930 -0.298093  0.488518 -0.075572  1.131629\n",
       "C  1.519817  2.185575 -1.396496 -1.444114 -0.504466"
      ]
     },
     "execution_count": 11,
     "metadata": {},
     "output_type": "execute_result"
    }
   ],
   "source": [
    "df = pd.DataFrame(np.random.randn(3, 5),\n",
    "                  index=list('ABC'), \n",
    "                  columns=list('VWXYZ')\n",
    "                 )\n",
    "df"
   ]
  },
  {
   "cell_type": "markdown",
   "metadata": {},
   "source": [
    "<h3 style=\"color:blue; background-color:#F9EDEF\">4.5 Inserindo dados em Python como no SAS</h3>\n",
    "\n",
    "Tal como no **SAS** (*Statistical Analysis System* - software orientado a comandos, usado na análise estatística e visualização de dados; disponível apenas para _Windows_, é indiscutivelmente um dos pacotes de software estatístico mais utilizados na indústria e na academia), podemos inserir dados na janela do editor com delimitador ou separador. Podemos usar qualquer separador: vírgula, espaço, tabulação etc.\n"
   ]
  },
  {
   "cell_type": "code",
   "execution_count": 24,
   "metadata": {},
   "outputs": [
    {
     "data": {
      "text/html": [
       "<div>\n",
       "<style scoped>\n",
       "    .dataframe tbody tr th:only-of-type {\n",
       "        vertical-align: middle;\n",
       "    }\n",
       "\n",
       "    .dataframe tbody tr th {\n",
       "        vertical-align: top;\n",
       "    }\n",
       "\n",
       "    .dataframe thead th {\n",
       "        text-align: right;\n",
       "    }\n",
       "</style>\n",
       "<table border=\"1\" class=\"dataframe\">\n",
       "  <thead>\n",
       "    <tr style=\"text-align: right;\">\n",
       "      <th></th>\n",
       "      <th>Nome</th>\n",
       "      <th>Nota</th>\n",
       "      <th>Seção</th>\n",
       "    </tr>\n",
       "  </thead>\n",
       "  <tbody>\n",
       "    <tr>\n",
       "      <th>0</th>\n",
       "      <td>W</td>\n",
       "      <td>26</td>\n",
       "      <td>A</td>\n",
       "    </tr>\n",
       "    <tr>\n",
       "      <th>1</th>\n",
       "      <td>M</td>\n",
       "      <td>62</td>\n",
       "      <td>A</td>\n",
       "    </tr>\n",
       "    <tr>\n",
       "      <th>2</th>\n",
       "      <td>Q</td>\n",
       "      <td>69</td>\n",
       "      <td>A</td>\n",
       "    </tr>\n",
       "    <tr>\n",
       "      <th>3</th>\n",
       "      <td>E</td>\n",
       "      <td>70</td>\n",
       "      <td>B</td>\n",
       "    </tr>\n",
       "    <tr>\n",
       "      <th>4</th>\n",
       "      <td>R</td>\n",
       "      <td>55</td>\n",
       "      <td>C</td>\n",
       "    </tr>\n",
       "  </tbody>\n",
       "</table>\n",
       "</div>"
      ],
      "text/plain": [
       "   Nome  Nota Seção\n",
       "0     W    26     A\n",
       "1     M    62     A\n",
       "2     Q    69     A\n",
       "3     E    70     B\n",
       "4     R    55     C"
      ]
     },
     "execution_count": 24,
     "metadata": {},
     "output_type": "execute_result"
    }
   ],
   "source": [
    "import pandas as pd\n",
    "from io import StringIO\n",
    "\n",
    "texto = \"\"\"\n",
    "Nome,Nota,Seção\n",
    "   W,26,A\n",
    "M,  62,A\n",
    "Q,69,  A\n",
    "  E, 70,B\n",
    "R,55,C\n",
    "\"\"\"\n",
    "df = pd.read_csv(StringIO(texto))\n",
    "df"
   ]
  },
  {
   "cell_type": "code",
   "execution_count": 26,
   "metadata": {},
   "outputs": [
    {
     "data": {
      "text/html": [
       "<div>\n",
       "<style scoped>\n",
       "    .dataframe tbody tr th:only-of-type {\n",
       "        vertical-align: middle;\n",
       "    }\n",
       "\n",
       "    .dataframe tbody tr th {\n",
       "        vertical-align: top;\n",
       "    }\n",
       "\n",
       "    .dataframe thead th {\n",
       "        text-align: right;\n",
       "    }\n",
       "</style>\n",
       "<table border=\"1\" class=\"dataframe\">\n",
       "  <thead>\n",
       "    <tr style=\"text-align: right;\">\n",
       "      <th></th>\n",
       "      <th>Nome</th>\n",
       "      <th>Nota</th>\n",
       "      <th>Seção</th>\n",
       "    </tr>\n",
       "  </thead>\n",
       "  <tbody>\n",
       "    <tr>\n",
       "      <th>0</th>\n",
       "      <td>W</td>\n",
       "      <td>26</td>\n",
       "      <td>A</td>\n",
       "    </tr>\n",
       "    <tr>\n",
       "      <th>1</th>\n",
       "      <td>M</td>\n",
       "      <td>62</td>\n",
       "      <td>A</td>\n",
       "    </tr>\n",
       "    <tr>\n",
       "      <th>2</th>\n",
       "      <td>Q</td>\n",
       "      <td>69</td>\n",
       "      <td>A</td>\n",
       "    </tr>\n",
       "    <tr>\n",
       "      <th>3</th>\n",
       "      <td>E</td>\n",
       "      <td>70</td>\n",
       "      <td>B</td>\n",
       "    </tr>\n",
       "    <tr>\n",
       "      <th>4</th>\n",
       "      <td>R</td>\n",
       "      <td>55</td>\n",
       "      <td>C</td>\n",
       "    </tr>\n",
       "  </tbody>\n",
       "</table>\n",
       "</div>"
      ],
      "text/plain": [
       "  Nome  Nota Seção\n",
       "0    W    26     A\n",
       "1    M    62     A\n",
       "2    Q    69     A\n",
       "3    E    70     B\n",
       "4    R    55     C"
      ]
     },
     "execution_count": 26,
     "metadata": {},
     "output_type": "execute_result"
    }
   ],
   "source": [
    "texto = \"\"\"\n",
    "Nome Nota Seção\n",
    "W    26   A\n",
    "M    62   A\n",
    "Q    69   A\n",
    "E    70   B\n",
    "R    55   C\n",
    "\"\"\"\n",
    "df = pd.read_csv(StringIO(texto), sep=\"\\s+\") # \"\\s+\" significa um ou mais espaços como separador\n",
    "df"
   ]
  },
  {
   "cell_type": "markdown",
   "metadata": {},
   "source": [
    "Importar arquivo CSV ou Excel\n",
    "Usando as funções read_csv( ) e read_excel( ) do pandas, você pode ler dados do Excel ou CSV para Python."
   ]
  },
  {
   "cell_type": "code",
   "execution_count": 49,
   "metadata": {},
   "outputs": [
    {
     "data": {
      "text/html": [
       "<div>\n",
       "<style scoped>\n",
       "    .dataframe tbody tr th:only-of-type {\n",
       "        vertical-align: middle;\n",
       "    }\n",
       "\n",
       "    .dataframe tbody tr th {\n",
       "        vertical-align: top;\n",
       "    }\n",
       "\n",
       "    .dataframe thead th {\n",
       "        text-align: right;\n",
       "    }\n",
       "</style>\n",
       "<table border=\"1\" class=\"dataframe\">\n",
       "  <thead>\n",
       "    <tr style=\"text-align: right;\">\n",
       "      <th></th>\n",
       "      <th>fábrica</th>\n",
       "      <th>estilo</th>\n",
       "      <th>compr_in</th>\n",
       "      <th>motor</th>\n",
       "      <th>milhagem_1000</th>\n",
       "    </tr>\n",
       "  </thead>\n",
       "  <tbody>\n",
       "    <tr>\n",
       "      <th>0</th>\n",
       "      <td>alfa-romero</td>\n",
       "      <td>conversível</td>\n",
       "      <td>168.8</td>\n",
       "      <td>dohc</td>\n",
       "      <td>21</td>\n",
       "    </tr>\n",
       "    <tr>\n",
       "      <th>1</th>\n",
       "      <td>alfa-romero</td>\n",
       "      <td>hatchback</td>\n",
       "      <td>171.2</td>\n",
       "      <td>ohcv</td>\n",
       "      <td>19</td>\n",
       "    </tr>\n",
       "    <tr>\n",
       "      <th>2</th>\n",
       "      <td>audi</td>\n",
       "      <td>sedan</td>\n",
       "      <td>176.6</td>\n",
       "      <td>ohc</td>\n",
       "      <td>24</td>\n",
       "    </tr>\n",
       "    <tr>\n",
       "      <th>3</th>\n",
       "      <td>audi</td>\n",
       "      <td>sedan</td>\n",
       "      <td>176.6</td>\n",
       "      <td>ohc</td>\n",
       "      <td>18</td>\n",
       "    </tr>\n",
       "    <tr>\n",
       "      <th>4</th>\n",
       "      <td>audi</td>\n",
       "      <td>sedan</td>\n",
       "      <td>177.3</td>\n",
       "      <td>ohc</td>\n",
       "      <td>19</td>\n",
       "    </tr>\n",
       "  </tbody>\n",
       "</table>\n",
       "</div>"
      ],
      "text/plain": [
       "       fábrica       estilo  compr_in motor  milhagem_1000\n",
       "0  alfa-romero  conversível     168.8  dohc             21\n",
       "1  alfa-romero    hatchback     171.2  ohcv             19\n",
       "2         audi        sedan     176.6   ohc             24\n",
       "3         audi        sedan     176.6   ohc             18\n",
       "4         audi        sedan     177.3   ohc             19"
      ]
     },
     "execution_count": 49,
     "metadata": {},
     "output_type": "execute_result"
    }
   ],
   "source": [
    "import pandas as pd\n",
    "# df = pd.read_csv(\"dat\\\\carros.csv\")\n",
    "# ou: \n",
    "df = pd.read_excel(\"dat\\\\carros.xlsx\")\n",
    "df.head(5)"
   ]
  },
  {
   "cell_type": "markdown",
   "metadata": {},
   "source": [
    "<h2 style=\"color:blue; background-color:#F9EDEF\">5. Manipulando Dados de Filmes com <i>DataFrame</i></h2>\n",
    "\n",
    "Vamos usar os dados da plataforma **IMDb** (*Internet Movie Database*) que é uma base de dados *online* de informação sobre filmes, TV, música e jogos, hoje pertencente à Amazon. Essa base de dados foi iniciada em 17/10/1990 por Col Needham (Wikipédia).\n",
    "\n",
    "Os arquivos do conjunto de dados, atualizados diariamente, podem ser acessados e baixados em https://datasets.imdbws.com/. Baixe o arquivo 'IMDB-Movie-Data.csv' para ter acesso aos dados dos títulos de filmes.\n",
    "\n",
    "Vamos carregar o _dataset_ a partir do arquivo CSV e designar os títulos dos filmes como índice."
   ]
  },
  {
   "cell_type": "code",
   "execution_count": 5,
   "metadata": {},
   "outputs": [
    {
     "data": {
      "text/html": [
       "<div>\n",
       "<style scoped>\n",
       "    .dataframe tbody tr th:only-of-type {\n",
       "        vertical-align: middle;\n",
       "    }\n",
       "\n",
       "    .dataframe tbody tr th {\n",
       "        vertical-align: top;\n",
       "    }\n",
       "\n",
       "    .dataframe thead th {\n",
       "        text-align: right;\n",
       "    }\n",
       "</style>\n",
       "<table border=\"1\" class=\"dataframe\">\n",
       "  <thead>\n",
       "    <tr style=\"text-align: right;\">\n",
       "      <th></th>\n",
       "      <th>Rank</th>\n",
       "      <th>Genre</th>\n",
       "      <th>Description</th>\n",
       "      <th>Director</th>\n",
       "      <th>Actors</th>\n",
       "      <th>Year</th>\n",
       "      <th>Runtime (Minutes)</th>\n",
       "      <th>Rating</th>\n",
       "      <th>Votes</th>\n",
       "      <th>Revenue (Millions)</th>\n",
       "      <th>Metascore</th>\n",
       "    </tr>\n",
       "    <tr>\n",
       "      <th>Title</th>\n",
       "      <th></th>\n",
       "      <th></th>\n",
       "      <th></th>\n",
       "      <th></th>\n",
       "      <th></th>\n",
       "      <th></th>\n",
       "      <th></th>\n",
       "      <th></th>\n",
       "      <th></th>\n",
       "      <th></th>\n",
       "      <th></th>\n",
       "    </tr>\n",
       "  </thead>\n",
       "  <tbody>\n",
       "    <tr>\n",
       "      <th>Guardians of the Galaxy</th>\n",
       "      <td>1</td>\n",
       "      <td>Action,Adventure,Sci-Fi</td>\n",
       "      <td>A group of intergalactic criminals are forced ...</td>\n",
       "      <td>James Gunn</td>\n",
       "      <td>Chris Pratt, Vin Diesel, Bradley Cooper, Zoe S...</td>\n",
       "      <td>2014</td>\n",
       "      <td>121</td>\n",
       "      <td>8.1</td>\n",
       "      <td>757074</td>\n",
       "      <td>333.13</td>\n",
       "      <td>76.0</td>\n",
       "    </tr>\n",
       "    <tr>\n",
       "      <th>Prometheus</th>\n",
       "      <td>2</td>\n",
       "      <td>Adventure,Mystery,Sci-Fi</td>\n",
       "      <td>Following clues to the origin of mankind, a te...</td>\n",
       "      <td>Ridley Scott</td>\n",
       "      <td>Noomi Rapace, Logan Marshall-Green, Michael Fa...</td>\n",
       "      <td>2012</td>\n",
       "      <td>124</td>\n",
       "      <td>7.0</td>\n",
       "      <td>485820</td>\n",
       "      <td>126.46</td>\n",
       "      <td>65.0</td>\n",
       "    </tr>\n",
       "    <tr>\n",
       "      <th>Split</th>\n",
       "      <td>3</td>\n",
       "      <td>Horror,Thriller</td>\n",
       "      <td>Three girls are kidnapped by a man with a diag...</td>\n",
       "      <td>M. Night Shyamalan</td>\n",
       "      <td>James McAvoy, Anya Taylor-Joy, Haley Lu Richar...</td>\n",
       "      <td>2016</td>\n",
       "      <td>117</td>\n",
       "      <td>7.3</td>\n",
       "      <td>157606</td>\n",
       "      <td>138.12</td>\n",
       "      <td>62.0</td>\n",
       "    </tr>\n",
       "    <tr>\n",
       "      <th>Sing</th>\n",
       "      <td>4</td>\n",
       "      <td>Animation,Comedy,Family</td>\n",
       "      <td>In a city of humanoid animals, a hustling thea...</td>\n",
       "      <td>Christophe Lourdelet</td>\n",
       "      <td>Matthew McConaughey,Reese Witherspoon, Seth Ma...</td>\n",
       "      <td>2016</td>\n",
       "      <td>108</td>\n",
       "      <td>7.2</td>\n",
       "      <td>60545</td>\n",
       "      <td>270.32</td>\n",
       "      <td>59.0</td>\n",
       "    </tr>\n",
       "    <tr>\n",
       "      <th>Suicide Squad</th>\n",
       "      <td>5</td>\n",
       "      <td>Action,Adventure,Fantasy</td>\n",
       "      <td>A secret government agency recruits some of th...</td>\n",
       "      <td>David Ayer</td>\n",
       "      <td>Will Smith, Jared Leto, Margot Robbie, Viola D...</td>\n",
       "      <td>2016</td>\n",
       "      <td>123</td>\n",
       "      <td>6.2</td>\n",
       "      <td>393727</td>\n",
       "      <td>325.02</td>\n",
       "      <td>40.0</td>\n",
       "    </tr>\n",
       "  </tbody>\n",
       "</table>\n",
       "</div>"
      ],
      "text/plain": [
       "                         Rank                     Genre  \\\n",
       "Title                                                     \n",
       "Guardians of the Galaxy     1   Action,Adventure,Sci-Fi   \n",
       "Prometheus                  2  Adventure,Mystery,Sci-Fi   \n",
       "Split                       3           Horror,Thriller   \n",
       "Sing                        4   Animation,Comedy,Family   \n",
       "Suicide Squad               5  Action,Adventure,Fantasy   \n",
       "\n",
       "                                                               Description  \\\n",
       "Title                                                                        \n",
       "Guardians of the Galaxy  A group of intergalactic criminals are forced ...   \n",
       "Prometheus               Following clues to the origin of mankind, a te...   \n",
       "Split                    Three girls are kidnapped by a man with a diag...   \n",
       "Sing                     In a city of humanoid animals, a hustling thea...   \n",
       "Suicide Squad            A secret government agency recruits some of th...   \n",
       "\n",
       "                                     Director  \\\n",
       "Title                                           \n",
       "Guardians of the Galaxy            James Gunn   \n",
       "Prometheus                       Ridley Scott   \n",
       "Split                      M. Night Shyamalan   \n",
       "Sing                     Christophe Lourdelet   \n",
       "Suicide Squad                      David Ayer   \n",
       "\n",
       "                                                                    Actors  \\\n",
       "Title                                                                        \n",
       "Guardians of the Galaxy  Chris Pratt, Vin Diesel, Bradley Cooper, Zoe S...   \n",
       "Prometheus               Noomi Rapace, Logan Marshall-Green, Michael Fa...   \n",
       "Split                    James McAvoy, Anya Taylor-Joy, Haley Lu Richar...   \n",
       "Sing                     Matthew McConaughey,Reese Witherspoon, Seth Ma...   \n",
       "Suicide Squad            Will Smith, Jared Leto, Margot Robbie, Viola D...   \n",
       "\n",
       "                         Year  Runtime (Minutes)  Rating   Votes  \\\n",
       "Title                                                              \n",
       "Guardians of the Galaxy  2014                121     8.1  757074   \n",
       "Prometheus               2012                124     7.0  485820   \n",
       "Split                    2016                117     7.3  157606   \n",
       "Sing                     2016                108     7.2   60545   \n",
       "Suicide Squad            2016                123     6.2  393727   \n",
       "\n",
       "                         Revenue (Millions)  Metascore  \n",
       "Title                                                   \n",
       "Guardians of the Galaxy              333.13       76.0  \n",
       "Prometheus                           126.46       65.0  \n",
       "Split                                138.12       62.0  \n",
       "Sing                                 270.32       59.0  \n",
       "Suicide Squad                        325.02       40.0  "
      ]
     },
     "execution_count": 5,
     "metadata": {},
     "output_type": "execute_result"
    }
   ],
   "source": [
    "df_filmes = pd.read_csv(\"dat/IMDB-Movie-Data.csv\", index_col=\"Title\")\n",
    "df_filmes.head()"
   ]
  },
  {
   "cell_type": "markdown",
   "metadata": {},
   "source": [
    "Normalmente, quando carregamos um conjunto de dados (_dataset_), gostamos de visualizar as primeiras cinco ou mais linhas para ver o algum conteúdo do conjunto. Na listagem anterior, podemos ver os nomes de cada coluna, o índice (coluna mais à esquerda) e exemplos de valores em cada linha.\n",
    "\n",
    "Observe que o índice em nosso *DataFrame* é a coluna *Title*, que pode ser percebida pela forma como a palavra *Title* está ligeiramente abaixo das demais colunas na listagem anterior.\n",
    "\n",
    "<h3 style=\"color:blue; background-color:#F9EDEF\">5.1 Obtendo Informações dos seus Dados</h3>\n",
    "\n",
    "Use o método `.info()` do *DataFrame* para ver os detalhes essenciais sobre seu conjunto de dados, como a quantidade de linhas e colunas, a quantidade de valores não nulos, o tipo de dados de cada coluna e quanta memória seu *DataFrame* está ocupando."
   ]
  },
  {
   "cell_type": "code",
   "execution_count": 6,
   "metadata": {},
   "outputs": [
    {
     "name": "stdout",
     "output_type": "stream",
     "text": [
      "<class 'pandas.core.frame.DataFrame'>\n",
      "Index: 1000 entries, Guardians of the Galaxy to Nine Lives\n",
      "Data columns (total 11 columns):\n",
      " #   Column              Non-Null Count  Dtype  \n",
      "---  ------              --------------  -----  \n",
      " 0   Rank                1000 non-null   int64  \n",
      " 1   Genre               1000 non-null   object \n",
      " 2   Description         1000 non-null   object \n",
      " 3   Director            1000 non-null   object \n",
      " 4   Actors              1000 non-null   object \n",
      " 5   Year                1000 non-null   int64  \n",
      " 6   Runtime (Minutes)   1000 non-null   int64  \n",
      " 7   Rating              1000 non-null   float64\n",
      " 8   Votes               1000 non-null   int64  \n",
      " 9   Revenue (Millions)  872 non-null    float64\n",
      " 10  Metascore           936 non-null    float64\n",
      "dtypes: float64(3), int64(4), object(4)\n",
      "memory usage: 93.8+ KB\n"
     ]
    }
   ],
   "source": [
    "df_filmes.info()"
   ]
  },
  {
   "cell_type": "markdown",
   "metadata": {},
   "source": [
    "Observe que em nosso conjunto de dados de filmes temos alguns valores ausentes nas colunas '_Revenue_' e '_Metascore_'. Vamos lidar com isso daqui a pouco.\n",
    "\n",
    "Outro atributo rápido e útil é `.shape`, que gera uma tupla de (linhas, colunas):"
   ]
  },
  {
   "cell_type": "code",
   "execution_count": 8,
   "metadata": {},
   "outputs": [
    {
     "data": {
      "text/plain": [
       "(1000, 11)"
      ]
     },
     "execution_count": 8,
     "metadata": {},
     "output_type": "execute_result"
    }
   ],
   "source": [
    "df_filmes.shape"
   ]
  },
  {
   "cell_type": "markdown",
   "metadata": {},
   "source": [
    "<h3 style=\"color:blue; background-color:#F9EDEF\">5.2 Tratando Duplicatas</h3>\n",
    "Este conjunto de dados não possui linhas duplicadas, mas é sempre importante verificar se você não está agregando linhas duplicadas. Para demonstrar, vamos simplesmente dobrar nosso *DataFrame* de filmes anexando-o a si mesmo:"
   ]
  },
  {
   "cell_type": "code",
   "execution_count": 9,
   "metadata": {},
   "outputs": [
    {
     "data": {
      "text/plain": [
       "(2000, 11)"
      ]
     },
     "execution_count": 9,
     "metadata": {},
     "output_type": "execute_result"
    }
   ],
   "source": [
    "df_temp = df_filmes.append(df_filmes)\n",
    "df_temp.shape"
   ]
  },
  {
   "cell_type": "markdown",
   "metadata": {},
   "source": [
    "O método `append()` retorna uma cópia do *DataFrame* original que é capturada em `df_temp`, então não estamos trabalhando com os dados reais. Observe que a chamada ao atributo `df_temp.shape` prova rapidamente que as linhas do _DataFrame_ gerado dobraram em relação ao original.\n",
    "\n",
    "Agora vamos descartar as linhas em duplicatas:"
   ]
  },
  {
   "cell_type": "code",
   "execution_count": 10,
   "metadata": {},
   "outputs": [
    {
     "data": {
      "text/plain": [
       "(1000, 11)"
      ]
     },
     "execution_count": 10,
     "metadata": {},
     "output_type": "execute_result"
    }
   ],
   "source": [
    "df_temp = df_temp.drop_duplicates()\n",
    "df_temp.shape"
   ]
  },
  {
   "cell_type": "markdown",
   "metadata": {},
   "source": [
    "Assim como o método `append()`, o `drop_duplicates()` também retorna uma cópia do _DataFrame_, mas desta vez com as duplicatas removidas. Chamar `.shape` confirma que voltamos às 1.000 linhas do nosso conjunto de dados original.\n",
    "\n",
    "É um pouco repetitivo continuar atribuindo _DataFrames_ à mesma variável como neste último exemplo. Por esse motivo, o **Pandas** tem o argumento `inplace` em muitos de seus métodos. Usar `inplace=True` modificará o próprio objeto _DataFrame_:"
   ]
  },
  {
   "cell_type": "code",
   "execution_count": 11,
   "metadata": {},
   "outputs": [
    {
     "data": {
      "text/plain": [
       "(1000, 11)"
      ]
     },
     "execution_count": 11,
     "metadata": {},
     "output_type": "execute_result"
    }
   ],
   "source": [
    "df_temp.drop_duplicates(inplace=True)\n",
    "df_temp.shape"
   ]
  },
  {
   "cell_type": "markdown",
   "metadata": {},
   "source": [
    "<h3 style=\"color:blue; background-color:#F9EDEF\">5.3 Limpeza do Rótulo de Coluna</h3>\n",
    "\n",
    "Muitas vezes, os conjuntos de dados terão nomes de coluna detalhados com símbolos, palavras em maiúsculas e minúsculas, espaços e erros de digitação. Para facilitar a seleção de dados por nome de coluna, podemos gastar um pouco de tempo limpando seus nomes.\n",
    "\n",
    "Vamos imprimir os nomes das colunas do nosso conjunto de dados:"
   ]
  },
  {
   "cell_type": "code",
   "execution_count": 12,
   "metadata": {},
   "outputs": [
    {
     "data": {
      "text/plain": [
       "Index(['Rank', 'Genre', 'Description', 'Director', 'Actors', 'Year',\n",
       "       'Runtime (Minutes)', 'Rating', 'Votes', 'Revenue (Millions)',\n",
       "       'Metascore'],\n",
       "      dtype='object')"
      ]
     },
     "execution_count": 12,
     "metadata": {},
     "output_type": "execute_result"
    }
   ],
   "source": [
    "df_filmes.columns"
   ]
  },
  {
   "cell_type": "markdown",
   "metadata": {},
   "source": [
    "O atributo `.columns` não só é útil se você deseja renomear colunas, mas também é útil se você precisa entender por que está recebendo um erro de chave ao selecionar dados por coluna.\n",
    "\n",
    "Vamos usar o método `.rename()` para renomear certas ou todas as colunas por meio de um dicionário:"
   ]
  },
  {
   "cell_type": "code",
   "execution_count": 14,
   "metadata": {},
   "outputs": [
    {
     "data": {
      "text/plain": [
       "Index(['Rank', 'Genre', 'Description', 'Director', 'Actors', 'Year',\n",
       "       'Duração (min)', 'Rating', 'Votes', 'Receita (U$ milhão)', 'Metascore'],\n",
       "      dtype='object')"
      ]
     },
     "execution_count": 14,
     "metadata": {},
     "output_type": "execute_result"
    }
   ],
   "source": [
    "df_filmes.rename(columns={\n",
    "        'Runtime (Minutes)': 'Duração (min)', \n",
    "        'Revenue (Millions)': 'Receita (U$ milhão)'\n",
    "    }, inplace=True)\n",
    "df_filmes.columns"
   ]
  },
  {
   "cell_type": "markdown",
   "metadata": {},
   "source": [
    "Mas se quisermos colocar todos os nomes das colunas em letras minúsculas? Vamos definir uma lista de nomes para as colunas da seguinte forma:"
   ]
  },
  {
   "cell_type": "code",
   "execution_count": 15,
   "metadata": {},
   "outputs": [
    {
     "data": {
      "text/plain": [
       "Index(['rank', 'genero', 'descricao', 'diretor', 'atores', 'ano', 'duracao',\n",
       "       'classificacao', 'votos', 'receita', 'metascore'],\n",
       "      dtype='object')"
      ]
     },
     "execution_count": 15,
     "metadata": {},
     "output_type": "execute_result"
    }
   ],
   "source": [
    "df_filmes.columns = ['rank', 'genero', 'descricao', 'diretor', 'atores', 'ano', 'duracao', \n",
    "                     'classificacao', 'votos', 'receita', 'metascore']\n",
    "df_filmes.columns"
   ]
  },
  {
   "cell_type": "markdown",
   "metadata": {},
   "source": [
    "<h3 style=\"color:blue; background-color:#F9EDEF\">5.4 Tratando Valores Ausentes</h3>\n",
    "\n",
    "Ao explorar os dados podemos encontrar valores ausentes ou nulos que essencialmente são representações  para valores inexistentes. Mais comumente, teremos `None` do Python ou `np.nan` do **NumPy**, cada um dos quais são tratados de maneira diferente.\n",
    "\n",
    "* Tratando Valores Nulos:  \n",
    "__Opção 1__: Eliminar as linhas ou colunas com nulos.  \n",
    "__Opção 2__: Substituir nulos por valores não nulos (técnica conhecida como **imputação**).  \n",
    "\n",
    "Vamos calcular o número total de nulos em cada coluna do nosso conjunto de dados. O primeiro passo é verificar quais células do nosso _DataFrame_ são nulas:"
   ]
  },
  {
   "cell_type": "code",
   "execution_count": 16,
   "metadata": {},
   "outputs": [
    {
     "data": {
      "text/html": [
       "<div>\n",
       "<style scoped>\n",
       "    .dataframe tbody tr th:only-of-type {\n",
       "        vertical-align: middle;\n",
       "    }\n",
       "\n",
       "    .dataframe tbody tr th {\n",
       "        vertical-align: top;\n",
       "    }\n",
       "\n",
       "    .dataframe thead th {\n",
       "        text-align: right;\n",
       "    }\n",
       "</style>\n",
       "<table border=\"1\" class=\"dataframe\">\n",
       "  <thead>\n",
       "    <tr style=\"text-align: right;\">\n",
       "      <th></th>\n",
       "      <th>rank</th>\n",
       "      <th>genero</th>\n",
       "      <th>descricao</th>\n",
       "      <th>diretor</th>\n",
       "      <th>atores</th>\n",
       "      <th>ano</th>\n",
       "      <th>duracao</th>\n",
       "      <th>classificacao</th>\n",
       "      <th>votos</th>\n",
       "      <th>receita</th>\n",
       "      <th>metascore</th>\n",
       "    </tr>\n",
       "    <tr>\n",
       "      <th>Title</th>\n",
       "      <th></th>\n",
       "      <th></th>\n",
       "      <th></th>\n",
       "      <th></th>\n",
       "      <th></th>\n",
       "      <th></th>\n",
       "      <th></th>\n",
       "      <th></th>\n",
       "      <th></th>\n",
       "      <th></th>\n",
       "      <th></th>\n",
       "    </tr>\n",
       "  </thead>\n",
       "  <tbody>\n",
       "    <tr>\n",
       "      <th>Guardians of the Galaxy</th>\n",
       "      <td>False</td>\n",
       "      <td>False</td>\n",
       "      <td>False</td>\n",
       "      <td>False</td>\n",
       "      <td>False</td>\n",
       "      <td>False</td>\n",
       "      <td>False</td>\n",
       "      <td>False</td>\n",
       "      <td>False</td>\n",
       "      <td>False</td>\n",
       "      <td>False</td>\n",
       "    </tr>\n",
       "    <tr>\n",
       "      <th>Prometheus</th>\n",
       "      <td>False</td>\n",
       "      <td>False</td>\n",
       "      <td>False</td>\n",
       "      <td>False</td>\n",
       "      <td>False</td>\n",
       "      <td>False</td>\n",
       "      <td>False</td>\n",
       "      <td>False</td>\n",
       "      <td>False</td>\n",
       "      <td>False</td>\n",
       "      <td>False</td>\n",
       "    </tr>\n",
       "    <tr>\n",
       "      <th>Split</th>\n",
       "      <td>False</td>\n",
       "      <td>False</td>\n",
       "      <td>False</td>\n",
       "      <td>False</td>\n",
       "      <td>False</td>\n",
       "      <td>False</td>\n",
       "      <td>False</td>\n",
       "      <td>False</td>\n",
       "      <td>False</td>\n",
       "      <td>False</td>\n",
       "      <td>False</td>\n",
       "    </tr>\n",
       "    <tr>\n",
       "      <th>Sing</th>\n",
       "      <td>False</td>\n",
       "      <td>False</td>\n",
       "      <td>False</td>\n",
       "      <td>False</td>\n",
       "      <td>False</td>\n",
       "      <td>False</td>\n",
       "      <td>False</td>\n",
       "      <td>False</td>\n",
       "      <td>False</td>\n",
       "      <td>False</td>\n",
       "      <td>False</td>\n",
       "    </tr>\n",
       "    <tr>\n",
       "      <th>Suicide Squad</th>\n",
       "      <td>False</td>\n",
       "      <td>False</td>\n",
       "      <td>False</td>\n",
       "      <td>False</td>\n",
       "      <td>False</td>\n",
       "      <td>False</td>\n",
       "      <td>False</td>\n",
       "      <td>False</td>\n",
       "      <td>False</td>\n",
       "      <td>False</td>\n",
       "      <td>False</td>\n",
       "    </tr>\n",
       "    <tr>\n",
       "      <th>...</th>\n",
       "      <td>...</td>\n",
       "      <td>...</td>\n",
       "      <td>...</td>\n",
       "      <td>...</td>\n",
       "      <td>...</td>\n",
       "      <td>...</td>\n",
       "      <td>...</td>\n",
       "      <td>...</td>\n",
       "      <td>...</td>\n",
       "      <td>...</td>\n",
       "      <td>...</td>\n",
       "    </tr>\n",
       "    <tr>\n",
       "      <th>Secret in Their Eyes</th>\n",
       "      <td>False</td>\n",
       "      <td>False</td>\n",
       "      <td>False</td>\n",
       "      <td>False</td>\n",
       "      <td>False</td>\n",
       "      <td>False</td>\n",
       "      <td>False</td>\n",
       "      <td>False</td>\n",
       "      <td>False</td>\n",
       "      <td>True</td>\n",
       "      <td>False</td>\n",
       "    </tr>\n",
       "    <tr>\n",
       "      <th>Hostel: Part II</th>\n",
       "      <td>False</td>\n",
       "      <td>False</td>\n",
       "      <td>False</td>\n",
       "      <td>False</td>\n",
       "      <td>False</td>\n",
       "      <td>False</td>\n",
       "      <td>False</td>\n",
       "      <td>False</td>\n",
       "      <td>False</td>\n",
       "      <td>False</td>\n",
       "      <td>False</td>\n",
       "    </tr>\n",
       "    <tr>\n",
       "      <th>Step Up 2: The Streets</th>\n",
       "      <td>False</td>\n",
       "      <td>False</td>\n",
       "      <td>False</td>\n",
       "      <td>False</td>\n",
       "      <td>False</td>\n",
       "      <td>False</td>\n",
       "      <td>False</td>\n",
       "      <td>False</td>\n",
       "      <td>False</td>\n",
       "      <td>False</td>\n",
       "      <td>False</td>\n",
       "    </tr>\n",
       "    <tr>\n",
       "      <th>Search Party</th>\n",
       "      <td>False</td>\n",
       "      <td>False</td>\n",
       "      <td>False</td>\n",
       "      <td>False</td>\n",
       "      <td>False</td>\n",
       "      <td>False</td>\n",
       "      <td>False</td>\n",
       "      <td>False</td>\n",
       "      <td>False</td>\n",
       "      <td>True</td>\n",
       "      <td>False</td>\n",
       "    </tr>\n",
       "    <tr>\n",
       "      <th>Nine Lives</th>\n",
       "      <td>False</td>\n",
       "      <td>False</td>\n",
       "      <td>False</td>\n",
       "      <td>False</td>\n",
       "      <td>False</td>\n",
       "      <td>False</td>\n",
       "      <td>False</td>\n",
       "      <td>False</td>\n",
       "      <td>False</td>\n",
       "      <td>False</td>\n",
       "      <td>False</td>\n",
       "    </tr>\n",
       "  </tbody>\n",
       "</table>\n",
       "<p>1000 rows × 11 columns</p>\n",
       "</div>"
      ],
      "text/plain": [
       "                          rank  genero  descricao  diretor  atores    ano  \\\n",
       "Title                                                                       \n",
       "Guardians of the Galaxy  False   False      False    False   False  False   \n",
       "Prometheus               False   False      False    False   False  False   \n",
       "Split                    False   False      False    False   False  False   \n",
       "Sing                     False   False      False    False   False  False   \n",
       "Suicide Squad            False   False      False    False   False  False   \n",
       "...                        ...     ...        ...      ...     ...    ...   \n",
       "Secret in Their Eyes     False   False      False    False   False  False   \n",
       "Hostel: Part II          False   False      False    False   False  False   \n",
       "Step Up 2: The Streets   False   False      False    False   False  False   \n",
       "Search Party             False   False      False    False   False  False   \n",
       "Nine Lives               False   False      False    False   False  False   \n",
       "\n",
       "                         duracao  classificacao  votos  receita  metascore  \n",
       "Title                                                                       \n",
       "Guardians of the Galaxy    False          False  False    False      False  \n",
       "Prometheus                 False          False  False    False      False  \n",
       "Split                      False          False  False    False      False  \n",
       "Sing                       False          False  False    False      False  \n",
       "Suicide Squad              False          False  False    False      False  \n",
       "...                          ...            ...    ...      ...        ...  \n",
       "Secret in Their Eyes       False          False  False     True      False  \n",
       "Hostel: Part II            False          False  False    False      False  \n",
       "Step Up 2: The Streets     False          False  False    False      False  \n",
       "Search Party               False          False  False     True      False  \n",
       "Nine Lives                 False          False  False    False      False  \n",
       "\n",
       "[1000 rows x 11 columns]"
      ]
     },
     "execution_count": 16,
     "metadata": {},
     "output_type": "execute_result"
    }
   ],
   "source": [
    "df_filmes.isnull()"
   ]
  },
  {
   "cell_type": "markdown",
   "metadata": {},
   "source": [
    "Observe que `isnull()` retorna um _DataFrame_ em que cada célula é `True` ou `False`, dependendo do status nulo dessa célula.  \n",
    "Para contar o número de nulos em cada coluna, usamos uma função agregada para somar:"
   ]
  },
  {
   "cell_type": "code",
   "execution_count": 17,
   "metadata": {},
   "outputs": [
    {
     "data": {
      "text/plain": [
       "rank               0\n",
       "genero             0\n",
       "descricao          0\n",
       "diretor            0\n",
       "atores             0\n",
       "ano                0\n",
       "duracao            0\n",
       "classificacao      0\n",
       "votos              0\n",
       "receita          128\n",
       "metascore         64\n",
       "dtype: int64"
      ]
     },
     "execution_count": 17,
     "metadata": {},
     "output_type": "execute_result"
    }
   ],
   "source": [
    "df_filmes.isnull().sum()"
   ]
  },
  {
   "cell_type": "markdown",
   "metadata": {},
   "source": [
    "O método `.isnull()` sozinho não é muito útil, e geralmente é usado em conjunto com outros métodos, como `sum()`.\n",
    "\n",
    "Agora vemos que nossos dados têm 128 valores ausentes na coluna `revenue_millions` e 64 valores ausentes na coluna `metascore`.\n",
    "\n",
    "<h4 style=\"color:blue; background-color:#F9EDEF\">5.4.1 Removendo Valores Nulos</h4>\n",
    "\n",
    "Os cientistas e analistas de dados enfrentam regularmente o dilema de descartar ou imputar valores nulos, e é uma decisão que requer conhecimento profundo de seus dados e seu contexto. No geral, a remoção de dados nulos só é sugerida se você tiver uma pequena quantidade de dados ausentes.\n",
    "\n",
    "Remover nulos é bem simples:"
   ]
  },
  {
   "cell_type": "code",
   "execution_count": 19,
   "metadata": {},
   "outputs": [
    {
     "data": {
      "text/html": [
       "<div>\n",
       "<style scoped>\n",
       "    .dataframe tbody tr th:only-of-type {\n",
       "        vertical-align: middle;\n",
       "    }\n",
       "\n",
       "    .dataframe tbody tr th {\n",
       "        vertical-align: top;\n",
       "    }\n",
       "\n",
       "    .dataframe thead th {\n",
       "        text-align: right;\n",
       "    }\n",
       "</style>\n",
       "<table border=\"1\" class=\"dataframe\">\n",
       "  <thead>\n",
       "    <tr style=\"text-align: right;\">\n",
       "      <th></th>\n",
       "      <th>rank</th>\n",
       "      <th>genero</th>\n",
       "      <th>descricao</th>\n",
       "      <th>diretor</th>\n",
       "      <th>atores</th>\n",
       "      <th>ano</th>\n",
       "      <th>duracao</th>\n",
       "      <th>classificacao</th>\n",
       "      <th>votos</th>\n",
       "      <th>receita</th>\n",
       "      <th>metascore</th>\n",
       "    </tr>\n",
       "    <tr>\n",
       "      <th>Title</th>\n",
       "      <th></th>\n",
       "      <th></th>\n",
       "      <th></th>\n",
       "      <th></th>\n",
       "      <th></th>\n",
       "      <th></th>\n",
       "      <th></th>\n",
       "      <th></th>\n",
       "      <th></th>\n",
       "      <th></th>\n",
       "      <th></th>\n",
       "    </tr>\n",
       "  </thead>\n",
       "  <tbody>\n",
       "    <tr>\n",
       "      <th>Guardians of the Galaxy</th>\n",
       "      <td>1</td>\n",
       "      <td>Action,Adventure,Sci-Fi</td>\n",
       "      <td>A group of intergalactic criminals are forced ...</td>\n",
       "      <td>James Gunn</td>\n",
       "      <td>Chris Pratt, Vin Diesel, Bradley Cooper, Zoe S...</td>\n",
       "      <td>2014</td>\n",
       "      <td>121</td>\n",
       "      <td>8.1</td>\n",
       "      <td>757074</td>\n",
       "      <td>333.13</td>\n",
       "      <td>76.0</td>\n",
       "    </tr>\n",
       "    <tr>\n",
       "      <th>Prometheus</th>\n",
       "      <td>2</td>\n",
       "      <td>Adventure,Mystery,Sci-Fi</td>\n",
       "      <td>Following clues to the origin of mankind, a te...</td>\n",
       "      <td>Ridley Scott</td>\n",
       "      <td>Noomi Rapace, Logan Marshall-Green, Michael Fa...</td>\n",
       "      <td>2012</td>\n",
       "      <td>124</td>\n",
       "      <td>7.0</td>\n",
       "      <td>485820</td>\n",
       "      <td>126.46</td>\n",
       "      <td>65.0</td>\n",
       "    </tr>\n",
       "    <tr>\n",
       "      <th>Split</th>\n",
       "      <td>3</td>\n",
       "      <td>Horror,Thriller</td>\n",
       "      <td>Three girls are kidnapped by a man with a diag...</td>\n",
       "      <td>M. Night Shyamalan</td>\n",
       "      <td>James McAvoy, Anya Taylor-Joy, Haley Lu Richar...</td>\n",
       "      <td>2016</td>\n",
       "      <td>117</td>\n",
       "      <td>7.3</td>\n",
       "      <td>157606</td>\n",
       "      <td>138.12</td>\n",
       "      <td>62.0</td>\n",
       "    </tr>\n",
       "    <tr>\n",
       "      <th>Sing</th>\n",
       "      <td>4</td>\n",
       "      <td>Animation,Comedy,Family</td>\n",
       "      <td>In a city of humanoid animals, a hustling thea...</td>\n",
       "      <td>Christophe Lourdelet</td>\n",
       "      <td>Matthew McConaughey,Reese Witherspoon, Seth Ma...</td>\n",
       "      <td>2016</td>\n",
       "      <td>108</td>\n",
       "      <td>7.2</td>\n",
       "      <td>60545</td>\n",
       "      <td>270.32</td>\n",
       "      <td>59.0</td>\n",
       "    </tr>\n",
       "    <tr>\n",
       "      <th>Suicide Squad</th>\n",
       "      <td>5</td>\n",
       "      <td>Action,Adventure,Fantasy</td>\n",
       "      <td>A secret government agency recruits some of th...</td>\n",
       "      <td>David Ayer</td>\n",
       "      <td>Will Smith, Jared Leto, Margot Robbie, Viola D...</td>\n",
       "      <td>2016</td>\n",
       "      <td>123</td>\n",
       "      <td>6.2</td>\n",
       "      <td>393727</td>\n",
       "      <td>325.02</td>\n",
       "      <td>40.0</td>\n",
       "    </tr>\n",
       "    <tr>\n",
       "      <th>...</th>\n",
       "      <td>...</td>\n",
       "      <td>...</td>\n",
       "      <td>...</td>\n",
       "      <td>...</td>\n",
       "      <td>...</td>\n",
       "      <td>...</td>\n",
       "      <td>...</td>\n",
       "      <td>...</td>\n",
       "      <td>...</td>\n",
       "      <td>...</td>\n",
       "      <td>...</td>\n",
       "    </tr>\n",
       "    <tr>\n",
       "      <th>Resident Evil: Afterlife</th>\n",
       "      <td>994</td>\n",
       "      <td>Action,Adventure,Horror</td>\n",
       "      <td>While still out to destroy the evil Umbrella C...</td>\n",
       "      <td>Paul W.S. Anderson</td>\n",
       "      <td>Milla Jovovich, Ali Larter, Wentworth Miller,K...</td>\n",
       "      <td>2010</td>\n",
       "      <td>97</td>\n",
       "      <td>5.9</td>\n",
       "      <td>140900</td>\n",
       "      <td>60.13</td>\n",
       "      <td>37.0</td>\n",
       "    </tr>\n",
       "    <tr>\n",
       "      <th>Project X</th>\n",
       "      <td>995</td>\n",
       "      <td>Comedy</td>\n",
       "      <td>3 high school seniors throw a birthday party t...</td>\n",
       "      <td>Nima Nourizadeh</td>\n",
       "      <td>Thomas Mann, Oliver Cooper, Jonathan Daniel Br...</td>\n",
       "      <td>2012</td>\n",
       "      <td>88</td>\n",
       "      <td>6.7</td>\n",
       "      <td>164088</td>\n",
       "      <td>54.72</td>\n",
       "      <td>48.0</td>\n",
       "    </tr>\n",
       "    <tr>\n",
       "      <th>Hostel: Part II</th>\n",
       "      <td>997</td>\n",
       "      <td>Horror</td>\n",
       "      <td>Three American college students studying abroa...</td>\n",
       "      <td>Eli Roth</td>\n",
       "      <td>Lauren German, Heather Matarazzo, Bijou Philli...</td>\n",
       "      <td>2007</td>\n",
       "      <td>94</td>\n",
       "      <td>5.5</td>\n",
       "      <td>73152</td>\n",
       "      <td>17.54</td>\n",
       "      <td>46.0</td>\n",
       "    </tr>\n",
       "    <tr>\n",
       "      <th>Step Up 2: The Streets</th>\n",
       "      <td>998</td>\n",
       "      <td>Drama,Music,Romance</td>\n",
       "      <td>Romantic sparks occur between two dance studen...</td>\n",
       "      <td>Jon M. Chu</td>\n",
       "      <td>Robert Hoffman, Briana Evigan, Cassie Ventura,...</td>\n",
       "      <td>2008</td>\n",
       "      <td>98</td>\n",
       "      <td>6.2</td>\n",
       "      <td>70699</td>\n",
       "      <td>58.01</td>\n",
       "      <td>50.0</td>\n",
       "    </tr>\n",
       "    <tr>\n",
       "      <th>Nine Lives</th>\n",
       "      <td>1000</td>\n",
       "      <td>Comedy,Family,Fantasy</td>\n",
       "      <td>A stuffy businessman finds himself trapped ins...</td>\n",
       "      <td>Barry Sonnenfeld</td>\n",
       "      <td>Kevin Spacey, Jennifer Garner, Robbie Amell,Ch...</td>\n",
       "      <td>2016</td>\n",
       "      <td>87</td>\n",
       "      <td>5.3</td>\n",
       "      <td>12435</td>\n",
       "      <td>19.64</td>\n",
       "      <td>11.0</td>\n",
       "    </tr>\n",
       "  </tbody>\n",
       "</table>\n",
       "<p>838 rows × 11 columns</p>\n",
       "</div>"
      ],
      "text/plain": [
       "                          rank                    genero  \\\n",
       "Title                                                      \n",
       "Guardians of the Galaxy      1   Action,Adventure,Sci-Fi   \n",
       "Prometheus                   2  Adventure,Mystery,Sci-Fi   \n",
       "Split                        3           Horror,Thriller   \n",
       "Sing                         4   Animation,Comedy,Family   \n",
       "Suicide Squad                5  Action,Adventure,Fantasy   \n",
       "...                        ...                       ...   \n",
       "Resident Evil: Afterlife   994   Action,Adventure,Horror   \n",
       "Project X                  995                    Comedy   \n",
       "Hostel: Part II            997                    Horror   \n",
       "Step Up 2: The Streets     998       Drama,Music,Romance   \n",
       "Nine Lives                1000     Comedy,Family,Fantasy   \n",
       "\n",
       "                                                                  descricao  \\\n",
       "Title                                                                         \n",
       "Guardians of the Galaxy   A group of intergalactic criminals are forced ...   \n",
       "Prometheus                Following clues to the origin of mankind, a te...   \n",
       "Split                     Three girls are kidnapped by a man with a diag...   \n",
       "Sing                      In a city of humanoid animals, a hustling thea...   \n",
       "Suicide Squad             A secret government agency recruits some of th...   \n",
       "...                                                                     ...   \n",
       "Resident Evil: Afterlife  While still out to destroy the evil Umbrella C...   \n",
       "Project X                 3 high school seniors throw a birthday party t...   \n",
       "Hostel: Part II           Three American college students studying abroa...   \n",
       "Step Up 2: The Streets    Romantic sparks occur between two dance studen...   \n",
       "Nine Lives                A stuffy businessman finds himself trapped ins...   \n",
       "\n",
       "                                       diretor  \\\n",
       "Title                                            \n",
       "Guardians of the Galaxy             James Gunn   \n",
       "Prometheus                        Ridley Scott   \n",
       "Split                       M. Night Shyamalan   \n",
       "Sing                      Christophe Lourdelet   \n",
       "Suicide Squad                       David Ayer   \n",
       "...                                        ...   \n",
       "Resident Evil: Afterlife    Paul W.S. Anderson   \n",
       "Project X                      Nima Nourizadeh   \n",
       "Hostel: Part II                       Eli Roth   \n",
       "Step Up 2: The Streets              Jon M. Chu   \n",
       "Nine Lives                    Barry Sonnenfeld   \n",
       "\n",
       "                                                                     atores  \\\n",
       "Title                                                                         \n",
       "Guardians of the Galaxy   Chris Pratt, Vin Diesel, Bradley Cooper, Zoe S...   \n",
       "Prometheus                Noomi Rapace, Logan Marshall-Green, Michael Fa...   \n",
       "Split                     James McAvoy, Anya Taylor-Joy, Haley Lu Richar...   \n",
       "Sing                      Matthew McConaughey,Reese Witherspoon, Seth Ma...   \n",
       "Suicide Squad             Will Smith, Jared Leto, Margot Robbie, Viola D...   \n",
       "...                                                                     ...   \n",
       "Resident Evil: Afterlife  Milla Jovovich, Ali Larter, Wentworth Miller,K...   \n",
       "Project X                 Thomas Mann, Oliver Cooper, Jonathan Daniel Br...   \n",
       "Hostel: Part II           Lauren German, Heather Matarazzo, Bijou Philli...   \n",
       "Step Up 2: The Streets    Robert Hoffman, Briana Evigan, Cassie Ventura,...   \n",
       "Nine Lives                Kevin Spacey, Jennifer Garner, Robbie Amell,Ch...   \n",
       "\n",
       "                           ano  duracao  classificacao   votos  receita  \\\n",
       "Title                                                                     \n",
       "Guardians of the Galaxy   2014      121            8.1  757074   333.13   \n",
       "Prometheus                2012      124            7.0  485820   126.46   \n",
       "Split                     2016      117            7.3  157606   138.12   \n",
       "Sing                      2016      108            7.2   60545   270.32   \n",
       "Suicide Squad             2016      123            6.2  393727   325.02   \n",
       "...                        ...      ...            ...     ...      ...   \n",
       "Resident Evil: Afterlife  2010       97            5.9  140900    60.13   \n",
       "Project X                 2012       88            6.7  164088    54.72   \n",
       "Hostel: Part II           2007       94            5.5   73152    17.54   \n",
       "Step Up 2: The Streets    2008       98            6.2   70699    58.01   \n",
       "Nine Lives                2016       87            5.3   12435    19.64   \n",
       "\n",
       "                          metascore  \n",
       "Title                                \n",
       "Guardians of the Galaxy        76.0  \n",
       "Prometheus                     65.0  \n",
       "Split                          62.0  \n",
       "Sing                           59.0  \n",
       "Suicide Squad                  40.0  \n",
       "...                             ...  \n",
       "Resident Evil: Afterlife       37.0  \n",
       "Project X                      48.0  \n",
       "Hostel: Part II                46.0  \n",
       "Step Up 2: The Streets         50.0  \n",
       "Nine Lives                     11.0  \n",
       "\n",
       "[838 rows x 11 columns]"
      ]
     },
     "execution_count": 19,
     "metadata": {},
     "output_type": "execute_result"
    }
   ],
   "source": [
    "df_filmes.dropna()"
   ]
  },
  {
   "cell_type": "markdown",
   "metadata": {},
   "source": [
    "Esta operação excluiu qualquer linha com pelo menos um único valor nulo, mas retornou um novo _DataFrame_ sem alterar o original. Você também pode especificar `inplace=True` neste método.\n",
    "\n",
    "Portanto, no caso do nosso conjunto de dados, essa operação removeu 128 linhas em que `revenue_millions` é nulo e 64 linhas em que `metascore` é nulo. Obviamente, isso parece um desperdício, pois há dados perfeitamente bons nas outras colunas dessas linhas descartadas. \n",
    "\n",
    "Além de descartar linhas, pode-se também descartar colunas com valores nulos, bastando definir o argumento `axis=1`:"
   ]
  },
  {
   "cell_type": "code",
   "execution_count": 25,
   "metadata": {},
   "outputs": [
    {
     "data": {
      "text/html": [
       "<div>\n",
       "<style scoped>\n",
       "    .dataframe tbody tr th:only-of-type {\n",
       "        vertical-align: middle;\n",
       "    }\n",
       "\n",
       "    .dataframe tbody tr th {\n",
       "        vertical-align: top;\n",
       "    }\n",
       "\n",
       "    .dataframe thead th {\n",
       "        text-align: right;\n",
       "    }\n",
       "</style>\n",
       "<table border=\"1\" class=\"dataframe\">\n",
       "  <thead>\n",
       "    <tr style=\"text-align: right;\">\n",
       "      <th></th>\n",
       "      <th>rank</th>\n",
       "      <th>genero</th>\n",
       "      <th>descricao</th>\n",
       "      <th>diretor</th>\n",
       "      <th>atores</th>\n",
       "      <th>ano</th>\n",
       "      <th>duracao</th>\n",
       "      <th>classificacao</th>\n",
       "      <th>votos</th>\n",
       "    </tr>\n",
       "    <tr>\n",
       "      <th>Title</th>\n",
       "      <th></th>\n",
       "      <th></th>\n",
       "      <th></th>\n",
       "      <th></th>\n",
       "      <th></th>\n",
       "      <th></th>\n",
       "      <th></th>\n",
       "      <th></th>\n",
       "      <th></th>\n",
       "    </tr>\n",
       "  </thead>\n",
       "  <tbody>\n",
       "    <tr>\n",
       "      <th>Guardians of the Galaxy</th>\n",
       "      <td>1</td>\n",
       "      <td>Action,Adventure,Sci-Fi</td>\n",
       "      <td>A group of intergalactic criminals are forced ...</td>\n",
       "      <td>James Gunn</td>\n",
       "      <td>Chris Pratt, Vin Diesel, Bradley Cooper, Zoe S...</td>\n",
       "      <td>2014</td>\n",
       "      <td>121</td>\n",
       "      <td>8.1</td>\n",
       "      <td>757074</td>\n",
       "    </tr>\n",
       "    <tr>\n",
       "      <th>Prometheus</th>\n",
       "      <td>2</td>\n",
       "      <td>Adventure,Mystery,Sci-Fi</td>\n",
       "      <td>Following clues to the origin of mankind, a te...</td>\n",
       "      <td>Ridley Scott</td>\n",
       "      <td>Noomi Rapace, Logan Marshall-Green, Michael Fa...</td>\n",
       "      <td>2012</td>\n",
       "      <td>124</td>\n",
       "      <td>7.0</td>\n",
       "      <td>485820</td>\n",
       "    </tr>\n",
       "    <tr>\n",
       "      <th>Split</th>\n",
       "      <td>3</td>\n",
       "      <td>Horror,Thriller</td>\n",
       "      <td>Three girls are kidnapped by a man with a diag...</td>\n",
       "      <td>M. Night Shyamalan</td>\n",
       "      <td>James McAvoy, Anya Taylor-Joy, Haley Lu Richar...</td>\n",
       "      <td>2016</td>\n",
       "      <td>117</td>\n",
       "      <td>7.3</td>\n",
       "      <td>157606</td>\n",
       "    </tr>\n",
       "    <tr>\n",
       "      <th>Sing</th>\n",
       "      <td>4</td>\n",
       "      <td>Animation,Comedy,Family</td>\n",
       "      <td>In a city of humanoid animals, a hustling thea...</td>\n",
       "      <td>Christophe Lourdelet</td>\n",
       "      <td>Matthew McConaughey,Reese Witherspoon, Seth Ma...</td>\n",
       "      <td>2016</td>\n",
       "      <td>108</td>\n",
       "      <td>7.2</td>\n",
       "      <td>60545</td>\n",
       "    </tr>\n",
       "    <tr>\n",
       "      <th>Suicide Squad</th>\n",
       "      <td>5</td>\n",
       "      <td>Action,Adventure,Fantasy</td>\n",
       "      <td>A secret government agency recruits some of th...</td>\n",
       "      <td>David Ayer</td>\n",
       "      <td>Will Smith, Jared Leto, Margot Robbie, Viola D...</td>\n",
       "      <td>2016</td>\n",
       "      <td>123</td>\n",
       "      <td>6.2</td>\n",
       "      <td>393727</td>\n",
       "    </tr>\n",
       "    <tr>\n",
       "      <th>...</th>\n",
       "      <td>...</td>\n",
       "      <td>...</td>\n",
       "      <td>...</td>\n",
       "      <td>...</td>\n",
       "      <td>...</td>\n",
       "      <td>...</td>\n",
       "      <td>...</td>\n",
       "      <td>...</td>\n",
       "      <td>...</td>\n",
       "    </tr>\n",
       "    <tr>\n",
       "      <th>Secret in Their Eyes</th>\n",
       "      <td>996</td>\n",
       "      <td>Crime,Drama,Mystery</td>\n",
       "      <td>A tight-knit team of rising investigators, alo...</td>\n",
       "      <td>Billy Ray</td>\n",
       "      <td>Chiwetel Ejiofor, Nicole Kidman, Julia Roberts...</td>\n",
       "      <td>2015</td>\n",
       "      <td>111</td>\n",
       "      <td>6.2</td>\n",
       "      <td>27585</td>\n",
       "    </tr>\n",
       "    <tr>\n",
       "      <th>Hostel: Part II</th>\n",
       "      <td>997</td>\n",
       "      <td>Horror</td>\n",
       "      <td>Three American college students studying abroa...</td>\n",
       "      <td>Eli Roth</td>\n",
       "      <td>Lauren German, Heather Matarazzo, Bijou Philli...</td>\n",
       "      <td>2007</td>\n",
       "      <td>94</td>\n",
       "      <td>5.5</td>\n",
       "      <td>73152</td>\n",
       "    </tr>\n",
       "    <tr>\n",
       "      <th>Step Up 2: The Streets</th>\n",
       "      <td>998</td>\n",
       "      <td>Drama,Music,Romance</td>\n",
       "      <td>Romantic sparks occur between two dance studen...</td>\n",
       "      <td>Jon M. Chu</td>\n",
       "      <td>Robert Hoffman, Briana Evigan, Cassie Ventura,...</td>\n",
       "      <td>2008</td>\n",
       "      <td>98</td>\n",
       "      <td>6.2</td>\n",
       "      <td>70699</td>\n",
       "    </tr>\n",
       "    <tr>\n",
       "      <th>Search Party</th>\n",
       "      <td>999</td>\n",
       "      <td>Adventure,Comedy</td>\n",
       "      <td>A pair of friends embark on a mission to reuni...</td>\n",
       "      <td>Scot Armstrong</td>\n",
       "      <td>Adam Pally, T.J. Miller, Thomas Middleditch,Sh...</td>\n",
       "      <td>2014</td>\n",
       "      <td>93</td>\n",
       "      <td>5.6</td>\n",
       "      <td>4881</td>\n",
       "    </tr>\n",
       "    <tr>\n",
       "      <th>Nine Lives</th>\n",
       "      <td>1000</td>\n",
       "      <td>Comedy,Family,Fantasy</td>\n",
       "      <td>A stuffy businessman finds himself trapped ins...</td>\n",
       "      <td>Barry Sonnenfeld</td>\n",
       "      <td>Kevin Spacey, Jennifer Garner, Robbie Amell,Ch...</td>\n",
       "      <td>2016</td>\n",
       "      <td>87</td>\n",
       "      <td>5.3</td>\n",
       "      <td>12435</td>\n",
       "    </tr>\n",
       "  </tbody>\n",
       "</table>\n",
       "<p>1000 rows × 9 columns</p>\n",
       "</div>"
      ],
      "text/plain": [
       "                         rank                    genero  \\\n",
       "Title                                                     \n",
       "Guardians of the Galaxy     1   Action,Adventure,Sci-Fi   \n",
       "Prometheus                  2  Adventure,Mystery,Sci-Fi   \n",
       "Split                       3           Horror,Thriller   \n",
       "Sing                        4   Animation,Comedy,Family   \n",
       "Suicide Squad               5  Action,Adventure,Fantasy   \n",
       "...                       ...                       ...   \n",
       "Secret in Their Eyes      996       Crime,Drama,Mystery   \n",
       "Hostel: Part II           997                    Horror   \n",
       "Step Up 2: The Streets    998       Drama,Music,Romance   \n",
       "Search Party              999          Adventure,Comedy   \n",
       "Nine Lives               1000     Comedy,Family,Fantasy   \n",
       "\n",
       "                                                                 descricao  \\\n",
       "Title                                                                        \n",
       "Guardians of the Galaxy  A group of intergalactic criminals are forced ...   \n",
       "Prometheus               Following clues to the origin of mankind, a te...   \n",
       "Split                    Three girls are kidnapped by a man with a diag...   \n",
       "Sing                     In a city of humanoid animals, a hustling thea...   \n",
       "Suicide Squad            A secret government agency recruits some of th...   \n",
       "...                                                                    ...   \n",
       "Secret in Their Eyes     A tight-knit team of rising investigators, alo...   \n",
       "Hostel: Part II          Three American college students studying abroa...   \n",
       "Step Up 2: The Streets   Romantic sparks occur between two dance studen...   \n",
       "Search Party             A pair of friends embark on a mission to reuni...   \n",
       "Nine Lives               A stuffy businessman finds himself trapped ins...   \n",
       "\n",
       "                                      diretor  \\\n",
       "Title                                           \n",
       "Guardians of the Galaxy            James Gunn   \n",
       "Prometheus                       Ridley Scott   \n",
       "Split                      M. Night Shyamalan   \n",
       "Sing                     Christophe Lourdelet   \n",
       "Suicide Squad                      David Ayer   \n",
       "...                                       ...   \n",
       "Secret in Their Eyes                Billy Ray   \n",
       "Hostel: Part II                      Eli Roth   \n",
       "Step Up 2: The Streets             Jon M. Chu   \n",
       "Search Party                   Scot Armstrong   \n",
       "Nine Lives                   Barry Sonnenfeld   \n",
       "\n",
       "                                                                    atores  \\\n",
       "Title                                                                        \n",
       "Guardians of the Galaxy  Chris Pratt, Vin Diesel, Bradley Cooper, Zoe S...   \n",
       "Prometheus               Noomi Rapace, Logan Marshall-Green, Michael Fa...   \n",
       "Split                    James McAvoy, Anya Taylor-Joy, Haley Lu Richar...   \n",
       "Sing                     Matthew McConaughey,Reese Witherspoon, Seth Ma...   \n",
       "Suicide Squad            Will Smith, Jared Leto, Margot Robbie, Viola D...   \n",
       "...                                                                    ...   \n",
       "Secret in Their Eyes     Chiwetel Ejiofor, Nicole Kidman, Julia Roberts...   \n",
       "Hostel: Part II          Lauren German, Heather Matarazzo, Bijou Philli...   \n",
       "Step Up 2: The Streets   Robert Hoffman, Briana Evigan, Cassie Ventura,...   \n",
       "Search Party             Adam Pally, T.J. Miller, Thomas Middleditch,Sh...   \n",
       "Nine Lives               Kevin Spacey, Jennifer Garner, Robbie Amell,Ch...   \n",
       "\n",
       "                          ano  duracao  classificacao   votos  \n",
       "Title                                                          \n",
       "Guardians of the Galaxy  2014      121            8.1  757074  \n",
       "Prometheus               2012      124            7.0  485820  \n",
       "Split                    2016      117            7.3  157606  \n",
       "Sing                     2016      108            7.2   60545  \n",
       "Suicide Squad            2016      123            6.2  393727  \n",
       "...                       ...      ...            ...     ...  \n",
       "Secret in Their Eyes     2015      111            6.2   27585  \n",
       "Hostel: Part II          2007       94            5.5   73152  \n",
       "Step Up 2: The Streets   2008       98            6.2   70699  \n",
       "Search Party             2014       93            5.6    4881  \n",
       "Nine Lives               2016       87            5.3   12435  \n",
       "\n",
       "[1000 rows x 9 columns]"
      ]
     },
     "execution_count": 25,
     "metadata": {},
     "output_type": "execute_result"
    }
   ],
   "source": [
    "df_filmes.dropna(axis=1) \n",
    "\n",
    "# df_filmes.forma retorna (1000, 11)\n",
    "#\n",
    "# Como vimos, esta é uma tupla que representa a forma do DataFrame, ou seja, \n",
    "# 1000 linhas e 11 colunas. Observe que as linhas estão no índice zero desta tupla\n",
    "# e as colunas estão no índice um desta tupla. É por isso que 'axis=1' afeta as colunas.\n",
    "# Isso vem do pacote NumPy, e é um ótimo exemplo de por que aprender NumPy vale a pena.'''"
   ]
  },
  {
   "cell_type": "markdown",
   "metadata": {},
   "source": [
    "<h4 style=\"color:blue; background-color:#F9EDEF\">5.4.2 Imputação</h4>\n",
    "\n",
    "A imputação é uma técnica convencional da engenharia, usada para manter dados valiosos que possuem valores nulos.\n",
    "\n",
    "Podem haver casos em que descartar cada linha com um valor nulo remove um pedaço muito grande do seu conjunto de dados, então, em vez disso, podemos imputar esse nulo com outro valor, geralmente a média ou a mediana dessa coluna.\n",
    "\n",
    "Vejamos como imputar os valores ausentes na coluna `revenue_millions` que foi trocada para `receita`. Primeiro, vamos extrair essa coluna em sua própria variável:"
   ]
  },
  {
   "cell_type": "code",
   "execution_count": 30,
   "metadata": {},
   "outputs": [],
   "source": [
    "receita = df_filmes['receita']"
   ]
  },
  {
   "cell_type": "markdown",
   "metadata": {},
   "source": [
    "Usar colchetes é a maneira geral de selecionar colunas em um _DataFrame_. Se você se lembra de quando criamos _DataFrames_ do zero, as chaves do dicionário acabaram como nomes de colunas. Agora, quando selecionamos colunas de um _DataFrame_, usamos colchetes como se estivéssemos acessando um dicionário Python.\n",
    "\n",
    "A variável 'receita' agora contém uma série:"
   ]
  },
  {
   "cell_type": "code",
   "execution_count": 31,
   "metadata": {},
   "outputs": [
    {
     "data": {
      "text/plain": [
       "Title\n",
       "Guardians of the Galaxy    333.13\n",
       "Prometheus                 126.46\n",
       "Split                      138.12\n",
       "Sing                       270.32\n",
       "Suicide Squad              325.02\n",
       "                            ...  \n",
       "Secret in Their Eyes          NaN\n",
       "Hostel: Part II             17.54\n",
       "Step Up 2: The Streets      58.01\n",
       "Search Party                  NaN\n",
       "Nine Lives                  19.64\n",
       "Name: receita, Length: 1000, dtype: float64"
      ]
     },
     "execution_count": 31,
     "metadata": {},
     "output_type": "execute_result"
    }
   ],
   "source": [
    "receita"
   ]
  },
  {
   "cell_type": "markdown",
   "metadata": {},
   "source": [
    "Com formatação ligeiramente diferente de um _DataFrame_, a **Série** ainda mantém o nosso índice de títulos.\n",
    "Vamos imputar os valores ausentes de 'receita' usando o valor médio da coluna:"
   ]
  },
  {
   "cell_type": "code",
   "execution_count": 33,
   "metadata": {},
   "outputs": [
    {
     "name": "stdout",
     "output_type": "stream",
     "text": [
      "82.95637614678898\n"
     ]
    },
    {
     "data": {
      "text/plain": [
       "Title\n",
       "Guardians of the Galaxy    333.130000\n",
       "Prometheus                 126.460000\n",
       "Split                      138.120000\n",
       "Sing                       270.320000\n",
       "Suicide Squad              325.020000\n",
       "                              ...    \n",
       "Secret in Their Eyes        82.956376\n",
       "Hostel: Part II             17.540000\n",
       "Step Up 2: The Streets      58.010000\n",
       "Search Party                82.956376\n",
       "Nine Lives                  19.640000\n",
       "Name: receita, Length: 1000, dtype: float64"
      ]
     },
     "execution_count": 33,
     "metadata": {},
     "output_type": "execute_result"
    }
   ],
   "source": [
    "receita_media = receita.mean()\n",
    "print(receita_media)  # em milhões de dólares\n",
    "receita.fillna(receita_media, inplace=True)\n",
    "receita"
   ]
  },
  {
   "cell_type": "markdown",
   "metadata": {},
   "source": [
    "Obs.: Ao usar `inplace=True` afetamos o `df_filmes` original:"
   ]
  },
  {
   "cell_type": "code",
   "execution_count": 34,
   "metadata": {},
   "outputs": [
    {
     "data": {
      "text/plain": [
       "rank              0\n",
       "genero            0\n",
       "descricao         0\n",
       "diretor           0\n",
       "atores            0\n",
       "ano               0\n",
       "duracao           0\n",
       "classificacao     0\n",
       "votos             0\n",
       "receita           0\n",
       "metascore        64\n",
       "dtype: int64"
      ]
     },
     "execution_count": 34,
     "metadata": {},
     "output_type": "execute_result"
    }
   ],
   "source": [
    "df_filmes.isnull().sum()"
   ]
  },
  {
   "cell_type": "markdown",
   "metadata": {},
   "source": [
    "Imputar uma coluna inteira com o mesmo valor como este é um exemplo básico. Seria uma ideia melhor tentar uma imputação mais granular por gênero ou diretor. Por exemplo, poderíamos encontrar a média da receita gerada em cada gênero individualmente e imputar os nulos em cada gênero com a média desse gênero.\n",
    "\n",
    "Continua... (Python Pandas Tutorial: A Complete Introduction for Beginners)."
   ]
  },
  {
   "cell_type": "markdown",
   "metadata": {},
   "source": [
    "## Lista de Exercícios\n",
    "\n",
    "1. Escreva um snippet Python Pandas para obter as colunas do DataFrame (arquivo filmes_metadados.csv).\n",
    "     \n",
    "2. Escreva um snippet Pandas para obter as informações do DataFrame (arquivo filmes_metadados.csv), incluindo tipos de dados e uso de memória.\n",
    "       \n",
    "3. Escreva um snippet Pandas para obter os detalhes do terceiro filme do DataFrame (arquivo filmes_metadados.csv).\n",
    "       \n",
    "4. Escreva um snippet Pandas para contar o número de linhas e colunas do DataFrame (arquivomovies_metadados.csv).\n",
    "       \n",
    "5. Escreva um snippet Pandas para obter os detalhes do título das colunas e gêneros do DataFrame.\n",
    "       \n",
    "6. Escreva um snippet Pandas para obter os detalhes do filme com o título 'Grumpier Old Men'.\n",
    "       \n",
    "7. Escreva um snippet Pandas para obter os detalhes do quinto filme do DataFrame.\n",
    "       \n",
    "8. Escreva um snippet Pandas para criar um DataFrame menor com um subconjunto de todos os recursos.\n",
    "       \n",
    "9. Escreva um snippet Pandas para exibir as primeiras 10 linhas do DataFrame.\n",
    "\n",
    "10. Escreva um snippet Pandas para classificar o DataFrame com base em release_date.\n",
    "       \n",
    "11. Escreva um snippet Pandas para acessar esses filmes, lançados após 01/01/1995.\n",
    "       \n",
    "12. Escreva um snippet Pandas para classificar filmes em tempo de execução em ordem decrescente.\n",
    "       \n",
    "13. Escreva um snippet Pandas para obter os filmes cuja receita é superior a 2 milhões e gastou menos de 1 milhão.\n",
    "       \n",
    "14. Escreva um snippet Pandas para obter o tempo de execução mais longo e o mais curto.\n",
    "       \n",
    "15. Escreva um snippet Pandas para calcular o número de votos obtidos pelo filme 70%.\n",
    "       \n",
    "16. Escreva um snippet Pandas para exibir os filmes (título, tempo de execução) com mais de 30 minutos e menos de 360 minutos.\n",
    "       \n",
    "17. Escreva um snippet Pandas para exibir os filmes (título, número de votos) que receberam o número especificado de votos."
   ]
  },
  {
   "cell_type": "markdown",
   "metadata": {},
   "source": [
    "## Conhecendo mais...\n",
    "Real Python: [DataFrame do Pandas - Trabalhe com Dados Reais](https://realpython.com/pandas-dataframe/)"
   ]
  },
  {
   "cell_type": "markdown",
   "metadata": {},
   "source": [
    "Fontes:\n",
    "1. https://pandas.pydata.org/docs/user_guide/10min.html#min\n",
    "1. https://medium.com/horadecodar/data-science-tips-02-como-usar-loc-e-iloc-no-pandas-fab58e214d87\n",
    "1. https://towardsdatascience.com/6-lesser-known-pandas-plotting-tools-fda5adb232ef\n",
    "1. https://www.shanelynn.ie/python-pandas-read-csv-load-data-from-csv-files/\n",
    "1. https://pynative.com/python-pandas-dataframe/#h-what-is-dataframe-in-pandas\n",
    "1. https://www.listendata.com/2019/04/create-dummy-data-in-python.html#id-48ba59 \n",
    "1. https://www.w3resource.com/pandas/date_range.php\n",
    "1. https://www.learndatasci.com/tutorials/python-pandas-tutorial-complete-introduction-for-beginners/"
   ]
  },
  {
   "cell_type": "markdown",
   "metadata": {},
   "source": [
    "<p style=\"text-align:center;\">>>>>> <a href=\"http:/notebooks/index.ipynb\">Volta ao Índice... </a><<<<<"
   ]
  }
 ],
 "metadata": {
  "kernelspec": {
   "display_name": "Python 3 (ipykernel)",
   "language": "python",
   "name": "python3"
  },
  "language_info": {
   "codemirror_mode": {
    "name": "ipython",
    "version": 3
   },
   "file_extension": ".py",
   "mimetype": "text/x-python",
   "name": "python",
   "nbconvert_exporter": "python",
   "pygments_lexer": "ipython3",
   "version": "3.9.6"
  }
 },
 "nbformat": 4,
 "nbformat_minor": 2
}
