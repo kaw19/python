{
 "cells": [
  {
   "cell_type": "markdown",
   "metadata": {
    "slideshow": {
     "slide_type": "slide"
    }
   },
   "source": [
    "<p style=\"text-align:center; font-size: 0.875em; color:White; background-color:DodgerBlue;\">Prof. Cláudio Fleury - Set/2021</p>  \n",
    "\n",
    "# Introdução\n",
    "\n",
    "Existem duas versões principais da linguagem Python: **Python 2** e **Python 3**, e por sinal, são bem diferentes. Este curso usará a versão **Python 3**, por ela oferecer suporte a recursos mais recentes e pela outra versão que já não tem mais suporte desde 2022.\n",
    "\n",
    "**Python** é uma linguagem muito simples e tem uma sintaxe muito direta. A instrução mais simples em Python é a que realiza a saída de dados: `print()` - ela imprime uma linha e também inclui a mudança para uma nova linha.\n",
    "\n",
    "Para imprimir uma *string* em Python 3, basta escrever:  \n",
    "(para executar a seguinte célula de código: <font color=\"blue\" face=\"Verdana, Geneva, sans-serif\" size=\"-1\">selecione a célula e tecle </font>`[Shift]+[Enter]` ou `[Ctrl]+[Enter]`)"
   ]
  },
  {
   "cell_type": "code",
   "execution_count": 3,
   "metadata": {
    "slideshow": {
     "slide_type": "subslide"
    }
   },
   "outputs": [
    {
     "name": "stdout",
     "output_type": "stream",
     "text": [
      "Curso de Introdução à Linguagem Python 3 - Turma 202308\n"
     ]
    }
   ],
   "source": [
    "print(\"Curso de Introdução à Linguagem Python 3 - Turma 202308\")"
   ]
  },
  {
   "cell_type": "markdown",
   "metadata": {
    "slideshow": {
     "slide_type": "slide"
    }
   },
   "source": [
    "# Elementos da Linguagem Python\n",
    "\n",
    "<ul><li><b>Vocabulário</b>: nomes de variáveis e palavras reservadas</li>\n",
    "    <li><b>Sentenças</b>: padrões de sintaxe válida</li>\n",
    "    <li><b>Textos</b>: programa para resolver um problema</li>\n",
    "    <li><b>Gramática</b>: regras</ul>"
   ]
  },
  {
   "cell_type": "markdown",
   "metadata": {
    "slideshow": {
     "slide_type": "slide"
    }
   },
   "source": [
    "## 1. Palavras Reservadas\n",
    "Não podem ser usadas como identificadores de variáveis, funções ou classes.\n",
    "<img src=\"img/palavras_reservadas.png\" alt=\"Relação de Palavras reservadas na Ling. Python\" width=350px>  \n",
    "\n",
    "| Palavra-chave | Descrição\n",
    "|:---:|:---\n",
    "|and| Um operador lógico\n",
    "|as| Para criar um apelido (*alias*)\n",
    "|assert| Para depuração (*debugging*)\n",
    "|break| Para interromper um laço de repetição\n",
    "|class| Para definir uma classe\n",
    "|continue| Para continuar na próxima iteração de um laço\n",
    "|def| Para definir uma função do usuário\n",
    "|del| Para excluir um objeto\n",
    "|elif| Usado em declarações condicionais (**senão se**)\n",
    "|else| Usado em declarações condicionais (**senão**)\n",
    "|except| Usado no tratamento de exceções (o que fazer quando ocorre uma exceção)\n",
    "|False| Valor booleano, resultado de operações de comparação\n",
    "|finally| Usado em exceções (bloco de cód. sempre executado)\n",
    "|for| Para criar um laço `for`\n",
    "|from| Para importar partes específicas de um módulo\n",
    "|global| Para declarar uma variável global\n",
    "|if| Para fazer uma declaração condicional\n",
    "|import| Para importar um módulo\n",
    "|in| Para verificar se um valor está presente em uma lista, tupla, etc.\n",
    "|is| Para testar se duas variáveis são iguais\n",
    "|lambda| Para criar uma função anônima\n",
    "|None| Representa um valor nulo\n",
    "|nonlocal| Para declarar uma variável não local\n",
    "|not| Um operador lógico\n",
    "|or| Um operador lógico\n",
    "|pass| Uma declaração nula (declaração que não faz nada)\n",
    "|raise| Para levantar (gerar) uma exceção\n",
    "|return| Para sair de uma função e retornar um valor\n",
    "|True| Valor booleano, resultado de operações de comparação\n",
    "|try| Para fazer uma tentativa... com tratamento de exceção\n",
    "|while| Para criar um laço com teste no início\n",
    "|with| Usado para simplificar o tratamento de exceções\n",
    "|yield| Para finalizar uma função, retorna um gerador"
   ]
  },
  {
   "cell_type": "code",
   "execution_count": 4,
   "metadata": {},
   "outputs": [
    {
     "name": "stdout",
     "output_type": "stream",
     "text": [
      "['False', 'None', 'True', '__peg_parser__', 'and', 'as', 'assert', 'async', 'await', 'break', 'class', 'continue', 'def', 'del', 'elif', 'else', 'except', 'finally', 'for', 'from', 'global', 'if', 'import', 'in', 'is', 'lambda', 'nonlocal', 'not', 'or', 'pass', 'raise', 'return', 'try', 'while', 'with', 'yield'] 36\n"
     ]
    }
   ],
   "source": [
    "import keyword\n",
    "print(keyword.kwlist, len(keyword.kwlist))"
   ]
  },
  {
   "cell_type": "markdown",
   "metadata": {
    "slideshow": {
     "slide_type": "slide"
    }
   },
   "source": [
    "## 2. Sentenças\n",
    "\n",
    "Podem ser formadas a partir do uso dos elementos da linguagem, tais como: variáveis, operadores, constantes, palavras reservadas, funções, classes etc.\n",
    "\n",
    "```python\n",
    "x = 2                # atribuição de uma constante numérica à variável 'x'\n",
    "x = x + 100          # atribuição de expressão aritmética à variável 'x'\n",
    "print(x)             # função de apresentação de valor da variável 'x' (saída de dados)\n",
    "```\n",
    "Essas sentenças serão interpretadas pela linguagem na ordem em que são apresentadas, ou seja, de cima para baixo, uma a uma.\n",
    "\n",
    ">* A primeira sentença, **`x = 2`**, armazena a informação à direita do operador de atribuição `=`, nesse caso a constante numérica **`2`**, à variável chamada **`x`**.  \n",
    ">* A segunda sentença, **`x = x + 100`**, armazena o resultado da expressão à direita do operador de atribuição **`=`**, nesse caso o valor **`102`**, à variável chamada **`x`**.  \n",
    ">* E a terceira sentença **`print(x)`** mostra o valor corrente da variável **`x`**, nesse caso o valor **`102`**, na parte inferior da mesma célula do Jupyter Notebook com essa sequência de sentenças (*script*).  \n"
   ]
  },
  {
   "cell_type": "code",
   "execution_count": 6,
   "metadata": {},
   "outputs": [
    {
     "name": "stdout",
     "output_type": "stream",
     "text": [
      "102\n"
     ]
    }
   ],
   "source": [
    "x = 2                # atribuição de uma constante numérica à variável 'x'\n",
    "x = x + 100          # atribuição de expressão aritmética à variável 'x'\n",
    "print(x)             # função de apresentação de valor da variável 'x' (saída de dados)"
   ]
  },
  {
   "cell_type": "markdown",
   "metadata": {
    "slideshow": {
     "slide_type": "slide"
    }
   },
   "source": [
    "## 3. Textos (*Scripts* Python)\n",
    "* Execuções interativas (usando o interpretador padrão) são boas para experimentos e programas de 3 a 4 linhas.\n",
    "* A maioria dos programas efetivos possuem mais de 4 linhas, e geralmente digitamos os comandos em um arquivo (*script*) e dizemos ao Python para executar os comandos existentes naquele arquivo. De certa forma, estamos dando um roteiro (*script*) a ser seguido pelo interpretador Python.\n",
    "* Por convenção, usamos `.py` como extensão dos arquivos com roteiros Python.\n",
    "\n",
    "### Interativo  X  Script\n",
    "No modo **interativo** o usuário digita as sentenças Python diretamente na linha de comandos, logo depois do *prompt* **`>>>`**, e finaliza a sentença com um [Enter]. Na sequência o interpretador analisa a sentença, e se estiver correta, ele apresenta o resultado do comando.\n",
    "\n",
    "No modo ***script*** o interpretador Python executará, um a um, os comandos existentes no arquivo informado pelo usuário como *script*."
   ]
  },
  {
   "cell_type": "code",
   "execution_count": 7,
   "metadata": {
    "slideshow": {
     "slide_type": "subslide"
    }
   },
   "outputs": [
    {
     "name": "stdout",
     "output_type": "stream",
     "text": [
      "400\n",
      "-46.88\n"
     ]
    }
   ],
   "source": [
    "# Script 1\n",
    "# Função criada pelo usuário\n",
    "def dobro(x):\n",
    "    print(x * 2)\n",
    "\n",
    "dobro(200)\n",
    "dobro(-23.44)"
   ]
  },
  {
   "cell_type": "code",
   "execution_count": 8,
   "metadata": {
    "slideshow": {
     "slide_type": "subslide"
    }
   },
   "outputs": [
    {
     "name": "stdout",
     "output_type": "stream",
     "text": [
      "Arquivo: curso.txt\n",
      "Palavra mais frequente 'Google', com 4 ocorrências.\n"
     ]
    }
   ],
   "source": [
    "# Script 2\n",
    "# Mostra a palavra e a qtde de ocorrências em um texto gravado em arquivo (.txt)\n",
    "nomearq = input(\"Arquivo: \")\n",
    "arq = open(nomearq)\n",
    "contagens = {}                 # dicionário vazio\n",
    "for linha in arq:\n",
    "    palavras = linha.split()\n",
    "    for palavra in palavras:\n",
    "        contagens[palavra] = contagens.get(palavra,0) + 1\n",
    "contmaior = None\n",
    "palavfreq = None\n",
    "for palavra, contagem in contagens.items():\n",
    "    if contmaior is None or contagem > contmaior:\n",
    "        palavfreq = palavra\n",
    "        contmaior = contagem\n",
    "print(f\"Palavra mais frequente '{palavfreq}', com {contmaior} ocorrências.\")"
   ]
  },
  {
   "cell_type": "code",
   "execution_count": 8,
   "metadata": {
    "scrolled": true,
    "slideshow": {
     "slide_type": "subslide"
    }
   },
   "outputs": [
    {
     "name": "stdout",
     "output_type": "stream",
     "text": [
      "{'Nate,': 1, 'da': 1, 'equipe': 1, 'do': 2, 'Google': 4, 'Colab,': 1, 'compartilha': 1, 'recursos': 1, 'menos': 1, 'conhecidos': 1, 'mas': 1, 'poderosos': 1, 'Colaboratory,': 1, 'que': 1, 'lhe': 1, 'permitem': 1, 'explorar': 1, 'dinamicamente': 1, 'o': 2, 'Pandas': 1, 'DataFrames,': 1, 'ver': 1, 'seu': 2, 'histÃ³rico': 1, 'de': 1, 'comandos': 1, 'executados': 1, 'no': 1, 'notebook': 1, 'e': 1, 'impulsionar': 1, 'sua': 1, 'produtividade.': 1, 'Ã©': 2, 'um': 2, 'bom': 2, 'companheiro,': 2, 'ninguÃ©m': 1, 'pode': 1, 'negar.': 1, 'comandos,': 5}\n"
     ]
    }
   ],
   "source": [
    "print(contagens)"
   ]
  },
  {
   "cell_type": "markdown",
   "metadata": {
    "slideshow": {
     "slide_type": "slide"
    }
   },
   "source": [
    "### Estruturas de Controle do Fluxo de Execução do *Script*\n",
    "\n",
    "* Sequencial\n",
    "```python\n",
    "x = 2\n",
    "print(x)\n",
    "x = x + 100\n",
    "print(x)\n",
    "```\n",
    "\n",
    "* Condicional (Alternativa)\n",
    "```python\n",
    "x = 12\n",
    "if x < 10:\n",
    "     print(\"Menor que 10\")\n",
    "if x > 20:\n",
    "     print(\"Maior que 20\")\n",
    "print(\"Fim.\")\n",
    "```\n",
    "\n",
    "* Repetição (Laço)\n",
    "```python\n",
    "n = 0\n",
    "while n < 10:\n",
    "     print(n+1)\n",
    "     n = n + 1\n",
    "print(\"Fim.\")\n",
    "```"
   ]
  },
  {
   "cell_type": "markdown",
   "metadata": {
    "slideshow": {
     "slide_type": "slide"
    }
   },
   "source": [
    "## 4. Regras\n",
    "### 4.1 Recuo (Indentação)\n",
    "A ling. Python usa **indentação** para delimitar blocos de comandos, em vez de chaves, como na ling.s C/C++. Pode-se usar tabulações ou espaços em branco, mas o recuo padrão determina quatro espaços. Por exemplo:"
   ]
  },
  {
   "cell_type": "code",
   "execution_count": 7,
   "metadata": {
    "slideshow": {
     "slide_type": "subslide"
    }
   },
   "outputs": [
    {
     "name": "stdout",
     "output_type": "stream",
     "text": [
      "x é 1.\n"
     ]
    }
   ],
   "source": [
    "x = 1\n",
    "if x == 1:\n",
    "    # recuo de 4 espaços em branco\n",
    "    print(\"x é 1.\")\n",
    "y = 33"
   ]
  },
  {
   "cell_type": "markdown",
   "metadata": {
    "slideshow": {
     "slide_type": "slide"
    }
   },
   "source": [
    "### 4.2 Exercício\n",
    "Use a função `print()` para imprimir **'Olá, Mundo!'**."
   ]
  },
  {
   "cell_type": "code",
   "execution_count": 5,
   "metadata": {
    "slideshow": {
     "slide_type": "subslide"
    }
   },
   "outputs": [
    {
     "name": "stdout",
     "output_type": "stream",
     "text": [
      "Olá, Mundo!\n"
     ]
    }
   ],
   "source": [
    "print(\"Olá, Mundo!\")"
   ]
  },
  {
   "cell_type": "markdown",
   "metadata": {},
   "source": [
    "## 5. Tipos de Dados\n",
    "Tipos de dados são a classificação ou categorização de itens de conhecimento. Eles representam o tipo útil que informa quais operações podem ser executadas em dados específicos. Como tudo na programação Python é um objeto, os **tipos de dados** são definidos por **classes** e as variáveis **objetos** (são instâncias) dessas classes.\n",
    "\n",
    "Python define o **tipo de dados** de uma variável com base no valor que é atribuído a ela. O interpretador Python altera dinamicamente o tipo da variável se um novo valor, de diferente tipo de dado, for atribuído à variável.\n",
    "\n",
    "\n",
    "\n",
    "### 5.1 Números  \n",
    "\n",
    "| Tipo | Formato | Descrição |  \n",
    "| :--- | :---: | :--- |  \n",
    "| int | a = 10 | Inteiro com sinal, também podem ser representados em octal e hexadecimal |  \n",
    "| float | a = 45.67 | (.) Valores reais de ponto flutuante |  \n",
    "| complex | a = 3.14J | (J) Contém um número inteiro no intervalo de 0 a 255.|  \n",
    "\n",
    "Python faz a conversão de variáveis automaticamente. Pode-se usar funções de conversão do Python: `int(), long(), float(), complex()` para converter dados de um tipo pra outro. Além disso, a função `type()` retorna informações sobre como os dados são armazenados em uma variável."
   ]
  },
  {
   "cell_type": "code",
   "execution_count": 4,
   "metadata": {},
   "outputs": [
    {
     "name": "stdout",
     "output_type": "stream",
     "text": [
      "<class 'str'>\n",
      "<class 'int'>\n",
      "<class 'float'>\n"
     ]
    }
   ],
   "source": [
    "mensagem = 'Bom dia'\n",
    "n = 85\n",
    "pi = 3.14159\n",
    "\n",
    "print(type(mensagem))           # Isso retornará uma string\n",
    "print(type(n))                  # Isso retornará um inteiro\n",
    "print(type(pi))                 # Isso retornará um real"
   ]
  },
  {
   "cell_type": "markdown",
   "metadata": {},
   "source": [
    "### 5.2 Strings\n",
    "Uma string é uma sequência ordenada de caracteres. Strings são uma espécie de arranjo (_array_). Como muitas outras linguagens de programação, strings em Python são **vetores de bytes** que representam caracteres **Unicode**. No entanto, o Python não possui um tipo de dados específico para caractere: um único caractere é simplesmente uma string de comprimento unitário.\n",
    "\n",
    "Cria-se uma **string** colocando caracteres delimitados por aspas (simples: ', duplas: \" ou triplas: '''). Somente as strings entre aspas triplas ''' continuam automaticamente no final da instrução de linha."
   ]
  },
  {
   "cell_type": "code",
   "execution_count": 8,
   "metadata": {},
   "outputs": [
    {
     "name": "stdout",
     "output_type": "stream",
     "text": [
      "João Silva\n",
      "Esta é uma string que se estenderá por várias linhas. Usando caracteres de nova linha\n",
      "e sem espaços para as próximas linhas. O final das linhas dentro desta string também\n",
      "conta como uma nova linha quando impressa\n"
     ]
    }
   ],
   "source": [
    "prenome = 'joão'\n",
    "sobrenome = 'silva'\n",
    "mensagem = '''Esta é uma string que se estenderá por várias linhas. Usando caracteres de nova linha\n",
    "e sem espaços para as próximas linhas. O final das linhas dentro desta string também\n",
    "conta como uma nova linha quando impressa'''\n",
    "print(prenome.title(), sobrenome.title())\n",
    "print(mensagem)"
   ]
  },
  {
   "cell_type": "markdown",
   "metadata": {},
   "source": [
    "No Python temos dois tipos de strings: **Unicode** e **bytestrings**, ou seja, strings são armazenadas como caracteres ou como bytes, respectivamente. \n",
    "\n",
    "Uma **bytestring**, também chamada de **string normal**, sempre é codificadas com __UTF-8__ e não carrega qualquer informação com ela sobre sua codificação. (Por esta razão, o __Django__ assume que toda **bytestring** é codificado com **UTF-8**. Na maioria dos casos quando o __Django__ está lidando com strings, ele as converterá para __Unicode__ antes de mais nada. Então, como uma regra geral, se você passa uma **bytestring**, esteja preparado para receber uma string __Unicode__ de volta no resultado).\n",
    "\n",
    "Se seu código usa somente dados **ASCII**, então ele é seguro para usar **strings normais**, passando-as à vontade, porque o **ASCII** é um sub-conjunto do **UTF-8**.\n",
    "\n",
    "Páginas de códigos usuais para língua portuguesa usada no Brasil: 850, 1252, 65001.\n",
    "<img src=\"img/code_page.png\" width=500)>"
   ]
  },
  {
   "cell_type": "markdown",
   "metadata": {},
   "source": [
    "Strings armazenadas como caracteres são representadas como **Unicode** em Python 2 ou **str** em Python 3. A especificação de uma string Unicode pode ser feita adicionando 'u' antes da string. Por exemplo, `u'hello'` será uma string Unicode (Python 2).\n",
    "\n",
    "Strings armazenadas como bytes são representadas como **str** em Python 2 ou **bytes** em Python 3. A especificação de uma string de bytes pode ser feita adicionando 'b' antes da string. Por exemplo, `b'hello'` será uma string de bytes.\n",
    "\n",
    "Formato de texto `UTF-8` (_8-bit Unicode Transformation Format_) é um tipo de codificação binária de comprimento variável (1 a 4 bytes/caracter) que representa qualquer caractere universal padrão do Unicode, sendo também compatível com o ASCII (128 caracteres: Unicode U+0000 a U+007F). São necessários dois bytes para caracteres Latinos com diacríticos[^1], assim como para caracteres dos alfabetos Grego, Cirílico, Armênio, Hebraico, Sírio e Thaana (Unicode U+0080 a U+07FF).  \n",
    "\n",
    "Quatro bytes pode parecer muito para um caractere (*code point*), mas muito raramente são utilizados. Além disso, **UTF-16** (a principal alternativa ao **UTF-8**) necessita também de quatro bytes para os *code points*. A definição de qual dos dois é mais eficiente (UTF-8 ou UTF-16) depende da variedade de *code points* usados. \n",
    "\n",
    "Um caractere com um _code point_ abaixo de `U+0080` é codificado com apenas um byte que contém o seu _code point_, os quais correspondem exatamente aos 128 caracteres do ASCII de 7 bits.\n",
    "\n",
    "<hr>\n",
    "[^1]: Um diacrítico é um sinal gráfico que se coloca sobre, sob ou através de uma letra para alterar a sua fonética, isto é, o seu som, ou para marcar qualquer outra característica linguística."
   ]
  },
  {
   "cell_type": "code",
   "execution_count": 15,
   "metadata": {},
   "outputs": [
    {
     "data": {
      "text/plain": [
       "(str, bytes, str)"
      ]
     },
     "execution_count": 15,
     "metadata": {},
     "output_type": "execute_result"
    }
   ],
   "source": [
    "type('IFG'), type(b'IFG'), type(u'IFG')"
   ]
  },
  {
   "cell_type": "markdown",
   "metadata": {},
   "source": [
    "### 5.3 Listas\n",
    "**Lista** é um tipo de variável muito útil no armazenamento de uma série de itens de dados delimitados por colchetes, [ ], e separados por vírgula(s). "
   ]
  },
  {
   "cell_type": "code",
   "execution_count": 9,
   "metadata": {},
   "outputs": [],
   "source": [
    "A = [ ]                 # variável do tipo lista, em branco\n",
    "B = [1, 23, 45, 67]     # variável do tipo lista de 4 números\n",
    "C = [2, 4, 'joão']      # uma lista podem conter diferentes tipos de dados"
   ]
  },
  {
   "cell_type": "markdown",
   "metadata": {},
   "source": [
    "### 5.4 Tuplas\n",
    "Tupla é um agrupamento de itens, tal como numa lista, e são manipuladas de maneira semelhante. Mas, as tuplas são fixas em tamanho quando são atribuídas. Em Python, são consideradas imutáveis em comparação a uma lista, que é mutável em tamanho e itens. Tuplas são delimitadas por parênteses, ( )."
   ]
  },
  {
   "cell_type": "code",
   "execution_count": 10,
   "metadata": {},
   "outputs": [],
   "source": [
    "grupo = ('jesuíno', 'gafanhoto', 'felizberto', 'florinda')"
   ]
  },
  {
   "cell_type": "markdown",
   "metadata": {},
   "source": [
    "Tuplas são mais rápidas que listas. Se você está definindo um conjunto constante de valores e tudo o que você vai fazer com ele é percorrê-lo (iterar por ele), então use uma tupla em vez de uma lista.\n",
    "\n",
    "### 5.5 Dicionários\n",
    "Dicionários em Python são listas de pares **Chave:Valor**. Este é um tipo de dados muito poderoso para armazenar informações relacionadas, que podem ser associadas por meio de chaves. A principal operação de um dicionário é extrair um valor baseado no nome da chave. \n",
    "\n",
    "Ao contrário das listas, onde são usados números de índice para se acessar um item da lista, os dicionários permitem o uso de uma chave para acessar seus membros. Os dicionários também podem ser usados para classificar, iterar e comparar dados.\n",
    "\n",
    "Os dicionários são delimitados por chaves, { }, com pares separados por uma vírgula (,) e os valores de chave separados por dois pontos (:). Em dicionários a **Chave** deve ser única. Exemplo de como usar dicionários:"
   ]
  },
  {
   "cell_type": "code",
   "execution_count": 11,
   "metadata": {},
   "outputs": [
    {
     "name": "stdout",
     "output_type": "stream",
     "text": [
      "202\n",
      "dict_keys(['joão', 'maria', 'josé'])\n",
      "True\n"
     ]
    }
   ],
   "source": [
    "quartos = {'joão': 405, 'maria': 202}\n",
    "quartos['joão'] = 605      # defina o valor associado à chave 'joão' para 605\n",
    "print (quartos['maria']) \n",
    "quartos['josé'] = 305      # acrescenta uma novo par: chave 'josé' com o valor 305\n",
    "print (quartos.keys())     # imprime uma lista das chaves no dicionário\n",
    "print('josé' in quartos)   # testa para ver se 'josé' está no dicionário --> True."
   ]
  },
  {
   "cell_type": "markdown",
   "metadata": {
    "slideshow": {
     "slide_type": "slide"
    }
   },
   "source": [
    "# Fim.\n",
    "<p style=\"text-align:right;\"><a href='../Índice.ipynb' target=\"_self\">Volta ao Índice</a></p>"
   ]
  },
  {
   "cell_type": "markdown",
   "metadata": {
    "slideshow": {
     "slide_type": "notes"
    }
   },
   "source": [
    "## Referências \n",
    "\n",
    "1. [Python para Todos (pdf)](http://do1.dr-chuck.com/pythonlearn/PT_br/pythonlearn.pdf), 2020, em português.  \n",
    "2. [Python Data Types (site)](https://developer.rhino3d.com/guides/rhinopython/python-datatypes/)\n",
    "\n",
    "Obs.: Para iniciar a extensão **nbextension** no browser sempre que um novo notebook for carregado:\n",
    "\n",
    "          $ jupyter nbextension enable rise --py --sys-prefix"
   ]
  }
 ],
 "metadata": {
  "celltoolbar": "Slideshow",
  "kernelspec": {
   "display_name": "Python 3 (ipykernel)",
   "language": "python",
   "name": "python3"
  },
  "language_info": {
   "codemirror_mode": {
    "name": "ipython",
    "version": 3
   },
   "file_extension": ".py",
   "mimetype": "text/x-python",
   "name": "python",
   "nbconvert_exporter": "python",
   "pygments_lexer": "ipython3",
   "version": "3.9.6"
  }
 },
 "nbformat": 4,
 "nbformat_minor": 4
}
