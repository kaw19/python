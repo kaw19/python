{
 "cells": [
  {
   "cell_type": "markdown",
   "metadata": {
    "slideshow": {
     "slide_type": "slide"
    },
    "tags": [
     "0."
    ]
   },
   "source": [
    "<figure>\n",
    "  <img src='img/pandas.png' alt='logomarca do pandas' height=\"200px\">\n",
    "    <figcaption style=\"text-align:center;font-family:'Times New Roman';color:blue\">Por: <b>Cláudio Fleury</b>, Dez/20</figcaption>\n",
    "</figure>\n",
    "\n",
    "<h2 style=\"color:blue; background-color:#F3F2F9\">Apresentação</h2>\n",
    "\n",
    "O **Pandas** é um pacote direcionado à análise de dados rápida, poderosa, flexível e de fácil uso, construída sobre o **NumPy**, e que amplia os recursos dele. **Pandas** significa dados em painel ou tabela. Ele adota o estilo idiomático de computação baseada em arranjos do **NumPy**. Embora o **Pandas** adote o idioma **NumPy**, a maior diferença entre eles é que o **Pandas** foi projetado para trabalhar com dados tabulares e heterogêneos, enquanto o **NumPy** trabalhe com dados em matriz numérica homogênea.\n",
    "\n",
    "O **Pandas** é um pacote Python (biblioteca) que fornece estruturas de dados rápidas, flexíveis e expressivas, projetadas para tornar o trabalho com dados **relacionais** ou **rotulados** fácil e intuitivo. Tem por objetivo tornar-se o alicerce em Python na análise prática de dados do mundo real. \n",
    "\n",
    "O pacote **Pandas** é adequado para a análise de muitos tipos diferentes de dados: \n",
    "- Dados tabulares com colunas de tipos heterogêneos, como numa tabela SQL ou planilha do Excel.   \n",
    "- Dados de séries temporais ordenados e não ordenados (não necessariamente de frequência fixa).  \n",
    "- Dados de matriz arbitrária (homogeneamente digitados ou heterogêneos) com rótulos de linha e coluna.  \n",
    "- Qualquer outra forma de conjuntos de dados observacionais/estatísticos. Os dados realmente não precisam ser rotulados para serem colocados numa estrutura de dados **Pandas**.  \n",
    "\n",
    "Este *notebook* tem por objetivos: \n",
    "- Apresentar as estruturas de dados do **Pandas**: <font style=\"background-color:yellow;\"> _DataFrame_  e *Series*</font>. \n",
    "- Acessar e manipular dados via _DataFrame_ e _Series_. \n",
    "- Importar dados CSV (*Common Separated Values*) para um _DataFrame_. \n",
    "- Reindexar um _DataFrame_ para misturar dados.\n",
    "\n",
    "Documentação Oficial do [Pandas](https://pandas.pydata.org/pandas-docs/stable/)."
   ]
  },
  {
   "cell_type": "markdown",
   "metadata": {},
   "source": [
    "<h2 style=\"color:blue; background-color:#F3F2F9\">Instalação do Pandas</h2>\n",
    "\n",
    "O pacote **Pandas** faz parte da distribuição Anaconda e pode ser instalado com o Anaconda ou com o Miniconda:   \n",
    "\n",
    "```conda install pandas```\n",
    "\n",
    "O pacote **Pandas** também pode ser instalado via **pip** do [PyPI](https://pypi.org) (_Python Package Index_ - é um repositório de softwares para a linguagem de programação Python).\n",
    "\n",
    "```pip install pandas```\n",
    "\n",
    "<h2 style=\"color:blue; background-color:#F3F2F9\">Importando o Pacote Pandas</h2>\n",
    "\n",
    "Geralmente, a biblioteca **Pandas** é importada com apelido **pd**, permitindo o acesso às funções, classes e subpacotes na biblioteca **Pandas** usando `pd.namespace`.\n",
    "Exemplo: `pd.Series(), pd.DataFrame(), pd.DataFrame.index`."
   ]
  },
  {
   "cell_type": "code",
   "execution_count": 2,
   "metadata": {
    "slideshow": {
     "slide_type": "slide"
    },
    "tags": [
     "0."
    ]
   },
   "outputs": [
    {
     "name": "stdout",
     "output_type": "stream",
     "text": [
      "Versões: Pandas - 1.5.0, NumPy - 1.21.2\n"
     ]
    }
   ],
   "source": [
    "import pandas as pd\n",
    "import numpy  as np\n",
    "print(f\"Versões: Pandas - {pd.__version__}, NumPy - {np.__version__}\")"
   ]
  },
  {
   "cell_type": "markdown",
   "metadata": {},
   "source": [
    "<h1 style=\"color:blue; background-color:#E0DBF9; text-align:center\">1. Introdução</h1>\n",
    "<h2 style=\"color:blue; background-color:#F3F2F9\">1.0 Objetos do Pandas</h2>  \n",
    "\n",
    "Existem três estruturas de dados principais em **Pandas**:\n",
    "* **Series** (1D): objeto projetado para representar estruturas de dados unidimensionais, semelhantes a um vetor, mas com alguns recursos adicionais. Componentes de uma série (dois vetores): valores e índice.\n",
    "* **DataFrame** (2D):\n",
    "* **Panel** (3D):\n",
    "\n",
    "Uma **Serie** é um arranjo rotulado unidimensional capaz de armazenar dados de qualquer tipo (*integer, string, float, objetos python,* etc.). Os rótulos de eixo são chamados coletivamente de índice. Em termos de estrutura de dados **Pandas**, as **Series** representam uma única coluna na memória, que é independente ou pertencente a um **DataFrame Pandas**.\n",
    "\n",
    "Um **DataFrame** é uma estrutura de dados que organiza os dados em uma tabela bidimensional (linhas e colunas), como uma planilha. Os dataframes são as estruturas de dados mais comumente usadas na análise de dados moderna porque são uma maneira flexível e intuitiva de se armazenar e trabalhar com dados.\n",
    "\n",
    "As estruturas de dados de pandas mais usadas são as **Series** e o **DataFrame**. Resumindo, uma série é semelhante a uma única coluna de dados, um *dataframe* é semelhante a uma planilha com linhas e colunas, enquanto um **Panel** pode ter muitos *dataframes*.\n",
    "<figure>\n",
    "  <img src='img/objetos_pandas.png' alt='logomarca do pandas' height=\"200px\">\n",
    "    <figcaption style=\"text-align:center;font-family:'Times New Roman';color:blue\">Objetos Pandas</figcaption>\n",
    "</figure>\n",
    "\n",
    "<h2 style=\"color:blue; background-color:#F3F2F9\">1.1 Criando Objetos</h2>\n",
    "\n",
    "## Series\n",
    "Comando para criar uma estrutura de dados **Series**:\n",
    "```python\n",
    "pd.Series(data=..., index=..., dytpe=..., name=...)\n",
    "```\n",
    "Para criar uma série, chamamos o construtor da classe `Series()` e passamos um argumento contendo os dados a serem incluídos nela, podendo ser uma das opções: um `ndarray` unidimensional, uma lista, um dicionário ou um valor escalar. \n",
    "\n",
    "Se um índice não for especificado, o índice padrão `[0,… n-1]` será criado, onde `n` é o comprimento dos dados. Uma série pode ser criada a partir de uma variedade de fontes, conforme mostrado a seguir.\n",
    "\n",
    "### Série a partir de Lista\n",
    "Criando uma Série (***Series***) a partir de uma <font style=\"background:yellow\">lista de valores</font>, com os **Pandas** criando um índice com valores inteiro (padrão):"
   ]
  },
  {
   "cell_type": "code",
   "execution_count": 4,
   "metadata": {},
   "outputs": [
    {
     "data": {
      "text/plain": [
       "0    1.0\n",
       "1    3.0\n",
       "2    5.0\n",
       "3    NaN\n",
       "4    6.0\n",
       "5    8.0\n",
       "6   -inf\n",
       "dtype: float64"
      ]
     },
     "execution_count": 4,
     "metadata": {},
     "output_type": "execute_result"
    }
   ],
   "source": [
    "s1 = pd.Series([1, 3, 5, np.nan, 6, 8, -np.inf])\n",
    "s1"
   ]
  },
  {
   "cell_type": "markdown",
   "metadata": {},
   "source": [
    "### <i>Dataframe</i> a partir de Matriz\n",
    "Criando um Quadro de Dados (***DataFrame***) a partir de um <font style=\"background:yellow\">_array_ NumPy</font>, com um índice temporal (datas) e colunas rotuladas:"
   ]
  },
  {
   "cell_type": "code",
   "execution_count": 5,
   "metadata": {},
   "outputs": [
    {
     "name": "stdout",
     "output_type": "stream",
     "text": [
      "DatetimeIndex(['2022-05-19', '2022-05-20', '2022-05-21', '2022-05-22',\n",
      "               '2022-05-23', '2022-05-24'],\n",
      "              dtype='datetime64[ns]', freq='D')\n",
      "\n",
      "                    A         B         C         D\n",
      "2022-05-19 -0.127538  0.235869  0.994635 -0.306415\n",
      "2022-05-20 -1.031509  0.851076  0.802743 -0.429228\n",
      "2022-05-21  0.625001 -0.115407  0.474596 -0.061233\n",
      "2022-05-22 -0.391846  0.716686 -1.415814 -0.140749\n",
      "2022-05-23 -0.614443  0.135536 -0.863127 -0.293491\n",
      "2022-05-24 -0.243020  0.222601  1.023760 -0.114050\n"
     ]
    },
    {
     "data": {
      "text/html": [
       "<div>\n",
       "<style scoped>\n",
       "    .dataframe tbody tr th:only-of-type {\n",
       "        vertical-align: middle;\n",
       "    }\n",
       "\n",
       "    .dataframe tbody tr th {\n",
       "        vertical-align: top;\n",
       "    }\n",
       "\n",
       "    .dataframe thead th {\n",
       "        text-align: right;\n",
       "    }\n",
       "</style>\n",
       "<table border=\"1\" class=\"dataframe\">\n",
       "  <thead>\n",
       "    <tr style=\"text-align: right;\">\n",
       "      <th></th>\n",
       "      <th>A</th>\n",
       "      <th>B</th>\n",
       "      <th>C</th>\n",
       "      <th>D</th>\n",
       "    </tr>\n",
       "  </thead>\n",
       "  <tbody>\n",
       "    <tr>\n",
       "      <th>2022-05-19</th>\n",
       "      <td>-0.127538</td>\n",
       "      <td>0.235869</td>\n",
       "      <td>0.994635</td>\n",
       "      <td>-0.306415</td>\n",
       "    </tr>\n",
       "    <tr>\n",
       "      <th>2022-05-20</th>\n",
       "      <td>-1.031509</td>\n",
       "      <td>0.851076</td>\n",
       "      <td>0.802743</td>\n",
       "      <td>-0.429228</td>\n",
       "    </tr>\n",
       "    <tr>\n",
       "      <th>2022-05-21</th>\n",
       "      <td>0.625001</td>\n",
       "      <td>-0.115407</td>\n",
       "      <td>0.474596</td>\n",
       "      <td>-0.061233</td>\n",
       "    </tr>\n",
       "    <tr>\n",
       "      <th>2022-05-22</th>\n",
       "      <td>-0.391846</td>\n",
       "      <td>0.716686</td>\n",
       "      <td>-1.415814</td>\n",
       "      <td>-0.140749</td>\n",
       "    </tr>\n",
       "    <tr>\n",
       "      <th>2022-05-23</th>\n",
       "      <td>-0.614443</td>\n",
       "      <td>0.135536</td>\n",
       "      <td>-0.863127</td>\n",
       "      <td>-0.293491</td>\n",
       "    </tr>\n",
       "    <tr>\n",
       "      <th>2022-05-24</th>\n",
       "      <td>-0.243020</td>\n",
       "      <td>0.222601</td>\n",
       "      <td>1.023760</td>\n",
       "      <td>-0.114050</td>\n",
       "    </tr>\n",
       "  </tbody>\n",
       "</table>\n",
       "</div>"
      ],
      "text/plain": [
       "                   A         B         C         D\n",
       "2022-05-19 -0.127538  0.235869  0.994635 -0.306415\n",
       "2022-05-20 -1.031509  0.851076  0.802743 -0.429228\n",
       "2022-05-21  0.625001 -0.115407  0.474596 -0.061233\n",
       "2022-05-22 -0.391846  0.716686 -1.415814 -0.140749\n",
       "2022-05-23 -0.614443  0.135536 -0.863127 -0.293491\n",
       "2022-05-24 -0.243020  0.222601  1.023760 -0.114050"
      ]
     },
     "execution_count": 5,
     "metadata": {},
     "output_type": "execute_result"
    }
   ],
   "source": [
    "N = 6                                          # quantidade de linhas no dataframe\n",
    "datas = pd.date_range(\"20220519\", periods=N)   # índice para o dataframe, qtde de períodos: N (6)\n",
    "print(datas)\n",
    "df1 = pd.DataFrame(np.random.randn(N, 4), index=datas, columns=list(\"ABCD\"))  # dataframe\n",
    "print('\\n',df1)\n",
    "df1                                            # mostra o dataframe em forma de tabela formatada"
   ]
  },
  {
   "cell_type": "markdown",
   "metadata": {},
   "source": [
    "### <i>Dataframe</i> a partir de Dicionário\n",
    "Criando um Quadro de Dados (***DataFrame***) a partir de um <font style=\"background:yellow\">dicionário de objetos</font>, os quais podem ser convertidos numa estrutura de série (índice e valor):"
   ]
  },
  {
   "cell_type": "code",
   "execution_count": 6,
   "metadata": {
    "scrolled": true
   },
   "outputs": [
    {
     "data": {
      "text/html": [
       "<div>\n",
       "<style scoped>\n",
       "    .dataframe tbody tr th:only-of-type {\n",
       "        vertical-align: middle;\n",
       "    }\n",
       "\n",
       "    .dataframe tbody tr th {\n",
       "        vertical-align: top;\n",
       "    }\n",
       "\n",
       "    .dataframe thead th {\n",
       "        text-align: right;\n",
       "    }\n",
       "</style>\n",
       "<table border=\"1\" class=\"dataframe\">\n",
       "  <thead>\n",
       "    <tr style=\"text-align: right;\">\n",
       "      <th></th>\n",
       "      <th>A</th>\n",
       "      <th>B</th>\n",
       "      <th>C</th>\n",
       "      <th>D</th>\n",
       "      <th>E</th>\n",
       "      <th>F</th>\n",
       "    </tr>\n",
       "  </thead>\n",
       "  <tbody>\n",
       "    <tr>\n",
       "      <th>0</th>\n",
       "      <td>1.0</td>\n",
       "      <td>2022-05-19</td>\n",
       "      <td>10.0</td>\n",
       "      <td>3</td>\n",
       "      <td>teste</td>\n",
       "      <td>qq. coisa</td>\n",
       "    </tr>\n",
       "    <tr>\n",
       "      <th>1</th>\n",
       "      <td>1.0</td>\n",
       "      <td>2022-05-19</td>\n",
       "      <td>200.0</td>\n",
       "      <td>3</td>\n",
       "      <td>treino</td>\n",
       "      <td>qq. coisa</td>\n",
       "    </tr>\n",
       "    <tr>\n",
       "      <th>2</th>\n",
       "      <td>1.0</td>\n",
       "      <td>2022-05-19</td>\n",
       "      <td>3000.0</td>\n",
       "      <td>3</td>\n",
       "      <td>desenv</td>\n",
       "      <td>qq. coisa</td>\n",
       "    </tr>\n",
       "    <tr>\n",
       "      <th>3</th>\n",
       "      <td>1.0</td>\n",
       "      <td>2022-05-19</td>\n",
       "      <td>40000.0</td>\n",
       "      <td>3</td>\n",
       "      <td>exec</td>\n",
       "      <td>qq. coisa</td>\n",
       "    </tr>\n",
       "  </tbody>\n",
       "</table>\n",
       "</div>"
      ],
      "text/plain": [
       "     A          B        C  D       E          F\n",
       "0  1.0 2022-05-19     10.0  3   teste  qq. coisa\n",
       "1  1.0 2022-05-19    200.0  3  treino  qq. coisa\n",
       "2  1.0 2022-05-19   3000.0  3  desenv  qq. coisa\n",
       "3  1.0 2022-05-19  40000.0  3    exec  qq. coisa"
      ]
     },
     "execution_count": 6,
     "metadata": {},
     "output_type": "execute_result"
    }
   ],
   "source": [
    "dic1 = { \"A\": 1.0,\n",
    "         \"B\": pd.Timestamp(\"20220519\"),\n",
    "         \"C\": pd.Series([10,200,3000,40000], index=list(range(4)), dtype=\"float32\"),\n",
    "         \"D\": np.array([3] * 4, dtype=\"int32\"),\n",
    "         \"E\": pd.Categorical([\"teste\", \"treino\", \"desenv\", \"exec\"]),\n",
    "         \"F\": \"qq. coisa\", }\n",
    "df2 = pd.DataFrame(dic1)\n",
    "df2"
   ]
  },
  {
   "cell_type": "code",
   "execution_count": 10,
   "metadata": {
    "scrolled": true
   },
   "outputs": [
    {
     "data": {
      "text/plain": [
       "A           float64\n",
       "B    datetime64[ns]\n",
       "C           float32\n",
       "D             int32\n",
       "E          category\n",
       "F            object\n",
       "dtype: object"
      ]
     },
     "execution_count": 10,
     "metadata": {},
     "output_type": "execute_result"
    }
   ],
   "source": [
    "df2.dtypes"
   ]
  },
  {
   "cell_type": "markdown",
   "metadata": {},
   "source": [
    "### <i>Dataframe</i> a partir de arquivo CSV\n",
    "Os arquivos **CSV** são conjuntos de dados com \"valores separados por vírgulas - *comma separated values*\", e podem ser vistos como planilhas Excel.  \n",
    "\n",
    "Na Ciência de Dados, geralmente precisamos lidar com enormes conjuntos de dados enquanto se analisa tais dados, os quais normalmente são obtidos no formato **CSV**.  \n",
    "\n",
    "A criação de um *dataframe* do **Pandas** usando arquivos **CSV** pode ser realizada de várias maneiras.  \n",
    "\n",
    "**Nota**: o conjunto de dados (*dataset*) usado no exemplos seguintes contém 25 itens de auto-relato de personalidade retirados do *International Personality Item Pool* (ipip.ori.org) e que foram incluídos como parte do projeto de avaliação de personalidade baseado na web do *Synthetic Aperture Personality Assessment* (SAPA). Os dados de 2.800 indivíduos foram incluídos como um conjunto de demonstração para construção de escala, análise fatorial e análise da Teoria de Resposta ao Item. Três variáveis demográficas adicionais (sexo: 1 = Homens e 2 = Mulheres, educação: 1 = Fundamental, 2 = Fundamental Completo, 3 = Ens. Médio, 4 = Ens. Médio Completo, 5 = Superior Completo; e idade) também foram incluídas."
   ]
  },
  {
   "cell_type": "code",
   "execution_count": 5,
   "metadata": {},
   "outputs": [
    {
     "data": {
      "text/html": [
       "<div>\n",
       "<style scoped>\n",
       "    .dataframe tbody tr th:only-of-type {\n",
       "        vertical-align: middle;\n",
       "    }\n",
       "\n",
       "    .dataframe tbody tr th {\n",
       "        vertical-align: top;\n",
       "    }\n",
       "\n",
       "    .dataframe thead th {\n",
       "        text-align: right;\n",
       "    }\n",
       "</style>\n",
       "<table border=\"1\" class=\"dataframe\">\n",
       "  <thead>\n",
       "    <tr style=\"text-align: right;\">\n",
       "      <th></th>\n",
       "      <th>Unnamed: 0</th>\n",
       "      <th>A1</th>\n",
       "      <th>A2</th>\n",
       "      <th>A3</th>\n",
       "      <th>A4</th>\n",
       "      <th>A5</th>\n",
       "      <th>C1</th>\n",
       "      <th>C2</th>\n",
       "      <th>C3</th>\n",
       "      <th>C4</th>\n",
       "      <th>...</th>\n",
       "      <th>N4</th>\n",
       "      <th>N5</th>\n",
       "      <th>O1</th>\n",
       "      <th>O2</th>\n",
       "      <th>O3</th>\n",
       "      <th>O4</th>\n",
       "      <th>O5</th>\n",
       "      <th>gender</th>\n",
       "      <th>education</th>\n",
       "      <th>age</th>\n",
       "    </tr>\n",
       "  </thead>\n",
       "  <tbody>\n",
       "    <tr>\n",
       "      <th>0</th>\n",
       "      <td>61617</td>\n",
       "      <td>2.0</td>\n",
       "      <td>4.0</td>\n",
       "      <td>3.0</td>\n",
       "      <td>4.0</td>\n",
       "      <td>4.0</td>\n",
       "      <td>2.0</td>\n",
       "      <td>3.0</td>\n",
       "      <td>3.0</td>\n",
       "      <td>4.0</td>\n",
       "      <td>...</td>\n",
       "      <td>2.0</td>\n",
       "      <td>3.0</td>\n",
       "      <td>3.0</td>\n",
       "      <td>6</td>\n",
       "      <td>3.0</td>\n",
       "      <td>4.0</td>\n",
       "      <td>3.0</td>\n",
       "      <td>1</td>\n",
       "      <td>NaN</td>\n",
       "      <td>16</td>\n",
       "    </tr>\n",
       "    <tr>\n",
       "      <th>1</th>\n",
       "      <td>61618</td>\n",
       "      <td>2.0</td>\n",
       "      <td>4.0</td>\n",
       "      <td>5.0</td>\n",
       "      <td>2.0</td>\n",
       "      <td>5.0</td>\n",
       "      <td>5.0</td>\n",
       "      <td>4.0</td>\n",
       "      <td>4.0</td>\n",
       "      <td>3.0</td>\n",
       "      <td>...</td>\n",
       "      <td>5.0</td>\n",
       "      <td>5.0</td>\n",
       "      <td>4.0</td>\n",
       "      <td>2</td>\n",
       "      <td>4.0</td>\n",
       "      <td>3.0</td>\n",
       "      <td>3.0</td>\n",
       "      <td>2</td>\n",
       "      <td>NaN</td>\n",
       "      <td>18</td>\n",
       "    </tr>\n",
       "    <tr>\n",
       "      <th>2</th>\n",
       "      <td>61620</td>\n",
       "      <td>5.0</td>\n",
       "      <td>4.0</td>\n",
       "      <td>5.0</td>\n",
       "      <td>4.0</td>\n",
       "      <td>4.0</td>\n",
       "      <td>4.0</td>\n",
       "      <td>5.0</td>\n",
       "      <td>4.0</td>\n",
       "      <td>2.0</td>\n",
       "      <td>...</td>\n",
       "      <td>2.0</td>\n",
       "      <td>3.0</td>\n",
       "      <td>4.0</td>\n",
       "      <td>2</td>\n",
       "      <td>5.0</td>\n",
       "      <td>5.0</td>\n",
       "      <td>2.0</td>\n",
       "      <td>2</td>\n",
       "      <td>NaN</td>\n",
       "      <td>17</td>\n",
       "    </tr>\n",
       "    <tr>\n",
       "      <th>3</th>\n",
       "      <td>61621</td>\n",
       "      <td>4.0</td>\n",
       "      <td>4.0</td>\n",
       "      <td>6.0</td>\n",
       "      <td>5.0</td>\n",
       "      <td>5.0</td>\n",
       "      <td>4.0</td>\n",
       "      <td>4.0</td>\n",
       "      <td>3.0</td>\n",
       "      <td>5.0</td>\n",
       "      <td>...</td>\n",
       "      <td>4.0</td>\n",
       "      <td>1.0</td>\n",
       "      <td>3.0</td>\n",
       "      <td>3</td>\n",
       "      <td>4.0</td>\n",
       "      <td>3.0</td>\n",
       "      <td>5.0</td>\n",
       "      <td>2</td>\n",
       "      <td>NaN</td>\n",
       "      <td>17</td>\n",
       "    </tr>\n",
       "    <tr>\n",
       "      <th>4</th>\n",
       "      <td>61622</td>\n",
       "      <td>2.0</td>\n",
       "      <td>3.0</td>\n",
       "      <td>3.0</td>\n",
       "      <td>4.0</td>\n",
       "      <td>5.0</td>\n",
       "      <td>4.0</td>\n",
       "      <td>4.0</td>\n",
       "      <td>5.0</td>\n",
       "      <td>3.0</td>\n",
       "      <td>...</td>\n",
       "      <td>4.0</td>\n",
       "      <td>3.0</td>\n",
       "      <td>3.0</td>\n",
       "      <td>3</td>\n",
       "      <td>4.0</td>\n",
       "      <td>3.0</td>\n",
       "      <td>3.0</td>\n",
       "      <td>1</td>\n",
       "      <td>NaN</td>\n",
       "      <td>17</td>\n",
       "    </tr>\n",
       "  </tbody>\n",
       "</table>\n",
       "<p>5 rows × 29 columns</p>\n",
       "</div>"
      ],
      "text/plain": [
       "   Unnamed: 0   A1   A2   A3   A4   A5   C1   C2   C3   C4  ...   N4   N5  \\\n",
       "0       61617  2.0  4.0  3.0  4.0  4.0  2.0  3.0  3.0  4.0  ...  2.0  3.0   \n",
       "1       61618  2.0  4.0  5.0  2.0  5.0  5.0  4.0  4.0  3.0  ...  5.0  5.0   \n",
       "2       61620  5.0  4.0  5.0  4.0  4.0  4.0  5.0  4.0  2.0  ...  2.0  3.0   \n",
       "3       61621  4.0  4.0  6.0  5.0  5.0  4.0  4.0  3.0  5.0  ...  4.0  1.0   \n",
       "4       61622  2.0  3.0  3.0  4.0  5.0  4.0  4.0  5.0  3.0  ...  4.0  3.0   \n",
       "\n",
       "    O1  O2   O3   O4   O5  gender  education  age  \n",
       "0  3.0   6  3.0  4.0  3.0       1        NaN   16  \n",
       "1  4.0   2  4.0  3.0  3.0       2        NaN   18  \n",
       "2  4.0   2  5.0  5.0  2.0       2        NaN   17  \n",
       "3  3.0   3  4.0  3.0  5.0       2        NaN   17  \n",
       "4  3.0   3  4.0  3.0  3.0       1        NaN   17  \n",
       "\n",
       "[5 rows x 29 columns]"
      ]
     },
     "execution_count": 5,
     "metadata": {},
     "output_type": "execute_result"
    }
   ],
   "source": [
    "''' Primeira forma: '''\n",
    "import pandas as pd\n",
    "\n",
    "bfi ='https://vincentarelbundock.github.io/Rdatasets/csv/psych/bfi.csv'\n",
    "df = pd.read_csv(bfi)\n",
    "# head() exibe apenas as 5 primeiras linhas do dataframe...\n",
    "df.head()"
   ]
  },
  {
   "cell_type": "code",
   "execution_count": 6,
   "metadata": {
    "scrolled": true
   },
   "outputs": [
    {
     "name": "stdout",
     "output_type": "stream",
     "text": [
      "  \"\",\"A1\",\"A2\",\"A3\",\"A4\",\"A5\",\"C1\",\"C2\",\"C3\",\"C4\",\"C5\",\"E1\",\"E2\",\"E3\",\"E4\",\"E5\",\"N1\",\"N2\",\"N3\",\"N4\",\"N5\",\"O1\",\"O2\",\"O3\",\"O4\",\"O5\",\"gender\",\"education\",\"age\"\n",
      "0  \"61617\",2,4,3,4,4,2,3,3,4,4,3,3,3,4,4,3,4,2,2,...                                                                                                        \n",
      "1  \"61618\",2,4,5,2,5,5,4,4,3,4,1,1,6,4,3,3,3,3,5,...                                                                                                        \n",
      "2  \"61620\",5,4,5,4,4,4,5,4,2,5,2,4,4,4,5,4,5,4,2,...                                                                                                        \n",
      "3  \"61621\",4,4,6,5,5,4,4,3,5,5,5,3,4,4,4,2,5,2,4,...                                                                                                        \n",
      "4  \"61622\",2,3,3,4,5,4,4,5,3,2,2,2,5,4,5,2,3,4,4,...                                                                                                        \n"
     ]
    }
   ],
   "source": [
    "''' Segunda forma: '''\n",
    "df = pd.read_table(bfi, delimiter =\", \", engine='python')\n",
    "print(df.head())"
   ]
  },
  {
   "cell_type": "markdown",
   "metadata": {},
   "source": [
    "<h2 style=\"color:blue; background-color:#F3F2F9\">1.2 Visualizando Dados</h2>\n",
    "\n",
    "Como visualizar as linhas de dados iniciais e finais de um quadro:"
   ]
  },
  {
   "cell_type": "code",
   "execution_count": 64,
   "metadata": {},
   "outputs": [
    {
     "data": {
      "text/html": [
       "<div>\n",
       "<style scoped>\n",
       "    .dataframe tbody tr th:only-of-type {\n",
       "        vertical-align: middle;\n",
       "    }\n",
       "\n",
       "    .dataframe tbody tr th {\n",
       "        vertical-align: top;\n",
       "    }\n",
       "\n",
       "    .dataframe thead th {\n",
       "        text-align: right;\n",
       "    }\n",
       "</style>\n",
       "<table border=\"1\" class=\"dataframe\">\n",
       "  <thead>\n",
       "    <tr style=\"text-align: right;\">\n",
       "      <th></th>\n",
       "      <th>A</th>\n",
       "      <th>B</th>\n",
       "      <th>C</th>\n",
       "      <th>D</th>\n",
       "    </tr>\n",
       "  </thead>\n",
       "  <tbody>\n",
       "    <tr>\n",
       "      <th>2022-05-19</th>\n",
       "      <td>-0.771333</td>\n",
       "      <td>1.340197</td>\n",
       "      <td>-0.986804</td>\n",
       "      <td>0.744150</td>\n",
       "    </tr>\n",
       "    <tr>\n",
       "      <th>2022-05-20</th>\n",
       "      <td>-1.062793</td>\n",
       "      <td>1.133589</td>\n",
       "      <td>-1.125380</td>\n",
       "      <td>0.792802</td>\n",
       "    </tr>\n",
       "    <tr>\n",
       "      <th>2022-05-21</th>\n",
       "      <td>-0.183818</td>\n",
       "      <td>0.249337</td>\n",
       "      <td>0.624719</td>\n",
       "      <td>-0.025290</td>\n",
       "    </tr>\n",
       "    <tr>\n",
       "      <th>2022-05-22</th>\n",
       "      <td>0.120645</td>\n",
       "      <td>0.956873</td>\n",
       "      <td>-1.118796</td>\n",
       "      <td>0.522675</td>\n",
       "    </tr>\n",
       "    <tr>\n",
       "      <th>2022-05-23</th>\n",
       "      <td>0.133035</td>\n",
       "      <td>0.289821</td>\n",
       "      <td>0.487587</td>\n",
       "      <td>-0.722973</td>\n",
       "    </tr>\n",
       "  </tbody>\n",
       "</table>\n",
       "</div>"
      ],
      "text/plain": [
       "                   A         B         C         D\n",
       "2022-05-19 -0.771333  1.340197 -0.986804  0.744150\n",
       "2022-05-20 -1.062793  1.133589 -1.125380  0.792802\n",
       "2022-05-21 -0.183818  0.249337  0.624719 -0.025290\n",
       "2022-05-22  0.120645  0.956873 -1.118796  0.522675\n",
       "2022-05-23  0.133035  0.289821  0.487587 -0.722973"
      ]
     },
     "execution_count": 64,
     "metadata": {},
     "output_type": "execute_result"
    }
   ],
   "source": [
    "df1.head()          # cabeça --> cinco primeiras linhas do quadro (sem parâmetro)"
   ]
  },
  {
   "cell_type": "code",
   "execution_count": 65,
   "metadata": {},
   "outputs": [
    {
     "data": {
      "text/html": [
       "<div>\n",
       "<style scoped>\n",
       "    .dataframe tbody tr th:only-of-type {\n",
       "        vertical-align: middle;\n",
       "    }\n",
       "\n",
       "    .dataframe tbody tr th {\n",
       "        vertical-align: top;\n",
       "    }\n",
       "\n",
       "    .dataframe thead th {\n",
       "        text-align: right;\n",
       "    }\n",
       "</style>\n",
       "<table border=\"1\" class=\"dataframe\">\n",
       "  <thead>\n",
       "    <tr style=\"text-align: right;\">\n",
       "      <th></th>\n",
       "      <th>A</th>\n",
       "      <th>B</th>\n",
       "      <th>C</th>\n",
       "      <th>D</th>\n",
       "    </tr>\n",
       "  </thead>\n",
       "  <tbody>\n",
       "    <tr>\n",
       "      <th>2022-05-22</th>\n",
       "      <td>0.120645</td>\n",
       "      <td>0.956873</td>\n",
       "      <td>-1.118796</td>\n",
       "      <td>0.522675</td>\n",
       "    </tr>\n",
       "    <tr>\n",
       "      <th>2022-05-23</th>\n",
       "      <td>0.133035</td>\n",
       "      <td>0.289821</td>\n",
       "      <td>0.487587</td>\n",
       "      <td>-0.722973</td>\n",
       "    </tr>\n",
       "    <tr>\n",
       "      <th>2022-05-24</th>\n",
       "      <td>-0.733022</td>\n",
       "      <td>0.721735</td>\n",
       "      <td>-1.202797</td>\n",
       "      <td>0.256383</td>\n",
       "    </tr>\n",
       "  </tbody>\n",
       "</table>\n",
       "</div>"
      ],
      "text/plain": [
       "                   A         B         C         D\n",
       "2022-05-22  0.120645  0.956873 -1.118796  0.522675\n",
       "2022-05-23  0.133035  0.289821  0.487587 -0.722973\n",
       "2022-05-24 -0.733022  0.721735 -1.202797  0.256383"
      ]
     },
     "execution_count": 65,
     "metadata": {},
     "output_type": "execute_result"
    }
   ],
   "source": [
    "df1.tail(3)         # calda  --> três últimas linhas do quadro (parâmetro 3)"
   ]
  },
  {
   "cell_type": "markdown",
   "metadata": {},
   "source": [
    "Mostrando os índices e os rótulos das colunas do quadro:"
   ]
  },
  {
   "cell_type": "code",
   "execution_count": 19,
   "metadata": {},
   "outputs": [
    {
     "data": {
      "text/plain": [
       "DatetimeIndex(['2022-05-19', '2022-05-20', '2022-05-21', '2022-05-22',\n",
       "               '2022-05-23', '2022-05-24'],\n",
       "              dtype='datetime64[ns]', freq='D')"
      ]
     },
     "execution_count": 19,
     "metadata": {},
     "output_type": "execute_result"
    }
   ],
   "source": [
    "df.index"
   ]
  },
  {
   "cell_type": "code",
   "execution_count": 20,
   "metadata": {},
   "outputs": [
    {
     "data": {
      "text/plain": [
       "Index(['A', 'B', 'C', 'D'], dtype='object')"
      ]
     },
     "execution_count": 20,
     "metadata": {},
     "output_type": "execute_result"
    }
   ],
   "source": [
    "df.columns"
   ]
  },
  {
   "cell_type": "markdown",
   "metadata": {},
   "source": [
    "<h1 style=\"color:blue; background-color:#E0DBF9; text-align:center\">2. Fundamentos</h1>\n",
    "\n",
    "Existem dois tipos principais de estruturas de dados no **pandas**:\n",
    " 1. ***Series***: são matrizes unidimensionais rotuladas, capazes de armazenar dados de qualquer tipo (inteiro, string, float, objetos python etc.). Os rótulos dos eixos são chamados de índices. Fazendo uma analogia com uma planilha de dados (tipo EXCEL, ou CALC), uma **série** representa uma coluna na planilha, e seus índices seriam a identificação das linhas (numeração) e colunas (letras).  \n",
    " \n",
    "   \n",
    " 2. ***DataFrames***: são estruturas de dados bidimensional (tabelas) potencialmente heterogêneas e de tamanho variável com eixos rotulados (linhas e colunas). São semelhantes a matrizes, com colunas nominadas e contendo dados de tipos diferentes. Um _dataframe_ pode ser visto como uma tabela de um banco de dados, em que cada linha corresponde a um registo (linha) da tabela.\n",
    " \n",
    "<h2 style=\"color:blue; background-color:#F3F2F9\">2.1 Série</h2>\n",
    "\n",
    "* Criando uma __Série de Dados__ a partir de uma lista de valores, fazendo com que o **pandas** crie um índice inteiro padrão:"
   ]
  },
  {
   "cell_type": "code",
   "execution_count": 67,
   "metadata": {},
   "outputs": [
    {
     "data": {
      "text/plain": [
       "0    7.88\n",
       "1    5.21\n",
       "2    6.85\n",
       "3    5.90\n",
       "4    6.28\n",
       "5    8.46\n",
       "6    7.08\n",
       "7    3.41\n",
       "8    5.11\n",
       "9    8.11\n",
       "dtype: float64"
      ]
     },
     "execution_count": 67,
     "metadata": {},
     "output_type": "execute_result"
    }
   ],
   "source": [
    "s2 = pd.Series([7.88, 5.21, 6.85, 5.90,  6.28, 8.46, 7.08, 3.41, 5.11, 8.11])\n",
    "s2"
   ]
  },
  {
   "cell_type": "markdown",
   "metadata": {},
   "source": [
    "<h2 style=\"color:blue; background-color:#F3F2F9\">Estruturas de Dados - <i>Dataframes</i></h2>  \n",
    "\n",
    "O __Dataframe__ é uma estrutura de dados com representação tabular bidimensional de dados (dados alinhados em linhas e colunas), potencialmente heterogênea, e de tamanho mutável (ao contrário da __série de dados__ que não permite operações que alterem seu tamanho). Você pode imaginá-lo como uma tabela em um banco de dados ou uma planilha. \n",
    "\n",
    "<img src=\"img/dataframe.png\" width=500px>  \n",
    "Os dados estão disponíveis em várias formas e tipos, como arquivos CSV ou JSON, tabelas SQL ou estruturas Python como **list**, **dict**, **array** etc. Precisamos converter todos esses formatos de dados diferentes em um **DataFrame** para que possamos usar a biblioteca **pandas** na análise eficiente desses dados.\n",
    "\n",
    "<h3 style=\"color:blue; background-color:#F3F2F9\">Construtor da Classe DataFrame</h3>\n",
    "\n",
    "`pd.DataFrame(data=None, index=None, columns=None, dtype=None, copy=False)`\n",
    "\n",
    "* Criando um __DataFrame__ a partir de uma matriz NumPy, com índice `datetime` e colunas rotuladas:"
   ]
  },
  {
   "cell_type": "code",
   "execution_count": 68,
   "metadata": {},
   "outputs": [
    {
     "data": {
      "text/plain": [
       "['S1', 'S2', 'S3', 'S4', 'S5', 'S6', 'S7']"
      ]
     },
     "execution_count": 68,
     "metadata": {},
     "output_type": "execute_result"
    }
   ],
   "source": [
    "semana = [\"S1\",\"S2\",\"S3\",\"S4\",\"S5\",\"S6\",\"S7\"]\n",
    "semana"
   ]
  },
  {
   "cell_type": "code",
   "execution_count": 74,
   "metadata": {},
   "outputs": [
    {
     "data": {
      "text/html": [
       "<div>\n",
       "<style scoped>\n",
       "    .dataframe tbody tr th:only-of-type {\n",
       "        vertical-align: middle;\n",
       "    }\n",
       "\n",
       "    .dataframe tbody tr th {\n",
       "        vertical-align: top;\n",
       "    }\n",
       "\n",
       "    .dataframe thead th {\n",
       "        text-align: right;\n",
       "    }\n",
       "</style>\n",
       "<table border=\"1\" class=\"dataframe\">\n",
       "  <thead>\n",
       "    <tr style=\"text-align: right;\">\n",
       "      <th></th>\n",
       "      <th>Nome</th>\n",
       "      <th>Idade</th>\n",
       "      <th>Naturalidade</th>\n",
       "      <th>Peso</th>\n",
       "    </tr>\n",
       "  </thead>\n",
       "  <tbody>\n",
       "    <tr>\n",
       "      <th>S1</th>\n",
       "      <td>João</td>\n",
       "      <td>20</td>\n",
       "      <td>Goiânia</td>\n",
       "      <td>67</td>\n",
       "    </tr>\n",
       "    <tr>\n",
       "      <th>S2</th>\n",
       "      <td>Maria</td>\n",
       "      <td>21</td>\n",
       "      <td>Anápolis</td>\n",
       "      <td>72</td>\n",
       "    </tr>\n",
       "    <tr>\n",
       "      <th>S3</th>\n",
       "      <td>Samuel</td>\n",
       "      <td>19</td>\n",
       "      <td>Rio Verde</td>\n",
       "      <td>58</td>\n",
       "    </tr>\n",
       "    <tr>\n",
       "      <th>S4</th>\n",
       "      <td>José</td>\n",
       "      <td>20</td>\n",
       "      <td>Goiânia</td>\n",
       "      <td>93</td>\n",
       "    </tr>\n",
       "    <tr>\n",
       "      <th>S5</th>\n",
       "      <td>Mônica</td>\n",
       "      <td>22</td>\n",
       "      <td>Jataí</td>\n",
       "      <td>55</td>\n",
       "    </tr>\n",
       "    <tr>\n",
       "      <th>S6</th>\n",
       "      <td>Manoel</td>\n",
       "      <td>14</td>\n",
       "      <td></td>\n",
       "      <td>42</td>\n",
       "    </tr>\n",
       "    <tr>\n",
       "      <th>S7</th>\n",
       "      <td>Jussara</td>\n",
       "      <td>16</td>\n",
       "      <td></td>\n",
       "      <td>44</td>\n",
       "    </tr>\n",
       "  </tbody>\n",
       "</table>\n",
       "</div>"
      ],
      "text/plain": [
       "       Nome  Idade Naturalidade  Peso\n",
       "S1     João     20      Goiânia    67\n",
       "S2    Maria     21     Anápolis    72\n",
       "S3   Samuel     19    Rio Verde    58\n",
       "S4     José     20      Goiânia    93\n",
       "S5   Mônica     22        Jataí    55\n",
       "S6   Manoel     14                 42\n",
       "S7  Jussara     16                 44"
      ]
     },
     "execution_count": 74,
     "metadata": {},
     "output_type": "execute_result"
    }
   ],
   "source": [
    "dados = {\"Nome\":[\"João\",\"Maria\",\"Samuel\",\"José\",\"Mônica\",\"Manoel\",\"Jussara\"],\n",
    "         \"Idade\":[20,21,19,20,22,14,16],\n",
    "         \"Naturalidade\":[\"Goiânia\",\"Anápolis\",\"Rio Verde\",\"Goiânia\",\"Jataí\",\"\",\"\"],\n",
    "         \"Peso\":[67,72,58,93,55,42,44]                                                                                                                                                                                                                                                                                                                                                                                                                                                                                                                                                                                                                                                                                                                                                                                                                                                                                                                                                                                                                                                                                                                                                                                                                                                                                                                                                                                                                                                                                                                                                                                                                                                                                                                                                                                                                                                                                                                                                                                                                                                                                                                                                                                                                                                                                                                                                                                                                                                                                                                                                                                                                                                                                                                                                                                                                                                                                                                                                                                                                                                                                                                                                                                                                                                                                                                                                                                         \n",
    "        }\n",
    "df_exemplo = pd.DataFrame(dados, index=semana) #, columns=list(\"ABCD\"))\n",
    "df_exemplo"
   ]
  },
  {
   "cell_type": "markdown",
   "metadata": {},
   "source": [
    "* Criando um __DataFrame__ a partir de um dicionário de objetos que podem ser convertidos em séries."
   ]
  },
  {
   "cell_type": "code",
   "execution_count": 5,
   "metadata": {},
   "outputs": [
    {
     "name": "stdout",
     "output_type": "stream",
     "text": [
      "     A          B  C   D         E     F\n",
      "0  1.0 2021-01-01  1  55     teste  True\n",
      "1  1.0 2021-01-01  1  56    treino  True\n",
      "2  1.0 2021-01-01  1  57   sorteio  True\n",
      "3  1.0 2021-01-01  1  58  descanso  True\n"
     ]
    },
    {
     "data": {
      "text/html": [
       "<div>\n",
       "<style scoped>\n",
       "    .dataframe tbody tr th:only-of-type {\n",
       "        vertical-align: middle;\n",
       "    }\n",
       "\n",
       "    .dataframe tbody tr th {\n",
       "        vertical-align: top;\n",
       "    }\n",
       "\n",
       "    .dataframe thead th {\n",
       "        text-align: right;\n",
       "    }\n",
       "</style>\n",
       "<table border=\"1\" class=\"dataframe\">\n",
       "  <thead>\n",
       "    <tr style=\"text-align: right;\">\n",
       "      <th></th>\n",
       "      <th>A</th>\n",
       "      <th>B</th>\n",
       "      <th>C</th>\n",
       "      <th>D</th>\n",
       "      <th>E</th>\n",
       "      <th>F</th>\n",
       "    </tr>\n",
       "  </thead>\n",
       "  <tbody>\n",
       "    <tr>\n",
       "      <th>0</th>\n",
       "      <td>1.0</td>\n",
       "      <td>2021-01-01</td>\n",
       "      <td>1</td>\n",
       "      <td>55</td>\n",
       "      <td>teste</td>\n",
       "      <td>True</td>\n",
       "    </tr>\n",
       "    <tr>\n",
       "      <th>2</th>\n",
       "      <td>1.0</td>\n",
       "      <td>2021-01-01</td>\n",
       "      <td>1</td>\n",
       "      <td>57</td>\n",
       "      <td>sorteio</td>\n",
       "      <td>True</td>\n",
       "    </tr>\n",
       "  </tbody>\n",
       "</table>\n",
       "</div>"
      ],
      "text/plain": [
       "     A          B  C   D        E     F\n",
       "0  1.0 2021-01-01  1  55    teste  True\n",
       "2  1.0 2021-01-01  1  57  sorteio  True"
      ]
     },
     "execution_count": 5,
     "metadata": {},
     "output_type": "execute_result"
    }
   ],
   "source": [
    "df2 = pd.DataFrame( {\n",
    "   ...:         \"A\": 1.0,\n",
    "   ...:         \"B\": pd.Timestamp(\"20210101\"),\n",
    "   ...:         \"C\": pd.Series(1, index=list(range(4)), dtype=np.int32),\n",
    "   ...:         \"D\": np.array([55,56,57,58], dtype=\"int32\"),\n",
    "   ...:         \"E\": pd.Categorical([\"teste\", \"treino\", \"sorteio\", \"descanso\"]),\n",
    "   ...:         \"F\": True\n",
    "   ...:           } )\n",
    "print(df2.head())\n",
    "df2.query('D in [55,57]')"
   ]
  },
  {
   "cell_type": "markdown",
   "metadata": {},
   "source": [
    "As colunas do __DataFrame__ (quadro de dados) resultante têm diferentes tipos de dados."
   ]
  },
  {
   "cell_type": "code",
   "execution_count": 32,
   "metadata": {},
   "outputs": [
    {
     "data": {
      "text/plain": [
       "A           float64\n",
       "B    datetime64[ns]\n",
       "C             int32\n",
       "D             int32\n",
       "E          category\n",
       "F              bool\n",
       "dtype: object"
      ]
     },
     "execution_count": 32,
     "metadata": {},
     "output_type": "execute_result"
    }
   ],
   "source": [
    "    df2.dtypes"
   ]
  },
  {
   "cell_type": "markdown",
   "metadata": {},
   "source": [
    "Mais um exemplo de criação de __Dataframe__ a partir de um dicionário:"
   ]
  },
  {
   "cell_type": "code",
   "execution_count": 10,
   "metadata": {},
   "outputs": [
    {
     "name": "stdout",
     "output_type": "stream",
     "text": [
      "{'Nome': ['José', 'Maria'], 'Idade': [20, 21], 'Notas': [85.1, 77.8]}\n",
      "\n",
      "     Nome  Idade  Notas\n",
      "0   José     20   85.1\n",
      "1  Maria     21   77.8\n"
     ]
    }
   ],
   "source": [
    "# Objeto dicionário Python\n",
    "alunos_dic = {'Nome': ['José', 'Maria'], 'Idade': [20, 21], 'Notas': [85.10, 77.80]}\n",
    "print(alunos_dic)\n",
    "\n",
    "# Criação do DataFrame a partir do dicionário\n",
    "alunos_df = pd.DataFrame(alunos_dic)\n",
    "print(\"\\n\", alunos_df)"
   ]
  },
  {
   "cell_type": "markdown",
   "metadata": {},
   "source": [
    "As strings 'Nome', 'Idade' e 'Notas' são chaves no dicionário e tornam-se rótulos das colunas no __DataFrame__.  \n",
    "\n",
    "* Criando um *DataFrame* a partir de valores aleatórios e denominações de colunas."
   ]
  },
  {
   "cell_type": "code",
   "execution_count": 77,
   "metadata": {
    "scrolled": true
   },
   "outputs": [
    {
     "data": {
      "text/html": [
       "<div>\n",
       "<style scoped>\n",
       "    .dataframe tbody tr th:only-of-type {\n",
       "        vertical-align: middle;\n",
       "    }\n",
       "\n",
       "    .dataframe tbody tr th {\n",
       "        vertical-align: top;\n",
       "    }\n",
       "\n",
       "    .dataframe thead th {\n",
       "        text-align: right;\n",
       "    }\n",
       "</style>\n",
       "<table border=\"1\" class=\"dataframe\">\n",
       "  <thead>\n",
       "    <tr style=\"text-align: right;\">\n",
       "      <th></th>\n",
       "      <th>P1</th>\n",
       "      <th>P2</th>\n",
       "      <th>P3</th>\n",
       "      <th>P4</th>\n",
       "    </tr>\n",
       "  </thead>\n",
       "  <tbody>\n",
       "    <tr>\n",
       "      <th>0</th>\n",
       "      <td>-0.564441</td>\n",
       "      <td>0.265615</td>\n",
       "      <td>1.386442</td>\n",
       "      <td>0.282174</td>\n",
       "    </tr>\n",
       "    <tr>\n",
       "      <th>1</th>\n",
       "      <td>-1.382435</td>\n",
       "      <td>-1.142332</td>\n",
       "      <td>0.260108</td>\n",
       "      <td>1.407262</td>\n",
       "    </tr>\n",
       "    <tr>\n",
       "      <th>2</th>\n",
       "      <td>1.016073</td>\n",
       "      <td>0.517517</td>\n",
       "      <td>0.045577</td>\n",
       "      <td>1.033788</td>\n",
       "    </tr>\n",
       "    <tr>\n",
       "      <th>3</th>\n",
       "      <td>0.214777</td>\n",
       "      <td>0.955798</td>\n",
       "      <td>-1.117217</td>\n",
       "      <td>0.956063</td>\n",
       "    </tr>\n",
       "    <tr>\n",
       "      <th>4</th>\n",
       "      <td>-1.514790</td>\n",
       "      <td>1.025568</td>\n",
       "      <td>2.471638</td>\n",
       "      <td>-0.251206</td>\n",
       "    </tr>\n",
       "    <tr>\n",
       "      <th>5</th>\n",
       "      <td>-1.276282</td>\n",
       "      <td>0.787022</td>\n",
       "      <td>-0.096824</td>\n",
       "      <td>1.888653</td>\n",
       "    </tr>\n",
       "  </tbody>\n",
       "</table>\n",
       "</div>"
      ],
      "text/plain": [
       "         P1        P2        P3        P4\n",
       "0 -0.564441  0.265615  1.386442  0.282174\n",
       "1 -1.382435 -1.142332  0.260108  1.407262\n",
       "2  1.016073  0.517517  0.045577  1.033788\n",
       "3  0.214777  0.955798 -1.117217  0.956063\n",
       "4 -1.514790  1.025568  2.471638 -0.251206\n",
       "5 -1.276282  0.787022 -0.096824  1.888653"
      ]
     },
     "execution_count": 77,
     "metadata": {},
     "output_type": "execute_result"
    }
   ],
   "source": [
    "df3 = pd.DataFrame(np.random.randn(6,4), columns=['P1','P2','P3','P4'])\n",
    "df3"
   ]
  },
  {
   "cell_type": "code",
   "execution_count": 81,
   "metadata": {},
   "outputs": [
    {
     "data": {
      "text/html": [
       "<div>\n",
       "<style scoped>\n",
       "    .dataframe tbody tr th:only-of-type {\n",
       "        vertical-align: middle;\n",
       "    }\n",
       "\n",
       "    .dataframe tbody tr th {\n",
       "        vertical-align: top;\n",
       "    }\n",
       "\n",
       "    .dataframe thead th {\n",
       "        text-align: right;\n",
       "    }\n",
       "</style>\n",
       "<table border=\"1\" class=\"dataframe\">\n",
       "  <thead>\n",
       "    <tr style=\"text-align: right;\">\n",
       "      <th></th>\n",
       "      <th>P1</th>\n",
       "      <th>P2</th>\n",
       "      <th>P3</th>\n",
       "      <th>P4</th>\n",
       "    </tr>\n",
       "  </thead>\n",
       "  <tbody>\n",
       "    <tr>\n",
       "      <th>2</th>\n",
       "      <td>1.016073</td>\n",
       "      <td>0.517517</td>\n",
       "      <td>0.045577</td>\n",
       "      <td>1.033788</td>\n",
       "    </tr>\n",
       "    <tr>\n",
       "      <th>3</th>\n",
       "      <td>0.214777</td>\n",
       "      <td>0.955798</td>\n",
       "      <td>-1.117217</td>\n",
       "      <td>0.956063</td>\n",
       "    </tr>\n",
       "  </tbody>\n",
       "</table>\n",
       "</div>"
      ],
      "text/plain": [
       "         P1        P2        P3        P4\n",
       "2  1.016073  0.517517  0.045577  1.033788\n",
       "3  0.214777  0.955798 -1.117217  0.956063"
      ]
     },
     "execution_count": 81,
     "metadata": {},
     "output_type": "execute_result"
    }
   ],
   "source": [
    "df_filtrado = df3.query('P1 > 0').query('0 < P2 < 2')   # encadeamento de condições\n",
    "df_filtrado"
   ]
  },
  {
   "cell_type": "code",
   "execution_count": 83,
   "metadata": {
    "scrolled": true
   },
   "outputs": [
    {
     "data": {
      "text/html": [
       "<div>\n",
       "<style scoped>\n",
       "    .dataframe tbody tr th:only-of-type {\n",
       "        vertical-align: middle;\n",
       "    }\n",
       "\n",
       "    .dataframe tbody tr th {\n",
       "        vertical-align: top;\n",
       "    }\n",
       "\n",
       "    .dataframe thead th {\n",
       "        text-align: right;\n",
       "    }\n",
       "</style>\n",
       "<table border=\"1\" class=\"dataframe\">\n",
       "  <thead>\n",
       "    <tr style=\"text-align: right;\">\n",
       "      <th></th>\n",
       "      <th>P1</th>\n",
       "      <th>P2</th>\n",
       "      <th>P3</th>\n",
       "      <th>P4</th>\n",
       "    </tr>\n",
       "  </thead>\n",
       "  <tbody>\n",
       "    <tr>\n",
       "      <th>2</th>\n",
       "      <td>1.016073</td>\n",
       "      <td>0.517517</td>\n",
       "      <td>0.045577</td>\n",
       "      <td>1.033788</td>\n",
       "    </tr>\n",
       "    <tr>\n",
       "      <th>3</th>\n",
       "      <td>0.214777</td>\n",
       "      <td>0.955798</td>\n",
       "      <td>-1.117217</td>\n",
       "      <td>0.956063</td>\n",
       "    </tr>\n",
       "  </tbody>\n",
       "</table>\n",
       "</div>"
      ],
      "text/plain": [
       "         P1        P2        P3        P4\n",
       "2  1.016073  0.517517  0.045577  1.033788\n",
       "3  0.214777  0.955798 -1.117217  0.956063"
      ]
     },
     "execution_count": 83,
     "metadata": {},
     "output_type": "execute_result"
    }
   ],
   "source": [
    "df_filtrado2 = df3.query('P1 > 0 & 0 < P2 < 2')         # expressão booleana\n",
    "df_filtrado2"
   ]
  },
  {
   "cell_type": "markdown",
   "metadata": {},
   "source": [
    "* Criando um *DataFrame* a partir de um arquivo CSV.\n",
    "\n",
    "Vamos usar o arquivo `carros.csv` com dados de 60 carros, disponível na pasta `dat` desse \"Jupyter Notebook\":\n",
    "\n",
    "<img src=\"img/carros.png\" width=400>"
   ]
  },
  {
   "cell_type": "code",
   "execution_count": 3,
   "metadata": {},
   "outputs": [
    {
     "name": "stdout",
     "output_type": "stream",
     "text": [
      "        fábrica       estilo  compr_in motor  milhagem\n",
      "0   alfa-romero  conversível     168.8  dohc        21\n",
      "1   alfa-romero    hatchback     171.2  ohcv        19\n",
      "2          audi        sedan     176.6   ohc        24\n",
      "3          audi        sedan     176.6   ohc        18\n",
      "4          audi        sedan     177.3   ohc        19\n",
      "..          ...          ...       ...   ...       ...\n",
      "55   volkswagen        sedan     171.7   ohc        27\n",
      "56   volkswagen        sedan     171.7   ohc        37\n",
      "57   volkswagen        sedan     171.7   ohc        26\n",
      "58        volvo        sedan     188.8   ohc        23\n",
      "59        volvo        perua     188.8   ohc        23\n",
      "\n",
      "[60 rows x 5 columns]\n"
     ]
    }
   ],
   "source": [
    "# import pandas as pd\n",
    "carros = pd.read_csv(\"dat/carros.csv\")\n",
    "pd.options.display.max_rows = 12            # ajustando a qtde. máx. de linhas a serem mostradas\n",
    "# ou pd.set_option(\"display.min_rows\", 10)\n",
    "print(carros)"
   ]
  },
  {
   "cell_type": "markdown",
   "metadata": {},
   "source": [
    "<h3 style=\"color:blue; background-color:#F3F2F9\">Informações de Metadados do <b>DataFrame</b></h3>  \n",
    "\n",
    "A função `DataFrame.info()` fornece metadados do __DataFrame__ que inclui: \n",
    "* Número de linhas e intervalo de índices\n",
    "* Número total de colunas\n",
    "* Lista de colunas\n",
    "* Número total de valores não nulos na coluna\n",
    "* Tipo de dados da coluna\n",
    "* Número de colunas em cada tipo de dados\n",
    "* Memória usada pelo DataFrame"
   ]
  },
  {
   "cell_type": "code",
   "execution_count": 30,
   "metadata": {
    "scrolled": true
   },
   "outputs": [
    {
     "name": "stdout",
     "output_type": "stream",
     "text": [
      "<class 'pandas.core.frame.DataFrame'>\n",
      "RangeIndex: 60 entries, 0 to 59\n",
      "Data columns (total 5 columns):\n",
      " #   Column    Non-Null Count  Dtype  \n",
      "---  ------    --------------  -----  \n",
      " 0   fábrica   60 non-null     object \n",
      " 1   estilo    60 non-null     object \n",
      " 2   compr_in  60 non-null     float64\n",
      " 3   motor     59 non-null     object \n",
      " 4   milhagem  60 non-null     int64  \n",
      "dtypes: float64(1), int64(1), object(3)\n",
      "memory usage: 2.5+ KB\n"
     ]
    }
   ],
   "source": [
    "carros.info()"
   ]
  },
  {
   "cell_type": "markdown",
   "metadata": {},
   "source": [
    "<h3 style=\"color:blue; background-color:#F3F2F9\">Informações Estatísticas do DataFrame</h3>  \n",
    "\n",
    "A função `DataFrame.describe()` fornece estatísticas dos dados no __DataFrame__. Só aplica-se às colunas que contêm valores numéricos."
   ]
  },
  {
   "cell_type": "code",
   "execution_count": 17,
   "metadata": {},
   "outputs": [
    {
     "data": {
      "text/html": [
       "<div>\n",
       "<style scoped>\n",
       "    .dataframe tbody tr th:only-of-type {\n",
       "        vertical-align: middle;\n",
       "    }\n",
       "\n",
       "    .dataframe tbody tr th {\n",
       "        vertical-align: top;\n",
       "    }\n",
       "\n",
       "    .dataframe thead th {\n",
       "        text-align: right;\n",
       "    }\n",
       "</style>\n",
       "<table border=\"1\" class=\"dataframe\">\n",
       "  <thead>\n",
       "    <tr style=\"text-align: right;\">\n",
       "      <th></th>\n",
       "      <th>compr_in</th>\n",
       "      <th>milhagem</th>\n",
       "    </tr>\n",
       "  </thead>\n",
       "  <tbody>\n",
       "    <tr>\n",
       "      <th>count</th>\n",
       "      <td>60.000000</td>\n",
       "      <td>60.000000</td>\n",
       "    </tr>\n",
       "    <tr>\n",
       "      <th>mean</th>\n",
       "      <td>173.170000</td>\n",
       "      <td>25.883333</td>\n",
       "    </tr>\n",
       "    <tr>\n",
       "      <th>std</th>\n",
       "      <td>14.128914</td>\n",
       "      <td>8.174146</td>\n",
       "    </tr>\n",
       "    <tr>\n",
       "      <th>min</th>\n",
       "      <td>141.100000</td>\n",
       "      <td>13.000000</td>\n",
       "    </tr>\n",
       "    <tr>\n",
       "      <th>25%</th>\n",
       "      <td>159.100000</td>\n",
       "      <td>19.000000</td>\n",
       "    </tr>\n",
       "    <tr>\n",
       "      <th>50%</th>\n",
       "      <td>171.450000</td>\n",
       "      <td>25.000000</td>\n",
       "    </tr>\n",
       "    <tr>\n",
       "      <th>75%</th>\n",
       "      <td>179.125000</td>\n",
       "      <td>31.000000</td>\n",
       "    </tr>\n",
       "    <tr>\n",
       "      <th>max</th>\n",
       "      <td>208.100000</td>\n",
       "      <td>47.000000</td>\n",
       "    </tr>\n",
       "  </tbody>\n",
       "</table>\n",
       "</div>"
      ],
      "text/plain": [
       "         compr_in   milhagem\n",
       "count   60.000000  60.000000\n",
       "mean   173.170000  25.883333\n",
       "std     14.128914   8.174146\n",
       "min    141.100000  13.000000\n",
       "25%    159.100000  19.000000\n",
       "50%    171.450000  25.000000\n",
       "75%    179.125000  31.000000\n",
       "max    208.100000  47.000000"
      ]
     },
     "execution_count": 17,
     "metadata": {},
     "output_type": "execute_result"
    }
   ],
   "source": [
    "carros.describe()"
   ]
  },
  {
   "cell_type": "markdown",
   "metadata": {},
   "source": [
    "<h2 style=\"color:blue; background-color:#F3F2F9\">Acessando Dados</h2>\n",
    "\n",
    "* Visualizando as `n` (cinco se o parâmetro `n` não for informado) primeiras ou últimas linhas de um *dataframe*: `dataframe.head()` e `dataframe.tail()`"
   ]
  },
  {
   "cell_type": "code",
   "execution_count": 85,
   "metadata": {
    "scrolled": true
   },
   "outputs": [
    {
     "data": {
      "text/html": [
       "<div>\n",
       "<style scoped>\n",
       "    .dataframe tbody tr th:only-of-type {\n",
       "        vertical-align: middle;\n",
       "    }\n",
       "\n",
       "    .dataframe tbody tr th {\n",
       "        vertical-align: top;\n",
       "    }\n",
       "\n",
       "    .dataframe thead th {\n",
       "        text-align: right;\n",
       "    }\n",
       "</style>\n",
       "<table border=\"1\" class=\"dataframe\">\n",
       "  <thead>\n",
       "    <tr style=\"text-align: right;\">\n",
       "      <th></th>\n",
       "      <th>fábrica</th>\n",
       "      <th>estilo</th>\n",
       "      <th>compr_in</th>\n",
       "      <th>motor</th>\n",
       "      <th>milhagem</th>\n",
       "    </tr>\n",
       "  </thead>\n",
       "  <tbody>\n",
       "    <tr>\n",
       "      <th>0</th>\n",
       "      <td>alfa-romero</td>\n",
       "      <td>conversível</td>\n",
       "      <td>168.8</td>\n",
       "      <td>dohc</td>\n",
       "      <td>21</td>\n",
       "    </tr>\n",
       "    <tr>\n",
       "      <th>1</th>\n",
       "      <td>alfa-romero</td>\n",
       "      <td>hatchback</td>\n",
       "      <td>171.2</td>\n",
       "      <td>ohcv</td>\n",
       "      <td>19</td>\n",
       "    </tr>\n",
       "    <tr>\n",
       "      <th>2</th>\n",
       "      <td>audi</td>\n",
       "      <td>sedan</td>\n",
       "      <td>176.6</td>\n",
       "      <td>ohc</td>\n",
       "      <td>24</td>\n",
       "    </tr>\n",
       "    <tr>\n",
       "      <th>3</th>\n",
       "      <td>audi</td>\n",
       "      <td>sedan</td>\n",
       "      <td>176.6</td>\n",
       "      <td>ohc</td>\n",
       "      <td>18</td>\n",
       "    </tr>\n",
       "    <tr>\n",
       "      <th>4</th>\n",
       "      <td>audi</td>\n",
       "      <td>sedan</td>\n",
       "      <td>177.3</td>\n",
       "      <td>ohc</td>\n",
       "      <td>19</td>\n",
       "    </tr>\n",
       "  </tbody>\n",
       "</table>\n",
       "</div>"
      ],
      "text/plain": [
       "       fábrica       estilo  compr_in motor  milhagem\n",
       "0  alfa-romero  conversível     168.8  dohc        21\n",
       "1  alfa-romero    hatchback     171.2  ohcv        19\n",
       "2         audi        sedan     176.6   ohc        24\n",
       "3         audi        sedan     176.6   ohc        18\n",
       "4         audi        sedan     177.3   ohc        19"
      ]
     },
     "execution_count": 85,
     "metadata": {},
     "output_type": "execute_result"
    }
   ],
   "source": [
    "carros.head()             # mostra as cinco primeiras linhas do dataframe"
   ]
  },
  {
   "cell_type": "code",
   "execution_count": 6,
   "metadata": {},
   "outputs": [
    {
     "data": {
      "text/html": [
       "<div>\n",
       "<style scoped>\n",
       "    .dataframe tbody tr th:only-of-type {\n",
       "        vertical-align: middle;\n",
       "    }\n",
       "\n",
       "    .dataframe tbody tr th {\n",
       "        vertical-align: top;\n",
       "    }\n",
       "\n",
       "    .dataframe thead th {\n",
       "        text-align: right;\n",
       "    }\n",
       "</style>\n",
       "<table border=\"1\" class=\"dataframe\">\n",
       "  <thead>\n",
       "    <tr style=\"text-align: right;\">\n",
       "      <th></th>\n",
       "      <th>fábrica</th>\n",
       "      <th>estilo</th>\n",
       "      <th>compr_in</th>\n",
       "      <th>motor</th>\n",
       "      <th>milhagem</th>\n",
       "    </tr>\n",
       "  </thead>\n",
       "  <tbody>\n",
       "    <tr>\n",
       "      <th>0</th>\n",
       "      <td>alfa-romero</td>\n",
       "      <td>conversível</td>\n",
       "      <td>168.8</td>\n",
       "      <td>dohc</td>\n",
       "      <td>21</td>\n",
       "    </tr>\n",
       "    <tr>\n",
       "      <th>1</th>\n",
       "      <td>alfa-romero</td>\n",
       "      <td>hatchback</td>\n",
       "      <td>171.2</td>\n",
       "      <td>ohcv</td>\n",
       "      <td>19</td>\n",
       "    </tr>\n",
       "    <tr>\n",
       "      <th>2</th>\n",
       "      <td>audi</td>\n",
       "      <td>sedan</td>\n",
       "      <td>176.6</td>\n",
       "      <td>ohc</td>\n",
       "      <td>24</td>\n",
       "    </tr>\n",
       "  </tbody>\n",
       "</table>\n",
       "</div>"
      ],
      "text/plain": [
       "       fábrica       estilo  compr_in motor  milhagem\n",
       "0  alfa-romero  conversível     168.8  dohc        21\n",
       "1  alfa-romero    hatchback     171.2  ohcv        19\n",
       "2         audi        sedan     176.6   ohc        24"
      ]
     },
     "execution_count": 6,
     "metadata": {},
     "output_type": "execute_result"
    }
   ],
   "source": [
    "carros.head(n=3)          # mostra as três primeiras linhas do dataframe"
   ]
  },
  {
   "cell_type": "code",
   "execution_count": 5,
   "metadata": {},
   "outputs": [
    {
     "data": {
      "text/html": [
       "<div>\n",
       "<style scoped>\n",
       "    .dataframe tbody tr th:only-of-type {\n",
       "        vertical-align: middle;\n",
       "    }\n",
       "\n",
       "    .dataframe tbody tr th {\n",
       "        vertical-align: top;\n",
       "    }\n",
       "\n",
       "    .dataframe thead th {\n",
       "        text-align: right;\n",
       "    }\n",
       "</style>\n",
       "<table border=\"1\" class=\"dataframe\">\n",
       "  <thead>\n",
       "    <tr style=\"text-align: right;\">\n",
       "      <th></th>\n",
       "      <th>fábrica</th>\n",
       "      <th>estilo</th>\n",
       "      <th>compr_in</th>\n",
       "      <th>motor</th>\n",
       "      <th>milhagem</th>\n",
       "    </tr>\n",
       "  </thead>\n",
       "  <tbody>\n",
       "    <tr>\n",
       "      <th>58</th>\n",
       "      <td>volvo</td>\n",
       "      <td>sedan</td>\n",
       "      <td>188.8</td>\n",
       "      <td>ohc</td>\n",
       "      <td>23</td>\n",
       "    </tr>\n",
       "    <tr>\n",
       "      <th>59</th>\n",
       "      <td>volvo</td>\n",
       "      <td>perua</td>\n",
       "      <td>188.8</td>\n",
       "      <td>ohc</td>\n",
       "      <td>23</td>\n",
       "    </tr>\n",
       "  </tbody>\n",
       "</table>\n",
       "</div>"
      ],
      "text/plain": [
       "   fábrica estilo  compr_in motor  milhagem\n",
       "58   volvo  sedan     188.8   ohc        23\n",
       "59   volvo  perua     188.8   ohc        23"
      ]
     },
     "execution_count": 5,
     "metadata": {},
     "output_type": "execute_result"
    }
   ],
   "source": [
    "carros.tail(2)            # mostra as duas últimas linhas do dataframe"
   ]
  },
  {
   "cell_type": "markdown",
   "metadata": {},
   "source": [
    "* Mostrando os índices das linhas e colunas:"
   ]
  },
  {
   "cell_type": "code",
   "execution_count": 88,
   "metadata": {},
   "outputs": [
    {
     "data": {
      "text/plain": [
       "RangeIndex(start=0, stop=60, step=1)"
      ]
     },
     "execution_count": 88,
     "metadata": {},
     "output_type": "execute_result"
    }
   ],
   "source": [
    "carros.index"
   ]
  },
  {
   "cell_type": "code",
   "execution_count": 89,
   "metadata": {},
   "outputs": [
    {
     "data": {
      "text/plain": [
       "Index(['fábrica', 'estilo', 'compr_in', 'motor', 'milhagem'], dtype='object')"
      ]
     },
     "execution_count": 89,
     "metadata": {},
     "output_type": "execute_result"
    }
   ],
   "source": [
    "carros.columns"
   ]
  },
  {
   "cell_type": "markdown",
   "metadata": {},
   "source": [
    "* O método `DataFrame.to_numpy()` fornece uma representação **NumPy** dos dados do `DataFrame`. Observe que esta pode ser uma operação dispendiosa quando o `DataFrame` tiver colunas com diferentes tipos de dados.  \n",
    "\n",
    "**Obs.**: Diferença fundamental entre **Pandas** e **NumPy** - os arranjos **NumPy** têm valores de um único tipo de dados (homogêneos), enquanto as estruturas de dados do **Pandas** pode ter um tipo de dado para cada coluna (heterogêneos). \n",
    "\n",
    "Ao usar `DataFrame-ou-Series.to_numpy()`, o **Pandas** encontra o tipo de dados **NumPy** que pode conter todos os tipos de dados da estrutura de dados (índices não são convertidos), e que pode acabar sendo um objeto, requerendo a conversão de todos os valores para objeto Python.\n",
    "\n",
    "Para o nosso DataFrame `df1`, como todos os valores são do tipo _ponto flutuante_, a chamada `df1.to_numpy()` é rápida e não vai requerer cópia de dados."
   ]
  },
  {
   "cell_type": "code",
   "execution_count": 90,
   "metadata": {
    "scrolled": true
   },
   "outputs": [
    {
     "data": {
      "text/plain": [
       "array([[-0.77133302,  1.34019654, -0.986804  ,  0.74414967],\n",
       "       [-1.06279336,  1.13358922, -1.12537986,  0.79280238],\n",
       "       [-0.18381752,  0.24933679,  0.62471944, -0.02528987],\n",
       "       [ 0.12064513,  0.95687314, -1.11879558,  0.52267542],\n",
       "       [ 0.13303518,  0.28982084,  0.48758744, -0.72297319],\n",
       "       [-0.73302202,  0.72173547, -1.2027969 ,  0.25638274]])"
      ]
     },
     "execution_count": 90,
     "metadata": {},
     "output_type": "execute_result"
    }
   ],
   "source": [
    "df1.to_numpy()"
   ]
  },
  {
   "cell_type": "markdown",
   "metadata": {},
   "source": [
    "Para `df2`, o DataFrame tem vários tipos de dados, assim, uma chamada à `DataFrame.to_numpy()` será relativamente dispendiosa."
   ]
  },
  {
   "cell_type": "code",
   "execution_count": 91,
   "metadata": {},
   "outputs": [
    {
     "data": {
      "text/plain": [
       "array([[1.0, Timestamp('2022-05-19 00:00:00'), 1.0, 3, 'teste',\n",
       "        'qq. coisa'],\n",
       "       [1.0, Timestamp('2022-05-19 00:00:00'), 1.0, 3, 'treino',\n",
       "        'qq. coisa'],\n",
       "       [1.0, Timestamp('2022-05-19 00:00:00'), 1.0, 3, 'desenv',\n",
       "        'qq. coisa'],\n",
       "       [1.0, Timestamp('2022-05-19 00:00:00'), 1.0, 3, 'exec',\n",
       "        'qq. coisa']], dtype=object)"
      ]
     },
     "execution_count": 91,
     "metadata": {},
     "output_type": "execute_result"
    }
   ],
   "source": [
    "df2.to_numpy()"
   ]
  },
  {
   "cell_type": "markdown",
   "metadata": {},
   "source": [
    "Esse método, `DataFrame.to_numpy()`, não inclui os índices de linha e de coluna na saída."
   ]
  },
  {
   "cell_type": "markdown",
   "metadata": {},
   "source": [
    "* Transposição dos dados (linhas da tabela se tornam colunas e as colunas se tornam linhas):"
   ]
  },
  {
   "cell_type": "code",
   "execution_count": 40,
   "metadata": {},
   "outputs": [
    {
     "data": {
      "text/html": [
       "<div>\n",
       "<style scoped>\n",
       "    .dataframe tbody tr th:only-of-type {\n",
       "        vertical-align: middle;\n",
       "    }\n",
       "\n",
       "    .dataframe tbody tr th {\n",
       "        vertical-align: top;\n",
       "    }\n",
       "\n",
       "    .dataframe thead th {\n",
       "        text-align: right;\n",
       "    }\n",
       "</style>\n",
       "<table border=\"1\" class=\"dataframe\">\n",
       "  <thead>\n",
       "    <tr style=\"text-align: right;\">\n",
       "      <th></th>\n",
       "      <th>2021-01-01</th>\n",
       "      <th>2021-01-02</th>\n",
       "      <th>2021-01-03</th>\n",
       "      <th>2021-01-04</th>\n",
       "      <th>2021-01-05</th>\n",
       "      <th>2021-01-06</th>\n",
       "      <th>2021-01-07</th>\n",
       "    </tr>\n",
       "  </thead>\n",
       "  <tbody>\n",
       "    <tr>\n",
       "      <th>A</th>\n",
       "      <td>0.073938</td>\n",
       "      <td>-0.304674</td>\n",
       "      <td>0.656176</td>\n",
       "      <td>-0.114384</td>\n",
       "      <td>-0.960309</td>\n",
       "      <td>1.606353</td>\n",
       "      <td>0.133055</td>\n",
       "    </tr>\n",
       "    <tr>\n",
       "      <th>B</th>\n",
       "      <td>0.490166</td>\n",
       "      <td>0.710033</td>\n",
       "      <td>-1.161330</td>\n",
       "      <td>-1.538639</td>\n",
       "      <td>0.776536</td>\n",
       "      <td>0.523092</td>\n",
       "      <td>-0.859184</td>\n",
       "    </tr>\n",
       "    <tr>\n",
       "      <th>C</th>\n",
       "      <td>2.113225</td>\n",
       "      <td>1.610730</td>\n",
       "      <td>1.180122</td>\n",
       "      <td>0.486135</td>\n",
       "      <td>-1.163182</td>\n",
       "      <td>0.496557</td>\n",
       "      <td>1.923470</td>\n",
       "    </tr>\n",
       "    <tr>\n",
       "      <th>D</th>\n",
       "      <td>0.822239</td>\n",
       "      <td>0.133252</td>\n",
       "      <td>2.272202</td>\n",
       "      <td>-1.224443</td>\n",
       "      <td>-0.862176</td>\n",
       "      <td>0.876357</td>\n",
       "      <td>0.027079</td>\n",
       "    </tr>\n",
       "  </tbody>\n",
       "</table>\n",
       "</div>"
      ],
      "text/plain": [
       "   2021-01-01  2021-01-02  2021-01-03  2021-01-04  2021-01-05  2021-01-06  \\\n",
       "A    0.073938   -0.304674    0.656176   -0.114384   -0.960309    1.606353   \n",
       "B    0.490166    0.710033   -1.161330   -1.538639    0.776536    0.523092   \n",
       "C    2.113225    1.610730    1.180122    0.486135   -1.163182    0.496557   \n",
       "D    0.822239    0.133252    2.272202   -1.224443   -0.862176    0.876357   \n",
       "\n",
       "   2021-01-07  \n",
       "A    0.133055  \n",
       "B   -0.859184  \n",
       "C    1.923470  \n",
       "D    0.027079  "
      ]
     },
     "execution_count": 40,
     "metadata": {},
     "output_type": "execute_result"
    }
   ],
   "source": [
    "df1.T"
   ]
  },
  {
   "cell_type": "markdown",
   "metadata": {},
   "source": [
    "* Classificação dos dados a partir de um índice:"
   ]
  },
  {
   "cell_type": "code",
   "execution_count": 95,
   "metadata": {},
   "outputs": [
    {
     "data": {
      "text/html": [
       "<div>\n",
       "<style scoped>\n",
       "    .dataframe tbody tr th:only-of-type {\n",
       "        vertical-align: middle;\n",
       "    }\n",
       "\n",
       "    .dataframe tbody tr th {\n",
       "        vertical-align: top;\n",
       "    }\n",
       "\n",
       "    .dataframe thead th {\n",
       "        text-align: right;\n",
       "    }\n",
       "</style>\n",
       "<table border=\"1\" class=\"dataframe\">\n",
       "  <thead>\n",
       "    <tr style=\"text-align: right;\">\n",
       "      <th></th>\n",
       "      <th>D</th>\n",
       "      <th>C</th>\n",
       "      <th>B</th>\n",
       "      <th>A</th>\n",
       "    </tr>\n",
       "  </thead>\n",
       "  <tbody>\n",
       "    <tr>\n",
       "      <th>2022-05-19</th>\n",
       "      <td>0.744150</td>\n",
       "      <td>-0.986804</td>\n",
       "      <td>1.340197</td>\n",
       "      <td>-0.771333</td>\n",
       "    </tr>\n",
       "    <tr>\n",
       "      <th>2022-05-20</th>\n",
       "      <td>0.792802</td>\n",
       "      <td>-1.125380</td>\n",
       "      <td>1.133589</td>\n",
       "      <td>-1.062793</td>\n",
       "    </tr>\n",
       "    <tr>\n",
       "      <th>2022-05-21</th>\n",
       "      <td>-0.025290</td>\n",
       "      <td>0.624719</td>\n",
       "      <td>0.249337</td>\n",
       "      <td>-0.183818</td>\n",
       "    </tr>\n",
       "    <tr>\n",
       "      <th>2022-05-22</th>\n",
       "      <td>0.522675</td>\n",
       "      <td>-1.118796</td>\n",
       "      <td>0.956873</td>\n",
       "      <td>0.120645</td>\n",
       "    </tr>\n",
       "    <tr>\n",
       "      <th>2022-05-23</th>\n",
       "      <td>-0.722973</td>\n",
       "      <td>0.487587</td>\n",
       "      <td>0.289821</td>\n",
       "      <td>0.133035</td>\n",
       "    </tr>\n",
       "    <tr>\n",
       "      <th>2022-05-24</th>\n",
       "      <td>0.256383</td>\n",
       "      <td>-1.202797</td>\n",
       "      <td>0.721735</td>\n",
       "      <td>-0.733022</td>\n",
       "    </tr>\n",
       "  </tbody>\n",
       "</table>\n",
       "</div>"
      ],
      "text/plain": [
       "                   D         C         B         A\n",
       "2022-05-19  0.744150 -0.986804  1.340197 -0.771333\n",
       "2022-05-20  0.792802 -1.125380  1.133589 -1.062793\n",
       "2022-05-21 -0.025290  0.624719  0.249337 -0.183818\n",
       "2022-05-22  0.522675 -1.118796  0.956873  0.120645\n",
       "2022-05-23 -0.722973  0.487587  0.289821  0.133035\n",
       "2022-05-24  0.256383 -1.202797  0.721735 -0.733022"
      ]
     },
     "execution_count": 95,
     "metadata": {},
     "output_type": "execute_result"
    }
   ],
   "source": [
    "df1.sort_index(axis=1, ascending=False)"
   ]
  },
  {
   "cell_type": "markdown",
   "metadata": {},
   "source": [
    "* Classificação dos dados a partir dos valores:"
   ]
  },
  {
   "cell_type": "code",
   "execution_count": 49,
   "metadata": {},
   "outputs": [
    {
     "data": {
      "text/html": [
       "<div>\n",
       "<style scoped>\n",
       "    .dataframe tbody tr th:only-of-type {\n",
       "        vertical-align: middle;\n",
       "    }\n",
       "\n",
       "    .dataframe tbody tr th {\n",
       "        vertical-align: top;\n",
       "    }\n",
       "\n",
       "    .dataframe thead th {\n",
       "        text-align: right;\n",
       "    }\n",
       "</style>\n",
       "<table border=\"1\" class=\"dataframe\">\n",
       "  <thead>\n",
       "    <tr style=\"text-align: right;\">\n",
       "      <th></th>\n",
       "      <th>A</th>\n",
       "      <th>B</th>\n",
       "      <th>C</th>\n",
       "      <th>D</th>\n",
       "    </tr>\n",
       "  </thead>\n",
       "  <tbody>\n",
       "    <tr>\n",
       "      <th>2021-01-05</th>\n",
       "      <td>-0.960309</td>\n",
       "      <td>0.776536</td>\n",
       "      <td>-1.163182</td>\n",
       "      <td>-0.862176</td>\n",
       "    </tr>\n",
       "    <tr>\n",
       "      <th>2021-01-04</th>\n",
       "      <td>-0.114384</td>\n",
       "      <td>-1.538639</td>\n",
       "      <td>0.486135</td>\n",
       "      <td>-1.224443</td>\n",
       "    </tr>\n",
       "    <tr>\n",
       "      <th>2021-01-06</th>\n",
       "      <td>1.606353</td>\n",
       "      <td>0.523092</td>\n",
       "      <td>0.496557</td>\n",
       "      <td>0.876357</td>\n",
       "    </tr>\n",
       "    <tr>\n",
       "      <th>2021-01-03</th>\n",
       "      <td>0.656176</td>\n",
       "      <td>-1.161330</td>\n",
       "      <td>1.180122</td>\n",
       "      <td>2.272202</td>\n",
       "    </tr>\n",
       "    <tr>\n",
       "      <th>2021-01-02</th>\n",
       "      <td>-0.304674</td>\n",
       "      <td>0.710033</td>\n",
       "      <td>1.610730</td>\n",
       "      <td>0.133252</td>\n",
       "    </tr>\n",
       "    <tr>\n",
       "      <th>2021-01-07</th>\n",
       "      <td>0.133055</td>\n",
       "      <td>-0.859184</td>\n",
       "      <td>1.923470</td>\n",
       "      <td>0.027079</td>\n",
       "    </tr>\n",
       "    <tr>\n",
       "      <th>2021-01-01</th>\n",
       "      <td>0.073938</td>\n",
       "      <td>0.490166</td>\n",
       "      <td>2.113225</td>\n",
       "      <td>0.822239</td>\n",
       "    </tr>\n",
       "  </tbody>\n",
       "</table>\n",
       "</div>"
      ],
      "text/plain": [
       "                   A         B         C         D\n",
       "2021-01-05 -0.960309  0.776536 -1.163182 -0.862176\n",
       "2021-01-04 -0.114384 -1.538639  0.486135 -1.224443\n",
       "2021-01-06  1.606353  0.523092  0.496557  0.876357\n",
       "2021-01-03  0.656176 -1.161330  1.180122  2.272202\n",
       "2021-01-02 -0.304674  0.710033  1.610730  0.133252\n",
       "2021-01-07  0.133055 -0.859184  1.923470  0.027079\n",
       "2021-01-01  0.073938  0.490166  2.113225  0.822239"
      ]
     },
     "execution_count": 49,
     "metadata": {},
     "output_type": "execute_result"
    }
   ],
   "source": [
    "df1.sort_values(by=\"C\")"
   ]
  },
  {
   "cell_type": "markdown",
   "metadata": {},
   "source": [
    "<h2 style=\"color:blue; background-color:#F3F2F9\">Seleção</h2>\n",
    "\n",
    "Embora as expressões padrões do **Python/Numpy** para seleção e atribuição sejam intuitivas e úteis no trabalho interativo, para um código de produção é recomendável o uso dos métodos de acesso de dados otimizados do **Pandas**: `.at, .iat, .loc` e `.iloc` (ver [documentação](https://pandas.pydata.org/docs/user_guide/indexing.html#indexing)).\n",
    "\n",
    "A Seleção de uma única coluna de uma estrutura de dados, produz uma série, equivalente à coluna selecionada, como por exemplo, `df1.A`:"
   ]
  },
  {
   "cell_type": "code",
   "execution_count": 100,
   "metadata": {},
   "outputs": [
    {
     "data": {
      "text/plain": [
       "2022-05-19   -0.771333\n",
       "2022-05-20   -1.062793\n",
       "2022-05-21   -0.183818\n",
       "2022-05-22    0.120645\n",
       "2022-05-23    0.133035\n",
       "2022-05-24   -0.733022\n",
       "Freq: D, Name: A, dtype: float64"
      ]
     },
     "execution_count": 100,
     "metadata": {},
     "output_type": "execute_result"
    }
   ],
   "source": [
    " df1[\"A\"]"
   ]
  },
  {
   "cell_type": "markdown",
   "metadata": {},
   "source": [
    "* A Seleção com colchetes, '[ ]', permite o fatiamento das linhas (*slice*)."
   ]
  },
  {
   "cell_type": "code",
   "execution_count": 97,
   "metadata": {},
   "outputs": [
    {
     "data": {
      "text/html": [
       "<div>\n",
       "<style scoped>\n",
       "    .dataframe tbody tr th:only-of-type {\n",
       "        vertical-align: middle;\n",
       "    }\n",
       "\n",
       "    .dataframe tbody tr th {\n",
       "        vertical-align: top;\n",
       "    }\n",
       "\n",
       "    .dataframe thead th {\n",
       "        text-align: right;\n",
       "    }\n",
       "</style>\n",
       "<table border=\"1\" class=\"dataframe\">\n",
       "  <thead>\n",
       "    <tr style=\"text-align: right;\">\n",
       "      <th></th>\n",
       "      <th>A</th>\n",
       "      <th>B</th>\n",
       "      <th>C</th>\n",
       "      <th>D</th>\n",
       "    </tr>\n",
       "  </thead>\n",
       "  <tbody>\n",
       "    <tr>\n",
       "      <th>2022-05-19</th>\n",
       "      <td>-0.771333</td>\n",
       "      <td>1.340197</td>\n",
       "      <td>-0.986804</td>\n",
       "      <td>0.744150</td>\n",
       "    </tr>\n",
       "    <tr>\n",
       "      <th>2022-05-20</th>\n",
       "      <td>-1.062793</td>\n",
       "      <td>1.133589</td>\n",
       "      <td>-1.125380</td>\n",
       "      <td>0.792802</td>\n",
       "    </tr>\n",
       "    <tr>\n",
       "      <th>2022-05-21</th>\n",
       "      <td>-0.183818</td>\n",
       "      <td>0.249337</td>\n",
       "      <td>0.624719</td>\n",
       "      <td>-0.025290</td>\n",
       "    </tr>\n",
       "  </tbody>\n",
       "</table>\n",
       "</div>"
      ],
      "text/plain": [
       "                   A         B         C         D\n",
       "2022-05-19 -0.771333  1.340197 -0.986804  0.744150\n",
       "2022-05-20 -1.062793  1.133589 -1.125380  0.792802\n",
       "2022-05-21 -0.183818  0.249337  0.624719 -0.025290"
      ]
     },
     "execution_count": 97,
     "metadata": {},
     "output_type": "execute_result"
    }
   ],
   "source": [
    "df1[0:3]     # seleciona as linhas 0, 1 e 2"
   ]
  },
  {
   "cell_type": "code",
   "execution_count": 102,
   "metadata": {},
   "outputs": [
    {
     "data": {
      "text/html": [
       "<div>\n",
       "<style scoped>\n",
       "    .dataframe tbody tr th:only-of-type {\n",
       "        vertical-align: middle;\n",
       "    }\n",
       "\n",
       "    .dataframe tbody tr th {\n",
       "        vertical-align: top;\n",
       "    }\n",
       "\n",
       "    .dataframe thead th {\n",
       "        text-align: right;\n",
       "    }\n",
       "</style>\n",
       "<table border=\"1\" class=\"dataframe\">\n",
       "  <thead>\n",
       "    <tr style=\"text-align: right;\">\n",
       "      <th></th>\n",
       "      <th>A</th>\n",
       "      <th>B</th>\n",
       "      <th>C</th>\n",
       "      <th>D</th>\n",
       "    </tr>\n",
       "  </thead>\n",
       "  <tbody>\n",
       "    <tr>\n",
       "      <th>2022-05-22</th>\n",
       "      <td>0.120645</td>\n",
       "      <td>0.956873</td>\n",
       "      <td>-1.118796</td>\n",
       "      <td>0.522675</td>\n",
       "    </tr>\n",
       "    <tr>\n",
       "      <th>2022-05-23</th>\n",
       "      <td>0.133035</td>\n",
       "      <td>0.289821</td>\n",
       "      <td>0.487587</td>\n",
       "      <td>-0.722973</td>\n",
       "    </tr>\n",
       "    <tr>\n",
       "      <th>2022-05-24</th>\n",
       "      <td>-0.733022</td>\n",
       "      <td>0.721735</td>\n",
       "      <td>-1.202797</td>\n",
       "      <td>0.256383</td>\n",
       "    </tr>\n",
       "  </tbody>\n",
       "</table>\n",
       "</div>"
      ],
      "text/plain": [
       "                   A         B         C         D\n",
       "2022-05-22  0.120645  0.956873 -1.118796  0.522675\n",
       "2022-05-23  0.133035  0.289821  0.487587 -0.722973\n",
       "2022-05-24 -0.733022  0.721735 -1.202797  0.256383"
      ]
     },
     "execution_count": 102,
     "metadata": {},
     "output_type": "execute_result"
    }
   ],
   "source": [
    "df1[\"20220522\":\"20220524\"]     # seleciona as linhas com as datas \"20210104\", \"20210105\" e \"20210106\""
   ]
  },
  {
   "cell_type": "markdown",
   "metadata": {},
   "source": [
    "* Para obter uma seção transversal (grupo de linhas e colunas) use a propriedade `DataFrame.loc` e rótulo(s) ou uma matriz booleana.\n",
    "\n",
    "    As entradas permitidas são:\n",
    "\n",
    "    * Um único rótulo, por exemplo 5 ou 'a' (observe que 5 é interpretado como rótulo do índice e nunca como posição inteira ao longo do índice).\n",
    "    * Uma lista ou matriz de rótulos, por exemplo ['a', 'b', 'c'].\n",
    "    * Um objeto de fatia com rótulos, por exemplo, 'a': 'f' (tanto o início quanto o final estão incluídos, diferentemente das fatias em Python).\n",
    "    * Uma matriz booleana do mesmo comprimento do eixo fatiado, por ex. [`True, False, True`].\n",
    "    * Uma série booleana alinhada. O índice da chave será alinhado antes do mascaramento.\n",
    "    * Um índice alinhado. O índice da seleção retornada será a entrada.\n",
    "    * Uma função chamável (`callable`) com um argumento (a Série ou o <i>DataFrame</i>) e que retorna uma saída válida para indexação (uma das opções acima).\n",
    "    \n",
    "    `df.loc[<linhas>, <colunas>]`"
   ]
  },
  {
   "cell_type": "code",
   "execution_count": 107,
   "metadata": {},
   "outputs": [
    {
     "data": {
      "text/plain": [
       "A    0.120645\n",
       "B    0.956873\n",
       "C   -1.118796\n",
       "D    0.522675\n",
       "Name: 2022-05-22 00:00:00, dtype: float64"
      ]
     },
     "execution_count": 107,
     "metadata": {},
     "output_type": "execute_result"
    }
   ],
   "source": [
    "df1.loc[\"20220522\"]"
   ]
  },
  {
   "cell_type": "markdown",
   "metadata": {},
   "source": [
    "* Selecionando multi-eixos por rótulos:"
   ]
  },
  {
   "cell_type": "code",
   "execution_count": 110,
   "metadata": {},
   "outputs": [
    {
     "data": {
      "text/html": [
       "<div>\n",
       "<style scoped>\n",
       "    .dataframe tbody tr th:only-of-type {\n",
       "        vertical-align: middle;\n",
       "    }\n",
       "\n",
       "    .dataframe tbody tr th {\n",
       "        vertical-align: top;\n",
       "    }\n",
       "\n",
       "    .dataframe thead th {\n",
       "        text-align: right;\n",
       "    }\n",
       "</style>\n",
       "<table border=\"1\" class=\"dataframe\">\n",
       "  <thead>\n",
       "    <tr style=\"text-align: right;\">\n",
       "      <th></th>\n",
       "      <th>A</th>\n",
       "      <th>C</th>\n",
       "    </tr>\n",
       "  </thead>\n",
       "  <tbody>\n",
       "    <tr>\n",
       "      <th>2022-05-19</th>\n",
       "      <td>-0.771333</td>\n",
       "      <td>-0.986804</td>\n",
       "    </tr>\n",
       "    <tr>\n",
       "      <th>2022-05-20</th>\n",
       "      <td>-1.062793</td>\n",
       "      <td>-1.125380</td>\n",
       "    </tr>\n",
       "    <tr>\n",
       "      <th>2022-05-21</th>\n",
       "      <td>-0.183818</td>\n",
       "      <td>0.624719</td>\n",
       "    </tr>\n",
       "    <tr>\n",
       "      <th>2022-05-22</th>\n",
       "      <td>0.120645</td>\n",
       "      <td>-1.118796</td>\n",
       "    </tr>\n",
       "    <tr>\n",
       "      <th>2022-05-23</th>\n",
       "      <td>0.133035</td>\n",
       "      <td>0.487587</td>\n",
       "    </tr>\n",
       "  </tbody>\n",
       "</table>\n",
       "</div>"
      ],
      "text/plain": [
       "                   A         C\n",
       "2022-05-19 -0.771333 -0.986804\n",
       "2022-05-20 -1.062793 -1.125380\n",
       "2022-05-21 -0.183818  0.624719\n",
       "2022-05-22  0.120645 -1.118796\n",
       "2022-05-23  0.133035  0.487587"
      ]
     },
     "execution_count": 110,
     "metadata": {},
     "output_type": "execute_result"
    }
   ],
   "source": [
    "df1.loc[:\"20220523\",(\"A\",\"C\")]"
   ]
  },
  {
   "cell_type": "markdown",
   "metadata": {},
   "source": [
    "* Acessando o valor de uma célula da tabela usando as propriedades `dataframe.loc[]` ou `dataframe.at[]`:"
   ]
  },
  {
   "cell_type": "code",
   "execution_count": 112,
   "metadata": {},
   "outputs": [
    {
     "data": {
      "text/plain": [
       "0.48758744199140436"
      ]
     },
     "execution_count": 112,
     "metadata": {},
     "output_type": "execute_result"
    }
   ],
   "source": [
    "# Método 1\n",
    "df1.loc[\"20220523\",\"C\"]"
   ]
  },
  {
   "cell_type": "code",
   "execution_count": 113,
   "metadata": {},
   "outputs": [
    {
     "data": {
      "text/plain": [
       "0.48758744199140436"
      ]
     },
     "execution_count": 113,
     "metadata": {},
     "output_type": "execute_result"
    }
   ],
   "source": [
    "# Método 2\n",
    "df1.at[\"20220523\",\"C\"]"
   ]
  },
  {
   "cell_type": "markdown",
   "metadata": {},
   "source": [
    "<h2 style=\"color:blue; background-color:#F3F2F9\">Seleção por Posição</h2>"
   ]
  },
  {
   "cell_type": "markdown",
   "metadata": {},
   "source": [
    "* O indexador `iloc` é de uso mais simples que o `loc`, pois podemos selecionar por números inteiros das linhas, por *arrays* ou por fatiamento. A propriedade `iloc[]` tem a sintaxe semelhante à da propriedade `loc[]`:  \n",
    "\n",
    "    `df.iloc[<linhas>, <colunas>]`"
   ]
  },
  {
   "cell_type": "code",
   "execution_count": 120,
   "metadata": {},
   "outputs": [
    {
     "data": {
      "text/html": [
       "<div>\n",
       "<style scoped>\n",
       "    .dataframe tbody tr th:only-of-type {\n",
       "        vertical-align: middle;\n",
       "    }\n",
       "\n",
       "    .dataframe tbody tr th {\n",
       "        vertical-align: top;\n",
       "    }\n",
       "\n",
       "    .dataframe thead th {\n",
       "        text-align: right;\n",
       "    }\n",
       "</style>\n",
       "<table border=\"1\" class=\"dataframe\">\n",
       "  <thead>\n",
       "    <tr style=\"text-align: right;\">\n",
       "      <th></th>\n",
       "      <th>A</th>\n",
       "      <th>B</th>\n",
       "      <th>C</th>\n",
       "      <th>D</th>\n",
       "    </tr>\n",
       "  </thead>\n",
       "  <tbody>\n",
       "    <tr>\n",
       "      <th>2022-05-19</th>\n",
       "      <td>-0.771333</td>\n",
       "      <td>1.340197</td>\n",
       "      <td>-0.986804</td>\n",
       "      <td>0.744150</td>\n",
       "    </tr>\n",
       "    <tr>\n",
       "      <th>2022-05-20</th>\n",
       "      <td>-1.062793</td>\n",
       "      <td>1.133589</td>\n",
       "      <td>-1.125380</td>\n",
       "      <td>0.792802</td>\n",
       "    </tr>\n",
       "    <tr>\n",
       "      <th>2022-05-21</th>\n",
       "      <td>-0.183818</td>\n",
       "      <td>0.249337</td>\n",
       "      <td>0.624719</td>\n",
       "      <td>-0.025290</td>\n",
       "    </tr>\n",
       "    <tr>\n",
       "      <th>2022-05-22</th>\n",
       "      <td>0.120645</td>\n",
       "      <td>0.956873</td>\n",
       "      <td>-1.118796</td>\n",
       "      <td>0.522675</td>\n",
       "    </tr>\n",
       "    <tr>\n",
       "      <th>2022-05-23</th>\n",
       "      <td>0.133035</td>\n",
       "      <td>0.289821</td>\n",
       "      <td>0.487587</td>\n",
       "      <td>-0.722973</td>\n",
       "    </tr>\n",
       "    <tr>\n",
       "      <th>2022-05-24</th>\n",
       "      <td>-0.733022</td>\n",
       "      <td>0.721735</td>\n",
       "      <td>-1.202797</td>\n",
       "      <td>0.256383</td>\n",
       "    </tr>\n",
       "  </tbody>\n",
       "</table>\n",
       "</div>"
      ],
      "text/plain": [
       "                   A         B         C         D\n",
       "2022-05-19 -0.771333  1.340197 -0.986804  0.744150\n",
       "2022-05-20 -1.062793  1.133589 -1.125380  0.792802\n",
       "2022-05-21 -0.183818  0.249337  0.624719 -0.025290\n",
       "2022-05-22  0.120645  0.956873 -1.118796  0.522675\n",
       "2022-05-23  0.133035  0.289821  0.487587 -0.722973\n",
       "2022-05-24 -0.733022  0.721735 -1.202797  0.256383"
      ]
     },
     "execution_count": 120,
     "metadata": {},
     "output_type": "execute_result"
    }
   ],
   "source": [
    "df1"
   ]
  },
  {
   "cell_type": "code",
   "execution_count": 115,
   "metadata": {},
   "outputs": [
    {
     "data": {
      "text/plain": [
       "A   -0.771333\n",
       "B    1.340197\n",
       "C   -0.986804\n",
       "D    0.744150\n",
       "Name: 2022-05-19 00:00:00, dtype: float64"
      ]
     },
     "execution_count": 115,
     "metadata": {},
     "output_type": "execute_result"
    }
   ],
   "source": [
    "df1.iloc[0]                       # Selecionado a primeira linha do dataset"
   ]
  },
  {
   "cell_type": "code",
   "execution_count": 116,
   "metadata": {},
   "outputs": [
    {
     "data": {
      "text/plain": [
       "A   -0.733022\n",
       "B    0.721735\n",
       "C   -1.202797\n",
       "D    0.256383\n",
       "Name: 2022-05-24 00:00:00, dtype: float64"
      ]
     },
     "execution_count": 116,
     "metadata": {},
     "output_type": "execute_result"
    }
   ],
   "source": [
    "df1.iloc[-1]                      # Selecionando a última linha"
   ]
  },
  {
   "cell_type": "code",
   "execution_count": 117,
   "metadata": {},
   "outputs": [
    {
     "data": {
      "text/plain": [
       "2022-05-19   -0.771333\n",
       "2022-05-20   -1.062793\n",
       "2022-05-21   -0.183818\n",
       "2022-05-22    0.120645\n",
       "2022-05-23    0.133035\n",
       "2022-05-24   -0.733022\n",
       "Freq: D, Name: A, dtype: float64"
      ]
     },
     "execution_count": 117,
     "metadata": {},
     "output_type": "execute_result"
    }
   ],
   "source": [
    "df1.iloc[:,0]                     # Todos os dados da primeira coluna do dataset"
   ]
  },
  {
   "cell_type": "code",
   "execution_count": 118,
   "metadata": {},
   "outputs": [
    {
     "data": {
      "text/plain": [
       "2022-05-19    0.744150\n",
       "2022-05-20    0.792802\n",
       "2022-05-21   -0.025290\n",
       "Freq: D, Name: D, dtype: float64"
      ]
     },
     "execution_count": 118,
     "metadata": {},
     "output_type": "execute_result"
    }
   ],
   "source": [
    "df1.iloc[0:3,-1]                  # Do primeiro ao terceiro dado da última coluna"
   ]
  },
  {
   "cell_type": "code",
   "execution_count": 119,
   "metadata": {},
   "outputs": [
    {
     "data": {
      "text/html": [
       "<div>\n",
       "<style scoped>\n",
       "    .dataframe tbody tr th:only-of-type {\n",
       "        vertical-align: middle;\n",
       "    }\n",
       "\n",
       "    .dataframe tbody tr th {\n",
       "        vertical-align: top;\n",
       "    }\n",
       "\n",
       "    .dataframe thead th {\n",
       "        text-align: right;\n",
       "    }\n",
       "</style>\n",
       "<table border=\"1\" class=\"dataframe\">\n",
       "  <thead>\n",
       "    <tr style=\"text-align: right;\">\n",
       "      <th></th>\n",
       "      <th>A</th>\n",
       "      <th>C</th>\n",
       "    </tr>\n",
       "  </thead>\n",
       "  <tbody>\n",
       "    <tr>\n",
       "      <th>2022-05-20</th>\n",
       "      <td>-1.062793</td>\n",
       "      <td>-1.125380</td>\n",
       "    </tr>\n",
       "    <tr>\n",
       "      <th>2022-05-21</th>\n",
       "      <td>-0.183818</td>\n",
       "      <td>0.624719</td>\n",
       "    </tr>\n",
       "    <tr>\n",
       "      <th>2022-05-23</th>\n",
       "      <td>0.133035</td>\n",
       "      <td>0.487587</td>\n",
       "    </tr>\n",
       "  </tbody>\n",
       "</table>\n",
       "</div>"
      ],
      "text/plain": [
       "                   A         C\n",
       "2022-05-20 -1.062793 -1.125380\n",
       "2022-05-21 -0.183818  0.624719\n",
       "2022-05-23  0.133035  0.487587"
      ]
     },
     "execution_count": 119,
     "metadata": {},
     "output_type": "execute_result"
    }
   ],
   "source": [
    "df1.iloc[[1, 2, 4], [0, 2]]       # segunda, terceira e quarta linhas; primeira e terceira colunas"
   ]
  },
  {
   "cell_type": "markdown",
   "metadata": {},
   "source": [
    "Obs.: Ao solicitar à propriedade `iloc` apenas uma linha ele retorna um objeto `Series Pandas`, e no caso de múltiplas linhas então ela retorna um `DataFrame Pandas`."
   ]
  },
  {
   "cell_type": "markdown",
   "metadata": {},
   "source": [
    "* Acessando rapidamente um escalar:"
   ]
  },
  {
   "cell_type": "code",
   "execution_count": 121,
   "metadata": {},
   "outputs": [
    {
     "data": {
      "text/plain": [
       "1.1335892218975712"
      ]
     },
     "execution_count": 121,
     "metadata": {},
     "output_type": "execute_result"
    }
   ],
   "source": [
    "df1.iat[1,1]                       # valor da célula na (segunda linha; segunda coluna)"
   ]
  },
  {
   "cell_type": "code",
   "execution_count": 70,
   "metadata": {
    "scrolled": true
   },
   "outputs": [
    {
     "name": "stdout",
     "output_type": "stream",
     "text": [
      "<class 'pandas.core.series.Series'> <class 'pandas.core.frame.DataFrame'>\n"
     ]
    }
   ],
   "source": [
    "print(type(df1.iloc[-1]), type(df1.iloc[0:3,2:4]))"
   ]
  },
  {
   "cell_type": "markdown",
   "metadata": {},
   "source": [
    "**Resumo**: A utilização de ambas propriedades é útil, porem `loc[]` se mostra mais versátil, pois podemos selecionar colunas por seus rótulos, o que torna o trabalho mais fácil. Já a propriedade `iloc[]` depende dos números dos índices, o que torna mais rara sua utilização."
   ]
  },
  {
   "cell_type": "markdown",
   "metadata": {},
   "source": [
    "<h2 style=\"color:blue; background-color:#F3F2F9\">Indexação Booleana</h2>\n",
    "\n",
    "Usando os valores de uma única coluna para selecionar dados."
   ]
  },
  {
   "cell_type": "code",
   "execution_count": 122,
   "metadata": {},
   "outputs": [
    {
     "data": {
      "text/html": [
       "<div>\n",
       "<style scoped>\n",
       "    .dataframe tbody tr th:only-of-type {\n",
       "        vertical-align: middle;\n",
       "    }\n",
       "\n",
       "    .dataframe tbody tr th {\n",
       "        vertical-align: top;\n",
       "    }\n",
       "\n",
       "    .dataframe thead th {\n",
       "        text-align: right;\n",
       "    }\n",
       "</style>\n",
       "<table border=\"1\" class=\"dataframe\">\n",
       "  <thead>\n",
       "    <tr style=\"text-align: right;\">\n",
       "      <th></th>\n",
       "      <th>A</th>\n",
       "      <th>B</th>\n",
       "      <th>C</th>\n",
       "      <th>D</th>\n",
       "    </tr>\n",
       "  </thead>\n",
       "  <tbody>\n",
       "    <tr>\n",
       "      <th>2022-05-19</th>\n",
       "      <td>-0.771333</td>\n",
       "      <td>1.340197</td>\n",
       "      <td>-0.986804</td>\n",
       "      <td>0.744150</td>\n",
       "    </tr>\n",
       "    <tr>\n",
       "      <th>2022-05-20</th>\n",
       "      <td>-1.062793</td>\n",
       "      <td>1.133589</td>\n",
       "      <td>-1.125380</td>\n",
       "      <td>0.792802</td>\n",
       "    </tr>\n",
       "    <tr>\n",
       "      <th>2022-05-21</th>\n",
       "      <td>-0.183818</td>\n",
       "      <td>0.249337</td>\n",
       "      <td>0.624719</td>\n",
       "      <td>-0.025290</td>\n",
       "    </tr>\n",
       "    <tr>\n",
       "      <th>2022-05-22</th>\n",
       "      <td>0.120645</td>\n",
       "      <td>0.956873</td>\n",
       "      <td>-1.118796</td>\n",
       "      <td>0.522675</td>\n",
       "    </tr>\n",
       "    <tr>\n",
       "      <th>2022-05-23</th>\n",
       "      <td>0.133035</td>\n",
       "      <td>0.289821</td>\n",
       "      <td>0.487587</td>\n",
       "      <td>-0.722973</td>\n",
       "    </tr>\n",
       "    <tr>\n",
       "      <th>2022-05-24</th>\n",
       "      <td>-0.733022</td>\n",
       "      <td>0.721735</td>\n",
       "      <td>-1.202797</td>\n",
       "      <td>0.256383</td>\n",
       "    </tr>\n",
       "  </tbody>\n",
       "</table>\n",
       "</div>"
      ],
      "text/plain": [
       "                   A         B         C         D\n",
       "2022-05-19 -0.771333  1.340197 -0.986804  0.744150\n",
       "2022-05-20 -1.062793  1.133589 -1.125380  0.792802\n",
       "2022-05-21 -0.183818  0.249337  0.624719 -0.025290\n",
       "2022-05-22  0.120645  0.956873 -1.118796  0.522675\n",
       "2022-05-23  0.133035  0.289821  0.487587 -0.722973\n",
       "2022-05-24 -0.733022  0.721735 -1.202797  0.256383"
      ]
     },
     "execution_count": 122,
     "metadata": {},
     "output_type": "execute_result"
    }
   ],
   "source": [
    "df1"
   ]
  },
  {
   "cell_type": "code",
   "execution_count": 123,
   "metadata": {},
   "outputs": [
    {
     "data": {
      "text/html": [
       "<div>\n",
       "<style scoped>\n",
       "    .dataframe tbody tr th:only-of-type {\n",
       "        vertical-align: middle;\n",
       "    }\n",
       "\n",
       "    .dataframe tbody tr th {\n",
       "        vertical-align: top;\n",
       "    }\n",
       "\n",
       "    .dataframe thead th {\n",
       "        text-align: right;\n",
       "    }\n",
       "</style>\n",
       "<table border=\"1\" class=\"dataframe\">\n",
       "  <thead>\n",
       "    <tr style=\"text-align: right;\">\n",
       "      <th></th>\n",
       "      <th>A</th>\n",
       "      <th>B</th>\n",
       "      <th>C</th>\n",
       "      <th>D</th>\n",
       "    </tr>\n",
       "  </thead>\n",
       "  <tbody>\n",
       "    <tr>\n",
       "      <th>2022-05-22</th>\n",
       "      <td>0.120645</td>\n",
       "      <td>0.956873</td>\n",
       "      <td>-1.118796</td>\n",
       "      <td>0.522675</td>\n",
       "    </tr>\n",
       "    <tr>\n",
       "      <th>2022-05-23</th>\n",
       "      <td>0.133035</td>\n",
       "      <td>0.289821</td>\n",
       "      <td>0.487587</td>\n",
       "      <td>-0.722973</td>\n",
       "    </tr>\n",
       "  </tbody>\n",
       "</table>\n",
       "</div>"
      ],
      "text/plain": [
       "                   A         B         C         D\n",
       "2022-05-22  0.120645  0.956873 -1.118796  0.522675\n",
       "2022-05-23  0.133035  0.289821  0.487587 -0.722973"
      ]
     },
     "execution_count": 123,
     "metadata": {},
     "output_type": "execute_result"
    }
   ],
   "source": [
    "df1[df1[\"A\"] > 0]                 # somente linhas com valores positivos na coluna 'A'"
   ]
  },
  {
   "cell_type": "markdown",
   "metadata": {},
   "source": [
    "* Usando o método `isin()` ('*is in*', trad. do inglês: 'está dentro') para filtrar valores:"
   ]
  },
  {
   "cell_type": "code",
   "execution_count": 125,
   "metadata": {},
   "outputs": [
    {
     "data": {
      "text/html": [
       "<div>\n",
       "<style scoped>\n",
       "    .dataframe tbody tr th:only-of-type {\n",
       "        vertical-align: middle;\n",
       "    }\n",
       "\n",
       "    .dataframe tbody tr th {\n",
       "        vertical-align: top;\n",
       "    }\n",
       "\n",
       "    .dataframe thead th {\n",
       "        text-align: right;\n",
       "    }\n",
       "</style>\n",
       "<table border=\"1\" class=\"dataframe\">\n",
       "  <thead>\n",
       "    <tr style=\"text-align: right;\">\n",
       "      <th></th>\n",
       "      <th>A</th>\n",
       "      <th>B</th>\n",
       "      <th>C</th>\n",
       "      <th>D</th>\n",
       "      <th>E</th>\n",
       "    </tr>\n",
       "  </thead>\n",
       "  <tbody>\n",
       "    <tr>\n",
       "      <th>2022-05-19</th>\n",
       "      <td>-0.771333</td>\n",
       "      <td>1.340197</td>\n",
       "      <td>-0.986804</td>\n",
       "      <td>0.744150</td>\n",
       "      <td>um</td>\n",
       "    </tr>\n",
       "    <tr>\n",
       "      <th>2022-05-20</th>\n",
       "      <td>-1.062793</td>\n",
       "      <td>1.133589</td>\n",
       "      <td>-1.125380</td>\n",
       "      <td>0.792802</td>\n",
       "      <td>um</td>\n",
       "    </tr>\n",
       "    <tr>\n",
       "      <th>2022-05-21</th>\n",
       "      <td>-0.183818</td>\n",
       "      <td>0.249337</td>\n",
       "      <td>0.624719</td>\n",
       "      <td>-0.025290</td>\n",
       "      <td>dois</td>\n",
       "    </tr>\n",
       "    <tr>\n",
       "      <th>2022-05-22</th>\n",
       "      <td>0.120645</td>\n",
       "      <td>0.956873</td>\n",
       "      <td>-1.118796</td>\n",
       "      <td>0.522675</td>\n",
       "      <td>três</td>\n",
       "    </tr>\n",
       "    <tr>\n",
       "      <th>2022-05-23</th>\n",
       "      <td>0.133035</td>\n",
       "      <td>0.289821</td>\n",
       "      <td>0.487587</td>\n",
       "      <td>-0.722973</td>\n",
       "      <td>quatro</td>\n",
       "    </tr>\n",
       "    <tr>\n",
       "      <th>2022-05-24</th>\n",
       "      <td>-0.733022</td>\n",
       "      <td>0.721735</td>\n",
       "      <td>-1.202797</td>\n",
       "      <td>0.256383</td>\n",
       "      <td>três</td>\n",
       "    </tr>\n",
       "  </tbody>\n",
       "</table>\n",
       "</div>"
      ],
      "text/plain": [
       "                   A         B         C         D       E\n",
       "2022-05-19 -0.771333  1.340197 -0.986804  0.744150      um\n",
       "2022-05-20 -1.062793  1.133589 -1.125380  0.792802      um\n",
       "2022-05-21 -0.183818  0.249337  0.624719 -0.025290    dois\n",
       "2022-05-22  0.120645  0.956873 -1.118796  0.522675    três\n",
       "2022-05-23  0.133035  0.289821  0.487587 -0.722973  quatro\n",
       "2022-05-24 -0.733022  0.721735 -1.202797  0.256383    três"
      ]
     },
     "execution_count": 125,
     "metadata": {},
     "output_type": "execute_result"
    }
   ],
   "source": [
    "df3 = df1.copy()                  # cópia profunda do dataframe\n",
    "df3[\"E\"] = [\"um\", \"um\", \"dois\", \"três\", \"quatro\", \"três\"]   # acrescentando a coluna 'E' ao dataframe\n",
    "df3"
   ]
  },
  {
   "cell_type": "code",
   "execution_count": 126,
   "metadata": {},
   "outputs": [
    {
     "data": {
      "text/html": [
       "<div>\n",
       "<style scoped>\n",
       "    .dataframe tbody tr th:only-of-type {\n",
       "        vertical-align: middle;\n",
       "    }\n",
       "\n",
       "    .dataframe tbody tr th {\n",
       "        vertical-align: top;\n",
       "    }\n",
       "\n",
       "    .dataframe thead th {\n",
       "        text-align: right;\n",
       "    }\n",
       "</style>\n",
       "<table border=\"1\" class=\"dataframe\">\n",
       "  <thead>\n",
       "    <tr style=\"text-align: right;\">\n",
       "      <th></th>\n",
       "      <th>A</th>\n",
       "      <th>B</th>\n",
       "      <th>C</th>\n",
       "      <th>D</th>\n",
       "      <th>E</th>\n",
       "    </tr>\n",
       "  </thead>\n",
       "  <tbody>\n",
       "    <tr>\n",
       "      <th>2022-05-19</th>\n",
       "      <td>-0.771333</td>\n",
       "      <td>1.340197</td>\n",
       "      <td>-0.986804</td>\n",
       "      <td>0.744150</td>\n",
       "      <td>um</td>\n",
       "    </tr>\n",
       "    <tr>\n",
       "      <th>2022-05-20</th>\n",
       "      <td>-1.062793</td>\n",
       "      <td>1.133589</td>\n",
       "      <td>-1.125380</td>\n",
       "      <td>0.792802</td>\n",
       "      <td>um</td>\n",
       "    </tr>\n",
       "    <tr>\n",
       "      <th>2022-05-21</th>\n",
       "      <td>-0.183818</td>\n",
       "      <td>0.249337</td>\n",
       "      <td>0.624719</td>\n",
       "      <td>-0.025290</td>\n",
       "      <td>dois</td>\n",
       "    </tr>\n",
       "    <tr>\n",
       "      <th>2022-05-23</th>\n",
       "      <td>0.133035</td>\n",
       "      <td>0.289821</td>\n",
       "      <td>0.487587</td>\n",
       "      <td>-0.722973</td>\n",
       "      <td>quatro</td>\n",
       "    </tr>\n",
       "  </tbody>\n",
       "</table>\n",
       "</div>"
      ],
      "text/plain": [
       "                   A         B         C         D       E\n",
       "2022-05-19 -0.771333  1.340197 -0.986804  0.744150      um\n",
       "2022-05-20 -1.062793  1.133589 -1.125380  0.792802      um\n",
       "2022-05-21 -0.183818  0.249337  0.624719 -0.025290    dois\n",
       "2022-05-23  0.133035  0.289821  0.487587 -0.722973  quatro"
      ]
     },
     "execution_count": 126,
     "metadata": {},
     "output_type": "execute_result"
    }
   ],
   "source": [
    "df3[df3[\"E\"].isin([\"um\",\"dois\", \"quatro\"])]    # seleciona somente as linhas com valores \"dois\" ou \"quatro\" na coluna 'E'"
   ]
  },
  {
   "cell_type": "markdown",
   "metadata": {},
   "source": [
    "<h2 style=\"color:blue; background-color:#F3F2F9\">Definindo Valores</h2>  \n",
    "\n",
    "Ao definir uma nova coluna na estrutura de dados, o **Pandas** faz o alinhamento automático dos dados ao índice."
   ]
  },
  {
   "cell_type": "code",
   "execution_count": 127,
   "metadata": {},
   "outputs": [
    {
     "data": {
      "text/plain": [
       "2022-05-19    10\n",
       "2022-05-20    20\n",
       "2022-05-21   -30\n",
       "2022-05-22    40\n",
       "2022-05-23    50\n",
       "2022-05-24    60\n",
       "2022-05-25    70\n",
       "Freq: D, dtype: int64"
      ]
     },
     "execution_count": 127,
     "metadata": {},
     "output_type": "execute_result"
    }
   ],
   "source": [
    "serie1 = pd.Series([10, 20, -30, 40, 50, 60, 70], index=pd.date_range(\"20220519\", periods=7))\n",
    "serie1"
   ]
  },
  {
   "cell_type": "code",
   "execution_count": 128,
   "metadata": {},
   "outputs": [
    {
     "data": {
      "text/html": [
       "<div>\n",
       "<style scoped>\n",
       "    .dataframe tbody tr th:only-of-type {\n",
       "        vertical-align: middle;\n",
       "    }\n",
       "\n",
       "    .dataframe tbody tr th {\n",
       "        vertical-align: top;\n",
       "    }\n",
       "\n",
       "    .dataframe thead th {\n",
       "        text-align: right;\n",
       "    }\n",
       "</style>\n",
       "<table border=\"1\" class=\"dataframe\">\n",
       "  <thead>\n",
       "    <tr style=\"text-align: right;\">\n",
       "      <th></th>\n",
       "      <th>A</th>\n",
       "      <th>B</th>\n",
       "      <th>C</th>\n",
       "      <th>D</th>\n",
       "      <th>E</th>\n",
       "      <th>F</th>\n",
       "    </tr>\n",
       "  </thead>\n",
       "  <tbody>\n",
       "    <tr>\n",
       "      <th>2022-05-19</th>\n",
       "      <td>-0.771333</td>\n",
       "      <td>1.340197</td>\n",
       "      <td>-0.986804</td>\n",
       "      <td>0.744150</td>\n",
       "      <td>um</td>\n",
       "      <td>10</td>\n",
       "    </tr>\n",
       "    <tr>\n",
       "      <th>2022-05-20</th>\n",
       "      <td>-1.062793</td>\n",
       "      <td>1.133589</td>\n",
       "      <td>-1.125380</td>\n",
       "      <td>0.792802</td>\n",
       "      <td>um</td>\n",
       "      <td>20</td>\n",
       "    </tr>\n",
       "    <tr>\n",
       "      <th>2022-05-21</th>\n",
       "      <td>-0.183818</td>\n",
       "      <td>0.249337</td>\n",
       "      <td>0.624719</td>\n",
       "      <td>-0.025290</td>\n",
       "      <td>dois</td>\n",
       "      <td>-30</td>\n",
       "    </tr>\n",
       "    <tr>\n",
       "      <th>2022-05-22</th>\n",
       "      <td>0.120645</td>\n",
       "      <td>0.956873</td>\n",
       "      <td>-1.118796</td>\n",
       "      <td>0.522675</td>\n",
       "      <td>três</td>\n",
       "      <td>40</td>\n",
       "    </tr>\n",
       "    <tr>\n",
       "      <th>2022-05-23</th>\n",
       "      <td>0.133035</td>\n",
       "      <td>0.289821</td>\n",
       "      <td>0.487587</td>\n",
       "      <td>-0.722973</td>\n",
       "      <td>quatro</td>\n",
       "      <td>50</td>\n",
       "    </tr>\n",
       "    <tr>\n",
       "      <th>2022-05-24</th>\n",
       "      <td>-0.733022</td>\n",
       "      <td>0.721735</td>\n",
       "      <td>-1.202797</td>\n",
       "      <td>0.256383</td>\n",
       "      <td>três</td>\n",
       "      <td>60</td>\n",
       "    </tr>\n",
       "  </tbody>\n",
       "</table>\n",
       "</div>"
      ],
      "text/plain": [
       "                   A         B         C         D       E   F\n",
       "2022-05-19 -0.771333  1.340197 -0.986804  0.744150      um  10\n",
       "2022-05-20 -1.062793  1.133589 -1.125380  0.792802      um  20\n",
       "2022-05-21 -0.183818  0.249337  0.624719 -0.025290    dois -30\n",
       "2022-05-22  0.120645  0.956873 -1.118796  0.522675    três  40\n",
       "2022-05-23  0.133035  0.289821  0.487587 -0.722973  quatro  50\n",
       "2022-05-24 -0.733022  0.721735 -1.202797  0.256383    três  60"
      ]
     },
     "execution_count": 128,
     "metadata": {},
     "output_type": "execute_result"
    }
   ],
   "source": [
    "df3[\"F\"] = serie1\n",
    "df3"
   ]
  },
  {
   "cell_type": "markdown",
   "metadata": {},
   "source": [
    "* Definindo valores em uma coluna identificada por rótulo(s):"
   ]
  },
  {
   "cell_type": "code",
   "execution_count": 130,
   "metadata": {},
   "outputs": [
    {
     "data": {
      "text/html": [
       "<div>\n",
       "<style scoped>\n",
       "    .dataframe tbody tr th:only-of-type {\n",
       "        vertical-align: middle;\n",
       "    }\n",
       "\n",
       "    .dataframe tbody tr th {\n",
       "        vertical-align: top;\n",
       "    }\n",
       "\n",
       "    .dataframe thead th {\n",
       "        text-align: right;\n",
       "    }\n",
       "</style>\n",
       "<table border=\"1\" class=\"dataframe\">\n",
       "  <thead>\n",
       "    <tr style=\"text-align: right;\">\n",
       "      <th></th>\n",
       "      <th>A</th>\n",
       "      <th>B</th>\n",
       "      <th>C</th>\n",
       "      <th>D</th>\n",
       "      <th>E</th>\n",
       "      <th>F</th>\n",
       "    </tr>\n",
       "  </thead>\n",
       "  <tbody>\n",
       "    <tr>\n",
       "      <th>2022-05-19</th>\n",
       "      <td>-0.771333</td>\n",
       "      <td>1.340197</td>\n",
       "      <td>-0.986804</td>\n",
       "      <td>0.744150</td>\n",
       "      <td>um</td>\n",
       "      <td>10</td>\n",
       "    </tr>\n",
       "    <tr>\n",
       "      <th>2022-05-20</th>\n",
       "      <td>-1.062793</td>\n",
       "      <td>1.133589</td>\n",
       "      <td>-1.125380</td>\n",
       "      <td>0.792802</td>\n",
       "      <td>um</td>\n",
       "      <td>20</td>\n",
       "    </tr>\n",
       "    <tr>\n",
       "      <th>2022-05-21</th>\n",
       "      <td>0.000000</td>\n",
       "      <td>0.249337</td>\n",
       "      <td>0.624719</td>\n",
       "      <td>-0.025290</td>\n",
       "      <td>dois</td>\n",
       "      <td>-30</td>\n",
       "    </tr>\n",
       "    <tr>\n",
       "      <th>2022-05-22</th>\n",
       "      <td>0.000000</td>\n",
       "      <td>0.956873</td>\n",
       "      <td>-1.118796</td>\n",
       "      <td>0.522675</td>\n",
       "      <td>três</td>\n",
       "      <td>40</td>\n",
       "    </tr>\n",
       "    <tr>\n",
       "      <th>2022-05-23</th>\n",
       "      <td>0.133035</td>\n",
       "      <td>0.289821</td>\n",
       "      <td>0.487587</td>\n",
       "      <td>-0.722973</td>\n",
       "      <td>quatro</td>\n",
       "      <td>50</td>\n",
       "    </tr>\n",
       "    <tr>\n",
       "      <th>2022-05-24</th>\n",
       "      <td>-0.733022</td>\n",
       "      <td>0.721735</td>\n",
       "      <td>-1.202797</td>\n",
       "      <td>0.256383</td>\n",
       "      <td>três</td>\n",
       "      <td>60</td>\n",
       "    </tr>\n",
       "  </tbody>\n",
       "</table>\n",
       "</div>"
      ],
      "text/plain": [
       "                   A         B         C         D       E   F\n",
       "2022-05-19 -0.771333  1.340197 -0.986804  0.744150      um  10\n",
       "2022-05-20 -1.062793  1.133589 -1.125380  0.792802      um  20\n",
       "2022-05-21  0.000000  0.249337  0.624719 -0.025290    dois -30\n",
       "2022-05-22  0.000000  0.956873 -1.118796  0.522675    três  40\n",
       "2022-05-23  0.133035  0.289821  0.487587 -0.722973  quatro  50\n",
       "2022-05-24 -0.733022  0.721735 -1.202797  0.256383    três  60"
      ]
     },
     "execution_count": 130,
     "metadata": {},
     "output_type": "execute_result"
    }
   ],
   "source": [
    "semana = df3.index\n",
    "df3.at[semana[2:4], \"A\"] = 0\n",
    "df3"
   ]
  },
  {
   "cell_type": "markdown",
   "metadata": {},
   "source": [
    "* Definindo valores pela atribuição de um arranjo Numpy:"
   ]
  },
  {
   "cell_type": "code",
   "execution_count": 94,
   "metadata": {},
   "outputs": [
    {
     "data": {
      "text/html": [
       "<div>\n",
       "<style scoped>\n",
       "    .dataframe tbody tr th:only-of-type {\n",
       "        vertical-align: middle;\n",
       "    }\n",
       "\n",
       "    .dataframe tbody tr th {\n",
       "        vertical-align: top;\n",
       "    }\n",
       "\n",
       "    .dataframe thead th {\n",
       "        text-align: right;\n",
       "    }\n",
       "</style>\n",
       "<table border=\"1\" class=\"dataframe\">\n",
       "  <thead>\n",
       "    <tr style=\"text-align: right;\">\n",
       "      <th></th>\n",
       "      <th>A</th>\n",
       "      <th>B</th>\n",
       "      <th>C</th>\n",
       "      <th>D</th>\n",
       "      <th>E</th>\n",
       "      <th>F</th>\n",
       "    </tr>\n",
       "  </thead>\n",
       "  <tbody>\n",
       "    <tr>\n",
       "      <th>2021-01-01</th>\n",
       "      <td>0.000000</td>\n",
       "      <td>0.490166</td>\n",
       "      <td>2.113225</td>\n",
       "      <td>5</td>\n",
       "      <td>um</td>\n",
       "      <td>10</td>\n",
       "    </tr>\n",
       "    <tr>\n",
       "      <th>2021-01-02</th>\n",
       "      <td>-0.304674</td>\n",
       "      <td>0.710033</td>\n",
       "      <td>1.610730</td>\n",
       "      <td>5</td>\n",
       "      <td>um</td>\n",
       "      <td>20</td>\n",
       "    </tr>\n",
       "    <tr>\n",
       "      <th>2021-01-03</th>\n",
       "      <td>0.656176</td>\n",
       "      <td>-1.161330</td>\n",
       "      <td>1.180122</td>\n",
       "      <td>5</td>\n",
       "      <td>dois</td>\n",
       "      <td>30</td>\n",
       "    </tr>\n",
       "    <tr>\n",
       "      <th>2021-01-04</th>\n",
       "      <td>-0.114384</td>\n",
       "      <td>-1.538639</td>\n",
       "      <td>0.486135</td>\n",
       "      <td>5</td>\n",
       "      <td>três</td>\n",
       "      <td>40</td>\n",
       "    </tr>\n",
       "    <tr>\n",
       "      <th>2021-01-05</th>\n",
       "      <td>-0.960309</td>\n",
       "      <td>0.776536</td>\n",
       "      <td>-1.163182</td>\n",
       "      <td>5</td>\n",
       "      <td>quatro</td>\n",
       "      <td>50</td>\n",
       "    </tr>\n",
       "    <tr>\n",
       "      <th>2021-01-06</th>\n",
       "      <td>1.606353</td>\n",
       "      <td>0.523092</td>\n",
       "      <td>0.496557</td>\n",
       "      <td>5</td>\n",
       "      <td>três</td>\n",
       "      <td>60</td>\n",
       "    </tr>\n",
       "    <tr>\n",
       "      <th>2021-01-07</th>\n",
       "      <td>0.133055</td>\n",
       "      <td>-0.859184</td>\n",
       "      <td>1.923470</td>\n",
       "      <td>5</td>\n",
       "      <td>sete</td>\n",
       "      <td>70</td>\n",
       "    </tr>\n",
       "  </tbody>\n",
       "</table>\n",
       "</div>"
      ],
      "text/plain": [
       "                   A         B         C  D       E   F\n",
       "2021-01-01  0.000000  0.490166  2.113225  5      um  10\n",
       "2021-01-02 -0.304674  0.710033  1.610730  5      um  20\n",
       "2021-01-03  0.656176 -1.161330  1.180122  5    dois  30\n",
       "2021-01-04 -0.114384 -1.538639  0.486135  5    três  40\n",
       "2021-01-05 -0.960309  0.776536 -1.163182  5  quatro  50\n",
       "2021-01-06  1.606353  0.523092  0.496557  5    três  60\n",
       "2021-01-07  0.133055 -0.859184  1.923470  5    sete  70"
      ]
     },
     "execution_count": 94,
     "metadata": {},
     "output_type": "execute_result"
    }
   ],
   "source": [
    "df3.loc[:, \"D\"] = np.array([5] * len(df3))\n",
    "df3"
   ]
  },
  {
   "cell_type": "markdown",
   "metadata": {},
   "source": [
    "* Definição de valor com operação `where`"
   ]
  },
  {
   "cell_type": "code",
   "execution_count": 55,
   "metadata": {},
   "outputs": [
    {
     "name": "stdout",
     "output_type": "stream",
     "text": [
      "                   A         B         C         D\n",
      "2021-01-01  0.462003  1.495798  0.731406  0.565341\n",
      "2021-01-02  0.558418  0.285734  0.227411  0.980997\n",
      "2021-01-03  1.093154  1.128998  0.236704  0.422487\n",
      "2021-01-04  0.447639  0.496589  1.320449  0.498378\n",
      "2021-01-05  0.849536  0.084336  0.538466  0.244016\n",
      "2021-01-06  0.911066  0.260771  1.343545  0.211861\n",
      "2021-01-07  0.677328  0.686052  0.528031  1.675189\n"
     ]
    }
   ],
   "source": [
    "df1[df1 < 0] = -df1\n",
    "print(df1)"
   ]
  },
  {
   "cell_type": "markdown",
   "metadata": {},
   "source": [
    "<h2 style=\"color:blue; background-color:#F3F2F9\">Dados Ausentes</h2>\n",
    "\n",
    "O **Pandas** usa principalmente o valor `np.nan` (*not a number*, não é um número) para representar dados ausentes. Por padrão, ele não é incluído nos cálculos.\n",
    "\n",
    "A reindexação permite que você altere/adicione/exclua o índice em um eixo especificado. Isso retorna uma cópia dos dados."
   ]
  },
  {
   "cell_type": "code",
   "execution_count": 56,
   "metadata": {},
   "outputs": [
    {
     "data": {
      "text/html": [
       "<div>\n",
       "<style scoped>\n",
       "    .dataframe tbody tr th:only-of-type {\n",
       "        vertical-align: middle;\n",
       "    }\n",
       "\n",
       "    .dataframe tbody tr th {\n",
       "        vertical-align: top;\n",
       "    }\n",
       "\n",
       "    .dataframe thead th {\n",
       "        text-align: right;\n",
       "    }\n",
       "</style>\n",
       "<table border=\"1\" class=\"dataframe\">\n",
       "  <thead>\n",
       "    <tr style=\"text-align: right;\">\n",
       "      <th></th>\n",
       "      <th>A</th>\n",
       "      <th>B</th>\n",
       "      <th>C</th>\n",
       "      <th>D</th>\n",
       "      <th>E</th>\n",
       "    </tr>\n",
       "  </thead>\n",
       "  <tbody>\n",
       "    <tr>\n",
       "      <th>2021-01-01</th>\n",
       "      <td>0.462003</td>\n",
       "      <td>1.495798</td>\n",
       "      <td>0.731406</td>\n",
       "      <td>0.565341</td>\n",
       "      <td>1.0</td>\n",
       "    </tr>\n",
       "    <tr>\n",
       "      <th>2021-01-02</th>\n",
       "      <td>0.558418</td>\n",
       "      <td>0.285734</td>\n",
       "      <td>0.227411</td>\n",
       "      <td>0.980997</td>\n",
       "      <td>1.0</td>\n",
       "    </tr>\n",
       "    <tr>\n",
       "      <th>2021-01-03</th>\n",
       "      <td>1.093154</td>\n",
       "      <td>1.128998</td>\n",
       "      <td>0.236704</td>\n",
       "      <td>0.422487</td>\n",
       "      <td>NaN</td>\n",
       "    </tr>\n",
       "    <tr>\n",
       "      <th>2021-01-04</th>\n",
       "      <td>0.447639</td>\n",
       "      <td>0.496589</td>\n",
       "      <td>1.320449</td>\n",
       "      <td>0.498378</td>\n",
       "      <td>NaN</td>\n",
       "    </tr>\n",
       "  </tbody>\n",
       "</table>\n",
       "</div>"
      ],
      "text/plain": [
       "                   A         B         C         D    E\n",
       "2021-01-01  0.462003  1.495798  0.731406  0.565341  1.0\n",
       "2021-01-02  0.558418  0.285734  0.227411  0.980997  1.0\n",
       "2021-01-03  1.093154  1.128998  0.236704  0.422487  NaN\n",
       "2021-01-04  0.447639  0.496589  1.320449  0.498378  NaN"
      ]
     },
     "execution_count": 56,
     "metadata": {},
     "output_type": "execute_result"
    }
   ],
   "source": [
    "df4 = df1.reindex(index=semana[0:4], columns=list(df1.columns) + [\"E\"])\n",
    "df4.loc[semana[0]:semana[1], \"E\"] = 1\n",
    "df4"
   ]
  },
  {
   "cell_type": "markdown",
   "metadata": {},
   "source": [
    "* Preenchendo dados ausentes:"
   ]
  },
  {
   "cell_type": "code",
   "execution_count": 123,
   "metadata": {},
   "outputs": [
    {
     "name": "stdout",
     "output_type": "stream",
     "text": [
      "                   A         B         C         D   F    E\n",
      "2021-01-01  0.073938  0.490166  2.113225  0.822239  10  1.0\n",
      "2021-01-02  0.304674  0.710033  1.610730  0.133252  20  1.0\n",
      "2021-01-03  0.656176  1.161330  1.180122  2.272202  30  1.5\n",
      "2021-01-04  0.114384  1.538639  0.486135  1.224443  40  1.5\n"
     ]
    }
   ],
   "source": [
    "df5 = df4.fillna(value=1.5)\n",
    "print(df5)"
   ]
  },
  {
   "cell_type": "markdown",
   "metadata": {},
   "source": [
    "* Obtendo uma máscara booleana onde os valores são `nan`."
   ]
  },
  {
   "cell_type": "code",
   "execution_count": 124,
   "metadata": {},
   "outputs": [
    {
     "data": {
      "text/html": [
       "<div>\n",
       "<style scoped>\n",
       "    .dataframe tbody tr th:only-of-type {\n",
       "        vertical-align: middle;\n",
       "    }\n",
       "\n",
       "    .dataframe tbody tr th {\n",
       "        vertical-align: top;\n",
       "    }\n",
       "\n",
       "    .dataframe thead th {\n",
       "        text-align: right;\n",
       "    }\n",
       "</style>\n",
       "<table border=\"1\" class=\"dataframe\">\n",
       "  <thead>\n",
       "    <tr style=\"text-align: right;\">\n",
       "      <th></th>\n",
       "      <th>A</th>\n",
       "      <th>B</th>\n",
       "      <th>C</th>\n",
       "      <th>D</th>\n",
       "      <th>F</th>\n",
       "      <th>E</th>\n",
       "    </tr>\n",
       "  </thead>\n",
       "  <tbody>\n",
       "    <tr>\n",
       "      <th>2021-01-01</th>\n",
       "      <td>False</td>\n",
       "      <td>False</td>\n",
       "      <td>False</td>\n",
       "      <td>False</td>\n",
       "      <td>False</td>\n",
       "      <td>False</td>\n",
       "    </tr>\n",
       "    <tr>\n",
       "      <th>2021-01-02</th>\n",
       "      <td>False</td>\n",
       "      <td>False</td>\n",
       "      <td>False</td>\n",
       "      <td>False</td>\n",
       "      <td>False</td>\n",
       "      <td>False</td>\n",
       "    </tr>\n",
       "    <tr>\n",
       "      <th>2021-01-03</th>\n",
       "      <td>False</td>\n",
       "      <td>False</td>\n",
       "      <td>False</td>\n",
       "      <td>False</td>\n",
       "      <td>False</td>\n",
       "      <td>True</td>\n",
       "    </tr>\n",
       "    <tr>\n",
       "      <th>2021-01-04</th>\n",
       "      <td>False</td>\n",
       "      <td>False</td>\n",
       "      <td>False</td>\n",
       "      <td>False</td>\n",
       "      <td>False</td>\n",
       "      <td>True</td>\n",
       "    </tr>\n",
       "  </tbody>\n",
       "</table>\n",
       "</div>"
      ],
      "text/plain": [
       "                A      B      C      D      F      E\n",
       "2021-01-01  False  False  False  False  False  False\n",
       "2021-01-02  False  False  False  False  False  False\n",
       "2021-01-03  False  False  False  False  False   True\n",
       "2021-01-04  False  False  False  False  False   True"
      ]
     },
     "execution_count": 124,
     "metadata": {},
     "output_type": "execute_result"
    }
   ],
   "source": [
    " pd.isna(df4)"
   ]
  },
  {
   "cell_type": "markdown",
   "metadata": {},
   "source": [
    "<h1 style=\"color:blue; background-color:#E0DBF9; text-align:center\">3. Operações</h1>\n",
    "\n",
    "As operações com Dataframes e Séries, em geral, excluem os dados ausentes (`nan`).\n",
    "<h2 style=\"color:blue; background-color:#F3F2F9\">Estatísticas</h2>  \n",
    "\n",
    "**Média**: Executando uma estatística descritiva (1a. ordem):"
   ]
  },
  {
   "cell_type": "code",
   "execution_count": 125,
   "metadata": {},
   "outputs": [
    {
     "data": {
      "text/plain": [
       "A     0.549841\n",
       "B     0.865568\n",
       "C     1.281917\n",
       "D     0.888250\n",
       "F    40.000000\n",
       "dtype: float64"
      ]
     },
     "execution_count": 125,
     "metadata": {},
     "output_type": "execute_result"
    }
   ],
   "source": [
    "df1.mean()"
   ]
  },
  {
   "cell_type": "markdown",
   "metadata": {},
   "source": [
    "Faz operações com objetos que possuem dimensionalidade diferente e que precisam de alinhamento. Além disso, o **Pandas** propaga a operação automaticamente ao longo da dimensão especificada."
   ]
  },
  {
   "cell_type": "code",
   "execution_count": 13,
   "metadata": {},
   "outputs": [
    {
     "name": "stdout",
     "output_type": "stream",
     "text": [
      "2021-01-01     1.0\n",
      "2021-01-02     3.0\n",
      "2021-01-03     5.0\n",
      "2021-01-04     NaN\n",
      "2021-01-05     6.0\n",
      "2021-01-06     8.0\n",
      "2021-01-07    10.0\n",
      "Freq: D, dtype: float64\n",
      "2021-01-01    NaN\n",
      "2021-01-02    NaN\n",
      "2021-01-03    1.0\n",
      "2021-01-04    3.0\n",
      "2021-01-05    5.0\n",
      "2021-01-06    NaN\n",
      "2021-01-07    6.0\n",
      "Freq: D, dtype: float64\n"
     ]
    }
   ],
   "source": [
    "s = pd.Series([1, 3, 5, np.nan, 6, 8, 10], index=semana)\n",
    "print(s)\n",
    "print(s.shift(2))"
   ]
  },
  {
   "cell_type": "code",
   "execution_count": 20,
   "metadata": {},
   "outputs": [
    {
     "data": {
      "text/html": [
       "<div>\n",
       "<style scoped>\n",
       "    .dataframe tbody tr th:only-of-type {\n",
       "        vertical-align: middle;\n",
       "    }\n",
       "\n",
       "    .dataframe tbody tr th {\n",
       "        vertical-align: top;\n",
       "    }\n",
       "\n",
       "    .dataframe thead th {\n",
       "        text-align: right;\n",
       "    }\n",
       "</style>\n",
       "<table border=\"1\" class=\"dataframe\">\n",
       "  <thead>\n",
       "    <tr style=\"text-align: right;\">\n",
       "      <th></th>\n",
       "      <th>A</th>\n",
       "      <th>B</th>\n",
       "      <th>C</th>\n",
       "      <th>D</th>\n",
       "    </tr>\n",
       "  </thead>\n",
       "  <tbody>\n",
       "    <tr>\n",
       "      <th>2021-01-01</th>\n",
       "      <td>-0.068891</td>\n",
       "      <td>0.663990</td>\n",
       "      <td>-1.848441</td>\n",
       "      <td>-0.291594</td>\n",
       "    </tr>\n",
       "    <tr>\n",
       "      <th>2021-01-02</th>\n",
       "      <td>1.305472</td>\n",
       "      <td>1.673140</td>\n",
       "      <td>0.061790</td>\n",
       "      <td>1.568094</td>\n",
       "    </tr>\n",
       "    <tr>\n",
       "      <th>2021-01-03</th>\n",
       "      <td>0.006306</td>\n",
       "      <td>0.874881</td>\n",
       "      <td>-0.288944</td>\n",
       "      <td>0.881397</td>\n",
       "    </tr>\n",
       "    <tr>\n",
       "      <th>2021-01-04</th>\n",
       "      <td>-0.223969</td>\n",
       "      <td>0.377272</td>\n",
       "      <td>-1.154513</td>\n",
       "      <td>-1.710910</td>\n",
       "    </tr>\n",
       "    <tr>\n",
       "      <th>2021-01-05</th>\n",
       "      <td>0.407189</td>\n",
       "      <td>-0.045135</td>\n",
       "      <td>1.132219</td>\n",
       "      <td>-0.069634</td>\n",
       "    </tr>\n",
       "    <tr>\n",
       "      <th>2021-01-06</th>\n",
       "      <td>-0.119944</td>\n",
       "      <td>-2.112821</td>\n",
       "      <td>-0.313464</td>\n",
       "      <td>0.621340</td>\n",
       "    </tr>\n",
       "    <tr>\n",
       "      <th>2021-01-07</th>\n",
       "      <td>0.769480</td>\n",
       "      <td>-0.515911</td>\n",
       "      <td>-1.837282</td>\n",
       "      <td>0.390514</td>\n",
       "    </tr>\n",
       "  </tbody>\n",
       "</table>\n",
       "</div>"
      ],
      "text/plain": [
       "                   A         B         C         D\n",
       "2021-01-01 -0.068891  0.663990 -1.848441 -0.291594\n",
       "2021-01-02  1.305472  1.673140  0.061790  1.568094\n",
       "2021-01-03  0.006306  0.874881 -0.288944  0.881397\n",
       "2021-01-04 -0.223969  0.377272 -1.154513 -1.710910\n",
       "2021-01-05  0.407189 -0.045135  1.132219 -0.069634\n",
       "2021-01-06 -0.119944 -2.112821 -0.313464  0.621340\n",
       "2021-01-07  0.769480 -0.515911 -1.837282  0.390514"
      ]
     },
     "execution_count": 20,
     "metadata": {},
     "output_type": "execute_result"
    }
   ],
   "source": [
    "df1"
   ]
  },
  {
   "cell_type": "code",
   "execution_count": 22,
   "metadata": {},
   "outputs": [
    {
     "data": {
      "text/html": [
       "<div>\n",
       "<style scoped>\n",
       "    .dataframe tbody tr th:only-of-type {\n",
       "        vertical-align: middle;\n",
       "    }\n",
       "\n",
       "    .dataframe tbody tr th {\n",
       "        vertical-align: top;\n",
       "    }\n",
       "\n",
       "    .dataframe thead th {\n",
       "        text-align: right;\n",
       "    }\n",
       "</style>\n",
       "<table border=\"1\" class=\"dataframe\">\n",
       "  <thead>\n",
       "    <tr style=\"text-align: right;\">\n",
       "      <th></th>\n",
       "      <th>A</th>\n",
       "      <th>B</th>\n",
       "      <th>C</th>\n",
       "      <th>D</th>\n",
       "    </tr>\n",
       "  </thead>\n",
       "  <tbody>\n",
       "    <tr>\n",
       "      <th>2021-01-01</th>\n",
       "      <td>-1.068891</td>\n",
       "      <td>-0.336010</td>\n",
       "      <td>-2.848441</td>\n",
       "      <td>-1.291594</td>\n",
       "    </tr>\n",
       "    <tr>\n",
       "      <th>2021-01-02</th>\n",
       "      <td>-1.694528</td>\n",
       "      <td>-1.326860</td>\n",
       "      <td>-2.938210</td>\n",
       "      <td>-1.431906</td>\n",
       "    </tr>\n",
       "    <tr>\n",
       "      <th>2021-01-03</th>\n",
       "      <td>-4.993694</td>\n",
       "      <td>-4.125119</td>\n",
       "      <td>-5.288944</td>\n",
       "      <td>-4.118603</td>\n",
       "    </tr>\n",
       "    <tr>\n",
       "      <th>2021-01-04</th>\n",
       "      <td>NaN</td>\n",
       "      <td>NaN</td>\n",
       "      <td>NaN</td>\n",
       "      <td>NaN</td>\n",
       "    </tr>\n",
       "    <tr>\n",
       "      <th>2021-01-05</th>\n",
       "      <td>-5.592811</td>\n",
       "      <td>-6.045135</td>\n",
       "      <td>-4.867781</td>\n",
       "      <td>-6.069634</td>\n",
       "    </tr>\n",
       "    <tr>\n",
       "      <th>2021-01-06</th>\n",
       "      <td>-8.119944</td>\n",
       "      <td>-10.112821</td>\n",
       "      <td>-8.313464</td>\n",
       "      <td>-7.378660</td>\n",
       "    </tr>\n",
       "    <tr>\n",
       "      <th>2021-01-07</th>\n",
       "      <td>-9.230520</td>\n",
       "      <td>-10.515911</td>\n",
       "      <td>-11.837282</td>\n",
       "      <td>-9.609486</td>\n",
       "    </tr>\n",
       "  </tbody>\n",
       "</table>\n",
       "</div>"
      ],
      "text/plain": [
       "                   A          B          C         D\n",
       "2021-01-01 -1.068891  -0.336010  -2.848441 -1.291594\n",
       "2021-01-02 -1.694528  -1.326860  -2.938210 -1.431906\n",
       "2021-01-03 -4.993694  -4.125119  -5.288944 -4.118603\n",
       "2021-01-04       NaN        NaN        NaN       NaN\n",
       "2021-01-05 -5.592811  -6.045135  -4.867781 -6.069634\n",
       "2021-01-06 -8.119944 -10.112821  -8.313464 -7.378660\n",
       "2021-01-07 -9.230520 -10.515911 -11.837282 -9.609486"
      ]
     },
     "execution_count": 22,
     "metadata": {},
     "output_type": "execute_result"
    }
   ],
   "source": [
    "df1.sub(s, axis=\"index\")"
   ]
  },
  {
   "cell_type": "markdown",
   "metadata": {},
   "source": [
    "<h2 style=\"color:blue; background-color:#F3F2F9\">Aplique</h2>\n",
    "Aplicando funções aos dados:"
   ]
  },
  {
   "cell_type": "code",
   "execution_count": 23,
   "metadata": {},
   "outputs": [
    {
     "data": {
      "text/html": [
       "<div>\n",
       "<style scoped>\n",
       "    .dataframe tbody tr th:only-of-type {\n",
       "        vertical-align: middle;\n",
       "    }\n",
       "\n",
       "    .dataframe tbody tr th {\n",
       "        vertical-align: top;\n",
       "    }\n",
       "\n",
       "    .dataframe thead th {\n",
       "        text-align: right;\n",
       "    }\n",
       "</style>\n",
       "<table border=\"1\" class=\"dataframe\">\n",
       "  <thead>\n",
       "    <tr style=\"text-align: right;\">\n",
       "      <th></th>\n",
       "      <th>A</th>\n",
       "      <th>B</th>\n",
       "      <th>C</th>\n",
       "      <th>D</th>\n",
       "    </tr>\n",
       "  </thead>\n",
       "  <tbody>\n",
       "    <tr>\n",
       "      <th>2021-01-01</th>\n",
       "      <td>-0.068891</td>\n",
       "      <td>0.663990</td>\n",
       "      <td>-1.848441</td>\n",
       "      <td>-0.291594</td>\n",
       "    </tr>\n",
       "    <tr>\n",
       "      <th>2021-01-02</th>\n",
       "      <td>1.236580</td>\n",
       "      <td>2.337129</td>\n",
       "      <td>-1.786652</td>\n",
       "      <td>1.276500</td>\n",
       "    </tr>\n",
       "    <tr>\n",
       "      <th>2021-01-03</th>\n",
       "      <td>1.242886</td>\n",
       "      <td>3.212010</td>\n",
       "      <td>-2.075596</td>\n",
       "      <td>2.157897</td>\n",
       "    </tr>\n",
       "    <tr>\n",
       "      <th>2021-01-04</th>\n",
       "      <td>1.018917</td>\n",
       "      <td>3.589282</td>\n",
       "      <td>-3.230109</td>\n",
       "      <td>0.446986</td>\n",
       "    </tr>\n",
       "    <tr>\n",
       "      <th>2021-01-05</th>\n",
       "      <td>1.426106</td>\n",
       "      <td>3.544147</td>\n",
       "      <td>-2.097891</td>\n",
       "      <td>0.377352</td>\n",
       "    </tr>\n",
       "    <tr>\n",
       "      <th>2021-01-06</th>\n",
       "      <td>1.306162</td>\n",
       "      <td>1.431326</td>\n",
       "      <td>-2.411354</td>\n",
       "      <td>0.998692</td>\n",
       "    </tr>\n",
       "    <tr>\n",
       "      <th>2021-01-07</th>\n",
       "      <td>2.075642</td>\n",
       "      <td>0.915414</td>\n",
       "      <td>-4.248636</td>\n",
       "      <td>1.389206</td>\n",
       "    </tr>\n",
       "  </tbody>\n",
       "</table>\n",
       "</div>"
      ],
      "text/plain": [
       "                   A         B         C         D\n",
       "2021-01-01 -0.068891  0.663990 -1.848441 -0.291594\n",
       "2021-01-02  1.236580  2.337129 -1.786652  1.276500\n",
       "2021-01-03  1.242886  3.212010 -2.075596  2.157897\n",
       "2021-01-04  1.018917  3.589282 -3.230109  0.446986\n",
       "2021-01-05  1.426106  3.544147 -2.097891  0.377352\n",
       "2021-01-06  1.306162  1.431326 -2.411354  0.998692\n",
       "2021-01-07  2.075642  0.915414 -4.248636  1.389206"
      ]
     },
     "execution_count": 23,
     "metadata": {},
     "output_type": "execute_result"
    }
   ],
   "source": [
    "df1.apply(np.cumsum)"
   ]
  },
  {
   "cell_type": "code",
   "execution_count": 26,
   "metadata": {},
   "outputs": [
    {
     "data": {
      "text/plain": [
       "A    1.529441\n",
       "B    3.785960\n",
       "C    2.980660\n",
       "D    3.279005\n",
       "dtype: float64"
      ]
     },
     "execution_count": 26,
     "metadata": {},
     "output_type": "execute_result"
    }
   ],
   "source": [
    "df1.apply(lambda x: x.max() - x.min())"
   ]
  },
  {
   "cell_type": "markdown",
   "metadata": {},
   "source": [
    "<h2 style=\"color:blue; background-color:#F3F2F9\">Histograma</h2>\n",
    "Frequência numérica num experimento, por exemplo, 10 lançamentos de um dado:"
   ]
  },
  {
   "cell_type": "code",
   "execution_count": 41,
   "metadata": {},
   "outputs": [
    {
     "name": "stdout",
     "output_type": "stream",
     "text": [
      "0    6\n",
      "1    4\n",
      "2    2\n",
      "3    3\n",
      "4    1\n",
      "5    4\n",
      "6    5\n",
      "7    3\n",
      "8    3\n",
      "9    2\n",
      "dtype: int32\n"
     ]
    },
    {
     "data": {
      "text/plain": [
       "3    3\n",
       "4    2\n",
       "2    2\n",
       "6    1\n",
       "5    1\n",
       "1    1\n",
       "dtype: int64"
      ]
     },
     "execution_count": 41,
     "metadata": {},
     "output_type": "execute_result"
    }
   ],
   "source": [
    "experim1 = pd.Series(np.random.randint(1,7,size=10))\n",
    "print(experim1)\n",
    "experim1.value_counts()"
   ]
  },
  {
   "cell_type": "code",
   "execution_count": 48,
   "metadata": {
    "scrolled": true
   },
   "outputs": [
    {
     "data": {
      "text/plain": [
       "<AxesSubplot:ylabel='Frequency'>"
      ]
     },
     "execution_count": 48,
     "metadata": {},
     "output_type": "execute_result"
    },
    {
     "data": {
      "image/png": "[encoded data removed]",
      "text/plain": [
       "<Figure size 432x288 with 1 Axes>"
      ]
     },
     "metadata": {
      "needs_background": "light"
     },
     "output_type": "display_data"
    }
   ],
   "source": [
    "experim1.plot.hist(alpha=0.5)"
   ]
  },
  {
   "cell_type": "markdown",
   "metadata": {},
   "source": [
    "<h2 style=\"color:blue; background-color:#F3F2F9\">Mesclagem (<i>Merge</i>)</h2>\n",
    "\n",
    "* Concatenação: O **Pandas** oferece vários recursos para combinar facilmente objetos (Séries e DataFrames) com vários tipos de lógica de conjunto para os índices e funcionalidade de álgebra relacional no caso de operações do tipo _join/merge_."
   ]
  },
  {
   "cell_type": "code",
   "execution_count": 50,
   "metadata": {},
   "outputs": [
    {
     "data": {
      "text/html": [
       "<div>\n",
       "<style scoped>\n",
       "    .dataframe tbody tr th:only-of-type {\n",
       "        vertical-align: middle;\n",
       "    }\n",
       "\n",
       "    .dataframe tbody tr th {\n",
       "        vertical-align: top;\n",
       "    }\n",
       "\n",
       "    .dataframe thead th {\n",
       "        text-align: right;\n",
       "    }\n",
       "</style>\n",
       "<table border=\"1\" class=\"dataframe\">\n",
       "  <thead>\n",
       "    <tr style=\"text-align: right;\">\n",
       "      <th></th>\n",
       "      <th>0</th>\n",
       "      <th>1</th>\n",
       "      <th>2</th>\n",
       "      <th>3</th>\n",
       "    </tr>\n",
       "  </thead>\n",
       "  <tbody>\n",
       "    <tr>\n",
       "      <th>0</th>\n",
       "      <td>0.896650</td>\n",
       "      <td>-0.522257</td>\n",
       "      <td>0.262716</td>\n",
       "      <td>-0.672647</td>\n",
       "    </tr>\n",
       "    <tr>\n",
       "      <th>1</th>\n",
       "      <td>1.392995</td>\n",
       "      <td>1.691071</td>\n",
       "      <td>0.060406</td>\n",
       "      <td>-0.284204</td>\n",
       "    </tr>\n",
       "    <tr>\n",
       "      <th>2</th>\n",
       "      <td>0.622053</td>\n",
       "      <td>1.272420</td>\n",
       "      <td>0.884139</td>\n",
       "      <td>0.847405</td>\n",
       "    </tr>\n",
       "    <tr>\n",
       "      <th>3</th>\n",
       "      <td>-1.252459</td>\n",
       "      <td>-0.960656</td>\n",
       "      <td>-1.172303</td>\n",
       "      <td>-0.494864</td>\n",
       "    </tr>\n",
       "    <tr>\n",
       "      <th>4</th>\n",
       "      <td>-0.813478</td>\n",
       "      <td>-0.049195</td>\n",
       "      <td>1.149324</td>\n",
       "      <td>-0.640582</td>\n",
       "    </tr>\n",
       "    <tr>\n",
       "      <th>5</th>\n",
       "      <td>-1.670434</td>\n",
       "      <td>-0.046646</td>\n",
       "      <td>2.447664</td>\n",
       "      <td>-1.641226</td>\n",
       "    </tr>\n",
       "    <tr>\n",
       "      <th>6</th>\n",
       "      <td>0.089902</td>\n",
       "      <td>-1.691609</td>\n",
       "      <td>-0.464067</td>\n",
       "      <td>-0.257993</td>\n",
       "    </tr>\n",
       "    <tr>\n",
       "      <th>7</th>\n",
       "      <td>0.208375</td>\n",
       "      <td>0.046142</td>\n",
       "      <td>-0.707078</td>\n",
       "      <td>-0.042070</td>\n",
       "    </tr>\n",
       "    <tr>\n",
       "      <th>8</th>\n",
       "      <td>-0.132306</td>\n",
       "      <td>-1.061486</td>\n",
       "      <td>-1.717351</td>\n",
       "      <td>0.905559</td>\n",
       "    </tr>\n",
       "    <tr>\n",
       "      <th>9</th>\n",
       "      <td>-0.865825</td>\n",
       "      <td>0.918368</td>\n",
       "      <td>0.736405</td>\n",
       "      <td>1.199637</td>\n",
       "    </tr>\n",
       "  </tbody>\n",
       "</table>\n",
       "</div>"
      ],
      "text/plain": [
       "          0         1         2         3\n",
       "0  0.896650 -0.522257  0.262716 -0.672647\n",
       "1  1.392995  1.691071  0.060406 -0.284204\n",
       "2  0.622053  1.272420  0.884139  0.847405\n",
       "3 -1.252459 -0.960656 -1.172303 -0.494864\n",
       "4 -0.813478 -0.049195  1.149324 -0.640582\n",
       "5 -1.670434 -0.046646  2.447664 -1.641226\n",
       "6  0.089902 -1.691609 -0.464067 -0.257993\n",
       "7  0.208375  0.046142 -0.707078 -0.042070\n",
       "8 -0.132306 -1.061486 -1.717351  0.905559\n",
       "9 -0.865825  0.918368  0.736405  1.199637"
      ]
     },
     "execution_count": 50,
     "metadata": {},
     "output_type": "execute_result"
    }
   ],
   "source": [
    "df5 = pd.DataFrame(np.random.randn(10, 4))       # valores aleatórios normalmente distribuídos em 10 linhas e 4 colunas\n",
    "df5"
   ]
  },
  {
   "cell_type": "markdown",
   "metadata": {},
   "source": [
    "Dividindo o dataframe `df5` em pedaços e reunindo os pedaços depois:"
   ]
  },
  {
   "cell_type": "code",
   "execution_count": 52,
   "metadata": {},
   "outputs": [
    {
     "data": {
      "text/plain": [
       "[          0         1         2         3\n",
       " 0  0.896650 -0.522257  0.262716 -0.672647\n",
       " 1  1.392995  1.691071  0.060406 -0.284204\n",
       " 2  0.622053  1.272420  0.884139  0.847405,\n",
       "           0         1         2         3\n",
       " 3 -1.252459 -0.960656 -1.172303 -0.494864\n",
       " 4 -0.813478 -0.049195  1.149324 -0.640582\n",
       " 5 -1.670434 -0.046646  2.447664 -1.641226\n",
       " 6  0.089902 -1.691609 -0.464067 -0.257993,\n",
       "           0         1         2         3\n",
       " 7  0.208375  0.046142 -0.707078 -0.042070\n",
       " 8 -0.132306 -1.061486 -1.717351  0.905559\n",
       " 9 -0.865825  0.918368  0.736405  1.199637]"
      ]
     },
     "execution_count": 52,
     "metadata": {},
     "output_type": "execute_result"
    }
   ],
   "source": [
    "pedacos = [df5[:3], df5[3:7], df5[7:]]\n",
    "pedacos"
   ]
  },
  {
   "cell_type": "code",
   "execution_count": 53,
   "metadata": {
    "scrolled": true
   },
   "outputs": [
    {
     "data": {
      "text/html": [
       "<div>\n",
       "<style scoped>\n",
       "    .dataframe tbody tr th:only-of-type {\n",
       "        vertical-align: middle;\n",
       "    }\n",
       "\n",
       "    .dataframe tbody tr th {\n",
       "        vertical-align: top;\n",
       "    }\n",
       "\n",
       "    .dataframe thead th {\n",
       "        text-align: right;\n",
       "    }\n",
       "</style>\n",
       "<table border=\"1\" class=\"dataframe\">\n",
       "  <thead>\n",
       "    <tr style=\"text-align: right;\">\n",
       "      <th></th>\n",
       "      <th>0</th>\n",
       "      <th>1</th>\n",
       "      <th>2</th>\n",
       "      <th>3</th>\n",
       "    </tr>\n",
       "  </thead>\n",
       "  <tbody>\n",
       "    <tr>\n",
       "      <th>0</th>\n",
       "      <td>0.896650</td>\n",
       "      <td>-0.522257</td>\n",
       "      <td>0.262716</td>\n",
       "      <td>-0.672647</td>\n",
       "    </tr>\n",
       "    <tr>\n",
       "      <th>1</th>\n",
       "      <td>1.392995</td>\n",
       "      <td>1.691071</td>\n",
       "      <td>0.060406</td>\n",
       "      <td>-0.284204</td>\n",
       "    </tr>\n",
       "    <tr>\n",
       "      <th>2</th>\n",
       "      <td>0.622053</td>\n",
       "      <td>1.272420</td>\n",
       "      <td>0.884139</td>\n",
       "      <td>0.847405</td>\n",
       "    </tr>\n",
       "    <tr>\n",
       "      <th>3</th>\n",
       "      <td>-1.252459</td>\n",
       "      <td>-0.960656</td>\n",
       "      <td>-1.172303</td>\n",
       "      <td>-0.494864</td>\n",
       "    </tr>\n",
       "    <tr>\n",
       "      <th>4</th>\n",
       "      <td>-0.813478</td>\n",
       "      <td>-0.049195</td>\n",
       "      <td>1.149324</td>\n",
       "      <td>-0.640582</td>\n",
       "    </tr>\n",
       "    <tr>\n",
       "      <th>5</th>\n",
       "      <td>-1.670434</td>\n",
       "      <td>-0.046646</td>\n",
       "      <td>2.447664</td>\n",
       "      <td>-1.641226</td>\n",
       "    </tr>\n",
       "    <tr>\n",
       "      <th>6</th>\n",
       "      <td>0.089902</td>\n",
       "      <td>-1.691609</td>\n",
       "      <td>-0.464067</td>\n",
       "      <td>-0.257993</td>\n",
       "    </tr>\n",
       "    <tr>\n",
       "      <th>7</th>\n",
       "      <td>0.208375</td>\n",
       "      <td>0.046142</td>\n",
       "      <td>-0.707078</td>\n",
       "      <td>-0.042070</td>\n",
       "    </tr>\n",
       "    <tr>\n",
       "      <th>8</th>\n",
       "      <td>-0.132306</td>\n",
       "      <td>-1.061486</td>\n",
       "      <td>-1.717351</td>\n",
       "      <td>0.905559</td>\n",
       "    </tr>\n",
       "    <tr>\n",
       "      <th>9</th>\n",
       "      <td>-0.865825</td>\n",
       "      <td>0.918368</td>\n",
       "      <td>0.736405</td>\n",
       "      <td>1.199637</td>\n",
       "    </tr>\n",
       "  </tbody>\n",
       "</table>\n",
       "</div>"
      ],
      "text/plain": [
       "          0         1         2         3\n",
       "0  0.896650 -0.522257  0.262716 -0.672647\n",
       "1  1.392995  1.691071  0.060406 -0.284204\n",
       "2  0.622053  1.272420  0.884139  0.847405\n",
       "3 -1.252459 -0.960656 -1.172303 -0.494864\n",
       "4 -0.813478 -0.049195  1.149324 -0.640582\n",
       "5 -1.670434 -0.046646  2.447664 -1.641226\n",
       "6  0.089902 -1.691609 -0.464067 -0.257993\n",
       "7  0.208375  0.046142 -0.707078 -0.042070\n",
       "8 -0.132306 -1.061486 -1.717351  0.905559\n",
       "9 -0.865825  0.918368  0.736405  1.199637"
      ]
     },
     "execution_count": 53,
     "metadata": {},
     "output_type": "execute_result"
    }
   ],
   "source": [
    "pd.concat(pedacos)"
   ]
  },
  {
   "cell_type": "markdown",
   "metadata": {},
   "source": [
    "**Obs.**: Adicionar uma coluna a um DataFrame é relativamente rápido. No entanto, adicionar uma linha requer uma cópia e dependendo do tamanho do DataFrame isso pode ser computacionalmente dispendioso. Recomenda-se passar uma lista pré-criada de registros para o construtor DataFrame ao invés de construir o DataFrame anexando registros iterativamente a ele. Para mais informações acesse [Mesclar, Ajuntar, Concatenar e Comparar](https://pandas.pydata.org/docs/user_guide/merging.html#merging-concatenation).\n",
    "\n",
    "<h3 style=\"color:red\"><b>Exercício</b></h3>Transforme o dataframe anterior, <b><tt>df5</tt></b>, de modo que as linhas 4, 5 e 6 passem a ocupar as últimas linhas."
   ]
  },
  {
   "cell_type": "markdown",
   "metadata": {},
   "source": [
    "<h2 style=\"color:blue; background-color:#F3F2F9\">União</h2>\n",
    "União de dados no estilo SQL."
   ]
  },
  {
   "cell_type": "code",
   "execution_count": 58,
   "metadata": {},
   "outputs": [
    {
     "name": "stdout",
     "output_type": "stream",
     "text": [
      "  chave  valorA\n",
      "0  item       1\n",
      "1  item       2\n",
      "  chave  valorB\n",
      "0  item       4\n",
      "1  item       5\n"
     ]
    }
   ],
   "source": [
    "a = pd.DataFrame({\"chave\":[\"item\", \"item\"], \"valorA\":[1, 2]})\n",
    "b = pd.DataFrame({\"chave\":[\"item\", \"item\"], \"valorB\":[4, 5]})\n",
    "print(a); print(b)"
   ]
  },
  {
   "cell_type": "code",
   "execution_count": 59,
   "metadata": {
    "scrolled": true
   },
   "outputs": [
    {
     "data": {
      "text/html": [
       "<div>\n",
       "<style scoped>\n",
       "    .dataframe tbody tr th:only-of-type {\n",
       "        vertical-align: middle;\n",
       "    }\n",
       "\n",
       "    .dataframe tbody tr th {\n",
       "        vertical-align: top;\n",
       "    }\n",
       "\n",
       "    .dataframe thead th {\n",
       "        text-align: right;\n",
       "    }\n",
       "</style>\n",
       "<table border=\"1\" class=\"dataframe\">\n",
       "  <thead>\n",
       "    <tr style=\"text-align: right;\">\n",
       "      <th></th>\n",
       "      <th>chave</th>\n",
       "      <th>valorA</th>\n",
       "      <th>valorB</th>\n",
       "    </tr>\n",
       "  </thead>\n",
       "  <tbody>\n",
       "    <tr>\n",
       "      <th>0</th>\n",
       "      <td>item</td>\n",
       "      <td>1</td>\n",
       "      <td>4</td>\n",
       "    </tr>\n",
       "    <tr>\n",
       "      <th>1</th>\n",
       "      <td>item</td>\n",
       "      <td>1</td>\n",
       "      <td>5</td>\n",
       "    </tr>\n",
       "    <tr>\n",
       "      <th>2</th>\n",
       "      <td>item</td>\n",
       "      <td>2</td>\n",
       "      <td>4</td>\n",
       "    </tr>\n",
       "    <tr>\n",
       "      <th>3</th>\n",
       "      <td>item</td>\n",
       "      <td>2</td>\n",
       "      <td>5</td>\n",
       "    </tr>\n",
       "  </tbody>\n",
       "</table>\n",
       "</div>"
      ],
      "text/plain": [
       "  chave  valorA  valorB\n",
       "0  item       1       4\n",
       "1  item       1       5\n",
       "2  item       2       4\n",
       "3  item       2       5"
      ]
     },
     "execution_count": 59,
     "metadata": {},
     "output_type": "execute_result"
    }
   ],
   "source": [
    "pd.merge(a, b, on=\"chave\")"
   ]
  },
  {
   "cell_type": "markdown",
   "metadata": {},
   "source": [
    "Outro exemplo:"
   ]
  },
  {
   "cell_type": "code",
   "execution_count": 60,
   "metadata": {},
   "outputs": [
    {
     "name": "stdout",
     "output_type": "stream",
     "text": [
      "  chave  valorA\n",
      "0  item       1\n",
      "1   val       2\n",
      "  chave  valorB\n",
      "0  item       4\n",
      "1   val       5\n"
     ]
    }
   ],
   "source": [
    "a = pd.DataFrame({\"chave\":[\"item\", \"val\"], \"valorA\":[1, 2]})\n",
    "b = pd.DataFrame({\"chave\":[\"item\", \"val\"], \"valorB\":[4, 5]})\n",
    "print(a); print(b)"
   ]
  },
  {
   "cell_type": "code",
   "execution_count": 61,
   "metadata": {
    "scrolled": false
   },
   "outputs": [
    {
     "data": {
      "text/html": [
       "<div>\n",
       "<style scoped>\n",
       "    .dataframe tbody tr th:only-of-type {\n",
       "        vertical-align: middle;\n",
       "    }\n",
       "\n",
       "    .dataframe tbody tr th {\n",
       "        vertical-align: top;\n",
       "    }\n",
       "\n",
       "    .dataframe thead th {\n",
       "        text-align: right;\n",
       "    }\n",
       "</style>\n",
       "<table border=\"1\" class=\"dataframe\">\n",
       "  <thead>\n",
       "    <tr style=\"text-align: right;\">\n",
       "      <th></th>\n",
       "      <th>chave</th>\n",
       "      <th>valorA</th>\n",
       "      <th>valorB</th>\n",
       "    </tr>\n",
       "  </thead>\n",
       "  <tbody>\n",
       "    <tr>\n",
       "      <th>0</th>\n",
       "      <td>item</td>\n",
       "      <td>1</td>\n",
       "      <td>4</td>\n",
       "    </tr>\n",
       "    <tr>\n",
       "      <th>1</th>\n",
       "      <td>val</td>\n",
       "      <td>2</td>\n",
       "      <td>5</td>\n",
       "    </tr>\n",
       "  </tbody>\n",
       "</table>\n",
       "</div>"
      ],
      "text/plain": [
       "  chave  valorA  valorB\n",
       "0  item       1       4\n",
       "1   val       2       5"
      ]
     },
     "execution_count": 61,
     "metadata": {},
     "output_type": "execute_result"
    }
   ],
   "source": [
    "pd.merge(a, b, on=\"chave\")"
   ]
  },
  {
   "cell_type": "markdown",
   "metadata": {},
   "source": [
    "<h2 style=\"color:blue; background-color:#F3F2F9\">Agrupamento</h2>\n",
    "\n",
    "O **Agrupamento** é um processo que envolve uma ou mais das seguintes etapas:\n",
    "\n",
    "1. Dividir os dados em grupos com base em alguns critérios.\n",
    "2. Aplicar uma função a cada grupo independentemente.\n",
    "3. Combinar os resultados em uma estrutura de dados."
   ]
  },
  {
   "cell_type": "code",
   "execution_count": 64,
   "metadata": {},
   "outputs": [
    {
     "data": {
      "text/html": [
       "<div>\n",
       "<style scoped>\n",
       "    .dataframe tbody tr th:only-of-type {\n",
       "        vertical-align: middle;\n",
       "    }\n",
       "\n",
       "    .dataframe tbody tr th {\n",
       "        vertical-align: top;\n",
       "    }\n",
       "\n",
       "    .dataframe thead th {\n",
       "        text-align: right;\n",
       "    }\n",
       "</style>\n",
       "<table border=\"1\" class=\"dataframe\">\n",
       "  <thead>\n",
       "    <tr style=\"text-align: right;\">\n",
       "      <th></th>\n",
       "      <th>A</th>\n",
       "      <th>B</th>\n",
       "      <th>C</th>\n",
       "      <th>D</th>\n",
       "    </tr>\n",
       "  </thead>\n",
       "  <tbody>\n",
       "    <tr>\n",
       "      <th>0</th>\n",
       "      <td>item</td>\n",
       "      <td>um</td>\n",
       "      <td>0.368465</td>\n",
       "      <td>0.833627</td>\n",
       "    </tr>\n",
       "    <tr>\n",
       "      <th>1</th>\n",
       "      <td>valor</td>\n",
       "      <td>um</td>\n",
       "      <td>0.236693</td>\n",
       "      <td>-0.675075</td>\n",
       "    </tr>\n",
       "    <tr>\n",
       "      <th>2</th>\n",
       "      <td>item</td>\n",
       "      <td>dois</td>\n",
       "      <td>2.063737</td>\n",
       "      <td>0.612448</td>\n",
       "    </tr>\n",
       "    <tr>\n",
       "      <th>3</th>\n",
       "      <td>valor</td>\n",
       "      <td>três</td>\n",
       "      <td>0.536142</td>\n",
       "      <td>0.336975</td>\n",
       "    </tr>\n",
       "    <tr>\n",
       "      <th>4</th>\n",
       "      <td>item</td>\n",
       "      <td>dois</td>\n",
       "      <td>-1.326727</td>\n",
       "      <td>-1.123182</td>\n",
       "    </tr>\n",
       "    <tr>\n",
       "      <th>5</th>\n",
       "      <td>valor</td>\n",
       "      <td>dois</td>\n",
       "      <td>-1.078908</td>\n",
       "      <td>0.876692</td>\n",
       "    </tr>\n",
       "    <tr>\n",
       "      <th>6</th>\n",
       "      <td>item</td>\n",
       "      <td>um</td>\n",
       "      <td>-0.363955</td>\n",
       "      <td>0.182970</td>\n",
       "    </tr>\n",
       "    <tr>\n",
       "      <th>7</th>\n",
       "      <td>item</td>\n",
       "      <td>três</td>\n",
       "      <td>-0.038223</td>\n",
       "      <td>-1.121280</td>\n",
       "    </tr>\n",
       "  </tbody>\n",
       "</table>\n",
       "</div>"
      ],
      "text/plain": [
       "       A     B         C         D\n",
       "0   item    um  0.368465  0.833627\n",
       "1  valor    um  0.236693 -0.675075\n",
       "2   item  dois  2.063737  0.612448\n",
       "3  valor  três  0.536142  0.336975\n",
       "4   item  dois -1.326727 -1.123182\n",
       "5  valor  dois -1.078908  0.876692\n",
       "6   item    um -0.363955  0.182970\n",
       "7   item  três -0.038223 -1.121280"
      ]
     },
     "execution_count": 64,
     "metadata": {},
     "output_type": "execute_result"
    }
   ],
   "source": [
    "df6 = pd.DataFrame( { \"A\": [\"item\", \"valor\", \"item\", \"valor\", \"item\", \"valor\", \"item\", \"item\"],\n",
    "                     \"B\": [\"um\", \"um\", \"dois\", \"três\", \"dois\", \"dois\", \"um\", \"três\"],\n",
    "                     \"C\": np.random.randn(8),\n",
    "                     \"D\": np.random.randn(8), } )\n",
    "df6"
   ]
  },
  {
   "cell_type": "markdown",
   "metadata": {},
   "source": [
    "Agrupando e aplicando a função `sum()` aos grupos resultantes."
   ]
  },
  {
   "cell_type": "code",
   "execution_count": 65,
   "metadata": {},
   "outputs": [
    {
     "data": {
      "text/html": [
       "<div>\n",
       "<style scoped>\n",
       "    .dataframe tbody tr th:only-of-type {\n",
       "        vertical-align: middle;\n",
       "    }\n",
       "\n",
       "    .dataframe tbody tr th {\n",
       "        vertical-align: top;\n",
       "    }\n",
       "\n",
       "    .dataframe thead th {\n",
       "        text-align: right;\n",
       "    }\n",
       "</style>\n",
       "<table border=\"1\" class=\"dataframe\">\n",
       "  <thead>\n",
       "    <tr style=\"text-align: right;\">\n",
       "      <th></th>\n",
       "      <th></th>\n",
       "      <th>C</th>\n",
       "      <th>D</th>\n",
       "    </tr>\n",
       "    <tr>\n",
       "      <th>A</th>\n",
       "      <th>B</th>\n",
       "      <th></th>\n",
       "      <th></th>\n",
       "    </tr>\n",
       "  </thead>\n",
       "  <tbody>\n",
       "    <tr>\n",
       "      <th rowspan=\"3\" valign=\"top\">item</th>\n",
       "      <th>dois</th>\n",
       "      <td>0.737010</td>\n",
       "      <td>-0.510734</td>\n",
       "    </tr>\n",
       "    <tr>\n",
       "      <th>três</th>\n",
       "      <td>-0.038223</td>\n",
       "      <td>-1.121280</td>\n",
       "    </tr>\n",
       "    <tr>\n",
       "      <th>um</th>\n",
       "      <td>0.004510</td>\n",
       "      <td>1.016597</td>\n",
       "    </tr>\n",
       "    <tr>\n",
       "      <th rowspan=\"3\" valign=\"top\">valor</th>\n",
       "      <th>dois</th>\n",
       "      <td>-1.078908</td>\n",
       "      <td>0.876692</td>\n",
       "    </tr>\n",
       "    <tr>\n",
       "      <th>três</th>\n",
       "      <td>0.536142</td>\n",
       "      <td>0.336975</td>\n",
       "    </tr>\n",
       "    <tr>\n",
       "      <th>um</th>\n",
       "      <td>0.236693</td>\n",
       "      <td>-0.675075</td>\n",
       "    </tr>\n",
       "  </tbody>\n",
       "</table>\n",
       "</div>"
      ],
      "text/plain": [
       "                   C         D\n",
       "A     B                       \n",
       "item  dois  0.737010 -0.510734\n",
       "      três -0.038223 -1.121280\n",
       "      um    0.004510  1.016597\n",
       "valor dois -1.078908  0.876692\n",
       "      três  0.536142  0.336975\n",
       "      um    0.236693 -0.675075"
      ]
     },
     "execution_count": 65,
     "metadata": {},
     "output_type": "execute_result"
    }
   ],
   "source": [
    "df6.groupby([\"A\", \"B\"]).sum()"
   ]
  },
  {
   "cell_type": "markdown",
   "metadata": {},
   "source": [
    "<h2 style=\"color:blue; background-color:#F3F2F9\">Remodelando</h2>\n",
    "<h3 style=\"color:blue; background-color:#F3F2F9\">Empilhamento</h3>"
   ]
  },
  {
   "cell_type": "code",
   "execution_count": 67,
   "metadata": {},
   "outputs": [
    {
     "data": {
      "text/html": [
       "<div>\n",
       "<style scoped>\n",
       "    .dataframe tbody tr th:only-of-type {\n",
       "        vertical-align: middle;\n",
       "    }\n",
       "\n",
       "    .dataframe tbody tr th {\n",
       "        vertical-align: top;\n",
       "    }\n",
       "\n",
       "    .dataframe thead th {\n",
       "        text-align: right;\n",
       "    }\n",
       "</style>\n",
       "<table border=\"1\" class=\"dataframe\">\n",
       "  <thead>\n",
       "    <tr style=\"text-align: right;\">\n",
       "      <th></th>\n",
       "      <th></th>\n",
       "      <th>A</th>\n",
       "      <th>B</th>\n",
       "    </tr>\n",
       "    <tr>\n",
       "      <th>primeiro</th>\n",
       "      <th>segundo</th>\n",
       "      <th></th>\n",
       "      <th></th>\n",
       "    </tr>\n",
       "  </thead>\n",
       "  <tbody>\n",
       "    <tr>\n",
       "      <th rowspan=\"2\" valign=\"top\">barra</th>\n",
       "      <th>um</th>\n",
       "      <td>-0.914160</td>\n",
       "      <td>-1.466732</td>\n",
       "    </tr>\n",
       "    <tr>\n",
       "      <th>dois</th>\n",
       "      <td>-0.255683</td>\n",
       "      <td>0.769011</td>\n",
       "    </tr>\n",
       "    <tr>\n",
       "      <th rowspan=\"2\" valign=\"top\">bazar</th>\n",
       "      <th>um</th>\n",
       "      <td>1.928723</td>\n",
       "      <td>-0.953505</td>\n",
       "    </tr>\n",
       "    <tr>\n",
       "      <th>dois</th>\n",
       "      <td>-1.744472</td>\n",
       "      <td>-1.726661</td>\n",
       "    </tr>\n",
       "  </tbody>\n",
       "</table>\n",
       "</div>"
      ],
      "text/plain": [
       "                         A         B\n",
       "primeiro segundo                    \n",
       "barra    um      -0.914160 -1.466732\n",
       "         dois    -0.255683  0.769011\n",
       "bazar    um       1.928723 -0.953505\n",
       "         dois    -1.744472 -1.726661"
      ]
     },
     "execution_count": 67,
     "metadata": {},
     "output_type": "execute_result"
    }
   ],
   "source": [
    "tuplas = list(zip( *[ [\"barra\", \"barra\", \"bazar\", \"bazar\", \"item\", \"item\", \"qui\", \"qui\"],\n",
    "                      [\"um\", \"dois\", \"um\",  \"dois\", \"um\", \"dois\", \"um\", \"dois\"], ] ))\n",
    "indice = pd.MultiIndex.from_tuples(tuplas, names=[\"primeiro\", \"segundo\"])\n",
    "df7 = pd.DataFrame(np.random.randn(8, 2), index=indice, columns=[\"A\", \"B\"])\n",
    "df8 = df7[:4]\n",
    "df8"
   ]
  },
  {
   "cell_type": "markdown",
   "metadata": {},
   "source": [
    "O método `stack()` \"compacta\" um nível nas colunas do DataFrame."
   ]
  },
  {
   "cell_type": "code",
   "execution_count": 68,
   "metadata": {},
   "outputs": [
    {
     "data": {
      "text/plain": [
       "primeiro  segundo   \n",
       "barra     um       A   -0.914160\n",
       "                   B   -1.466732\n",
       "          dois     A   -0.255683\n",
       "                   B    0.769011\n",
       "bazar     um       A    1.928723\n",
       "                   B   -0.953505\n",
       "          dois     A   -1.744472\n",
       "                   B   -1.726661\n",
       "dtype: float64"
      ]
     },
     "execution_count": 68,
     "metadata": {},
     "output_type": "execute_result"
    }
   ],
   "source": [
    "empilhado = df8.stack()\n",
    "empilhado"
   ]
  },
  {
   "cell_type": "markdown",
   "metadata": {},
   "source": [
    "Com uma estrutura de dados \"empilhada\" (DataFrame ou Série, tendo 'MultiIndex' como índice), a operação inversa de `stack()` é `unstack()`, que por padrão desempilha o último nível:"
   ]
  },
  {
   "cell_type": "code",
   "execution_count": 69,
   "metadata": {
    "scrolled": true
   },
   "outputs": [
    {
     "data": {
      "text/html": [
       "<div>\n",
       "<style scoped>\n",
       "    .dataframe tbody tr th:only-of-type {\n",
       "        vertical-align: middle;\n",
       "    }\n",
       "\n",
       "    .dataframe tbody tr th {\n",
       "        vertical-align: top;\n",
       "    }\n",
       "\n",
       "    .dataframe thead th {\n",
       "        text-align: right;\n",
       "    }\n",
       "</style>\n",
       "<table border=\"1\" class=\"dataframe\">\n",
       "  <thead>\n",
       "    <tr style=\"text-align: right;\">\n",
       "      <th></th>\n",
       "      <th></th>\n",
       "      <th>A</th>\n",
       "      <th>B</th>\n",
       "    </tr>\n",
       "    <tr>\n",
       "      <th>primeiro</th>\n",
       "      <th>segundo</th>\n",
       "      <th></th>\n",
       "      <th></th>\n",
       "    </tr>\n",
       "  </thead>\n",
       "  <tbody>\n",
       "    <tr>\n",
       "      <th rowspan=\"2\" valign=\"top\">barra</th>\n",
       "      <th>dois</th>\n",
       "      <td>-0.255683</td>\n",
       "      <td>0.769011</td>\n",
       "    </tr>\n",
       "    <tr>\n",
       "      <th>um</th>\n",
       "      <td>-0.914160</td>\n",
       "      <td>-1.466732</td>\n",
       "    </tr>\n",
       "    <tr>\n",
       "      <th rowspan=\"2\" valign=\"top\">bazar</th>\n",
       "      <th>dois</th>\n",
       "      <td>-1.744472</td>\n",
       "      <td>-1.726661</td>\n",
       "    </tr>\n",
       "    <tr>\n",
       "      <th>um</th>\n",
       "      <td>1.928723</td>\n",
       "      <td>-0.953505</td>\n",
       "    </tr>\n",
       "  </tbody>\n",
       "</table>\n",
       "</div>"
      ],
      "text/plain": [
       "                         A         B\n",
       "primeiro segundo                    \n",
       "barra    dois    -0.255683  0.769011\n",
       "         um      -0.914160 -1.466732\n",
       "bazar    dois    -1.744472 -1.726661\n",
       "         um       1.928723 -0.953505"
      ]
     },
     "execution_count": 69,
     "metadata": {},
     "output_type": "execute_result"
    }
   ],
   "source": [
    "empilhado.unstack()        # ou empilhado.unstack(0)"
   ]
  },
  {
   "cell_type": "code",
   "execution_count": 70,
   "metadata": {},
   "outputs": [
    {
     "data": {
      "text/html": [
       "<div>\n",
       "<style scoped>\n",
       "    .dataframe tbody tr th:only-of-type {\n",
       "        vertical-align: middle;\n",
       "    }\n",
       "\n",
       "    .dataframe tbody tr th {\n",
       "        vertical-align: top;\n",
       "    }\n",
       "\n",
       "    .dataframe thead th {\n",
       "        text-align: right;\n",
       "    }\n",
       "</style>\n",
       "<table border=\"1\" class=\"dataframe\">\n",
       "  <thead>\n",
       "    <tr style=\"text-align: right;\">\n",
       "      <th></th>\n",
       "      <th>segundo</th>\n",
       "      <th>dois</th>\n",
       "      <th>um</th>\n",
       "    </tr>\n",
       "    <tr>\n",
       "      <th>primeiro</th>\n",
       "      <th></th>\n",
       "      <th></th>\n",
       "      <th></th>\n",
       "    </tr>\n",
       "  </thead>\n",
       "  <tbody>\n",
       "    <tr>\n",
       "      <th rowspan=\"2\" valign=\"top\">barra</th>\n",
       "      <th>A</th>\n",
       "      <td>-0.255683</td>\n",
       "      <td>-0.914160</td>\n",
       "    </tr>\n",
       "    <tr>\n",
       "      <th>B</th>\n",
       "      <td>0.769011</td>\n",
       "      <td>-1.466732</td>\n",
       "    </tr>\n",
       "    <tr>\n",
       "      <th rowspan=\"2\" valign=\"top\">bazar</th>\n",
       "      <th>A</th>\n",
       "      <td>-1.744472</td>\n",
       "      <td>1.928723</td>\n",
       "    </tr>\n",
       "    <tr>\n",
       "      <th>B</th>\n",
       "      <td>-1.726661</td>\n",
       "      <td>-0.953505</td>\n",
       "    </tr>\n",
       "  </tbody>\n",
       "</table>\n",
       "</div>"
      ],
      "text/plain": [
       "segundo         dois        um\n",
       "primeiro                      \n",
       "barra    A -0.255683 -0.914160\n",
       "         B  0.769011 -1.466732\n",
       "bazar    A -1.744472  1.928723\n",
       "         B -1.726661 -0.953505"
      ]
     },
     "execution_count": 70,
     "metadata": {},
     "output_type": "execute_result"
    }
   ],
   "source": [
    "empilhado.unstack(1)"
   ]
  },
  {
   "cell_type": "markdown",
   "metadata": {},
   "source": [
    "<h3 style=\"color:blue; background-color:#F3F2F9\">Tabelas Dinâmicas</h3>"
   ]
  },
  {
   "cell_type": "code",
   "execution_count": 71,
   "metadata": {},
   "outputs": [
    {
     "data": {
      "text/html": [
       "<div>\n",
       "<style scoped>\n",
       "    .dataframe tbody tr th:only-of-type {\n",
       "        vertical-align: middle;\n",
       "    }\n",
       "\n",
       "    .dataframe tbody tr th {\n",
       "        vertical-align: top;\n",
       "    }\n",
       "\n",
       "    .dataframe thead th {\n",
       "        text-align: right;\n",
       "    }\n",
       "</style>\n",
       "<table border=\"1\" class=\"dataframe\">\n",
       "  <thead>\n",
       "    <tr style=\"text-align: right;\">\n",
       "      <th></th>\n",
       "      <th>A</th>\n",
       "      <th>B</th>\n",
       "      <th>C</th>\n",
       "      <th>D</th>\n",
       "      <th>E</th>\n",
       "    </tr>\n",
       "  </thead>\n",
       "  <tbody>\n",
       "    <tr>\n",
       "      <th>0</th>\n",
       "      <td>um</td>\n",
       "      <td>A</td>\n",
       "      <td>item</td>\n",
       "      <td>0.180946</td>\n",
       "      <td>0.472359</td>\n",
       "    </tr>\n",
       "    <tr>\n",
       "      <th>1</th>\n",
       "      <td>um</td>\n",
       "      <td>B</td>\n",
       "      <td>item</td>\n",
       "      <td>0.086992</td>\n",
       "      <td>-0.580410</td>\n",
       "    </tr>\n",
       "    <tr>\n",
       "      <th>2</th>\n",
       "      <td>dois</td>\n",
       "      <td>C</td>\n",
       "      <td>item</td>\n",
       "      <td>0.194569</td>\n",
       "      <td>-0.626423</td>\n",
       "    </tr>\n",
       "    <tr>\n",
       "      <th>3</th>\n",
       "      <td>três</td>\n",
       "      <td>A</td>\n",
       "      <td>mar</td>\n",
       "      <td>0.985247</td>\n",
       "      <td>0.440178</td>\n",
       "    </tr>\n",
       "    <tr>\n",
       "      <th>4</th>\n",
       "      <td>um</td>\n",
       "      <td>B</td>\n",
       "      <td>mar</td>\n",
       "      <td>-1.711754</td>\n",
       "      <td>1.186297</td>\n",
       "    </tr>\n",
       "    <tr>\n",
       "      <th>5</th>\n",
       "      <td>um</td>\n",
       "      <td>C</td>\n",
       "      <td>mar</td>\n",
       "      <td>-0.625247</td>\n",
       "      <td>1.081480</td>\n",
       "    </tr>\n",
       "    <tr>\n",
       "      <th>6</th>\n",
       "      <td>dois</td>\n",
       "      <td>A</td>\n",
       "      <td>item</td>\n",
       "      <td>-1.219121</td>\n",
       "      <td>0.430328</td>\n",
       "    </tr>\n",
       "    <tr>\n",
       "      <th>7</th>\n",
       "      <td>três</td>\n",
       "      <td>B</td>\n",
       "      <td>item</td>\n",
       "      <td>-2.320987</td>\n",
       "      <td>1.076534</td>\n",
       "    </tr>\n",
       "    <tr>\n",
       "      <th>8</th>\n",
       "      <td>um</td>\n",
       "      <td>C</td>\n",
       "      <td>item</td>\n",
       "      <td>0.192274</td>\n",
       "      <td>1.027539</td>\n",
       "    </tr>\n",
       "    <tr>\n",
       "      <th>9</th>\n",
       "      <td>um</td>\n",
       "      <td>A</td>\n",
       "      <td>mar</td>\n",
       "      <td>0.994189</td>\n",
       "      <td>0.560579</td>\n",
       "    </tr>\n",
       "    <tr>\n",
       "      <th>10</th>\n",
       "      <td>dois</td>\n",
       "      <td>B</td>\n",
       "      <td>mar</td>\n",
       "      <td>-0.781614</td>\n",
       "      <td>-0.331817</td>\n",
       "    </tr>\n",
       "    <tr>\n",
       "      <th>11</th>\n",
       "      <td>três</td>\n",
       "      <td>C</td>\n",
       "      <td>mar</td>\n",
       "      <td>-0.564590</td>\n",
       "      <td>-0.302350</td>\n",
       "    </tr>\n",
       "  </tbody>\n",
       "</table>\n",
       "</div>"
      ],
      "text/plain": [
       "       A  B     C         D         E\n",
       "0     um  A  item  0.180946  0.472359\n",
       "1     um  B  item  0.086992 -0.580410\n",
       "2   dois  C  item  0.194569 -0.626423\n",
       "3   três  A   mar  0.985247  0.440178\n",
       "4     um  B   mar -1.711754  1.186297\n",
       "5     um  C   mar -0.625247  1.081480\n",
       "6   dois  A  item -1.219121  0.430328\n",
       "7   três  B  item -2.320987  1.076534\n",
       "8     um  C  item  0.192274  1.027539\n",
       "9     um  A   mar  0.994189  0.560579\n",
       "10  dois  B   mar -0.781614 -0.331817\n",
       "11  três  C   mar -0.564590 -0.302350"
      ]
     },
     "execution_count": 71,
     "metadata": {},
     "output_type": "execute_result"
    }
   ],
   "source": [
    "df9 = pd.DataFrame( { \"A\": [\"um\", \"um\", \"dois\", \"três\"] * 3,\n",
    "                     \"B\": [\"A\", \"B\", \"C\"] * 4,\n",
    "                     \"C\": [\"item\", \"item\", \"item\", \"mar\", \"mar\", \"mar\"] * 2,\n",
    "                     \"D\": np.random.randn(12),\n",
    "                     \"E\": np.random.randn(12), } )\n",
    "df9"
   ]
  },
  {
   "cell_type": "markdown",
   "metadata": {},
   "source": [
    "Podemos produzir tabelas dinâmicas a partir desses dados com muita facilidade:"
   ]
  },
  {
   "cell_type": "code",
   "execution_count": 72,
   "metadata": {},
   "outputs": [
    {
     "data": {
      "text/html": [
       "<div>\n",
       "<style scoped>\n",
       "    .dataframe tbody tr th:only-of-type {\n",
       "        vertical-align: middle;\n",
       "    }\n",
       "\n",
       "    .dataframe tbody tr th {\n",
       "        vertical-align: top;\n",
       "    }\n",
       "\n",
       "    .dataframe thead th {\n",
       "        text-align: right;\n",
       "    }\n",
       "</style>\n",
       "<table border=\"1\" class=\"dataframe\">\n",
       "  <thead>\n",
       "    <tr style=\"text-align: right;\">\n",
       "      <th></th>\n",
       "      <th>C</th>\n",
       "      <th>item</th>\n",
       "      <th>mar</th>\n",
       "    </tr>\n",
       "    <tr>\n",
       "      <th>A</th>\n",
       "      <th>B</th>\n",
       "      <th></th>\n",
       "      <th></th>\n",
       "    </tr>\n",
       "  </thead>\n",
       "  <tbody>\n",
       "    <tr>\n",
       "      <th rowspan=\"3\" valign=\"top\">dois</th>\n",
       "      <th>A</th>\n",
       "      <td>-1.219121</td>\n",
       "      <td>NaN</td>\n",
       "    </tr>\n",
       "    <tr>\n",
       "      <th>B</th>\n",
       "      <td>NaN</td>\n",
       "      <td>-0.781614</td>\n",
       "    </tr>\n",
       "    <tr>\n",
       "      <th>C</th>\n",
       "      <td>0.194569</td>\n",
       "      <td>NaN</td>\n",
       "    </tr>\n",
       "    <tr>\n",
       "      <th rowspan=\"3\" valign=\"top\">três</th>\n",
       "      <th>A</th>\n",
       "      <td>NaN</td>\n",
       "      <td>0.985247</td>\n",
       "    </tr>\n",
       "    <tr>\n",
       "      <th>B</th>\n",
       "      <td>-2.320987</td>\n",
       "      <td>NaN</td>\n",
       "    </tr>\n",
       "    <tr>\n",
       "      <th>C</th>\n",
       "      <td>NaN</td>\n",
       "      <td>-0.564590</td>\n",
       "    </tr>\n",
       "    <tr>\n",
       "      <th rowspan=\"3\" valign=\"top\">um</th>\n",
       "      <th>A</th>\n",
       "      <td>0.180946</td>\n",
       "      <td>0.994189</td>\n",
       "    </tr>\n",
       "    <tr>\n",
       "      <th>B</th>\n",
       "      <td>0.086992</td>\n",
       "      <td>-1.711754</td>\n",
       "    </tr>\n",
       "    <tr>\n",
       "      <th>C</th>\n",
       "      <td>0.192274</td>\n",
       "      <td>-0.625247</td>\n",
       "    </tr>\n",
       "  </tbody>\n",
       "</table>\n",
       "</div>"
      ],
      "text/plain": [
       "C           item       mar\n",
       "A    B                    \n",
       "dois A -1.219121       NaN\n",
       "     B       NaN -0.781614\n",
       "     C  0.194569       NaN\n",
       "três A       NaN  0.985247\n",
       "     B -2.320987       NaN\n",
       "     C       NaN -0.564590\n",
       "um   A  0.180946  0.994189\n",
       "     B  0.086992 -1.711754\n",
       "     C  0.192274 -0.625247"
      ]
     },
     "execution_count": 72,
     "metadata": {},
     "output_type": "execute_result"
    }
   ],
   "source": [
    "pd.pivot_table(df9, values=\"D\", index=[\"A\", \"B\"], columns=[\"C\"])"
   ]
  },
  {
   "cell_type": "markdown",
   "metadata": {},
   "source": [
    "<h2 style=\"color:blue; background-color:#F9EDEF\">Exemplo de <i>DataFrame</i></h2>"
   ]
  },
  {
   "cell_type": "code",
   "execution_count": 26,
   "metadata": {
    "scrolled": true
   },
   "outputs": [
    {
     "data": {
      "text/html": [
       "<div>\n",
       "<style scoped>\n",
       "    .dataframe tbody tr th:only-of-type {\n",
       "        vertical-align: middle;\n",
       "    }\n",
       "\n",
       "    .dataframe tbody tr th {\n",
       "        vertical-align: top;\n",
       "    }\n",
       "\n",
       "    .dataframe thead th {\n",
       "        text-align: right;\n",
       "    }\n",
       "</style>\n",
       "<table border=\"1\" class=\"dataframe\">\n",
       "  <thead>\n",
       "    <tr style=\"text-align: right;\">\n",
       "      <th></th>\n",
       "      <th>País</th>\n",
       "      <th>Capital</th>\n",
       "      <th>População</th>\n",
       "    </tr>\n",
       "  </thead>\n",
       "  <tbody>\n",
       "    <tr>\n",
       "      <th>0</th>\n",
       "      <td>Portugal</td>\n",
       "      <td>Lisboa</td>\n",
       "      <td>751000</td>\n",
       "    </tr>\n",
       "    <tr>\n",
       "      <th>1</th>\n",
       "      <td>Peru</td>\n",
       "      <td>Lima</td>\n",
       "      <td>1120000</td>\n",
       "    </tr>\n",
       "    <tr>\n",
       "      <th>2</th>\n",
       "      <td>Chile</td>\n",
       "      <td>Santiago</td>\n",
       "      <td>695000</td>\n",
       "    </tr>\n",
       "  </tbody>\n",
       "</table>\n",
       "</div>"
      ],
      "text/plain": [
       "       País   Capital  População\n",
       "0  Portugal    Lisboa     751000\n",
       "1      Peru      Lima    1120000\n",
       "2     Chile  Santiago     695000"
      ]
     },
     "execution_count": 26,
     "metadata": {},
     "output_type": "execute_result"
    }
   ],
   "source": [
    "import pandas as pd\n",
    "# criando um dataframe a partir de um dicionário\n",
    "data = {'País':['Portugal', 'Peru', 'Chile'],'Capital':['Lisboa', 'Lima', 'Santiago'],'População':[751000, 1120000, 695000]}\n",
    "df = pd.DataFrame(data, columns=['País', 'Capital', 'População'])\n",
    "df"
   ]
  },
  {
   "cell_type": "markdown",
   "metadata": {
    "slideshow": {
     "slide_type": "slide"
    },
    "tags": [
     "0."
    ]
   },
   "source": [
    "<h1 style=\"color:blue; background-color:#E0DBF9; text-align:center\">Fundamentos Teóricos</h1>\n",
    "\n",
    "<h2 style=\"color:blue; background-color:#F3F2F9\">Estruturas de Dados: <i>DataFrame</i> e <i>Series</i></h2>\n",
    "\n",
    "As estruturas de dados primárias do **Pandas** são implementadas por duas classes: \n",
    "\n",
    "- **DataFrame** - uma espécie de tabela de dados relacionais, com linhas e colunas nominadas. \n",
    "- **Series** - uma espécie de coleção de dados de coluna única. \n",
    "\n",
    "Dimensões | Nome | Descrição  \n",
    ":---: | :--- | :----\n",
    "1 | matriz 1D | rotulada de forma homogênea  \n",
    "2 | DataFrame Geral | Estrutura tabular de tamanho marcado, mutável em 2D, com coluna potencialmente tipificada de forma heterogênea  \n",
    "\n",
    "As estruturas de dados do **Pandas** podem ser consideradas como contêineres flexíveis para dados de baixa dimensionalidade: o **DataFrame** é um contêiner para várias séries e **Series** é um contêiner para vários escalares.\n",
    "\n",
    "Um **DataFrame** contém uma ou mais **Series** e um nome para cada série. \n",
    "\n",
    "_DataFrame_ é uma abstração comumente usada na manipulação de muitos dados. Implementações semelhantes existem no **Apache Spark** (mecanismo de análise unificada para processamento de _big data_, com módulos internos para _streaming_, SQL, _Machine Learning_ e processamento de gráficos) e na linguagem _open source_ **R** (linguagem de programação multi-paradigma especializada em manipulação, análise e visualização gráfica de dados e estatísticas).\n",
    "\n",
    "A documentação do pacote **Pandas** define *DataFrame* como uma “estrutura de dados tabular bidimensional, mutável em tamanho e potencialmente heterogênea com eixos rotulados (linhas e colunas)”. De forma simples, podemos dizer que *DataFrame* é uma tabela de dados.\n",
    "\n",
    "Para se criar uma série basta construir um objeto das classes **Series** ou **Dataframe**.   \n",
    "Por exemplo:"
   ]
  },
  {
   "cell_type": "code",
   "execution_count": 4,
   "metadata": {},
   "outputs": [
    {
     "data": {
      "text/plain": [
       "0       Curitiba\n",
       "1         Manaus\n",
       "2    Porto Velho\n",
       "3          Natal\n",
       "4        Goiânia\n",
       "dtype: object"
      ]
     },
     "execution_count": 4,
     "metadata": {},
     "output_type": "execute_result"
    }
   ],
   "source": [
    "pd.Series(['Curitiba', 'Manaus', 'Porto Velho', 'Natal', 'Goiânia'])"
   ]
  },
  {
   "cell_type": "markdown",
   "metadata": {},
   "source": [
    "<h2 style=\"color:blue; background-color:#F3F2F9\">Séries Temporais</h2>\n",
    "\n",
    "O **Pandas** tem uma funcionalidade simples, poderosa e eficiente para realizar operações de reamostragem durante a conversão de frequência (por exemplo: conversão de dados em segundos em dados de 5 minutos). "
   ]
  },
  {
   "cell_type": "code",
   "execution_count": 79,
   "metadata": {
    "scrolled": true
   },
   "outputs": [
    {
     "data": {
      "text/plain": [
       "2021-01-01    2812\n",
       "Freq: 5T, dtype: int32"
      ]
     },
     "execution_count": 79,
     "metadata": {},
     "output_type": "execute_result"
    }
   ],
   "source": [
    "interv = pd.date_range(\"1/1/2021\", periods=100, freq=\"S\")      # intervalos de tempo a cada segundo\n",
    "# print(interv)\n",
    "st = pd.Series(np.random.randint(1, 61, len(interv)), index=interv)\n",
    "st.resample(\"5 min\").sum()"
   ]
  },
  {
   "cell_type": "markdown",
   "metadata": {},
   "source": [
    "Representação de fuso horário:"
   ]
  },
  {
   "cell_type": "code",
   "execution_count": 81,
   "metadata": {
    "scrolled": true
   },
   "outputs": [
    {
     "name": "stdout",
     "output_type": "stream",
     "text": [
      "DatetimeIndex(['2020-03-06', '2020-03-07', '2020-03-08', '2020-03-09',\n",
      "               '2020-03-10'],\n",
      "              dtype='datetime64[ns]', freq='D')\n"
     ]
    },
    {
     "data": {
      "text/plain": [
       "2020-03-06    2\n",
       "2020-03-07    2\n",
       "2020-03-08    2\n",
       "2020-03-09    2\n",
       "2020-03-10    2\n",
       "Freq: D, dtype: int64"
      ]
     },
     "execution_count": 81,
     "metadata": {},
     "output_type": "execute_result"
    }
   ],
   "source": [
    "interv = pd.date_range(\"3/6/2020 00:00\", periods=5, freq=\"D\")   # intervalos de tempo a cada dia\n",
    "print(interv)\n",
    "st = pd.Series(np.random.randint(len(interv)), interv)\n",
    "st"
   ]
  },
  {
   "cell_type": "code",
   "execution_count": 83,
   "metadata": {},
   "outputs": [
    {
     "data": {
      "text/plain": [
       "2020-03-06 00:00:00+00:00    2\n",
       "2020-03-07 00:00:00+00:00    2\n",
       "2020-03-08 00:00:00+00:00    2\n",
       "2020-03-09 00:00:00+00:00    2\n",
       "2020-03-10 00:00:00+00:00    2\n",
       "Freq: D, dtype: int64"
      ]
     },
     "execution_count": 83,
     "metadata": {},
     "output_type": "execute_result"
    }
   ],
   "source": [
    "st_utc = st.tz_localize(\"UTC\")\n",
    "st_utc"
   ]
  },
  {
   "cell_type": "markdown",
   "metadata": {},
   "source": [
    "Convertendo para outro fuso horário:"
   ]
  },
  {
   "cell_type": "code",
   "execution_count": 86,
   "metadata": {},
   "outputs": [
    {
     "data": {
      "text/plain": [
       "2020-03-05 21:00:00-03:00    2\n",
       "2020-03-06 21:00:00-03:00    2\n",
       "2020-03-07 21:00:00-03:00    2\n",
       "2020-03-08 21:00:00-03:00    2\n",
       "2020-03-09 21:00:00-03:00    2\n",
       "Freq: D, dtype: int64"
      ]
     },
     "execution_count": 86,
     "metadata": {},
     "output_type": "execute_result"
    }
   ],
   "source": [
    "st_utc.tz_convert(\"America/Sao_Paulo\")"
   ]
  },
  {
   "cell_type": "markdown",
   "metadata": {},
   "source": [
    "Conversão entre representações de intervalo de tempo:"
   ]
  },
  {
   "cell_type": "code",
   "execution_count": 87,
   "metadata": {
    "scrolled": true
   },
   "outputs": [
    {
     "data": {
      "text/plain": [
       "2012-01-31   -1.749878\n",
       "2012-02-29   -0.144381\n",
       "2012-03-31   -0.283800\n",
       "2012-04-30    0.123513\n",
       "2012-05-31    0.286149\n",
       "Freq: M, dtype: float64"
      ]
     },
     "execution_count": 87,
     "metadata": {},
     "output_type": "execute_result"
    }
   ],
   "source": [
    "interv = pd.date_range(\"1/1/2012\", periods=5, freq=\"M\")        # intervalos de tempo a cada mêsb\n",
    "st = pd.Series(np.random.randn(len(interv)), index=interv)\n",
    "st"
   ]
  },
  {
   "cell_type": "code",
   "execution_count": 93,
   "metadata": {},
   "outputs": [
    {
     "data": {
      "text/plain": [
       "2012-01   -1.749878\n",
       "2012-02   -0.144381\n",
       "2012-03   -0.283800\n",
       "2012-04    0.123513\n",
       "2012-05    0.286149\n",
       "Freq: M, dtype: float64"
      ]
     },
     "execution_count": 93,
     "metadata": {},
     "output_type": "execute_result"
    }
   ],
   "source": [
    "sp = st.to_period()\n",
    "sp"
   ]
  },
  {
   "cell_type": "code",
   "execution_count": 94,
   "metadata": {
    "scrolled": true
   },
   "outputs": [
    {
     "data": {
      "text/plain": [
       "2012-01-01   -1.749878\n",
       "2012-02-01   -0.144381\n",
       "2012-03-01   -0.283800\n",
       "2012-04-01    0.123513\n",
       "2012-05-01    0.286149\n",
       "Freq: MS, dtype: float64"
      ]
     },
     "execution_count": 94,
     "metadata": {},
     "output_type": "execute_result"
    }
   ],
   "source": [
    "sp.to_timestamp()"
   ]
  },
  {
   "cell_type": "markdown",
   "metadata": {},
   "source": [
    "Objetos **DataFrame** podem ser criados passando-se os nomes das colunas numa _string_ de mapeamento, do tipo dicionário (`dict`) para suas respectivas séries. Se a série não corresponder em comprimento, os valores omissos serão preenchidos com valores especiais **NaN**.  \n",
    "\n",
    "**Exemplo**: Estimativa populacional do Instituto Brasileiro de Geografia e Estatística ([IBGE](https://pt.wikipedia.org/wiki/Lista_de_capitais_do_Brasil_por_popula%C3%A7%C3%A3o)) para 1º de julho de 2018."
   ]
  },
  {
   "cell_type": "code",
   "execution_count": 7,
   "metadata": {},
   "outputs": [
    {
     "data": {
      "text/html": [
       "<div>\n",
       "<style scoped>\n",
       "    .dataframe tbody tr th:only-of-type {\n",
       "        vertical-align: middle;\n",
       "    }\n",
       "\n",
       "    .dataframe tbody tr th {\n",
       "        vertical-align: top;\n",
       "    }\n",
       "\n",
       "    .dataframe thead th {\n",
       "        text-align: right;\n",
       "    }\n",
       "</style>\n",
       "<table border=\"1\" class=\"dataframe\">\n",
       "  <thead>\n",
       "    <tr style=\"text-align: right;\">\n",
       "      <th></th>\n",
       "      <th>Nome da Cidade</th>\n",
       "      <th>Populacao</th>\n",
       "    </tr>\n",
       "  </thead>\n",
       "  <tbody>\n",
       "    <tr>\n",
       "      <th>0</th>\n",
       "      <td>Curitiba</td>\n",
       "      <td>1917185</td>\n",
       "    </tr>\n",
       "    <tr>\n",
       "      <th>1</th>\n",
       "      <td>Manaus</td>\n",
       "      <td>2145444</td>\n",
       "    </tr>\n",
       "    <tr>\n",
       "      <th>2</th>\n",
       "      <td>Porto Velho</td>\n",
       "      <td>519536</td>\n",
       "    </tr>\n",
       "    <tr>\n",
       "      <th>3</th>\n",
       "      <td>Natal</td>\n",
       "      <td>877640</td>\n",
       "    </tr>\n",
       "    <tr>\n",
       "      <th>4</th>\n",
       "      <td>Goiânia</td>\n",
       "      <td>1495705</td>\n",
       "    </tr>\n",
       "  </tbody>\n",
       "</table>\n",
       "</div>"
      ],
      "text/plain": [
       "  Nome da Cidade  Populacao\n",
       "0       Curitiba    1917185\n",
       "1         Manaus    2145444\n",
       "2    Porto Velho     519536\n",
       "3          Natal     877640\n",
       "4        Goiânia    1495705"
      ]
     },
     "execution_count": 7,
     "metadata": {},
     "output_type": "execute_result"
    }
   ],
   "source": [
    "capitais = pd.Series(['Curitiba', 'Manaus', 'Porto Velho', 'Natal', 'Goiânia'])\n",
    "populacao = pd.Series([1917185, 2145444, 519536, 877640, 1495705])\n",
    "pd.DataFrame({ 'Nome da Cidade': capitais, 'Populacao': populacao })"
   ]
  },
  {
   "cell_type": "markdown",
   "metadata": {},
   "source": [
    "Categorias"
   ]
  },
  {
   "cell_type": "code",
   "execution_count": 95,
   "metadata": {},
   "outputs": [
    {
     "data": {
      "text/plain": [
       "0    a\n",
       "1    b\n",
       "2    b\n",
       "3    a\n",
       "4    a\n",
       "5    e\n",
       "Name: nota, dtype: category\n",
       "Categories (3, object): ['a', 'b', 'e']"
      ]
     },
     "execution_count": 95,
     "metadata": {},
     "output_type": "execute_result"
    }
   ],
   "source": [
    "df = pd.DataFrame({\"id\": [1, 2, 3, 4, 5, 6], \"nota_pura\": [\"a\", \"b\", \"b\", \"a\", \"a\", \"e\"]})\n",
    "df[\"nota\"] = df[\"nota_pura\"].astype(\"category\")\n",
    "df['nota']"
   ]
  },
  {
   "cell_type": "markdown",
   "metadata": {},
   "source": [
    "Vamos renomeiar as categorias com nomes mais significativos..."
   ]
  },
  {
   "cell_type": "code",
   "execution_count": 96,
   "metadata": {},
   "outputs": [],
   "source": [
    "df[\"nota\"].cat.categories = [\"muito bom\", \"bom\", \"muito mal\"]"
   ]
  },
  {
   "cell_type": "markdown",
   "metadata": {},
   "source": [
    "Reordene as categorias e adicione simultaneamente as categorias ausentes (os métodos em Series.cat() retornam uma nova série normalmente)."
   ]
  },
  {
   "cell_type": "code",
   "execution_count": 97,
   "metadata": {},
   "outputs": [
    {
     "data": {
      "text/plain": [
       "0    muito bom\n",
       "1          bom\n",
       "2          bom\n",
       "3    muito bom\n",
       "4    muito bom\n",
       "5    muito mal\n",
       "Name: nota, dtype: category\n",
       "Categories (5, object): ['muito mal', 'mal', 'médio', 'bom', 'muito bom']"
      ]
     },
     "execution_count": 97,
     "metadata": {},
     "output_type": "execute_result"
    }
   ],
   "source": [
    "df[\"nota\"] = df[\"nota\"].cat.set_categories([\"muito mal\", \"mal\", \"médio\", \"bom\", \"muito bom\"])\n",
    "df[\"nota\"]"
   ]
  },
  {
   "cell_type": "markdown",
   "metadata": {},
   "source": [
    "A classificação é por ordem nas categorias, não por ordem lexical."
   ]
  },
  {
   "cell_type": "code",
   "execution_count": 98,
   "metadata": {},
   "outputs": [
    {
     "data": {
      "text/html": [
       "<div>\n",
       "<style scoped>\n",
       "    .dataframe tbody tr th:only-of-type {\n",
       "        vertical-align: middle;\n",
       "    }\n",
       "\n",
       "    .dataframe tbody tr th {\n",
       "        vertical-align: top;\n",
       "    }\n",
       "\n",
       "    .dataframe thead th {\n",
       "        text-align: right;\n",
       "    }\n",
       "</style>\n",
       "<table border=\"1\" class=\"dataframe\">\n",
       "  <thead>\n",
       "    <tr style=\"text-align: right;\">\n",
       "      <th></th>\n",
       "      <th>id</th>\n",
       "      <th>nota_pura</th>\n",
       "      <th>nota</th>\n",
       "    </tr>\n",
       "  </thead>\n",
       "  <tbody>\n",
       "    <tr>\n",
       "      <th>5</th>\n",
       "      <td>6</td>\n",
       "      <td>e</td>\n",
       "      <td>muito mal</td>\n",
       "    </tr>\n",
       "    <tr>\n",
       "      <th>1</th>\n",
       "      <td>2</td>\n",
       "      <td>b</td>\n",
       "      <td>bom</td>\n",
       "    </tr>\n",
       "    <tr>\n",
       "      <th>2</th>\n",
       "      <td>3</td>\n",
       "      <td>b</td>\n",
       "      <td>bom</td>\n",
       "    </tr>\n",
       "    <tr>\n",
       "      <th>0</th>\n",
       "      <td>1</td>\n",
       "      <td>a</td>\n",
       "      <td>muito bom</td>\n",
       "    </tr>\n",
       "    <tr>\n",
       "      <th>3</th>\n",
       "      <td>4</td>\n",
       "      <td>a</td>\n",
       "      <td>muito bom</td>\n",
       "    </tr>\n",
       "    <tr>\n",
       "      <th>4</th>\n",
       "      <td>5</td>\n",
       "      <td>a</td>\n",
       "      <td>muito bom</td>\n",
       "    </tr>\n",
       "  </tbody>\n",
       "</table>\n",
       "</div>"
      ],
      "text/plain": [
       "   id nota_pura       nota\n",
       "5   6         e  muito mal\n",
       "1   2         b        bom\n",
       "2   3         b        bom\n",
       "0   1         a  muito bom\n",
       "3   4         a  muito bom\n",
       "4   5         a  muito bom"
      ]
     },
     "execution_count": 98,
     "metadata": {},
     "output_type": "execute_result"
    }
   ],
   "source": [
    "df.sort_values(by=\"nota\")"
   ]
  },
  {
   "cell_type": "markdown",
   "metadata": {},
   "source": [
    "O agrupamento por uma coluna de categoria também mostra categorias vazias."
   ]
  },
  {
   "cell_type": "code",
   "execution_count": 99,
   "metadata": {},
   "outputs": [
    {
     "data": {
      "text/plain": [
       "nota\n",
       "muito mal    1\n",
       "mal          0\n",
       "médio        0\n",
       "bom          2\n",
       "muito bom    3\n",
       "dtype: int64"
      ]
     },
     "execution_count": 99,
     "metadata": {},
     "output_type": "execute_result"
    }
   ],
   "source": [
    "df.groupby(\"nota\").size()"
   ]
  },
  {
   "cell_type": "markdown",
   "metadata": {},
   "source": [
    "<h2 style=\"color:blue; background-color:#F3F2F9\">Gráficos</h2>\n",
    "<h3 style=\"color:blue; background-color:#F3F2F9\">Leitura de Arquivo .CSV</h3>"
   ]
  },
  {
   "cell_type": "code",
   "execution_count": 107,
   "metadata": {
    "scrolled": true
   },
   "outputs": [
    {
     "data": {
      "image/png": "[encoded data removed]",
      "text/plain": [
       "<Figure size 432x288 with 1 Axes>"
      ]
     },
     "metadata": {
      "needs_background": "light"
     },
     "output_type": "display_data"
    }
   ],
   "source": [
    "import matplotlib.pyplot as plt\n",
    "plt.close(\"all\")\n",
    "st = pd.Series(np.random.randn(1000), index=pd.date_range(\"1/1/2020\", periods=1000))\n",
    "st = st.cumsum()\n",
    "st.plot();"
   ]
  },
  {
   "cell_type": "markdown",
   "metadata": {},
   "source": [
    "Em um DataFrame, o método plot () é uma conveniência para plotar todas as colunas com rótulos:"
   ]
  },
  {
   "cell_type": "code",
   "execution_count": 121,
   "metadata": {},
   "outputs": [
    {
     "data": {
      "text/plain": [
       "<matplotlib.legend.Legend at 0x16b3fb051c0>"
      ]
     },
     "execution_count": 121,
     "metadata": {},
     "output_type": "execute_result"
    },
    {
     "data": {
      "text/plain": [
       "<Figure size 432x288 with 0 Axes>"
      ]
     },
     "metadata": {},
     "output_type": "display_data"
    },
    {
     "data": {
      "image/png": "[encoded data removed]",
      "text/plain": [
       "<Figure size 432x288 with 1 Axes>"
      ]
     },
     "metadata": {
      "needs_background": "light"
     },
     "output_type": "display_data"
    }
   ],
   "source": [
    "df = pd.DataFrame(np.random.randn(1000, 4), index=st.index, columns=[\"A\", \"B\", \"C\", \"D\"])\n",
    "df = df.cumsum()\n",
    "plt.figure()\n",
    "df.plot()\n",
    "plt.legend(loc='best')"
   ]
  },
  {
   "cell_type": "markdown",
   "metadata": {},
   "source": [
    "<h2 style=\"color:blue; background-color:#F3F2F9\">E/S de Dados</h2>\n",
    "<h3 style=\"color:blue; background-color:#F3F2F9\">Leitura de Arquivo .CSV</h3>"
   ]
  },
  {
   "cell_type": "markdown",
   "metadata": {},
   "source": [
    "Normalmente se carrega um arquivo inteiro num **DataFrame**. O exemplo seguinte carrega um arquivo com dados de habitação do estado da Califórnia, EUA. Execute a seguinte célula para carregar os dados e criar definições de recursos:"
   ]
  },
  {
   "cell_type": "code",
   "execution_count": 36,
   "metadata": {
    "scrolled": true
   },
   "outputs": [
    {
     "data": {
      "text/html": [
       "<div>\n",
       "<style scoped>\n",
       "    .dataframe tbody tr th:only-of-type {\n",
       "        vertical-align: middle;\n",
       "    }\n",
       "\n",
       "    .dataframe tbody tr th {\n",
       "        vertical-align: top;\n",
       "    }\n",
       "\n",
       "    .dataframe thead th {\n",
       "        text-align: right;\n",
       "    }\n",
       "</style>\n",
       "<table border=\"1\" class=\"dataframe\">\n",
       "  <thead>\n",
       "    <tr style=\"text-align: right;\">\n",
       "      <th></th>\n",
       "      <th>longitude</th>\n",
       "      <th>latitude</th>\n",
       "      <th>housing_median_age</th>\n",
       "      <th>total_rooms</th>\n",
       "      <th>total_bedrooms</th>\n",
       "      <th>population</th>\n",
       "      <th>households</th>\n",
       "      <th>median_income</th>\n",
       "      <th>median_house_value</th>\n",
       "    </tr>\n",
       "  </thead>\n",
       "  <tbody>\n",
       "    <tr>\n",
       "      <th>count</th>\n",
       "      <td>17000.000000</td>\n",
       "      <td>17000.000000</td>\n",
       "      <td>17000.000000</td>\n",
       "      <td>17000.000000</td>\n",
       "      <td>17000.000000</td>\n",
       "      <td>17000.000000</td>\n",
       "      <td>17000.000000</td>\n",
       "      <td>17000.000000</td>\n",
       "      <td>17000.000000</td>\n",
       "    </tr>\n",
       "    <tr>\n",
       "      <th>mean</th>\n",
       "      <td>-119.562108</td>\n",
       "      <td>35.625225</td>\n",
       "      <td>28.589353</td>\n",
       "      <td>2643.664412</td>\n",
       "      <td>539.410824</td>\n",
       "      <td>1429.573941</td>\n",
       "      <td>501.221941</td>\n",
       "      <td>3.883578</td>\n",
       "      <td>207300.912353</td>\n",
       "    </tr>\n",
       "    <tr>\n",
       "      <th>std</th>\n",
       "      <td>2.005166</td>\n",
       "      <td>2.137340</td>\n",
       "      <td>12.586937</td>\n",
       "      <td>2179.947071</td>\n",
       "      <td>421.499452</td>\n",
       "      <td>1147.852959</td>\n",
       "      <td>384.520841</td>\n",
       "      <td>1.908157</td>\n",
       "      <td>115983.764387</td>\n",
       "    </tr>\n",
       "    <tr>\n",
       "      <th>min</th>\n",
       "      <td>-124.350000</td>\n",
       "      <td>32.540000</td>\n",
       "      <td>1.000000</td>\n",
       "      <td>2.000000</td>\n",
       "      <td>1.000000</td>\n",
       "      <td>3.000000</td>\n",
       "      <td>1.000000</td>\n",
       "      <td>0.499900</td>\n",
       "      <td>14999.000000</td>\n",
       "    </tr>\n",
       "    <tr>\n",
       "      <th>25%</th>\n",
       "      <td>-121.790000</td>\n",
       "      <td>33.930000</td>\n",
       "      <td>18.000000</td>\n",
       "      <td>1462.000000</td>\n",
       "      <td>297.000000</td>\n",
       "      <td>790.000000</td>\n",
       "      <td>282.000000</td>\n",
       "      <td>2.566375</td>\n",
       "      <td>119400.000000</td>\n",
       "    </tr>\n",
       "    <tr>\n",
       "      <th>50%</th>\n",
       "      <td>-118.490000</td>\n",
       "      <td>34.250000</td>\n",
       "      <td>29.000000</td>\n",
       "      <td>2127.000000</td>\n",
       "      <td>434.000000</td>\n",
       "      <td>1167.000000</td>\n",
       "      <td>409.000000</td>\n",
       "      <td>3.544600</td>\n",
       "      <td>180400.000000</td>\n",
       "    </tr>\n",
       "    <tr>\n",
       "      <th>75%</th>\n",
       "      <td>-118.000000</td>\n",
       "      <td>37.720000</td>\n",
       "      <td>37.000000</td>\n",
       "      <td>3151.250000</td>\n",
       "      <td>648.250000</td>\n",
       "      <td>1721.000000</td>\n",
       "      <td>605.250000</td>\n",
       "      <td>4.767000</td>\n",
       "      <td>265000.000000</td>\n",
       "    </tr>\n",
       "    <tr>\n",
       "      <th>max</th>\n",
       "      <td>-114.310000</td>\n",
       "      <td>41.950000</td>\n",
       "      <td>52.000000</td>\n",
       "      <td>37937.000000</td>\n",
       "      <td>6445.000000</td>\n",
       "      <td>35682.000000</td>\n",
       "      <td>6082.000000</td>\n",
       "      <td>15.000100</td>\n",
       "      <td>500001.000000</td>\n",
       "    </tr>\n",
       "  </tbody>\n",
       "</table>\n",
       "</div>"
      ],
      "text/plain": [
       "          longitude      latitude  housing_median_age   total_rooms  \\\n",
       "count  17000.000000  17000.000000        17000.000000  17000.000000   \n",
       "mean    -119.562108     35.625225           28.589353   2643.664412   \n",
       "std        2.005166      2.137340           12.586937   2179.947071   \n",
       "min     -124.350000     32.540000            1.000000      2.000000   \n",
       "25%     -121.790000     33.930000           18.000000   1462.000000   \n",
       "50%     -118.490000     34.250000           29.000000   2127.000000   \n",
       "75%     -118.000000     37.720000           37.000000   3151.250000   \n",
       "max     -114.310000     41.950000           52.000000  37937.000000   \n",
       "\n",
       "       total_bedrooms    population    households  median_income  \\\n",
       "count    17000.000000  17000.000000  17000.000000   17000.000000   \n",
       "mean       539.410824   1429.573941    501.221941       3.883578   \n",
       "std        421.499452   1147.852959    384.520841       1.908157   \n",
       "min          1.000000      3.000000      1.000000       0.499900   \n",
       "25%        297.000000    790.000000    282.000000       2.566375   \n",
       "50%        434.000000   1167.000000    409.000000       3.544600   \n",
       "75%        648.250000   1721.000000    605.250000       4.767000   \n",
       "max       6445.000000  35682.000000   6082.000000      15.000100   \n",
       "\n",
       "       median_house_value  \n",
       "count        17000.000000  \n",
       "mean        207300.912353  \n",
       "std         115983.764387  \n",
       "min          14999.000000  \n",
       "25%         119400.000000  \n",
       "50%         180400.000000  \n",
       "75%         265000.000000  \n",
       "max         500001.000000  "
      ]
     },
     "execution_count": 36,
     "metadata": {},
     "output_type": "execute_result"
    }
   ],
   "source": [
    "# seu computador precisa ter acesso à Internet...\n",
    "pop_CA_df = pd.read_csv(\"https://download.mlcc.google.com/mledu-datasets/california_housing_train.csv\", sep=\",\")\n",
    "pop_CA_df.describe()"
   ]
  },
  {
   "cell_type": "markdown",
   "metadata": {},
   "source": [
    "O exemplo acima usou `DataFrame.describe()` para mostrar estatísticas interessantes sobre um **DataFrame**. Outras funções bastante úteis são: `DataFrame.head()` que exibe os primeiros registros de um **DataFrame** e `DataFrame.tail()` que exibe as últimas linhas:"
   ]
  },
  {
   "cell_type": "code",
   "execution_count": 41,
   "metadata": {},
   "outputs": [
    {
     "data": {
      "text/html": [
       "<div>\n",
       "<style scoped>\n",
       "    .dataframe tbody tr th:only-of-type {\n",
       "        vertical-align: middle;\n",
       "    }\n",
       "\n",
       "    .dataframe tbody tr th {\n",
       "        vertical-align: top;\n",
       "    }\n",
       "\n",
       "    .dataframe thead th {\n",
       "        text-align: right;\n",
       "    }\n",
       "</style>\n",
       "<table border=\"1\" class=\"dataframe\">\n",
       "  <thead>\n",
       "    <tr style=\"text-align: right;\">\n",
       "      <th></th>\n",
       "      <th>longitude</th>\n",
       "      <th>latitude</th>\n",
       "      <th>housing_median_age</th>\n",
       "      <th>total_rooms</th>\n",
       "      <th>total_bedrooms</th>\n",
       "      <th>population</th>\n",
       "      <th>households</th>\n",
       "      <th>median_income</th>\n",
       "      <th>median_house_value</th>\n",
       "    </tr>\n",
       "  </thead>\n",
       "  <tbody>\n",
       "    <tr>\n",
       "      <th>0</th>\n",
       "      <td>-114.31</td>\n",
       "      <td>34.19</td>\n",
       "      <td>15.0</td>\n",
       "      <td>5612.0</td>\n",
       "      <td>1283.0</td>\n",
       "      <td>1015.0</td>\n",
       "      <td>472.0</td>\n",
       "      <td>1.4936</td>\n",
       "      <td>66900.0</td>\n",
       "    </tr>\n",
       "    <tr>\n",
       "      <th>1</th>\n",
       "      <td>-114.47</td>\n",
       "      <td>34.40</td>\n",
       "      <td>19.0</td>\n",
       "      <td>7650.0</td>\n",
       "      <td>1901.0</td>\n",
       "      <td>1129.0</td>\n",
       "      <td>463.0</td>\n",
       "      <td>1.8200</td>\n",
       "      <td>80100.0</td>\n",
       "    </tr>\n",
       "    <tr>\n",
       "      <th>2</th>\n",
       "      <td>-114.56</td>\n",
       "      <td>33.69</td>\n",
       "      <td>17.0</td>\n",
       "      <td>720.0</td>\n",
       "      <td>174.0</td>\n",
       "      <td>333.0</td>\n",
       "      <td>117.0</td>\n",
       "      <td>1.6509</td>\n",
       "      <td>85700.0</td>\n",
       "    </tr>\n",
       "    <tr>\n",
       "      <th>3</th>\n",
       "      <td>-114.57</td>\n",
       "      <td>33.64</td>\n",
       "      <td>14.0</td>\n",
       "      <td>1501.0</td>\n",
       "      <td>337.0</td>\n",
       "      <td>515.0</td>\n",
       "      <td>226.0</td>\n",
       "      <td>3.1917</td>\n",
       "      <td>73400.0</td>\n",
       "    </tr>\n",
       "    <tr>\n",
       "      <th>4</th>\n",
       "      <td>-114.57</td>\n",
       "      <td>33.57</td>\n",
       "      <td>20.0</td>\n",
       "      <td>1454.0</td>\n",
       "      <td>326.0</td>\n",
       "      <td>624.0</td>\n",
       "      <td>262.0</td>\n",
       "      <td>1.9250</td>\n",
       "      <td>65500.0</td>\n",
       "    </tr>\n",
       "  </tbody>\n",
       "</table>\n",
       "</div>"
      ],
      "text/plain": [
       "   longitude  latitude  housing_median_age  total_rooms  total_bedrooms  \\\n",
       "0    -114.31     34.19                15.0       5612.0          1283.0   \n",
       "1    -114.47     34.40                19.0       7650.0          1901.0   \n",
       "2    -114.56     33.69                17.0        720.0           174.0   \n",
       "3    -114.57     33.64                14.0       1501.0           337.0   \n",
       "4    -114.57     33.57                20.0       1454.0           326.0   \n",
       "\n",
       "   population  households  median_income  median_house_value  \n",
       "0      1015.0       472.0         1.4936             66900.0  \n",
       "1      1129.0       463.0         1.8200             80100.0  \n",
       "2       333.0       117.0         1.6509             85700.0  \n",
       "3       515.0       226.0         3.1917             73400.0  \n",
       "4       624.0       262.0         1.9250             65500.0  "
      ]
     },
     "execution_count": 41,
     "metadata": {},
     "output_type": "execute_result"
    }
   ],
   "source": [
    "pop_CA_df.head()"
   ]
  },
  {
   "cell_type": "code",
   "execution_count": 52,
   "metadata": {},
   "outputs": [
    {
     "data": {
      "text/html": [
       "<div>\n",
       "<style scoped>\n",
       "    .dataframe tbody tr th:only-of-type {\n",
       "        vertical-align: middle;\n",
       "    }\n",
       "\n",
       "    .dataframe tbody tr th {\n",
       "        vertical-align: top;\n",
       "    }\n",
       "\n",
       "    .dataframe thead th {\n",
       "        text-align: right;\n",
       "    }\n",
       "</style>\n",
       "<table border=\"1\" class=\"dataframe\">\n",
       "  <thead>\n",
       "    <tr style=\"text-align: right;\">\n",
       "      <th></th>\n",
       "      <th>longitude</th>\n",
       "      <th>latitude</th>\n",
       "      <th>housing_median_age</th>\n",
       "      <th>total_rooms</th>\n",
       "      <th>total_bedrooms</th>\n",
       "      <th>population</th>\n",
       "      <th>households</th>\n",
       "      <th>median_income</th>\n",
       "      <th>median_house_value</th>\n",
       "    </tr>\n",
       "  </thead>\n",
       "  <tbody>\n",
       "    <tr>\n",
       "      <th>16995</th>\n",
       "      <td>-124.26</td>\n",
       "      <td>40.58</td>\n",
       "      <td>52.0</td>\n",
       "      <td>2217.0</td>\n",
       "      <td>394.0</td>\n",
       "      <td>907.0</td>\n",
       "      <td>369.0</td>\n",
       "      <td>2.3571</td>\n",
       "      <td>111400.0</td>\n",
       "    </tr>\n",
       "    <tr>\n",
       "      <th>16996</th>\n",
       "      <td>-124.27</td>\n",
       "      <td>40.69</td>\n",
       "      <td>36.0</td>\n",
       "      <td>2349.0</td>\n",
       "      <td>528.0</td>\n",
       "      <td>1194.0</td>\n",
       "      <td>465.0</td>\n",
       "      <td>2.5179</td>\n",
       "      <td>79000.0</td>\n",
       "    </tr>\n",
       "    <tr>\n",
       "      <th>16997</th>\n",
       "      <td>-124.30</td>\n",
       "      <td>41.84</td>\n",
       "      <td>17.0</td>\n",
       "      <td>2677.0</td>\n",
       "      <td>531.0</td>\n",
       "      <td>1244.0</td>\n",
       "      <td>456.0</td>\n",
       "      <td>3.0313</td>\n",
       "      <td>103600.0</td>\n",
       "    </tr>\n",
       "    <tr>\n",
       "      <th>16998</th>\n",
       "      <td>-124.30</td>\n",
       "      <td>41.80</td>\n",
       "      <td>19.0</td>\n",
       "      <td>2672.0</td>\n",
       "      <td>552.0</td>\n",
       "      <td>1298.0</td>\n",
       "      <td>478.0</td>\n",
       "      <td>1.9797</td>\n",
       "      <td>85800.0</td>\n",
       "    </tr>\n",
       "    <tr>\n",
       "      <th>16999</th>\n",
       "      <td>-124.35</td>\n",
       "      <td>40.54</td>\n",
       "      <td>52.0</td>\n",
       "      <td>1820.0</td>\n",
       "      <td>300.0</td>\n",
       "      <td>806.0</td>\n",
       "      <td>270.0</td>\n",
       "      <td>3.0147</td>\n",
       "      <td>94600.0</td>\n",
       "    </tr>\n",
       "  </tbody>\n",
       "</table>\n",
       "</div>"
      ],
      "text/plain": [
       "       longitude  latitude  housing_median_age  total_rooms  total_bedrooms  \\\n",
       "16995    -124.26     40.58                52.0       2217.0           394.0   \n",
       "16996    -124.27     40.69                36.0       2349.0           528.0   \n",
       "16997    -124.30     41.84                17.0       2677.0           531.0   \n",
       "16998    -124.30     41.80                19.0       2672.0           552.0   \n",
       "16999    -124.35     40.54                52.0       1820.0           300.0   \n",
       "\n",
       "       population  households  median_income  median_house_value  \n",
       "16995       907.0       369.0         2.3571            111400.0  \n",
       "16996      1194.0       465.0         2.5179             79000.0  \n",
       "16997      1244.0       456.0         3.0313            103600.0  \n",
       "16998      1298.0       478.0         1.9797             85800.0  \n",
       "16999       806.0       270.0         3.0147             94600.0  "
      ]
     },
     "execution_count": 52,
     "metadata": {},
     "output_type": "execute_result"
    }
   ],
   "source": [
    "pop_CA_df.tail()"
   ]
  },
  {
   "cell_type": "markdown",
   "metadata": {},
   "source": [
    "<h3 style=\"color:blue; background-color:#F3F2F9\">Escrita em Arquivo .CSV</h3>"
   ]
  },
  {
   "cell_type": "code",
   "execution_count": 44,
   "metadata": {},
   "outputs": [
    {
     "name": "stdout",
     "output_type": "stream",
     "text": [
      "E:\\python\\curso_ifg\\básico\\08.19\\2_Packages\n",
      "['.ipynb_checkpoints', 'CA_EUA.csv', 'dat', 'img', 'matplotlib.ipynb', 'Modulos_Cientificos - Copia.ipynb', 'Numpy.ipynb', 'pandas.ipynb', 'Python e outras Linguagens.ipynb', 'rosto.py', 'scipy.ipynb']\n"
     ]
    }
   ],
   "source": [
    "import os\n",
    "pop_CA_df.to_csv('CA_EUA.csv')\n",
    "print(os.getcwd())\n",
    "print(os.listdir('.'))   # Lista todos os arquivos e diretórios na pasta corrente"
   ]
  },
  {
   "cell_type": "markdown",
   "metadata": {},
   "source": [
    "<h3 style=\"color:blue; background-color:#F3F2F9\">Escrita de um Dataframe em Planilha (Arquivo Excel)</h3>"
   ]
  },
  {
   "cell_type": "code",
   "execution_count": 47,
   "metadata": {},
   "outputs": [
    {
     "name": "stdout",
     "output_type": "stream",
     "text": [
      "['.ipynb_checkpoints', 'CA_EUA.csv', 'dat', 'img', 'matplotlib.ipynb', 'Modulos_Cientificos - Copia.ipynb', 'Numpy.ipynb', 'pandas.ipynb', 'populacao.xlsx', 'Python e outras Linguagens.ipynb', 'rosto.py', 'scipy.ipynb']\n"
     ]
    }
   ],
   "source": [
    "df.to_excel('populacao.xlsx')\n",
    "print(os.listdir('.'))   # Lista todos os arquivos e diretórios na pasta corrente"
   ]
  },
  {
   "cell_type": "markdown",
   "metadata": {},
   "source": [
    "<h3 style=\"color:blue; background-color:#F3F2F9\">Leitura de Planilha (Arquivo Excel) em Dataframe</h3>"
   ]
  },
  {
   "cell_type": "code",
   "execution_count": 48,
   "metadata": {},
   "outputs": [
    {
     "data": {
      "text/html": [
       "<div>\n",
       "<style scoped>\n",
       "    .dataframe tbody tr th:only-of-type {\n",
       "        vertical-align: middle;\n",
       "    }\n",
       "\n",
       "    .dataframe tbody tr th {\n",
       "        vertical-align: top;\n",
       "    }\n",
       "\n",
       "    .dataframe thead th {\n",
       "        text-align: right;\n",
       "    }\n",
       "</style>\n",
       "<table border=\"1\" class=\"dataframe\">\n",
       "  <thead>\n",
       "    <tr style=\"text-align: right;\">\n",
       "      <th></th>\n",
       "      <th>País</th>\n",
       "      <th>Capital</th>\n",
       "      <th>População</th>\n",
       "    </tr>\n",
       "  </thead>\n",
       "  <tbody>\n",
       "    <tr>\n",
       "      <th>0</th>\n",
       "      <td>Portugal</td>\n",
       "      <td>Lisboa</td>\n",
       "      <td>751000</td>\n",
       "    </tr>\n",
       "    <tr>\n",
       "      <th>1</th>\n",
       "      <td>Peru</td>\n",
       "      <td>Lima</td>\n",
       "      <td>1120000</td>\n",
       "    </tr>\n",
       "    <tr>\n",
       "      <th>2</th>\n",
       "      <td>Chile</td>\n",
       "      <td>Santiago</td>\n",
       "      <td>695000</td>\n",
       "    </tr>\n",
       "  </tbody>\n",
       "</table>\n",
       "</div>"
      ],
      "text/plain": [
       "       País   Capital  População\n",
       "0  Portugal    Lisboa     751000\n",
       "1      Peru      Lima    1120000\n",
       "2     Chile  Santiago     695000"
      ]
     },
     "execution_count": 48,
     "metadata": {},
     "output_type": "execute_result"
    }
   ],
   "source": [
    "df"
   ]
  },
  {
   "cell_type": "code",
   "execution_count": 54,
   "metadata": {},
   "outputs": [
    {
     "ename": "NameError",
     "evalue": "name 'df' is not defined",
     "output_type": "error",
     "traceback": [
      "\u001b[1;31m---------------------------------------------------------------------------\u001b[0m",
      "\u001b[1;31mNameError\u001b[0m                                 Traceback (most recent call last)",
      "\u001b[1;32m<ipython-input-54-f5b8677c739e>\u001b[0m in \u001b[0;36m<module>\u001b[1;34m\u001b[0m\n\u001b[1;32m----> 1\u001b[1;33m \u001b[1;32mdel\u001b[0m \u001b[0mdf\u001b[0m\u001b[1;33m\u001b[0m\u001b[1;33m\u001b[0m\u001b[0m\n\u001b[0m\u001b[0;32m      2\u001b[0m \u001b[0mdf\u001b[0m\u001b[1;33m\u001b[0m\u001b[1;33m\u001b[0m\u001b[0m\n",
      "\u001b[1;31mNameError\u001b[0m: name 'df' is not defined"
     ]
    }
   ],
   "source": [
    "del df\n",
    "df"
   ]
  },
  {
   "cell_type": "code",
   "execution_count": 57,
   "metadata": {},
   "outputs": [
    {
     "data": {
      "text/html": [
       "<div>\n",
       "<style scoped>\n",
       "    .dataframe tbody tr th:only-of-type {\n",
       "        vertical-align: middle;\n",
       "    }\n",
       "\n",
       "    .dataframe tbody tr th {\n",
       "        vertical-align: top;\n",
       "    }\n",
       "\n",
       "    .dataframe thead th {\n",
       "        text-align: right;\n",
       "    }\n",
       "</style>\n",
       "<table border=\"1\" class=\"dataframe\">\n",
       "  <thead>\n",
       "    <tr style=\"text-align: right;\">\n",
       "      <th></th>\n",
       "      <th>Unnamed: 0</th>\n",
       "      <th>País</th>\n",
       "      <th>Capital</th>\n",
       "      <th>População</th>\n",
       "    </tr>\n",
       "  </thead>\n",
       "  <tbody>\n",
       "    <tr>\n",
       "      <th>0</th>\n",
       "      <td>0</td>\n",
       "      <td>Portugal</td>\n",
       "      <td>Lisboa</td>\n",
       "      <td>751000</td>\n",
       "    </tr>\n",
       "    <tr>\n",
       "      <th>1</th>\n",
       "      <td>1</td>\n",
       "      <td>Peru</td>\n",
       "      <td>Lima</td>\n",
       "      <td>1120000</td>\n",
       "    </tr>\n",
       "    <tr>\n",
       "      <th>2</th>\n",
       "      <td>2</td>\n",
       "      <td>Chile</td>\n",
       "      <td>Santiago</td>\n",
       "      <td>695000</td>\n",
       "    </tr>\n",
       "  </tbody>\n",
       "</table>\n",
       "</div>"
      ],
      "text/plain": [
       "   Unnamed: 0      País   Capital  População\n",
       "0           0  Portugal    Lisboa     751000\n",
       "1           1      Peru      Lima    1120000\n",
       "2           2     Chile  Santiago     695000"
      ]
     },
     "execution_count": 57,
     "metadata": {},
     "output_type": "execute_result"
    }
   ],
   "source": [
    "df = pd.read_excel('populacao.xlsx')\n",
    "df"
   ]
  },
  {
   "cell_type": "markdown",
   "metadata": {},
   "source": [
    "Outra característica poderosa do pacote **pandas** é a sua representação gráfica de dados. Por exemplo, o método `DataFrame.hist()` permite apresentar rapidamente a distribuição de valores de uma série (coluna):"
   ]
  },
  {
   "cell_type": "code",
   "execution_count": 39,
   "metadata": {},
   "outputs": [
    {
     "data": {
      "text/plain": [
       "array([[<matplotlib.axes._subplots.AxesSubplot object at 0x0000009A42815E48>]],\n",
       "      dtype=object)"
      ]
     },
     "execution_count": 39,
     "metadata": {},
     "output_type": "execute_result"
    },
    {
     "data": {
      "image/png": "[encoded data removed]",
      "text/plain": [
       "<Figure size 432x288 with 1 Axes>"
      ]
     },
     "metadata": {
      "needs_background": "light"
     },
     "output_type": "display_data"
    }
   ],
   "source": [
    "pop_CA_df.hist('housing_median_age')"
   ]
  },
  {
   "cell_type": "markdown",
   "metadata": {},
   "source": [
    "<h2 style=\"color:blue; background-color:#F3F2F9\">Acessando Dados</h2>\n",
    "\n",
    "Você pode acessar dados do **DataFrame** usando operações conhecidas de dicionários/listas do Python:"
   ]
  },
  {
   "cell_type": "code",
   "execution_count": 8,
   "metadata": {},
   "outputs": [
    {
     "name": "stdout",
     "output_type": "stream",
     "text": [
      "<class 'pandas.core.series.Series'>\n"
     ]
    }
   ],
   "source": [
    "cidades = pd.DataFrame({ 'Capital': capitais, 'Populacao': populacao })\n",
    "print(type(cidades['Capital']))"
   ]
  },
  {
   "cell_type": "code",
   "execution_count": 9,
   "metadata": {},
   "outputs": [
    {
     "data": {
      "text/plain": [
       "0       Curitiba\n",
       "1         Manaus\n",
       "2    Porto Velho\n",
       "3          Natal\n",
       "4        Goiânia\n",
       "Name: Capital, dtype: object"
      ]
     },
     "execution_count": 9,
     "metadata": {},
     "output_type": "execute_result"
    }
   ],
   "source": [
    "cidades['Capital']"
   ]
  },
  {
   "cell_type": "code",
   "execution_count": 10,
   "metadata": {},
   "outputs": [
    {
     "data": {
      "text/html": [
       "<div>\n",
       "<style scoped>\n",
       "    .dataframe tbody tr th:only-of-type {\n",
       "        vertical-align: middle;\n",
       "    }\n",
       "\n",
       "    .dataframe tbody tr th {\n",
       "        vertical-align: top;\n",
       "    }\n",
       "\n",
       "    .dataframe thead th {\n",
       "        text-align: right;\n",
       "    }\n",
       "</style>\n",
       "<table border=\"1\" class=\"dataframe\">\n",
       "  <thead>\n",
       "    <tr style=\"text-align: right;\">\n",
       "      <th></th>\n",
       "      <th>Capital</th>\n",
       "      <th>Populacao</th>\n",
       "    </tr>\n",
       "  </thead>\n",
       "  <tbody>\n",
       "    <tr>\n",
       "      <th>0</th>\n",
       "      <td>Curitiba</td>\n",
       "      <td>1917185</td>\n",
       "    </tr>\n",
       "    <tr>\n",
       "      <th>1</th>\n",
       "      <td>Manaus</td>\n",
       "      <td>2145444</td>\n",
       "    </tr>\n",
       "    <tr>\n",
       "      <th>2</th>\n",
       "      <td>Porto Velho</td>\n",
       "      <td>519536</td>\n",
       "    </tr>\n",
       "    <tr>\n",
       "      <th>3</th>\n",
       "      <td>Natal</td>\n",
       "      <td>877640</td>\n",
       "    </tr>\n",
       "    <tr>\n",
       "      <th>4</th>\n",
       "      <td>Goiânia</td>\n",
       "      <td>1495705</td>\n",
       "    </tr>\n",
       "  </tbody>\n",
       "</table>\n",
       "</div>"
      ],
      "text/plain": [
       "       Capital  Populacao\n",
       "0     Curitiba    1917185\n",
       "1       Manaus    2145444\n",
       "2  Porto Velho     519536\n",
       "3        Natal     877640\n",
       "4      Goiânia    1495705"
      ]
     },
     "execution_count": 10,
     "metadata": {},
     "output_type": "execute_result"
    }
   ],
   "source": [
    "cidades"
   ]
  },
  {
   "cell_type": "code",
   "execution_count": 66,
   "metadata": {},
   "outputs": [
    {
     "name": "stdout",
     "output_type": "stream",
     "text": [
      "Porto Velho, Porto Velho, Porto Velho, Porto Velho\n"
     ]
    }
   ],
   "source": [
    "print(cidades['Capital'][2], cidades.iloc[2][0], cidades.at[2,'Capital'], cidades.iat[2,0], sep=', ')"
   ]
  },
  {
   "cell_type": "code",
   "execution_count": 12,
   "metadata": {},
   "outputs": [
    {
     "name": "stdout",
     "output_type": "stream",
     "text": [
      "<class 'str'>\n"
     ]
    }
   ],
   "source": [
    "print(type(cidades['Capital'][2]))"
   ]
  },
  {
   "cell_type": "code",
   "execution_count": 13,
   "metadata": {},
   "outputs": [
    {
     "data": {
      "text/html": [
       "<div>\n",
       "<style scoped>\n",
       "    .dataframe tbody tr th:only-of-type {\n",
       "        vertical-align: middle;\n",
       "    }\n",
       "\n",
       "    .dataframe tbody tr th {\n",
       "        vertical-align: top;\n",
       "    }\n",
       "\n",
       "    .dataframe thead th {\n",
       "        text-align: right;\n",
       "    }\n",
       "</style>\n",
       "<table border=\"1\" class=\"dataframe\">\n",
       "  <thead>\n",
       "    <tr style=\"text-align: right;\">\n",
       "      <th></th>\n",
       "      <th>Capital</th>\n",
       "      <th>Populacao</th>\n",
       "    </tr>\n",
       "  </thead>\n",
       "  <tbody>\n",
       "    <tr>\n",
       "      <th>0</th>\n",
       "      <td>Curitiba</td>\n",
       "      <td>1917185</td>\n",
       "    </tr>\n",
       "    <tr>\n",
       "      <th>1</th>\n",
       "      <td>Manaus</td>\n",
       "      <td>2145444</td>\n",
       "    </tr>\n",
       "  </tbody>\n",
       "</table>\n",
       "</div>"
      ],
      "text/plain": [
       "    Capital  Populacao\n",
       "0  Curitiba    1917185\n",
       "1    Manaus    2145444"
      ]
     },
     "execution_count": 13,
     "metadata": {},
     "output_type": "execute_result"
    }
   ],
   "source": [
    "cidades[0:2]"
   ]
  },
  {
   "cell_type": "markdown",
   "metadata": {},
   "source": [
    "Além disso, o Pandas oferece uma API extremamente rica para seleção e indexação avançada.\n",
    "\n",
    "<h3 style=\"color:blue; background-color:#F3F2F9\">Acrescentando Coluna</h3>"
   ]
  },
  {
   "cell_type": "code",
   "execution_count": 70,
   "metadata": {
    "scrolled": true
   },
   "outputs": [
    {
     "name": "stdout",
     "output_type": "stream",
     "text": [
      "Acrescentando uma nova coluna como Série:\n"
     ]
    },
    {
     "data": {
      "text/html": [
       "<div>\n",
       "<style scoped>\n",
       "    .dataframe tbody tr th:only-of-type {\n",
       "        vertical-align: middle;\n",
       "    }\n",
       "\n",
       "    .dataframe tbody tr th {\n",
       "        vertical-align: top;\n",
       "    }\n",
       "\n",
       "    .dataframe thead th {\n",
       "        text-align: right;\n",
       "    }\n",
       "</style>\n",
       "<table border=\"1\" class=\"dataframe\">\n",
       "  <thead>\n",
       "    <tr style=\"text-align: right;\">\n",
       "      <th></th>\n",
       "      <th>Capital</th>\n",
       "      <th>Populacao</th>\n",
       "      <th>Area (km2)</th>\n",
       "      <th>Densidade Populacional (hab/km2)</th>\n",
       "      <th>Estado</th>\n",
       "    </tr>\n",
       "  </thead>\n",
       "  <tbody>\n",
       "    <tr>\n",
       "      <th>0</th>\n",
       "      <td>Curitiba</td>\n",
       "      <td>1917185</td>\n",
       "      <td>434.967</td>\n",
       "      <td>4407.656213</td>\n",
       "      <td>PR</td>\n",
       "    </tr>\n",
       "    <tr>\n",
       "      <th>1</th>\n",
       "      <td>Manaus</td>\n",
       "      <td>2145444</td>\n",
       "      <td>11401.058</td>\n",
       "      <td>188.179378</td>\n",
       "      <td>AM</td>\n",
       "    </tr>\n",
       "    <tr>\n",
       "      <th>2</th>\n",
       "      <td>Porto Velho</td>\n",
       "      <td>519536</td>\n",
       "      <td>34082.366</td>\n",
       "      <td>15.243543</td>\n",
       "      <td>RD</td>\n",
       "    </tr>\n",
       "    <tr>\n",
       "      <th>3</th>\n",
       "      <td>Natal</td>\n",
       "      <td>877640</td>\n",
       "      <td>170.298</td>\n",
       "      <td>5153.554358</td>\n",
       "      <td>RN</td>\n",
       "    </tr>\n",
       "    <tr>\n",
       "      <th>4</th>\n",
       "      <td>Goiânia</td>\n",
       "      <td>1495705</td>\n",
       "      <td>739.492</td>\n",
       "      <td>2022.611468</td>\n",
       "      <td>GO</td>\n",
       "    </tr>\n",
       "  </tbody>\n",
       "</table>\n",
       "</div>"
      ],
      "text/plain": [
       "       Capital  Populacao  Area (km2)  Densidade Populacional (hab/km2) Estado\n",
       "0     Curitiba    1917185     434.967                       4407.656213     PR\n",
       "1       Manaus    2145444   11401.058                        188.179378     AM\n",
       "2  Porto Velho     519536   34082.366                         15.243543     RD\n",
       "3        Natal     877640     170.298                       5153.554358     RN\n",
       "4      Goiânia    1495705     739.492                       2022.611468     GO"
      ]
     },
     "execution_count": 70,
     "metadata": {},
     "output_type": "execute_result"
    }
   ],
   "source": [
    "print(\"Acrescentando uma nova coluna como Série:\")\n",
    "cidades['Estado'] = pd.Series([\"PR\",\"AM\",\"RD\",\"RN\",\"GO\"])\n",
    "cidades"
   ]
  },
  {
   "cell_type": "markdown",
   "metadata": {},
   "source": [
    "<h3 style=\"color:blue; background-color:#F3F2F9\">Retirando Coluna</h3>"
   ]
  },
  {
   "cell_type": "code",
   "execution_count": 77,
   "metadata": {},
   "outputs": [
    {
     "name": "stdout",
     "output_type": "stream",
     "text": [
      "0    PR\n",
      "1    AM\n",
      "2    RD\n",
      "3    RN\n",
      "4    GO\n",
      "Name: Estado, dtype: object\n"
     ]
    },
    {
     "data": {
      "text/html": [
       "<div>\n",
       "<style scoped>\n",
       "    .dataframe tbody tr th:only-of-type {\n",
       "        vertical-align: middle;\n",
       "    }\n",
       "\n",
       "    .dataframe tbody tr th {\n",
       "        vertical-align: top;\n",
       "    }\n",
       "\n",
       "    .dataframe thead th {\n",
       "        text-align: right;\n",
       "    }\n",
       "</style>\n",
       "<table border=\"1\" class=\"dataframe\">\n",
       "  <thead>\n",
       "    <tr style=\"text-align: right;\">\n",
       "      <th></th>\n",
       "      <th>Capital</th>\n",
       "      <th>Populacao</th>\n",
       "      <th>Area (km2)</th>\n",
       "      <th>Densidade Populacional (hab/km2)</th>\n",
       "    </tr>\n",
       "  </thead>\n",
       "  <tbody>\n",
       "    <tr>\n",
       "      <th>0</th>\n",
       "      <td>Curitiba</td>\n",
       "      <td>1917185</td>\n",
       "      <td>434.967</td>\n",
       "      <td>4407.656213</td>\n",
       "    </tr>\n",
       "    <tr>\n",
       "      <th>1</th>\n",
       "      <td>Manaus</td>\n",
       "      <td>2145444</td>\n",
       "      <td>11401.058</td>\n",
       "      <td>188.179378</td>\n",
       "    </tr>\n",
       "    <tr>\n",
       "      <th>2</th>\n",
       "      <td>Porto Velho</td>\n",
       "      <td>519536</td>\n",
       "      <td>34082.366</td>\n",
       "      <td>15.243543</td>\n",
       "    </tr>\n",
       "    <tr>\n",
       "      <th>3</th>\n",
       "      <td>Natal</td>\n",
       "      <td>877640</td>\n",
       "      <td>170.298</td>\n",
       "      <td>5153.554358</td>\n",
       "    </tr>\n",
       "    <tr>\n",
       "      <th>4</th>\n",
       "      <td>Goiânia</td>\n",
       "      <td>1495705</td>\n",
       "      <td>739.492</td>\n",
       "      <td>2022.611468</td>\n",
       "    </tr>\n",
       "  </tbody>\n",
       "</table>\n",
       "</div>"
      ],
      "text/plain": [
       "       Capital  Populacao  Area (km2)  Densidade Populacional (hab/km2)\n",
       "0     Curitiba    1917185     434.967                       4407.656213\n",
       "1       Manaus    2145444   11401.058                        188.179378\n",
       "2  Porto Velho     519536   34082.366                         15.243543\n",
       "3        Natal     877640     170.298                       5153.554358\n",
       "4      Goiânia    1495705     739.492                       2022.611468"
      ]
     },
     "execution_count": 77,
     "metadata": {},
     "output_type": "execute_result"
    }
   ],
   "source": [
    "print(cidades['Estado'])\n",
    "cidades.pop('Estado')\n",
    "cidades"
   ]
  },
  {
   "cell_type": "markdown",
   "metadata": {},
   "source": [
    "<h3 style=\"color:blue; background-color:#F3F2F9\">Manipulando Dados </h3>\n",
    "\n",
    "Você pode aplicar as operações aritméticas básicas do Python a um objeto **Series**.  \n",
    "Por exemplo:  "
   ]
  },
  {
   "cell_type": "code",
   "execution_count": 14,
   "metadata": {},
   "outputs": [
    {
     "data": {
      "text/plain": [
       "0    1917185\n",
       "1    2145444\n",
       "2     519536\n",
       "3     877640\n",
       "4    1495705\n",
       "dtype: int64"
      ]
     },
     "execution_count": 14,
     "metadata": {},
     "output_type": "execute_result"
    }
   ],
   "source": [
    "populacao"
   ]
  },
  {
   "cell_type": "code",
   "execution_count": 15,
   "metadata": {},
   "outputs": [
    {
     "data": {
      "text/plain": [
       "0    1917.185\n",
       "1    2145.444\n",
       "2     519.536\n",
       "3     877.640\n",
       "4    1495.705\n",
       "dtype: float64"
      ]
     },
     "execution_count": 15,
     "metadata": {},
     "output_type": "execute_result"
    }
   ],
   "source": [
    "populacao/1000"
   ]
  },
  {
   "cell_type": "markdown",
   "metadata": {},
   "source": [
    "Uma série do **pandas** pode ser usada como argumento na maioria das funções do pacote **numpy**:"
   ]
  },
  {
   "cell_type": "code",
   "execution_count": 17,
   "metadata": {},
   "outputs": [
    {
     "data": {
      "text/plain": [
       "0    14.466369\n",
       "1    14.578857\n",
       "2    13.160691\n",
       "3    13.684992\n",
       "4    14.218108\n",
       "dtype: float64"
      ]
     },
     "execution_count": 17,
     "metadata": {},
     "output_type": "execute_result"
    }
   ],
   "source": [
    "import numpy as np\n",
    "np.log(populacao)"
   ]
  },
  {
   "cell_type": "markdown",
   "metadata": {},
   "source": [
    "Para transformações mais complexas numa única coluna (série), usa-se o método `Series.apply()`. Assim como a função incorporada `map()` do Python, o método `Series.apply()` aceita como argumento uma função **lambda**, a qual é aplicada a cada valor da série. O exemplo seguinte cria um objeto **Series** que indica se a população da cidade é superior a um milhão:"
   ]
  },
  {
   "cell_type": "code",
   "execution_count": 18,
   "metadata": {},
   "outputs": [
    {
     "data": {
      "text/plain": [
       "0     True\n",
       "1     True\n",
       "2    False\n",
       "3    False\n",
       "4     True\n",
       "dtype: bool"
      ]
     },
     "execution_count": 18,
     "metadata": {},
     "output_type": "execute_result"
    }
   ],
   "source": [
    "populacao.apply(lambda pop: pop > 1000000)"
   ]
  },
  {
   "cell_type": "markdown",
   "metadata": {},
   "source": [
    "Modificar o conteúdo de um **DataFrame** também é simples. Por exemplo, o código seguinte adiciona duas séries a um **DataFrame** existente:"
   ]
  },
  {
   "cell_type": "code",
   "execution_count": 21,
   "metadata": {},
   "outputs": [
    {
     "data": {
      "text/html": [
       "<div>\n",
       "<style scoped>\n",
       "    .dataframe tbody tr th:only-of-type {\n",
       "        vertical-align: middle;\n",
       "    }\n",
       "\n",
       "    .dataframe tbody tr th {\n",
       "        vertical-align: top;\n",
       "    }\n",
       "\n",
       "    .dataframe thead th {\n",
       "        text-align: right;\n",
       "    }\n",
       "</style>\n",
       "<table border=\"1\" class=\"dataframe\">\n",
       "  <thead>\n",
       "    <tr style=\"text-align: right;\">\n",
       "      <th></th>\n",
       "      <th>Capital</th>\n",
       "      <th>Populacao</th>\n",
       "      <th>Area (km2)</th>\n",
       "      <th>Densidade Populacional (hab/km2)</th>\n",
       "    </tr>\n",
       "  </thead>\n",
       "  <tbody>\n",
       "    <tr>\n",
       "      <th>0</th>\n",
       "      <td>Curitiba</td>\n",
       "      <td>1917185</td>\n",
       "      <td>434.967</td>\n",
       "      <td>4407.656213</td>\n",
       "    </tr>\n",
       "    <tr>\n",
       "      <th>1</th>\n",
       "      <td>Manaus</td>\n",
       "      <td>2145444</td>\n",
       "      <td>11401.058</td>\n",
       "      <td>188.179378</td>\n",
       "    </tr>\n",
       "    <tr>\n",
       "      <th>2</th>\n",
       "      <td>Porto Velho</td>\n",
       "      <td>519536</td>\n",
       "      <td>34082.366</td>\n",
       "      <td>15.243543</td>\n",
       "    </tr>\n",
       "    <tr>\n",
       "      <th>3</th>\n",
       "      <td>Natal</td>\n",
       "      <td>877640</td>\n",
       "      <td>170.298</td>\n",
       "      <td>5153.554358</td>\n",
       "    </tr>\n",
       "    <tr>\n",
       "      <th>4</th>\n",
       "      <td>Goiânia</td>\n",
       "      <td>1495705</td>\n",
       "      <td>739.492</td>\n",
       "      <td>2022.611468</td>\n",
       "    </tr>\n",
       "  </tbody>\n",
       "</table>\n",
       "</div>"
      ],
      "text/plain": [
       "       Capital  Populacao  Area (km2)  Densidade Populacional (hab/km2)\n",
       "0     Curitiba    1917185     434.967                       4407.656213\n",
       "1       Manaus    2145444   11401.058                        188.179378\n",
       "2  Porto Velho     519536   34082.366                         15.243543\n",
       "3        Natal     877640     170.298                       5153.554358\n",
       "4      Goiânia    1495705     739.492                       2022.611468"
      ]
     },
     "execution_count": 21,
     "metadata": {},
     "output_type": "execute_result"
    }
   ],
   "source": [
    "cidades['Area (km2)'] = pd.Series([434.967, 11401.058, 34082.366, 170.298, 739.492])\n",
    "cidades['Densidade Populacional (hab/km2)'] = cidades['Populacao'] / cidades['Area (km2)']\n",
    "cidades"
   ]
  },
  {
   "cell_type": "markdown",
   "metadata": {},
   "source": [
    "<h3 style=\"color:red\"><b>Exercício</b></h3>\n",
    "Modifique a tabela de cidades adicionando uma nova coluna booleana, com valor `True` se, e somente se, as duas opções forem verdadeiras: \n",
    "- A cidade tem nome feminino (termina com a letra 'a'). \n",
    "- A cidade tem uma área menor que 1000 km$^2$. \n",
    "\n",
    "**Obs.**: As séries booleanas são combinadas usando os operadores bit a bit, ao invés dos tradicionais booleanos. Por exemplo, ao executar a lógica ‘e’ use o operador '&' em vez de `and`. "
   ]
  },
  {
   "cell_type": "code",
   "execution_count": 54,
   "metadata": {},
   "outputs": [
    {
     "data": {
      "text/html": [
       "<div>\n",
       "<style scoped>\n",
       "    .dataframe tbody tr th:only-of-type {\n",
       "        vertical-align: middle;\n",
       "    }\n",
       "\n",
       "    .dataframe tbody tr th {\n",
       "        vertical-align: top;\n",
       "    }\n",
       "\n",
       "    .dataframe thead th {\n",
       "        text-align: right;\n",
       "    }\n",
       "</style>\n",
       "<table border=\"1\" class=\"dataframe\">\n",
       "  <thead>\n",
       "    <tr style=\"text-align: right;\">\n",
       "      <th></th>\n",
       "      <th>Capital</th>\n",
       "      <th>Populacao</th>\n",
       "      <th>Area (km2)</th>\n",
       "      <th>Densidade Populacional (hab/km2)</th>\n",
       "      <th>Pequena e Feminina</th>\n",
       "    </tr>\n",
       "  </thead>\n",
       "  <tbody>\n",
       "    <tr>\n",
       "      <th>0</th>\n",
       "      <td>Curitiba</td>\n",
       "      <td>1917185</td>\n",
       "      <td>434.967</td>\n",
       "      <td>4407.656213</td>\n",
       "      <td>True</td>\n",
       "    </tr>\n",
       "    <tr>\n",
       "      <th>1</th>\n",
       "      <td>Manaus</td>\n",
       "      <td>2145444</td>\n",
       "      <td>11401.058</td>\n",
       "      <td>188.179378</td>\n",
       "      <td>False</td>\n",
       "    </tr>\n",
       "    <tr>\n",
       "      <th>2</th>\n",
       "      <td>Porto Velho</td>\n",
       "      <td>519536</td>\n",
       "      <td>34082.366</td>\n",
       "      <td>15.243543</td>\n",
       "      <td>False</td>\n",
       "    </tr>\n",
       "    <tr>\n",
       "      <th>3</th>\n",
       "      <td>Natal</td>\n",
       "      <td>877640</td>\n",
       "      <td>170.298</td>\n",
       "      <td>5153.554358</td>\n",
       "      <td>False</td>\n",
       "    </tr>\n",
       "    <tr>\n",
       "      <th>4</th>\n",
       "      <td>Goiânia</td>\n",
       "      <td>1495705</td>\n",
       "      <td>739.492</td>\n",
       "      <td>2022.611468</td>\n",
       "      <td>True</td>\n",
       "    </tr>\n",
       "  </tbody>\n",
       "</table>\n",
       "</div>"
      ],
      "text/plain": [
       "       Capital  Populacao  Area (km2)  Densidade Populacional (hab/km2)  \\\n",
       "0     Curitiba    1917185     434.967                       4407.656213   \n",
       "1       Manaus    2145444   11401.058                        188.179378   \n",
       "2  Porto Velho     519536   34082.366                         15.243543   \n",
       "3        Natal     877640     170.298                       5153.554358   \n",
       "4      Goiânia    1495705     739.492                       2022.611468   \n",
       "\n",
       "   Pequena e Feminina  \n",
       "0                True  \n",
       "1               False  \n",
       "2               False  \n",
       "3               False  \n",
       "4                True  "
      ]
     },
     "execution_count": 54,
     "metadata": {},
     "output_type": "execute_result"
    }
   ],
   "source": [
    "cidades['Pequena e Feminina'] = (cidades['Area (km2)'] < 1000) & cidades['Capital'].apply(lambda nome: nome.endswith('a'))\n",
    "cidades"
   ]
  },
  {
   "cell_type": "markdown",
   "metadata": {},
   "source": [
    "<h2 style=\"color:blue; background-color:#F3F2F9\">Índices</h2>\n",
    "\n",
    "Os objetos **Series** e **DataFrame** também definem uma propriedade `index` que designa um valor de identificador para cada item da **Serie** ou linha do **DataFrame**. Por padrão, na construção, o pacote **pandas** atribui valores de índice que refletem a ordenação dos dados de origem. Uma vez criados, os valores do índice são estáveis; isto é, eles não mudam quando os dados são reordenados."
   ]
  },
  {
   "cell_type": "code",
   "execution_count": 55,
   "metadata": {},
   "outputs": [
    {
     "data": {
      "text/plain": [
       "RangeIndex(start=0, stop=5, step=1)"
      ]
     },
     "execution_count": 55,
     "metadata": {},
     "output_type": "execute_result"
    }
   ],
   "source": [
    "cidades.index"
   ]
  },
  {
   "cell_type": "markdown",
   "metadata": {},
   "source": [
    "Chame a função `DataFrame.reindex()` para reorganizar manualmente as linhas.  \n",
    "Por exemplo, o seguinte comando tem o mesmo efeito da classificação por nome da cidade:"
   ]
  },
  {
   "cell_type": "code",
   "execution_count": 56,
   "metadata": {},
   "outputs": [
    {
     "data": {
      "text/html": [
       "<div>\n",
       "<style scoped>\n",
       "    .dataframe tbody tr th:only-of-type {\n",
       "        vertical-align: middle;\n",
       "    }\n",
       "\n",
       "    .dataframe tbody tr th {\n",
       "        vertical-align: top;\n",
       "    }\n",
       "\n",
       "    .dataframe thead th {\n",
       "        text-align: right;\n",
       "    }\n",
       "</style>\n",
       "<table border=\"1\" class=\"dataframe\">\n",
       "  <thead>\n",
       "    <tr style=\"text-align: right;\">\n",
       "      <th></th>\n",
       "      <th>Capital</th>\n",
       "      <th>Populacao</th>\n",
       "      <th>Area (km2)</th>\n",
       "      <th>Densidade Populacional (hab/km2)</th>\n",
       "      <th>Pequena e Feminina</th>\n",
       "    </tr>\n",
       "  </thead>\n",
       "  <tbody>\n",
       "    <tr>\n",
       "      <th>0</th>\n",
       "      <td>Curitiba</td>\n",
       "      <td>1917185</td>\n",
       "      <td>434.967</td>\n",
       "      <td>4407.656213</td>\n",
       "      <td>True</td>\n",
       "    </tr>\n",
       "    <tr>\n",
       "      <th>1</th>\n",
       "      <td>Manaus</td>\n",
       "      <td>2145444</td>\n",
       "      <td>11401.058</td>\n",
       "      <td>188.179378</td>\n",
       "      <td>False</td>\n",
       "    </tr>\n",
       "    <tr>\n",
       "      <th>2</th>\n",
       "      <td>Porto Velho</td>\n",
       "      <td>519536</td>\n",
       "      <td>34082.366</td>\n",
       "      <td>15.243543</td>\n",
       "      <td>False</td>\n",
       "    </tr>\n",
       "    <tr>\n",
       "      <th>3</th>\n",
       "      <td>Natal</td>\n",
       "      <td>877640</td>\n",
       "      <td>170.298</td>\n",
       "      <td>5153.554358</td>\n",
       "      <td>False</td>\n",
       "    </tr>\n",
       "    <tr>\n",
       "      <th>4</th>\n",
       "      <td>Goiânia</td>\n",
       "      <td>1495705</td>\n",
       "      <td>739.492</td>\n",
       "      <td>2022.611468</td>\n",
       "      <td>True</td>\n",
       "    </tr>\n",
       "  </tbody>\n",
       "</table>\n",
       "</div>"
      ],
      "text/plain": [
       "       Capital  Populacao  Area (km2)  Densidade Populacional (hab/km2)  \\\n",
       "0     Curitiba    1917185     434.967                       4407.656213   \n",
       "1       Manaus    2145444   11401.058                        188.179378   \n",
       "2  Porto Velho     519536   34082.366                         15.243543   \n",
       "3        Natal     877640     170.298                       5153.554358   \n",
       "4      Goiânia    1495705     739.492                       2022.611468   \n",
       "\n",
       "   Pequena e Feminina  \n",
       "0                True  \n",
       "1               False  \n",
       "2               False  \n",
       "3               False  \n",
       "4                True  "
      ]
     },
     "execution_count": 56,
     "metadata": {},
     "output_type": "execute_result"
    }
   ],
   "source": [
    "cidades"
   ]
  },
  {
   "cell_type": "code",
   "execution_count": 57,
   "metadata": {},
   "outputs": [
    {
     "data": {
      "text/html": [
       "<div>\n",
       "<style scoped>\n",
       "    .dataframe tbody tr th:only-of-type {\n",
       "        vertical-align: middle;\n",
       "    }\n",
       "\n",
       "    .dataframe tbody tr th {\n",
       "        vertical-align: top;\n",
       "    }\n",
       "\n",
       "    .dataframe thead th {\n",
       "        text-align: right;\n",
       "    }\n",
       "</style>\n",
       "<table border=\"1\" class=\"dataframe\">\n",
       "  <thead>\n",
       "    <tr style=\"text-align: right;\">\n",
       "      <th></th>\n",
       "      <th>Capital</th>\n",
       "      <th>Populacao</th>\n",
       "      <th>Area (km2)</th>\n",
       "      <th>Densidade Populacional (hab/km2)</th>\n",
       "      <th>Pequena e Feminina</th>\n",
       "    </tr>\n",
       "  </thead>\n",
       "  <tbody>\n",
       "    <tr>\n",
       "      <th>0</th>\n",
       "      <td>Curitiba</td>\n",
       "      <td>1917185</td>\n",
       "      <td>434.967</td>\n",
       "      <td>4407.656213</td>\n",
       "      <td>True</td>\n",
       "    </tr>\n",
       "    <tr>\n",
       "      <th>4</th>\n",
       "      <td>Goiânia</td>\n",
       "      <td>1495705</td>\n",
       "      <td>739.492</td>\n",
       "      <td>2022.611468</td>\n",
       "      <td>True</td>\n",
       "    </tr>\n",
       "    <tr>\n",
       "      <th>1</th>\n",
       "      <td>Manaus</td>\n",
       "      <td>2145444</td>\n",
       "      <td>11401.058</td>\n",
       "      <td>188.179378</td>\n",
       "      <td>False</td>\n",
       "    </tr>\n",
       "    <tr>\n",
       "      <th>3</th>\n",
       "      <td>Natal</td>\n",
       "      <td>877640</td>\n",
       "      <td>170.298</td>\n",
       "      <td>5153.554358</td>\n",
       "      <td>False</td>\n",
       "    </tr>\n",
       "    <tr>\n",
       "      <th>2</th>\n",
       "      <td>Porto Velho</td>\n",
       "      <td>519536</td>\n",
       "      <td>34082.366</td>\n",
       "      <td>15.243543</td>\n",
       "      <td>False</td>\n",
       "    </tr>\n",
       "  </tbody>\n",
       "</table>\n",
       "</div>"
      ],
      "text/plain": [
       "       Capital  Populacao  Area (km2)  Densidade Populacional (hab/km2)  \\\n",
       "0     Curitiba    1917185     434.967                       4407.656213   \n",
       "4      Goiânia    1495705     739.492                       2022.611468   \n",
       "1       Manaus    2145444   11401.058                        188.179378   \n",
       "3        Natal     877640     170.298                       5153.554358   \n",
       "2  Porto Velho     519536   34082.366                         15.243543   \n",
       "\n",
       "   Pequena e Feminina  \n",
       "0                True  \n",
       "4                True  \n",
       "1               False  \n",
       "3               False  \n",
       "2               False  "
      ]
     },
     "execution_count": 57,
     "metadata": {},
     "output_type": "execute_result"
    }
   ],
   "source": [
    "cidades.reindex([0, 4, 1, 3, 2])"
   ]
  },
  {
   "cell_type": "markdown",
   "metadata": {},
   "source": [
    "Reindexar é uma ótima maneira de embaralhar (randomizar) um **DataFrame**. No exemplo seguinte, pegamos o índice, que é semelhante a um vetor, e o passamos para a função `random.permutation()` do **numpy**, para embaralhar esses valores. Chamar a reindexação com o vetor embaralhado faz com que as linhas do **DataFrame** sejam embaralhadas da mesma maneira.  \n",
    "Execute a célula seguinte várias vezes!"
   ]
  },
  {
   "cell_type": "code",
   "execution_count": 61,
   "metadata": {
    "scrolled": true
   },
   "outputs": [
    {
     "data": {
      "text/html": [
       "<div>\n",
       "<style scoped>\n",
       "    .dataframe tbody tr th:only-of-type {\n",
       "        vertical-align: middle;\n",
       "    }\n",
       "\n",
       "    .dataframe tbody tr th {\n",
       "        vertical-align: top;\n",
       "    }\n",
       "\n",
       "    .dataframe thead th {\n",
       "        text-align: right;\n",
       "    }\n",
       "</style>\n",
       "<table border=\"1\" class=\"dataframe\">\n",
       "  <thead>\n",
       "    <tr style=\"text-align: right;\">\n",
       "      <th></th>\n",
       "      <th>Capital</th>\n",
       "      <th>Populacao</th>\n",
       "      <th>Area (km2)</th>\n",
       "      <th>Densidade Populacional (hab/km2)</th>\n",
       "      <th>Pequena e Feminina</th>\n",
       "    </tr>\n",
       "  </thead>\n",
       "  <tbody>\n",
       "    <tr>\n",
       "      <th>3</th>\n",
       "      <td>Natal</td>\n",
       "      <td>877640</td>\n",
       "      <td>170.298</td>\n",
       "      <td>5153.554358</td>\n",
       "      <td>False</td>\n",
       "    </tr>\n",
       "    <tr>\n",
       "      <th>0</th>\n",
       "      <td>Curitiba</td>\n",
       "      <td>1917185</td>\n",
       "      <td>434.967</td>\n",
       "      <td>4407.656213</td>\n",
       "      <td>True</td>\n",
       "    </tr>\n",
       "    <tr>\n",
       "      <th>2</th>\n",
       "      <td>Porto Velho</td>\n",
       "      <td>519536</td>\n",
       "      <td>34082.366</td>\n",
       "      <td>15.243543</td>\n",
       "      <td>False</td>\n",
       "    </tr>\n",
       "    <tr>\n",
       "      <th>1</th>\n",
       "      <td>Manaus</td>\n",
       "      <td>2145444</td>\n",
       "      <td>11401.058</td>\n",
       "      <td>188.179378</td>\n",
       "      <td>False</td>\n",
       "    </tr>\n",
       "    <tr>\n",
       "      <th>4</th>\n",
       "      <td>Goiânia</td>\n",
       "      <td>1495705</td>\n",
       "      <td>739.492</td>\n",
       "      <td>2022.611468</td>\n",
       "      <td>True</td>\n",
       "    </tr>\n",
       "  </tbody>\n",
       "</table>\n",
       "</div>"
      ],
      "text/plain": [
       "       Capital  Populacao  Area (km2)  Densidade Populacional (hab/km2)  \\\n",
       "3        Natal     877640     170.298                       5153.554358   \n",
       "0     Curitiba    1917185     434.967                       4407.656213   \n",
       "2  Porto Velho     519536   34082.366                         15.243543   \n",
       "1       Manaus    2145444   11401.058                        188.179378   \n",
       "4      Goiânia    1495705     739.492                       2022.611468   \n",
       "\n",
       "   Pequena e Feminina  \n",
       "3               False  \n",
       "0                True  \n",
       "2               False  \n",
       "1               False  \n",
       "4                True  "
      ]
     },
     "execution_count": 61,
     "metadata": {},
     "output_type": "execute_result"
    }
   ],
   "source": [
    "cidades.reindex(np.random.permutation(cidades.index))"
   ]
  },
  {
   "cell_type": "markdown",
   "metadata": {},
   "source": [
    "<h3 style=\"color:red\"><b>Exercício</b></h3>\n",
    "\n",
    "O método de reindexação permite valores de índice que não estão nos valores de índice do **DataFrame** original. Experimente e veja o que acontece ao usar índices inexistentes! Por que você acha que isso é permitido?"
   ]
  },
  {
   "cell_type": "markdown",
   "metadata": {},
   "source": [
    "<u>Solução</u>: Se o vetor de entrada de reindexação incluir valores que não estão nos valores originais do índice **DataFrame**, a função `reindex()` incluirá novas linhas para esses índices \"ausentes\" e preencherá todas as colunas correspondentes com valores `NaN`:"
   ]
  },
  {
   "cell_type": "code",
   "execution_count": 62,
   "metadata": {},
   "outputs": [
    {
     "data": {
      "text/html": [
       "<div>\n",
       "<style scoped>\n",
       "    .dataframe tbody tr th:only-of-type {\n",
       "        vertical-align: middle;\n",
       "    }\n",
       "\n",
       "    .dataframe tbody tr th {\n",
       "        vertical-align: top;\n",
       "    }\n",
       "\n",
       "    .dataframe thead th {\n",
       "        text-align: right;\n",
       "    }\n",
       "</style>\n",
       "<table border=\"1\" class=\"dataframe\">\n",
       "  <thead>\n",
       "    <tr style=\"text-align: right;\">\n",
       "      <th></th>\n",
       "      <th>Capital</th>\n",
       "      <th>Populacao</th>\n",
       "      <th>Area (km2)</th>\n",
       "      <th>Densidade Populacional (hab/km2)</th>\n",
       "      <th>Pequena e Feminina</th>\n",
       "    </tr>\n",
       "  </thead>\n",
       "  <tbody>\n",
       "    <tr>\n",
       "      <th>0</th>\n",
       "      <td>Curitiba</td>\n",
       "      <td>1917185.0</td>\n",
       "      <td>434.967</td>\n",
       "      <td>4407.656213</td>\n",
       "      <td>True</td>\n",
       "    </tr>\n",
       "    <tr>\n",
       "      <th>4</th>\n",
       "      <td>Goiânia</td>\n",
       "      <td>1495705.0</td>\n",
       "      <td>739.492</td>\n",
       "      <td>2022.611468</td>\n",
       "      <td>True</td>\n",
       "    </tr>\n",
       "    <tr>\n",
       "      <th>5</th>\n",
       "      <td>NaN</td>\n",
       "      <td>NaN</td>\n",
       "      <td>NaN</td>\n",
       "      <td>NaN</td>\n",
       "      <td>NaN</td>\n",
       "    </tr>\n",
       "    <tr>\n",
       "      <th>2</th>\n",
       "      <td>Porto Velho</td>\n",
       "      <td>519536.0</td>\n",
       "      <td>34082.366</td>\n",
       "      <td>15.243543</td>\n",
       "      <td>False</td>\n",
       "    </tr>\n",
       "  </tbody>\n",
       "</table>\n",
       "</div>"
      ],
      "text/plain": [
       "       Capital  Populacao  Area (km2)  Densidade Populacional (hab/km2)  \\\n",
       "0     Curitiba  1917185.0     434.967                       4407.656213   \n",
       "4      Goiânia  1495705.0     739.492                       2022.611468   \n",
       "5          NaN        NaN         NaN                               NaN   \n",
       "2  Porto Velho   519536.0   34082.366                         15.243543   \n",
       "\n",
       "  Pequena e Feminina  \n",
       "0               True  \n",
       "4               True  \n",
       "5                NaN  \n",
       "2              False  "
      ]
     },
     "execution_count": 62,
     "metadata": {},
     "output_type": "execute_result"
    }
   ],
   "source": [
    "cidades.reindex([0, 4, 5, 2])"
   ]
  },
  {
   "cell_type": "markdown",
   "metadata": {},
   "source": [
    "Esse comportamento é desejável porque os índices são geralmente cadeias de caracteres extraídos dos dados reais (consulte a documentação sobre `reindex()` do **pandas** para obter um exemplo em que os valores de índice são nomes de navegadores). \n",
    "\n",
    "Nesse caso, permitir índices \"ausentes\" facilita a reindexação usando uma lista externa, já que não se precisa preocupar com a limpeza da entrada."
   ]
  },
  {
   "cell_type": "markdown",
   "metadata": {},
   "source": [
    "<h2 style=\"color:blue; background-color:#F3F2F9\">Informações sobre <i>Séries</i> e <i>Data Frames</i></h2>\n",
    "<h3 style=\"color:blue; background-color:#F3F2F9\">Informações Básicas</h3>"
   ]
  },
  {
   "cell_type": "code",
   "execution_count": 27,
   "metadata": {},
   "outputs": [
    {
     "name": "stdout",
     "output_type": "stream",
     "text": [
      "<class 'pandas.core.frame.DataFrame'>\n",
      "RangeIndex: 3 entries, 0 to 2\n",
      "Data columns (total 3 columns):\n",
      "País         3 non-null object\n",
      "Capital      3 non-null object\n",
      "População    3 non-null int64\n",
      "dtypes: int64(1), object(2)\n",
      "memory usage: 152.0+ bytes\n"
     ]
    },
    {
     "data": {
      "text/plain": [
       "País         3\n",
       "Capital      3\n",
       "População    3\n",
       "dtype: int64"
      ]
     },
     "execution_count": 27,
     "metadata": {},
     "output_type": "execute_result"
    }
   ],
   "source": [
    "df.shape                    # (linhas, colunas)\n",
    "df.index                    # Descreve o índice \n",
    "df.columns                  # Descreve as colunas \n",
    "df.info()                   # informações sobre o data frame  \n",
    "df.count()                  # qtde de valores não-NaN"
   ]
  },
  {
   "cell_type": "markdown",
   "metadata": {},
   "source": [
    "#### Resumos"
   ]
  },
  {
   "cell_type": "code",
   "execution_count": 28,
   "metadata": {},
   "outputs": [
    {
     "data": {
      "text/plain": [
       "País          PortugalPeruChile\n",
       "Capital      LisboaLimaSantiago\n",
       "População               2566000\n",
       "dtype: object"
      ]
     },
     "execution_count": 28,
     "metadata": {},
     "output_type": "execute_result"
    }
   ],
   "source": [
    "df.sum()                      # soma dos valores"
   ]
  },
  {
   "cell_type": "code",
   "execution_count": 29,
   "metadata": {},
   "outputs": [
    {
     "data": {
      "text/html": [
       "<div>\n",
       "<style scoped>\n",
       "    .dataframe tbody tr th:only-of-type {\n",
       "        vertical-align: middle;\n",
       "    }\n",
       "\n",
       "    .dataframe tbody tr th {\n",
       "        vertical-align: top;\n",
       "    }\n",
       "\n",
       "    .dataframe thead th {\n",
       "        text-align: right;\n",
       "    }\n",
       "</style>\n",
       "<table border=\"1\" class=\"dataframe\">\n",
       "  <thead>\n",
       "    <tr style=\"text-align: right;\">\n",
       "      <th></th>\n",
       "      <th>País</th>\n",
       "      <th>Capital</th>\n",
       "      <th>População</th>\n",
       "    </tr>\n",
       "  </thead>\n",
       "  <tbody>\n",
       "    <tr>\n",
       "      <th>0</th>\n",
       "      <td>Portugal</td>\n",
       "      <td>Lisboa</td>\n",
       "      <td>751000</td>\n",
       "    </tr>\n",
       "    <tr>\n",
       "      <th>1</th>\n",
       "      <td>PortugalPeru</td>\n",
       "      <td>LisboaLima</td>\n",
       "      <td>1871000</td>\n",
       "    </tr>\n",
       "    <tr>\n",
       "      <th>2</th>\n",
       "      <td>PortugalPeruChile</td>\n",
       "      <td>LisboaLimaSantiago</td>\n",
       "      <td>2566000</td>\n",
       "    </tr>\n",
       "  </tbody>\n",
       "</table>\n",
       "</div>"
      ],
      "text/plain": [
       "                País             Capital População\n",
       "0           Portugal              Lisboa    751000\n",
       "1       PortugalPeru          LisboaLima   1871000\n",
       "2  PortugalPeruChile  LisboaLimaSantiago   2566000"
      ]
     },
     "execution_count": 29,
     "metadata": {},
     "output_type": "execute_result"
    }
   ],
   "source": [
    "df.cumsum()                   # soma acumulada"
   ]
  },
  {
   "cell_type": "code",
   "execution_count": 30,
   "metadata": {},
   "outputs": [
    {
     "data": {
      "text/plain": [
       "(País          Chile\n",
       " Capital        Lima\n",
       " População    695000\n",
       " dtype: object, País         Portugal\n",
       " Capital      Santiago\n",
       " População     1120000\n",
       " dtype: object)"
      ]
     },
     "execution_count": 30,
     "metadata": {},
     "output_type": "execute_result"
    }
   ],
   "source": [
    "df.min(), df.max()            # valores mín e máx"
   ]
  },
  {
   "cell_type": "code",
   "execution_count": 31,
   "metadata": {},
   "outputs": [
    {
     "data": {
      "text/html": [
       "<div>\n",
       "<style scoped>\n",
       "    .dataframe tbody tr th:only-of-type {\n",
       "        vertical-align: middle;\n",
       "    }\n",
       "\n",
       "    .dataframe tbody tr th {\n",
       "        vertical-align: top;\n",
       "    }\n",
       "\n",
       "    .dataframe thead th {\n",
       "        text-align: right;\n",
       "    }\n",
       "</style>\n",
       "<table border=\"1\" class=\"dataframe\">\n",
       "  <thead>\n",
       "    <tr style=\"text-align: right;\">\n",
       "      <th></th>\n",
       "      <th>População</th>\n",
       "    </tr>\n",
       "  </thead>\n",
       "  <tbody>\n",
       "    <tr>\n",
       "      <th>count</th>\n",
       "      <td>3.000000e+00</td>\n",
       "    </tr>\n",
       "    <tr>\n",
       "      <th>mean</th>\n",
       "      <td>8.553333e+05</td>\n",
       "    </tr>\n",
       "    <tr>\n",
       "      <th>std</th>\n",
       "      <td>2.309120e+05</td>\n",
       "    </tr>\n",
       "    <tr>\n",
       "      <th>min</th>\n",
       "      <td>6.950000e+05</td>\n",
       "    </tr>\n",
       "    <tr>\n",
       "      <th>25%</th>\n",
       "      <td>7.230000e+05</td>\n",
       "    </tr>\n",
       "    <tr>\n",
       "      <th>50%</th>\n",
       "      <td>7.510000e+05</td>\n",
       "    </tr>\n",
       "    <tr>\n",
       "      <th>75%</th>\n",
       "      <td>9.355000e+05</td>\n",
       "    </tr>\n",
       "    <tr>\n",
       "      <th>max</th>\n",
       "      <td>1.120000e+06</td>\n",
       "    </tr>\n",
       "  </tbody>\n",
       "</table>\n",
       "</div>"
      ],
      "text/plain": [
       "          População\n",
       "count  3.000000e+00\n",
       "mean   8.553333e+05\n",
       "std    2.309120e+05\n",
       "min    6.950000e+05\n",
       "25%    7.230000e+05\n",
       "50%    7.510000e+05\n",
       "75%    9.355000e+05\n",
       "max    1.120000e+06"
      ]
     },
     "execution_count": 31,
     "metadata": {},
     "output_type": "execute_result"
    }
   ],
   "source": [
    "df.describe()                 # resumo estatístico"
   ]
  },
  {
   "cell_type": "code",
   "execution_count": 33,
   "metadata": {},
   "outputs": [
    {
     "data": {
      "text/plain": [
       "População    855333.333333\n",
       "dtype: float64"
      ]
     },
     "execution_count": 33,
     "metadata": {},
     "output_type": "execute_result"
    }
   ],
   "source": [
    "df.mean()                       # média dos valores"
   ]
  },
  {
   "cell_type": "code",
   "execution_count": 34,
   "metadata": {},
   "outputs": [
    {
     "data": {
      "text/plain": [
       "População    751000.0\n",
       "dtype: float64"
      ]
     },
     "execution_count": 34,
     "metadata": {},
     "output_type": "execute_result"
    }
   ],
   "source": [
    "df.median()                     # mediana dos valores"
   ]
  },
  {
   "attachments": {
    "image.png": {
     "image/png": "[encoded data removed]"
    }
   },
   "cell_type": "markdown",
   "metadata": {},
   "source": [
    "<h3 style=\"color:red\"><b>Exemplo</b></h3>  \n",
    "\n",
    "**Enviar e-mail para uma lista de e-mails de uma planilha.**\n",
    "\n",
    "Hoje em dia, trabalhar com formulários do Google é bastante comum. Eles são usados para reunir informações em massa com facilidade. Os endereços de e-mail são uma das informações mais solicitadas, e nesse caso, estão armazenados em uma planilha. Missão: enviar um e-mail para cada um dos endereços de e-mail presentes na planilha.\n",
    "\n",
    "* Etapa 1: Ler a planilha usando o pacote **pandas**. A estrutura da planilha usada aqui é:  \n",
    "![image.png](attachment:image.png)  \n",
    "* Etapa 2: Estabelecer conexão com uma conta do **gmail** usando o pacote **smtplib**.  \n",
    "* Etapa 3: Extrair os nomes e endereços de e-mail da planilha.  \n",
    "* Etapa 4: Executar um loop e para cada registro e enviar um e-mail.  \n",
    "* Etapa 5: Encerrar a conexão com o servidor **SMTP**.  \n",
    "\n",
    "**Obs.**: Se a conta enviadora de e-mail via SMTP for Gmail, então vc precisa configura-la para diminuir o quesito segurança, permitindo o uso de aplicativos menos seguros na sua conta do Google. Siga este [link](https://dev-yakuza.posstree.com/en/django/gmail-smtp/)"
   ]
  },
  {
   "cell_type": "code",
   "execution_count": 33,
   "metadata": {},
   "outputs": [
    {
     "name": "stdout",
     "output_type": "stream",
     "text": [
      "Conectando ao servidor SMTP...\n",
      "Conectado!\n"
     ]
    }
   ],
   "source": [
    "import pandas as pd\n",
    "import smtplib\n",
    "\n",
    "seu_email = \"prof.claudio.2008.2@gmail.com\"\n",
    "sua_password = \"qwerty2008\"\n",
    "  \n",
    "# estabelecendo conexão com gmail\n",
    "servidor = smtplib.SMTP_SSL('smtp.gmail.com', 465)\n",
    "servidor.ehlo()\n",
    "conectado = True\n",
    "print(\"Conectando ao servidor SMTP...\")\n",
    "try:\n",
    "    servidor.login(seu_email, sua_password)\n",
    "except smtplib.SMTPAuthenicationErroras ex:\n",
    "    print(ex.args[0])\n",
    "    print(\"Erro ao fazer login na conta de email!\")\n",
    "    conectado = False\n",
    "\n",
    "if conectado:\n",
    "    # lendo a planilha de dados\n",
    "    print(\"Conectado!\")\n",
    "    lista_email = pd.read_excel('dat/emails.xlsx')\n",
    "\n",
    "    # obtendo os nomes e os emails\n",
    "    nomes = lista_email['NOME']\n",
    "    emails = lista_email['EMAIL']\n",
    "\n",
    "    # lê os registros e envia emails\n",
    "\n",
    "    # print(nomes,emails)\n",
    "    for i in range(len(emails)):\n",
    "        mensagem = \"Olá \" + nomes[i] + \"!\\n\\nEmail de teste!\"\n",
    "        # print(mensagem.encode('utf-8'))\n",
    "        servidor.sendmail(seu_email, [emails[i]], mensagem.encode('utf-8'))\n",
    "\n",
    "# encerra conexão com o serivdor SMTP\n",
    "servidor.close()\n",
    "print(\"Missão cumprida!\")"
   ]
  },
  {
   "attachments": {
    "image-3.png": {
     "image/png": "[encoded data removed]"
    },
    "image-4.png": {
     "image/png": "[encoded data removed]"
    }
   },
   "cell_type": "markdown",
   "metadata": {},
   "source": [
    "<h3 style=\"color:red\"><b>Exemplo</b></h3>  \n",
    "\n",
    "**Como extrair a coluna E-mail do arquivo Excel e descobrir o tipo de e-mail.**\n",
    "\n",
    "Vamos usar um arquivo Excel com as seguintes informações (ver figura seguinte) e disponível na pasta `dat` deste documento (Jupyter Notebook):\n",
    "![image-4.png](attachment:image-4.png)\n",
    "\n",
    "Abordagem:  \n",
    "- Importe o módulo necessário.\n",
    "- Importe dados do arquivo Excel.\n",
    "- Crie uma coluna extra para cada domínio de e-mail diferente.\n",
    "- Defina um índice, necessário para pesquisa.\n",
    "- Defina o domínio do e-mail.\n",
    "- Pesquise o e-mail e atribua à respectiva coluna no *Dataframe*.\n",
    "\n",
    "Resultado esperado:\n",
    "![image-3.png](attachment:image-3.png)"
   ]
  },
  {
   "cell_type": "code",
   "execution_count": 38,
   "metadata": {},
   "outputs": [
    {
     "name": "stdout",
     "output_type": "stream",
     "text": [
      "DataFrame original:\n",
      "               Nome             E-mail\n",
      "0   Artur dos Reis      xyz@gmail.com\n",
      "1   Maria de Jesus    maria@gmail.com\n",
      "2    João da Silva       js@yahoo.com\n",
      "3  Sônia do Amaral    sonia@yahoo.com\n",
      "4     Paulo Mendes  pmendes@yahoo.com\n"
     ]
    },
    {
     "data": {
      "text/html": [
       "<div>\n",
       "<style scoped>\n",
       "    .dataframe tbody tr th:only-of-type {\n",
       "        vertical-align: middle;\n",
       "    }\n",
       "\n",
       "    .dataframe tbody tr th {\n",
       "        vertical-align: top;\n",
       "    }\n",
       "\n",
       "    .dataframe thead th {\n",
       "        text-align: right;\n",
       "    }\n",
       "</style>\n",
       "<table border=\"1\" class=\"dataframe\">\n",
       "  <thead>\n",
       "    <tr style=\"text-align: right;\">\n",
       "      <th></th>\n",
       "      <th>Nome</th>\n",
       "      <th>E-mail</th>\n",
       "      <th>Google-mail</th>\n",
       "      <th>Yahoo-mail</th>\n",
       "    </tr>\n",
       "  </thead>\n",
       "  <tbody>\n",
       "    <tr>\n",
       "      <th>0</th>\n",
       "      <td>Artur dos Reis</td>\n",
       "      <td>xyz@gmail.com</td>\n",
       "      <td>E-mail Google</td>\n",
       "      <td>Conta não pertence ao Yahoo</td>\n",
       "    </tr>\n",
       "    <tr>\n",
       "      <th>1</th>\n",
       "      <td>Maria de Jesus</td>\n",
       "      <td>maria@gmail.com</td>\n",
       "      <td>E-mail Google</td>\n",
       "      <td>Conta não pertence ao Yahoo</td>\n",
       "    </tr>\n",
       "    <tr>\n",
       "      <th>2</th>\n",
       "      <td>João da Silva</td>\n",
       "      <td>js@yahoo.com</td>\n",
       "      <td>Conta não pertence ao Google</td>\n",
       "      <td>E-mail Yahoo</td>\n",
       "    </tr>\n",
       "    <tr>\n",
       "      <th>3</th>\n",
       "      <td>Sônia do Amaral</td>\n",
       "      <td>sonia@yahoo.com</td>\n",
       "      <td>Conta não pertence ao Google</td>\n",
       "      <td>E-mail Yahoo</td>\n",
       "    </tr>\n",
       "    <tr>\n",
       "      <th>4</th>\n",
       "      <td>Paulo Mendes</td>\n",
       "      <td>pmendes@yahoo.com</td>\n",
       "      <td>Conta não pertence ao Google</td>\n",
       "      <td>E-mail Yahoo</td>\n",
       "    </tr>\n",
       "  </tbody>\n",
       "</table>\n",
       "</div>"
      ],
      "text/plain": [
       "              Nome             E-mail                   Google-mail  \\\n",
       "0   Artur dos Reis      xyz@gmail.com                 E-mail Google   \n",
       "1   Maria de Jesus    maria@gmail.com                 E-mail Google   \n",
       "2    João da Silva       js@yahoo.com  Conta não pertence ao Google   \n",
       "3  Sônia do Amaral    sonia@yahoo.com  Conta não pertence ao Google   \n",
       "4     Paulo Mendes  pmendes@yahoo.com  Conta não pertence ao Google   \n",
       "\n",
       "                    Yahoo-mail  \n",
       "0  Conta não pertence ao Yahoo  \n",
       "1  Conta não pertence ao Yahoo  \n",
       "2                 E-mail Yahoo  \n",
       "3                 E-mail Yahoo  \n",
       "4                 E-mail Yahoo  "
      ]
     },
     "execution_count": 38,
     "metadata": {},
     "output_type": "execute_result"
    }
   ],
   "source": [
    "# importing required module\n",
    "import pandas as pd\n",
    "import re\n",
    "\n",
    "# Criando df a partir dos dados da planilha Excel\n",
    "dados = pd.read_excel(\"dat/agenda.xlsx\")\n",
    "print(\"DataFrame original:\\n\", dados)\n",
    "\n",
    "# Criando colunas, uma cada tipo de e-mail\n",
    "dados['Google-mail'] = None\n",
    "dados['Yahoo-mail'] = None\n",
    "\n",
    "# criando índices\n",
    "ind_conj  = dados.columns.get_loc('E-mail')\n",
    "ind_gmail = dados.columns.get_loc('Google-mail')\n",
    "ind_yahoo = dados.columns.get_loc('Yahoo-mail')\n",
    "\n",
    "# define o padrão do e-mail\n",
    "padraoGoogle = 'gmail.com'\n",
    "padraoYahoo  = 'yahoo.com'\n",
    "\n",
    "# Busca e-mail e armazena no DataFrame\n",
    "for linha in range(0, len(dados)):\n",
    "\tif re.search(padraoGoogle, dados.iat[linha, ind_conj]) == None:\n",
    "\t\tdados.iat[linha, ind_gmail] = 'Conta não pertence ao Google'\n",
    "\telse:\n",
    "\t\tgmail = re.search(padraoGoogle,\n",
    "\t\t\t\t\t\tdados.iat[linha, ind_conj]).group()\n",
    "\t\tdados.iat[linha, ind_gmail] = \"E-mail Google\"\n",
    "\n",
    "\tif re.search(padraoYahoo,\n",
    "\t\t\t\tdados.iat[linha, ind_conj]) == None:\n",
    "\t\tdados.iat[linha, ind_yahoo] = 'Conta não pertence ao Yahoo'\n",
    "\telse:\n",
    "\t\tyahoo = re.search(padraoYahoo, dados.iat[linha, ind_conj]).group()\n",
    "\t\tdados.iat[linha, ind_yahoo] = \"E-mail Yahoo\"\n",
    "\n",
    "dados"
   ]
  },
  {
   "cell_type": "markdown",
   "metadata": {},
   "source": [
    "<img src='img/mediana.gif' alt='Imagem das medianas de um triângulo.' style='float:right;width:400'>\n",
    "\n",
    "<h3 style=\"color:blue; background-color:#F3F2F9\">Lembretes</h3>\n",
    "\n",
    "1. **Mediana**: substantivo feminino.  \n",
    "   1.1.\tGEOMETRIA: segmento de reta que liga o vértice de um triângulo retângulo ao meio do lado oposto.  \n",
    "   1.2.\tESTATÍSTICA: valor que divide um conjunto de valores ordenados em partes iguais (o valor do meio de um conjunto de dados).\n"
   ]
  },
  {
   "cell_type": "markdown",
   "metadata": {},
   "source": [
    "2. **Hashable Type** - Em Python, qualquer objeto imutável (cujo conteúdo não muda durante sua existência no espaço de nomes) como um inteiro, um booleano, uma string, uma tupla, é considerado um tipo de dados *hashable*. Isso permite que o Python crie um valor **hash** exclusivo para identificá-lo, que pode ser usado por dicionários para rastrear chaves exclusivas e conjuntos para rastrear valores exclusivos.  \n",
    "\n",
    "\n",
    "3. **Curiosidades** - Para encontrar o caminho (diretórios) de seu caderno Juýter (**Jupyter Notebook**) podemos usar o módulo de sistema operacional, o pacote `os`. O módulo OS é usado para acessar as funcionalidades (comandos) do sistema operacional. Para encontrar o diretório de seu trabalho atual use a função `os.getcwd()`. A função `os.listdir()` pode ser usada para exibir todos os arquivos no diretório. Você também pode alterar seu diretório de trabalho atual para outro diretório, usando `os.chdir()`."
   ]
  },
  {
   "cell_type": "code",
   "execution_count": 42,
   "metadata": {},
   "outputs": [
    {
     "name": "stdout",
     "output_type": "stream",
     "text": [
      "Diretório do Caderno Jupyter: D:\\python\\cursos\\curso_ifg\\1_basico\\202104\\2_Packages\n",
      "Arquivos no Diretório do Caderno Jupyter:\n",
      " ['.ipynb_checkpoints', '0.Módulos_Científicos.ipynb', '1.Numpy.ipynb', '2.Matplotlib.ipynb', '3.Scipy.ipynb', '4.Pandas.ipynb', '5.OpenCV.ipynb', '6.Análise_AR.ipynb', '7.ExpressãoRegular.ipynb', 'dat', 'img', 'Manual Expressões Regulares em Python.pdf', 'prog1.py', 'Python e outras Linguagens.ipynb', 'Python para Engenheiros.ipynb', 'regular expression regex.pdf', 'rosto.py', 'rotacao.py', 'src', 'teste_video.mp4', 'Trabalho_1.ipynb', 'Untitled.ipynb', 'vetor_x.bin', 'vid', '[Anmol Parande] Understanding and Implementing the Viola-Jones Image Classification Algorithm (post,2019).pdf']\n"
     ]
    }
   ],
   "source": [
    "import os\n",
    "print(\"Diretório do Caderno Jupyter:\", os.getcwd())\n",
    "print(\"Arquivos no Diretório do Caderno Jupyter:\\n\", os.listdir(os.getcwd()))"
   ]
  },
  {
   "cell_type": "markdown",
   "metadata": {},
   "source": [
    "Fontes:\n",
    "1. https://pandas.pydata.org/docs/user_guide/10min.html#min\n",
    "1. https://medium.com/horadecodar/data-science-tips-02-como-usar-loc-e-iloc-no-pandas-fab58e214d87\n",
    "1. https://towardsdatascience.com/6-lesser-known-pandas-plotting-tools-fda5adb232ef\n",
    "1. https://www.shanelynn.ie/python-pandas-read-csv-load-data-from-csv-files/\n",
    "1. https://pynative.com/python-pandas-dataframe/#h-what-is-dataframe-in-pandas\n"
   ]
  },
  {
   "cell_type": "markdown",
   "metadata": {},
   "source": [
    "<p style=\"text-align:center;\">>>>>> <a href=\"http:/notebooks/index.ipynb\">Volta ao Índice... </a><<<<<"
   ]
  },
  {
   "cell_type": "code",
   "execution_count": 12,
   "metadata": {},
   "outputs": [
    {
     "name": "stdout",
     "output_type": "stream",
     "text": [
      "ANA é um palíndromo\n",
      "TESTE não é um palíndromo\n"
     ]
    }
   ],
   "source": [
    "# arquivo palindromo.py\n",
    "# palindromo (testa se a palavra é um palíndromo)\n",
    "def palindromo(palavra):\n",
    "    palavra = palavra.upper()\n",
    "    p = (\"\" if palavra == palavra[::-1] else \"não \")\n",
    "    return (f\"{palavra} {p}é um palíndromo\")\n",
    "\n",
    "print(palindromo(\"ANA\"))\n",
    "print(palindromo(\"TESTE\"))"
   ]
  }
 ],
 "metadata": {
  "kernelspec": {
   "display_name": "Python 3 (ipykernel)",
   "language": "python",
   "name": "python3"
  },
  "language_info": {
   "codemirror_mode": {
    "name": "ipython",
    "version": 3
   },
   "file_extension": ".py",
   "mimetype": "text/x-python",
   "name": "python",
   "nbconvert_exporter": "python",
   "pygments_lexer": "ipython3",
   "version": "3.8.12"
  }
 },
 "nbformat": 4,
 "nbformat_minor": 2
}
