{
 "cells": [
  {
   "cell_type": "markdown",
   "id": "2a62363b",
   "metadata": {},
   "source": [
    "# Curso de Introdução à Ling. Python\n",
    "### Aula 3 - NUMPY e Controle de Fluxo de Execução (if/for/while)\n",
    "\n",
    "Exemplo de manipulação de arranjos numéricos e listas..."
   ]
  },
  {
   "cell_type": "code",
   "execution_count": 2,
   "id": "52a0e80a",
   "metadata": {},
   "outputs": [
    {
     "name": "stdout",
     "output_type": "stream",
     "text": [
      "Pedro bó Ana Maria 20.0\n",
      "<class 'numpy.ndarray'> <class 'list'>\n",
      "[10.     20.     33.      3.1415]\n",
      "Notas Bim.1: 3.0 6.0 4.0 3.0 5.0 2.0 1.0 8.0 5.0 \n",
      "Notas Bim.2: 5.0 4.0 3.0 6.0 5.0 7.0 5.0 8.0 2.0 \n",
      "Médias:      4.0 5.0 3.5 4.5 5.0 4.5 3.0 8.0 3.5 "
     ]
    }
   ],
   "source": [
    "import numpy as np\n",
    "nomes = ['joão','pedro bó','ana maria',True,-1991,['Rua 10, 443, Centro',223,'Goiânia']]\n",
    "idades = np.array([10,20,33,3.1415])\n",
    "print(nomes[1].capitalize(), nomes[2].title(), idades[1])\n",
    "print(type(idades), type(nomes))\n",
    "print(idades)\n",
    "notas = np.array([[3,6,4,3,5,2,1,8,5],\n",
    "                  [5,4,3,6,5,7,5,8,2]],dtype=float)\n",
    "print(\"Notas Bim.1:\", end=' ')\n",
    "for col in range(0,9):\n",
    "    print(\"%3.1f\" % notas[0,col], end=' ')\n",
    "print(\"\\nNotas Bim.2:\", end=' ')\n",
    "for col in range(0,9):\n",
    "    print(\"%3.1f\" % notas[1,col], end=' ')\n",
    "\n",
    "medias = np.zeros(9)\n",
    "for col in range(0,9):\n",
    "    soma_col = 0\n",
    "    for lin in range(0,2):\n",
    "        soma_col += notas[lin][col]\n",
    "    medias[col] = soma_col/2\n",
    "print(\"\\nMédias:     \", end=' ')\n",
    "for col in range(0,9):\n",
    "    # print(\"%3.1f\" % medias[col], end=' ')\n",
    "    print(f\"{medias[col]:3.1f}\", end=' ')"
   ]
  },
  {
   "cell_type": "markdown",
   "id": "6302e294",
   "metadata": {},
   "source": [
    "Cálculo de médias com apenas uma linha de comando:"
   ]
  },
  {
   "cell_type": "code",
   "execution_count": 2,
   "id": "99c9e227",
   "metadata": {},
   "outputs": [
    {
     "data": {
      "text/plain": [
       "array([4. , 5. , 3.5, 4.5, 5. , 4.5, 3. , 8. , 3.5])"
      ]
     },
     "execution_count": 2,
     "metadata": {},
     "output_type": "execute_result"
    }
   ],
   "source": [
    "medias = notas.sum(axis=0)/2\n",
    "medias"
   ]
  },
  {
   "cell_type": "code",
   "execution_count": 3,
   "id": "2071b519",
   "metadata": {},
   "outputs": [
    {
     "data": {
      "text/plain": [
       "array([4. , 5. , 3.5, 4.5, 5. , 4.5, 3. , 8. , 3.5])"
      ]
     },
     "execution_count": 3,
     "metadata": {},
     "output_type": "execute_result"
    }
   ],
   "source": [
    "medias = notas.mean(axis=0)\n",
    "medias"
   ]
  },
  {
   "cell_type": "code",
   "execution_count": 3,
   "id": "de8ae221",
   "metadata": {},
   "outputs": [
    {
     "name": "stdout",
     "output_type": "stream",
     "text": [
      "1, 2, 3, 4, "
     ]
    }
   ],
   "source": [
    "for i in range(1,5):\n",
    "    print(i, end=', ')"
   ]
  },
  {
   "cell_type": "markdown",
   "id": "b3434973",
   "metadata": {},
   "source": [
    "### Achatamento e Remodelagem de Vetores"
   ]
  },
  {
   "cell_type": "code",
   "execution_count": 4,
   "id": "8f6c33bb",
   "metadata": {},
   "outputs": [
    {
     "name": "stdout",
     "output_type": "stream",
     "text": [
      "[ 1.  2.  3.  4.  5.  6.  7.  8.  9. 10. 11. 12. 13. 14. 15.]\n",
      "[[ 1.  2.  3.]\n",
      " [ 4.  5.  6.]\n",
      " [ 7.  8.  9.]\n",
      " [10. 11. 12.]\n",
      " [13. 14. 15.]]\n",
      "[ 1.  2.  3.  4.  5.  6.  7.  8.  9. 10. 11. 12. 13. 14. 15.]\n",
      "[ 1.  2.  3.  4.  5.  6.  7.  8.  9. 10. 11. 12. 13. 14. 15.]\n"
     ]
    }
   ],
   "source": [
    "x = np.zeros(15)\n",
    "for i in np.arange(1,16):\n",
    "    x[i-1] = i\n",
    "print(x) \n",
    "y = x.reshape(5,3)\n",
    "print(y)\n",
    "print(np.ravel(y))\n",
    "print(y.flatten())"
   ]
  }
 ],
 "metadata": {
  "kernelspec": {
   "display_name": "Python 3 (ipykernel)",
   "language": "python",
   "name": "python3"
  },
  "language_info": {
   "codemirror_mode": {
    "name": "ipython",
    "version": 3
   },
   "file_extension": ".py",
   "mimetype": "text/x-python",
   "name": "python",
   "nbconvert_exporter": "python",
   "pygments_lexer": "ipython3",
   "version": "3.9.6"
  }
 },
 "nbformat": 4,
 "nbformat_minor": 5
}
