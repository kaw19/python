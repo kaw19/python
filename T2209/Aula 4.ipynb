{
 "cells": [
  {
   "cell_type": "markdown",
   "metadata": {},
   "source": [
    "# EDLCC's na Prática - Modelos Matemáticos\n",
    "\n",
    "O objetivo da ciência é compreender fenômenos complexos.  \n",
    "O fenômeno em questão pode ser uma parte da natureza, um grupo de indivíduos sociais, a situação do tráfego veicular em Goiânia e assim por diante. \n",
    "\n",
    "Toda abordagem científica é adotada com o intuito de se obter a compreensão do fenômeno a partir de um **modelo matemático** cujas propriedades possam ser analisadas e discutidas. A ideia central é que o **modelo matemático** proporcione um método mais fácil de entendimento do fenômeno, mas que ainda seja complexo o suficiente para preservar as características cruciais do fenômeno modelado.  \n",
    "\n",
    "> `Essencialmente, todos os modelos estão errados, mas alguns são úteis`; **George Edward Pelham Box**, estatístico britânico, 1919-2013.\n",
    "\n",
    "A **modelagem** é, de fato, uma ideia geral com aplicações muito além da ciência. Suponha, por exemplo, que você queira convidar um amigo para ir à sua casa pela primeira vez. Para ajudar seu amigo, você pode enviar um mapa da sua vizinhança. Esse mapa é um **modelo**: ele expõe os marcos mais importantes e deixa de fora bilhões de detalhes que seu amigo pode ignorar para chegar à sua casa. Isto é a essência da modelagem: **um bom modelo deve ser o mais simples possível, mas ainda rico o suficiente para incluir as características importantes que o fenômeno modelado exige**.\n",
    "\n",
    "> `Tudo deve ser apresentado da maneira mais simples possível, porém não mais simples do que isso`; **Albert Einstein**, físico, 1879-1955.  \n",
    "\n",
    "Certamente, as ferramentas aplicadas na modelagem de um determinado fenômeno diferem muito nas diversas disciplinas científicas. Nas ciências naturais, a Matemática ganhou uma posição única como ferramenta-chave para a formulação de modelos. Para estabelecer um modelo, você precisa entender o problema em questão e descrevê-lo com matemática. Normalmente, esse processo resulta num conjunto de equações que devem ser resolvidas para se avaliar o quão realisticamente o modelo descreve o fenômeno.  \n",
    "\n",
    "As **Equações de Diferenças** representam um dos tipos mais simples e eficazes de equações usadas em modelos matemáticos. A matemática é simples e a programação é simples, permitindo que se foque mais na modelagem."
   ]
  },
  {
   "cell_type": "markdown",
   "metadata": {},
   "source": [
    "# Exemplos de Modelagem Matemática\n",
    "\n",
    "## Taxa de Juros\n",
    "Nosso primeiro modelo com Equação de Diferença diz respeito a quanto dinheiro um valor inicial $x_0$ vai render depois de $n$ anos em um banco com taxa de juros anual $p$.  \n",
    "$$ x_n = x_0 \\left (1 + \\frac{p}{100} \\right)^n $$  \n",
    "\n",
    "Infelizmente, essa fórmula surge após algumas suposições limitantes, como a de uma taxa de juros constante ao longo de todos os $n$ anos. Além disso, a fórmula só nos dá a quantia depois de cada ano, não depois de alguns meses ou dias. É muito mais fácil calcular com taxas de juros se configurarmos um modelo em termos de Equação de Diferença e, pois nos permite resolvê-la num computador.\n",
    "\n",
    "O modelo fundamental para as taxas de juros é que uma quantia $x_{n − 1}$ em algum ponto do tempo $t_{n − 1}$ aumenta seu valor com $p$ por cento para uma quantia $x_n$ em outro ponto do tempo $t_n$:  \n",
    "\n",
    "$$x_n=x_{n−1}+\\frac{p}{100}x_{n−1}$$ \n",
    "<center>ou</center>\n",
    "$$x[n]=x[n-1]+\\frac{p}{100}x[n-1]=x[n-1]\\left(1+\\frac{p}{100}\\right)$$\n",
    "\n",
    "Se a variável $n$ conta os anos, $p$ é a taxa de juros anual, e se $p$ é constante, podemos com alguns cálculos aritméticos derivar a seguinte solução:  \n",
    "\n",
    "$$x_n=\\left(1+\\frac{p}{100}\\right ) x_{n−1}=\\left (1+\\frac{p}{100}\\right)^2x_{n−2}=…=\\left(1+\\frac{p}{100}\\right)^nx_0$$  \n",
    "\n",
    "Em vez de primeiro derivar uma fórmula para $x_n$ e depois programar esta fórmula, podemos atacar o modelo fundamental com um *script* Python e calcular $x_1$, $x_2$ e assim por diante:"
   ]
  },
  {
   "cell_type": "code",
   "execution_count": 2,
   "metadata": {},
   "outputs": [
    {
     "name": "stdout",
     "output_type": "stream",
     "text": [
      "[100.         115.         132.25       152.0875     174.900625\n",
      " 201.13571875 231.30607656 266.00198805 305.90228625 351.78762919\n",
      " 404.55577357]\n"
     ]
    },
    {
     "data": {
      "image/png": "[encoded data removed]",
      "text/plain": [
       "<Figure size 432x288 with 1 Axes>"
      ]
     },
     "metadata": {
      "needs_background": "light"
     },
     "output_type": "display_data"
    }
   ],
   "source": [
    "from numpy import zeros\n",
    "from pylab import plot, xlabel, ylabel, grid\n",
    "x0 = 100                      # quantia inicial\n",
    "p = 15                        # taxa de juros: 5% a.a.\n",
    "N = 10                        # tempo de investimento (em anos)\n",
    "tempo = range(N+1)\n",
    "x = zeros(len(tempo))\n",
    "# print(x)\n",
    "\n",
    "# Calcula a solução\n",
    "x[0] = x0                     # capital inicial\n",
    "for n in tempo[1:]:\n",
    "    x[n] = x[n-1] * (1 + p/100)\n",
    "print(x)\n",
    "plot(tempo, x, 'ro'); xlabel('tempo (ano)'); ylabel('quantia'); grid(True)"
   ]
  },
  {
   "cell_type": "markdown",
   "metadata": {},
   "source": [
    "Suponha agora que estamos interessados em calcular o rendimento do dinheiro após $N$ dias. A taxa de juros por dia é considerada como $r = p/D$ se $p$ for a taxa de juros anual e $D$ for o número de dias num ano. O modelo fundamental é o mesmo, mas agora $n$ conta dias e $p$ é substituído por $r$:\n",
    "\n",
    "$$x_n=x_{n−1}+\\frac{r}{100}x_{n−1}$$\n",
    "<center>ou</center>\n",
    "$$x[n]=x[n-1]+\\frac{r}{100}x[n-1]=x[n-1]\\left(1+\\frac{r}{100}\\right)$$\n",
    "\n",
    "Uma prática comum em negócios internacionais é usar $D = 360$, mas pode-se também usar $n$ como o número exato de dias entre duas datas. Python tem um **módulo** chamado **`datetime`** usado nos cálculos com datas e horas. Para encontrar o número de dias entre duas datas, usamos:"
   ]
  },
  {
   "cell_type": "code",
   "execution_count": 3,
   "metadata": {},
   "outputs": [
    {
     "name": "stdout",
     "output_type": "stream",
     "text": [
      "919 dias\n"
     ]
    }
   ],
   "source": [
    "import datetime as dt\n",
    "data1 = dt.date(2020, 3, 15)  # 15/03/2020  (início da pandemia)\n",
    "data2 = dt.date(2022, 9, 20)\n",
    "dif = data2 - data1\n",
    "print(f'{dif.days} dias')"
   ]
  },
  {
   "cell_type": "markdown",
   "metadata": {},
   "source": [
    "Podemos modificar o *script* anterior para calcular em dias ao invés de anos:"
   ]
  },
  {
   "cell_type": "code",
   "execution_count": 8,
   "metadata": {},
   "outputs": [
    {
     "name": "stdout",
     "output_type": "stream",
     "text": [
      "[146.03426729 146.0951149  146.15598787 146.2168862  146.2778099\n",
      " 146.33875899 146.39973347 146.46073336 146.52175866 146.5828094 ]\n"
     ]
    },
    {
     "data": {
      "image/png": "[encoded data removed]",
      "text/plain": [
       "<Figure size 432x288 with 1 Axes>"
      ]
     },
     "metadata": {
      "needs_background": "light"
     },
     "output_type": "display_data"
    }
   ],
   "source": [
    "x0 = 100                      # quantia inicial\n",
    "p = 15                        # taxa de juros anual (%)\n",
    "r = p/360                     # taxa de juros diária (%)\n",
    "N = dif.days                  # base de tempo\n",
    "tempo = range(N+1)\n",
    "x = zeros(len(tempo))\n",
    "\n",
    "# Calcula a solução da EDLCC recursivamente\n",
    "x[0] = x0\n",
    "for n in tempo[1:]:\n",
    "    x[n] = x[n-1] + (r/100.0)*x[n-1]\n",
    "print(x[-11:-1])              # saldo nos últimos 10 dias\n",
    "plot(tempo[::30], x[::30], 'r*'); xlabel('tempo (dia)'); ylabel('quantia (moeda)'); grid(True)"
   ]
  },
  {
   "cell_type": "markdown",
   "metadata": {},
   "source": [
    "Quando a taxa de juros $r$ varia com o tempo, como acontece na vida real, será preciso um ajuste no modelo, escrevendo $r[n]$ para indicar explicitamente a dependência ao tempo. A taxa de juros anual dependente do tempo  é a taxa normalmente especificada e $p[n]$ é geralmente uma função constante (a taxa de juros é alterada em datas específicas e permanece constante até a próxima alteração). A construção de um vetor $p$ num programa, dadas as datas em que $p$ é alterada, pode ser um pouco complicado, pois precisamos calcular o número de dias entre as datas das mudanças do índice $p$. Por ora, vamos assumir um vetor $p$ com as taxas de juros anuais dependentes do tempo para cada dia do período total de aplicação.  "
   ]
  },
  {
   "cell_type": "code",
   "execution_count": 10,
   "metadata": {},
   "outputs": [
    {
     "name": "stdout",
     "output_type": "stream",
     "text": [
      "[105.87180472 105.88931097 105.90683402 105.92437389 105.94193057\n",
      " 105.95950407 105.9770944  105.99470158 106.0123256  106.02996647]\n"
     ]
    },
    {
     "data": {
      "image/png": "[encoded data removed]",
      "text/plain": [
       "<Figure size 432x288 with 1 Axes>"
      ]
     },
     "metadata": {
      "needs_background": "light"
     },
     "output_type": "display_data"
    }
   ],
   "source": [
    "from numpy import zeros, linspace\n",
    "from pylab import plot, xlabel, ylabel, grid, title\n",
    "from datetime import date\n",
    "\n",
    "data1 = date(2020, 11, 3)\n",
    "data2 = date(2021, 12, 31)\n",
    "dif = data2 - data1\n",
    "N = dif.days                  # dias do período de aplicação\n",
    "tempo = range(N+1)\n",
    "p = linspace(4,6,len(tempo))  # taxa de juros anual (%)\n",
    "r = p/360                     # taxa de juros diária (%)\n",
    "x0 = 100                      # quantia inicial\n",
    "x = zeros(len(tempo))\n",
    "\n",
    "# Calcula a solução\n",
    "x[0] = x0\n",
    "for n in tempo[1:]:\n",
    "    x[n] = x[n-1] + (r[n-1]/100.0)*x[n-1]\n",
    "print(x[-11:-1])              # saldo nos últimos 10 dias\n",
    "plot(tempo[::30], x[::30], 'r^'); xlabel('tempo (dia)'); ylabel('quantia (moeda)'); grid(True)"
   ]
  },
  {
   "cell_type": "markdown",
   "metadata": {},
   "source": [
    "## Fatorial\n",
    "\n",
    "A Equação de Diferenças,\n",
    "$$x_n = n.x_{n − 1}, \\rm{com\\;} x_0 = 1$$  \n",
    "pode ser rapidamente resolvida recursivamente:\n",
    "$$x_n = n.x_{n − 1} = n.(n − 1). x_{n − 2} = n.(n − 1).(n − 2).x_{n − 3} = n.(n − 1).(n − 2) ⋯ 1$$\n",
    "<center>ou</center>\n",
    "$$x[n]=n.x[n-1]$$\n",
    "\n",
    "O resultado $x_n$ nada mais é do que o fatorial de $n$, denotado como $n!$. "
   ]
  },
  {
   "cell_type": "code",
   "execution_count": 13,
   "metadata": {},
   "outputs": [
    {
     "name": "stdout",
     "output_type": "stream",
     "text": [
      "7! = 5040\n",
      "[   1    1    2    6   24  120  720 5040]\n"
     ]
    }
   ],
   "source": [
    "N = 7\n",
    "x = zeros(N+1, dtype=int)\n",
    "# print(x)\n",
    "\n",
    "# Calcula a solução\n",
    "x[0] = 1\n",
    "for n in range(1,N+1):\n",
    "    x[n] = n*x[n-1]\n",
    "print(f\"{N}! = {x[-1]}\")      # fatorial de N: N!\n",
    "print(x)"
   ]
  },
  {
   "cell_type": "markdown",
   "metadata": {},
   "source": [
    "## Série de Fibonacci\n",
    "Todo livro didático com algum material sobre sequências geralmente apresenta uma Equação de Diferenças para gerar a **Série de Fibonacci**:  \n",
    "$$x_n = x_{n − 1} + x_{n − 2}, x_0 = 1, x_1 = 1, n = 2,3,…$$\n",
    "<center>ou</center>\n",
    "$$x[n]=x[n-1] + x[n-2],\\;\\;\\;$$ com $x[0]=1$ e $x[1]=1$\n",
    "\n",
    "Essa equação relaciona três elementos da sequência, não apenas dois como nos exemplos anteriores. Esta **Equação de Diferenças** é dita ser de **segunda ordem**, enquanto que para os exemplos anteriores envolvendo dois elementos na sequência são consideradas Equações de Diferenças de primeira ordem. Essa classificação não é importante para calcular a solução num programa, mas para métodos de solução analíticos com papel e caneta, a classificação ajuda a determinar a técnica matemática adequada à solução da equação.\n",
    "\n",
    "Um *script* simples para gerar a **Série de Fibonacci** é mostrado a seguir:"
   ]
  },
  {
   "cell_type": "code",
   "execution_count": 14,
   "metadata": {},
   "outputs": [
    {
     "name": "stdout",
     "output_type": "stream",
     "text": [
      "Quantidade de termos da Série de Fibonacci: 10\n",
      "Série de Fibonacci com 10 termos: [ 1  1  2  3  5  8 13 21 34 55]\n"
     ]
    }
   ],
   "source": [
    "N = int(input(\"Quantidade de termos da Série de Fibonacci: \"))\n",
    "if N > 1:\n",
    "    x = zeros(N, int)\n",
    "    x[0] = 1\n",
    "    x[1] = 1\n",
    "    for n in range(2, N):\n",
    "        x[n] = x[n-1] + x[n-2]\n",
    "    print(f\"Série de Fibonacci com {N} termos: {x}\")\n",
    "else:\n",
    "    print('N deve ser maior que 1!')"
   ]
  },
  {
   "cell_type": "markdown",
   "metadata": {},
   "source": [
    "Como $x_n$ (ou `x[n]`) é uma sequência infinita, poderíamos tentar executar o programa para valores de $N$ bem grandes. Isso provoca dois problemas: os requisitos de armazenamento do vetor `x` podem se tornar muito grandes para o computador, mas muito antes que isso aconteça, o tamanho de `x[n]` vai muito além do maior número inteiro que pode ser representado por elementos `int` em *arrays* (o problema já aparece para `N = 50`). Uma possibilidade é usar elementos de array do tipo `int64` que permite o cálculo de duas vezes mais números do que os elementos do tipo `int` padrão. Uma solução melhor é usar valores de ponto flutuantes no vetor `x[n]`, apesar do fato de que os números em `x[n]` sejam inteiros. Com elementos `float96`, podemos calcular até `N = 23600`.  \n",
    "\n",
    "A melhor solução que consome menos memória é aquela que usa vetor de três elementos para gerar a sequência. Portanto, podemos trabalhar com apenas três variáveis do tipo `int` padrão em Python:"
   ]
  },
  {
   "cell_type": "code",
   "execution_count": 22,
   "metadata": {},
   "outputs": [
    {
     "name": "stdout",
     "output_type": "stream",
     "text": [
      "Qtde de termos da Série de Fibonacci: 20\n",
      "[ 1 1 2 3 5 8 13 21 34 55 89 144 233 377 610 987 1597 2584 4181 6765 ]\n"
     ]
    }
   ],
   "source": [
    "N = int(input(\"Qtde de termos da Série de Fibonacci: \"))\n",
    "if N > 1:\n",
    "    fib1 = 1\n",
    "    fib2 = 1\n",
    "    n = 2\n",
    "    print('[', fib1, fib2, end=\" \")\n",
    "    while n < N:\n",
    "        fibn = fib1 + fib2\n",
    "        print('%d ' % fibn, end=\"\")\n",
    "        fib1 = fib2\n",
    "        fib2 = fibn\n",
    "        n += 1\n",
    "    print(\"]\")\n",
    "else:\n",
    "    print('N deve ser maior que 1!')"
   ]
  },
  {
   "cell_type": "markdown",
   "metadata": {},
   "source": [
    "A vantagem dos números inteiros nativos do Python (ao contrário dos elementos `int` em arranjos **NumPy**) é que eles podem conter inteiros de tamanho arbitrário. Quando o número inteiro é muito grande para o objeto `int` comum, `fibn` se torna um objeto `inteiro longo` que pode conter números inteiros tão grandes quanto a memória do computador permitir. Podemos tentar uma execução com **N** valendo **250**, por exemplo, para produzir o termo de valor 7896325826131730509282738943634332893686268675876375."
   ]
  },
  {
   "cell_type": "markdown",
   "metadata": {},
   "source": [
    "Nos cursos de matemática, você aprende como derivar uma fórmula para o $n$-ésimo termo da Séria de Fibonacci. Essa derivação é muito mais complicada do que escrever um simples *script* para gerar a sequência, mas há muita matemática interessante na derivação e na fórmula resultante!"
   ]
  },
  {
   "cell_type": "markdown",
   "metadata": {},
   "source": [
    "## Crescimento de uma População  \n",
    "\n",
    "Seja $x_{n − 1}$ o número de indivíduos de uma população no tempo $t_{n − 1}$. A população pode consistir em humanos, animais, células ou quaisquer objetos em que o número de nascimentos e mortes seja proporcional ao número de indivíduos. Entre os tempo $t_{n − 1}$ e $t_n$, nascem $b.x_{n − 1}$ indivíduos e $dx_{n − 1}$ indivíduos morrem, onde $b$ e $d$ são valores constantes. O crescimento líquido da população é então $(b − d).x_n$. Usando $r = (b − d).100$ para o fator de crescimento líquido medido em porcentagem, o número de indivíduos a cada período é dado por:\n",
    "$$x_n = x_{n − 1} + \\frac{r}{100}.x_{n − 1}$$\n",
    "\n",
    "Esta é a mesma Equação de Diferenças usada no cálculo da **Taxa de Juros**. Ela modela o crescimento das populações muito bem, desde que haja condições ideais de crescimento para cada indivíduo. Caso contrário, pode-se ajustar o modelo conforme explicado na seção seguinte, **Crescimento Logístico**.\n",
    "\n",
    "Para resolver a EDLCC anterior, precisamos começar com um tamanho conhecido $x_0$ da população. Os parâmetros $b$ e $d$ dependem da diferença de tempo $t_n − t_{n − 1}$, ou seja, os valores de $b$ e $d$ são menores se $n$ contar anos do que se $n$ contar gerações."
   ]
  },
  {
   "cell_type": "markdown",
   "metadata": {},
   "source": [
    "## Crescimento Logístico\n",
    "A Equação de Diferenças para o crescimento de uma população leva a um aumento exponencial no número de indivíduos. O tamanho da população aumenta cada vez mais rápido conforme o tempo $n$ aumenta e $x_n \\rightarrow \\infty$ quando $n \\rightarrow \\infty$. Na vida real, entretanto, existe um limite superior $M$ da quantidade de indivíduos que podem existir no ambiente ao mesmo tempo. Falta de espaço e alimento, competição entre indivíduos, predadores e disseminação de doenças contagiosas são exemplos de fatores que limitam o crescimento. O número $M$ é geralmente chamado de **capacidade de carga do meio ambiente**, a população máxima que é sustentável ao longo do tempo. Com crescimento limitado, o fator de crescimento $r$ deve depender do tempo:  \n",
    "$$x_n = x_{n − 1} + \\frac{r(n − 1)}{100}x_{n − 1}$$\n",
    "<center>ou</center>\n",
    "$$x[n]=x[n-1] + \\frac{r[n − 1]}{100}x[n − 1]=x[n-1] \\left(1+ \\frac{r(n − 1)}{100}\\right)$$\n",
    "\n",
    "No início do processo de crescimento populacional, há recursos suficientes e o crescimento é exponencial, mas à medida que $x_n$ se aproxima de $M$, o crescimento de $r$ deve tender a zero. Uma função simples $r(n)$ com essa propriedade de limitação é mostrada a seguir:\n",
    "$$r(n) = \\rho \\left (1 − \\frac{x_n}{M}\\right)$$\n",
    "\n",
    "Para valores pequenos de $n$, $x_n \\ll M$ e $r(n) \\approx \\rho$, que é a taxa de crescimento com recursos ilimitados. Como $x_n \\rightarrow M$, $r(n) \\rightarrow 0$ como se queria. A equação anterior é usada para modelar o crescimento logístico. A Equação de Diferenças logística correspondente torna-se:\n",
    "$$x_n = x_{n − 1} + \\frac{\\rho}{100}x_{n − 1}\\left (1 − \\frac{x_{n-1}}{M}\\right)$$\n",
    "<center>ou</center>\n",
    "$$x[n]=x[n-1] + \\frac{\\rho}{100}x[n − 1]\\left (1 − \\frac{x[n-1]}{M}\\right)$$\n",
    "\n",
    "Vamos simular para `N = 200` intervalos de tempo começando com uma população de `x[0] = 100` indivíduos, uma capacidade de carga de `M = 500` e crescimento inicial de $\\rho = 4$ por cento em cada intervalo de tempo:"
   ]
  },
  {
   "cell_type": "code",
   "execution_count": 85,
   "metadata": {},
   "outputs": [
    {
     "name": "stdout",
     "output_type": "stream",
     "text": [
      "[499.08681289 499.12327366 499.15828122 499.19189329 499.22416532\n",
      " 499.25515055 499.28490015 499.31346323 499.340887   499.36721676]\n"
     ]
    },
    {
     "data": {
      "image/png": "[encoded data removed]",
      "text/plain": [
       "<Figure size 432x288 with 1 Axes>"
      ]
     },
     "metadata": {
      "needs_background": "light"
     },
     "output_type": "display_data"
    }
   ],
   "source": [
    "x0 = 100              # quantia inicial de indivíduos\n",
    "M = 500               # capacidade de carga\n",
    "rho = 4               # taxa de crescimento inicial em porcentagem\n",
    "N = 200               # número de intervalos de tempo\n",
    "tempo = range(N+1)\n",
    "x = zeros(len(tempo))\n",
    "x[0] = x0\n",
    "for n in tempo[1:]:\n",
    "    x[n] = x[n-1] + (rho/100.0) * x[n-1] * (1 - x[n-1] / M)\n",
    "print(x[-11:-1])\n",
    "plot(tempo, x, 'r'); xlabel('tempo'); ylabel('Qtde de indivíduos'); grid('on')\n",
    "title(\"Crescimento Logístico de População \" \\\n",
    "      + r\"($\\rho =$ %d%%, M = %d, $x_0 =$ %.0f, N = %d)\" % (rho,M,x[0],N));"
   ]
  },
  {
   "cell_type": "markdown",
   "metadata": {},
   "source": [
    "O gráfico anterior mostra como a população se estabiliza, ou seja, que $x_n$ se aproxima de $M$ conforme $n$ se torna grande."
   ]
  },
  {
   "cell_type": "markdown",
   "metadata": {},
   "source": [
    "## Reembolso de Empréstimo  \n",
    "Vamos supor um empréstimo $L$ que deve ser pago em $N$ meses. A prestação a ser paga por mês consiste na fração $L/N$ mais os juros do empréstimo. Suponha que a taxa de juros anual do empréstimo seja $p$ por cento. A taxa de juros mensal é então $p/12$. O valor do empréstimo após o mês $n$ é $x_n$, e a mudança em função de $x_{n − 1}$ pode ser modelada como:\n",
    "$$x_n = x_{n − 1} + \\frac{p}{12⋅100}.x_{n − 1}− \\left (\\frac{p}{12⋅100}.x_{n − 1} + \\frac{L}{N} \\right) = x_{n − 1} − \\frac{L}{N}$$\n",
    "\n",
    "para $n = 1,…, N$. A condição inicial é $x_0 = L$. A solução matemática de equações não homogêneas é mais difícil de encontrar do que a solução de equações homogêneas, mas em termos de programação não há grande diferença: apenas adicionamos o termo extra $−L/N$ na Equação de Diferenças.\n",
    "\n",
    "A solução da equação anterior não é particularmente importante para o tomador do empréstimo que apenas fica sabendo do tamanho da dívida. O que é mais interessante é o que ele deve pagar a cada mês, $y_n$. Pode-se acompanhar o valor da parcela, $y_n$, e o saldo da dívida, $x_n$, em uma variante do modelo anterior:\n",
    "$$y_n = \\frac{p}{12⋅100}.x_{n − 1} + \\frac{L}{N}$$\n",
    "$$x_n = x_{n − 1} + \\frac{p}{12⋅100}.x_{n − 1}− y_n$$\n",
    "\n",
    "As duas equações anteriores compõem um sistema de Equações de Diferenças. Em um *script*, simplesmente atualizamos `y[n]` primeiro e, em seguida, atualizamos `x[n]`, dentro de um laço sobre `n`."
   ]
  },
  {
   "cell_type": "markdown",
   "metadata": {},
   "source": [
    "## Integral como Equação de Diferenças\n",
    "Suponha que uma função $f(x)$ seja definida como a integral:\n",
    "$$f(x) = \\int\\limits_{a}^x g(t)dt$$\n",
    "\n",
    "Nosso objetivo é avaliar $f(x)$ em um conjunto de pontos $x_0 = a < x_1 ⋯ < x_N$. O valor $f(x_n)$ para qualquer $0≤n≤N$ pode ser obtido usando a regra trapezoidal para integração:\n",
    "$$f(x_n) = \\sum_{k=0}^{n-1} \\frac{1}{2}(x_{k+1}-x_k)(g(x_k) + g(x_{k+1}))$$\n",
    "\n",
    "que nada mais é do que a soma das áreas dos trapézios até o ponto $x_n$. Percebemos que $f(x_{n + 1})$ é a soma dada pela equação anterior mais a área do próximo trapézio:\n",
    "$$f(x_{n+1}) = f(x_n) + \\frac{1}{2}(x_{n+1}-x_n)(g(x_n) + g(x_{n+1}))$$\n",
    "\n",
    "Esta é uma fórmula muito mais eficiente do que usar o somatório, apenas substituindo $n$ por $n + 1$, uma vez que não precisamos recalcular as áreas dos primeiros $n$ trapézios.\n",
    "\n",
    "A última equação mostra a ideia de calcular todos os valores $f(x_n)$ por meio de uma Equação de Diferenças. Defina $f_n$ como $f(xn)$ e considere $x_0 = a$ e $x_1,…, x_N$ como dado. Sabemos que $f_0 = 0$. Então:  \n",
    "$$f_n = f_{n-1} + \\frac{1}{2}(x_{n}-x_{n-1})(g(x_{n-1}) + g(x_n))$$\n",
    "\n",
    "para $n = 1,2,…, N$. Ao introduzir $g_n$ para $g(x_n)$ como uma variável extra na Equação de Diferenças, podemos evitar recalcular $g(x_n)$ quando calculamos $f_{n + 1}$:  \n",
    "$$\\begin{align}\n",
    "g_n &= g(x_n)\\\\ \n",
    "f_n &= f_{n-1} + \\frac{1}{2}(x_{n}-x_{n-1})(g_{n-1} + g_n)\n",
    "\\end{align}$$\n",
    "\n",
    "com as condições iniciais $f_0 = 0$ e $g_0 = g(a)$.\n",
    "\n",
    "Uma função de um *script* pode receber `g`, `a`, `x` e `N` como entrada e retornar matrizes $x$ e $f$ para $x_0,…, x_N$ e os valores integrais correspondentes $f_0,…, f_N$:  "
   ]
  },
  {
   "cell_type": "code",
   "execution_count": 24,
   "metadata": {},
   "outputs": [
    {
     "data": {
      "image/png": "[encoded data removed]",
      "text/plain": [
       "<Figure size 432x288 with 1 Axes>"
      ]
     },
     "metadata": {
      "needs_background": "light"
     },
     "output_type": "display_data"
    }
   ],
   "source": [
    "from numpy import zeros_like, exp, sqrt, linspace\n",
    "import pylab as plt\n",
    "def g(x):                     # função a ser integrada\n",
    "    return x*x                # exemplo: função quadrática\n",
    "\n",
    "def integral(g, a, b, N=20):\n",
    "    \"\"\" Calcula a integral da função g(x), usando o método trapezoidal\n",
    "          g - função a ser integrada\n",
    "          a - limite inferior da integral\n",
    "          b - limite superior da integral\n",
    "          N - qtde de fatias no tempo\n",
    "    \"\"\"\n",
    "    tempo = range(N+1)\n",
    "    x_ = linspace(a, b, N+1)\n",
    "    g_ = zeros_like(x_)\n",
    "    f_ = zeros_like(x_)\n",
    "    g_[0] = g(x_[0])\n",
    "    f_[0] = 0\n",
    "\n",
    "    for n in tempo[1:]:\n",
    "        g_[n] = g(x_[n])\n",
    "        f_[n] = f_[n-1] + 0.5*(x_[n] - x_[n-1])*(g_[n-1] + g_[n])\n",
    "    return x_, f_\n",
    "\n",
    "t, area = integral(g,0,3,50)  # integral de x^2, de 0 a 3: x^3/3 {0 a 3} = 3^3/3 = 9\n",
    "x0,y0 = t[0], area[0]\n",
    "for i, xf in enumerate(t):\n",
    "    yf = area[i]\n",
    "    plt.fill_between([x0,xf],[y0,yf]);\n",
    "    x0,y0 = xf,yf\n",
    "plt.plot(t,area,color='r',linewidth=3)\n",
    "plt.title(\"$\\int_{0}^3 t^2 dt$ = %.7f\" % area[-1]);\n",
    "# print(area)"
   ]
  },
  {
   "cell_type": "markdown",
   "metadata": {},
   "source": [
    "## Série de Taylor como Equação de Diferenças\n",
    "Considere o seguinte sistema de duas Equações de Diferenças:\n",
    "$$\\begin{align}\n",
    "e_n &= e_{n-1} + a_{n-1}\\\\ \n",
    "a_n &= {x\\over n} a_{n-1}\n",
    "\\end{align}$$\n",
    "\n",
    "Com condições iniciais $e_0 = 0$ e $a_0 = 1$. Podemos começar a aninhar a solução:\n",
    "$$\\begin{align*}\n",
    "e_1 &= 0 + a_0 = 0 + 1 = 1,\\\\ \n",
    "a_1 &= x,\\\\ \n",
    "e_2 &= e_1 + a_1= 1+x,\\\\ \n",
    "a_2 &= {x\\over2}a_1 = {x^2\\over 2},\\\\ \n",
    "e_3 &= e_2 + a_2 = 1 + x + {x^2\\over 2},\\\\ \n",
    "e_4 &= 1 + x + {x^2\\over 2} + {x^3\\over 3\\cdot 2},\\\\ \n",
    "e_5 &= 1 + x + {x^2\\over 2} + {x^3\\over 3\\cdot 2} + {x^4\\over 4\\cdot 3\\cdot 2}\n",
    "\\end{align*}$$\n",
    "\n",
    "O leitor atento às aulas de cálculo sobre a **Série Taylor** deve ter reconhecido isso como a série Taylor de $e^x$:\n",
    "$$ e^x= \\sum_{n=0}^\\infty {x^n\\over n!}$$\n",
    "\n",
    "Como derivamos um sistema como esse para calcular a aproximação polinomial de Taylor para $e^x$? O ponto de partida é a soma $ \\sum_{n=0}^\\infty {x^n\\over n!}$. Essa soma é codificada pela adição de novos termos a uma variável de acumulação em um loop. A contrapartida matemática deste código é uma Equação de Diferenças:\n",
    "$$e_{n+1} = e_{n} + {x^{n}\\over {n}!},\\quad e_{0}=0,\\ n=0,1,2,\\ldots$$\n",
    "\n",
    "ou de forma equivalente (apenas substituindo $n$ por $n − 1$):  \n",
    "$$e_{n} = e_{n-1} + {x^{n-1}\\over {(n-1)}!},\\quad e_{0}=0,\\ n=0,1,2,\\ldots$$\n",
    "\n",
    "Agora vem a observação importante: o termo $x_n/n!$ contém muitos dos cálculos que já executamos para o termo anterior $x_{n − 1}/(n − 1)!$ porque\n",
    "$$\\begin{equation*} {x^{n}\\over n!} = {x\\cdot x \\cdots x\\over n(n-1)(n-2)\\cdots 1},\\quad\n",
    "{x^{n-1}\\over (n-1)!} = {x\\cdot x \\cdots x\\over (n-1)(n-2)(n-3)\\cdots 1}\\end{equation*}$$\n",
    "\n",
    "Seja $a_n = x^n / n!$. Vemos que podemos ir de $a_{n − 1}$ para $a_n$ multiplicando $a_{n − 1}$ por $x / n$:\n",
    "$${x\\over n}a_{n-1}={x\\over n}{x^{n-1}\\over (n-1)!} = {x^n\\over n!}= a_{n}$$\n",
    "\n",
    "que nada mais é do que Equação de Diferenças anterior. Também percebemos que $a_0 = 1$ é a condição inicial para esta Equação de Diferenças. Em outras palavras, uma equação faz a soma do polinômio de Taylor e a outra atualiza cada termo da soma."
   ]
  },
  {
   "cell_type": "code",
   "execution_count": 115,
   "metadata": {},
   "outputs": [],
   "source": [
    "def exp_eqdif(x, N):\n",
    "    n = 1\n",
    "    an_prev = 1.0                 # pimeiro termo, a_0\n",
    "    en_prev = 0.0                 # primeira soma, e_0\n",
    "    while n <= N:\n",
    "        en = en_prev + an_prev\n",
    "        an = x/n * an_prev\n",
    "        en_prev, an_prev = en, an\n",
    "        n += 1\n",
    "    return en"
   ]
  },
  {
   "cell_type": "markdown",
   "metadata": {},
   "source": [
    "Observe que não armazenamos as sequências em vetores, mas aproveitamos o fato de que apenas o elemento da sequência mais recente é necessário para calcular um novo elemento. A função acima junto com uma avaliação direta da série de Taylor para $e^x$ e uma comparação com o resultado exato para vários valores $N$ podem ser visto no *script* seguinte:"
   ]
  },
  {
   "cell_type": "code",
   "execution_count": 123,
   "metadata": {},
   "outputs": [
    {
     "name": "stdout",
     "output_type": "stream",
     "text": [
      "exp(1) = 2.718281828459045\n",
      "   N =   2  exp_eqdif = 2.000000000000000  exp_soma = 2.000000000000000\n",
      "   N =   4  exp_eqdif = 2.666666666666667  exp_soma = 2.666666666666667\n",
      "   N =   8  exp_eqdif = 2.718253968253968  exp_soma = 2.718253968253968\n",
      "   N =  16  exp_eqdif = 2.718281828458995  exp_soma = 2.718281828458995\n",
      "   N =  32  exp_eqdif = 2.718281828459046  exp_soma = 2.718281828459046\n",
      "   N =  64  exp_eqdif = 2.718281828459046  exp_soma = 2.718281828459046\n"
     ]
    }
   ],
   "source": [
    "# Avaliação direta da soma\n",
    "def exp_soma(x, N):\n",
    "    fat = 1\n",
    "    e = 0\n",
    "    for n in range(N):\n",
    "        e += x**n / fat\n",
    "        fat = fat * (n+1)\n",
    "    return e\n",
    "\n",
    "import sys, math\n",
    "x = 1.\n",
    "print('exp(%g) = %.15f' % (x, math.exp(x)))\n",
    "for N in 2, 4, 8, 16, 32, 64:\n",
    "    print('   N = %3d  exp_eqdif = %.15f  exp_soma = %.15f' % (N, exp_eqdif(x,N), exp_soma(x,N)))"
   ]
  },
  {
   "cell_type": "markdown",
   "metadata": {},
   "source": [
    "## Ganhando a Vida com uma Fortuna\n",
    "Suponha que você recebeu uma fortuna $F$ (herança, loteria etc.). Você investiu o dinheiro de uma forma segura, com juros de $p$ por cento ao ano. Você planeja consumir uma quantidade $c_n$, onde $n$ indica os anos. O desenvolvimento de sua fortuna $x_n$ de um ano para o outro pode então ser modelado por:\n",
    "$$x_n = x_{n-1} + {p\\over 100}x_{n-1} - c_{n-1},\\quad x_0=F$$\n",
    "<center>ou</center>\n",
    "$$x[n]=x[n-1] + \\frac{p}{100}x[n − 1]- c[n-1], \\quad x[0]=F$$\n",
    "\n",
    "Um exemplo simples é manter $c_n$ constante, digamos $q$ por cento dos juros no primeiro ano:\n",
    "$$x_n = x_{n-1} + {p\\over 100}x_{n-1} - {q\\over 100}\\left({p\\over 100}F\\right),\\quad x_0=F$$\n",
    "\n",
    "Um modelo mais realista é assumir uma inflação de 2% ao ano. Então, você gostaria de aumentar $c_n$ o custo da inflação. Podemos estender o modelo de duas maneiras. A maneira mais simples e clara, é acompanhar a evolução das duas sequências, $x_n$ e $c_n$:\n",
    "$$\\begin{align}x_n &= x_{n-1} + {p\\over 100}x_{n-1} - c_{n-1},\\quad x_0=F, c_0 = {pq\\over 10^4}F \\\\ \n",
    "c_n &= c_{n-1} + {I\\over100}c_{n-1}\\end{align}$$\n",
    "\n",
    "Este é um sistema de duas Equações de Diferenças com duas incógnitas. O método de solução, no entanto, não é muito mais complicado do que o método para uma Equação de Diferenças com uma incógnita, uma vez que podemos primeiro calcular $x_n$ e depois atualizar o valor $c_n$. Você é incentivado a escrever um *script* para fazer isso.\n",
    "\n",
    "Outra maneira de fazer a Equação de Diferenças para incluir o custo da inflação é usar uma fórmula explícita para $c_{n − 1}$. Então podemos inserir a fórmula mostrada a seguir na Eq. de Diferenças anterior:\n",
    "$$c_{n-1} = \\left( 1 + {I\\over 100}\\right)^{n-1} {pq\\over 10^4}F$$\n",
    "\n",
    "onde $I$ é a taxa de inflação anual.\n",
    "$$x_n = x_{n-1} + {p\\over 100}x_{n-1} - \\left( 1 + {I\\over 100}\\right)^{n-1} {pq\\over 10^4}F,\\quad x_0=F$$"
   ]
  },
  {
   "cell_type": "markdown",
   "metadata": {},
   "source": [
    "## Método de Newton\n",
    "A Equação de Diferenças:\n",
    "$$x_n = x_{n-1} - {f(x_{n-1})\\over f'(x_{n-1})},\\quad \\hbox{ dado } x_0$$\n",
    "\n",
    "gera uma sequência $x_n$ onde, se a sequência converge (ou seja, se $x_n − x_{n − 1} \\rightarrow 0$), $x_n$ se aproxima de uma raiz de $f(x)$. Ou seja, $x_n \\rightarrow x$, onde $x$ resolve a equação $f(x) = 0$. A equação anterior é o famoso **método de Newton** para resolver equações algébricas não lineares $f(x) = 0$. Quando $f(x)$ não é linear, ou seja, $f(x)$ não está na forma $a.x + b$ (equação de uma reta) com constantes $a$ e $b$, a equação torna-se uma Equação de Diferenças não linear. Isso complica o tratamento analítico das Equações de Diferenças, mas não apresenta dificuldades extras para a solução numérica (computacional).\n",
    "\n",
    "Suponha que queremos resolver a equação: $f(x)=0$.\n",
    "\n",
    "e que já temos uma solução aproximada $x_{n − 1}$. Se $f(x)$ fosse linear, $f(x) = a.x + b$, seria muito fácil resolver $f(x) = 0$: $x = -b / a$. A ideia é, portanto, aproximar $f(x)$ na vizinhança de $x = x_{n − 1}$ por uma função linear, ou seja, uma reta $f(x) \\approx f(x) = a.x + b$. Esta reta deve ter a mesma inclinação que $f(x)$, ou seja, $a = f′(x_{n − 1})$, e ambas, a reta e $f$, devem ter o mesmo valor em $x = x_{n − 1}$. Desta condição pode-se encontrar $b = f(x_{n − 1}) −x_{n − 1}f′(x_{n − 1})$. A função aproximada (reta) é então:\n",
    "$$\\tilde f(x) = f(x_{n-1}) + f'(x_{n-1})(x-x_{n-1})$$\n",
    "\n",
    "Essa expressão contém apenas os dois primeiros termos de uma aproximação da **Série de Taylor** para $f(x)$ em $x = x_{n − 1}$. Agora é fácil resolver $f(x) = 0$ em relação a $x$, e obtemos:\n",
    "$$x = x_{n-1} - {f(x_{n-1})\\over f'(x_{n-1})}$$\n",
    "\n",
    "Uma vez que $\\tilde f$ é apenas uma aproximação de $f$, $x$ é apenas uma aproximação de uma raiz de $f(x) = 0$. Felizmente, a aproximação é melhor do que $x_{n − 1}$, portanto, definimos $x_n = x$ como o próximo termo em uma sequência que esperamos que convirja para a raiz correta. No entanto, a convergência depende muito da forma de $f(x)$, e não há garantia de que o método funcionará sempre.\n",
    "\n",
    "Os programas anteriores para resolver Equações de Diferenças normalmente calcularam uma sequência $x_n$ até $n = N$, onde $N$ é dado. Ao usar a última equação para encontrar raízes de equações não lineares, não sabemos antecipadamente um $N$ adequado que leve a um $x_n$ onde $f(x_n)$ é suficientemente próximo de zero. Portanto, temos que continuar aumentando $n$ até que $f(x_n) < \\epsilon$ para algum $\\epsilon$ pequeno. É claro que se a sequência diverge, deverá haver algum limite máximo permitido em $n$, que podemos considerar como $N$.\n",
    "\n",
    "Pode ser conveniente ter a solução da Equação de Diferenças anterior como uma função para fácil reutilização. Aqui está uma primeira implementação aproximada:"
   ]
  },
  {
   "cell_type": "code",
   "execution_count": null,
   "metadata": {},
   "outputs": [],
   "source": [
    "def metNewton(f, x, dfdx, epsilon=1.0E-7, N=100):\n",
    "    n = 0\n",
    "    while abs(f(x)) > epsilon and n <= N:\n",
    "        x = x - f(x)/dfdx(x)\n",
    "        n += 1\n",
    "    return x, n, f(x)"
   ]
  },
  {
   "cell_type": "markdown",
   "metadata": {},
   "source": [
    "Existem também duas avaliações da função de $f(x)$ em cada passagem no laço de repetição (uma no corpo do laço e uma na condição `while`). Podemos nos safar com apenas uma avaliação se armazenarmos $f(x)$ em uma variável local. Nos pequenos exemplos com $f(x)$ no presente curso, duas vezes mais avaliações da função $f$ conforme necessário, não importa, mas a mesma função de Newton pode de fato ser usada para funções muito mais complicadas, e naqueles casos,o dobro de trabalho pode ser notável. Como um programador, você deve aprender a otimizar o código removendo cálculos desnecessários.\n",
    "\n",
    "Outro problema mais sério é a possibilidade de divisão por zero. Quase tão sério quanto, é dividir por um número muito pequeno que cria um grande valor, o que pode causar divergência no método de Newton. Portanto, devemos testar pequenos valores de $f′(x)$ e escrever um aviso ou gerar (levantar) uma exceção.\n",
    "\n",
    "Outra melhoria possível é adicionar um armazenamento de argumento booleano para indicar se queremos que os valores $(x, f(x))$ durante as iterações sejam armazenados em uma lista ou não. Esses valores intermediários podem ser úteis se quisermos imprimir ou representar graficamente o comportamento de convergência do método de Newton.\n",
    "\n",
    "Uma função de Newton melhorada agora pode ser codificada como:"
   ]
  },
  {
   "cell_type": "code",
   "execution_count": 2,
   "metadata": {},
   "outputs": [],
   "source": [
    "def metNewton(f, x, dfdx, epsilon=1.0E-7, N=100, guarda=False):\n",
    "    f_valor = f(x)\n",
    "    n = 0\n",
    "    if guarda: \n",
    "        info = [(x, f_valor)]\n",
    "    while abs(f_valor) > epsilon and n <= N:\n",
    "        dfdx_valor = float(dfdx(x))\n",
    "        if abs(dfdx_valor) < 1E-14:\n",
    "            raise ValueError(\"Método de Newton: f'(%g) = %g\" % (x, dfdx_valor))\n",
    "        x = x - f_valor/dfdx_valor\n",
    "        n += 1\n",
    "        f_valor = f(x)\n",
    "        if guarda: \n",
    "            info.append((x, f_valor))\n",
    "    if guarda:\n",
    "        return x, info\n",
    "    else:\n",
    "        return x, n, f_valor"
   ]
  },
  {
   "cell_type": "markdown",
   "metadata": {},
   "source": [
    "Observe que para usar a função `metNewton()` precisamos calcular a derivada $f′(x)$, implementá-la como uma função Python e fornecê-la como o argumento `dfdx`. Observe também que o que retornamos depende se armazenamos informações $(x, f(x))$ durante as iterações ou não.\n",
    "\n",
    "É bastante comum testar se `dfdx(x)` é zero em uma implementação do **método de Newton**, mas isso não é estritamente necessário em Python, pois uma exceção `ZeroDivisionError` sempre é gerada se houver uma divisão por zero.\n",
    "\n",
    "Podemos aplicar a função de Newton para resolver a equação $e^{−0.1x^2}sen\\left(\\frac{\\pi}{2} x\\right) = 0$:"
   ]
  },
  {
   "cell_type": "code",
   "execution_count": 158,
   "metadata": {},
   "outputs": [
    {
     "name": "stdout",
     "output_type": "stream",
     "text": [
      "raiz: 1.9999999997684492\n",
      "Iteração   0: f(1.7) = 0.340044\n",
      "Iteração   1: f(1.99215) = 0.00828786\n",
      "Iteração   2: f(1.99998) = 2.53347e-05\n",
      "Iteração   3: f(2) = 2.43808e-10\n"
     ]
    }
   ],
   "source": [
    "from math import sin, cos, exp, pi\n",
    "\n",
    "def g(x):\n",
    "    return exp(-0.1*x*x)*sin(pi/2*x)\n",
    "\n",
    "def dgdx(x):\n",
    "    return -2*0.1*x*exp(-0.1*x*x)*sin(pi/2*x) + \\\n",
    "           pi/2*exp(-0.1*x*x)*cos(pi/2*x)\n",
    "\n",
    "x0 = 1.7\n",
    "x, info = metNewton(g, x0, dgdx, guarda=True)\n",
    "print('raiz:', x)\n",
    "for i in range(len(info)):\n",
    "    print('Iteração %3d: f(%g) = %g' % (i, info[i][0], info[i][1]))"
   ]
  },
  {
   "cell_type": "markdown",
   "metadata": {},
   "source": [
    "Felizmente, percebemos que a função exponencial nunca pode ser zero, então as soluções da equação devem ser os zeros (raizes) da função seno, ou seja, $2\\pi x = i$ para todos os inteiros $i = ..., −2,1,0,1, 2,…$. Isso dá $x = 2i$ como soluções. Vemos pela saída que a convergência é rápida em direção à solução $x = 2$. O erro é da ordem de $10^{−10}$, embora as iterações são paradas quando $f(x) \\le 10^{−7}$.\n",
    "\n",
    "Tentando um valor inicial igual a 3, esperaríamos que o método encontrasse a raiz $x = 2$ ou $x = 4$, mas agora temos:"
   ]
  },
  {
   "cell_type": "code",
   "execution_count": 159,
   "metadata": {},
   "outputs": [
    {
     "name": "stdout",
     "output_type": "stream",
     "text": [
      "raiz: 42.49723316011383\n",
      "Iteração   0: f(3) = -0.40657\n",
      "Iteração   1: f(4.66667) = 0.0981146\n",
      "Iteração   2: f(42.4972) = -2.59037e-79\n"
     ]
    }
   ],
   "source": [
    "x0 = 3\n",
    "x, info = metNewton(g, x0, dgdx, guarda=True)\n",
    "print('raiz:', x)\n",
    "for i in range(len(info)):\n",
    "    print('Iteração %3d: f(%g) = %g' % (i, info[i][0], info[i][1]))"
   ]
  },
  {
   "cell_type": "markdown",
   "metadata": {},
   "source": [
    "Definitivamente $f(x) = 0$ foi resolvida, pois $|f(x)| \\le \\epsilon$, onde $\\epsilon$ é um valor pequeno (aqui $\\epsilon \\sim 10^{−79}$). No entanto, a solução $x\\approx42,5$ não está perto da solução correta ($x = 42$ e $x = 44$ são as soluções mais próximas do $x$ calculado). Você poderia usar seu conhecimento de como funciona o **método de Newton** e descobrir por que tivemos um comportamento tão estranho?\n",
    "\n",
    "Falha do **método de Newton** para resolver $e^{−0.1x^2}sen\\left(\\frac{\\pi}{2} x\\right) = 0$. O gráfico corresponde à segunda raiz encontrada (começando com $x = 3$):"
   ]
  },
  {
   "cell_type": "code",
   "execution_count": 175,
   "metadata": {},
   "outputs": [
    {
     "data": {
      "text/plain": [
       "[(3, -0.40656965974059905),\n",
       " (4.666666666666667, 0.09811462764419367),\n",
       " (42.49723316011383, -2.5903708321373796e-79)]"
      ]
     },
     "execution_count": 175,
     "metadata": {},
     "output_type": "execute_result"
    }
   ],
   "source": [
    "info"
   ]
  },
  {
   "cell_type": "code",
   "execution_count": 174,
   "metadata": {},
   "outputs": [
    {
     "data": {
      "image/png": "[encoded data removed]",
      "text/plain": [
       "<Figure size 1008x360 with 2 Axes>"
      ]
     },
     "metadata": {
      "needs_background": "light"
     },
     "output_type": "display_data"
    }
   ],
   "source": [
    "from numpy import vectorize\n",
    "from pylab import subplot, figure\n",
    "\n",
    "vg = vectorize(g)\n",
    "x = linspace(-2.2,10,1000)\n",
    "figure(figsize=(14,5))\n",
    "subplot(1,2,1); plot(x,vg(x)); grid(True); plot([-2,0,2,4,6,8,10],[0,0,0,0,0,0,0],'ro');\n",
    "plot(info[:][0],info[:][1],'m')\n",
    "x = linspace(5.8,8.2,1000)\n",
    "subplot(1,2,2); plot(x,vg(x)); grid(True); plot([6,8],[0,0],'ro');"
   ]
  },
  {
   "attachments": {
    "image.png": {
     "image/png": "[encoded data removed]"
    }
   },
   "cell_type": "markdown",
   "metadata": {},
   "source": [
    "![image.png](attachment:image.png)"
   ]
  },
  {
   "cell_type": "markdown",
   "metadata": {},
   "source": [
    "## O Inverso de uma Função  \n",
    "\n",
    "Dada uma função $f(x)$, a função inversa de $f$, digamos que a chamemos de $g(x)$, tem a propriedade de que se aplicarmos $g$ ao valor $f(x)$, teremos $x$ de volta:  \n",
    "$$g(f(x)) = x$$  \n",
    "Da mesma forma, se aplicarmos $f$ ao valor $g(x)$, teremos $x$:  \n",
    "$$f (g (x)) = x$$  \n",
    "Geralmente substitui-se $g (x)$ por (digamos) $y$ na equação anterior e a resolve em relação a $y$ para encontrar uma expressão $x$ para a função inversa. Por exemplo, dado $f(x) = x^2−1$, devemos resolver $y^2−1 = x$ em relação a $y$. Para garantir uma solução única para $y$, os valores de $x$ devem ser limitados a um intervalo onde $f(x)$ é monótona, digamos $x \\in [0,1]$ no presente exemplo. Resolvendo para $y$ dá $y = \\sqrt{1 + x}$, portanto $g(x) = \\sqrt{1 + x}$. É fácil verificar que $f(g(x)) = (\\sqrt{1 + x})^2−1 = x$.\n",
    "\n",
    "Numericamente, podemos usar a definição da função inversa $g$ em um ponto de cada vez. Suponha que temos uma sequência de pontos $x_0 x_1 ⋯ x_N$ ao longo do eixo $x$ de modo que $f$ seja monótona em $[x_0, x_N]$: $f(x_0) > f(x_1) > ⋯ > f(x_N)$ ou $f(x_0) < f(x_1) < ⋯ < f(x_N)$. Para cada ponto $x_i$, temos:  \n",
    "\n",
    "$$f(g(x_i)) = x_i$$\n",
    "O valor $g(x_i)$ é desconhecido, então vamos chamá-lo de $\\gamma$. A equação $f(\\gamma) = x_i$ pode ser resolvida para $\\gamma$. No entanto, essa equação é em geral não linear se $f$ for uma função não linear de $x$. Devemos então usar, por exemplo, o **método de Newton** para resolvê-la. O **método de Newton** funciona para equações do tipo $f(x) = 0$, que no  nosso caso é $f(\\gamma) − x_i = 0$, ou seja, buscamos as raízes da função $F(\\gamma) \\equiv  f(\\gamma) − x_i$. Além disso, precisamos da derivada $F′(\\gamma)$ no **método de Newton**. Para simplificar, podemos usar uma diferença finita aproximada:  \n",
    "\n",
    "$$\\begin{equation*} {dF\\over d\\gamma} \\approx {F(\\gamma + h) - F(\\gamma - h)\\over 2h}\\end{equation*}$$\n",
    "\n",
    "Como valor inicial, $\\gamma_0$, podemos usar o valor de $g$ calculado previamente: $g_{i − 1}$. Introduzimos a notação compacta $γ = Newton(F, \\gamma_0)$ para indicar a solução de $F(\\gamma) = 0$ com estimativa inicial $\\gamma_0$.\n",
    "\n",
    "O cálculo de todos os valores $g_0, ..., g_N$ agora pode ser expresso por:\n",
    "$$g_i =  \\textsf{metNewton}(F, g_{i − 1}), \\quad i = 1, ..., N$$\n",
    "\n",
    "e para o primeiro ponto podemos usar $x_0$ como valor inicial (por exemplo):\n",
    "$$g_0 = \\textsf{metNewton}(F, x_0)$$\n",
    "\n",
    "As duas equações anteriores constituem uma Equação de Diferenças para $g_i$, uma vez que dado $g_{i − 1}$, podemos calcular o próximo elemento da sequência por elas. A equação para $g_i$ é exemplo de Equação de Diferenças Não Linear.\n",
    "\n",
    "O *script* a seguir calcula a função inversa $g(x)$ de $f(x)$ em alguns pontos discretos $x_0,…, x_N$. Nossa função exemplo é $f(x) = x^2−1$:"
   ]
  },
  {
   "cell_type": "code",
   "execution_count": 11,
   "metadata": {},
   "outputs": [
    {
     "data": {
      "image/png": "[encoded data removed]",
      "text/plain": [
       "<Figure size 432x288 with 1 Axes>"
      ]
     },
     "metadata": {
      "needs_background": "light"
     },
     "output_type": "display_data"
    }
   ],
   "source": [
    "from pylab import legend\n",
    "from numpy import linspace, zeros\n",
    "from pylab import plot, title, legend\n",
    "\n",
    "def f(x):                   # função quadrática\n",
    "    return x**2\n",
    "\n",
    "def F(gama):                # função Gama\n",
    "    return f(gama) - xi\n",
    "\n",
    "def dFdx(gama):             # primeira derivada da função Gama\n",
    "    return (F(gama+h) - F(gama-h))/(2*h)\n",
    "\n",
    "h = 1E-6\n",
    "x = linspace(0.01, 3, 21)\n",
    "g = zeros(len(x))\n",
    "for i in range(len(x)):\n",
    "    xi = x[i]\n",
    "    # Calcula o valor de início (usa último g[i-1] se possível)\n",
    "    if i == 0:\n",
    "        gama0 = x[0]\n",
    "    else:\n",
    "        gama0 = g[i-1]\n",
    "    gama, n, F_value = metNewton(F, gama0, dFdx)\n",
    "    g[i] = gama\n",
    "plot(x, f(x), 'r-', x, g, 'b-', x, f(x)*g, 'g:'); title('f1')\n",
    "legend(('original', 'inversa','produto'));"
   ]
  },
  {
   "cell_type": "markdown",
   "metadata": {},
   "source": [
    "Observe que com $f (x) = x^2−1, f′(0) = 0$, então o **método de Newton** divide por zero e quebra, a menos que seja $x_0 > 0$, então aqui, definimos $x_0 = 0,01$. A função $f$ pode ser facilmente editada para permitir que o *script* calcule o inverso de outra função. A função $F$ pode permanecer a mesma, pois aplica uma diferença finita geral para aproximar a derivada da função $f(x)$."
   ]
  },
  {
   "cell_type": "markdown",
   "metadata": {},
   "source": [
    "## Exercícios\n",
    "\n",
    "1. Determine o limite de uma sequência:  \n",
    "   a) Escreva uma função Python para calcular e retornar a sequência: $$a_n = {7 + 1/(n+1)\\over 3 - 1/(n+1)^2},\\quad n=0,2,\\ldots,N$$  \n",
    "   b) Escreva uma função Python para calcular e retornar a sequência: $$D_n = {\\sin (2^{-n})\\over 2^{-n}},\\quad n=0,\\ldots,N$$  \n",
    "   c) Dada a sequência: $$D_n = {f(x+h)-f(x)\\over h},\\quad h = 2^{-n}$$faça uma função `D(f, x, N)` que recebe uma função $f(x)$, um valor $x$ e o número $N$ de termos na sequência como argumentos e retorna a sequência $D_n$ para $n = 0, 1,…, N$. Faça uma chamada para a função `D()` com $f(x) = sen(x), x = 0$ e $N = 80$. Trace a evolução dos valores $D_n$ calculados, usando pequenos círculos para os pontos de dados.\n",
    "   d) Faça outra chamada para `D()` onde $x = \\pi$ e plote essa sequência em uma figura separada. Qual seria o seu limite esperado?\n",
    "   e) Explique por que os cálculos para $x = \\pi$ dão errado para $N$ grande.\n",
    "\n",
    "*Dica*: Imprima o numerador e denominador em $D_n$.\n",
    "\n",
    "2. Calcule $\\pi$ por meio de sequências:\n",
    "   Todas as seguintes sequências convergem para $\\pi$:\n",
    "   $$\\begin{align*}\n",
    "(a_n)_{n=1}^\\infty, \\quad a_n &= 4\\sum_{k=1}^n {(-1)^{k+1}\\over 2k-1},\\\\ \n",
    "(b_n)_{n=1}^\\infty, \\quad b_n &= \\left(6\\sum_{k=1}^n k^{-2}\n",
    "\\right)^{1/2},\\\\ \n",
    "(c_n)_{n=1}^\\infty, \\quad c_n &= \\left(\n",
    "90\\sum_{k=1}^n k^{-4}\\right)^{1/4},\\\\ \n",
    "(d_n)_{n=1}^\\infty, \\quad d_n &= {6\\over\\sqrt{3}}\n",
    "\\sum_{k=0}^n {(-1)^{k}\\over 3^k(2k+1)},\\\\ \n",
    "(e_n)_{n=1}^\\infty, \\quad e_n &= 16\n",
    "\\sum_{k=0}^n {(-1)^{k}\\over 5^{2k+1}(2k+1)}\n",
    "- 4\\sum_{k=0}^n {(-1)^{k}\\over 239^{2k+1}(2k+1)}\n",
    "\\end{align*}$$\n",
    "\n",
    "Faça uma função para cada sequência que retorna um vetor com os elementos da sequência. Trace todas as sequências e encontre aquela que converge mais rapidamente para o limite $\\pi$."
   ]
  },
  {
   "cell_type": "markdown",
   "metadata": {},
   "source": [
    "3. Reduza o uso de memória de equações de diferença:  \n",
    "   Considere o _script_ de crescimento em anos da seção **Taxas de juros**. Como $x_n$ depende de $x_{n − 1}$ apenas, não precisamos armazenar todos os $N + 1$ valores de $x_n$. Na verdade, só precisamos armazenar $x_n$ e seu valor anterior $x_{n − 1}$. Modifique o programa para usar duas variáveis e não um vetor para guardar toda a sequência. Evite também a lista `tempo` e use um contador de inteiros para `n` e um loop `while`. Grave a sequência em um arquivo de forma que possa ser visualizada posteriormente."
   ]
  },
  {
   "cell_type": "markdown",
   "metadata": {},
   "source": [
    "4. Resolva um sistema de Equações de Diferenças:  \n",
    "   Resolva as seguintes equações em uma função Python e plote a sequência $x_n$. \n",
    "$$\\begin{align}\n",
    "x_n &= x_{n-1} + {p\\over 100}x_{n-1} - c_{n-1},\\quad x_0=F,\\ c_0 = {pq\\over 10^4}F,\\\\ \n",
    "c_n &= c_{n-1} + {I\\over100}c_{n-1}\n",
    "\\end{align}$$"
   ]
  },
  {
   "cell_type": "markdown",
   "metadata": {},
   "source": [
    "5. Construia pontos de tempo a partir de datas  \n",
    "   Uma certa quantia $p$ (que pode ser uma taxa de juros) é constante por partes e sofre alterações em algumas datas específicas, por exemplo:\n",
    "$$\\begin{equation}  \n",
    "p \\hbox{ muda para }  \n",
    "\\left\\lbrace\\begin{array}{ll}  \n",
    "4.5 &  \\hbox{em 04/01/2019} \\\\ \n",
    "4.75 & \\hbox{em 21/03/2019} \\\\ \n",
    "6.0 &  \\hbox{em 01/04/2019} \\\\ \n",
    "5.0 &  \\hbox{em 30/06/2019} \\\\ \n",
    "4.5 &  \\hbox{em 11/11/2019} \\\\ \n",
    "2.0 &  \\hbox{em 05/04/2020}\n",
    "\\end{array}\\right.\n",
    "\\end{equation}$$"
   ]
  },
  {
   "cell_type": "markdown",
   "metadata": {},
   "source": [
    "6. Visualize a convergência do **método de Newton**:  \n",
    "   Seja $x_0, x_1,…, x_N$ a sequência de raízes geradas pelo **método de Newton** aplicado a uma equação algébrica não linear $f(x) = 0$ (consulte a seção **Método de Newton**). Neste exercício, o objetivo é traçar as sequências $(x_n)_{n=0}^N$ e $(|f(x_n)|)_{n=0}^N$ de modo que possamos entender como o **método de Newton** converge ou diverge.\n",
    "\n",
    "   a) Faça uma função geral: `Newton_plot(f, x, dfdx, xmin, xmax, epsilon=1E-7)` para este propósito. Os argumentos `f` e `dfdx` são funções Python que representam a função $f(x)$ na equação e sua derivada $f ′ (x)$, respectivamente. O **método de Newton** é executado até $|f(x_N)|\\leq\\epsilon$, e o valor $\\epsilon$ está disponível como o argumento `épsilon`. A função `Newton_plot()` deve fazer três gráficos separados de $f (x)$, $(x_n)_{n = 0}^N$ e $(| f (x_n) |)_{n = 0}^N$ na tela e também salvar esses gráficos em arquivos PNG. O intervalo $x$ relevante para a plotagem de $f (x)$ é dado pelos argumentos `xmin` e `xmax`. Devido à escala potencialmente ampla de valores que $| f (x_n) |$ pode exibir, pode ser sábio usar uma escala logarítmica no eixo $y$.  \n",
    "   \n",
    "   b) Demonstre a função na equação $x^6sen(\\pi x) = 0$, com $\\epsilon = 10^{−13}$. Tente diferentes valores iniciais para o **método de Newton**: $x_0 = −2,6,−1,2,1.5,1.7,0,6$. Compare os resultados com as soluções exatas $x =…,−2−1,0,1,2,…$  \n",
    "   \n",
    "   c) Use a função `Newton_plot()` para explorar o impacto do ponto de partida $x_0$ ao resolver as seguintes equações algébricas não lineares:  \n",
    "$$\\begin{align}\n",
    "\\sin x &= 0,\\\\ \n",
    "x &= \\sin x,\\\\ \n",
    "x^5 &= \\sin x,\\\\ \n",
    "x^4\\sin x &= 0,\\\\ \n",
    "x^4 &= 16,\\\\ \n",
    "x^{10} &= 1,\\\\ \n",
    "\\tanh x &= 0,\\\\\n",
    "\\tanh x &= x^{10}\n",
    "\\end{align}$$"
   ]
  },
  {
   "cell_type": "markdown",
   "metadata": {},
   "source": [
    "**Fonte**: Langtangen, H.P.; \"A Primer on Scientific Programming with Python\"; 5ª edição, Springer, 2016.  \n",
    "Disponível em http://hplgit.github.io/primer.html/doc/pub/diffeq/._diffeq-readable001.html#sec:diffeq:integral, acessado em 27/05/2021."
   ]
  }
 ],
 "metadata": {
  "kernelspec": {
   "display_name": "Python 3 (ipykernel)",
   "language": "python",
   "name": "python3"
  },
  "language_info": {
   "codemirror_mode": {
    "name": "ipython",
    "version": 3
   },
   "file_extension": ".py",
   "mimetype": "text/x-python",
   "name": "python",
   "nbconvert_exporter": "python",
   "pygments_lexer": "ipython3",
   "version": "3.9.6"
  }
 },
 "nbformat": 4,
 "nbformat_minor": 4
}
